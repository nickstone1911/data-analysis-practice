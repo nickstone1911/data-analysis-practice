{
  "nbformat": 4,
  "nbformat_minor": 0,
  "metadata": {
    "colab": {
      "provenance": [],
      "include_colab_link": true
    },
    "kernelspec": {
      "name": "python3",
      "display_name": "Python 3"
    },
    "language_info": {
      "name": "python"
    }
  },
  "cells": [
    {
      "cell_type": "markdown",
      "metadata": {
        "id": "view-in-github",
        "colab_type": "text"
      },
      "source": [
        "<a href=\"https://colab.research.google.com/github/nickstone1911/data-analysis-practice/blob/main/Text_Processing_and_Word_Frequency.ipynb\" target=\"_parent\"><img src=\"https://colab.research.google.com/assets/colab-badge.svg\" alt=\"Open In Colab\"/></a>"
      ]
    },
    {
      "cell_type": "markdown",
      "source": [
        "# Lesson 21: Part 1 - Introduction to Text Analysis in Python\n",
        ">- Overview: Text analysis involves programmatically processing text to gain insights or provide capabilities where human language is the underlying input.\n",
        "\n",
        "In this lesson we will discuss the major components of text analysis:\n",
        "\n",
        "1. Introduction to text analysis and why is it importnat\n",
        "2. Several techniques for analyzing text data, including using the `nlkt` and `scikit-learn` python packages\n",
        "3. Preprocessing of text data\n",
        "4. Basic text analysis techniques\n",
        "\n",
        "---\n",
        "\n",
        "\n",
        "\n"
      ],
      "metadata": {
        "id": "nKwtmGMudcS9"
      }
    },
    {
      "cell_type": "markdown",
      "source": [
        "# What is text analysis and why is it important?\n",
        "\n",
        ">- Text analysis the process of extracting meaningful insights from unstructured text data. For example, we use text analysis to determine the topic, sentiment, and/or author of the text.\n",
        ">- Test analysis is important in areas such as understanding customer sentiment, identifying spam, or extracting information from news articles.\n",
        "\n",
        "## What are the different types of text analysis?\n",
        ">- *Sentiment Analysis*: Used to determine the emotional tone (e.g., positive, negative, neutral) of the text\n",
        ">- *Topic Modeling*: Used to identify the main topics in a text\n",
        ">- *Named Entity Recognition*: Used to identify entities such as people, places, and organizations\n",
        ">- *Text Classification*: Used to categorize text into different groups\n",
        "\n",
        "## What are the benefits of using Python for text analysis?\n",
        ">- There are many libraries available for text analysis in Python.\n",
        ">- Python is relatively easy to learn.\n",
        "\n",
        "---"
      ],
      "metadata": {
        "id": "Msazd1TChm6A"
      }
    },
    {
      "cell_type": "markdown",
      "source": [
        "# Preparing text data for analysis\n",
        "\n",
        ">- *Tokenization:* This is the process of splitting a text into individual words or phrases.\n",
        ">>- This is necessary because computers do not understand natural language\n",
        ">>- Tokenization can be done using regular expressions or natural language processing (NLP) libraries.\n",
        "\n",
        ">- *Stop word removal:* This is the process of removing common words that do not add much meaning to the text, such as: \"the\", \"and\", and \"of\".\n",
        ">>- This can be done using a list of stop words or by using an NLP library.\n",
        "\n",
        ">- *Stemming or lemmatization:* This is the process of reducing words to their root form.\n",
        ">>- This can help to improve the accuracy of text analysis algorithms.\n",
        ">>- Stemming is a more aggressive process that removes all affixes, while lemmatization is a more sophisticated process that tries to preserve the meaning of the word.\n",
        "\n",
        ">- *Normalization:* Removing diacritics and other non-essential characters from words.\n",
        ">>- This can help to improve the accuracy of text analysis algorithms.\n",
        "\n",
        "---"
      ],
      "metadata": {
        "id": "AwEey1vyiEw5"
      }
    },
    {
      "cell_type": "markdown",
      "source": [
        "# Basic Text Analysis Techniques\n",
        "\n",
        ">- *Word frequency*: Counting the number of times each word appears in a text.\n",
        ">>- This can be used to identify the most important words in a text.\n",
        ">- *Part-of-speech tagging*: Identifying the part of speech of each word in a text.\n",
        ">>- This can help to understand the meaning of the text.\n",
        ">- *Named entity recognition*: Identifying entities such as people, places, and organizations in a text.\n",
        ">>- This can be used to extract information from the text.\n",
        ">- *Sentiment analysis*: Determining the emotional tone of a text.\n",
        ">>- This can be used to understand the sentiment of the text, such as whether it is positive, negative, or neutral.\n",
        "\n",
        "---"
      ],
      "metadata": {
        "id": "iV8t_KYgjftu"
      }
    },
    {
      "cell_type": "markdown",
      "source": [
        "# Advanced Text Analysis Techniques\n",
        "\n",
        ">- *Topic modeling*: Identifying the main topics in a text.\n",
        ">>- This can be used to summarize a text or extract keywords from a text.\n",
        ">- *Machine translation*: Translating text from one language to another.\n",
        ">>- This can be used to translate documents, websites, or even conversations.\n",
        ">- *Spam filtering*: Identifying spam emails.\n",
        ">>- This can be used to protect users from spam.\n",
        ">- *Chatbots*: Computers that can simulate conversation with humans.\n",
        ">>- Chatbots can be used to provide customer service, answer questions, or even generate creative text formats.\n",
        "\n",
        "---"
      ],
      "metadata": {
        "id": "ylS5fUrSj96w"
      }
    },
    {
      "cell_type": "markdown",
      "source": [
        "# Section 0: Review of Useful String Methods\n",
        "\n",
        "Before diving into text analysis, let's review some useful string methods that will come in handy in many text anlaysis problems.\n",
        "\n",
        "In this section we review:\n",
        "\n",
        "1. Some common string methods such as: `isalpha()`, `lower()`, `startswith()`, `join()`\n",
        "2. Lambda functions\n",
        "3. List comprehensions\n",
        "\n",
        "Resource: [W3schools.com String Methods](https://www.w3schools.com/python/python_strings_methods.asp) is a great resource for reviewing Python and for this lesson string methods."
      ],
      "metadata": {
        "id": "JBNGgDkAkE8G"
      }
    },
    {
      "cell_type": "markdown",
      "source": [
        "## 0.1: Define a string variable"
      ],
      "metadata": {
        "id": "iEotiL9rknuU"
      }
    },
    {
      "cell_type": "markdown",
      "source": [
        "First let's start by defining a string variable:\n",
        "\n",
        "```python\n",
        "mystring = \"this is a quick review of string methods\"\n",
        "```"
      ],
      "metadata": {
        "id": "NcqeuxzXkv1K"
      }
    },
    {
      "cell_type": "code",
      "source": [
        "mystring = \"this is a quick review of string methods\""
      ],
      "metadata": {
        "id": "HLaZ0zCvkq7t"
      },
      "execution_count": null,
      "outputs": []
    },
    {
      "cell_type": "markdown",
      "source": [
        "## 0.2: Recall some common string methods\n",
        "\n",
        ">- Now let's quickly review some string methods"
      ],
      "metadata": {
        "id": "qBqrfSBUk6r1"
      }
    },
    {
      "cell_type": "markdown",
      "source": [
        "Check to see if a string is only letters."
      ],
      "metadata": {
        "id": "E-_KXsQIlTVh"
      }
    },
    {
      "cell_type": "code",
      "source": [
        "mystring.isalpha()"
      ],
      "metadata": {
        "id": "VqHHettklEmB",
        "colab": {
          "base_uri": "https://localhost:8080/"
        },
        "outputId": "c654fb7e-9db1-407e-cae0-549874c5c2a6"
      },
      "execution_count": null,
      "outputs": [
        {
          "output_type": "execute_result",
          "data": {
            "text/plain": [
              "False"
            ]
          },
          "metadata": {},
          "execution_count": 2
        }
      ]
    },
    {
      "cell_type": "markdown",
      "source": [
        "Convert string to all lower case letters."
      ],
      "metadata": {
        "id": "drYhRVhRlg1f"
      }
    },
    {
      "cell_type": "code",
      "source": [
        "mystring.lower()"
      ],
      "metadata": {
        "id": "_a_mBOaqk57m",
        "colab": {
          "base_uri": "https://localhost:8080/",
          "height": 36
        },
        "outputId": "783ea6e3-7fa5-438a-ad0c-e337f15bcbaa"
      },
      "execution_count": null,
      "outputs": [
        {
          "output_type": "execute_result",
          "data": {
            "text/plain": [
              "'this is a quick review of string methods'"
            ],
            "application/vnd.google.colaboratory.intrinsic+json": {
              "type": "string"
            }
          },
          "metadata": {},
          "execution_count": 3
        }
      ]
    },
    {
      "cell_type": "markdown",
      "source": [
        "Split a string into a list based on a seperator. Default split is a space"
      ],
      "metadata": {
        "id": "GhgRfOWols1q"
      }
    },
    {
      "cell_type": "code",
      "source": [
        "mystring = mystring.split(' ')\n",
        "mystring"
      ],
      "metadata": {
        "id": "rFn7EjKPlwdJ",
        "colab": {
          "base_uri": "https://localhost:8080/"
        },
        "outputId": "7029b728-37f9-442c-d92b-5c903cdcabae"
      },
      "execution_count": null,
      "outputs": [
        {
          "output_type": "execute_result",
          "data": {
            "text/plain": [
              "['this', 'is', 'a', 'quick', 'review', 'of', 'string', 'methods']"
            ]
          },
          "metadata": {},
          "execution_count": 4
        }
      ]
    },
    {
      "cell_type": "markdown",
      "source": [
        "Combine a list of strings using `join()`."
      ],
      "metadata": {
        "id": "8qK9QQxBmRjj"
      }
    },
    {
      "cell_type": "code",
      "source": [
        "' '.join(mystring)"
      ],
      "metadata": {
        "id": "g0BhHqkqmUoy",
        "colab": {
          "base_uri": "https://localhost:8080/",
          "height": 36
        },
        "outputId": "b9797b08-e8e7-4372-d21d-581da4a937f3"
      },
      "execution_count": null,
      "outputs": [
        {
          "output_type": "execute_result",
          "data": {
            "text/plain": [
              "'this is a quick review of string methods'"
            ],
            "application/vnd.google.colaboratory.intrinsic+json": {
              "type": "string"
            }
          },
          "metadata": {},
          "execution_count": 5
        }
      ]
    },
    {
      "cell_type": "markdown",
      "source": [
        "Does a word start with a particular set of characters?"
      ],
      "metadata": {
        "id": "fhxtIZkCmm5B"
      }
    },
    {
      "cell_type": "code",
      "source": [
        "for word in mystring:\n",
        "  if word.startswith('t'):\n",
        "    print(word)"
      ],
      "metadata": {
        "id": "ZvRHZQwNmqaY",
        "colab": {
          "base_uri": "https://localhost:8080/"
        },
        "outputId": "c23e0035-354a-424e-bcb9-5d0bffd56dba"
      },
      "execution_count": null,
      "outputs": [
        {
          "output_type": "stream",
          "name": "stdout",
          "text": [
            "this\n"
          ]
        }
      ]
    },
    {
      "cell_type": "markdown",
      "source": [
        "## 0.3: Lambda Functions\n",
        "\n",
        "Recall: lambda functions are short, anonymous functions.\n",
        "\n",
        "We can use lambda function in combination with `apply()` to make changes to a DataFrame column."
      ],
      "metadata": {
        "id": "ddsdzB86m6lx"
      }
    },
    {
      "cell_type": "markdown",
      "source": [
        "First define some quick data in a DataFrame."
      ],
      "metadata": {
        "id": "jlnXHBjqne_5"
      }
    },
    {
      "cell_type": "code",
      "source": [
        "import pandas as pd\n",
        "\n",
        "# define some quick data\n",
        "data = {'text_column': ['apple', 'banana', 'cherry', 'date', 'elderberry']}\n",
        "df = pd.DataFrame(data)"
      ],
      "metadata": {
        "id": "LAfbB97pnFg_"
      },
      "execution_count": null,
      "outputs": []
    },
    {
      "cell_type": "markdown",
      "source": [
        "Now suppose we want to get a count of characters in each word in the `text_column` to form a new column, `char_count`."
      ],
      "metadata": {
        "id": "Jo2FVZuwnhT7"
      }
    },
    {
      "cell_type": "code",
      "source": [
        "df['char_count'] = df['text_column'].apply(lambda x: len(x))\n",
        "\n",
        "df"
      ],
      "metadata": {
        "colab": {
          "base_uri": "https://localhost:8080/",
          "height": 206
        },
        "id": "-oTsQviFIAx0",
        "outputId": "2801b27f-d1d5-43e9-bcce-ab4dd42094a8"
      },
      "execution_count": null,
      "outputs": [
        {
          "output_type": "execute_result",
          "data": {
            "text/plain": [
              "  text_column  char_count\n",
              "0       apple           5\n",
              "1      banana           6\n",
              "2      cherry           6\n",
              "3        date           4\n",
              "4  elderberry          10"
            ],
            "text/html": [
              "\n",
              "  <div id=\"df-3476db8a-33ba-44c5-ae00-da8073fb1ca1\" class=\"colab-df-container\">\n",
              "    <div>\n",
              "<style scoped>\n",
              "    .dataframe tbody tr th:only-of-type {\n",
              "        vertical-align: middle;\n",
              "    }\n",
              "\n",
              "    .dataframe tbody tr th {\n",
              "        vertical-align: top;\n",
              "    }\n",
              "\n",
              "    .dataframe thead th {\n",
              "        text-align: right;\n",
              "    }\n",
              "</style>\n",
              "<table border=\"1\" class=\"dataframe\">\n",
              "  <thead>\n",
              "    <tr style=\"text-align: right;\">\n",
              "      <th></th>\n",
              "      <th>text_column</th>\n",
              "      <th>char_count</th>\n",
              "    </tr>\n",
              "  </thead>\n",
              "  <tbody>\n",
              "    <tr>\n",
              "      <th>0</th>\n",
              "      <td>apple</td>\n",
              "      <td>5</td>\n",
              "    </tr>\n",
              "    <tr>\n",
              "      <th>1</th>\n",
              "      <td>banana</td>\n",
              "      <td>6</td>\n",
              "    </tr>\n",
              "    <tr>\n",
              "      <th>2</th>\n",
              "      <td>cherry</td>\n",
              "      <td>6</td>\n",
              "    </tr>\n",
              "    <tr>\n",
              "      <th>3</th>\n",
              "      <td>date</td>\n",
              "      <td>4</td>\n",
              "    </tr>\n",
              "    <tr>\n",
              "      <th>4</th>\n",
              "      <td>elderberry</td>\n",
              "      <td>10</td>\n",
              "    </tr>\n",
              "  </tbody>\n",
              "</table>\n",
              "</div>\n",
              "    <div class=\"colab-df-buttons\">\n",
              "\n",
              "  <div class=\"colab-df-container\">\n",
              "    <button class=\"colab-df-convert\" onclick=\"convertToInteractive('df-3476db8a-33ba-44c5-ae00-da8073fb1ca1')\"\n",
              "            title=\"Convert this dataframe to an interactive table.\"\n",
              "            style=\"display:none;\">\n",
              "\n",
              "  <svg xmlns=\"http://www.w3.org/2000/svg\" height=\"24px\" viewBox=\"0 -960 960 960\">\n",
              "    <path d=\"M120-120v-720h720v720H120Zm60-500h600v-160H180v160Zm220 220h160v-160H400v160Zm0 220h160v-160H400v160ZM180-400h160v-160H180v160Zm440 0h160v-160H620v160ZM180-180h160v-160H180v160Zm440 0h160v-160H620v160Z\"/>\n",
              "  </svg>\n",
              "    </button>\n",
              "\n",
              "  <style>\n",
              "    .colab-df-container {\n",
              "      display:flex;\n",
              "      gap: 12px;\n",
              "    }\n",
              "\n",
              "    .colab-df-convert {\n",
              "      background-color: #E8F0FE;\n",
              "      border: none;\n",
              "      border-radius: 50%;\n",
              "      cursor: pointer;\n",
              "      display: none;\n",
              "      fill: #1967D2;\n",
              "      height: 32px;\n",
              "      padding: 0 0 0 0;\n",
              "      width: 32px;\n",
              "    }\n",
              "\n",
              "    .colab-df-convert:hover {\n",
              "      background-color: #E2EBFA;\n",
              "      box-shadow: 0px 1px 2px rgba(60, 64, 67, 0.3), 0px 1px 3px 1px rgba(60, 64, 67, 0.15);\n",
              "      fill: #174EA6;\n",
              "    }\n",
              "\n",
              "    .colab-df-buttons div {\n",
              "      margin-bottom: 4px;\n",
              "    }\n",
              "\n",
              "    [theme=dark] .colab-df-convert {\n",
              "      background-color: #3B4455;\n",
              "      fill: #D2E3FC;\n",
              "    }\n",
              "\n",
              "    [theme=dark] .colab-df-convert:hover {\n",
              "      background-color: #434B5C;\n",
              "      box-shadow: 0px 1px 3px 1px rgba(0, 0, 0, 0.15);\n",
              "      filter: drop-shadow(0px 1px 2px rgba(0, 0, 0, 0.3));\n",
              "      fill: #FFFFFF;\n",
              "    }\n",
              "  </style>\n",
              "\n",
              "    <script>\n",
              "      const buttonEl =\n",
              "        document.querySelector('#df-3476db8a-33ba-44c5-ae00-da8073fb1ca1 button.colab-df-convert');\n",
              "      buttonEl.style.display =\n",
              "        google.colab.kernel.accessAllowed ? 'block' : 'none';\n",
              "\n",
              "      async function convertToInteractive(key) {\n",
              "        const element = document.querySelector('#df-3476db8a-33ba-44c5-ae00-da8073fb1ca1');\n",
              "        const dataTable =\n",
              "          await google.colab.kernel.invokeFunction('convertToInteractive',\n",
              "                                                    [key], {});\n",
              "        if (!dataTable) return;\n",
              "\n",
              "        const docLinkHtml = 'Like what you see? Visit the ' +\n",
              "          '<a target=\"_blank\" href=https://colab.research.google.com/notebooks/data_table.ipynb>data table notebook</a>'\n",
              "          + ' to learn more about interactive tables.';\n",
              "        element.innerHTML = '';\n",
              "        dataTable['output_type'] = 'display_data';\n",
              "        await google.colab.output.renderOutput(dataTable, element);\n",
              "        const docLink = document.createElement('div');\n",
              "        docLink.innerHTML = docLinkHtml;\n",
              "        element.appendChild(docLink);\n",
              "      }\n",
              "    </script>\n",
              "  </div>\n",
              "\n",
              "\n",
              "<div id=\"df-279d622a-c604-4b19-a937-caeb49d089ef\">\n",
              "  <button class=\"colab-df-quickchart\" onclick=\"quickchart('df-279d622a-c604-4b19-a937-caeb49d089ef')\"\n",
              "            title=\"Suggest charts\"\n",
              "            style=\"display:none;\">\n",
              "\n",
              "<svg xmlns=\"http://www.w3.org/2000/svg\" height=\"24px\"viewBox=\"0 0 24 24\"\n",
              "     width=\"24px\">\n",
              "    <g>\n",
              "        <path d=\"M19 3H5c-1.1 0-2 .9-2 2v14c0 1.1.9 2 2 2h14c1.1 0 2-.9 2-2V5c0-1.1-.9-2-2-2zM9 17H7v-7h2v7zm4 0h-2V7h2v10zm4 0h-2v-4h2v4z\"/>\n",
              "    </g>\n",
              "</svg>\n",
              "  </button>\n",
              "\n",
              "<style>\n",
              "  .colab-df-quickchart {\n",
              "      --bg-color: #E8F0FE;\n",
              "      --fill-color: #1967D2;\n",
              "      --hover-bg-color: #E2EBFA;\n",
              "      --hover-fill-color: #174EA6;\n",
              "      --disabled-fill-color: #AAA;\n",
              "      --disabled-bg-color: #DDD;\n",
              "  }\n",
              "\n",
              "  [theme=dark] .colab-df-quickchart {\n",
              "      --bg-color: #3B4455;\n",
              "      --fill-color: #D2E3FC;\n",
              "      --hover-bg-color: #434B5C;\n",
              "      --hover-fill-color: #FFFFFF;\n",
              "      --disabled-bg-color: #3B4455;\n",
              "      --disabled-fill-color: #666;\n",
              "  }\n",
              "\n",
              "  .colab-df-quickchart {\n",
              "    background-color: var(--bg-color);\n",
              "    border: none;\n",
              "    border-radius: 50%;\n",
              "    cursor: pointer;\n",
              "    display: none;\n",
              "    fill: var(--fill-color);\n",
              "    height: 32px;\n",
              "    padding: 0;\n",
              "    width: 32px;\n",
              "  }\n",
              "\n",
              "  .colab-df-quickchart:hover {\n",
              "    background-color: var(--hover-bg-color);\n",
              "    box-shadow: 0 1px 2px rgba(60, 64, 67, 0.3), 0 1px 3px 1px rgba(60, 64, 67, 0.15);\n",
              "    fill: var(--button-hover-fill-color);\n",
              "  }\n",
              "\n",
              "  .colab-df-quickchart-complete:disabled,\n",
              "  .colab-df-quickchart-complete:disabled:hover {\n",
              "    background-color: var(--disabled-bg-color);\n",
              "    fill: var(--disabled-fill-color);\n",
              "    box-shadow: none;\n",
              "  }\n",
              "\n",
              "  .colab-df-spinner {\n",
              "    border: 2px solid var(--fill-color);\n",
              "    border-color: transparent;\n",
              "    border-bottom-color: var(--fill-color);\n",
              "    animation:\n",
              "      spin 1s steps(1) infinite;\n",
              "  }\n",
              "\n",
              "  @keyframes spin {\n",
              "    0% {\n",
              "      border-color: transparent;\n",
              "      border-bottom-color: var(--fill-color);\n",
              "      border-left-color: var(--fill-color);\n",
              "    }\n",
              "    20% {\n",
              "      border-color: transparent;\n",
              "      border-left-color: var(--fill-color);\n",
              "      border-top-color: var(--fill-color);\n",
              "    }\n",
              "    30% {\n",
              "      border-color: transparent;\n",
              "      border-left-color: var(--fill-color);\n",
              "      border-top-color: var(--fill-color);\n",
              "      border-right-color: var(--fill-color);\n",
              "    }\n",
              "    40% {\n",
              "      border-color: transparent;\n",
              "      border-right-color: var(--fill-color);\n",
              "      border-top-color: var(--fill-color);\n",
              "    }\n",
              "    60% {\n",
              "      border-color: transparent;\n",
              "      border-right-color: var(--fill-color);\n",
              "    }\n",
              "    80% {\n",
              "      border-color: transparent;\n",
              "      border-right-color: var(--fill-color);\n",
              "      border-bottom-color: var(--fill-color);\n",
              "    }\n",
              "    90% {\n",
              "      border-color: transparent;\n",
              "      border-bottom-color: var(--fill-color);\n",
              "    }\n",
              "  }\n",
              "</style>\n",
              "\n",
              "  <script>\n",
              "    async function quickchart(key) {\n",
              "      const quickchartButtonEl =\n",
              "        document.querySelector('#' + key + ' button');\n",
              "      quickchartButtonEl.disabled = true;  // To prevent multiple clicks.\n",
              "      quickchartButtonEl.classList.add('colab-df-spinner');\n",
              "      try {\n",
              "        const charts = await google.colab.kernel.invokeFunction(\n",
              "            'suggestCharts', [key], {});\n",
              "      } catch (error) {\n",
              "        console.error('Error during call to suggestCharts:', error);\n",
              "      }\n",
              "      quickchartButtonEl.classList.remove('colab-df-spinner');\n",
              "      quickchartButtonEl.classList.add('colab-df-quickchart-complete');\n",
              "    }\n",
              "    (() => {\n",
              "      let quickchartButtonEl =\n",
              "        document.querySelector('#df-279d622a-c604-4b19-a937-caeb49d089ef button');\n",
              "      quickchartButtonEl.style.display =\n",
              "        google.colab.kernel.accessAllowed ? 'block' : 'none';\n",
              "    })();\n",
              "  </script>\n",
              "</div>\n",
              "    </div>\n",
              "  </div>\n"
            ],
            "application/vnd.google.colaboratory.intrinsic+json": {
              "type": "dataframe",
              "variable_name": "df",
              "summary": "{\n  \"name\": \"df\",\n  \"rows\": 5,\n  \"fields\": [\n    {\n      \"column\": \"text_column\",\n      \"properties\": {\n        \"dtype\": \"string\",\n        \"num_unique_values\": 5,\n        \"samples\": [\n          \"banana\",\n          \"elderberry\",\n          \"cherry\"\n        ],\n        \"semantic_type\": \"\",\n        \"description\": \"\"\n      }\n    },\n    {\n      \"column\": \"char_count\",\n      \"properties\": {\n        \"dtype\": \"number\",\n        \"std\": 2,\n        \"min\": 4,\n        \"max\": 10,\n        \"num_unique_values\": 4,\n        \"samples\": [\n          6,\n          10,\n          5\n        ],\n        \"semantic_type\": \"\",\n        \"description\": \"\"\n      }\n    }\n  ]\n}"
            }
          },
          "metadata": {},
          "execution_count": 8
        }
      ]
    },
    {
      "cell_type": "code",
      "source": [],
      "metadata": {
        "id": "nJAftTMlncAV"
      },
      "execution_count": null,
      "outputs": []
    },
    {
      "cell_type": "markdown",
      "source": [
        "## 0.4: We could also combine all the words or text values in a dataframe column with the following:"
      ],
      "metadata": {
        "id": "bw-2udD6owCF"
      }
    },
    {
      "cell_type": "code",
      "source": [
        "combined = ' '.join(df['text_column'])\n",
        "combined"
      ],
      "metadata": {
        "id": "9ZfSHO96oqRz",
        "colab": {
          "base_uri": "https://localhost:8080/",
          "height": 36
        },
        "outputId": "a524a8bb-219d-4008-e2fb-530367f50229"
      },
      "execution_count": null,
      "outputs": [
        {
          "output_type": "execute_result",
          "data": {
            "text/plain": [
              "'apple banana cherry date elderberry'"
            ],
            "application/vnd.google.colaboratory.intrinsic+json": {
              "type": "string"
            }
          },
          "metadata": {},
          "execution_count": 9
        }
      ]
    },
    {
      "cell_type": "markdown",
      "source": [
        "## 0.5: List Comprehensions\n",
        "\n",
        "Recall: list comprehensions provide us a way to generate lists in one statement."
      ],
      "metadata": {
        "id": "Vc-tzppjpEtk"
      }
    },
    {
      "cell_type": "markdown",
      "source": [
        "Create a list of lower case words."
      ],
      "metadata": {
        "id": "cQ2gfoi5pgxK"
      }
    },
    {
      "cell_type": "code",
      "source": [
        "lowerlist = [word.lower() for word in mystring]\n",
        "lowerlist"
      ],
      "metadata": {
        "id": "wIcaIPEupl6O",
        "colab": {
          "base_uri": "https://localhost:8080/"
        },
        "outputId": "1e69c6ef-3562-41c7-9667-80629e52ab9f"
      },
      "execution_count": null,
      "outputs": [
        {
          "output_type": "execute_result",
          "data": {
            "text/plain": [
              "['this', 'is', 'a', 'quick', 'review', 'of', 'string', 'methods']"
            ]
          },
          "metadata": {},
          "execution_count": 10
        }
      ]
    },
    {
      "cell_type": "markdown",
      "source": [
        "Create a list that meets a condition."
      ],
      "metadata": {
        "id": "aIFa6b6QpusT"
      }
    },
    {
      "cell_type": "code",
      "source": [
        "upperlist = [word.upper() for word in mystring if word.endswith('s')]\n",
        "upperlist"
      ],
      "metadata": {
        "id": "BkndC3JEpyq1",
        "colab": {
          "base_uri": "https://localhost:8080/"
        },
        "outputId": "424b94b7-d5f1-4263-ea2c-bad7339a48c5"
      },
      "execution_count": null,
      "outputs": [
        {
          "output_type": "execute_result",
          "data": {
            "text/plain": [
              "['THIS', 'IS', 'METHODS']"
            ]
          },
          "metadata": {},
          "execution_count": 11
        }
      ]
    },
    {
      "cell_type": "markdown",
      "source": [
        "## String Methods Review Summary\n",
        "\n",
        "That should be enough to review some of the basics of working with strings. Refer to the W3schools link or prior lessons on strings from an introduction to Python class for more information and tutorials."
      ],
      "metadata": {
        "id": "S4xz824nqayy"
      }
    },
    {
      "cell_type": "markdown",
      "source": [
        "# Code-Along Example 1\n",
        "\n",
        "In the next sections we will focus on the following:\n",
        "1. Importing Modules\n",
        "2. Preparing Data\n",
        "3. Basic text analysis: Word Frequency\n",
        "\n",
        "\n",
        "## Data File:\n",
        "\n",
        "Download and/or move the following file to your working directory:\n",
        "\n",
        ">- [GuitarReviews2out.txt](https://drive.google.com/file/d/1HnlHA-XqqTXle0SHS7V20sqwZNfwKbRl/view?usp=sharing)\n"
      ],
      "metadata": {
        "id": "Y5nGqyqodoH1"
      }
    },
    {
      "cell_type": "markdown",
      "source": [
        "# Section 1: Setting Up the Environment"
      ],
      "metadata": {
        "id": "dM1sGT_rmea8"
      }
    },
    {
      "cell_type": "markdown",
      "source": [
        "## 1.1: Imports\n",
        "\n",
        "In the next cell import the following modules:\n",
        "\n",
        ">- `os`, `numpy`, `pandas`, `matplotlib.pyplot`, `seaborn`\n",
        ">- Use the common aliases for each of these\n"
      ],
      "metadata": {
        "id": "ykjxXtQ7eduk"
      }
    },
    {
      "cell_type": "code",
      "source": [
        "import os\n",
        "import pandas as pd\n",
        "import numpy as np\n",
        "import matplotlib.pyplot as plt\n",
        "import seaborn as sns"
      ],
      "metadata": {
        "id": "dEn-M7LpnJU0"
      },
      "execution_count": null,
      "outputs": []
    },
    {
      "cell_type": "markdown",
      "source": [
        "## 1.2: Set Your Working Directory\n",
        "\n",
        "In the next cell(s), set your working directory to your desired workspace for this lesson."
      ],
      "metadata": {
        "id": "S_OmBfqorif3"
      }
    },
    {
      "cell_type": "code",
      "source": [
        "from google.colab import drive\n",
        "drive.mount('/content/drive/')\n",
        "os.chdir('/content/drive/MyDrive/BAIM4205')\n",
        "os.getcwd()"
      ],
      "metadata": {
        "id": "FOoTnjonmf0O",
        "colab": {
          "base_uri": "https://localhost:8080/",
          "height": 54
        },
        "outputId": "3e26f9f8-25ef-4d16-ba2b-fb321a1ddca7"
      },
      "execution_count": null,
      "outputs": [
        {
          "output_type": "stream",
          "name": "stdout",
          "text": [
            "Mounted at /content/drive/\n"
          ]
        },
        {
          "output_type": "execute_result",
          "data": {
            "text/plain": [
              "'/content/drive/MyDrive/BAIM4205'"
            ],
            "application/vnd.google.colaboratory.intrinsic+json": {
              "type": "string"
            }
          },
          "metadata": {},
          "execution_count": 13
        }
      ]
    },
    {
      "cell_type": "code",
      "source": [],
      "metadata": {
        "id": "u1xIrxepm7DI"
      },
      "execution_count": null,
      "outputs": []
    },
    {
      "cell_type": "markdown",
      "source": [
        "## 1.3: Load Data\n",
        "\n",
        "Sample guitar review data following file. Download/move the file to your working directory.\n",
        "\n",
        ">- [GuitarReviews2out.txt](https://drive.google.com/file/d/1HnlHA-XqqTXle0SHS7V20sqwZNfwKbRl/view?usp=sharing)\n",
        "\n",
        "### Data Description\n",
        ">- In this example we are using a sample product review file, `GuitarReviews2out.txt`.\n",
        ">- Each row of this data file represents a single guitar product review\n",
        ">- Note: The columns of this file are seperated with a bar `|` so we need to pass in the correct `sep` argument to `read_csv()` to account for this seperator\n",
        "\n",
        "#### `GuitarReviews2out.txt` Notes\n",
        ">- This dataset has 3 fields\n",
        "  1. `product` represents the product being reviewed\n",
        "  2. `title` represents a summary of the review\n",
        "  3. `review` is the main text of the review\n",
        "\n",
        "  ---\n",
        "\n"
      ],
      "metadata": {
        "id": "UXarYou9rwOe"
      }
    },
    {
      "cell_type": "markdown",
      "source": [
        "Load the file into a pandas DataFrame named, `guitar`:\n"
      ],
      "metadata": {
        "id": "4EIRSydeehb7"
      }
    },
    {
      "cell_type": "code",
      "source": [
        "guitar = pd.read_csv('GuitarReviews2out.txt', sep='|', index_col='#')\n",
        "guitar"
      ],
      "metadata": {
        "id": "LYp5ShcQelNE",
        "colab": {
          "base_uri": "https://localhost:8080/",
          "height": 394
        },
        "outputId": "c8e105b5-9cd3-4e75-af5f-ef09e92cab85"
      },
      "execution_count": null,
      "outputs": [
        {
          "output_type": "execute_result",
          "data": {
            "text/plain": [
              "         product                      title  \\\n",
              "#                                             \n",
              "1   BenderCaster     My new favorite guitar   \n",
              "2   BenderCaster         Good but not Great   \n",
              "3   BenderCaster          Try before buying   \n",
              "4   BenderCaster                   Love It!   \n",
              "5   BenderCaster  Great Guitar, Great Price   \n",
              "6        WesHall             Amazing Guitar   \n",
              "7        WesHall                None better   \n",
              "8        WesHall               Great Choice   \n",
              "9        WesHall     Good Guitar but Pricey   \n",
              "10       WesHall                    It’s it   \n",
              "\n",
              "                                               review  \n",
              "#                                                      \n",
              "1   I’ve been playing the Wes Hall for many years,...  \n",
              "2   The Bender Caster sounds clean, the 3-position...  \n",
              "3   I tried the Caster in my local music store and...  \n",
              "4   Everything about the Bender Caster met or exce...  \n",
              "5   I’ve been playing Bender guitars for years, th...  \n",
              "6   I’ve been playing an entry level guitar for ye...  \n",
              "7   The Wes Hall is THE GUITAR for rock & roll.  I...  \n",
              "8   I’ve been playing guitar occasionally but now ...  \n",
              "9   I was excited to order the Wes but given the p...  \n",
              "10  Unbelievable!  It’s the classic, the original....  "
            ],
            "text/html": [
              "\n",
              "  <div id=\"df-aa7514e0-964f-48e5-9a9b-e3523e72e441\" class=\"colab-df-container\">\n",
              "    <div>\n",
              "<style scoped>\n",
              "    .dataframe tbody tr th:only-of-type {\n",
              "        vertical-align: middle;\n",
              "    }\n",
              "\n",
              "    .dataframe tbody tr th {\n",
              "        vertical-align: top;\n",
              "    }\n",
              "\n",
              "    .dataframe thead th {\n",
              "        text-align: right;\n",
              "    }\n",
              "</style>\n",
              "<table border=\"1\" class=\"dataframe\">\n",
              "  <thead>\n",
              "    <tr style=\"text-align: right;\">\n",
              "      <th></th>\n",
              "      <th>product</th>\n",
              "      <th>title</th>\n",
              "      <th>review</th>\n",
              "    </tr>\n",
              "    <tr>\n",
              "      <th>#</th>\n",
              "      <th></th>\n",
              "      <th></th>\n",
              "      <th></th>\n",
              "    </tr>\n",
              "  </thead>\n",
              "  <tbody>\n",
              "    <tr>\n",
              "      <th>1</th>\n",
              "      <td>BenderCaster</td>\n",
              "      <td>My new favorite guitar</td>\n",
              "      <td>I’ve been playing the Wes Hall for many years,...</td>\n",
              "    </tr>\n",
              "    <tr>\n",
              "      <th>2</th>\n",
              "      <td>BenderCaster</td>\n",
              "      <td>Good but not Great</td>\n",
              "      <td>The Bender Caster sounds clean, the 3-position...</td>\n",
              "    </tr>\n",
              "    <tr>\n",
              "      <th>3</th>\n",
              "      <td>BenderCaster</td>\n",
              "      <td>Try before buying</td>\n",
              "      <td>I tried the Caster in my local music store and...</td>\n",
              "    </tr>\n",
              "    <tr>\n",
              "      <th>4</th>\n",
              "      <td>BenderCaster</td>\n",
              "      <td>Love It!</td>\n",
              "      <td>Everything about the Bender Caster met or exce...</td>\n",
              "    </tr>\n",
              "    <tr>\n",
              "      <th>5</th>\n",
              "      <td>BenderCaster</td>\n",
              "      <td>Great Guitar, Great Price</td>\n",
              "      <td>I’ve been playing Bender guitars for years, th...</td>\n",
              "    </tr>\n",
              "    <tr>\n",
              "      <th>6</th>\n",
              "      <td>WesHall</td>\n",
              "      <td>Amazing Guitar</td>\n",
              "      <td>I’ve been playing an entry level guitar for ye...</td>\n",
              "    </tr>\n",
              "    <tr>\n",
              "      <th>7</th>\n",
              "      <td>WesHall</td>\n",
              "      <td>None better</td>\n",
              "      <td>The Wes Hall is THE GUITAR for rock &amp; roll.  I...</td>\n",
              "    </tr>\n",
              "    <tr>\n",
              "      <th>8</th>\n",
              "      <td>WesHall</td>\n",
              "      <td>Great Choice</td>\n",
              "      <td>I’ve been playing guitar occasionally but now ...</td>\n",
              "    </tr>\n",
              "    <tr>\n",
              "      <th>9</th>\n",
              "      <td>WesHall</td>\n",
              "      <td>Good Guitar but Pricey</td>\n",
              "      <td>I was excited to order the Wes but given the p...</td>\n",
              "    </tr>\n",
              "    <tr>\n",
              "      <th>10</th>\n",
              "      <td>WesHall</td>\n",
              "      <td>It’s it</td>\n",
              "      <td>Unbelievable!  It’s the classic, the original....</td>\n",
              "    </tr>\n",
              "  </tbody>\n",
              "</table>\n",
              "</div>\n",
              "    <div class=\"colab-df-buttons\">\n",
              "\n",
              "  <div class=\"colab-df-container\">\n",
              "    <button class=\"colab-df-convert\" onclick=\"convertToInteractive('df-aa7514e0-964f-48e5-9a9b-e3523e72e441')\"\n",
              "            title=\"Convert this dataframe to an interactive table.\"\n",
              "            style=\"display:none;\">\n",
              "\n",
              "  <svg xmlns=\"http://www.w3.org/2000/svg\" height=\"24px\" viewBox=\"0 -960 960 960\">\n",
              "    <path d=\"M120-120v-720h720v720H120Zm60-500h600v-160H180v160Zm220 220h160v-160H400v160Zm0 220h160v-160H400v160ZM180-400h160v-160H180v160Zm440 0h160v-160H620v160ZM180-180h160v-160H180v160Zm440 0h160v-160H620v160Z\"/>\n",
              "  </svg>\n",
              "    </button>\n",
              "\n",
              "  <style>\n",
              "    .colab-df-container {\n",
              "      display:flex;\n",
              "      gap: 12px;\n",
              "    }\n",
              "\n",
              "    .colab-df-convert {\n",
              "      background-color: #E8F0FE;\n",
              "      border: none;\n",
              "      border-radius: 50%;\n",
              "      cursor: pointer;\n",
              "      display: none;\n",
              "      fill: #1967D2;\n",
              "      height: 32px;\n",
              "      padding: 0 0 0 0;\n",
              "      width: 32px;\n",
              "    }\n",
              "\n",
              "    .colab-df-convert:hover {\n",
              "      background-color: #E2EBFA;\n",
              "      box-shadow: 0px 1px 2px rgba(60, 64, 67, 0.3), 0px 1px 3px 1px rgba(60, 64, 67, 0.15);\n",
              "      fill: #174EA6;\n",
              "    }\n",
              "\n",
              "    .colab-df-buttons div {\n",
              "      margin-bottom: 4px;\n",
              "    }\n",
              "\n",
              "    [theme=dark] .colab-df-convert {\n",
              "      background-color: #3B4455;\n",
              "      fill: #D2E3FC;\n",
              "    }\n",
              "\n",
              "    [theme=dark] .colab-df-convert:hover {\n",
              "      background-color: #434B5C;\n",
              "      box-shadow: 0px 1px 3px 1px rgba(0, 0, 0, 0.15);\n",
              "      filter: drop-shadow(0px 1px 2px rgba(0, 0, 0, 0.3));\n",
              "      fill: #FFFFFF;\n",
              "    }\n",
              "  </style>\n",
              "\n",
              "    <script>\n",
              "      const buttonEl =\n",
              "        document.querySelector('#df-aa7514e0-964f-48e5-9a9b-e3523e72e441 button.colab-df-convert');\n",
              "      buttonEl.style.display =\n",
              "        google.colab.kernel.accessAllowed ? 'block' : 'none';\n",
              "\n",
              "      async function convertToInteractive(key) {\n",
              "        const element = document.querySelector('#df-aa7514e0-964f-48e5-9a9b-e3523e72e441');\n",
              "        const dataTable =\n",
              "          await google.colab.kernel.invokeFunction('convertToInteractive',\n",
              "                                                    [key], {});\n",
              "        if (!dataTable) return;\n",
              "\n",
              "        const docLinkHtml = 'Like what you see? Visit the ' +\n",
              "          '<a target=\"_blank\" href=https://colab.research.google.com/notebooks/data_table.ipynb>data table notebook</a>'\n",
              "          + ' to learn more about interactive tables.';\n",
              "        element.innerHTML = '';\n",
              "        dataTable['output_type'] = 'display_data';\n",
              "        await google.colab.output.renderOutput(dataTable, element);\n",
              "        const docLink = document.createElement('div');\n",
              "        docLink.innerHTML = docLinkHtml;\n",
              "        element.appendChild(docLink);\n",
              "      }\n",
              "    </script>\n",
              "  </div>\n",
              "\n",
              "\n",
              "<div id=\"df-65248625-1046-4911-9476-eb531bec1565\">\n",
              "  <button class=\"colab-df-quickchart\" onclick=\"quickchart('df-65248625-1046-4911-9476-eb531bec1565')\"\n",
              "            title=\"Suggest charts\"\n",
              "            style=\"display:none;\">\n",
              "\n",
              "<svg xmlns=\"http://www.w3.org/2000/svg\" height=\"24px\"viewBox=\"0 0 24 24\"\n",
              "     width=\"24px\">\n",
              "    <g>\n",
              "        <path d=\"M19 3H5c-1.1 0-2 .9-2 2v14c0 1.1.9 2 2 2h14c1.1 0 2-.9 2-2V5c0-1.1-.9-2-2-2zM9 17H7v-7h2v7zm4 0h-2V7h2v10zm4 0h-2v-4h2v4z\"/>\n",
              "    </g>\n",
              "</svg>\n",
              "  </button>\n",
              "\n",
              "<style>\n",
              "  .colab-df-quickchart {\n",
              "      --bg-color: #E8F0FE;\n",
              "      --fill-color: #1967D2;\n",
              "      --hover-bg-color: #E2EBFA;\n",
              "      --hover-fill-color: #174EA6;\n",
              "      --disabled-fill-color: #AAA;\n",
              "      --disabled-bg-color: #DDD;\n",
              "  }\n",
              "\n",
              "  [theme=dark] .colab-df-quickchart {\n",
              "      --bg-color: #3B4455;\n",
              "      --fill-color: #D2E3FC;\n",
              "      --hover-bg-color: #434B5C;\n",
              "      --hover-fill-color: #FFFFFF;\n",
              "      --disabled-bg-color: #3B4455;\n",
              "      --disabled-fill-color: #666;\n",
              "  }\n",
              "\n",
              "  .colab-df-quickchart {\n",
              "    background-color: var(--bg-color);\n",
              "    border: none;\n",
              "    border-radius: 50%;\n",
              "    cursor: pointer;\n",
              "    display: none;\n",
              "    fill: var(--fill-color);\n",
              "    height: 32px;\n",
              "    padding: 0;\n",
              "    width: 32px;\n",
              "  }\n",
              "\n",
              "  .colab-df-quickchart:hover {\n",
              "    background-color: var(--hover-bg-color);\n",
              "    box-shadow: 0 1px 2px rgba(60, 64, 67, 0.3), 0 1px 3px 1px rgba(60, 64, 67, 0.15);\n",
              "    fill: var(--button-hover-fill-color);\n",
              "  }\n",
              "\n",
              "  .colab-df-quickchart-complete:disabled,\n",
              "  .colab-df-quickchart-complete:disabled:hover {\n",
              "    background-color: var(--disabled-bg-color);\n",
              "    fill: var(--disabled-fill-color);\n",
              "    box-shadow: none;\n",
              "  }\n",
              "\n",
              "  .colab-df-spinner {\n",
              "    border: 2px solid var(--fill-color);\n",
              "    border-color: transparent;\n",
              "    border-bottom-color: var(--fill-color);\n",
              "    animation:\n",
              "      spin 1s steps(1) infinite;\n",
              "  }\n",
              "\n",
              "  @keyframes spin {\n",
              "    0% {\n",
              "      border-color: transparent;\n",
              "      border-bottom-color: var(--fill-color);\n",
              "      border-left-color: var(--fill-color);\n",
              "    }\n",
              "    20% {\n",
              "      border-color: transparent;\n",
              "      border-left-color: var(--fill-color);\n",
              "      border-top-color: var(--fill-color);\n",
              "    }\n",
              "    30% {\n",
              "      border-color: transparent;\n",
              "      border-left-color: var(--fill-color);\n",
              "      border-top-color: var(--fill-color);\n",
              "      border-right-color: var(--fill-color);\n",
              "    }\n",
              "    40% {\n",
              "      border-color: transparent;\n",
              "      border-right-color: var(--fill-color);\n",
              "      border-top-color: var(--fill-color);\n",
              "    }\n",
              "    60% {\n",
              "      border-color: transparent;\n",
              "      border-right-color: var(--fill-color);\n",
              "    }\n",
              "    80% {\n",
              "      border-color: transparent;\n",
              "      border-right-color: var(--fill-color);\n",
              "      border-bottom-color: var(--fill-color);\n",
              "    }\n",
              "    90% {\n",
              "      border-color: transparent;\n",
              "      border-bottom-color: var(--fill-color);\n",
              "    }\n",
              "  }\n",
              "</style>\n",
              "\n",
              "  <script>\n",
              "    async function quickchart(key) {\n",
              "      const quickchartButtonEl =\n",
              "        document.querySelector('#' + key + ' button');\n",
              "      quickchartButtonEl.disabled = true;  // To prevent multiple clicks.\n",
              "      quickchartButtonEl.classList.add('colab-df-spinner');\n",
              "      try {\n",
              "        const charts = await google.colab.kernel.invokeFunction(\n",
              "            'suggestCharts', [key], {});\n",
              "      } catch (error) {\n",
              "        console.error('Error during call to suggestCharts:', error);\n",
              "      }\n",
              "      quickchartButtonEl.classList.remove('colab-df-spinner');\n",
              "      quickchartButtonEl.classList.add('colab-df-quickchart-complete');\n",
              "    }\n",
              "    (() => {\n",
              "      let quickchartButtonEl =\n",
              "        document.querySelector('#df-65248625-1046-4911-9476-eb531bec1565 button');\n",
              "      quickchartButtonEl.style.display =\n",
              "        google.colab.kernel.accessAllowed ? 'block' : 'none';\n",
              "    })();\n",
              "  </script>\n",
              "</div>\n",
              "    </div>\n",
              "  </div>\n"
            ],
            "application/vnd.google.colaboratory.intrinsic+json": {
              "type": "dataframe",
              "variable_name": "guitar",
              "summary": "{\n  \"name\": \"guitar\",\n  \"rows\": 10,\n  \"fields\": [\n    {\n      \"column\": \"#\",\n      \"properties\": {\n        \"dtype\": \"number\",\n        \"std\": 3,\n        \"min\": 1,\n        \"max\": 10,\n        \"num_unique_values\": 10,\n        \"samples\": [\n          9,\n          2,\n          6\n        ],\n        \"semantic_type\": \"\",\n        \"description\": \"\"\n      }\n    },\n    {\n      \"column\": \"product\",\n      \"properties\": {\n        \"dtype\": \"category\",\n        \"num_unique_values\": 2,\n        \"samples\": [\n          \"WesHall\",\n          \"BenderCaster\"\n        ],\n        \"semantic_type\": \"\",\n        \"description\": \"\"\n      }\n    },\n    {\n      \"column\": \"title\",\n      \"properties\": {\n        \"dtype\": \"string\",\n        \"num_unique_values\": 10,\n        \"samples\": [\n          \"Good Guitar but Pricey\",\n          \"Good but not Great\"\n        ],\n        \"semantic_type\": \"\",\n        \"description\": \"\"\n      }\n    },\n    {\n      \"column\": \"review\",\n      \"properties\": {\n        \"dtype\": \"string\",\n        \"num_unique_values\": 10,\n        \"samples\": [\n          \"I was excited to order the Wes but given the price I\\u2019ve been disappointed.  I chose the road-worn option, but it just looks used.  The action on the strings is too low - I need to get it set up to avoid buzz.  The neck is ok but wide for my taste.  Overall ok but disappointing.  May reconsider and go with the Bender.\",\n          \"The Bender Caster sounds clean, the 3-position switch gives a good variety of tones.  Note bending can through the tuning out though.  If you are considering the Caster, I would pick the hard tail option.  The tuning pegs have some play, this was disappointing.  Overall a good guitar but could be improved.\"\n        ],\n        \"semantic_type\": \"\",\n        \"description\": \"\"\n      }\n    }\n  ]\n}"
            }
          },
          "metadata": {},
          "execution_count": 14
        }
      ]
    },
    {
      "cell_type": "markdown",
      "source": [
        "# Section 2: Data Preparation\n",
        "In this section we prepare the data for further processing. As with most data analtyics projects, data preparation/processing will take most of our effort and time.\n",
        "\n",
        "There are many ways to process text data but to help summarize some common techniques we can refer to the following table and practice these methods in this section.\n",
        "\n",
        "## Common Text Processing Methods\n",
        "\n",
        "|  Category \t|      Processing      \t|     Type,Function or Method     \t|        nltk package        \t|\n",
        "|:---------:\t|:--------------------:\t|:-------------------------------:\t|:--------------------------:\t|\n",
        "|  Prepare  \t|    Passage joining   \t|    Series tolist() str join()   \t|                            \t|\n",
        "|  Prepare  \t|      Tokenizing      \t|       nltk word_tokenize()      \t|            punkt           \t|\n",
        "|  Prepare  \t|       Rejoining      \t|            str join()           \t|                            \t|\n",
        "| Harmonize \t|      Ignore case     \t|           str lower()           \t|                            \t|\n",
        "| Harmonize \t|       Stemming       \t|        nlkt PorterStemmer       \t|                            \t|\n",
        "| Filtering \t|     Letters only     \t|          str isalpha()          \t|                            \t|\n",
        "| Filtering \t|    Drop stop words   \t|      nltk stopwords.words()     \t|          stopwords         \t|\n",
        "| Filtering \t| Part of speech focus \t| nltk pos_tag() str startswith() \t| averaged_perceptron_tagger \t|\n"
      ],
      "metadata": {
        "id": "NLUEWak9pmWH"
      }
    },
    {
      "cell_type": "markdown",
      "source": [
        "## 2.1: Check a Review\n",
        "\n",
        "In the next cell, show the first review."
      ],
      "metadata": {
        "id": "X4E2RxDxtqlg"
      }
    },
    {
      "cell_type": "code",
      "source": [
        "guitar.iloc[0]['review']"
      ],
      "metadata": {
        "colab": {
          "base_uri": "https://localhost:8080/",
          "height": 54
        },
        "id": "AriJaik-KdjQ",
        "outputId": "9f769548-464e-4018-d94b-9fdb04143790"
      },
      "execution_count": null,
      "outputs": [
        {
          "output_type": "execute_result",
          "data": {
            "text/plain": [
              "'I’ve been playing the Wes Hall for many years, but finally decided to buy this Bender Caster.  My Wes has terrific sustain, but the Caster gives me a funky sound I love!  The maple neck is terrific too.  Would highly recommend this guitar!'"
            ],
            "application/vnd.google.colaboratory.intrinsic+json": {
              "type": "string"
            }
          },
          "metadata": {},
          "execution_count": 15
        }
      ]
    },
    {
      "cell_type": "markdown",
      "source": [
        "## 2.2: Combine All Reviews\n",
        "\n",
        "In the next cell, grab all the reviews and store then in a list.\n",
        "\n",
        ">- Combine all the reviews into one block of text separated with a space \" \""
      ],
      "metadata": {
        "id": "5nfP0lrQqLQt"
      }
    },
    {
      "cell_type": "code",
      "source": [
        "reviewlist = guitar['review'].to_list()\n",
        "reviews_combined = ' '.join(reviewlist)\n",
        "reviews_combined"
      ],
      "metadata": {
        "id": "C4tGuWA2qJW_",
        "colab": {
          "base_uri": "https://localhost:8080/",
          "height": 109
        },
        "outputId": "aeb6fd60-b346-488a-fda2-d2d75d91ab10"
      },
      "execution_count": null,
      "outputs": [
        {
          "output_type": "execute_result",
          "data": {
            "text/plain": [
              "'I’ve been playing the Wes Hall for many years, but finally decided to buy this Bender Caster.  My Wes has terrific sustain, but the Caster gives me a funky sound I love!  The maple neck is terrific too.  Would highly recommend this guitar! The Bender Caster sounds clean, the 3-position switch gives a good variety of tones.  Note bending can through the tuning out though.  If you are considering the Caster, I would pick the hard tail option.  The tuning pegs have some play, this was disappointing.  Overall a good guitar but could be improved. I tried the Caster in my local music store and was impressed.  To save some $s I ordered online and the guitar came in a day (great) but was not as playable as the one in the store.  I’ve decided to return it and buy locally. Everything about the Bender Caster met or exceeded my expectations.  Highly playable, great tone, sounds great through my Triple Echo amp.  The starburst looks great.  Highly recommend! I’ve been playing Bender guitars for years, this is my 3rd Caster.  Plays great, the action is just right - playable with no buzz.  Versatile too - sounds great for blues, rock, even jazz.  Very affordable too - in my opinion sounds as good has guitars costing two or more times. I’ve been playing an entry level guitar for years but finally decided to treat myself to the Wes Hall.  Now I’m sorry I waited!  The guitar looks amazing and plays terrific.  The sustain is like forever - without any pedals.  Only drawback - it’s heavy, so if you’re playing a long gig, keep that in mind :-) The Wes Hall is THE GUITAR for rock & roll.  I know other people prefer the Bender but if you’re into hard rock, the Wes is the best.  Terrific tone and sustain, low action for incredible playability.  The pickups deliver great sound with almost no noise. I’ve been playing guitar occasionally but now with the Wes Hall I’m playing every day and loving it.  The guitar sounds great - I can get the tone and feel of so many of the songs I love.  Sounds unbelievable with my Earsplit 200 tube amp. I was excited to order the Wes but given the price I’ve been disappointed.  I chose the road-worn option, but it just looks used.  The action on the strings is too low - I need to get it set up to avoid buzz.  The neck is ok but wide for my taste.  Overall ok but disappointing.  May reconsider and go with the Bender. Unbelievable!  It’s the classic, the original.  Nothing more to say'"
            ],
            "application/vnd.google.colaboratory.intrinsic+json": {
              "type": "string"
            }
          },
          "metadata": {},
          "execution_count": 16
        }
      ]
    },
    {
      "cell_type": "markdown",
      "source": [
        "## 2.3: Tokenization\n",
        "\n",
        "Tokenization is basically breaking up the text into words or phrases.\n",
        "\n",
        "First, we import the `nltk` module and download the `punkt` package."
      ],
      "metadata": {
        "id": "lsL4LCS2rcgz"
      }
    },
    {
      "cell_type": "markdown",
      "source": [
        "### 2.3.1: Import `nltk` and `punkt`\n",
        "\n",
        "In the next cell import `nlkt` and download the `punkt` package.\n",
        "\n",
        "```python\n",
        "import nltk\n",
        "nltk.download('punkt')\n",
        "```"
      ],
      "metadata": {
        "id": "2Lg66sMeunI3"
      }
    },
    {
      "cell_type": "code",
      "source": [
        "import nltk\n",
        "nltk.download('punkt')"
      ],
      "metadata": {
        "id": "ahEf5M2Srlwb",
        "colab": {
          "base_uri": "https://localhost:8080/"
        },
        "outputId": "3b3d058c-4733-439b-8071-f5ecf2ee2b9e"
      },
      "execution_count": null,
      "outputs": [
        {
          "output_type": "stream",
          "name": "stderr",
          "text": [
            "[nltk_data] Downloading package punkt to /root/nltk_data...\n",
            "[nltk_data]   Unzipping tokenizers/punkt.zip.\n"
          ]
        },
        {
          "output_type": "execute_result",
          "data": {
            "text/plain": [
              "True"
            ]
          },
          "metadata": {},
          "execution_count": 17
        }
      ]
    },
    {
      "cell_type": "markdown",
      "source": [
        "### 2.3.1: Create Tokens\n",
        "\n",
        "We can use the `punkt` package to tokenize the text. To do this we use `nltk.word_tokenize()` and pass in our text.\n",
        "\n",
        "In the next cell, create a variable `tokens` thsta will be the result of passing in `reviews_combined` to `word_tokenize()`.\n",
        "\n",
        ">- Show the first 10 tokens in the the `tokens` list.\n",
        ">- Print out the total number of tokens in the `tokens` list"
      ],
      "metadata": {
        "id": "A3-b5FDvvApl"
      }
    },
    {
      "cell_type": "code",
      "source": [
        "tokens = nltk.word_tokenize(reviews_combined)\n",
        "print(tokens[:10])\n",
        "print(len(tokens))"
      ],
      "metadata": {
        "id": "5pXHAeCFrvGw",
        "colab": {
          "base_uri": "https://localhost:8080/"
        },
        "outputId": "19be3adc-4cef-49e9-f6f0-0d5e621500fe"
      },
      "execution_count": null,
      "outputs": [
        {
          "output_type": "stream",
          "name": "stdout",
          "text": [
            "['I', '’', 've', 'been', 'playing', 'the', 'Wes', 'Hall', 'for', 'many']\n",
            "526\n"
          ]
        }
      ]
    },
    {
      "cell_type": "markdown",
      "source": [
        "## 2.4: Harmonize and Filter Tokens\n",
        "\n",
        "In text preparation, harmonizing tokens refers to the process of standardizing or normalizing tokens (words or phrases) to ensure consistency and improve the quality of analysis or processing. This process typically involves several steps:\n",
        "\n",
        ">- *Lowercasing*: Converting all tokens to lowercase to ensure uniformity and avoid duplicate entries caused by case differences (e.g., \"Apple\" and \"apple\").\n",
        ">- *Removing punctuation*: Eliminating punctuation marks from tokens to focus on the textual content and avoid issues with tokenization (e.g., \"apple,\" and \"apple\" treated as different tokens).\n",
        ">- *Stemming or Lemmatization*: Reducing tokens to their base or root form to consolidate variants of the same word (e.g., \"running,\" \"ran,\" \"runs\" to \"run\" with stemming, or \"better,\" \"best\" to \"good\" with lemmatization).\n",
        ">- *Removing stopwords*: Eliminating common words (e.g., \"and,\" \"the,\" \"is\") that don't carry significant meaning to focus on the essential content.\n",
        ">- *Handling synonyms*: Replacing synonyms with a single token to avoid duplication (e.g., \"car\" and \"automobile\" as \"car\").\n",
        "\n",
        "Harmonizing tokens helps improve the efficiency and accuracy of text analysis tasks such as text classification, sentiment analysis, and information retrieval by ensuring that similar tokens are treated equally, leading to more consistent and meaningful results.\n",
        "\n",
        "---"
      ],
      "metadata": {
        "id": "05SsrxSDtDLe"
      }
    },
    {
      "cell_type": "markdown",
      "source": [
        "In this section we practice harmonizing and filtering tokens by:\n",
        "\n",
        ">- Only including Letters\n",
        ">- Ignoring Case\n",
        ">- Only Include Certain Parts of Speech\n",
        ">- Removing Stop Words (commonly occuring words such as \"the\", \"and\", etc)\n"
      ],
      "metadata": {
        "id": "Dw0n3YWixEQP"
      }
    },
    {
      "cell_type": "markdown",
      "source": [
        "### 2.4.1: Only include letters\n",
        "\n",
        "In the next cell, create a new token list, `words1` that will only include words with letters.\n",
        "\n",
        ">- Show how many tokens are in the `words1` list."
      ],
      "metadata": {
        "id": "vuBHwqndthWl"
      }
    },
    {
      "cell_type": "code",
      "source": [
        "words1 = [word for word in tokens if word.isalpha()]\n",
        "len(words1)"
      ],
      "metadata": {
        "id": "YemG6dq7te1F",
        "colab": {
          "base_uri": "https://localhost:8080/"
        },
        "outputId": "e5f27f7c-cac3-4c23-d38a-2fb9478c77b0"
      },
      "execution_count": null,
      "outputs": [
        {
          "output_type": "execute_result",
          "data": {
            "text/plain": [
              "440"
            ]
          },
          "metadata": {},
          "execution_count": 19
        }
      ]
    },
    {
      "cell_type": "markdown",
      "source": [
        "### 2.4.2: Ignore Case\n",
        "\n",
        "In the next cell, create a new token list, `words2` that is the result of lower casing all the tokens in `words1`.\n",
        "\n",
        ">- Show how many tokens are in the `words2` list."
      ],
      "metadata": {
        "id": "QTqEg2yGttWc"
      }
    },
    {
      "cell_type": "code",
      "source": [
        "words2 = [word.lower() for word in words1]\n",
        "len(words2)"
      ],
      "metadata": {
        "id": "JR_F0_mvtu6o",
        "colab": {
          "base_uri": "https://localhost:8080/"
        },
        "outputId": "0b53b649-ca50-4c5b-b663-645d624a0e88"
      },
      "execution_count": null,
      "outputs": [
        {
          "output_type": "execute_result",
          "data": {
            "text/plain": [
              "440"
            ]
          },
          "metadata": {},
          "execution_count": 20
        }
      ]
    },
    {
      "cell_type": "markdown",
      "source": [
        "### 2.4.3: Parts of Speech (POS) Filtering with `pos_tag()`\n",
        ">- `pos_tag()` returns a list of `word:tag` pairs where the tag is a code for the word's part of speech.\n",
        ">- Tags beginning with 'N' are nouns\n",
        "\n",
        ">- `pos_tag()` requires the `averaged_perceptron_tagger` package"
      ],
      "metadata": {
        "id": "ZwwZ6h6DzrxC"
      }
    },
    {
      "cell_type": "markdown",
      "source": [
        "Download the `averaged_perceptron_tagger` package:\n",
        "\n",
        "```python\n",
        "nltk.download('averaged_perceptron_tagger')\n",
        "```"
      ],
      "metadata": {
        "id": "KxX6sbNkygSz"
      }
    },
    {
      "cell_type": "code",
      "source": [
        "nltk.download('averaged_perceptron_tagger')"
      ],
      "metadata": {
        "id": "w3KAAbyXzUSo",
        "colab": {
          "base_uri": "https://localhost:8080/"
        },
        "outputId": "3b99c820-ef3e-4b80-c0df-a0ab87b7d8e1"
      },
      "execution_count": null,
      "outputs": [
        {
          "output_type": "stream",
          "name": "stderr",
          "text": [
            "[nltk_data] Downloading package averaged_perceptron_tagger to\n",
            "[nltk_data]     /root/nltk_data...\n",
            "[nltk_data]   Unzipping taggers/averaged_perceptron_tagger.zip.\n"
          ]
        },
        {
          "output_type": "execute_result",
          "data": {
            "text/plain": [
              "True"
            ]
          },
          "metadata": {},
          "execution_count": 21
        }
      ]
    },
    {
      "cell_type": "markdown",
      "source": [
        "Now create a `word_tags` variable to store the results of `nltk.pos_tag(words2)`:"
      ],
      "metadata": {
        "id": "6GKctEnFyvNL"
      }
    },
    {
      "cell_type": "code",
      "source": [
        "word_tags = nltk.pos_tag(words2)"
      ],
      "metadata": {
        "id": "fUZsA-jl0BOc"
      },
      "execution_count": null,
      "outputs": []
    },
    {
      "cell_type": "markdown",
      "source": [
        "Now, create a variable, `words3` that will store only the nouns.\n",
        "\n",
        ">- Show the number of tokens in `words3`"
      ],
      "metadata": {
        "id": "e2817a9ly-aZ"
      }
    },
    {
      "cell_type": "code",
      "source": [
        "words3 = [word for (word,tag) in word_tags if tag.startswith('N')]\n",
        "len(words3)"
      ],
      "metadata": {
        "id": "d9M5tbcm2ByV",
        "colab": {
          "base_uri": "https://localhost:8080/"
        },
        "outputId": "523d0b89-1c76-4656-83b7-691bc9e9bf37"
      },
      "execution_count": null,
      "outputs": [
        {
          "output_type": "execute_result",
          "data": {
            "text/plain": [
              "118"
            ]
          },
          "metadata": {},
          "execution_count": 23
        }
      ]
    },
    {
      "cell_type": "markdown",
      "source": [
        "### 2.4.4: Remove Stop Words\n",
        "\n",
        "In the context of text analysis, stop words are common words that are often filtered out or excluded from text processing because they are considered to have little or no value in determining the content or meaning of a document. These words typically include:\n",
        "\n",
        ">- Common words: such as \"the,\" \"is,\" \"in,\" \"at,\" \"on,\" etc.\n",
        ">- Articles: such as \"a,\" \"an,\" and \"the.\"\n",
        ">- Prepositions: such as \"to,\" \"from,\" \"over,\" \"under,\" etc.\n",
        ">- Conjunctions: such as \"and,\" \"but,\" \"or,\" \"because,\" etc.\n",
        ">- Pronouns: such as \"he,\" \"she,\" \"it,\" \"they,\" etc.\n",
        "\n",
        "Removing stop words from text can help improve the efficiency and accuracy of natural language processing tasks such as text classification, sentiment analysis, and information retrieval by reducing the amount of noisy data and focusing on the more meaningful content of the text.\n",
        "\n",
        "---\n",
        "\n",
        "`nltk` has the `stopwords` package to make this easy. In the next cell download the `stopwords` package:\n",
        "\n",
        "```python\n",
        "nltk.download('stopwords')\n",
        "```"
      ],
      "metadata": {
        "id": "z1z8NbdJt0_8"
      }
    },
    {
      "cell_type": "code",
      "source": [
        "nltk.download('stopwords')"
      ],
      "metadata": {
        "id": "cQ8Me1S9t258",
        "colab": {
          "base_uri": "https://localhost:8080/"
        },
        "outputId": "6bf674be-644e-4c51-9edc-03800f4e22b0"
      },
      "execution_count": null,
      "outputs": [
        {
          "output_type": "stream",
          "name": "stderr",
          "text": [
            "[nltk_data] Downloading package stopwords to /root/nltk_data...\n",
            "[nltk_data]   Unzipping corpora/stopwords.zip.\n"
          ]
        },
        {
          "output_type": "execute_result",
          "data": {
            "text/plain": [
              "True"
            ]
          },
          "metadata": {},
          "execution_count": 24
        }
      ]
    },
    {
      "cell_type": "markdown",
      "source": [
        "In the next cell, get list of stop words in English with:\n",
        "\n",
        "```python\n",
        "from nltk.corpus import stopwords\n",
        "stop_words = stopwords.words('english')\n",
        "```\n",
        "\n",
        ">- Show the first two stop words\n",
        ">- Show the total number of stop words"
      ],
      "metadata": {
        "id": "CsX-g97ouOfT"
      }
    },
    {
      "cell_type": "code",
      "source": [
        "from nltk.corpus import stopwords\n",
        "stop_words = stopwords.words('english')\n",
        "len(stop_words)"
      ],
      "metadata": {
        "id": "L6WSpuspuLH3",
        "colab": {
          "base_uri": "https://localhost:8080/"
        },
        "outputId": "eb4c544e-6d6c-48f4-e4ed-01edbe18c6a4"
      },
      "execution_count": null,
      "outputs": [
        {
          "output_type": "execute_result",
          "data": {
            "text/plain": [
              "179"
            ]
          },
          "metadata": {},
          "execution_count": 25
        }
      ]
    },
    {
      "cell_type": "markdown",
      "source": [
        "Now, we can use our `stop_words` list to filter our text:\n",
        "\n",
        "In the next cell, filter out stopwords from the `words3` variable. Store the result in a new variable, `words4`.\n",
        "\n",
        ">- Show the first 10 words in `words4`\n",
        ">- Show the number of words in `words4`"
      ],
      "metadata": {
        "id": "_XpJ2Ffyuoxl"
      }
    },
    {
      "cell_type": "code",
      "source": [
        "words4 = [word for word in words3 if word not in stop_words]\n",
        "words4[:10]"
      ],
      "metadata": {
        "id": "OiOFyd4kuut9",
        "colab": {
          "base_uri": "https://localhost:8080/"
        },
        "outputId": "1faf602e-0be0-4ce7-b789-e2bc7ba25055"
      },
      "execution_count": null,
      "outputs": [
        {
          "output_type": "execute_result",
          "data": {
            "text/plain": [
              "['wes',\n",
              " 'hall',\n",
              " 'years',\n",
              " 'bender',\n",
              " 'caster',\n",
              " 'wes',\n",
              " 'sustain',\n",
              " 'caster',\n",
              " 'sound',\n",
              " 'maple']"
            ]
          },
          "metadata": {},
          "execution_count": 26
        }
      ]
    },
    {
      "cell_type": "code",
      "source": [
        "len(words4)"
      ],
      "metadata": {
        "colab": {
          "base_uri": "https://localhost:8080/"
        },
        "id": "dgth8hIEOp7y",
        "outputId": "9eec499f-29e1-49ce-9fad-204d766ad6c6"
      },
      "execution_count": null,
      "outputs": [
        {
          "output_type": "execute_result",
          "data": {
            "text/plain": [
              "102"
            ]
          },
          "metadata": {},
          "execution_count": 27
        }
      ]
    },
    {
      "cell_type": "markdown",
      "source": [
        "### 2.4.5: Stemming\n",
        "\n",
        "In the context of text analysis, stemming is the process of reducing words to their base or root form, typically by removing suffixes. This process allows different variations of the same word to be treated as a single word. For example, the words \"running,\" \"ran,\" and \"runs\" would all be stemmed to \"run.\"\n",
        "\n",
        "Stemming is used to simplify the analysis of text data by reducing inflected words to their base forms. This can help improve the accuracy of tasks such as text search, information retrieval, and text mining.\n",
        "\n",
        "However, stemming can sometimes result in the stem being a non-linguistic word or a word that is not the root of the original word, which may affect the interpretability of the text.\n",
        "\n",
        "---\n"
      ],
      "metadata": {
        "id": "GF7KkkjxyxBJ"
      }
    },
    {
      "cell_type": "markdown",
      "source": [
        "**Stemming with Porter Stemmer**\n",
        "\n",
        "The`PorterStemmer()` in NLTK (Natural Language Toolkit) implements the Porter stemming algorithm. It works by removing common morphological and inflectional endings from words to reduce them to their base forms. For example, \"running,\" \"ran,\" and \"runs\" would all be stemmed to \"run.\"\n",
        "\n",
        "Stemming with `PorterStemmer()` can help improve the efficiency and accuracy of text processing tasks such as information retrieval, text mining, and natural language understanding by reducing variant forms of words to a common base form. However, it may also result in some inaccuracies or non-words, as it applies a set of heuristic rules rather than linguistic analysis."
      ],
      "metadata": {
        "id": "tRpxEt8BzXRh"
      }
    },
    {
      "cell_type": "markdown",
      "source": [
        "In the next cell:\n",
        "\n",
        ">- Create an instance of `PorterStemmer()` named, `porter_stemmer`\n",
        ">- Create a `words5` variable that will filter the `words4` variable to only include the stems of words based on `porter_stemmer`\n",
        ">- Show the first 10 tokens/words in `words5`\n",
        ">- Show how many words are in `words5`"
      ],
      "metadata": {
        "id": "5bB_xqwB2UTP"
      }
    },
    {
      "cell_type": "code",
      "source": [
        "porter_stemmer = nltk.PorterStemmer()\n",
        "\n",
        "words5 = [porter_stemmer.stem(word) for word in words4]\n",
        "\n",
        "print(words5[:10])\n",
        "print(len(words5))"
      ],
      "metadata": {
        "id": "11w2mWMHzWcq",
        "colab": {
          "base_uri": "https://localhost:8080/"
        },
        "outputId": "2f63ea12-1d4a-4d01-f82c-3001dc26a3ea"
      },
      "execution_count": null,
      "outputs": [
        {
          "output_type": "stream",
          "name": "stdout",
          "text": [
            "['we', 'hall', 'year', 'bender', 'caster', 'we', 'sustain', 'caster', 'sound', 'mapl']\n",
            "102\n"
          ]
        }
      ]
    },
    {
      "cell_type": "markdown",
      "source": [
        "---\n",
        "## Data Preparation Summary\n",
        "\n",
        "In this section we covered common ways to prepare text data. There could be other ways to process the data but this should give us a good start to performing anlaysis on our text data.\n",
        "\n",
        "---"
      ],
      "metadata": {
        "id": "yVjRfQbv3INN"
      }
    },
    {
      "cell_type": "markdown",
      "source": [
        "# 3: Text Analysis: Word Frequency\n",
        "\n",
        "In this section we analyze word frequencies based on several of our `words_` datasets we created in Section 2. By analyzing word frequency at the various steps in the data preparation process, it will help illustrate the importance of the `Data Preparation` phase of a text analysis project.\n",
        "\n",
        "---\n",
        "\n",
        "\n"
      ],
      "metadata": {
        "id": "S0yEutPgsYzA"
      }
    },
    {
      "cell_type": "markdown",
      "source": [
        "## 3.1: Initial Word Frequency\n",
        "\n",
        "In the next cell, show the word frequency of the intital token list, `tokens`.\n",
        "\n",
        ">- Create a frequency distribution by building a dictionary, `token_dict` that stores the tokens as keys and their frequency as values\n",
        ">- Create a DataFrame from `token_dict` called `token_df`\n",
        ">- Show the top 10 words based on frequency"
      ],
      "metadata": {
        "id": "N65jhNOz4E9e"
      }
    },
    {
      "cell_type": "code",
      "source": [
        "token_dict = {}\n",
        "\n",
        "for token in tokens:\n",
        "    token_dict.setdefault(token,0)\n",
        "    token_dict[token] +=1\n",
        "\n",
        "token_df = pd.DataFrame.from_dict(token_dict, orient = 'index', columns = ['Frequency']).sort_values(by = 'Frequency', ascending=False)\n",
        "token_df.head(10)"
      ],
      "metadata": {
        "id": "YpdyolOS8wMw",
        "colab": {
          "base_uri": "https://localhost:8080/",
          "height": 363
        },
        "outputId": "5686c188-3b7b-4ff2-8231-5f4eb8df10fc"
      },
      "execution_count": null,
      "outputs": [
        {
          "output_type": "execute_result",
          "data": {
            "text/plain": [
              "       Frequency\n",
              ".             34\n",
              "the           26\n",
              "I             19\n",
              ",             17\n",
              "’             12\n",
              "but           11\n",
              "The           11\n",
              "great          8\n",
              "and            8\n",
              "is             8"
            ],
            "text/html": [
              "\n",
              "  <div id=\"df-d522b441-7cea-4167-b66e-388a731a0c89\" class=\"colab-df-container\">\n",
              "    <div>\n",
              "<style scoped>\n",
              "    .dataframe tbody tr th:only-of-type {\n",
              "        vertical-align: middle;\n",
              "    }\n",
              "\n",
              "    .dataframe tbody tr th {\n",
              "        vertical-align: top;\n",
              "    }\n",
              "\n",
              "    .dataframe thead th {\n",
              "        text-align: right;\n",
              "    }\n",
              "</style>\n",
              "<table border=\"1\" class=\"dataframe\">\n",
              "  <thead>\n",
              "    <tr style=\"text-align: right;\">\n",
              "      <th></th>\n",
              "      <th>Frequency</th>\n",
              "    </tr>\n",
              "  </thead>\n",
              "  <tbody>\n",
              "    <tr>\n",
              "      <th>.</th>\n",
              "      <td>34</td>\n",
              "    </tr>\n",
              "    <tr>\n",
              "      <th>the</th>\n",
              "      <td>26</td>\n",
              "    </tr>\n",
              "    <tr>\n",
              "      <th>I</th>\n",
              "      <td>19</td>\n",
              "    </tr>\n",
              "    <tr>\n",
              "      <th>,</th>\n",
              "      <td>17</td>\n",
              "    </tr>\n",
              "    <tr>\n",
              "      <th>’</th>\n",
              "      <td>12</td>\n",
              "    </tr>\n",
              "    <tr>\n",
              "      <th>but</th>\n",
              "      <td>11</td>\n",
              "    </tr>\n",
              "    <tr>\n",
              "      <th>The</th>\n",
              "      <td>11</td>\n",
              "    </tr>\n",
              "    <tr>\n",
              "      <th>great</th>\n",
              "      <td>8</td>\n",
              "    </tr>\n",
              "    <tr>\n",
              "      <th>and</th>\n",
              "      <td>8</td>\n",
              "    </tr>\n",
              "    <tr>\n",
              "      <th>is</th>\n",
              "      <td>8</td>\n",
              "    </tr>\n",
              "  </tbody>\n",
              "</table>\n",
              "</div>\n",
              "    <div class=\"colab-df-buttons\">\n",
              "\n",
              "  <div class=\"colab-df-container\">\n",
              "    <button class=\"colab-df-convert\" onclick=\"convertToInteractive('df-d522b441-7cea-4167-b66e-388a731a0c89')\"\n",
              "            title=\"Convert this dataframe to an interactive table.\"\n",
              "            style=\"display:none;\">\n",
              "\n",
              "  <svg xmlns=\"http://www.w3.org/2000/svg\" height=\"24px\" viewBox=\"0 -960 960 960\">\n",
              "    <path d=\"M120-120v-720h720v720H120Zm60-500h600v-160H180v160Zm220 220h160v-160H400v160Zm0 220h160v-160H400v160ZM180-400h160v-160H180v160Zm440 0h160v-160H620v160ZM180-180h160v-160H180v160Zm440 0h160v-160H620v160Z\"/>\n",
              "  </svg>\n",
              "    </button>\n",
              "\n",
              "  <style>\n",
              "    .colab-df-container {\n",
              "      display:flex;\n",
              "      gap: 12px;\n",
              "    }\n",
              "\n",
              "    .colab-df-convert {\n",
              "      background-color: #E8F0FE;\n",
              "      border: none;\n",
              "      border-radius: 50%;\n",
              "      cursor: pointer;\n",
              "      display: none;\n",
              "      fill: #1967D2;\n",
              "      height: 32px;\n",
              "      padding: 0 0 0 0;\n",
              "      width: 32px;\n",
              "    }\n",
              "\n",
              "    .colab-df-convert:hover {\n",
              "      background-color: #E2EBFA;\n",
              "      box-shadow: 0px 1px 2px rgba(60, 64, 67, 0.3), 0px 1px 3px 1px rgba(60, 64, 67, 0.15);\n",
              "      fill: #174EA6;\n",
              "    }\n",
              "\n",
              "    .colab-df-buttons div {\n",
              "      margin-bottom: 4px;\n",
              "    }\n",
              "\n",
              "    [theme=dark] .colab-df-convert {\n",
              "      background-color: #3B4455;\n",
              "      fill: #D2E3FC;\n",
              "    }\n",
              "\n",
              "    [theme=dark] .colab-df-convert:hover {\n",
              "      background-color: #434B5C;\n",
              "      box-shadow: 0px 1px 3px 1px rgba(0, 0, 0, 0.15);\n",
              "      filter: drop-shadow(0px 1px 2px rgba(0, 0, 0, 0.3));\n",
              "      fill: #FFFFFF;\n",
              "    }\n",
              "  </style>\n",
              "\n",
              "    <script>\n",
              "      const buttonEl =\n",
              "        document.querySelector('#df-d522b441-7cea-4167-b66e-388a731a0c89 button.colab-df-convert');\n",
              "      buttonEl.style.display =\n",
              "        google.colab.kernel.accessAllowed ? 'block' : 'none';\n",
              "\n",
              "      async function convertToInteractive(key) {\n",
              "        const element = document.querySelector('#df-d522b441-7cea-4167-b66e-388a731a0c89');\n",
              "        const dataTable =\n",
              "          await google.colab.kernel.invokeFunction('convertToInteractive',\n",
              "                                                    [key], {});\n",
              "        if (!dataTable) return;\n",
              "\n",
              "        const docLinkHtml = 'Like what you see? Visit the ' +\n",
              "          '<a target=\"_blank\" href=https://colab.research.google.com/notebooks/data_table.ipynb>data table notebook</a>'\n",
              "          + ' to learn more about interactive tables.';\n",
              "        element.innerHTML = '';\n",
              "        dataTable['output_type'] = 'display_data';\n",
              "        await google.colab.output.renderOutput(dataTable, element);\n",
              "        const docLink = document.createElement('div');\n",
              "        docLink.innerHTML = docLinkHtml;\n",
              "        element.appendChild(docLink);\n",
              "      }\n",
              "    </script>\n",
              "  </div>\n",
              "\n",
              "\n",
              "<div id=\"df-187abc85-1ec3-4ca3-86f0-3659230b57ef\">\n",
              "  <button class=\"colab-df-quickchart\" onclick=\"quickchart('df-187abc85-1ec3-4ca3-86f0-3659230b57ef')\"\n",
              "            title=\"Suggest charts\"\n",
              "            style=\"display:none;\">\n",
              "\n",
              "<svg xmlns=\"http://www.w3.org/2000/svg\" height=\"24px\"viewBox=\"0 0 24 24\"\n",
              "     width=\"24px\">\n",
              "    <g>\n",
              "        <path d=\"M19 3H5c-1.1 0-2 .9-2 2v14c0 1.1.9 2 2 2h14c1.1 0 2-.9 2-2V5c0-1.1-.9-2-2-2zM9 17H7v-7h2v7zm4 0h-2V7h2v10zm4 0h-2v-4h2v4z\"/>\n",
              "    </g>\n",
              "</svg>\n",
              "  </button>\n",
              "\n",
              "<style>\n",
              "  .colab-df-quickchart {\n",
              "      --bg-color: #E8F0FE;\n",
              "      --fill-color: #1967D2;\n",
              "      --hover-bg-color: #E2EBFA;\n",
              "      --hover-fill-color: #174EA6;\n",
              "      --disabled-fill-color: #AAA;\n",
              "      --disabled-bg-color: #DDD;\n",
              "  }\n",
              "\n",
              "  [theme=dark] .colab-df-quickchart {\n",
              "      --bg-color: #3B4455;\n",
              "      --fill-color: #D2E3FC;\n",
              "      --hover-bg-color: #434B5C;\n",
              "      --hover-fill-color: #FFFFFF;\n",
              "      --disabled-bg-color: #3B4455;\n",
              "      --disabled-fill-color: #666;\n",
              "  }\n",
              "\n",
              "  .colab-df-quickchart {\n",
              "    background-color: var(--bg-color);\n",
              "    border: none;\n",
              "    border-radius: 50%;\n",
              "    cursor: pointer;\n",
              "    display: none;\n",
              "    fill: var(--fill-color);\n",
              "    height: 32px;\n",
              "    padding: 0;\n",
              "    width: 32px;\n",
              "  }\n",
              "\n",
              "  .colab-df-quickchart:hover {\n",
              "    background-color: var(--hover-bg-color);\n",
              "    box-shadow: 0 1px 2px rgba(60, 64, 67, 0.3), 0 1px 3px 1px rgba(60, 64, 67, 0.15);\n",
              "    fill: var(--button-hover-fill-color);\n",
              "  }\n",
              "\n",
              "  .colab-df-quickchart-complete:disabled,\n",
              "  .colab-df-quickchart-complete:disabled:hover {\n",
              "    background-color: var(--disabled-bg-color);\n",
              "    fill: var(--disabled-fill-color);\n",
              "    box-shadow: none;\n",
              "  }\n",
              "\n",
              "  .colab-df-spinner {\n",
              "    border: 2px solid var(--fill-color);\n",
              "    border-color: transparent;\n",
              "    border-bottom-color: var(--fill-color);\n",
              "    animation:\n",
              "      spin 1s steps(1) infinite;\n",
              "  }\n",
              "\n",
              "  @keyframes spin {\n",
              "    0% {\n",
              "      border-color: transparent;\n",
              "      border-bottom-color: var(--fill-color);\n",
              "      border-left-color: var(--fill-color);\n",
              "    }\n",
              "    20% {\n",
              "      border-color: transparent;\n",
              "      border-left-color: var(--fill-color);\n",
              "      border-top-color: var(--fill-color);\n",
              "    }\n",
              "    30% {\n",
              "      border-color: transparent;\n",
              "      border-left-color: var(--fill-color);\n",
              "      border-top-color: var(--fill-color);\n",
              "      border-right-color: var(--fill-color);\n",
              "    }\n",
              "    40% {\n",
              "      border-color: transparent;\n",
              "      border-right-color: var(--fill-color);\n",
              "      border-top-color: var(--fill-color);\n",
              "    }\n",
              "    60% {\n",
              "      border-color: transparent;\n",
              "      border-right-color: var(--fill-color);\n",
              "    }\n",
              "    80% {\n",
              "      border-color: transparent;\n",
              "      border-right-color: var(--fill-color);\n",
              "      border-bottom-color: var(--fill-color);\n",
              "    }\n",
              "    90% {\n",
              "      border-color: transparent;\n",
              "      border-bottom-color: var(--fill-color);\n",
              "    }\n",
              "  }\n",
              "</style>\n",
              "\n",
              "  <script>\n",
              "    async function quickchart(key) {\n",
              "      const quickchartButtonEl =\n",
              "        document.querySelector('#' + key + ' button');\n",
              "      quickchartButtonEl.disabled = true;  // To prevent multiple clicks.\n",
              "      quickchartButtonEl.classList.add('colab-df-spinner');\n",
              "      try {\n",
              "        const charts = await google.colab.kernel.invokeFunction(\n",
              "            'suggestCharts', [key], {});\n",
              "      } catch (error) {\n",
              "        console.error('Error during call to suggestCharts:', error);\n",
              "      }\n",
              "      quickchartButtonEl.classList.remove('colab-df-spinner');\n",
              "      quickchartButtonEl.classList.add('colab-df-quickchart-complete');\n",
              "    }\n",
              "    (() => {\n",
              "      let quickchartButtonEl =\n",
              "        document.querySelector('#df-187abc85-1ec3-4ca3-86f0-3659230b57ef button');\n",
              "      quickchartButtonEl.style.display =\n",
              "        google.colab.kernel.accessAllowed ? 'block' : 'none';\n",
              "    })();\n",
              "  </script>\n",
              "</div>\n",
              "    </div>\n",
              "  </div>\n"
            ],
            "application/vnd.google.colaboratory.intrinsic+json": {
              "type": "dataframe",
              "variable_name": "token_df",
              "summary": "{\n  \"name\": \"token_df\",\n  \"rows\": 220,\n  \"fields\": [\n    {\n      \"column\": \"Frequency\",\n      \"properties\": {\n        \"dtype\": \"number\",\n        \"std\": 3,\n        \"min\": 1,\n        \"max\": 34,\n        \"num_unique_values\": 14,\n        \"samples\": [\n          5,\n          3,\n          34\n        ],\n        \"semantic_type\": \"\",\n        \"description\": \"\"\n      }\n    }\n  ]\n}"
            }
          },
          "metadata": {},
          "execution_count": 29
        }
      ]
    },
    {
      "cell_type": "markdown",
      "source": [
        "## 3.2: Plot `token_df`\n",
        "\n",
        "In the next cell plot the results from `token_df`.\n",
        "\n",
        ">- Only plot the first 20 tokens\n",
        ">- Try to replicate this chart: [Lesson14_3.2_token_frequency.png](https://drive.google.com/file/d/1_LU7SxElWM4R4D69Syc2ol7xZdIjMB2f/view?usp=sharing)\n"
      ],
      "metadata": {
        "id": "j-u6hh7M_2_v"
      }
    },
    {
      "cell_type": "code",
      "source": [
        "fig, ax = plt.subplots(figsize=(15,5))\n",
        "\n",
        "chart_data = token_df.head(20)\n",
        "\n",
        "chart_data.plot(kind = 'bar', ax = ax)\n",
        "\n",
        "\n",
        "#customize\n",
        "ax.set_xticks(range(20))\n",
        "ax.set_xticklabels(token_df.index[:20],rotation=45)\n",
        "\n",
        "plt.show()"
      ],
      "metadata": {
        "id": "jBoUzWG9Aly2",
        "colab": {
          "base_uri": "https://localhost:8080/",
          "height": 477
        },
        "outputId": "154596ba-369b-45d0-f81b-56592f38238a"
      },
      "execution_count": null,
      "outputs": [
        {
          "output_type": "display_data",
          "data": {
            "text/plain": [
              "<Figure size 1500x500 with 1 Axes>"
            ],
            "image/png": "[encoded data removed]"
          },
          "metadata": {}
        }
      ]
    },
    {
      "cell_type": "markdown",
      "source": [
        "## 3.3: Plot `words5`\n",
        "\n",
        "In the next cell plot the results from `words5`, the text data after all the processing steps in section 2.\n",
        "\n",
        ">- Only plot the first 20 tokens\n"
      ],
      "metadata": {
        "id": "FPixnIUWED0z"
      }
    },
    {
      "cell_type": "markdown",
      "source": [
        "First, create a DataFrame to store the frequencies from `words5`.\n",
        "\n",
        ">- Show the top 10 words based on frequency"
      ],
      "metadata": {
        "id": "8g_jCkGMEir4"
      }
    },
    {
      "cell_type": "code",
      "source": [
        "words5_dict = {}\n",
        "\n",
        "for token in words5:\n",
        "    words5_dict.setdefault(token,0)\n",
        "    words5_dict[token] +=1\n",
        "\n",
        "words5_df = pd.DataFrame.from_dict(words5_dict, orient = 'index', columns = ['Frequency']).sort_values(by = 'Frequency', ascending=False)\n",
        "words5_df.head(10)"
      ],
      "metadata": {
        "id": "CaV2lPKE__lh",
        "colab": {
          "base_uri": "https://localhost:8080/",
          "height": 363
        },
        "outputId": "6bfe193e-e3d9-418b-b348-b914c197515d"
      },
      "execution_count": null,
      "outputs": [
        {
          "output_type": "execute_result",
          "data": {
            "text/plain": [
              "         Frequency\n",
              "guitar          10\n",
              "we               7\n",
              "caster           7\n",
              "bender           6\n",
              "hall             4\n",
              "tone             4\n",
              "year             3\n",
              "sustain          3\n",
              "sound            3\n",
              "action           3"
            ],
            "text/html": [
              "\n",
              "  <div id=\"df-8f4677d7-995d-4c58-b4b2-de1a3200b9e2\" class=\"colab-df-container\">\n",
              "    <div>\n",
              "<style scoped>\n",
              "    .dataframe tbody tr th:only-of-type {\n",
              "        vertical-align: middle;\n",
              "    }\n",
              "\n",
              "    .dataframe tbody tr th {\n",
              "        vertical-align: top;\n",
              "    }\n",
              "\n",
              "    .dataframe thead th {\n",
              "        text-align: right;\n",
              "    }\n",
              "</style>\n",
              "<table border=\"1\" class=\"dataframe\">\n",
              "  <thead>\n",
              "    <tr style=\"text-align: right;\">\n",
              "      <th></th>\n",
              "      <th>Frequency</th>\n",
              "    </tr>\n",
              "  </thead>\n",
              "  <tbody>\n",
              "    <tr>\n",
              "      <th>guitar</th>\n",
              "      <td>10</td>\n",
              "    </tr>\n",
              "    <tr>\n",
              "      <th>we</th>\n",
              "      <td>7</td>\n",
              "    </tr>\n",
              "    <tr>\n",
              "      <th>caster</th>\n",
              "      <td>7</td>\n",
              "    </tr>\n",
              "    <tr>\n",
              "      <th>bender</th>\n",
              "      <td>6</td>\n",
              "    </tr>\n",
              "    <tr>\n",
              "      <th>hall</th>\n",
              "      <td>4</td>\n",
              "    </tr>\n",
              "    <tr>\n",
              "      <th>tone</th>\n",
              "      <td>4</td>\n",
              "    </tr>\n",
              "    <tr>\n",
              "      <th>year</th>\n",
              "      <td>3</td>\n",
              "    </tr>\n",
              "    <tr>\n",
              "      <th>sustain</th>\n",
              "      <td>3</td>\n",
              "    </tr>\n",
              "    <tr>\n",
              "      <th>sound</th>\n",
              "      <td>3</td>\n",
              "    </tr>\n",
              "    <tr>\n",
              "      <th>action</th>\n",
              "      <td>3</td>\n",
              "    </tr>\n",
              "  </tbody>\n",
              "</table>\n",
              "</div>\n",
              "    <div class=\"colab-df-buttons\">\n",
              "\n",
              "  <div class=\"colab-df-container\">\n",
              "    <button class=\"colab-df-convert\" onclick=\"convertToInteractive('df-8f4677d7-995d-4c58-b4b2-de1a3200b9e2')\"\n",
              "            title=\"Convert this dataframe to an interactive table.\"\n",
              "            style=\"display:none;\">\n",
              "\n",
              "  <svg xmlns=\"http://www.w3.org/2000/svg\" height=\"24px\" viewBox=\"0 -960 960 960\">\n",
              "    <path d=\"M120-120v-720h720v720H120Zm60-500h600v-160H180v160Zm220 220h160v-160H400v160Zm0 220h160v-160H400v160ZM180-400h160v-160H180v160Zm440 0h160v-160H620v160ZM180-180h160v-160H180v160Zm440 0h160v-160H620v160Z\"/>\n",
              "  </svg>\n",
              "    </button>\n",
              "\n",
              "  <style>\n",
              "    .colab-df-container {\n",
              "      display:flex;\n",
              "      gap: 12px;\n",
              "    }\n",
              "\n",
              "    .colab-df-convert {\n",
              "      background-color: #E8F0FE;\n",
              "      border: none;\n",
              "      border-radius: 50%;\n",
              "      cursor: pointer;\n",
              "      display: none;\n",
              "      fill: #1967D2;\n",
              "      height: 32px;\n",
              "      padding: 0 0 0 0;\n",
              "      width: 32px;\n",
              "    }\n",
              "\n",
              "    .colab-df-convert:hover {\n",
              "      background-color: #E2EBFA;\n",
              "      box-shadow: 0px 1px 2px rgba(60, 64, 67, 0.3), 0px 1px 3px 1px rgba(60, 64, 67, 0.15);\n",
              "      fill: #174EA6;\n",
              "    }\n",
              "\n",
              "    .colab-df-buttons div {\n",
              "      margin-bottom: 4px;\n",
              "    }\n",
              "\n",
              "    [theme=dark] .colab-df-convert {\n",
              "      background-color: #3B4455;\n",
              "      fill: #D2E3FC;\n",
              "    }\n",
              "\n",
              "    [theme=dark] .colab-df-convert:hover {\n",
              "      background-color: #434B5C;\n",
              "      box-shadow: 0px 1px 3px 1px rgba(0, 0, 0, 0.15);\n",
              "      filter: drop-shadow(0px 1px 2px rgba(0, 0, 0, 0.3));\n",
              "      fill: #FFFFFF;\n",
              "    }\n",
              "  </style>\n",
              "\n",
              "    <script>\n",
              "      const buttonEl =\n",
              "        document.querySelector('#df-8f4677d7-995d-4c58-b4b2-de1a3200b9e2 button.colab-df-convert');\n",
              "      buttonEl.style.display =\n",
              "        google.colab.kernel.accessAllowed ? 'block' : 'none';\n",
              "\n",
              "      async function convertToInteractive(key) {\n",
              "        const element = document.querySelector('#df-8f4677d7-995d-4c58-b4b2-de1a3200b9e2');\n",
              "        const dataTable =\n",
              "          await google.colab.kernel.invokeFunction('convertToInteractive',\n",
              "                                                    [key], {});\n",
              "        if (!dataTable) return;\n",
              "\n",
              "        const docLinkHtml = 'Like what you see? Visit the ' +\n",
              "          '<a target=\"_blank\" href=https://colab.research.google.com/notebooks/data_table.ipynb>data table notebook</a>'\n",
              "          + ' to learn more about interactive tables.';\n",
              "        element.innerHTML = '';\n",
              "        dataTable['output_type'] = 'display_data';\n",
              "        await google.colab.output.renderOutput(dataTable, element);\n",
              "        const docLink = document.createElement('div');\n",
              "        docLink.innerHTML = docLinkHtml;\n",
              "        element.appendChild(docLink);\n",
              "      }\n",
              "    </script>\n",
              "  </div>\n",
              "\n",
              "\n",
              "<div id=\"df-98f8e2e9-466f-40e8-8272-10f4ba022917\">\n",
              "  <button class=\"colab-df-quickchart\" onclick=\"quickchart('df-98f8e2e9-466f-40e8-8272-10f4ba022917')\"\n",
              "            title=\"Suggest charts\"\n",
              "            style=\"display:none;\">\n",
              "\n",
              "<svg xmlns=\"http://www.w3.org/2000/svg\" height=\"24px\"viewBox=\"0 0 24 24\"\n",
              "     width=\"24px\">\n",
              "    <g>\n",
              "        <path d=\"M19 3H5c-1.1 0-2 .9-2 2v14c0 1.1.9 2 2 2h14c1.1 0 2-.9 2-2V5c0-1.1-.9-2-2-2zM9 17H7v-7h2v7zm4 0h-2V7h2v10zm4 0h-2v-4h2v4z\"/>\n",
              "    </g>\n",
              "</svg>\n",
              "  </button>\n",
              "\n",
              "<style>\n",
              "  .colab-df-quickchart {\n",
              "      --bg-color: #E8F0FE;\n",
              "      --fill-color: #1967D2;\n",
              "      --hover-bg-color: #E2EBFA;\n",
              "      --hover-fill-color: #174EA6;\n",
              "      --disabled-fill-color: #AAA;\n",
              "      --disabled-bg-color: #DDD;\n",
              "  }\n",
              "\n",
              "  [theme=dark] .colab-df-quickchart {\n",
              "      --bg-color: #3B4455;\n",
              "      --fill-color: #D2E3FC;\n",
              "      --hover-bg-color: #434B5C;\n",
              "      --hover-fill-color: #FFFFFF;\n",
              "      --disabled-bg-color: #3B4455;\n",
              "      --disabled-fill-color: #666;\n",
              "  }\n",
              "\n",
              "  .colab-df-quickchart {\n",
              "    background-color: var(--bg-color);\n",
              "    border: none;\n",
              "    border-radius: 50%;\n",
              "    cursor: pointer;\n",
              "    display: none;\n",
              "    fill: var(--fill-color);\n",
              "    height: 32px;\n",
              "    padding: 0;\n",
              "    width: 32px;\n",
              "  }\n",
              "\n",
              "  .colab-df-quickchart:hover {\n",
              "    background-color: var(--hover-bg-color);\n",
              "    box-shadow: 0 1px 2px rgba(60, 64, 67, 0.3), 0 1px 3px 1px rgba(60, 64, 67, 0.15);\n",
              "    fill: var(--button-hover-fill-color);\n",
              "  }\n",
              "\n",
              "  .colab-df-quickchart-complete:disabled,\n",
              "  .colab-df-quickchart-complete:disabled:hover {\n",
              "    background-color: var(--disabled-bg-color);\n",
              "    fill: var(--disabled-fill-color);\n",
              "    box-shadow: none;\n",
              "  }\n",
              "\n",
              "  .colab-df-spinner {\n",
              "    border: 2px solid var(--fill-color);\n",
              "    border-color: transparent;\n",
              "    border-bottom-color: var(--fill-color);\n",
              "    animation:\n",
              "      spin 1s steps(1) infinite;\n",
              "  }\n",
              "\n",
              "  @keyframes spin {\n",
              "    0% {\n",
              "      border-color: transparent;\n",
              "      border-bottom-color: var(--fill-color);\n",
              "      border-left-color: var(--fill-color);\n",
              "    }\n",
              "    20% {\n",
              "      border-color: transparent;\n",
              "      border-left-color: var(--fill-color);\n",
              "      border-top-color: var(--fill-color);\n",
              "    }\n",
              "    30% {\n",
              "      border-color: transparent;\n",
              "      border-left-color: var(--fill-color);\n",
              "      border-top-color: var(--fill-color);\n",
              "      border-right-color: var(--fill-color);\n",
              "    }\n",
              "    40% {\n",
              "      border-color: transparent;\n",
              "      border-right-color: var(--fill-color);\n",
              "      border-top-color: var(--fill-color);\n",
              "    }\n",
              "    60% {\n",
              "      border-color: transparent;\n",
              "      border-right-color: var(--fill-color);\n",
              "    }\n",
              "    80% {\n",
              "      border-color: transparent;\n",
              "      border-right-color: var(--fill-color);\n",
              "      border-bottom-color: var(--fill-color);\n",
              "    }\n",
              "    90% {\n",
              "      border-color: transparent;\n",
              "      border-bottom-color: var(--fill-color);\n",
              "    }\n",
              "  }\n",
              "</style>\n",
              "\n",
              "  <script>\n",
              "    async function quickchart(key) {\n",
              "      const quickchartButtonEl =\n",
              "        document.querySelector('#' + key + ' button');\n",
              "      quickchartButtonEl.disabled = true;  // To prevent multiple clicks.\n",
              "      quickchartButtonEl.classList.add('colab-df-spinner');\n",
              "      try {\n",
              "        const charts = await google.colab.kernel.invokeFunction(\n",
              "            'suggestCharts', [key], {});\n",
              "      } catch (error) {\n",
              "        console.error('Error during call to suggestCharts:', error);\n",
              "      }\n",
              "      quickchartButtonEl.classList.remove('colab-df-spinner');\n",
              "      quickchartButtonEl.classList.add('colab-df-quickchart-complete');\n",
              "    }\n",
              "    (() => {\n",
              "      let quickchartButtonEl =\n",
              "        document.querySelector('#df-98f8e2e9-466f-40e8-8272-10f4ba022917 button');\n",
              "      quickchartButtonEl.style.display =\n",
              "        google.colab.kernel.accessAllowed ? 'block' : 'none';\n",
              "    })();\n",
              "  </script>\n",
              "</div>\n",
              "    </div>\n",
              "  </div>\n"
            ],
            "application/vnd.google.colaboratory.intrinsic+json": {
              "type": "dataframe",
              "variable_name": "words5_df",
              "summary": "{\n  \"name\": \"words5_df\",\n  \"rows\": 56,\n  \"fields\": [\n    {\n      \"column\": \"Frequency\",\n      \"properties\": {\n        \"dtype\": \"number\",\n        \"std\": 1,\n        \"min\": 1,\n        \"max\": 10,\n        \"num_unique_values\": 7,\n        \"samples\": [\n          10,\n          7,\n          2\n        ],\n        \"semantic_type\": \"\",\n        \"description\": \"\"\n      }\n    }\n  ]\n}"
            }
          },
          "metadata": {},
          "execution_count": 31
        }
      ]
    },
    {
      "cell_type": "markdown",
      "source": [
        "Now plot the first 20 tokens from the `words5_df`.\n",
        "\n",
        ">- Try to replicate this chart: [Lesson21_3.3_words5_frequency.png](https://drive.google.com/file/d/1-2N24p-HocuDXyM3D-SXT5u9BaJAwO64/view?usp=sharing)"
      ],
      "metadata": {
        "id": "wGM3RKK-Ex8g"
      }
    },
    {
      "cell_type": "code",
      "source": [
        "fig, ax = plt.subplots(figsize=(15,5))\n",
        "\n",
        "chart_data = words5_df.head(20)\n",
        "\n",
        "chart_data.plot(kind = 'bar', ax = ax)\n",
        "\n",
        "\n",
        "#customize\n",
        "ax.set_xticks(range(20))\n",
        "ax.set_xticklabels(words5_df.index[:20],rotation=45)\n",
        "\n",
        "plt.show()"
      ],
      "metadata": {
        "id": "c5qQp6r34lJf",
        "colab": {
          "base_uri": "https://localhost:8080/",
          "height": 477
        },
        "outputId": "969d4cbe-5973-4e97-e3f8-e9dca1241d1e"
      },
      "execution_count": null,
      "outputs": [
        {
          "output_type": "display_data",
          "data": {
            "text/plain": [
              "<Figure size 1500x500 with 1 Axes>"
            ],
            "image/png": "[encoded data removed]"
          },
          "metadata": {}
        }
      ]
    },
    {
      "cell_type": "markdown",
      "source": [
        "# Section 4: Other Ways to Process Text Data\n",
        "\n",
        "In this section, we learn how to combine modules from `scikit-learn` and `nltk` to automate much of the data processing steps outlined in section 2.\n",
        "\n",
        "## Common Tools for Text Processing\n",
        "\n",
        "Here are some pros and cons of each of the three common text feature extraction classes in scikit-learn:\n",
        "\n",
        "1. **CountVectorizer**:\n",
        "    - **Pros**:\n",
        "        - Simple to use and understand.\n",
        "        - Efficient for small to medium-sized datasets.\n",
        "        - Useful for tasks where word counts are important (e.g., topic modeling).\n",
        "    - **Cons**:\n",
        "        - Treats all words as equally important, which may not be suitable for tasks where word frequencies need to be normalized.\n",
        "        - Doesn't capture the importance of words in the context of the entire corpus.\n",
        "2. **TfidfTransformer**:\n",
        "    - **Pros**:\n",
        "        - Transforms the count matrix into a normalized term-frequency or term-frequency times inverse document-frequency (TF-IDF) representation, which can be more meaningful.\n",
        "        - Helps to downweight common words and upweight rare words, potentially improving the performance of text-based models.\n",
        "    - **Cons**:\n",
        "        - Requires a prior count matrix (e.g., from CountVectorizer) as input.\n",
        "        - Ignores the order of words in the text, which may be important for certain tasks.\n",
        "3. **TfidfVectorizer**:\n",
        "    - **Pros**:\n",
        "        - Combines the functionality of CountVectorizer and TfidfTransformer into a single class.\n",
        "        - Simplifies the workflow by directly producing TF-IDF vectors from raw text.\n",
        "    - **Cons**:\n",
        "        - May be computationally expensive for large datasets due to the additional calculations required for TF-IDF normalization.\n",
        "        - The default settings may not be optimal for all datasets, requiring tuning of parameters such as ngram_range and max_df.\n",
        "\n",
        "In summary, `CountVectorizer` is simple and efficient but may not capture the importance of words accurately. `TfidfTransformer` improves on this by normalizing word frequencies, while `TfidfVectorizer` combines both functionalities for a more streamlined workflow. The choice between them depends on the specific requirements of your text analysis task and the characteristics of your dataset.\n",
        "\n",
        "---\n"
      ],
      "metadata": {
        "id": "cnYrmCcbeTsH"
      }
    },
    {
      "cell_type": "markdown",
      "source": [
        "## TF-IDF Notes\n",
        "\n",
        "In this section we will show how to produce a Dataframe that represents the TF-IDF Matrix.\n",
        "\n",
        "The DataFrame we will produce in 4.8, `tfidf_df`, is a DataFrame that represents the TF-IDF (Term Frequency-Inverse Document Frequency) matrix of the input documents. Each row in `tfidf_df` corresponds to a document, and each column corresponds to a unique term (word) in the corpus.\n",
        "\n",
        "The values in `tfidf_df` indicate the TF-IDF score of each term in each document. TF-IDF is a statistical measure that evaluates how important a word is to a document in a collection (corpus). It is calculated as the product of two statistics:\n",
        "\n",
        "1. **Term Frequency (TF)**: The number of times a term appears in a document, normalized by the total number of terms in the document. It is calculated as:\n",
        "\n",
        "   $TF(t, d) = \\frac{\\text{Number of times term t appears in document d}}{\\text{Total number of terms in document d}}$\n",
        "\n",
        "2. **Inverse Document Frequency (IDF)**: The logarithmically scaled inverse fraction of the documents that contain the term. It is calculated as:\n",
        "\n",
        "   $IDF(t, D) = log(\\frac{\\text{Total number of documents in corpus D}}{(1 +\\text{Number of documents containing term t}})$\n",
        "\n",
        "  >- The `1` in the denominator prevents division by zero when a term does not appear in any document.\n",
        "\n",
        "\n",
        "The TF-IDF score for a term `t` in a document `d` is then calculated as:\n",
        "\n",
        ">- TF-IDF(t, d, D) = $TF(t, d) * IDF(t, D)$\n",
        "\n",
        "In the `tfidf_df` DataFrame, each cell (i, j) contains the TF-IDF score of term j in document i.\n",
        ">- The higher the TF-IDF score, the more important the term is to the document. TF-IDF is often used in information retrieval and text mining to extract meaningful terms from documents and to represent documents as vectors in machine learning models.\n",
        "---\n",
        "\n",
        "Let's work through an example to produce the TF-IDF matrix as a DataFrame.\n"
      ],
      "metadata": {
        "id": "55ClC-rFiN1J"
      }
    },
    {
      "cell_type": "markdown",
      "source": [
        "## 4.1: Imports\n",
        "\n",
        "In this cell we will import common libraries for text processing.\n",
        "\n",
        "```python\n",
        "from sklearn.feature_extraction.text import TfidfVectorizer\n",
        "from nltk.stem import PorterStemmer\n",
        "from nltk.corpus import stopwords\n",
        "from nltk.tokenize import word_tokenize\n",
        "import nltk\n",
        "nltk.download('punkt')\n",
        "nltk.download('stopwords')\n",
        "```"
      ],
      "metadata": {
        "id": "5Ju-Ynjnfigb"
      }
    },
    {
      "cell_type": "code",
      "source": [
        "from sklearn.feature_extraction.text import TfidfVectorizer\n",
        "from nltk.stem import PorterStemmer\n",
        "from nltk.corpus import stopwords\n",
        "from nltk.tokenize import word_tokenize\n",
        "import nltk\n",
        "nltk.download('punkt')\n",
        "nltk.download('stopwords')"
      ],
      "metadata": {
        "id": "EavcCCoPftnY",
        "colab": {
          "base_uri": "https://localhost:8080/"
        },
        "outputId": "e5322c8a-fbf6-4049-bec5-f6d3a9f9e0be"
      },
      "execution_count": null,
      "outputs": [
        {
          "output_type": "stream",
          "name": "stderr",
          "text": [
            "[nltk_data] Downloading package punkt to /root/nltk_data...\n",
            "[nltk_data]   Package punkt is already up-to-date!\n",
            "[nltk_data] Downloading package stopwords to /root/nltk_data...\n",
            "[nltk_data]   Package stopwords is already up-to-date!\n"
          ]
        },
        {
          "output_type": "execute_result",
          "data": {
            "text/plain": [
              "True"
            ]
          },
          "metadata": {},
          "execution_count": 34
        }
      ]
    },
    {
      "cell_type": "markdown",
      "source": [
        "## 4.2: Example Setup\n",
        "\n",
        "To illustrate how to use these tools, we will create a simple documents list.\n",
        "\n",
        "```python\n",
        "# Sample documents\n",
        "documents = [\"This is a sample document.\", \"Another example document.\", \"Yet another example document.\"]\n",
        "```"
      ],
      "metadata": {
        "id": "xLaxmELRfzc-"
      }
    },
    {
      "cell_type": "code",
      "source": [
        "documents = [\"This is a sample document.\", \"Another example document.\", \"Yet another example document.\"]"
      ],
      "metadata": {
        "id": "j_4woDy9hbdP"
      },
      "execution_count": null,
      "outputs": []
    },
    {
      "cell_type": "markdown",
      "source": [
        "## 4.3: Initialize Stemmer\n",
        "\n",
        "Here, we will initialize `PorterStemmer()`\n",
        "\n",
        "```python\n",
        "# Initialize a stemmer\n",
        "stemmer = PorterStemmer()\n",
        "```"
      ],
      "metadata": {
        "id": "ZX-MATbqgAUC"
      }
    },
    {
      "cell_type": "code",
      "source": [
        "stemmer = PorterStemmer()"
      ],
      "metadata": {
        "id": "k-uujKRVgMfy"
      },
      "execution_count": null,
      "outputs": []
    },
    {
      "cell_type": "markdown",
      "source": [
        "## 4.4: Function to Tokenize, Stem, and Remove Stop Words\n",
        "\n",
        "Here we can define a function to perform several steps in the data processing. The function will:\n",
        "\n",
        "1. Tokenize the text\n",
        "2. Stem the tokens\n",
        "3. Return a list of stems removing stopwords\n",
        "\n",
        "```python\n",
        "# Tokenization, stemming, and stop words removal\n",
        "def tokenize(text):\n",
        "    tokens = word_tokenize(text)\n",
        "    stems = [stemmer.stem(token) for token in tokens]\n",
        "    return [stem for stem in stems if stem not in stopwords.words('english')]\n",
        "  ```"
      ],
      "metadata": {
        "id": "E6SsH8oZgcze"
      }
    },
    {
      "cell_type": "code",
      "source": [
        "def tokenize(text):\n",
        "    tokens = word_tokenize(text)\n",
        "    stems = [stemmer.stem(token) for token in tokens]\n",
        "    return [stem for stem in stems if stem not in stopwords.words('english')]"
      ],
      "metadata": {
        "id": "gdweokXogOo7"
      },
      "execution_count": null,
      "outputs": []
    },
    {
      "cell_type": "markdown",
      "source": [
        "## 4.5: Create a TfidfVectorizer with Custom Tokenizer\n",
        "\n",
        "See [sklearn.feature_extraction.text.TfidfVectorizer doc](https://scikit-learn.org/stable/modules/generated/sklearn.feature_extraction.text.TfidfVectorizer.html#sklearn.feature_extraction.text.TfidfVectorizer)"
      ],
      "metadata": {
        "id": "BzpQnrBbhJCv"
      }
    },
    {
      "cell_type": "code",
      "source": [
        "vectorizer = TfidfVectorizer()"
      ],
      "metadata": {
        "id": "Ok_eGne6g9Gt"
      },
      "execution_count": null,
      "outputs": []
    },
    {
      "cell_type": "markdown",
      "source": [
        "## 4.6: Fit and Transform Documents"
      ],
      "metadata": {
        "id": "c9i-f2avhUTb"
      }
    },
    {
      "cell_type": "code",
      "source": [
        "X = vectorizer.fit_transform(documents)"
      ],
      "metadata": {
        "id": "2O5V0O80hTer"
      },
      "execution_count": null,
      "outputs": []
    },
    {
      "cell_type": "markdown",
      "source": [
        "## 4.7: Get Feature Names (words)\n",
        "\n",
        "See [get_feature_names_out() method](https://scikit-learn.org/stable/modules/generated/sklearn.feature_extraction.text.TfidfVectorizer.html#sklearn.feature_extraction.text.TfidfVectorizer.get_feature_names_out)"
      ],
      "metadata": {
        "id": "DSD9v7Vchlk5"
      }
    },
    {
      "cell_type": "code",
      "source": [
        "f_names = vectorizer.get_feature_names_out()"
      ],
      "metadata": {
        "id": "nolOQSL9hZzr"
      },
      "execution_count": null,
      "outputs": []
    },
    {
      "cell_type": "markdown",
      "source": [
        "## 4.8: Convert Matrix to DataFrame for Display"
      ],
      "metadata": {
        "id": "WVyhrjNXhrzv"
      }
    },
    {
      "cell_type": "code",
      "source": [
        "f_names_df = pd.DataFrame(f_names)\n",
        "f_names_df"
      ],
      "metadata": {
        "id": "wZnwQEgjhqfP",
        "colab": {
          "base_uri": "https://localhost:8080/",
          "height": 269
        },
        "outputId": "4578d4f8-9ce7-4a55-b7f6-5f9aa8b561d8"
      },
      "execution_count": null,
      "outputs": [
        {
          "output_type": "execute_result",
          "data": {
            "text/plain": [
              "          0\n",
              "0   another\n",
              "1  document\n",
              "2   example\n",
              "3        is\n",
              "4    sample\n",
              "5      this\n",
              "6       yet"
            ],
            "text/html": [
              "\n",
              "  <div id=\"df-9187338e-af6d-4394-a59d-c49307726994\" class=\"colab-df-container\">\n",
              "    <div>\n",
              "<style scoped>\n",
              "    .dataframe tbody tr th:only-of-type {\n",
              "        vertical-align: middle;\n",
              "    }\n",
              "\n",
              "    .dataframe tbody tr th {\n",
              "        vertical-align: top;\n",
              "    }\n",
              "\n",
              "    .dataframe thead th {\n",
              "        text-align: right;\n",
              "    }\n",
              "</style>\n",
              "<table border=\"1\" class=\"dataframe\">\n",
              "  <thead>\n",
              "    <tr style=\"text-align: right;\">\n",
              "      <th></th>\n",
              "      <th>0</th>\n",
              "    </tr>\n",
              "  </thead>\n",
              "  <tbody>\n",
              "    <tr>\n",
              "      <th>0</th>\n",
              "      <td>another</td>\n",
              "    </tr>\n",
              "    <tr>\n",
              "      <th>1</th>\n",
              "      <td>document</td>\n",
              "    </tr>\n",
              "    <tr>\n",
              "      <th>2</th>\n",
              "      <td>example</td>\n",
              "    </tr>\n",
              "    <tr>\n",
              "      <th>3</th>\n",
              "      <td>is</td>\n",
              "    </tr>\n",
              "    <tr>\n",
              "      <th>4</th>\n",
              "      <td>sample</td>\n",
              "    </tr>\n",
              "    <tr>\n",
              "      <th>5</th>\n",
              "      <td>this</td>\n",
              "    </tr>\n",
              "    <tr>\n",
              "      <th>6</th>\n",
              "      <td>yet</td>\n",
              "    </tr>\n",
              "  </tbody>\n",
              "</table>\n",
              "</div>\n",
              "    <div class=\"colab-df-buttons\">\n",
              "\n",
              "  <div class=\"colab-df-container\">\n",
              "    <button class=\"colab-df-convert\" onclick=\"convertToInteractive('df-9187338e-af6d-4394-a59d-c49307726994')\"\n",
              "            title=\"Convert this dataframe to an interactive table.\"\n",
              "            style=\"display:none;\">\n",
              "\n",
              "  <svg xmlns=\"http://www.w3.org/2000/svg\" height=\"24px\" viewBox=\"0 -960 960 960\">\n",
              "    <path d=\"M120-120v-720h720v720H120Zm60-500h600v-160H180v160Zm220 220h160v-160H400v160Zm0 220h160v-160H400v160ZM180-400h160v-160H180v160Zm440 0h160v-160H620v160ZM180-180h160v-160H180v160Zm440 0h160v-160H620v160Z\"/>\n",
              "  </svg>\n",
              "    </button>\n",
              "\n",
              "  <style>\n",
              "    .colab-df-container {\n",
              "      display:flex;\n",
              "      gap: 12px;\n",
              "    }\n",
              "\n",
              "    .colab-df-convert {\n",
              "      background-color: #E8F0FE;\n",
              "      border: none;\n",
              "      border-radius: 50%;\n",
              "      cursor: pointer;\n",
              "      display: none;\n",
              "      fill: #1967D2;\n",
              "      height: 32px;\n",
              "      padding: 0 0 0 0;\n",
              "      width: 32px;\n",
              "    }\n",
              "\n",
              "    .colab-df-convert:hover {\n",
              "      background-color: #E2EBFA;\n",
              "      box-shadow: 0px 1px 2px rgba(60, 64, 67, 0.3), 0px 1px 3px 1px rgba(60, 64, 67, 0.15);\n",
              "      fill: #174EA6;\n",
              "    }\n",
              "\n",
              "    .colab-df-buttons div {\n",
              "      margin-bottom: 4px;\n",
              "    }\n",
              "\n",
              "    [theme=dark] .colab-df-convert {\n",
              "      background-color: #3B4455;\n",
              "      fill: #D2E3FC;\n",
              "    }\n",
              "\n",
              "    [theme=dark] .colab-df-convert:hover {\n",
              "      background-color: #434B5C;\n",
              "      box-shadow: 0px 1px 3px 1px rgba(0, 0, 0, 0.15);\n",
              "      filter: drop-shadow(0px 1px 2px rgba(0, 0, 0, 0.3));\n",
              "      fill: #FFFFFF;\n",
              "    }\n",
              "  </style>\n",
              "\n",
              "    <script>\n",
              "      const buttonEl =\n",
              "        document.querySelector('#df-9187338e-af6d-4394-a59d-c49307726994 button.colab-df-convert');\n",
              "      buttonEl.style.display =\n",
              "        google.colab.kernel.accessAllowed ? 'block' : 'none';\n",
              "\n",
              "      async function convertToInteractive(key) {\n",
              "        const element = document.querySelector('#df-9187338e-af6d-4394-a59d-c49307726994');\n",
              "        const dataTable =\n",
              "          await google.colab.kernel.invokeFunction('convertToInteractive',\n",
              "                                                    [key], {});\n",
              "        if (!dataTable) return;\n",
              "\n",
              "        const docLinkHtml = 'Like what you see? Visit the ' +\n",
              "          '<a target=\"_blank\" href=https://colab.research.google.com/notebooks/data_table.ipynb>data table notebook</a>'\n",
              "          + ' to learn more about interactive tables.';\n",
              "        element.innerHTML = '';\n",
              "        dataTable['output_type'] = 'display_data';\n",
              "        await google.colab.output.renderOutput(dataTable, element);\n",
              "        const docLink = document.createElement('div');\n",
              "        docLink.innerHTML = docLinkHtml;\n",
              "        element.appendChild(docLink);\n",
              "      }\n",
              "    </script>\n",
              "  </div>\n",
              "\n",
              "\n",
              "<div id=\"df-8b7c5dab-a427-4c3e-93c0-a75bb0e0ab1a\">\n",
              "  <button class=\"colab-df-quickchart\" onclick=\"quickchart('df-8b7c5dab-a427-4c3e-93c0-a75bb0e0ab1a')\"\n",
              "            title=\"Suggest charts\"\n",
              "            style=\"display:none;\">\n",
              "\n",
              "<svg xmlns=\"http://www.w3.org/2000/svg\" height=\"24px\"viewBox=\"0 0 24 24\"\n",
              "     width=\"24px\">\n",
              "    <g>\n",
              "        <path d=\"M19 3H5c-1.1 0-2 .9-2 2v14c0 1.1.9 2 2 2h14c1.1 0 2-.9 2-2V5c0-1.1-.9-2-2-2zM9 17H7v-7h2v7zm4 0h-2V7h2v10zm4 0h-2v-4h2v4z\"/>\n",
              "    </g>\n",
              "</svg>\n",
              "  </button>\n",
              "\n",
              "<style>\n",
              "  .colab-df-quickchart {\n",
              "      --bg-color: #E8F0FE;\n",
              "      --fill-color: #1967D2;\n",
              "      --hover-bg-color: #E2EBFA;\n",
              "      --hover-fill-color: #174EA6;\n",
              "      --disabled-fill-color: #AAA;\n",
              "      --disabled-bg-color: #DDD;\n",
              "  }\n",
              "\n",
              "  [theme=dark] .colab-df-quickchart {\n",
              "      --bg-color: #3B4455;\n",
              "      --fill-color: #D2E3FC;\n",
              "      --hover-bg-color: #434B5C;\n",
              "      --hover-fill-color: #FFFFFF;\n",
              "      --disabled-bg-color: #3B4455;\n",
              "      --disabled-fill-color: #666;\n",
              "  }\n",
              "\n",
              "  .colab-df-quickchart {\n",
              "    background-color: var(--bg-color);\n",
              "    border: none;\n",
              "    border-radius: 50%;\n",
              "    cursor: pointer;\n",
              "    display: none;\n",
              "    fill: var(--fill-color);\n",
              "    height: 32px;\n",
              "    padding: 0;\n",
              "    width: 32px;\n",
              "  }\n",
              "\n",
              "  .colab-df-quickchart:hover {\n",
              "    background-color: var(--hover-bg-color);\n",
              "    box-shadow: 0 1px 2px rgba(60, 64, 67, 0.3), 0 1px 3px 1px rgba(60, 64, 67, 0.15);\n",
              "    fill: var(--button-hover-fill-color);\n",
              "  }\n",
              "\n",
              "  .colab-df-quickchart-complete:disabled,\n",
              "  .colab-df-quickchart-complete:disabled:hover {\n",
              "    background-color: var(--disabled-bg-color);\n",
              "    fill: var(--disabled-fill-color);\n",
              "    box-shadow: none;\n",
              "  }\n",
              "\n",
              "  .colab-df-spinner {\n",
              "    border: 2px solid var(--fill-color);\n",
              "    border-color: transparent;\n",
              "    border-bottom-color: var(--fill-color);\n",
              "    animation:\n",
              "      spin 1s steps(1) infinite;\n",
              "  }\n",
              "\n",
              "  @keyframes spin {\n",
              "    0% {\n",
              "      border-color: transparent;\n",
              "      border-bottom-color: var(--fill-color);\n",
              "      border-left-color: var(--fill-color);\n",
              "    }\n",
              "    20% {\n",
              "      border-color: transparent;\n",
              "      border-left-color: var(--fill-color);\n",
              "      border-top-color: var(--fill-color);\n",
              "    }\n",
              "    30% {\n",
              "      border-color: transparent;\n",
              "      border-left-color: var(--fill-color);\n",
              "      border-top-color: var(--fill-color);\n",
              "      border-right-color: var(--fill-color);\n",
              "    }\n",
              "    40% {\n",
              "      border-color: transparent;\n",
              "      border-right-color: var(--fill-color);\n",
              "      border-top-color: var(--fill-color);\n",
              "    }\n",
              "    60% {\n",
              "      border-color: transparent;\n",
              "      border-right-color: var(--fill-color);\n",
              "    }\n",
              "    80% {\n",
              "      border-color: transparent;\n",
              "      border-right-color: var(--fill-color);\n",
              "      border-bottom-color: var(--fill-color);\n",
              "    }\n",
              "    90% {\n",
              "      border-color: transparent;\n",
              "      border-bottom-color: var(--fill-color);\n",
              "    }\n",
              "  }\n",
              "</style>\n",
              "\n",
              "  <script>\n",
              "    async function quickchart(key) {\n",
              "      const quickchartButtonEl =\n",
              "        document.querySelector('#' + key + ' button');\n",
              "      quickchartButtonEl.disabled = true;  // To prevent multiple clicks.\n",
              "      quickchartButtonEl.classList.add('colab-df-spinner');\n",
              "      try {\n",
              "        const charts = await google.colab.kernel.invokeFunction(\n",
              "            'suggestCharts', [key], {});\n",
              "      } catch (error) {\n",
              "        console.error('Error during call to suggestCharts:', error);\n",
              "      }\n",
              "      quickchartButtonEl.classList.remove('colab-df-spinner');\n",
              "      quickchartButtonEl.classList.add('colab-df-quickchart-complete');\n",
              "    }\n",
              "    (() => {\n",
              "      let quickchartButtonEl =\n",
              "        document.querySelector('#df-8b7c5dab-a427-4c3e-93c0-a75bb0e0ab1a button');\n",
              "      quickchartButtonEl.style.display =\n",
              "        google.colab.kernel.accessAllowed ? 'block' : 'none';\n",
              "    })();\n",
              "  </script>\n",
              "</div>\n",
              "    </div>\n",
              "  </div>\n"
            ],
            "application/vnd.google.colaboratory.intrinsic+json": {
              "type": "dataframe",
              "variable_name": "f_names_df",
              "summary": "{\n  \"name\": \"f_names_df\",\n  \"rows\": 7,\n  \"fields\": [\n    {\n      \"column\": 0,\n      \"properties\": {\n        \"dtype\": \"string\",\n        \"num_unique_values\": 7,\n        \"samples\": [\n          \"another\",\n          \"document\",\n          \"this\"\n        ],\n        \"semantic_type\": \"\",\n        \"description\": \"\"\n      }\n    }\n  ]\n}"
            }
          },
          "metadata": {},
          "execution_count": 44
        }
      ]
    },
    {
      "cell_type": "markdown",
      "source": [
        "# Wrap-Up\n",
        "\n",
        "Although much of this class has covered numerical problems, text analysis is an important area given the large amount of text available electronically. This lesson introduced the main concepts of text processing (Data Preparation) and ended with an example generating word frequencies for nouns in our example text data.\n",
        "\n",
        "As with any data mining project, we spent a substantial amount of time focused on learning and applying various data processing to be able to improve our text anlayis.\n",
        "\n",
        "The two visualizations and word count dataframes helped illustrate why text processing is critical to text analyis as we see punctuation and stop words dominating the text frequency until we cleaned up our data.\n",
        "\n",
        "In future lessons we will cover other common text analysis techniques such as sentiment analysis and text classficastion while continuing to learn about text processing techniques.\n",
        "\n",
        "\n",
        "\n"
      ],
      "metadata": {
        "id": "ZpOXIiFRfCST"
      }
    }
  ]
}