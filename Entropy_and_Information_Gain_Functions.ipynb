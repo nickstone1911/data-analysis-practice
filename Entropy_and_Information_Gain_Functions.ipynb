{
  "nbformat": 4,
  "nbformat_minor": 0,
  "metadata": {
    "colab": {
      "provenance": [],
      "include_colab_link": true
    },
    "kernelspec": {
      "name": "python3",
      "display_name": "Python 3"
    },
    "language_info": {
      "name": "python"
    }
  },
  "cells": [
    {
      "cell_type": "markdown",
      "metadata": {
        "id": "view-in-github",
        "colab_type": "text"
      },
      "source": [
        "<a href=\"https://colab.research.google.com/github/nickstone1911/data-analysis-practice/blob/main/Entropy_and_Information_Gain_Functions.ipynb\" target=\"_parent\"><img src=\"https://colab.research.google.com/assets/colab-badge.svg\" alt=\"Open In Colab\"/></a>"
      ]
    },
    {
      "cell_type": "markdown",
      "source": [
        "# ABA Week 3, Day 1 Agenda\n",
        "\n",
        "1. Current Event Dicussion\n",
        "2. Entropy and IG Notes\n",
        "3. Entropy and IG Exercises\n",
        "\n",
        "---"
      ],
      "metadata": {
        "id": "xY1JRPWa5lE-"
      }
    },
    {
      "cell_type": "markdown",
      "source": [
        "\n",
        "# ABA Tech Lesson 04\n",
        "\n",
        "## Practice Exercises Part 1: Calculating Entropy and Information Gain\n",
        "\n",
        "In this exercise notebook, we will:\n",
        "\n",
        "1. Develop a strong understanding of Entropy and Information gain\n",
        "2. Use Python to create functions to calculate entropy and information gain\n",
        "---"
      ],
      "metadata": {
        "id": "nsN2oV3zQQSP"
      }
    },
    {
      "cell_type": "markdown",
      "source": [
        "# Entropy\n",
        "\n",
        "Entropy is a mesaure of disorder with values ranging from 0 and infinity where 0 means all categories of a target attribute are the same and as the values get larger it means our groups have a more even split of categories within them. As we add informative attributes we hope they add information and therefore reduce entropy.\n",
        "\n",
        "The formula for entropy is:\n",
        "\n",
        "  >- $Entropy = -1 * (p_{1} * log_{2}(p_{1}) +  p_{2} * log_{2}(p_{2}) + ...)$\n",
        "\n",
        "Where:\n",
        ">- Each $p_{i}$ represents the probability (or relative percentage) of the *i*th category within the dataset.\n",
        "\n",
        "---"
      ],
      "metadata": {
        "id": "Lg26-me-TPYl"
      }
    },
    {
      "cell_type": "markdown",
      "source": [
        "## Calculating Entropy\n",
        "\n",
        "To help understand entropy we will first use a small dataset to calculate entropy which will help us when we create our functions for entropy and information gain.\n",
        "\n",
        "\n"
      ],
      "metadata": {
        "id": "rDH4QsgZ6wxy"
      }
    },
    {
      "cell_type": "markdown",
      "source": [
        "### Example Data\n",
        "Run the following code cell to generate sample data for the first few problems in this exercise. In this dataset \"Credit Rating\" will be the attribute and \"Liability\" will be the target variable.\n",
        ">- Note: because this data will be randomly generated we will set a seed value"
      ],
      "metadata": {
        "id": "1IUgUNEN3NsI"
      }
    },
    {
      "cell_type": "code",
      "source": [
        "import random\n",
        "import pandas as pd\n",
        "random.seed(50)\n",
        "\n",
        "liability_data = [\"Normal\", \"High\"]\n",
        "\n",
        "random_data = []\n",
        "\n",
        "for i in range(100):\n",
        "\n",
        "  liability = random.choice(liability_data)\n",
        "\n",
        "  if liability == \"Normal\":\n",
        "\n",
        "    credit_rating = random.randint(600, 850)\n",
        "\n",
        "  else:\n",
        "\n",
        "    credit_rating = random.randint(300,700)\n",
        "\n",
        "\n",
        "  random_data.append((credit_rating, liability))\n",
        "\n",
        "random_data\n",
        "\n",
        "prob1_df = pd.DataFrame(random_data, columns = ['Credit Rating', 'Liability'])\n",
        "\n",
        "prob1_df.head()"
      ],
      "metadata": {
        "id": "q3zjnuvpyE9u",
        "colab": {
          "base_uri": "https://localhost:8080/",
          "height": 206
        },
        "outputId": "69648303-a51d-4b2f-e6a9-1cf5301c29f1"
      },
      "execution_count": 1,
      "outputs": [
        {
          "output_type": "execute_result",
          "data": {
            "text/plain": [
              "   Credit Rating Liability\n",
              "0            436      High\n",
              "1            626      High\n",
              "2            777    Normal\n",
              "3            692      High\n",
              "4            343      High"
            ],
            "text/html": [
              "\n",
              "  <div id=\"df-77a5a1df-71a1-49f5-9590-6f9fb1dc6661\" class=\"colab-df-container\">\n",
              "    <div>\n",
              "<style scoped>\n",
              "    .dataframe tbody tr th:only-of-type {\n",
              "        vertical-align: middle;\n",
              "    }\n",
              "\n",
              "    .dataframe tbody tr th {\n",
              "        vertical-align: top;\n",
              "    }\n",
              "\n",
              "    .dataframe thead th {\n",
              "        text-align: right;\n",
              "    }\n",
              "</style>\n",
              "<table border=\"1\" class=\"dataframe\">\n",
              "  <thead>\n",
              "    <tr style=\"text-align: right;\">\n",
              "      <th></th>\n",
              "      <th>Credit Rating</th>\n",
              "      <th>Liability</th>\n",
              "    </tr>\n",
              "  </thead>\n",
              "  <tbody>\n",
              "    <tr>\n",
              "      <th>0</th>\n",
              "      <td>436</td>\n",
              "      <td>High</td>\n",
              "    </tr>\n",
              "    <tr>\n",
              "      <th>1</th>\n",
              "      <td>626</td>\n",
              "      <td>High</td>\n",
              "    </tr>\n",
              "    <tr>\n",
              "      <th>2</th>\n",
              "      <td>777</td>\n",
              "      <td>Normal</td>\n",
              "    </tr>\n",
              "    <tr>\n",
              "      <th>3</th>\n",
              "      <td>692</td>\n",
              "      <td>High</td>\n",
              "    </tr>\n",
              "    <tr>\n",
              "      <th>4</th>\n",
              "      <td>343</td>\n",
              "      <td>High</td>\n",
              "    </tr>\n",
              "  </tbody>\n",
              "</table>\n",
              "</div>\n",
              "    <div class=\"colab-df-buttons\">\n",
              "\n",
              "  <div class=\"colab-df-container\">\n",
              "    <button class=\"colab-df-convert\" onclick=\"convertToInteractive('df-77a5a1df-71a1-49f5-9590-6f9fb1dc6661')\"\n",
              "            title=\"Convert this dataframe to an interactive table.\"\n",
              "            style=\"display:none;\">\n",
              "\n",
              "  <svg xmlns=\"http://www.w3.org/2000/svg\" height=\"24px\" viewBox=\"0 -960 960 960\">\n",
              "    <path d=\"M120-120v-720h720v720H120Zm60-500h600v-160H180v160Zm220 220h160v-160H400v160Zm0 220h160v-160H400v160ZM180-400h160v-160H180v160Zm440 0h160v-160H620v160ZM180-180h160v-160H180v160Zm440 0h160v-160H620v160Z\"/>\n",
              "  </svg>\n",
              "    </button>\n",
              "\n",
              "  <style>\n",
              "    .colab-df-container {\n",
              "      display:flex;\n",
              "      gap: 12px;\n",
              "    }\n",
              "\n",
              "    .colab-df-convert {\n",
              "      background-color: #E8F0FE;\n",
              "      border: none;\n",
              "      border-radius: 50%;\n",
              "      cursor: pointer;\n",
              "      display: none;\n",
              "      fill: #1967D2;\n",
              "      height: 32px;\n",
              "      padding: 0 0 0 0;\n",
              "      width: 32px;\n",
              "    }\n",
              "\n",
              "    .colab-df-convert:hover {\n",
              "      background-color: #E2EBFA;\n",
              "      box-shadow: 0px 1px 2px rgba(60, 64, 67, 0.3), 0px 1px 3px 1px rgba(60, 64, 67, 0.15);\n",
              "      fill: #174EA6;\n",
              "    }\n",
              "\n",
              "    .colab-df-buttons div {\n",
              "      margin-bottom: 4px;\n",
              "    }\n",
              "\n",
              "    [theme=dark] .colab-df-convert {\n",
              "      background-color: #3B4455;\n",
              "      fill: #D2E3FC;\n",
              "    }\n",
              "\n",
              "    [theme=dark] .colab-df-convert:hover {\n",
              "      background-color: #434B5C;\n",
              "      box-shadow: 0px 1px 3px 1px rgba(0, 0, 0, 0.15);\n",
              "      filter: drop-shadow(0px 1px 2px rgba(0, 0, 0, 0.3));\n",
              "      fill: #FFFFFF;\n",
              "    }\n",
              "  </style>\n",
              "\n",
              "    <script>\n",
              "      const buttonEl =\n",
              "        document.querySelector('#df-77a5a1df-71a1-49f5-9590-6f9fb1dc6661 button.colab-df-convert');\n",
              "      buttonEl.style.display =\n",
              "        google.colab.kernel.accessAllowed ? 'block' : 'none';\n",
              "\n",
              "      async function convertToInteractive(key) {\n",
              "        const element = document.querySelector('#df-77a5a1df-71a1-49f5-9590-6f9fb1dc6661');\n",
              "        const dataTable =\n",
              "          await google.colab.kernel.invokeFunction('convertToInteractive',\n",
              "                                                    [key], {});\n",
              "        if (!dataTable) return;\n",
              "\n",
              "        const docLinkHtml = 'Like what you see? Visit the ' +\n",
              "          '<a target=\"_blank\" href=https://colab.research.google.com/notebooks/data_table.ipynb>data table notebook</a>'\n",
              "          + ' to learn more about interactive tables.';\n",
              "        element.innerHTML = '';\n",
              "        dataTable['output_type'] = 'display_data';\n",
              "        await google.colab.output.renderOutput(dataTable, element);\n",
              "        const docLink = document.createElement('div');\n",
              "        docLink.innerHTML = docLinkHtml;\n",
              "        element.appendChild(docLink);\n",
              "      }\n",
              "    </script>\n",
              "  </div>\n",
              "\n",
              "\n",
              "<div id=\"df-bc25bb35-e56e-4b83-ae40-faf120bd017a\">\n",
              "  <button class=\"colab-df-quickchart\" onclick=\"quickchart('df-bc25bb35-e56e-4b83-ae40-faf120bd017a')\"\n",
              "            title=\"Suggest charts\"\n",
              "            style=\"display:none;\">\n",
              "\n",
              "<svg xmlns=\"http://www.w3.org/2000/svg\" height=\"24px\"viewBox=\"0 0 24 24\"\n",
              "     width=\"24px\">\n",
              "    <g>\n",
              "        <path d=\"M19 3H5c-1.1 0-2 .9-2 2v14c0 1.1.9 2 2 2h14c1.1 0 2-.9 2-2V5c0-1.1-.9-2-2-2zM9 17H7v-7h2v7zm4 0h-2V7h2v10zm4 0h-2v-4h2v4z\"/>\n",
              "    </g>\n",
              "</svg>\n",
              "  </button>\n",
              "\n",
              "<style>\n",
              "  .colab-df-quickchart {\n",
              "      --bg-color: #E8F0FE;\n",
              "      --fill-color: #1967D2;\n",
              "      --hover-bg-color: #E2EBFA;\n",
              "      --hover-fill-color: #174EA6;\n",
              "      --disabled-fill-color: #AAA;\n",
              "      --disabled-bg-color: #DDD;\n",
              "  }\n",
              "\n",
              "  [theme=dark] .colab-df-quickchart {\n",
              "      --bg-color: #3B4455;\n",
              "      --fill-color: #D2E3FC;\n",
              "      --hover-bg-color: #434B5C;\n",
              "      --hover-fill-color: #FFFFFF;\n",
              "      --disabled-bg-color: #3B4455;\n",
              "      --disabled-fill-color: #666;\n",
              "  }\n",
              "\n",
              "  .colab-df-quickchart {\n",
              "    background-color: var(--bg-color);\n",
              "    border: none;\n",
              "    border-radius: 50%;\n",
              "    cursor: pointer;\n",
              "    display: none;\n",
              "    fill: var(--fill-color);\n",
              "    height: 32px;\n",
              "    padding: 0;\n",
              "    width: 32px;\n",
              "  }\n",
              "\n",
              "  .colab-df-quickchart:hover {\n",
              "    background-color: var(--hover-bg-color);\n",
              "    box-shadow: 0 1px 2px rgba(60, 64, 67, 0.3), 0 1px 3px 1px rgba(60, 64, 67, 0.15);\n",
              "    fill: var(--button-hover-fill-color);\n",
              "  }\n",
              "\n",
              "  .colab-df-quickchart-complete:disabled,\n",
              "  .colab-df-quickchart-complete:disabled:hover {\n",
              "    background-color: var(--disabled-bg-color);\n",
              "    fill: var(--disabled-fill-color);\n",
              "    box-shadow: none;\n",
              "  }\n",
              "\n",
              "  .colab-df-spinner {\n",
              "    border: 2px solid var(--fill-color);\n",
              "    border-color: transparent;\n",
              "    border-bottom-color: var(--fill-color);\n",
              "    animation:\n",
              "      spin 1s steps(1) infinite;\n",
              "  }\n",
              "\n",
              "  @keyframes spin {\n",
              "    0% {\n",
              "      border-color: transparent;\n",
              "      border-bottom-color: var(--fill-color);\n",
              "      border-left-color: var(--fill-color);\n",
              "    }\n",
              "    20% {\n",
              "      border-color: transparent;\n",
              "      border-left-color: var(--fill-color);\n",
              "      border-top-color: var(--fill-color);\n",
              "    }\n",
              "    30% {\n",
              "      border-color: transparent;\n",
              "      border-left-color: var(--fill-color);\n",
              "      border-top-color: var(--fill-color);\n",
              "      border-right-color: var(--fill-color);\n",
              "    }\n",
              "    40% {\n",
              "      border-color: transparent;\n",
              "      border-right-color: var(--fill-color);\n",
              "      border-top-color: var(--fill-color);\n",
              "    }\n",
              "    60% {\n",
              "      border-color: transparent;\n",
              "      border-right-color: var(--fill-color);\n",
              "    }\n",
              "    80% {\n",
              "      border-color: transparent;\n",
              "      border-right-color: var(--fill-color);\n",
              "      border-bottom-color: var(--fill-color);\n",
              "    }\n",
              "    90% {\n",
              "      border-color: transparent;\n",
              "      border-bottom-color: var(--fill-color);\n",
              "    }\n",
              "  }\n",
              "</style>\n",
              "\n",
              "  <script>\n",
              "    async function quickchart(key) {\n",
              "      const quickchartButtonEl =\n",
              "        document.querySelector('#' + key + ' button');\n",
              "      quickchartButtonEl.disabled = true;  // To prevent multiple clicks.\n",
              "      quickchartButtonEl.classList.add('colab-df-spinner');\n",
              "      try {\n",
              "        const charts = await google.colab.kernel.invokeFunction(\n",
              "            'suggestCharts', [key], {});\n",
              "      } catch (error) {\n",
              "        console.error('Error during call to suggestCharts:', error);\n",
              "      }\n",
              "      quickchartButtonEl.classList.remove('colab-df-spinner');\n",
              "      quickchartButtonEl.classList.add('colab-df-quickchart-complete');\n",
              "    }\n",
              "    (() => {\n",
              "      let quickchartButtonEl =\n",
              "        document.querySelector('#df-bc25bb35-e56e-4b83-ae40-faf120bd017a button');\n",
              "      quickchartButtonEl.style.display =\n",
              "        google.colab.kernel.accessAllowed ? 'block' : 'none';\n",
              "    })();\n",
              "  </script>\n",
              "</div>\n",
              "\n",
              "    </div>\n",
              "  </div>\n"
            ],
            "application/vnd.google.colaboratory.intrinsic+json": {
              "type": "dataframe",
              "variable_name": "prob1_df",
              "summary": "{\n  \"name\": \"prob1_df\",\n  \"rows\": 100,\n  \"fields\": [\n    {\n      \"column\": \"Credit Rating\",\n      \"properties\": {\n        \"dtype\": \"number\",\n        \"std\": 150,\n        \"min\": 302,\n        \"max\": 850,\n        \"num_unique_values\": 91,\n        \"samples\": [\n          570,\n          619,\n          636\n        ],\n        \"semantic_type\": \"\",\n        \"description\": \"\"\n      }\n    },\n    {\n      \"column\": \"Liability\",\n      \"properties\": {\n        \"dtype\": \"category\",\n        \"num_unique_values\": 2,\n        \"samples\": [\n          \"Normal\",\n          \"High\"\n        ],\n        \"semantic_type\": \"\",\n        \"description\": \"\"\n      }\n    }\n  ]\n}"
            }
          },
          "metadata": {},
          "execution_count": 1
        }
      ]
    },
    {
      "cell_type": "markdown",
      "source": [
        "## Problem 1: Calculating Parent Entropy\n",
        "\n",
        "In the next code cells we will learn more about entropy by writing the python code to calculate it. The steps outlined by the various subcomponents of problem 1 should help when creating an entropy function.\n",
        "\n",
        "We will use the `prob1_df` sample data to perform the calculations for entropy.\n",
        "\n",
        "Hint: use `numpy` and the `log2` function to calculate log base 2."
      ],
      "metadata": {
        "id": "FVb1G-VRwVmT"
      }
    },
    {
      "cell_type": "markdown",
      "source": [
        "### Problem 1.1: Calculating the Probabilities for the Target Classes\n",
        "\n",
        "In the next code cell:\n",
        "\n",
        "1. Find the total number of cases\n",
        "2. Get the number of cases for each target class\n",
        "3. Calculate the probabilties (relative frequencies) for each target class"
      ],
      "metadata": {
        "id": "soowOUUtYCn3"
      }
    },
    {
      "cell_type": "code",
      "source": [
        "import numpy as np\n",
        "\n",
        "print('total cases: ' + str(len(prob1_df)))\n",
        "total = prob1_df.shape[0]\n",
        "\n",
        "target_counts = prob1_df['Liability'].value_counts().astype(float).values\n",
        "probs = target_counts/total\n",
        "probs"
      ],
      "metadata": {
        "id": "JSyt_BD7Y7BF",
        "colab": {
          "base_uri": "https://localhost:8080/"
        },
        "outputId": "dbf7efb0-d302-46a6-93f6-ec3e23d86856"
      },
      "execution_count": null,
      "outputs": [
        {
          "output_type": "stream",
          "name": "stdout",
          "text": [
            "total cases: 100\n"
          ]
        },
        {
          "output_type": "execute_result",
          "data": {
            "text/plain": [
              "array([0.5, 0.5])"
            ]
          },
          "metadata": {},
          "execution_count": 2
        }
      ]
    },
    {
      "cell_type": "markdown",
      "source": [
        "### Problem 1.2: Calculate Entropy Components\n",
        "\n",
        "We will define the entropy components as the expression, $p_{i} * log_{2}(p_{i})$ , where *i* represents each class.\n",
        "\n",
        "Hint: We can use the `numpy` `log2()` function to help with this calculation.\n",
        "\n",
        "\n"
      ],
      "metadata": {
        "id": "R5RIc5bVZRGM"
      }
    },
    {
      "cell_type": "code",
      "source": [
        "entropy_components = probs * np.log2(probs)\n",
        "entropy_components"
      ],
      "metadata": {
        "id": "iUkGBU44vQl2",
        "colab": {
          "base_uri": "https://localhost:8080/"
        },
        "outputId": "6a7fac9b-46bf-4d44-8564-afee607ddaa4"
      },
      "execution_count": null,
      "outputs": [
        {
          "output_type": "execute_result",
          "data": {
            "text/plain": [
              "array([-0.5, -0.5])"
            ]
          },
          "metadata": {},
          "execution_count": 4
        }
      ]
    },
    {
      "cell_type": "markdown",
      "source": [
        "### Problem 1.3: Calculate Parent Entropy\n",
        "\n",
        "Now that we have the entropy components, we can calculate entropy using the formula for entropy.\n",
        "\n",
        "In the next cell, calculate parent entropy for the `prob1_df` data.\n",
        ">- Parent entropy is commonly denoted with *H* so store your parent entropy value as *H*."
      ],
      "metadata": {
        "id": "Vu2g25Ayaxgx"
      }
    },
    {
      "cell_type": "code",
      "source": [
        "H = -1 * sum(entropy_components)\n",
        "H"
      ],
      "metadata": {
        "id": "WnsHJl2-a_Xb",
        "colab": {
          "base_uri": "https://localhost:8080/"
        },
        "outputId": "adad3d89-ed13-4d4e-abae-f86a4ded1b58"
      },
      "execution_count": null,
      "outputs": [
        {
          "output_type": "execute_result",
          "data": {
            "text/plain": [
              "1.0"
            ]
          },
          "metadata": {},
          "execution_count": 5
        }
      ]
    },
    {
      "cell_type": "markdown",
      "source": [
        "## Programming Problem 1: Entropy Function\n",
        "\n",
        "Now that we have a basic understand of how entropy is calculated, let's create a function to be used on any target variable.\n",
        "\n",
        "In the next code cell, create a function that will calculate entropy.\n",
        "\n",
        ">- Use the function signature, `def entropy(target_column):` to get your function started.\n",
        "\n"
      ],
      "metadata": {
        "id": "1kXIx9geZPPH"
      }
    },
    {
      "cell_type": "code",
      "source": [
        "def entropy(df, target_column):\n",
        "    total = df.shape[0]\n",
        "    target_counts = df[target_column].value_counts().astype(float).values\n",
        "    probs = target_counts/total\n",
        "    entropy_components = probs * np.log2(probs)\n",
        "    H = -1 * sum(entropy_components)\n",
        "    return H"
      ],
      "metadata": {
        "id": "UiC4T7PUVqxZ"
      },
      "execution_count": null,
      "outputs": []
    },
    {
      "cell_type": "markdown",
      "source": [
        "In the next cell, call your `entropy()` function and pass in the \"Liability\" column as your target_column. Verify this number matches what you calcuated in Problem 1.3."
      ],
      "metadata": {
        "id": "zN0WS-w_CcHx"
      }
    },
    {
      "cell_type": "code",
      "source": [
        "entropy(prob1_df, 'Liability')"
      ],
      "metadata": {
        "id": "SYjyNlu5CR-G",
        "colab": {
          "base_uri": "https://localhost:8080/"
        },
        "outputId": "2db813bc-7097-46bf-ef37-a061c4bb8007"
      },
      "execution_count": null,
      "outputs": [
        {
          "output_type": "execute_result",
          "data": {
            "text/plain": [
              "1.0"
            ]
          },
          "metadata": {},
          "execution_count": 7
        }
      ]
    },
    {
      "cell_type": "markdown",
      "source": [
        "# Information Gain\n",
        "\n",
        "Information Gain (IG) measures the change in entropy due to any amount of new information being added. As we add attributes we hope they add information.\n",
        "\n",
        "The formula for IG is:\n",
        "\n",
        ">- $IG(parent, children) = entropy(parent) - [p(c_{1}) * entropy(c_{1}) + p_{2}(c_{2}) * entropy(c_{2}) + ... ]$\n",
        "\n",
        "Where each $p(c_{i})$ represents the proporation of cases within each child node.\n",
        "\n",
        "---"
      ],
      "metadata": {
        "id": "rM7MZ2No-fIt"
      }
    },
    {
      "cell_type": "markdown",
      "source": [
        "## Problem 2: Calculating Information Gain\n",
        "\n",
        "In the next code cells calculate information gain for our example data in the `prob1_df` we created earlier in the notebook. The markdown cells should help guide us through the process and then we will put it all together.\n",
        "\n",
        ">- Initially, we will pick a best guess for a number on credit rating to split the data into two child nodes based on the credit rating.\n",
        ">- After you split your data based on credit rating, then you need to calculate entropy for each of the child nodes\n",
        ">- Finally you need to sum up the weighted entropy of each child node and subtact this value from the parent entropy to get information gain"
      ],
      "metadata": {
        "id": "ESshE-dO-WUk"
      }
    },
    {
      "cell_type": "markdown",
      "source": [
        "### Problem 2.1: Splitting the Data\n",
        "\n",
        "In the next code cell, split the data based on credit rating using a a `threshold` variable. Initially, we will set this value to 550 as our best guess at how to best split this data to help us predict \"Liability\"."
      ],
      "metadata": {
        "id": "yXFqmn17Mm7N"
      }
    },
    {
      "cell_type": "code",
      "source": [
        "threshold = 550\n",
        "\n",
        "df1 = prob1_df[prob1_df['Credit Rating'] < threshold]\n",
        "df2 = prob1_df[prob1_df['Credit Rating'] > threshold]\n",
        "df1"
      ],
      "metadata": {
        "id": "QISge1ClM6tf",
        "colab": {
          "base_uri": "https://localhost:8080/",
          "height": 1000
        },
        "outputId": "00da922c-21f3-4b01-f2be-4b9dd7c575e5"
      },
      "execution_count": null,
      "outputs": [
        {
          "output_type": "execute_result",
          "data": {
            "text/plain": [
              "    Credit Rating Liability\n",
              "0             436      High\n",
              "4             343      High\n",
              "5             414      High\n",
              "9             463      High\n",
              "17            302      High\n",
              "19            522      High\n",
              "21            438      High\n",
              "22            364      High\n",
              "27            518      High\n",
              "29            347      High\n",
              "32            304      High\n",
              "33            542      High\n",
              "37            425      High\n",
              "38            317      High\n",
              "43            538      High\n",
              "45            540      High\n",
              "52            477      High\n",
              "53            345      High\n",
              "54            381      High\n",
              "55            400      High\n",
              "61            308      High\n",
              "66            506      High\n",
              "67            478      High\n",
              "71            493      High\n",
              "72            322      High\n",
              "74            445      High\n",
              "82            538      High\n",
              "83            450      High\n",
              "85            414      High\n",
              "87            426      High\n",
              "89            394      High\n",
              "97            416      High\n",
              "98            500      High"
            ],
            "text/html": [
              "\n",
              "  <div id=\"df-65e45317-76db-4c92-8e4c-a2688a84d347\" class=\"colab-df-container\">\n",
              "    <div>\n",
              "<style scoped>\n",
              "    .dataframe tbody tr th:only-of-type {\n",
              "        vertical-align: middle;\n",
              "    }\n",
              "\n",
              "    .dataframe tbody tr th {\n",
              "        vertical-align: top;\n",
              "    }\n",
              "\n",
              "    .dataframe thead th {\n",
              "        text-align: right;\n",
              "    }\n",
              "</style>\n",
              "<table border=\"1\" class=\"dataframe\">\n",
              "  <thead>\n",
              "    <tr style=\"text-align: right;\">\n",
              "      <th></th>\n",
              "      <th>Credit Rating</th>\n",
              "      <th>Liability</th>\n",
              "    </tr>\n",
              "  </thead>\n",
              "  <tbody>\n",
              "    <tr>\n",
              "      <th>0</th>\n",
              "      <td>436</td>\n",
              "      <td>High</td>\n",
              "    </tr>\n",
              "    <tr>\n",
              "      <th>4</th>\n",
              "      <td>343</td>\n",
              "      <td>High</td>\n",
              "    </tr>\n",
              "    <tr>\n",
              "      <th>5</th>\n",
              "      <td>414</td>\n",
              "      <td>High</td>\n",
              "    </tr>\n",
              "    <tr>\n",
              "      <th>9</th>\n",
              "      <td>463</td>\n",
              "      <td>High</td>\n",
              "    </tr>\n",
              "    <tr>\n",
              "      <th>17</th>\n",
              "      <td>302</td>\n",
              "      <td>High</td>\n",
              "    </tr>\n",
              "    <tr>\n",
              "      <th>19</th>\n",
              "      <td>522</td>\n",
              "      <td>High</td>\n",
              "    </tr>\n",
              "    <tr>\n",
              "      <th>21</th>\n",
              "      <td>438</td>\n",
              "      <td>High</td>\n",
              "    </tr>\n",
              "    <tr>\n",
              "      <th>22</th>\n",
              "      <td>364</td>\n",
              "      <td>High</td>\n",
              "    </tr>\n",
              "    <tr>\n",
              "      <th>27</th>\n",
              "      <td>518</td>\n",
              "      <td>High</td>\n",
              "    </tr>\n",
              "    <tr>\n",
              "      <th>29</th>\n",
              "      <td>347</td>\n",
              "      <td>High</td>\n",
              "    </tr>\n",
              "    <tr>\n",
              "      <th>32</th>\n",
              "      <td>304</td>\n",
              "      <td>High</td>\n",
              "    </tr>\n",
              "    <tr>\n",
              "      <th>33</th>\n",
              "      <td>542</td>\n",
              "      <td>High</td>\n",
              "    </tr>\n",
              "    <tr>\n",
              "      <th>37</th>\n",
              "      <td>425</td>\n",
              "      <td>High</td>\n",
              "    </tr>\n",
              "    <tr>\n",
              "      <th>38</th>\n",
              "      <td>317</td>\n",
              "      <td>High</td>\n",
              "    </tr>\n",
              "    <tr>\n",
              "      <th>43</th>\n",
              "      <td>538</td>\n",
              "      <td>High</td>\n",
              "    </tr>\n",
              "    <tr>\n",
              "      <th>45</th>\n",
              "      <td>540</td>\n",
              "      <td>High</td>\n",
              "    </tr>\n",
              "    <tr>\n",
              "      <th>52</th>\n",
              "      <td>477</td>\n",
              "      <td>High</td>\n",
              "    </tr>\n",
              "    <tr>\n",
              "      <th>53</th>\n",
              "      <td>345</td>\n",
              "      <td>High</td>\n",
              "    </tr>\n",
              "    <tr>\n",
              "      <th>54</th>\n",
              "      <td>381</td>\n",
              "      <td>High</td>\n",
              "    </tr>\n",
              "    <tr>\n",
              "      <th>55</th>\n",
              "      <td>400</td>\n",
              "      <td>High</td>\n",
              "    </tr>\n",
              "    <tr>\n",
              "      <th>61</th>\n",
              "      <td>308</td>\n",
              "      <td>High</td>\n",
              "    </tr>\n",
              "    <tr>\n",
              "      <th>66</th>\n",
              "      <td>506</td>\n",
              "      <td>High</td>\n",
              "    </tr>\n",
              "    <tr>\n",
              "      <th>67</th>\n",
              "      <td>478</td>\n",
              "      <td>High</td>\n",
              "    </tr>\n",
              "    <tr>\n",
              "      <th>71</th>\n",
              "      <td>493</td>\n",
              "      <td>High</td>\n",
              "    </tr>\n",
              "    <tr>\n",
              "      <th>72</th>\n",
              "      <td>322</td>\n",
              "      <td>High</td>\n",
              "    </tr>\n",
              "    <tr>\n",
              "      <th>74</th>\n",
              "      <td>445</td>\n",
              "      <td>High</td>\n",
              "    </tr>\n",
              "    <tr>\n",
              "      <th>82</th>\n",
              "      <td>538</td>\n",
              "      <td>High</td>\n",
              "    </tr>\n",
              "    <tr>\n",
              "      <th>83</th>\n",
              "      <td>450</td>\n",
              "      <td>High</td>\n",
              "    </tr>\n",
              "    <tr>\n",
              "      <th>85</th>\n",
              "      <td>414</td>\n",
              "      <td>High</td>\n",
              "    </tr>\n",
              "    <tr>\n",
              "      <th>87</th>\n",
              "      <td>426</td>\n",
              "      <td>High</td>\n",
              "    </tr>\n",
              "    <tr>\n",
              "      <th>89</th>\n",
              "      <td>394</td>\n",
              "      <td>High</td>\n",
              "    </tr>\n",
              "    <tr>\n",
              "      <th>97</th>\n",
              "      <td>416</td>\n",
              "      <td>High</td>\n",
              "    </tr>\n",
              "    <tr>\n",
              "      <th>98</th>\n",
              "      <td>500</td>\n",
              "      <td>High</td>\n",
              "    </tr>\n",
              "  </tbody>\n",
              "</table>\n",
              "</div>\n",
              "    <div class=\"colab-df-buttons\">\n",
              "\n",
              "  <div class=\"colab-df-container\">\n",
              "    <button class=\"colab-df-convert\" onclick=\"convertToInteractive('df-65e45317-76db-4c92-8e4c-a2688a84d347')\"\n",
              "            title=\"Convert this dataframe to an interactive table.\"\n",
              "            style=\"display:none;\">\n",
              "\n",
              "  <svg xmlns=\"http://www.w3.org/2000/svg\" height=\"24px\" viewBox=\"0 -960 960 960\">\n",
              "    <path d=\"M120-120v-720h720v720H120Zm60-500h600v-160H180v160Zm220 220h160v-160H400v160Zm0 220h160v-160H400v160ZM180-400h160v-160H180v160Zm440 0h160v-160H620v160ZM180-180h160v-160H180v160Zm440 0h160v-160H620v160Z\"/>\n",
              "  </svg>\n",
              "    </button>\n",
              "\n",
              "  <style>\n",
              "    .colab-df-container {\n",
              "      display:flex;\n",
              "      gap: 12px;\n",
              "    }\n",
              "\n",
              "    .colab-df-convert {\n",
              "      background-color: #E8F0FE;\n",
              "      border: none;\n",
              "      border-radius: 50%;\n",
              "      cursor: pointer;\n",
              "      display: none;\n",
              "      fill: #1967D2;\n",
              "      height: 32px;\n",
              "      padding: 0 0 0 0;\n",
              "      width: 32px;\n",
              "    }\n",
              "\n",
              "    .colab-df-convert:hover {\n",
              "      background-color: #E2EBFA;\n",
              "      box-shadow: 0px 1px 2px rgba(60, 64, 67, 0.3), 0px 1px 3px 1px rgba(60, 64, 67, 0.15);\n",
              "      fill: #174EA6;\n",
              "    }\n",
              "\n",
              "    .colab-df-buttons div {\n",
              "      margin-bottom: 4px;\n",
              "    }\n",
              "\n",
              "    [theme=dark] .colab-df-convert {\n",
              "      background-color: #3B4455;\n",
              "      fill: #D2E3FC;\n",
              "    }\n",
              "\n",
              "    [theme=dark] .colab-df-convert:hover {\n",
              "      background-color: #434B5C;\n",
              "      box-shadow: 0px 1px 3px 1px rgba(0, 0, 0, 0.15);\n",
              "      filter: drop-shadow(0px 1px 2px rgba(0, 0, 0, 0.3));\n",
              "      fill: #FFFFFF;\n",
              "    }\n",
              "  </style>\n",
              "\n",
              "    <script>\n",
              "      const buttonEl =\n",
              "        document.querySelector('#df-65e45317-76db-4c92-8e4c-a2688a84d347 button.colab-df-convert');\n",
              "      buttonEl.style.display =\n",
              "        google.colab.kernel.accessAllowed ? 'block' : 'none';\n",
              "\n",
              "      async function convertToInteractive(key) {\n",
              "        const element = document.querySelector('#df-65e45317-76db-4c92-8e4c-a2688a84d347');\n",
              "        const dataTable =\n",
              "          await google.colab.kernel.invokeFunction('convertToInteractive',\n",
              "                                                    [key], {});\n",
              "        if (!dataTable) return;\n",
              "\n",
              "        const docLinkHtml = 'Like what you see? Visit the ' +\n",
              "          '<a target=\"_blank\" href=https://colab.research.google.com/notebooks/data_table.ipynb>data table notebook</a>'\n",
              "          + ' to learn more about interactive tables.';\n",
              "        element.innerHTML = '';\n",
              "        dataTable['output_type'] = 'display_data';\n",
              "        await google.colab.output.renderOutput(dataTable, element);\n",
              "        const docLink = document.createElement('div');\n",
              "        docLink.innerHTML = docLinkHtml;\n",
              "        element.appendChild(docLink);\n",
              "      }\n",
              "    </script>\n",
              "  </div>\n",
              "\n",
              "\n",
              "<div id=\"df-0967d4e7-3968-4712-a683-81d2ced27ea5\">\n",
              "  <button class=\"colab-df-quickchart\" onclick=\"quickchart('df-0967d4e7-3968-4712-a683-81d2ced27ea5')\"\n",
              "            title=\"Suggest charts\"\n",
              "            style=\"display:none;\">\n",
              "\n",
              "<svg xmlns=\"http://www.w3.org/2000/svg\" height=\"24px\"viewBox=\"0 0 24 24\"\n",
              "     width=\"24px\">\n",
              "    <g>\n",
              "        <path d=\"M19 3H5c-1.1 0-2 .9-2 2v14c0 1.1.9 2 2 2h14c1.1 0 2-.9 2-2V5c0-1.1-.9-2-2-2zM9 17H7v-7h2v7zm4 0h-2V7h2v10zm4 0h-2v-4h2v4z\"/>\n",
              "    </g>\n",
              "</svg>\n",
              "  </button>\n",
              "\n",
              "<style>\n",
              "  .colab-df-quickchart {\n",
              "      --bg-color: #E8F0FE;\n",
              "      --fill-color: #1967D2;\n",
              "      --hover-bg-color: #E2EBFA;\n",
              "      --hover-fill-color: #174EA6;\n",
              "      --disabled-fill-color: #AAA;\n",
              "      --disabled-bg-color: #DDD;\n",
              "  }\n",
              "\n",
              "  [theme=dark] .colab-df-quickchart {\n",
              "      --bg-color: #3B4455;\n",
              "      --fill-color: #D2E3FC;\n",
              "      --hover-bg-color: #434B5C;\n",
              "      --hover-fill-color: #FFFFFF;\n",
              "      --disabled-bg-color: #3B4455;\n",
              "      --disabled-fill-color: #666;\n",
              "  }\n",
              "\n",
              "  .colab-df-quickchart {\n",
              "    background-color: var(--bg-color);\n",
              "    border: none;\n",
              "    border-radius: 50%;\n",
              "    cursor: pointer;\n",
              "    display: none;\n",
              "    fill: var(--fill-color);\n",
              "    height: 32px;\n",
              "    padding: 0;\n",
              "    width: 32px;\n",
              "  }\n",
              "\n",
              "  .colab-df-quickchart:hover {\n",
              "    background-color: var(--hover-bg-color);\n",
              "    box-shadow: 0 1px 2px rgba(60, 64, 67, 0.3), 0 1px 3px 1px rgba(60, 64, 67, 0.15);\n",
              "    fill: var(--button-hover-fill-color);\n",
              "  }\n",
              "\n",
              "  .colab-df-quickchart-complete:disabled,\n",
              "  .colab-df-quickchart-complete:disabled:hover {\n",
              "    background-color: var(--disabled-bg-color);\n",
              "    fill: var(--disabled-fill-color);\n",
              "    box-shadow: none;\n",
              "  }\n",
              "\n",
              "  .colab-df-spinner {\n",
              "    border: 2px solid var(--fill-color);\n",
              "    border-color: transparent;\n",
              "    border-bottom-color: var(--fill-color);\n",
              "    animation:\n",
              "      spin 1s steps(1) infinite;\n",
              "  }\n",
              "\n",
              "  @keyframes spin {\n",
              "    0% {\n",
              "      border-color: transparent;\n",
              "      border-bottom-color: var(--fill-color);\n",
              "      border-left-color: var(--fill-color);\n",
              "    }\n",
              "    20% {\n",
              "      border-color: transparent;\n",
              "      border-left-color: var(--fill-color);\n",
              "      border-top-color: var(--fill-color);\n",
              "    }\n",
              "    30% {\n",
              "      border-color: transparent;\n",
              "      border-left-color: var(--fill-color);\n",
              "      border-top-color: var(--fill-color);\n",
              "      border-right-color: var(--fill-color);\n",
              "    }\n",
              "    40% {\n",
              "      border-color: transparent;\n",
              "      border-right-color: var(--fill-color);\n",
              "      border-top-color: var(--fill-color);\n",
              "    }\n",
              "    60% {\n",
              "      border-color: transparent;\n",
              "      border-right-color: var(--fill-color);\n",
              "    }\n",
              "    80% {\n",
              "      border-color: transparent;\n",
              "      border-right-color: var(--fill-color);\n",
              "      border-bottom-color: var(--fill-color);\n",
              "    }\n",
              "    90% {\n",
              "      border-color: transparent;\n",
              "      border-bottom-color: var(--fill-color);\n",
              "    }\n",
              "  }\n",
              "</style>\n",
              "\n",
              "  <script>\n",
              "    async function quickchart(key) {\n",
              "      const quickchartButtonEl =\n",
              "        document.querySelector('#' + key + ' button');\n",
              "      quickchartButtonEl.disabled = true;  // To prevent multiple clicks.\n",
              "      quickchartButtonEl.classList.add('colab-df-spinner');\n",
              "      try {\n",
              "        const charts = await google.colab.kernel.invokeFunction(\n",
              "            'suggestCharts', [key], {});\n",
              "      } catch (error) {\n",
              "        console.error('Error during call to suggestCharts:', error);\n",
              "      }\n",
              "      quickchartButtonEl.classList.remove('colab-df-spinner');\n",
              "      quickchartButtonEl.classList.add('colab-df-quickchart-complete');\n",
              "    }\n",
              "    (() => {\n",
              "      let quickchartButtonEl =\n",
              "        document.querySelector('#df-0967d4e7-3968-4712-a683-81d2ced27ea5 button');\n",
              "      quickchartButtonEl.style.display =\n",
              "        google.colab.kernel.accessAllowed ? 'block' : 'none';\n",
              "    })();\n",
              "  </script>\n",
              "</div>\n",
              "    </div>\n",
              "  </div>\n"
            ]
          },
          "metadata": {},
          "execution_count": 8
        }
      ]
    },
    {
      "cell_type": "markdown",
      "source": [
        "### Problem 2.2: Calculate Entropy for Child Nodes\n",
        "\n",
        "In the next code cell, calculate entropy for each child node."
      ],
      "metadata": {
        "id": "Cu3ZUV5hM9Ru"
      }
    },
    {
      "cell_type": "code",
      "source": [
        "H1 = entropy(df1, 'Liability')"
      ],
      "metadata": {
        "id": "TOZc5KxU-1us"
      },
      "execution_count": null,
      "outputs": []
    },
    {
      "cell_type": "code",
      "source": [
        "H2 = entropy(df2, 'Liability')"
      ],
      "metadata": {
        "id": "Hj4WD4bW8jgY"
      },
      "execution_count": null,
      "outputs": []
    },
    {
      "cell_type": "markdown",
      "source": [
        "### Problem 2.3: Calculate Entropy Given the Credit Rating\n",
        "\n",
        "To get the entropy given the values of an attribute we calculate the weighted sum of child entropy.\n",
        "\n",
        "In the next cell:\n",
        ">- Calcuate the proportion of data that exists in each child node relative to the total amount of data\n",
        ">- Then use these propotions (weights) to get a weighted average entropy from the child nodes\n",
        ">- The result is the entropy given the information we have about credit rating\n",
        ">- Round this value to 4 decimal places"
      ],
      "metadata": {
        "id": "loqkucRUNLXh"
      }
    },
    {
      "cell_type": "code",
      "source": [
        "total1 = df1.shape[0]\n",
        "p1 = total1/total\n",
        "total2 = df2.shape[0]\n",
        "p2 = total2/total\n",
        "\n",
        "H = round(H1*p1 + H2*p2, 4)\n",
        "H"
      ],
      "metadata": {
        "id": "yutnprK0OrS2",
        "colab": {
          "base_uri": "https://localhost:8080/"
        },
        "outputId": "f70a8d6b-b874-402c-8690-c713501a4fb6"
      },
      "execution_count": null,
      "outputs": [
        {
          "output_type": "execute_result",
          "data": {
            "text/plain": [
              "0.5475"
            ]
          },
          "metadata": {},
          "execution_count": 11
        }
      ]
    },
    {
      "cell_type": "markdown",
      "source": [
        "### Problem 2.4: Calculate Information Gain\n",
        "\n",
        "In the next code cell, calculate the information gain we achieved by splitting \"Credit Rating\" at a value of 550.\n",
        ">- Round this result to 4 decimals"
      ],
      "metadata": {
        "id": "PClD6J2kPv5v"
      }
    },
    {
      "cell_type": "code",
      "source": [
        "IG = H - (H1*p1 + H2*p2)\n",
        "IG"
      ],
      "metadata": {
        "id": "P_qvruaiP_GQ",
        "colab": {
          "base_uri": "https://localhost:8080/"
        },
        "outputId": "8ad8051e-b54e-480c-e013-c22393ba2f3e"
      },
      "execution_count": null,
      "outputs": [
        {
          "output_type": "execute_result",
          "data": {
            "text/plain": [
              "1.7020293212488546e-05"
            ]
          },
          "metadata": {},
          "execution_count": 13
        }
      ]
    },
    {
      "cell_type": "markdown",
      "source": [
        "## Programming Problem 2: Information Gain Function\n",
        "\n",
        "Now we should have a better understanding of the components and steps involved in calculating information gain. We need to take what we learned in the Problem 2 and create a function for Information Gain that can be used on any data frame, attribute, target, and threshold."
      ],
      "metadata": {
        "id": "g2XxTd2uZsO1"
      }
    },
    {
      "cell_type": "markdown",
      "source": [
        "In the next code cell, create a function for information gain with the signature: `def info_gain(df, info_column, target_column, threshold):` where:\n",
        ">- `df` is the dataset of interest\n",
        ">- `info_column` is the attribute we want to test to see how much information is gained\n",
        ">- `target_column` is the labeled column we want to predict\n",
        ">- `threshold` is a value to split the `info_column` on"
      ],
      "metadata": {
        "id": "WFVryMS2dF1N"
      }
    },
    {
      "cell_type": "code",
      "source": [
        "def info_gain(df, info_column, target_column, threshold):\n",
        "\n",
        "    # split the data based on the threshold\n",
        "    # this allows us to test various thresholds of the attribute to see how much info is gained\n",
        "\n",
        "    data_above_thresh = df[df[info_column] <= threshold]\n",
        "    data_below_thresh = df[df[info_column] > threshold]\n",
        "\n",
        "    # get/calculate entropy from entropy function\n",
        "\n",
        "    H = entropy(df, target_column) # Parent entropy\n",
        "\n",
        "    entropy_above = entropy(data_above_thresh, target_column)\n",
        "    entropy_below = entropy(data_below_thresh, target_column)\n",
        "\n",
        "    # Get the weighted average\n",
        "    # first we count the number of values above and below a threshold, and the total\n",
        "\n",
        "    values_above = data_above_thresh.shape[0]\n",
        "    values_below = data_below_thresh.shape[0]\n",
        "\n",
        "    values_total = float(df.shape[0])\n",
        "\n",
        "    # return info gain\n",
        "    info_gain = H - (((values_above / values_total) * entropy_above) + ((values_below / values_total) * entropy_below))\n",
        "\n",
        "    return round(info_gain, 4)\n",
        "\n"
      ],
      "metadata": {
        "id": "hLKy1Zx0dFDu"
      },
      "execution_count": null,
      "outputs": []
    },
    {
      "cell_type": "markdown",
      "source": [
        "### Problem 2.5: Calculate Information Gain with Function\n",
        "\n",
        "Test your function by passing in the data from the `prob1_df` example data. Use the values from Problem 2 to set your parameters in the function.\n",
        ">- Double check you get the same IG value as we found when doing Problem 2 in multiple code cells"
      ],
      "metadata": {
        "id": "aSbZNG27RxN_"
      }
    },
    {
      "cell_type": "code",
      "source": [
        "info_gain(prob1_df, \"Credit Rating\", \"Liability\", 550)"
      ],
      "metadata": {
        "id": "x1aUKFsDRwlA",
        "colab": {
          "base_uri": "https://localhost:8080/"
        },
        "outputId": "804024a7-99a3-4fc1-e4fd-2624cc3c5efb"
      },
      "execution_count": null,
      "outputs": [
        {
          "output_type": "execute_result",
          "data": {
            "text/plain": [
              "0.4525"
            ]
          },
          "metadata": {},
          "execution_count": 24
        }
      ]
    }
  ]
}