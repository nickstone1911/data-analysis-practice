{
  "nbformat": 4,
  "nbformat_minor": 0,
  "metadata": {
    "colab": {
      "provenance": [],
      "include_colab_link": true
    },
    "kernelspec": {
      "name": "python3",
      "display_name": "Python 3"
    },
    "language_info": {
      "name": "python"
    },
    "widgets": {
      "application/vnd.jupyter.widget-state+json": {
        "e7a5d66bf3dd4c3bbbf950912394834f": {
          "model_module": "@jupyter-widgets/controls",
          "model_name": "HBoxModel",
          "model_module_version": "1.5.0",
          "state": {
            "_dom_classes": [],
            "_model_module": "@jupyter-widgets/controls",
            "_model_module_version": "1.5.0",
            "_model_name": "HBoxModel",
            "_view_count": null,
            "_view_module": "@jupyter-widgets/controls",
            "_view_module_version": "1.5.0",
            "_view_name": "HBoxView",
            "box_style": "",
            "children": [
              "IPY_MODEL_b74d7820945c42878139aa71ea8d4a31",
              "IPY_MODEL_aaffc60b8cbf40ffbb3cc2b5cd53ea14",
              "IPY_MODEL_1b3d76c27dc240ce87b71df85bd38fae"
            ],
            "layout": "IPY_MODEL_261051be104242ec9e225e8d95c5f323"
          }
        },
        "b74d7820945c42878139aa71ea8d4a31": {
          "model_module": "@jupyter-widgets/controls",
          "model_name": "HTMLModel",
          "model_module_version": "1.5.0",
          "state": {
            "_dom_classes": [],
            "_model_module": "@jupyter-widgets/controls",
            "_model_module_version": "1.5.0",
            "_model_name": "HTMLModel",
            "_view_count": null,
            "_view_module": "@jupyter-widgets/controls",
            "_view_module_version": "1.5.0",
            "_view_name": "HTMLView",
            "description": "",
            "description_tooltip": null,
            "layout": "IPY_MODEL_5d9db434e25c4b438b5f85134b436382",
            "placeholder": "​",
            "style": "IPY_MODEL_0594a507cf2a44d3af01e2effe78a12a",
            "value": "Job ID 48405a2a-3232-46bc-8e22-58acfcb8201a successfully executed: 100%"
          }
        },
        "aaffc60b8cbf40ffbb3cc2b5cd53ea14": {
          "model_module": "@jupyter-widgets/controls",
          "model_name": "FloatProgressModel",
          "model_module_version": "1.5.0",
          "state": {
            "_dom_classes": [],
            "_model_module": "@jupyter-widgets/controls",
            "_model_module_version": "1.5.0",
            "_model_name": "FloatProgressModel",
            "_view_count": null,
            "_view_module": "@jupyter-widgets/controls",
            "_view_module_version": "1.5.0",
            "_view_name": "ProgressView",
            "bar_style": "success",
            "description": "",
            "description_tooltip": null,
            "layout": "IPY_MODEL_cd00f67187c54e30a1af571a58100572",
            "max": 1,
            "min": 0,
            "orientation": "horizontal",
            "style": "IPY_MODEL_a7963fdd1ace49cb965a3937c7f7f763",
            "value": 1
          }
        },
        "1b3d76c27dc240ce87b71df85bd38fae": {
          "model_module": "@jupyter-widgets/controls",
          "model_name": "HTMLModel",
          "model_module_version": "1.5.0",
          "state": {
            "_dom_classes": [],
            "_model_module": "@jupyter-widgets/controls",
            "_model_module_version": "1.5.0",
            "_model_name": "HTMLModel",
            "_view_count": null,
            "_view_module": "@jupyter-widgets/controls",
            "_view_module_version": "1.5.0",
            "_view_name": "HTMLView",
            "description": "",
            "description_tooltip": null,
            "layout": "IPY_MODEL_662e4a2c0ed34924aa2b22aac66d228d",
            "placeholder": "​",
            "style": "IPY_MODEL_773f51f1a016485da722c0fbb9794c75",
            "value": ""
          }
        },
        "261051be104242ec9e225e8d95c5f323": {
          "model_module": "@jupyter-widgets/base",
          "model_name": "LayoutModel",
          "model_module_version": "1.2.0",
          "state": {
            "_model_module": "@jupyter-widgets/base",
            "_model_module_version": "1.2.0",
            "_model_name": "LayoutModel",
            "_view_count": null,
            "_view_module": "@jupyter-widgets/base",
            "_view_module_version": "1.2.0",
            "_view_name": "LayoutView",
            "align_content": null,
            "align_items": null,
            "align_self": null,
            "border": null,
            "bottom": null,
            "display": null,
            "flex": null,
            "flex_flow": null,
            "grid_area": null,
            "grid_auto_columns": null,
            "grid_auto_flow": null,
            "grid_auto_rows": null,
            "grid_column": null,
            "grid_gap": null,
            "grid_row": null,
            "grid_template_areas": null,
            "grid_template_columns": null,
            "grid_template_rows": null,
            "height": null,
            "justify_content": null,
            "justify_items": null,
            "left": null,
            "margin": null,
            "max_height": null,
            "max_width": null,
            "min_height": null,
            "min_width": null,
            "object_fit": null,
            "object_position": null,
            "order": null,
            "overflow": null,
            "overflow_x": null,
            "overflow_y": null,
            "padding": null,
            "right": null,
            "top": null,
            "visibility": null,
            "width": null
          }
        },
        "5d9db434e25c4b438b5f85134b436382": {
          "model_module": "@jupyter-widgets/base",
          "model_name": "LayoutModel",
          "model_module_version": "1.2.0",
          "state": {
            "_model_module": "@jupyter-widgets/base",
            "_model_module_version": "1.2.0",
            "_model_name": "LayoutModel",
            "_view_count": null,
            "_view_module": "@jupyter-widgets/base",
            "_view_module_version": "1.2.0",
            "_view_name": "LayoutView",
            "align_content": null,
            "align_items": null,
            "align_self": null,
            "border": null,
            "bottom": null,
            "display": null,
            "flex": null,
            "flex_flow": null,
            "grid_area": null,
            "grid_auto_columns": null,
            "grid_auto_flow": null,
            "grid_auto_rows": null,
            "grid_column": null,
            "grid_gap": null,
            "grid_row": null,
            "grid_template_areas": null,
            "grid_template_columns": null,
            "grid_template_rows": null,
            "height": null,
            "justify_content": null,
            "justify_items": null,
            "left": null,
            "margin": null,
            "max_height": null,
            "max_width": null,
            "min_height": null,
            "min_width": null,
            "object_fit": null,
            "object_position": null,
            "order": null,
            "overflow": null,
            "overflow_x": null,
            "overflow_y": null,
            "padding": null,
            "right": null,
            "top": null,
            "visibility": null,
            "width": null
          }
        },
        "0594a507cf2a44d3af01e2effe78a12a": {
          "model_module": "@jupyter-widgets/controls",
          "model_name": "DescriptionStyleModel",
          "model_module_version": "1.5.0",
          "state": {
            "_model_module": "@jupyter-widgets/controls",
            "_model_module_version": "1.5.0",
            "_model_name": "DescriptionStyleModel",
            "_view_count": null,
            "_view_module": "@jupyter-widgets/base",
            "_view_module_version": "1.2.0",
            "_view_name": "StyleView",
            "description_width": ""
          }
        },
        "cd00f67187c54e30a1af571a58100572": {
          "model_module": "@jupyter-widgets/base",
          "model_name": "LayoutModel",
          "model_module_version": "1.2.0",
          "state": {
            "_model_module": "@jupyter-widgets/base",
            "_model_module_version": "1.2.0",
            "_model_name": "LayoutModel",
            "_view_count": null,
            "_view_module": "@jupyter-widgets/base",
            "_view_module_version": "1.2.0",
            "_view_name": "LayoutView",
            "align_content": null,
            "align_items": null,
            "align_self": null,
            "border": null,
            "bottom": null,
            "display": null,
            "flex": null,
            "flex_flow": null,
            "grid_area": null,
            "grid_auto_columns": null,
            "grid_auto_flow": null,
            "grid_auto_rows": null,
            "grid_column": null,
            "grid_gap": null,
            "grid_row": null,
            "grid_template_areas": null,
            "grid_template_columns": null,
            "grid_template_rows": null,
            "height": null,
            "justify_content": null,
            "justify_items": null,
            "left": null,
            "margin": null,
            "max_height": null,
            "max_width": null,
            "min_height": null,
            "min_width": null,
            "object_fit": null,
            "object_position": null,
            "order": null,
            "overflow": null,
            "overflow_x": null,
            "overflow_y": null,
            "padding": null,
            "right": null,
            "top": null,
            "visibility": null,
            "width": null
          }
        },
        "a7963fdd1ace49cb965a3937c7f7f763": {
          "model_module": "@jupyter-widgets/controls",
          "model_name": "ProgressStyleModel",
          "model_module_version": "1.5.0",
          "state": {
            "_model_module": "@jupyter-widgets/controls",
            "_model_module_version": "1.5.0",
            "_model_name": "ProgressStyleModel",
            "_view_count": null,
            "_view_module": "@jupyter-widgets/base",
            "_view_module_version": "1.2.0",
            "_view_name": "StyleView",
            "bar_color": null,
            "description_width": ""
          }
        },
        "662e4a2c0ed34924aa2b22aac66d228d": {
          "model_module": "@jupyter-widgets/base",
          "model_name": "LayoutModel",
          "model_module_version": "1.2.0",
          "state": {
            "_model_module": "@jupyter-widgets/base",
            "_model_module_version": "1.2.0",
            "_model_name": "LayoutModel",
            "_view_count": null,
            "_view_module": "@jupyter-widgets/base",
            "_view_module_version": "1.2.0",
            "_view_name": "LayoutView",
            "align_content": null,
            "align_items": null,
            "align_self": null,
            "border": null,
            "bottom": null,
            "display": null,
            "flex": null,
            "flex_flow": null,
            "grid_area": null,
            "grid_auto_columns": null,
            "grid_auto_flow": null,
            "grid_auto_rows": null,
            "grid_column": null,
            "grid_gap": null,
            "grid_row": null,
            "grid_template_areas": null,
            "grid_template_columns": null,
            "grid_template_rows": null,
            "height": null,
            "justify_content": null,
            "justify_items": null,
            "left": null,
            "margin": null,
            "max_height": null,
            "max_width": null,
            "min_height": null,
            "min_width": null,
            "object_fit": null,
            "object_position": null,
            "order": null,
            "overflow": null,
            "overflow_x": null,
            "overflow_y": null,
            "padding": null,
            "right": null,
            "top": null,
            "visibility": null,
            "width": null
          }
        },
        "773f51f1a016485da722c0fbb9794c75": {
          "model_module": "@jupyter-widgets/controls",
          "model_name": "DescriptionStyleModel",
          "model_module_version": "1.5.0",
          "state": {
            "_model_module": "@jupyter-widgets/controls",
            "_model_module_version": "1.5.0",
            "_model_name": "DescriptionStyleModel",
            "_view_count": null,
            "_view_module": "@jupyter-widgets/base",
            "_view_module_version": "1.2.0",
            "_view_name": "StyleView",
            "description_width": ""
          }
        },
        "dcf09a7458c149d78cb1b27999644dc0": {
          "model_module": "@jupyter-widgets/controls",
          "model_name": "HBoxModel",
          "model_module_version": "1.5.0",
          "state": {
            "_dom_classes": [],
            "_model_module": "@jupyter-widgets/controls",
            "_model_module_version": "1.5.0",
            "_model_name": "HBoxModel",
            "_view_count": null,
            "_view_module": "@jupyter-widgets/controls",
            "_view_module_version": "1.5.0",
            "_view_name": "HBoxView",
            "box_style": "",
            "children": [
              "IPY_MODEL_f4303b5aa66743ac9f31158b5c1ea7a2",
              "IPY_MODEL_fa5f785fbd9140ee9347bd9b7f9cad04",
              "IPY_MODEL_a65de61339644e12abbdc37d3ef6be6e"
            ],
            "layout": "IPY_MODEL_e60fa6b76e8e43a2b80eded6bff8055e"
          }
        },
        "f4303b5aa66743ac9f31158b5c1ea7a2": {
          "model_module": "@jupyter-widgets/controls",
          "model_name": "HTMLModel",
          "model_module_version": "1.5.0",
          "state": {
            "_dom_classes": [],
            "_model_module": "@jupyter-widgets/controls",
            "_model_module_version": "1.5.0",
            "_model_name": "HTMLModel",
            "_view_count": null,
            "_view_module": "@jupyter-widgets/controls",
            "_view_module_version": "1.5.0",
            "_view_name": "HTMLView",
            "description": "",
            "description_tooltip": null,
            "layout": "IPY_MODEL_119b8ab9ee934f438a123ec5d0b088a5",
            "placeholder": "​",
            "style": "IPY_MODEL_04f4c1c02e554704b52423f9b058af9a",
            "value": "Downloading: 100%"
          }
        },
        "fa5f785fbd9140ee9347bd9b7f9cad04": {
          "model_module": "@jupyter-widgets/controls",
          "model_name": "FloatProgressModel",
          "model_module_version": "1.5.0",
          "state": {
            "_dom_classes": [],
            "_model_module": "@jupyter-widgets/controls",
            "_model_module_version": "1.5.0",
            "_model_name": "FloatProgressModel",
            "_view_count": null,
            "_view_module": "@jupyter-widgets/controls",
            "_view_module_version": "1.5.0",
            "_view_name": "ProgressView",
            "bar_style": "success",
            "description": "",
            "description_tooltip": null,
            "layout": "IPY_MODEL_ff0c71ae92a44c9eb871b36cdd6a8897",
            "max": 284807,
            "min": 0,
            "orientation": "horizontal",
            "style": "IPY_MODEL_f4cb539ca8ee43e0af54c87fc93bd134",
            "value": 284807
          }
        },
        "a65de61339644e12abbdc37d3ef6be6e": {
          "model_module": "@jupyter-widgets/controls",
          "model_name": "HTMLModel",
          "model_module_version": "1.5.0",
          "state": {
            "_dom_classes": [],
            "_model_module": "@jupyter-widgets/controls",
            "_model_module_version": "1.5.0",
            "_model_name": "HTMLModel",
            "_view_count": null,
            "_view_module": "@jupyter-widgets/controls",
            "_view_module_version": "1.5.0",
            "_view_name": "HTMLView",
            "description": "",
            "description_tooltip": null,
            "layout": "IPY_MODEL_ad15f60b753344d3b0b15e911b7e6130",
            "placeholder": "​",
            "style": "IPY_MODEL_d0ed973f70064226b5846c4c42c1954a",
            "value": ""
          }
        },
        "e60fa6b76e8e43a2b80eded6bff8055e": {
          "model_module": "@jupyter-widgets/base",
          "model_name": "LayoutModel",
          "model_module_version": "1.2.0",
          "state": {
            "_model_module": "@jupyter-widgets/base",
            "_model_module_version": "1.2.0",
            "_model_name": "LayoutModel",
            "_view_count": null,
            "_view_module": "@jupyter-widgets/base",
            "_view_module_version": "1.2.0",
            "_view_name": "LayoutView",
            "align_content": null,
            "align_items": null,
            "align_self": null,
            "border": null,
            "bottom": null,
            "display": null,
            "flex": null,
            "flex_flow": null,
            "grid_area": null,
            "grid_auto_columns": null,
            "grid_auto_flow": null,
            "grid_auto_rows": null,
            "grid_column": null,
            "grid_gap": null,
            "grid_row": null,
            "grid_template_areas": null,
            "grid_template_columns": null,
            "grid_template_rows": null,
            "height": null,
            "justify_content": null,
            "justify_items": null,
            "left": null,
            "margin": null,
            "max_height": null,
            "max_width": null,
            "min_height": null,
            "min_width": null,
            "object_fit": null,
            "object_position": null,
            "order": null,
            "overflow": null,
            "overflow_x": null,
            "overflow_y": null,
            "padding": null,
            "right": null,
            "top": null,
            "visibility": null,
            "width": null
          }
        },
        "119b8ab9ee934f438a123ec5d0b088a5": {
          "model_module": "@jupyter-widgets/base",
          "model_name": "LayoutModel",
          "model_module_version": "1.2.0",
          "state": {
            "_model_module": "@jupyter-widgets/base",
            "_model_module_version": "1.2.0",
            "_model_name": "LayoutModel",
            "_view_count": null,
            "_view_module": "@jupyter-widgets/base",
            "_view_module_version": "1.2.0",
            "_view_name": "LayoutView",
            "align_content": null,
            "align_items": null,
            "align_self": null,
            "border": null,
            "bottom": null,
            "display": null,
            "flex": null,
            "flex_flow": null,
            "grid_area": null,
            "grid_auto_columns": null,
            "grid_auto_flow": null,
            "grid_auto_rows": null,
            "grid_column": null,
            "grid_gap": null,
            "grid_row": null,
            "grid_template_areas": null,
            "grid_template_columns": null,
            "grid_template_rows": null,
            "height": null,
            "justify_content": null,
            "justify_items": null,
            "left": null,
            "margin": null,
            "max_height": null,
            "max_width": null,
            "min_height": null,
            "min_width": null,
            "object_fit": null,
            "object_position": null,
            "order": null,
            "overflow": null,
            "overflow_x": null,
            "overflow_y": null,
            "padding": null,
            "right": null,
            "top": null,
            "visibility": null,
            "width": null
          }
        },
        "04f4c1c02e554704b52423f9b058af9a": {
          "model_module": "@jupyter-widgets/controls",
          "model_name": "DescriptionStyleModel",
          "model_module_version": "1.5.0",
          "state": {
            "_model_module": "@jupyter-widgets/controls",
            "_model_module_version": "1.5.0",
            "_model_name": "DescriptionStyleModel",
            "_view_count": null,
            "_view_module": "@jupyter-widgets/base",
            "_view_module_version": "1.2.0",
            "_view_name": "StyleView",
            "description_width": ""
          }
        },
        "ff0c71ae92a44c9eb871b36cdd6a8897": {
          "model_module": "@jupyter-widgets/base",
          "model_name": "LayoutModel",
          "model_module_version": "1.2.0",
          "state": {
            "_model_module": "@jupyter-widgets/base",
            "_model_module_version": "1.2.0",
            "_model_name": "LayoutModel",
            "_view_count": null,
            "_view_module": "@jupyter-widgets/base",
            "_view_module_version": "1.2.0",
            "_view_name": "LayoutView",
            "align_content": null,
            "align_items": null,
            "align_self": null,
            "border": null,
            "bottom": null,
            "display": null,
            "flex": null,
            "flex_flow": null,
            "grid_area": null,
            "grid_auto_columns": null,
            "grid_auto_flow": null,
            "grid_auto_rows": null,
            "grid_column": null,
            "grid_gap": null,
            "grid_row": null,
            "grid_template_areas": null,
            "grid_template_columns": null,
            "grid_template_rows": null,
            "height": null,
            "justify_content": null,
            "justify_items": null,
            "left": null,
            "margin": null,
            "max_height": null,
            "max_width": null,
            "min_height": null,
            "min_width": null,
            "object_fit": null,
            "object_position": null,
            "order": null,
            "overflow": null,
            "overflow_x": null,
            "overflow_y": null,
            "padding": null,
            "right": null,
            "top": null,
            "visibility": null,
            "width": null
          }
        },
        "f4cb539ca8ee43e0af54c87fc93bd134": {
          "model_module": "@jupyter-widgets/controls",
          "model_name": "ProgressStyleModel",
          "model_module_version": "1.5.0",
          "state": {
            "_model_module": "@jupyter-widgets/controls",
            "_model_module_version": "1.5.0",
            "_model_name": "ProgressStyleModel",
            "_view_count": null,
            "_view_module": "@jupyter-widgets/base",
            "_view_module_version": "1.2.0",
            "_view_name": "StyleView",
            "bar_color": null,
            "description_width": ""
          }
        },
        "ad15f60b753344d3b0b15e911b7e6130": {
          "model_module": "@jupyter-widgets/base",
          "model_name": "LayoutModel",
          "model_module_version": "1.2.0",
          "state": {
            "_model_module": "@jupyter-widgets/base",
            "_model_module_version": "1.2.0",
            "_model_name": "LayoutModel",
            "_view_count": null,
            "_view_module": "@jupyter-widgets/base",
            "_view_module_version": "1.2.0",
            "_view_name": "LayoutView",
            "align_content": null,
            "align_items": null,
            "align_self": null,
            "border": null,
            "bottom": null,
            "display": null,
            "flex": null,
            "flex_flow": null,
            "grid_area": null,
            "grid_auto_columns": null,
            "grid_auto_flow": null,
            "grid_auto_rows": null,
            "grid_column": null,
            "grid_gap": null,
            "grid_row": null,
            "grid_template_areas": null,
            "grid_template_columns": null,
            "grid_template_rows": null,
            "height": null,
            "justify_content": null,
            "justify_items": null,
            "left": null,
            "margin": null,
            "max_height": null,
            "max_width": null,
            "min_height": null,
            "min_width": null,
            "object_fit": null,
            "object_position": null,
            "order": null,
            "overflow": null,
            "overflow_x": null,
            "overflow_y": null,
            "padding": null,
            "right": null,
            "top": null,
            "visibility": null,
            "width": null
          }
        },
        "d0ed973f70064226b5846c4c42c1954a": {
          "model_module": "@jupyter-widgets/controls",
          "model_name": "DescriptionStyleModel",
          "model_module_version": "1.5.0",
          "state": {
            "_model_module": "@jupyter-widgets/controls",
            "_model_module_version": "1.5.0",
            "_model_name": "DescriptionStyleModel",
            "_view_count": null,
            "_view_module": "@jupyter-widgets/base",
            "_view_module_version": "1.2.0",
            "_view_name": "StyleView",
            "description_width": ""
          }
        }
      }
    }
  },
  "cells": [
    {
      "cell_type": "markdown",
      "metadata": {
        "id": "view-in-github",
        "colab_type": "text"
      },
      "source": [
        "<a href=\"https://colab.research.google.com/github/nickstone1911/data-analysis-practice/blob/main/Fraud_Prediction_with_Naive_Bayes.ipynb\" target=\"_parent\"><img src=\"https://colab.research.google.com/assets/colab-badge.svg\" alt=\"Open In Colab\"/></a>"
      ]
    },
    {
      "cell_type": "markdown",
      "source": [
        "# Tech Lesson 10: Fraud Detection with Naive Bayes\n",
        "\n",
        "## Learning Objectives\n",
        "In this exercise, you will learn how to use the Gaussian Naive Bayes classifier to predict fraud.\n",
        "\n",
        "---\n",
        "\n",
        "\n",
        "\n",
        "\n"
      ],
      "metadata": {
        "id": "GS6Ju4fOCcd_"
      }
    },
    {
      "cell_type": "markdown",
      "source": [
        "## About the Data\n",
        "\n",
        "We will use the `bigquery-public-data.ml_datasets.ulb_fraud_detection` dataset for this exercise.\n",
        "\n",
        "The dataset contains transactions made by credit cards in September 2013 by european cardholders. This dataset presents transactions that occurred in two days, where we have 492 frauds out of 284,807 transactions. It is highly unbalanced, the positive class (frauds) account for 0.172% of all transactions.\n",
        "\n",
        "It contains only numerical input variables which are the result of a PCA transformation. Unfortunately, due to confidentiality issues, we cannot provide the original features and more background information about the data.\n",
        "\n",
        ">- Features V1, V2, ... V28 are the principal components obtained with PCA, the only features which have not been transformed with PCA are `Time` and `Amount`.\n",
        ">- Feature `Time` contains the seconds elapsed between each transaction and the first transaction in the dataset.\n",
        ">- Feature `Amount` is the transaction Amount, this feature can be used for example-dependant cost-sensitive learning.\n",
        ">- Feature `Class` is the response variable and it takes value 1 in case of fraud and 0 otherwise.\n",
        "\n",
        "The dataset has been collected and analysed during a research collaboration of Worldline and the Machine Learning Group ( http://mlg.ulb.ac.be) of ULB (Université Libre de Bruxelles) on big data mining and fraud detection.\n",
        "\n",
        "More details on current and past projects on related topics are available on https://www.researchgate.net/project/Fraud-detection-5 and the page of the DefeatFraud project."
      ],
      "metadata": {
        "id": "3364ewe4MZX5"
      }
    },
    {
      "cell_type": "markdown",
      "source": [
        "---\n",
        "\n",
        "# Section 1: Notebook Setup and Data Load\n",
        "\n",
        "---"
      ],
      "metadata": {
        "id": "CfW5iHH1Cu4U"
      }
    },
    {
      "cell_type": "markdown",
      "source": [
        "## 1.1: Import Libraries\n",
        "First, import the necessary initial libraries for this exercise:\n",
        "\n",
        "```python\n",
        "import numpy as np\n",
        "import pandas as pd\n",
        "from sklearn.model_selection import train_test_split\n",
        "from sklearn.naive_bayes import GaussianNB\n",
        "from sklearn.metrics import accuracy_score, classification_report\n",
        "```"
      ],
      "metadata": {
        "id": "bhMvFdB4C6QO"
      }
    },
    {
      "cell_type": "markdown",
      "source": [
        "Initial imports. We will import more later in the notebook:"
      ],
      "metadata": {
        "id": "Kg3m1rmvv2JI"
      }
    },
    {
      "cell_type": "code",
      "execution_count": null,
      "metadata": {
        "id": "HxttH637CVdv"
      },
      "outputs": [],
      "source": [
        "import numpy as np\n",
        "import pandas as pd\n",
        "from sklearn.model_selection import train_test_split\n",
        "from sklearn.naive_bayes import GaussianNB\n",
        "from sklearn.metrics import accuracy_score, classification_report"
      ]
    },
    {
      "cell_type": "markdown",
      "source": [
        "In the next cell, import the `bigquery` library and authenticate your GCP account in Colab."
      ],
      "metadata": {
        "id": "OXW0rqKqvt-J"
      }
    },
    {
      "cell_type": "code",
      "source": [
        "from google.colab import auth\n",
        "auth.authenticate_user()\n",
        "\n",
        "from google.cloud import bigquery"
      ],
      "metadata": {
        "id": "gwzeoLbTHbDV"
      },
      "execution_count": null,
      "outputs": []
    },
    {
      "cell_type": "markdown",
      "source": [
        "## 1.2: Load Data\n",
        "\n",
        "In this section we load a BigQuery dataset, `ulb_fraud_detection`, dataset from the BigQuery public datasets. The full table id is given below:\n",
        "\n",
        "`bigquery-public-data.ml_datasets.ulb_fraud_detection`\n",
        "\n"
      ],
      "metadata": {
        "id": "xxaNbl-3C1aY"
      }
    },
    {
      "cell_type": "markdown",
      "source": [
        "### 1.2.1: Set Up Environment and Create Bigquery Client\n",
        "\n",
        "In the next cell, set up your environment by setting your project_id variable to your GCP project id and then create a BigQuery client."
      ],
      "metadata": {
        "id": "pDosz_KfIa_R"
      }
    },
    {
      "cell_type": "code",
      "source": [
        "project_id = 'baim-412018'\n",
        "myclient = bigquery.Client(project = project_id)"
      ],
      "metadata": {
        "id": "vyNdjD13EXSw"
      },
      "execution_count": null,
      "outputs": []
    },
    {
      "cell_type": "markdown",
      "source": [
        "### 1.2.2: Accessing the Dataset\n",
        "\n",
        "We'll be using the `bigquery-public-data.ml_datasets.ulb_fraud_detection` dataset publicly available on BigQuery. This dataset contains various features related to financial transactions and a target variable indicating if the transaction was fraudulent.\n",
        "\n",
        "In the next code cell, define:\n",
        "\n",
        "1. A `dataset_name` variable set to the full dataset name\n",
        "2. A `table_name` variable set to the table name\n",
        "3. Then create a full table refrence variable, `ulb_id` that will include the full BigQuery refrence name\n",
        "4. Define a BiqQuery client table, `ulb_table` with `client.get_table(ulb_id)`"
      ],
      "metadata": {
        "id": "KcaSdR9dI2cj"
      }
    },
    {
      "cell_type": "code",
      "source": [
        "dataset_name = 'bigquery-public-data.ml_datasets'\n",
        "table_name = 'ulb_fraud_detection'\n",
        "ulb_id = f'{dataset_name}.{table_name}'\n",
        "ulb_table = myclient.get_table(ulb_id)"
      ],
      "metadata": {
        "id": "Y8v_TTJbE8dJ"
      },
      "execution_count": null,
      "outputs": []
    },
    {
      "cell_type": "markdown",
      "source": [
        "## 1.3: Data Exploration\n",
        "\n",
        "In this section we briefly explore the `ulb_fraud_detection` dataset."
      ],
      "metadata": {
        "id": "TC4KZFw2LQP4"
      }
    },
    {
      "cell_type": "markdown",
      "source": [
        "### 1.3.1: Schema\n",
        "\n",
        "In the next code cell, view the schema of the `ulb_fraud_detection` dataset."
      ],
      "metadata": {
        "id": "aBYWr0JBJiYB"
      }
    },
    {
      "cell_type": "code",
      "source": [
        "schema = ulb_table.schema\n",
        "print(f'{ulb_table} Schema')\n",
        "\n",
        "for field in schema:\n",
        "  print(f'{field.name} : {field.field_type}')"
      ],
      "metadata": {
        "id": "Lg53MNIqDeki",
        "colab": {
          "base_uri": "https://localhost:8080/"
        },
        "outputId": "38c0f828-37bf-409c-ef9c-2d3c5c0f0b9a"
      },
      "execution_count": null,
      "outputs": [
        {
          "output_type": "stream",
          "name": "stdout",
          "text": [
            "bigquery-public-data.ml_datasets.ulb_fraud_detection Schema\n",
            "Time : FLOAT\n",
            "V1 : FLOAT\n",
            "V2 : FLOAT\n",
            "V3 : FLOAT\n",
            "V4 : FLOAT\n",
            "V5 : FLOAT\n",
            "V6 : FLOAT\n",
            "V7 : FLOAT\n",
            "V8 : FLOAT\n",
            "V9 : FLOAT\n",
            "V10 : FLOAT\n",
            "V11 : FLOAT\n",
            "V12 : FLOAT\n",
            "V13 : FLOAT\n",
            "V14 : FLOAT\n",
            "V15 : FLOAT\n",
            "V16 : FLOAT\n",
            "V17 : FLOAT\n",
            "V18 : FLOAT\n",
            "V19 : FLOAT\n",
            "V20 : FLOAT\n",
            "V21 : FLOAT\n",
            "V22 : FLOAT\n",
            "V23 : FLOAT\n",
            "V24 : FLOAT\n",
            "V25 : FLOAT\n",
            "V26 : FLOAT\n",
            "V27 : FLOAT\n",
            "V28 : FLOAT\n",
            "Amount : FLOAT\n",
            "Class : INTEGER\n"
          ]
        }
      ]
    },
    {
      "cell_type": "markdown",
      "source": [
        "### 1.3.2: Query Data and Load to DataFrame\n",
        "\n",
        "In the next cell query the dataset and load to a pandas DataFrame, named, `fraud_df`."
      ],
      "metadata": {
        "id": "a0T6R5zoLGCe"
      }
    },
    {
      "cell_type": "markdown",
      "source": [
        "Option 1: Loading Using BigQuery Magics"
      ],
      "metadata": {
        "id": "Tai33ko6QXRn"
      }
    },
    {
      "cell_type": "code",
      "source": [
        "%%bigquery fraud_df --project baim-412018\n",
        "SELECT *\n",
        "FROM\n",
        "bigquery-public-data.ml_datasets.ulb_fraud_detection"
      ],
      "metadata": {
        "id": "NrTENgwtNxQX",
        "colab": {
          "base_uri": "https://localhost:8080/",
          "height": 81,
          "referenced_widgets": [
            "e7a5d66bf3dd4c3bbbf950912394834f",
            "b74d7820945c42878139aa71ea8d4a31",
            "aaffc60b8cbf40ffbb3cc2b5cd53ea14",
            "1b3d76c27dc240ce87b71df85bd38fae",
            "261051be104242ec9e225e8d95c5f323",
            "5d9db434e25c4b438b5f85134b436382",
            "0594a507cf2a44d3af01e2effe78a12a",
            "cd00f67187c54e30a1af571a58100572",
            "a7963fdd1ace49cb965a3937c7f7f763",
            "662e4a2c0ed34924aa2b22aac66d228d",
            "773f51f1a016485da722c0fbb9794c75",
            "dcf09a7458c149d78cb1b27999644dc0",
            "f4303b5aa66743ac9f31158b5c1ea7a2",
            "fa5f785fbd9140ee9347bd9b7f9cad04",
            "a65de61339644e12abbdc37d3ef6be6e",
            "e60fa6b76e8e43a2b80eded6bff8055e",
            "119b8ab9ee934f438a123ec5d0b088a5",
            "04f4c1c02e554704b52423f9b058af9a",
            "ff0c71ae92a44c9eb871b36cdd6a8897",
            "f4cb539ca8ee43e0af54c87fc93bd134",
            "ad15f60b753344d3b0b15e911b7e6130",
            "d0ed973f70064226b5846c4c42c1954a"
          ]
        },
        "outputId": "7ae0e722-1da4-45dc-e1ff-fa01992dca8f"
      },
      "execution_count": null,
      "outputs": [
        {
          "output_type": "display_data",
          "data": {
            "text/plain": [
              "Query is running:   0%|          |"
            ],
            "application/vnd.jupyter.widget-view+json": {
              "version_major": 2,
              "version_minor": 0,
              "model_id": "e7a5d66bf3dd4c3bbbf950912394834f"
            }
          },
          "metadata": {}
        },
        {
          "output_type": "display_data",
          "data": {
            "text/plain": [
              "Downloading:   0%|          |"
            ],
            "application/vnd.jupyter.widget-view+json": {
              "version_major": 2,
              "version_minor": 0,
              "model_id": "dcf09a7458c149d78cb1b27999644dc0"
            }
          },
          "metadata": {}
        }
      ]
    },
    {
      "cell_type": "code",
      "source": [
        "fraud_df"
      ],
      "metadata": {
        "colab": {
          "base_uri": "https://localhost:8080/",
          "height": 424
        },
        "id": "18x21YqUS8qs",
        "outputId": "003c080b-46bd-4993-9d7b-4728ce42485b"
      },
      "execution_count": null,
      "outputs": [
        {
          "output_type": "execute_result",
          "data": {
            "text/plain": [
              "            Time        V1        V2        V3        V4        V5        V6  \\\n",
              "0         8748.0 -1.070416  0.304517  2.777064  2.154061  0.254450 -0.448529   \n",
              "1        27074.0  1.165628  0.423671  0.887635  2.740163 -0.338578 -0.142846   \n",
              "2        28292.0  1.050879  0.053408  1.364590  2.666158 -0.378636  1.382032   \n",
              "3        28488.0  1.070316  0.079499  1.471856  2.863786 -0.637887  0.858159   \n",
              "4        31392.0 -3.680953 -4.183581  2.642743  4.263802  4.643286 -0.225053   \n",
              "...          ...       ...       ...       ...       ...       ...       ...   \n",
              "284802  154599.0  0.667714  3.041502 -5.845112  5.967587  0.213863 -1.462923   \n",
              "284803   90676.0 -2.405580  3.738235 -2.317843  1.367442  0.394001  1.919938   \n",
              "284804   34634.0  0.333499  1.699873 -2.596561  3.643945 -0.585068 -0.654659   \n",
              "284805   96135.0 -1.952933  3.541385 -1.310561  5.955664 -1.003993  0.983049   \n",
              "284806    4462.0 -2.303350  1.759247 -0.359745  2.330243 -0.821628 -0.075788   \n",
              "\n",
              "              V7         V8        V9  ...        V21       V22       V23  \\\n",
              "0      -0.398691   0.144672  1.070900  ...  -0.122032 -0.182351  0.019576   \n",
              "1      -0.055628  -0.015325 -0.213621  ...  -0.081184 -0.025694 -0.076609   \n",
              "2      -0.766202   0.486126  0.152611  ...   0.083467  0.624424 -0.157228   \n",
              "3      -0.687478   0.344146  0.459561  ...   0.048067  0.534713 -0.098645   \n",
              "4      -3.733637   1.273037  0.015661  ...   0.649051  1.054124  0.795528   \n",
              "...          ...        ...       ...  ...        ...       ...       ...   \n",
              "284802 -2.688761   0.677764 -3.447596  ...   0.329760 -0.941383 -0.006075   \n",
              "284803 -3.106942 -10.764403  3.353525  ...  10.005998 -2.454964  1.684957   \n",
              "284804 -2.275789   0.675229 -2.042416  ...   0.469212 -0.144363 -0.317981   \n",
              "284805 -4.587235  -4.892184 -2.516752  ...  -1.998091  1.133706 -0.041461   \n",
              "284806  0.562320  -0.399147 -0.238253  ...  -0.294166 -0.932391  0.172726   \n",
              "\n",
              "             V24       V25       V26       V27       V28  Amount  Class  \n",
              "0       0.626023 -0.018518 -0.263291 -0.198600  0.098435    0.00      0  \n",
              "1       0.414687  0.631032  0.077322  0.010182  0.019912    0.00      0  \n",
              "2      -0.240411  0.573061  0.244090  0.063834  0.010981    0.00      0  \n",
              "3       0.129272  0.543737  0.242724  0.065070  0.023500    0.00      0  \n",
              "4      -0.901314 -0.425524  0.511675  0.125419  0.243671    0.00      0  \n",
              "...          ...       ...       ...       ...       ...     ...    ...  \n",
              "284802 -0.958925  0.239298 -0.067356  0.821048  0.426175    6.74      1  \n",
              "284803  0.118263 -1.531380 -0.695308 -0.152502 -0.138866    6.99      1  \n",
              "284804 -0.769644  0.807855  0.228164  0.551002  0.305473   18.96      1  \n",
              "284805 -0.215379 -0.865599  0.212545  0.532897  0.357892   18.96      1  \n",
              "284806 -0.087330 -0.156114 -0.542628  0.039566 -0.153029  239.93      1  \n",
              "\n",
              "[284807 rows x 31 columns]"
            ],
            "text/html": [
              "\n",
              "  <div id=\"df-1c459e83-6741-4a1b-8197-d1daf2437970\" class=\"colab-df-container\">\n",
              "    <div>\n",
              "<style scoped>\n",
              "    .dataframe tbody tr th:only-of-type {\n",
              "        vertical-align: middle;\n",
              "    }\n",
              "\n",
              "    .dataframe tbody tr th {\n",
              "        vertical-align: top;\n",
              "    }\n",
              "\n",
              "    .dataframe thead th {\n",
              "        text-align: right;\n",
              "    }\n",
              "</style>\n",
              "<table border=\"1\" class=\"dataframe\">\n",
              "  <thead>\n",
              "    <tr style=\"text-align: right;\">\n",
              "      <th></th>\n",
              "      <th>Time</th>\n",
              "      <th>V1</th>\n",
              "      <th>V2</th>\n",
              "      <th>V3</th>\n",
              "      <th>V4</th>\n",
              "      <th>V5</th>\n",
              "      <th>V6</th>\n",
              "      <th>V7</th>\n",
              "      <th>V8</th>\n",
              "      <th>V9</th>\n",
              "      <th>...</th>\n",
              "      <th>V21</th>\n",
              "      <th>V22</th>\n",
              "      <th>V23</th>\n",
              "      <th>V24</th>\n",
              "      <th>V25</th>\n",
              "      <th>V26</th>\n",
              "      <th>V27</th>\n",
              "      <th>V28</th>\n",
              "      <th>Amount</th>\n",
              "      <th>Class</th>\n",
              "    </tr>\n",
              "  </thead>\n",
              "  <tbody>\n",
              "    <tr>\n",
              "      <th>0</th>\n",
              "      <td>8748.0</td>\n",
              "      <td>-1.070416</td>\n",
              "      <td>0.304517</td>\n",
              "      <td>2.777064</td>\n",
              "      <td>2.154061</td>\n",
              "      <td>0.254450</td>\n",
              "      <td>-0.448529</td>\n",
              "      <td>-0.398691</td>\n",
              "      <td>0.144672</td>\n",
              "      <td>1.070900</td>\n",
              "      <td>...</td>\n",
              "      <td>-0.122032</td>\n",
              "      <td>-0.182351</td>\n",
              "      <td>0.019576</td>\n",
              "      <td>0.626023</td>\n",
              "      <td>-0.018518</td>\n",
              "      <td>-0.263291</td>\n",
              "      <td>-0.198600</td>\n",
              "      <td>0.098435</td>\n",
              "      <td>0.00</td>\n",
              "      <td>0</td>\n",
              "    </tr>\n",
              "    <tr>\n",
              "      <th>1</th>\n",
              "      <td>27074.0</td>\n",
              "      <td>1.165628</td>\n",
              "      <td>0.423671</td>\n",
              "      <td>0.887635</td>\n",
              "      <td>2.740163</td>\n",
              "      <td>-0.338578</td>\n",
              "      <td>-0.142846</td>\n",
              "      <td>-0.055628</td>\n",
              "      <td>-0.015325</td>\n",
              "      <td>-0.213621</td>\n",
              "      <td>...</td>\n",
              "      <td>-0.081184</td>\n",
              "      <td>-0.025694</td>\n",
              "      <td>-0.076609</td>\n",
              "      <td>0.414687</td>\n",
              "      <td>0.631032</td>\n",
              "      <td>0.077322</td>\n",
              "      <td>0.010182</td>\n",
              "      <td>0.019912</td>\n",
              "      <td>0.00</td>\n",
              "      <td>0</td>\n",
              "    </tr>\n",
              "    <tr>\n",
              "      <th>2</th>\n",
              "      <td>28292.0</td>\n",
              "      <td>1.050879</td>\n",
              "      <td>0.053408</td>\n",
              "      <td>1.364590</td>\n",
              "      <td>2.666158</td>\n",
              "      <td>-0.378636</td>\n",
              "      <td>1.382032</td>\n",
              "      <td>-0.766202</td>\n",
              "      <td>0.486126</td>\n",
              "      <td>0.152611</td>\n",
              "      <td>...</td>\n",
              "      <td>0.083467</td>\n",
              "      <td>0.624424</td>\n",
              "      <td>-0.157228</td>\n",
              "      <td>-0.240411</td>\n",
              "      <td>0.573061</td>\n",
              "      <td>0.244090</td>\n",
              "      <td>0.063834</td>\n",
              "      <td>0.010981</td>\n",
              "      <td>0.00</td>\n",
              "      <td>0</td>\n",
              "    </tr>\n",
              "    <tr>\n",
              "      <th>3</th>\n",
              "      <td>28488.0</td>\n",
              "      <td>1.070316</td>\n",
              "      <td>0.079499</td>\n",
              "      <td>1.471856</td>\n",
              "      <td>2.863786</td>\n",
              "      <td>-0.637887</td>\n",
              "      <td>0.858159</td>\n",
              "      <td>-0.687478</td>\n",
              "      <td>0.344146</td>\n",
              "      <td>0.459561</td>\n",
              "      <td>...</td>\n",
              "      <td>0.048067</td>\n",
              "      <td>0.534713</td>\n",
              "      <td>-0.098645</td>\n",
              "      <td>0.129272</td>\n",
              "      <td>0.543737</td>\n",
              "      <td>0.242724</td>\n",
              "      <td>0.065070</td>\n",
              "      <td>0.023500</td>\n",
              "      <td>0.00</td>\n",
              "      <td>0</td>\n",
              "    </tr>\n",
              "    <tr>\n",
              "      <th>4</th>\n",
              "      <td>31392.0</td>\n",
              "      <td>-3.680953</td>\n",
              "      <td>-4.183581</td>\n",
              "      <td>2.642743</td>\n",
              "      <td>4.263802</td>\n",
              "      <td>4.643286</td>\n",
              "      <td>-0.225053</td>\n",
              "      <td>-3.733637</td>\n",
              "      <td>1.273037</td>\n",
              "      <td>0.015661</td>\n",
              "      <td>...</td>\n",
              "      <td>0.649051</td>\n",
              "      <td>1.054124</td>\n",
              "      <td>0.795528</td>\n",
              "      <td>-0.901314</td>\n",
              "      <td>-0.425524</td>\n",
              "      <td>0.511675</td>\n",
              "      <td>0.125419</td>\n",
              "      <td>0.243671</td>\n",
              "      <td>0.00</td>\n",
              "      <td>0</td>\n",
              "    </tr>\n",
              "    <tr>\n",
              "      <th>...</th>\n",
              "      <td>...</td>\n",
              "      <td>...</td>\n",
              "      <td>...</td>\n",
              "      <td>...</td>\n",
              "      <td>...</td>\n",
              "      <td>...</td>\n",
              "      <td>...</td>\n",
              "      <td>...</td>\n",
              "      <td>...</td>\n",
              "      <td>...</td>\n",
              "      <td>...</td>\n",
              "      <td>...</td>\n",
              "      <td>...</td>\n",
              "      <td>...</td>\n",
              "      <td>...</td>\n",
              "      <td>...</td>\n",
              "      <td>...</td>\n",
              "      <td>...</td>\n",
              "      <td>...</td>\n",
              "      <td>...</td>\n",
              "      <td>...</td>\n",
              "    </tr>\n",
              "    <tr>\n",
              "      <th>284802</th>\n",
              "      <td>154599.0</td>\n",
              "      <td>0.667714</td>\n",
              "      <td>3.041502</td>\n",
              "      <td>-5.845112</td>\n",
              "      <td>5.967587</td>\n",
              "      <td>0.213863</td>\n",
              "      <td>-1.462923</td>\n",
              "      <td>-2.688761</td>\n",
              "      <td>0.677764</td>\n",
              "      <td>-3.447596</td>\n",
              "      <td>...</td>\n",
              "      <td>0.329760</td>\n",
              "      <td>-0.941383</td>\n",
              "      <td>-0.006075</td>\n",
              "      <td>-0.958925</td>\n",
              "      <td>0.239298</td>\n",
              "      <td>-0.067356</td>\n",
              "      <td>0.821048</td>\n",
              "      <td>0.426175</td>\n",
              "      <td>6.74</td>\n",
              "      <td>1</td>\n",
              "    </tr>\n",
              "    <tr>\n",
              "      <th>284803</th>\n",
              "      <td>90676.0</td>\n",
              "      <td>-2.405580</td>\n",
              "      <td>3.738235</td>\n",
              "      <td>-2.317843</td>\n",
              "      <td>1.367442</td>\n",
              "      <td>0.394001</td>\n",
              "      <td>1.919938</td>\n",
              "      <td>-3.106942</td>\n",
              "      <td>-10.764403</td>\n",
              "      <td>3.353525</td>\n",
              "      <td>...</td>\n",
              "      <td>10.005998</td>\n",
              "      <td>-2.454964</td>\n",
              "      <td>1.684957</td>\n",
              "      <td>0.118263</td>\n",
              "      <td>-1.531380</td>\n",
              "      <td>-0.695308</td>\n",
              "      <td>-0.152502</td>\n",
              "      <td>-0.138866</td>\n",
              "      <td>6.99</td>\n",
              "      <td>1</td>\n",
              "    </tr>\n",
              "    <tr>\n",
              "      <th>284804</th>\n",
              "      <td>34634.0</td>\n",
              "      <td>0.333499</td>\n",
              "      <td>1.699873</td>\n",
              "      <td>-2.596561</td>\n",
              "      <td>3.643945</td>\n",
              "      <td>-0.585068</td>\n",
              "      <td>-0.654659</td>\n",
              "      <td>-2.275789</td>\n",
              "      <td>0.675229</td>\n",
              "      <td>-2.042416</td>\n",
              "      <td>...</td>\n",
              "      <td>0.469212</td>\n",
              "      <td>-0.144363</td>\n",
              "      <td>-0.317981</td>\n",
              "      <td>-0.769644</td>\n",
              "      <td>0.807855</td>\n",
              "      <td>0.228164</td>\n",
              "      <td>0.551002</td>\n",
              "      <td>0.305473</td>\n",
              "      <td>18.96</td>\n",
              "      <td>1</td>\n",
              "    </tr>\n",
              "    <tr>\n",
              "      <th>284805</th>\n",
              "      <td>96135.0</td>\n",
              "      <td>-1.952933</td>\n",
              "      <td>3.541385</td>\n",
              "      <td>-1.310561</td>\n",
              "      <td>5.955664</td>\n",
              "      <td>-1.003993</td>\n",
              "      <td>0.983049</td>\n",
              "      <td>-4.587235</td>\n",
              "      <td>-4.892184</td>\n",
              "      <td>-2.516752</td>\n",
              "      <td>...</td>\n",
              "      <td>-1.998091</td>\n",
              "      <td>1.133706</td>\n",
              "      <td>-0.041461</td>\n",
              "      <td>-0.215379</td>\n",
              "      <td>-0.865599</td>\n",
              "      <td>0.212545</td>\n",
              "      <td>0.532897</td>\n",
              "      <td>0.357892</td>\n",
              "      <td>18.96</td>\n",
              "      <td>1</td>\n",
              "    </tr>\n",
              "    <tr>\n",
              "      <th>284806</th>\n",
              "      <td>4462.0</td>\n",
              "      <td>-2.303350</td>\n",
              "      <td>1.759247</td>\n",
              "      <td>-0.359745</td>\n",
              "      <td>2.330243</td>\n",
              "      <td>-0.821628</td>\n",
              "      <td>-0.075788</td>\n",
              "      <td>0.562320</td>\n",
              "      <td>-0.399147</td>\n",
              "      <td>-0.238253</td>\n",
              "      <td>...</td>\n",
              "      <td>-0.294166</td>\n",
              "      <td>-0.932391</td>\n",
              "      <td>0.172726</td>\n",
              "      <td>-0.087330</td>\n",
              "      <td>-0.156114</td>\n",
              "      <td>-0.542628</td>\n",
              "      <td>0.039566</td>\n",
              "      <td>-0.153029</td>\n",
              "      <td>239.93</td>\n",
              "      <td>1</td>\n",
              "    </tr>\n",
              "  </tbody>\n",
              "</table>\n",
              "<p>284807 rows × 31 columns</p>\n",
              "</div>\n",
              "    <div class=\"colab-df-buttons\">\n",
              "\n",
              "  <div class=\"colab-df-container\">\n",
              "    <button class=\"colab-df-convert\" onclick=\"convertToInteractive('df-1c459e83-6741-4a1b-8197-d1daf2437970')\"\n",
              "            title=\"Convert this dataframe to an interactive table.\"\n",
              "            style=\"display:none;\">\n",
              "\n",
              "  <svg xmlns=\"http://www.w3.org/2000/svg\" height=\"24px\" viewBox=\"0 -960 960 960\">\n",
              "    <path d=\"M120-120v-720h720v720H120Zm60-500h600v-160H180v160Zm220 220h160v-160H400v160Zm0 220h160v-160H400v160ZM180-400h160v-160H180v160Zm440 0h160v-160H620v160ZM180-180h160v-160H180v160Zm440 0h160v-160H620v160Z\"/>\n",
              "  </svg>\n",
              "    </button>\n",
              "\n",
              "  <style>\n",
              "    .colab-df-container {\n",
              "      display:flex;\n",
              "      gap: 12px;\n",
              "    }\n",
              "\n",
              "    .colab-df-convert {\n",
              "      background-color: #E8F0FE;\n",
              "      border: none;\n",
              "      border-radius: 50%;\n",
              "      cursor: pointer;\n",
              "      display: none;\n",
              "      fill: #1967D2;\n",
              "      height: 32px;\n",
              "      padding: 0 0 0 0;\n",
              "      width: 32px;\n",
              "    }\n",
              "\n",
              "    .colab-df-convert:hover {\n",
              "      background-color: #E2EBFA;\n",
              "      box-shadow: 0px 1px 2px rgba(60, 64, 67, 0.3), 0px 1px 3px 1px rgba(60, 64, 67, 0.15);\n",
              "      fill: #174EA6;\n",
              "    }\n",
              "\n",
              "    .colab-df-buttons div {\n",
              "      margin-bottom: 4px;\n",
              "    }\n",
              "\n",
              "    [theme=dark] .colab-df-convert {\n",
              "      background-color: #3B4455;\n",
              "      fill: #D2E3FC;\n",
              "    }\n",
              "\n",
              "    [theme=dark] .colab-df-convert:hover {\n",
              "      background-color: #434B5C;\n",
              "      box-shadow: 0px 1px 3px 1px rgba(0, 0, 0, 0.15);\n",
              "      filter: drop-shadow(0px 1px 2px rgba(0, 0, 0, 0.3));\n",
              "      fill: #FFFFFF;\n",
              "    }\n",
              "  </style>\n",
              "\n",
              "    <script>\n",
              "      const buttonEl =\n",
              "        document.querySelector('#df-1c459e83-6741-4a1b-8197-d1daf2437970 button.colab-df-convert');\n",
              "      buttonEl.style.display =\n",
              "        google.colab.kernel.accessAllowed ? 'block' : 'none';\n",
              "\n",
              "      async function convertToInteractive(key) {\n",
              "        const element = document.querySelector('#df-1c459e83-6741-4a1b-8197-d1daf2437970');\n",
              "        const dataTable =\n",
              "          await google.colab.kernel.invokeFunction('convertToInteractive',\n",
              "                                                    [key], {});\n",
              "        if (!dataTable) return;\n",
              "\n",
              "        const docLinkHtml = 'Like what you see? Visit the ' +\n",
              "          '<a target=\"_blank\" href=https://colab.research.google.com/notebooks/data_table.ipynb>data table notebook</a>'\n",
              "          + ' to learn more about interactive tables.';\n",
              "        element.innerHTML = '';\n",
              "        dataTable['output_type'] = 'display_data';\n",
              "        await google.colab.output.renderOutput(dataTable, element);\n",
              "        const docLink = document.createElement('div');\n",
              "        docLink.innerHTML = docLinkHtml;\n",
              "        element.appendChild(docLink);\n",
              "      }\n",
              "    </script>\n",
              "  </div>\n",
              "\n",
              "\n",
              "<div id=\"df-168ad504-2609-4158-bde0-77be045c7d7a\">\n",
              "  <button class=\"colab-df-quickchart\" onclick=\"quickchart('df-168ad504-2609-4158-bde0-77be045c7d7a')\"\n",
              "            title=\"Suggest charts\"\n",
              "            style=\"display:none;\">\n",
              "\n",
              "<svg xmlns=\"http://www.w3.org/2000/svg\" height=\"24px\"viewBox=\"0 0 24 24\"\n",
              "     width=\"24px\">\n",
              "    <g>\n",
              "        <path d=\"M19 3H5c-1.1 0-2 .9-2 2v14c0 1.1.9 2 2 2h14c1.1 0 2-.9 2-2V5c0-1.1-.9-2-2-2zM9 17H7v-7h2v7zm4 0h-2V7h2v10zm4 0h-2v-4h2v4z\"/>\n",
              "    </g>\n",
              "</svg>\n",
              "  </button>\n",
              "\n",
              "<style>\n",
              "  .colab-df-quickchart {\n",
              "      --bg-color: #E8F0FE;\n",
              "      --fill-color: #1967D2;\n",
              "      --hover-bg-color: #E2EBFA;\n",
              "      --hover-fill-color: #174EA6;\n",
              "      --disabled-fill-color: #AAA;\n",
              "      --disabled-bg-color: #DDD;\n",
              "  }\n",
              "\n",
              "  [theme=dark] .colab-df-quickchart {\n",
              "      --bg-color: #3B4455;\n",
              "      --fill-color: #D2E3FC;\n",
              "      --hover-bg-color: #434B5C;\n",
              "      --hover-fill-color: #FFFFFF;\n",
              "      --disabled-bg-color: #3B4455;\n",
              "      --disabled-fill-color: #666;\n",
              "  }\n",
              "\n",
              "  .colab-df-quickchart {\n",
              "    background-color: var(--bg-color);\n",
              "    border: none;\n",
              "    border-radius: 50%;\n",
              "    cursor: pointer;\n",
              "    display: none;\n",
              "    fill: var(--fill-color);\n",
              "    height: 32px;\n",
              "    padding: 0;\n",
              "    width: 32px;\n",
              "  }\n",
              "\n",
              "  .colab-df-quickchart:hover {\n",
              "    background-color: var(--hover-bg-color);\n",
              "    box-shadow: 0 1px 2px rgba(60, 64, 67, 0.3), 0 1px 3px 1px rgba(60, 64, 67, 0.15);\n",
              "    fill: var(--button-hover-fill-color);\n",
              "  }\n",
              "\n",
              "  .colab-df-quickchart-complete:disabled,\n",
              "  .colab-df-quickchart-complete:disabled:hover {\n",
              "    background-color: var(--disabled-bg-color);\n",
              "    fill: var(--disabled-fill-color);\n",
              "    box-shadow: none;\n",
              "  }\n",
              "\n",
              "  .colab-df-spinner {\n",
              "    border: 2px solid var(--fill-color);\n",
              "    border-color: transparent;\n",
              "    border-bottom-color: var(--fill-color);\n",
              "    animation:\n",
              "      spin 1s steps(1) infinite;\n",
              "  }\n",
              "\n",
              "  @keyframes spin {\n",
              "    0% {\n",
              "      border-color: transparent;\n",
              "      border-bottom-color: var(--fill-color);\n",
              "      border-left-color: var(--fill-color);\n",
              "    }\n",
              "    20% {\n",
              "      border-color: transparent;\n",
              "      border-left-color: var(--fill-color);\n",
              "      border-top-color: var(--fill-color);\n",
              "    }\n",
              "    30% {\n",
              "      border-color: transparent;\n",
              "      border-left-color: var(--fill-color);\n",
              "      border-top-color: var(--fill-color);\n",
              "      border-right-color: var(--fill-color);\n",
              "    }\n",
              "    40% {\n",
              "      border-color: transparent;\n",
              "      border-right-color: var(--fill-color);\n",
              "      border-top-color: var(--fill-color);\n",
              "    }\n",
              "    60% {\n",
              "      border-color: transparent;\n",
              "      border-right-color: var(--fill-color);\n",
              "    }\n",
              "    80% {\n",
              "      border-color: transparent;\n",
              "      border-right-color: var(--fill-color);\n",
              "      border-bottom-color: var(--fill-color);\n",
              "    }\n",
              "    90% {\n",
              "      border-color: transparent;\n",
              "      border-bottom-color: var(--fill-color);\n",
              "    }\n",
              "  }\n",
              "</style>\n",
              "\n",
              "  <script>\n",
              "    async function quickchart(key) {\n",
              "      const quickchartButtonEl =\n",
              "        document.querySelector('#' + key + ' button');\n",
              "      quickchartButtonEl.disabled = true;  // To prevent multiple clicks.\n",
              "      quickchartButtonEl.classList.add('colab-df-spinner');\n",
              "      try {\n",
              "        const charts = await google.colab.kernel.invokeFunction(\n",
              "            'suggestCharts', [key], {});\n",
              "      } catch (error) {\n",
              "        console.error('Error during call to suggestCharts:', error);\n",
              "      }\n",
              "      quickchartButtonEl.classList.remove('colab-df-spinner');\n",
              "      quickchartButtonEl.classList.add('colab-df-quickchart-complete');\n",
              "    }\n",
              "    (() => {\n",
              "      let quickchartButtonEl =\n",
              "        document.querySelector('#df-168ad504-2609-4158-bde0-77be045c7d7a button');\n",
              "      quickchartButtonEl.style.display =\n",
              "        google.colab.kernel.accessAllowed ? 'block' : 'none';\n",
              "    })();\n",
              "  </script>\n",
              "</div>\n",
              "    </div>\n",
              "  </div>\n"
            ],
            "application/vnd.google.colaboratory.intrinsic+json": {
              "type": "dataframe",
              "variable_name": "fraud_df"
            }
          },
          "metadata": {},
          "execution_count": 25
        }
      ]
    },
    {
      "cell_type": "markdown",
      "source": [
        "Option 2: Loading a Table From a SQL Query Using BigQuery Client"
      ],
      "metadata": {
        "id": "lcxnyL88OCVl"
      }
    },
    {
      "cell_type": "code",
      "source": [
        "query = '''\n",
        "SELECT\n",
        "  *\n",
        "FROM\n",
        "bigquery-public-data.ml_datasets.ulb_fraud_detection\n",
        "  '''\n",
        "\n",
        "query_job = myclient.query(query, job_config = job_config)\n",
        "\n",
        "fraud_df = query_job.result()"
      ],
      "metadata": {
        "id": "WjW52OsiOSXm",
        "colab": {
          "base_uri": "https://localhost:8080/",
          "height": 211
        },
        "outputId": "b590b69d-1628-4d82-db41-21cfeeff5f2e"
      },
      "execution_count": null,
      "outputs": [
        {
          "output_type": "error",
          "ename": "NameError",
          "evalue": "name 'job_config' is not defined",
          "traceback": [
            "\u001b[0;31m---------------------------------------------------------------------------\u001b[0m",
            "\u001b[0;31mNameError\u001b[0m                                 Traceback (most recent call last)",
            "\u001b[0;32m<ipython-input-26-cd06a75be922>\u001b[0m in \u001b[0;36m<cell line: 8>\u001b[0;34m()\u001b[0m\n\u001b[1;32m      6\u001b[0m   '''\n\u001b[1;32m      7\u001b[0m \u001b[0;34m\u001b[0m\u001b[0m\n\u001b[0;32m----> 8\u001b[0;31m \u001b[0mquery_job\u001b[0m \u001b[0;34m=\u001b[0m \u001b[0mmyclient\u001b[0m\u001b[0;34m.\u001b[0m\u001b[0mquery\u001b[0m\u001b[0;34m(\u001b[0m\u001b[0mquery\u001b[0m\u001b[0;34m,\u001b[0m \u001b[0mjob_config\u001b[0m \u001b[0;34m=\u001b[0m \u001b[0mjob_config\u001b[0m\u001b[0;34m)\u001b[0m\u001b[0;34m\u001b[0m\u001b[0;34m\u001b[0m\u001b[0m\n\u001b[0m\u001b[1;32m      9\u001b[0m \u001b[0;34m\u001b[0m\u001b[0m\n\u001b[1;32m     10\u001b[0m \u001b[0mfraud_df\u001b[0m \u001b[0;34m=\u001b[0m \u001b[0mquery_job\u001b[0m\u001b[0;34m.\u001b[0m\u001b[0mresult\u001b[0m\u001b[0;34m(\u001b[0m\u001b[0;34m)\u001b[0m\u001b[0;34m\u001b[0m\u001b[0;34m\u001b[0m\u001b[0m\n",
            "\u001b[0;31mNameError\u001b[0m: name 'job_config' is not defined"
          ]
        }
      ]
    },
    {
      "cell_type": "markdown",
      "source": [
        "### 1.3.3: Check `shape`\n",
        "\n",
        "In the next code cell, show how many records and columns are in the `fraud_df` DataFrame."
      ],
      "metadata": {
        "id": "T3UN1c0jQgS8"
      }
    },
    {
      "cell_type": "code",
      "source": [
        "fraud_df.shape"
      ],
      "metadata": {
        "id": "W5uQ4ivIODqd",
        "colab": {
          "base_uri": "https://localhost:8080/"
        },
        "outputId": "b6869826-4921-4ee5-8aa5-ec3eeae3f64e"
      },
      "execution_count": null,
      "outputs": [
        {
          "output_type": "execute_result",
          "data": {
            "text/plain": [
              "(284807, 31)"
            ]
          },
          "metadata": {},
          "execution_count": 28
        }
      ]
    },
    {
      "cell_type": "markdown",
      "source": [
        "### 1.3.4: Sample Records\n",
        "\n",
        "In the next code cell, show the first 5 records of the `fraud_df` DataFrame."
      ],
      "metadata": {
        "id": "-17UwpeoQ1tl"
      }
    },
    {
      "cell_type": "code",
      "source": [
        "fraud_df.head()"
      ],
      "metadata": {
        "id": "XJa2X6QHLIVe",
        "colab": {
          "base_uri": "https://localhost:8080/",
          "height": 236
        },
        "outputId": "b8ade210-0301-4898-c6fd-a245e0dc65c2"
      },
      "execution_count": null,
      "outputs": [
        {
          "output_type": "execute_result",
          "data": {
            "text/plain": [
              "      Time        V1        V2        V3        V4        V5        V6  \\\n",
              "0   8748.0 -1.070416  0.304517  2.777064  2.154061  0.254450 -0.448529   \n",
              "1  27074.0  1.165628  0.423671  0.887635  2.740163 -0.338578 -0.142846   \n",
              "2  28292.0  1.050879  0.053408  1.364590  2.666158 -0.378636  1.382032   \n",
              "3  28488.0  1.070316  0.079499  1.471856  2.863786 -0.637887  0.858159   \n",
              "4  31392.0 -3.680953 -4.183581  2.642743  4.263802  4.643286 -0.225053   \n",
              "\n",
              "         V7        V8        V9  ...       V21       V22       V23       V24  \\\n",
              "0 -0.398691  0.144672  1.070900  ... -0.122032 -0.182351  0.019576  0.626023   \n",
              "1 -0.055628 -0.015325 -0.213621  ... -0.081184 -0.025694 -0.076609  0.414687   \n",
              "2 -0.766202  0.486126  0.152611  ...  0.083467  0.624424 -0.157228 -0.240411   \n",
              "3 -0.687478  0.344146  0.459561  ...  0.048067  0.534713 -0.098645  0.129272   \n",
              "4 -3.733637  1.273037  0.015661  ...  0.649051  1.054124  0.795528 -0.901314   \n",
              "\n",
              "        V25       V26       V27       V28  Amount  Class  \n",
              "0 -0.018518 -0.263291 -0.198600  0.098435     0.0      0  \n",
              "1  0.631032  0.077322  0.010182  0.019912     0.0      0  \n",
              "2  0.573061  0.244090  0.063834  0.010981     0.0      0  \n",
              "3  0.543737  0.242724  0.065070  0.023500     0.0      0  \n",
              "4 -0.425524  0.511675  0.125419  0.243671     0.0      0  \n",
              "\n",
              "[5 rows x 31 columns]"
            ],
            "text/html": [
              "\n",
              "  <div id=\"df-46f35766-1f21-4eb7-8aab-3f96e70cc261\" class=\"colab-df-container\">\n",
              "    <div>\n",
              "<style scoped>\n",
              "    .dataframe tbody tr th:only-of-type {\n",
              "        vertical-align: middle;\n",
              "    }\n",
              "\n",
              "    .dataframe tbody tr th {\n",
              "        vertical-align: top;\n",
              "    }\n",
              "\n",
              "    .dataframe thead th {\n",
              "        text-align: right;\n",
              "    }\n",
              "</style>\n",
              "<table border=\"1\" class=\"dataframe\">\n",
              "  <thead>\n",
              "    <tr style=\"text-align: right;\">\n",
              "      <th></th>\n",
              "      <th>Time</th>\n",
              "      <th>V1</th>\n",
              "      <th>V2</th>\n",
              "      <th>V3</th>\n",
              "      <th>V4</th>\n",
              "      <th>V5</th>\n",
              "      <th>V6</th>\n",
              "      <th>V7</th>\n",
              "      <th>V8</th>\n",
              "      <th>V9</th>\n",
              "      <th>...</th>\n",
              "      <th>V21</th>\n",
              "      <th>V22</th>\n",
              "      <th>V23</th>\n",
              "      <th>V24</th>\n",
              "      <th>V25</th>\n",
              "      <th>V26</th>\n",
              "      <th>V27</th>\n",
              "      <th>V28</th>\n",
              "      <th>Amount</th>\n",
              "      <th>Class</th>\n",
              "    </tr>\n",
              "  </thead>\n",
              "  <tbody>\n",
              "    <tr>\n",
              "      <th>0</th>\n",
              "      <td>8748.0</td>\n",
              "      <td>-1.070416</td>\n",
              "      <td>0.304517</td>\n",
              "      <td>2.777064</td>\n",
              "      <td>2.154061</td>\n",
              "      <td>0.254450</td>\n",
              "      <td>-0.448529</td>\n",
              "      <td>-0.398691</td>\n",
              "      <td>0.144672</td>\n",
              "      <td>1.070900</td>\n",
              "      <td>...</td>\n",
              "      <td>-0.122032</td>\n",
              "      <td>-0.182351</td>\n",
              "      <td>0.019576</td>\n",
              "      <td>0.626023</td>\n",
              "      <td>-0.018518</td>\n",
              "      <td>-0.263291</td>\n",
              "      <td>-0.198600</td>\n",
              "      <td>0.098435</td>\n",
              "      <td>0.0</td>\n",
              "      <td>0</td>\n",
              "    </tr>\n",
              "    <tr>\n",
              "      <th>1</th>\n",
              "      <td>27074.0</td>\n",
              "      <td>1.165628</td>\n",
              "      <td>0.423671</td>\n",
              "      <td>0.887635</td>\n",
              "      <td>2.740163</td>\n",
              "      <td>-0.338578</td>\n",
              "      <td>-0.142846</td>\n",
              "      <td>-0.055628</td>\n",
              "      <td>-0.015325</td>\n",
              "      <td>-0.213621</td>\n",
              "      <td>...</td>\n",
              "      <td>-0.081184</td>\n",
              "      <td>-0.025694</td>\n",
              "      <td>-0.076609</td>\n",
              "      <td>0.414687</td>\n",
              "      <td>0.631032</td>\n",
              "      <td>0.077322</td>\n",
              "      <td>0.010182</td>\n",
              "      <td>0.019912</td>\n",
              "      <td>0.0</td>\n",
              "      <td>0</td>\n",
              "    </tr>\n",
              "    <tr>\n",
              "      <th>2</th>\n",
              "      <td>28292.0</td>\n",
              "      <td>1.050879</td>\n",
              "      <td>0.053408</td>\n",
              "      <td>1.364590</td>\n",
              "      <td>2.666158</td>\n",
              "      <td>-0.378636</td>\n",
              "      <td>1.382032</td>\n",
              "      <td>-0.766202</td>\n",
              "      <td>0.486126</td>\n",
              "      <td>0.152611</td>\n",
              "      <td>...</td>\n",
              "      <td>0.083467</td>\n",
              "      <td>0.624424</td>\n",
              "      <td>-0.157228</td>\n",
              "      <td>-0.240411</td>\n",
              "      <td>0.573061</td>\n",
              "      <td>0.244090</td>\n",
              "      <td>0.063834</td>\n",
              "      <td>0.010981</td>\n",
              "      <td>0.0</td>\n",
              "      <td>0</td>\n",
              "    </tr>\n",
              "    <tr>\n",
              "      <th>3</th>\n",
              "      <td>28488.0</td>\n",
              "      <td>1.070316</td>\n",
              "      <td>0.079499</td>\n",
              "      <td>1.471856</td>\n",
              "      <td>2.863786</td>\n",
              "      <td>-0.637887</td>\n",
              "      <td>0.858159</td>\n",
              "      <td>-0.687478</td>\n",
              "      <td>0.344146</td>\n",
              "      <td>0.459561</td>\n",
              "      <td>...</td>\n",
              "      <td>0.048067</td>\n",
              "      <td>0.534713</td>\n",
              "      <td>-0.098645</td>\n",
              "      <td>0.129272</td>\n",
              "      <td>0.543737</td>\n",
              "      <td>0.242724</td>\n",
              "      <td>0.065070</td>\n",
              "      <td>0.023500</td>\n",
              "      <td>0.0</td>\n",
              "      <td>0</td>\n",
              "    </tr>\n",
              "    <tr>\n",
              "      <th>4</th>\n",
              "      <td>31392.0</td>\n",
              "      <td>-3.680953</td>\n",
              "      <td>-4.183581</td>\n",
              "      <td>2.642743</td>\n",
              "      <td>4.263802</td>\n",
              "      <td>4.643286</td>\n",
              "      <td>-0.225053</td>\n",
              "      <td>-3.733637</td>\n",
              "      <td>1.273037</td>\n",
              "      <td>0.015661</td>\n",
              "      <td>...</td>\n",
              "      <td>0.649051</td>\n",
              "      <td>1.054124</td>\n",
              "      <td>0.795528</td>\n",
              "      <td>-0.901314</td>\n",
              "      <td>-0.425524</td>\n",
              "      <td>0.511675</td>\n",
              "      <td>0.125419</td>\n",
              "      <td>0.243671</td>\n",
              "      <td>0.0</td>\n",
              "      <td>0</td>\n",
              "    </tr>\n",
              "  </tbody>\n",
              "</table>\n",
              "<p>5 rows × 31 columns</p>\n",
              "</div>\n",
              "    <div class=\"colab-df-buttons\">\n",
              "\n",
              "  <div class=\"colab-df-container\">\n",
              "    <button class=\"colab-df-convert\" onclick=\"convertToInteractive('df-46f35766-1f21-4eb7-8aab-3f96e70cc261')\"\n",
              "            title=\"Convert this dataframe to an interactive table.\"\n",
              "            style=\"display:none;\">\n",
              "\n",
              "  <svg xmlns=\"http://www.w3.org/2000/svg\" height=\"24px\" viewBox=\"0 -960 960 960\">\n",
              "    <path d=\"M120-120v-720h720v720H120Zm60-500h600v-160H180v160Zm220 220h160v-160H400v160Zm0 220h160v-160H400v160ZM180-400h160v-160H180v160Zm440 0h160v-160H620v160ZM180-180h160v-160H180v160Zm440 0h160v-160H620v160Z\"/>\n",
              "  </svg>\n",
              "    </button>\n",
              "\n",
              "  <style>\n",
              "    .colab-df-container {\n",
              "      display:flex;\n",
              "      gap: 12px;\n",
              "    }\n",
              "\n",
              "    .colab-df-convert {\n",
              "      background-color: #E8F0FE;\n",
              "      border: none;\n",
              "      border-radius: 50%;\n",
              "      cursor: pointer;\n",
              "      display: none;\n",
              "      fill: #1967D2;\n",
              "      height: 32px;\n",
              "      padding: 0 0 0 0;\n",
              "      width: 32px;\n",
              "    }\n",
              "\n",
              "    .colab-df-convert:hover {\n",
              "      background-color: #E2EBFA;\n",
              "      box-shadow: 0px 1px 2px rgba(60, 64, 67, 0.3), 0px 1px 3px 1px rgba(60, 64, 67, 0.15);\n",
              "      fill: #174EA6;\n",
              "    }\n",
              "\n",
              "    .colab-df-buttons div {\n",
              "      margin-bottom: 4px;\n",
              "    }\n",
              "\n",
              "    [theme=dark] .colab-df-convert {\n",
              "      background-color: #3B4455;\n",
              "      fill: #D2E3FC;\n",
              "    }\n",
              "\n",
              "    [theme=dark] .colab-df-convert:hover {\n",
              "      background-color: #434B5C;\n",
              "      box-shadow: 0px 1px 3px 1px rgba(0, 0, 0, 0.15);\n",
              "      filter: drop-shadow(0px 1px 2px rgba(0, 0, 0, 0.3));\n",
              "      fill: #FFFFFF;\n",
              "    }\n",
              "  </style>\n",
              "\n",
              "    <script>\n",
              "      const buttonEl =\n",
              "        document.querySelector('#df-46f35766-1f21-4eb7-8aab-3f96e70cc261 button.colab-df-convert');\n",
              "      buttonEl.style.display =\n",
              "        google.colab.kernel.accessAllowed ? 'block' : 'none';\n",
              "\n",
              "      async function convertToInteractive(key) {\n",
              "        const element = document.querySelector('#df-46f35766-1f21-4eb7-8aab-3f96e70cc261');\n",
              "        const dataTable =\n",
              "          await google.colab.kernel.invokeFunction('convertToInteractive',\n",
              "                                                    [key], {});\n",
              "        if (!dataTable) return;\n",
              "\n",
              "        const docLinkHtml = 'Like what you see? Visit the ' +\n",
              "          '<a target=\"_blank\" href=https://colab.research.google.com/notebooks/data_table.ipynb>data table notebook</a>'\n",
              "          + ' to learn more about interactive tables.';\n",
              "        element.innerHTML = '';\n",
              "        dataTable['output_type'] = 'display_data';\n",
              "        await google.colab.output.renderOutput(dataTable, element);\n",
              "        const docLink = document.createElement('div');\n",
              "        docLink.innerHTML = docLinkHtml;\n",
              "        element.appendChild(docLink);\n",
              "      }\n",
              "    </script>\n",
              "  </div>\n",
              "\n",
              "\n",
              "<div id=\"df-9563dd09-fc94-4f0f-9501-9d2afa5f8cfc\">\n",
              "  <button class=\"colab-df-quickchart\" onclick=\"quickchart('df-9563dd09-fc94-4f0f-9501-9d2afa5f8cfc')\"\n",
              "            title=\"Suggest charts\"\n",
              "            style=\"display:none;\">\n",
              "\n",
              "<svg xmlns=\"http://www.w3.org/2000/svg\" height=\"24px\"viewBox=\"0 0 24 24\"\n",
              "     width=\"24px\">\n",
              "    <g>\n",
              "        <path d=\"M19 3H5c-1.1 0-2 .9-2 2v14c0 1.1.9 2 2 2h14c1.1 0 2-.9 2-2V5c0-1.1-.9-2-2-2zM9 17H7v-7h2v7zm4 0h-2V7h2v10zm4 0h-2v-4h2v4z\"/>\n",
              "    </g>\n",
              "</svg>\n",
              "  </button>\n",
              "\n",
              "<style>\n",
              "  .colab-df-quickchart {\n",
              "      --bg-color: #E8F0FE;\n",
              "      --fill-color: #1967D2;\n",
              "      --hover-bg-color: #E2EBFA;\n",
              "      --hover-fill-color: #174EA6;\n",
              "      --disabled-fill-color: #AAA;\n",
              "      --disabled-bg-color: #DDD;\n",
              "  }\n",
              "\n",
              "  [theme=dark] .colab-df-quickchart {\n",
              "      --bg-color: #3B4455;\n",
              "      --fill-color: #D2E3FC;\n",
              "      --hover-bg-color: #434B5C;\n",
              "      --hover-fill-color: #FFFFFF;\n",
              "      --disabled-bg-color: #3B4455;\n",
              "      --disabled-fill-color: #666;\n",
              "  }\n",
              "\n",
              "  .colab-df-quickchart {\n",
              "    background-color: var(--bg-color);\n",
              "    border: none;\n",
              "    border-radius: 50%;\n",
              "    cursor: pointer;\n",
              "    display: none;\n",
              "    fill: var(--fill-color);\n",
              "    height: 32px;\n",
              "    padding: 0;\n",
              "    width: 32px;\n",
              "  }\n",
              "\n",
              "  .colab-df-quickchart:hover {\n",
              "    background-color: var(--hover-bg-color);\n",
              "    box-shadow: 0 1px 2px rgba(60, 64, 67, 0.3), 0 1px 3px 1px rgba(60, 64, 67, 0.15);\n",
              "    fill: var(--button-hover-fill-color);\n",
              "  }\n",
              "\n",
              "  .colab-df-quickchart-complete:disabled,\n",
              "  .colab-df-quickchart-complete:disabled:hover {\n",
              "    background-color: var(--disabled-bg-color);\n",
              "    fill: var(--disabled-fill-color);\n",
              "    box-shadow: none;\n",
              "  }\n",
              "\n",
              "  .colab-df-spinner {\n",
              "    border: 2px solid var(--fill-color);\n",
              "    border-color: transparent;\n",
              "    border-bottom-color: var(--fill-color);\n",
              "    animation:\n",
              "      spin 1s steps(1) infinite;\n",
              "  }\n",
              "\n",
              "  @keyframes spin {\n",
              "    0% {\n",
              "      border-color: transparent;\n",
              "      border-bottom-color: var(--fill-color);\n",
              "      border-left-color: var(--fill-color);\n",
              "    }\n",
              "    20% {\n",
              "      border-color: transparent;\n",
              "      border-left-color: var(--fill-color);\n",
              "      border-top-color: var(--fill-color);\n",
              "    }\n",
              "    30% {\n",
              "      border-color: transparent;\n",
              "      border-left-color: var(--fill-color);\n",
              "      border-top-color: var(--fill-color);\n",
              "      border-right-color: var(--fill-color);\n",
              "    }\n",
              "    40% {\n",
              "      border-color: transparent;\n",
              "      border-right-color: var(--fill-color);\n",
              "      border-top-color: var(--fill-color);\n",
              "    }\n",
              "    60% {\n",
              "      border-color: transparent;\n",
              "      border-right-color: var(--fill-color);\n",
              "    }\n",
              "    80% {\n",
              "      border-color: transparent;\n",
              "      border-right-color: var(--fill-color);\n",
              "      border-bottom-color: var(--fill-color);\n",
              "    }\n",
              "    90% {\n",
              "      border-color: transparent;\n",
              "      border-bottom-color: var(--fill-color);\n",
              "    }\n",
              "  }\n",
              "</style>\n",
              "\n",
              "  <script>\n",
              "    async function quickchart(key) {\n",
              "      const quickchartButtonEl =\n",
              "        document.querySelector('#' + key + ' button');\n",
              "      quickchartButtonEl.disabled = true;  // To prevent multiple clicks.\n",
              "      quickchartButtonEl.classList.add('colab-df-spinner');\n",
              "      try {\n",
              "        const charts = await google.colab.kernel.invokeFunction(\n",
              "            'suggestCharts', [key], {});\n",
              "      } catch (error) {\n",
              "        console.error('Error during call to suggestCharts:', error);\n",
              "      }\n",
              "      quickchartButtonEl.classList.remove('colab-df-spinner');\n",
              "      quickchartButtonEl.classList.add('colab-df-quickchart-complete');\n",
              "    }\n",
              "    (() => {\n",
              "      let quickchartButtonEl =\n",
              "        document.querySelector('#df-9563dd09-fc94-4f0f-9501-9d2afa5f8cfc button');\n",
              "      quickchartButtonEl.style.display =\n",
              "        google.colab.kernel.accessAllowed ? 'block' : 'none';\n",
              "    })();\n",
              "  </script>\n",
              "</div>\n",
              "    </div>\n",
              "  </div>\n"
            ],
            "application/vnd.google.colaboratory.intrinsic+json": {
              "type": "dataframe",
              "variable_name": "fraud_df"
            }
          },
          "metadata": {},
          "execution_count": 29
        }
      ]
    },
    {
      "cell_type": "markdown",
      "source": [
        "### 1.3.5: Box Plots\n",
        "\n",
        "Show boxplots for all the \"V\" features. These are the PCA features as indicated in the data description."
      ],
      "metadata": {
        "id": "FU639xyDSe16"
      }
    },
    {
      "cell_type": "code",
      "source": [
        "fraud_df.iloc"
      ],
      "metadata": {
        "id": "lhTif6uFSfeC"
      },
      "execution_count": null,
      "outputs": []
    },
    {
      "cell_type": "markdown",
      "source": [
        "### 1.3.6: Target Class Frequency\n",
        "\n",
        "In the next cell, show the distribution of the class variable."
      ],
      "metadata": {
        "id": "TFE32CpjTpue"
      }
    },
    {
      "cell_type": "code",
      "source": [
        "fraud_df['Class'].value_counts()"
      ],
      "metadata": {
        "id": "sSWSXF2aTyrP",
        "colab": {
          "base_uri": "https://localhost:8080/"
        },
        "outputId": "46027adb-56fb-47cc-9129-fded64640378"
      },
      "execution_count": null,
      "outputs": [
        {
          "output_type": "execute_result",
          "data": {
            "text/plain": [
              "0    284315\n",
              "1       492\n",
              "Name: Class, dtype: Int64"
            ]
          },
          "metadata": {},
          "execution_count": 27
        }
      ]
    },
    {
      "cell_type": "markdown",
      "source": [
        "---\n",
        "# Section 2: Define Data and Perform Train/Test Split Procedures\n",
        "\n",
        "In this section we perform our standard train/test/split procedure.\n",
        "\n",
        "Recall the train/test/split procedure:\n",
        "\n",
        "## In this section we will:\n",
        "1. Import Libraries\n",
        "2. Split Data in Train/Test for both X and y\n",
        "3. Fit/Train Scaler on Training X Data\n",
        "4. Scale X Test Data\n",
        "\n",
        "## In section 3 we will:\n",
        "5. Create Model\n",
        "6. Fit/Train Model on X Train Data\n",
        "7. Evaluate Model on X Test Data (by creating predictions and comparing to Y_test)\n",
        "8. Adjust Parameters as Necessary and repeat steps 5 and 6\n",
        "\n",
        "---"
      ],
      "metadata": {
        "id": "0wHDZswkRYBD"
      }
    },
    {
      "cell_type": "markdown",
      "source": [
        "### 2.1.1: Define Data\n",
        "\n",
        "For this exercise, we will use the following:\n",
        "\n",
        ">- X features: use all the \"V\" features\n",
        ">- y target: this is the \"Class\" feature\n"
      ],
      "metadata": {
        "id": "l9-bK3CQSApC"
      }
    },
    {
      "cell_type": "code",
      "source": [
        "X = fraud_df.iloc[:, 1:29]\n",
        "X.columns"
      ],
      "metadata": {
        "id": "D_sKIUFTUNNj",
        "colab": {
          "base_uri": "https://localhost:8080/"
        },
        "outputId": "eccb1b71-cc40-4548-e823-d2ac7dc56426"
      },
      "execution_count": null,
      "outputs": [
        {
          "output_type": "execute_result",
          "data": {
            "text/plain": [
              "Index(['V1', 'V2', 'V3', 'V4', 'V5', 'V6', 'V7', 'V8', 'V9', 'V10', 'V11',\n",
              "       'V12', 'V13', 'V14', 'V15', 'V16', 'V17', 'V18', 'V19', 'V20', 'V21',\n",
              "       'V22', 'V23', 'V24', 'V25', 'V26', 'V27', 'V28'],\n",
              "      dtype='object')"
            ]
          },
          "metadata": {},
          "execution_count": 30
        }
      ]
    },
    {
      "cell_type": "code",
      "source": [
        "y = fraud_df['Class']\n",
        "y.head()"
      ],
      "metadata": {
        "colab": {
          "base_uri": "https://localhost:8080/"
        },
        "id": "US6lHJwiUlAt",
        "outputId": "4f3c9f97-6de2-4062-9598-3eb71b60b035"
      },
      "execution_count": null,
      "outputs": [
        {
          "output_type": "execute_result",
          "data": {
            "text/plain": [
              "0    0\n",
              "1    0\n",
              "2    0\n",
              "3    0\n",
              "4    0\n",
              "Name: Class, dtype: Int64"
            ]
          },
          "metadata": {},
          "execution_count": 31
        }
      ]
    },
    {
      "cell_type": "markdown",
      "source": [
        "### 2.1.2: Import Libraries\n",
        "\n",
        "Import the train_test_split function."
      ],
      "metadata": {
        "id": "jGF66YdoW1BY"
      }
    },
    {
      "cell_type": "code",
      "source": [
        "from sklearn.model_selection import train_test_split"
      ],
      "metadata": {
        "id": "L4yb9qKsW8WJ"
      },
      "execution_count": null,
      "outputs": []
    },
    {
      "cell_type": "markdown",
      "source": [
        "### 2.1.3: Train-Test-Split\n",
        "\n",
        "In the next code cell split the `fraud_df` into training and testing sets with the following arguments:\n",
        "\n",
        ">- test_size = 20%\n",
        ">- random_state = 42\n",
        ">- stratify = y\n",
        ">>- this will ensure that the class proportions are preserved in the training and testing sets"
      ],
      "metadata": {
        "id": "YYgH-uCURkGv"
      }
    },
    {
      "cell_type": "code",
      "source": [
        "X_train, X_test, y_train, y_test = train_test_split(X, y, test_size= .2, random_state = 42, stratify = y)\n",
        "\n",
        "X_test.shape, y_test.shape"
      ],
      "metadata": {
        "id": "2qwt6k7mRjJO",
        "colab": {
          "base_uri": "https://localhost:8080/"
        },
        "outputId": "7e9312a3-4576-4767-d752-c6fe8970ef1c"
      },
      "execution_count": null,
      "outputs": [
        {
          "output_type": "execute_result",
          "data": {
            "text/plain": [
              "((56962, 28), (56962,))"
            ]
          },
          "metadata": {},
          "execution_count": 33
        }
      ]
    },
    {
      "cell_type": "markdown",
      "source": [
        "Check the class distributions for `y_train`:"
      ],
      "metadata": {
        "id": "ybZnmHiEZDzf"
      }
    },
    {
      "cell_type": "code",
      "source": [
        "y_train.value_counts(normalize=True)"
      ],
      "metadata": {
        "id": "D86O-aWKY6HB",
        "colab": {
          "base_uri": "https://localhost:8080/"
        },
        "outputId": "8ef5bcce-afb4-4804-8143-7042fb03f8b1"
      },
      "execution_count": null,
      "outputs": [
        {
          "output_type": "execute_result",
          "data": {
            "text/plain": [
              "0    0.998271\n",
              "1    0.001729\n",
              "Name: Class, dtype: Float64"
            ]
          },
          "metadata": {},
          "execution_count": 37
        }
      ]
    },
    {
      "cell_type": "markdown",
      "source": [
        "Check the class distributions for `y_test`:\n",
        "\n",
        ">- Compare to `y_train` to make sure your have even class distributions between training and testing data sets."
      ],
      "metadata": {
        "id": "ECT5YLf1ZHTC"
      }
    },
    {
      "cell_type": "code",
      "source": [
        "y_test.value_counts(normalize=True)"
      ],
      "metadata": {
        "id": "b44mjOhRY_nV",
        "colab": {
          "base_uri": "https://localhost:8080/"
        },
        "outputId": "cf78f63f-5132-4a65-e39f-70e156cfc60b"
      },
      "execution_count": null,
      "outputs": [
        {
          "output_type": "execute_result",
          "data": {
            "text/plain": [
              "0    0.99828\n",
              "1    0.00172\n",
              "Name: Class, dtype: Float64"
            ]
          },
          "metadata": {},
          "execution_count": 36
        }
      ]
    },
    {
      "cell_type": "markdown",
      "source": [
        "### 2.1.4: Fit/Train Scaler on Training Data\n",
        "\n",
        "Becauase the the \"V\" features should already be scaled through the PCA process we will skip this for this exercise..."
      ],
      "metadata": {
        "id": "_Z4iIVKUXZd3"
      }
    },
    {
      "cell_type": "code",
      "source": [
        "# skip for this exercise"
      ],
      "metadata": {
        "id": "z4MJcxJiXhNM"
      },
      "execution_count": null,
      "outputs": []
    },
    {
      "cell_type": "markdown",
      "source": [
        "### 2.1.5: Scale Test Data\n",
        "\n",
        "For the same reasons as 2.1.4 we will skip this step."
      ],
      "metadata": {
        "id": "QTsZ3IwQYGA_"
      }
    },
    {
      "cell_type": "code",
      "source": [
        "# skip for this exercise"
      ],
      "metadata": {
        "id": "zKnDpT3cYOUZ"
      },
      "execution_count": null,
      "outputs": []
    },
    {
      "cell_type": "markdown",
      "source": [
        "# Section 3: Create Model: Naive Bayes\n",
        "\n",
        "In this section we continue the train/test/split procedures where we pick back up in the 5th step, `Create Model`.\n",
        "\n",
        "Recall the train/test/split procedure:\n",
        "\n",
        "## In section 2 we completed:\n",
        "1. Import Libraries\n",
        "2. Split Data in Train/Test for both X and y\n",
        "3. Fit/Train Scaler on Training X Data\n",
        "4. Scale X Test Data\n",
        "\n",
        "## In this section we will:\n",
        "5. Create Model\n",
        "6. Fit/Train Model on X Train Data\n",
        "7. Evaluate Model on X Test Data (by creating predictions and comparing to Y_test)\n",
        "8. Adjust Parameters as Necessary and repeat steps 5 and 6\n"
      ],
      "metadata": {
        "id": "QJOy1Vl6ezg0"
      }
    },
    {
      "cell_type": "markdown",
      "source": [
        "### 3.1.1: Create Model\n",
        "\n"
      ],
      "metadata": {
        "id": "h1GKabzVYNGh"
      }
    },
    {
      "cell_type": "code",
      "source": [
        "from sklearn.naive_bayes import GaussianNB\n",
        "from sklearn.metrics import accuracy_score\n",
        "\n",
        "nb_classifier = GaussianNB()"
      ],
      "metadata": {
        "id": "I6Z6lB_EgOhU"
      },
      "execution_count": null,
      "outputs": []
    },
    {
      "cell_type": "markdown",
      "source": [
        "### 3.1.2: Fit/Train nodel on X Train Data"
      ],
      "metadata": {
        "id": "-FV2JpNPgVY_"
      }
    },
    {
      "cell_type": "code",
      "source": [
        "nb_classifier.fit(X_train, y_train)"
      ],
      "metadata": {
        "id": "sERX4LqMgaXz",
        "colab": {
          "base_uri": "https://localhost:8080/",
          "height": 75
        },
        "outputId": "dc7c7f2a-e92b-48c3-8dff-af2042e32e84"
      },
      "execution_count": null,
      "outputs": [
        {
          "output_type": "execute_result",
          "data": {
            "text/plain": [
              "GaussianNB()"
            ],
            "text/html": [
              "<style>#sk-container-id-1 {color: black;background-color: white;}#sk-container-id-1 pre{padding: 0;}#sk-container-id-1 div.sk-toggleable {background-color: white;}#sk-container-id-1 label.sk-toggleable__label {cursor: pointer;display: block;width: 100%;margin-bottom: 0;padding: 0.3em;box-sizing: border-box;text-align: center;}#sk-container-id-1 label.sk-toggleable__label-arrow:before {content: \"▸\";float: left;margin-right: 0.25em;color: #696969;}#sk-container-id-1 label.sk-toggleable__label-arrow:hover:before {color: black;}#sk-container-id-1 div.sk-estimator:hover label.sk-toggleable__label-arrow:before {color: black;}#sk-container-id-1 div.sk-toggleable__content {max-height: 0;max-width: 0;overflow: hidden;text-align: left;background-color: #f0f8ff;}#sk-container-id-1 div.sk-toggleable__content pre {margin: 0.2em;color: black;border-radius: 0.25em;background-color: #f0f8ff;}#sk-container-id-1 input.sk-toggleable__control:checked~div.sk-toggleable__content {max-height: 200px;max-width: 100%;overflow: auto;}#sk-container-id-1 input.sk-toggleable__control:checked~label.sk-toggleable__label-arrow:before {content: \"▾\";}#sk-container-id-1 div.sk-estimator input.sk-toggleable__control:checked~label.sk-toggleable__label {background-color: #d4ebff;}#sk-container-id-1 div.sk-label input.sk-toggleable__control:checked~label.sk-toggleable__label {background-color: #d4ebff;}#sk-container-id-1 input.sk-hidden--visually {border: 0;clip: rect(1px 1px 1px 1px);clip: rect(1px, 1px, 1px, 1px);height: 1px;margin: -1px;overflow: hidden;padding: 0;position: absolute;width: 1px;}#sk-container-id-1 div.sk-estimator {font-family: monospace;background-color: #f0f8ff;border: 1px dotted black;border-radius: 0.25em;box-sizing: border-box;margin-bottom: 0.5em;}#sk-container-id-1 div.sk-estimator:hover {background-color: #d4ebff;}#sk-container-id-1 div.sk-parallel-item::after {content: \"\";width: 100%;border-bottom: 1px solid gray;flex-grow: 1;}#sk-container-id-1 div.sk-label:hover label.sk-toggleable__label {background-color: #d4ebff;}#sk-container-id-1 div.sk-serial::before {content: \"\";position: absolute;border-left: 1px solid gray;box-sizing: border-box;top: 0;bottom: 0;left: 50%;z-index: 0;}#sk-container-id-1 div.sk-serial {display: flex;flex-direction: column;align-items: center;background-color: white;padding-right: 0.2em;padding-left: 0.2em;position: relative;}#sk-container-id-1 div.sk-item {position: relative;z-index: 1;}#sk-container-id-1 div.sk-parallel {display: flex;align-items: stretch;justify-content: center;background-color: white;position: relative;}#sk-container-id-1 div.sk-item::before, #sk-container-id-1 div.sk-parallel-item::before {content: \"\";position: absolute;border-left: 1px solid gray;box-sizing: border-box;top: 0;bottom: 0;left: 50%;z-index: -1;}#sk-container-id-1 div.sk-parallel-item {display: flex;flex-direction: column;z-index: 1;position: relative;background-color: white;}#sk-container-id-1 div.sk-parallel-item:first-child::after {align-self: flex-end;width: 50%;}#sk-container-id-1 div.sk-parallel-item:last-child::after {align-self: flex-start;width: 50%;}#sk-container-id-1 div.sk-parallel-item:only-child::after {width: 0;}#sk-container-id-1 div.sk-dashed-wrapped {border: 1px dashed gray;margin: 0 0.4em 0.5em 0.4em;box-sizing: border-box;padding-bottom: 0.4em;background-color: white;}#sk-container-id-1 div.sk-label label {font-family: monospace;font-weight: bold;display: inline-block;line-height: 1.2em;}#sk-container-id-1 div.sk-label-container {text-align: center;}#sk-container-id-1 div.sk-container {/* jupyter's `normalize.less` sets `[hidden] { display: none; }` but bootstrap.min.css set `[hidden] { display: none !important; }` so we also need the `!important` here to be able to override the default hidden behavior on the sphinx rendered scikit-learn.org. See: https://github.com/scikit-learn/scikit-learn/issues/21755 */display: inline-block !important;position: relative;}#sk-container-id-1 div.sk-text-repr-fallback {display: none;}</style><div id=\"sk-container-id-1\" class=\"sk-top-container\"><div class=\"sk-text-repr-fallback\"><pre>GaussianNB()</pre><b>In a Jupyter environment, please rerun this cell to show the HTML representation or trust the notebook. <br />On GitHub, the HTML representation is unable to render, please try loading this page with nbviewer.org.</b></div><div class=\"sk-container\" hidden><div class=\"sk-item\"><div class=\"sk-estimator sk-toggleable\"><input class=\"sk-toggleable__control sk-hidden--visually\" id=\"sk-estimator-id-1\" type=\"checkbox\" checked><label for=\"sk-estimator-id-1\" class=\"sk-toggleable__label sk-toggleable__label-arrow\">GaussianNB</label><div class=\"sk-toggleable__content\"><pre>GaussianNB()</pre></div></div></div></div></div>"
            ]
          },
          "metadata": {},
          "execution_count": 39
        }
      ]
    },
    {
      "cell_type": "markdown",
      "source": [
        "#### 3.1.2b: Show Class Priors\n",
        "\n",
        "Naive Bayes models should return the prior probabilities of the classes with the `class_prior_` attribute. In the next cell, show your class priors for your Naive Bayes model.\n",
        "\n",
        ">- Round the priors to 3 decimals\n",
        ">- Print a statement out that looks like the following:\n",
        "\n",
        "```\n",
        "Legit Prior: 0.XXX\n",
        "Fraud Prior: 0.XXX\n",
        "```"
      ],
      "metadata": {
        "id": "wYIOCh38jw4N"
      }
    },
    {
      "cell_type": "code",
      "source": [
        "print('Legit:', round(nb_classifier.class_prior_[0],3))"
      ],
      "metadata": {
        "id": "YShJZj6Ajnlk",
        "colab": {
          "base_uri": "https://localhost:8080/"
        },
        "outputId": "ae7214a9-8c9e-4967-d77d-31c236d434c9"
      },
      "execution_count": null,
      "outputs": [
        {
          "output_type": "stream",
          "name": "stdout",
          "text": [
            "Legit: 0.998\n"
          ]
        }
      ]
    },
    {
      "cell_type": "code",
      "source": [
        "print('Fraud:', round(nb_classifier.class_prior_[1],3))"
      ],
      "metadata": {
        "colab": {
          "base_uri": "https://localhost:8080/"
        },
        "id": "_LV5NiDUWo5h",
        "outputId": "3cb5ce93-ef70-4e2d-b8ba-b70306b5ab7e"
      },
      "execution_count": null,
      "outputs": [
        {
          "output_type": "stream",
          "name": "stdout",
          "text": [
            "Fraud: 0.002\n"
          ]
        }
      ]
    },
    {
      "cell_type": "markdown",
      "source": [
        "### 3.1.3: Evaluate Model on X Test Data\n",
        "\n",
        "In this section, create a confusion matrix DataFrame based on the Naive Bayes model."
      ],
      "metadata": {
        "id": "2L3U97iggmoQ"
      }
    },
    {
      "cell_type": "code",
      "source": [
        "from sklearn.metrics import classification_report, confusion_matrix\n",
        "\n",
        "y_pred = nb_classifier.predict(X_test)"
      ],
      "metadata": {
        "id": "9oIYtY6tgqgJ"
      },
      "execution_count": null,
      "outputs": []
    },
    {
      "cell_type": "markdown",
      "source": [
        "#### 3.1.3a: Create a confusion matrix in the next code cell:"
      ],
      "metadata": {
        "id": "rf9E9k9LiOBg"
      }
    },
    {
      "cell_type": "code",
      "source": [
        "cm = confusion_matrix(y_test, y_pred)\n",
        "cm"
      ],
      "metadata": {
        "id": "c-fJfb_3h3WG",
        "colab": {
          "base_uri": "https://localhost:8080/"
        },
        "outputId": "04905b41-5b80-4780-b0d2-369646ddb977"
      },
      "execution_count": null,
      "outputs": [
        {
          "output_type": "execute_result",
          "data": {
            "text/plain": [
              "array([[55674,  1190],\n",
              "       [   15,    83]])"
            ]
          },
          "metadata": {},
          "execution_count": 56
        }
      ]
    },
    {
      "cell_type": "markdown",
      "source": [
        "#### 3.1.3b: Create a classification report in the next cell:"
      ],
      "metadata": {
        "id": "V7ufpj-8iVSE"
      }
    },
    {
      "cell_type": "code",
      "source": [
        "print(classification_report(y_test, y_pred, target_names = ['0','1']))"
      ],
      "metadata": {
        "id": "U4Mkht9AiZFe",
        "colab": {
          "base_uri": "https://localhost:8080/"
        },
        "outputId": "3c58aa10-3c76-431f-eaef-92d4040aafbc"
      },
      "execution_count": null,
      "outputs": [
        {
          "output_type": "stream",
          "name": "stdout",
          "text": [
            "              precision    recall  f1-score   support\n",
            "\n",
            "           0       1.00      0.98      0.99     56864\n",
            "           1       0.07      0.85      0.12        98\n",
            "\n",
            "    accuracy                           0.98     56962\n",
            "   macro avg       0.53      0.91      0.56     56962\n",
            "weighted avg       1.00      0.98      0.99     56962\n",
            "\n"
          ]
        }
      ]
    },
    {
      "cell_type": "markdown",
      "source": [
        "### 3.1.4: Cross Validation\n",
        "\n",
        "In this section perform a cross-validation for your Naive Bayes model.\n",
        "\n",
        ">- Use 10 folds in your cross validation"
      ],
      "metadata": {
        "id": "kURtx4cClyFG"
      }
    },
    {
      "cell_type": "code",
      "source": [],
      "metadata": {
        "id": "AUwD4ENxl5DW"
      },
      "execution_count": null,
      "outputs": []
    },
    {
      "cell_type": "code",
      "source": [],
      "metadata": {
        "id": "LM8vfvTAl_vO"
      },
      "execution_count": null,
      "outputs": []
    },
    {
      "cell_type": "markdown",
      "source": [
        "### 3.1.5: Cross Validation Summary\n",
        "\n",
        "In the next code cells, show the average and standard deviation for of your cross validation scores from 3.1.4.\n",
        "\n",
        ">- Round both average and standard deviation to 3 decimals"
      ],
      "metadata": {
        "id": "mV7L4I6-mJOj"
      }
    },
    {
      "cell_type": "code",
      "source": [],
      "metadata": {
        "id": "4XtNfkZYnVkU"
      },
      "execution_count": null,
      "outputs": []
    },
    {
      "cell_type": "code",
      "source": [],
      "metadata": {
        "id": "xpnBqNERnUY0"
      },
      "execution_count": null,
      "outputs": []
    },
    {
      "cell_type": "markdown",
      "source": [
        "# Section 4: Visualize Model Performance\n",
        "\n",
        "In this section, we visualize the Naive Bayes model performance."
      ],
      "metadata": {
        "id": "9OAcNXcylqts"
      }
    },
    {
      "cell_type": "markdown",
      "source": [
        "### 4.1.1: Creat the ROC Curve\n",
        "\n",
        "In the next code cell, create the ROC curve for the Naive Bayes Classifier"
      ],
      "metadata": {
        "id": "lFOpB110nnlj"
      }
    },
    {
      "cell_type": "code",
      "source": [],
      "metadata": {
        "id": "F9dhACpynt8f"
      },
      "execution_count": null,
      "outputs": []
    },
    {
      "cell_type": "code",
      "source": [],
      "metadata": {
        "id": "eo6RwB-wn0k4"
      },
      "execution_count": null,
      "outputs": []
    },
    {
      "cell_type": "markdown",
      "source": [
        "### 4.1.2: Create Precision-Recall Curve\n",
        "\n",
        "In the next code cell, create the precision-recall curve for the Naive Bayes model."
      ],
      "metadata": {
        "id": "b_RNCx-Aoy4m"
      }
    },
    {
      "cell_type": "code",
      "source": [],
      "metadata": {
        "id": "ID5hPlk_o7Il"
      },
      "execution_count": null,
      "outputs": []
    },
    {
      "cell_type": "markdown",
      "source": [
        "### 4.1.3: Cumulative Gains Plot\n",
        "\n",
        "In the next cells, create a cumulative gain plot for the Naive Bayes Model."
      ],
      "metadata": {
        "id": "4uYNe-y7pm8x"
      }
    },
    {
      "cell_type": "code",
      "source": [],
      "metadata": {
        "id": "Us6lX_LCp0Pa"
      },
      "execution_count": null,
      "outputs": []
    },
    {
      "cell_type": "code",
      "source": [],
      "metadata": {
        "id": "F7FI0A1Rp8Y_"
      },
      "execution_count": null,
      "outputs": []
    },
    {
      "cell_type": "markdown",
      "source": [
        "Get the predicted probabilities from the Naive Bayes Model:"
      ],
      "metadata": {
        "id": "RC3JiAdosGeT"
      }
    },
    {
      "cell_type": "code",
      "source": [],
      "metadata": {
        "id": "ZmTCN6IQqnmC"
      },
      "execution_count": null,
      "outputs": []
    },
    {
      "cell_type": "markdown",
      "source": [
        "Now plot the cumulative gains curve:"
      ],
      "metadata": {
        "id": "OOqHkDDVsUIF"
      }
    },
    {
      "cell_type": "code",
      "source": [],
      "metadata": {
        "id": "EtgrxmlnqDP7"
      },
      "execution_count": null,
      "outputs": []
    }
  ]
}