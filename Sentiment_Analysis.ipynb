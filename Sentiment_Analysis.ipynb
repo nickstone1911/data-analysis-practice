{
  "nbformat": 4,
  "nbformat_minor": 0,
  "metadata": {
    "colab": {
      "provenance": [],
      "include_colab_link": true
    },
    "kernelspec": {
      "name": "python3",
      "display_name": "Python 3"
    },
    "language_info": {
      "name": "python"
    }
  },
  "cells": [
    {
      "cell_type": "markdown",
      "metadata": {
        "id": "view-in-github",
        "colab_type": "text"
      },
      "source": [
        "<a href=\"https://colab.research.google.com/github/nickstone1911/data-analysis-practice/blob/main/Sentiment_Analysis.ipynb\" target=\"_parent\"><img src=\"https://colab.research.google.com/assets/colab-badge.svg\" alt=\"Open In Colab\"/></a>"
      ]
    },
    {
      "cell_type": "markdown",
      "source": [
        "# Lesson 21: Part 2 - Sentiment Analysis in Python\n",
        "\n",
        "## Exercise Overview:\n",
        "\n",
        "This lesson continues our discussion of text analysis by focusing on several approaches to sentiment analysis.\n",
        "\n",
        ">- Overview: Text analysis involves programmatically processing text to gain insights or provide capabilities where human language is the underlying input.\n",
        "\n",
        "In this lesson we will discuss the major components of text analysis:\n",
        "\n",
        "1. Introduction to sentiment analysis\n",
        "2. Sentiment analysis with the `nltk` package\n",
        "3. Sentiment analysis with the `textblob` package\n",
        "\n",
        "\n",
        "\n",
        "---\n",
        "\n",
        "\n",
        "\n"
      ],
      "metadata": {
        "id": "nKwtmGMudcS9"
      }
    },
    {
      "cell_type": "markdown",
      "source": [
        "# Sentiment Analysis\n",
        "\n",
        "Sentiment anlaysis is an approach to try and determine how positive or negative text is. This can be useful when examining customer reviews or surveys of a product or company.\n",
        "\n",
        "Sentiment analysis is a natural language processing (NLP) technique used to determine the sentiment or emotional tone expressed in a piece of text, such as a tweet, review, or comment. It's a common task in text analysis that can help you understand whether a text conveys a positive, negative, or neutral sentiment.\n",
        "\n",
        "In Python, we can perform sentiment analysis using various libraries and tools. One of the most popular libraries for this task is the `Natural Language Toolkit (NLTK)` and the `TextBlob` library, which provides a simple and beginner-friendly way to get started.\n",
        "\n",
        "---\n"
      ],
      "metadata": {
        "id": "BqvQV6ke5ek3"
      }
    },
    {
      "cell_type": "markdown",
      "source": [
        "# Section 1: Setting Up the Environment"
      ],
      "metadata": {
        "id": "dM1sGT_rmea8"
      }
    },
    {
      "cell_type": "markdown",
      "source": [
        "## 1.1: Imports\n",
        "\n",
        "In the next cell import the following modules:\n",
        "\n",
        ">- `os`, `numpy`, `pandas`, `matplotlib.pyplot`, `seaborn`\n",
        ">- Use the common aliases for each of these\n"
      ],
      "metadata": {
        "id": "ykjxXtQ7eduk"
      }
    },
    {
      "cell_type": "code",
      "source": [
        "import os\n",
        "import numpy as np\n",
        "import pandas as pd\n",
        "import matplotlib.pyplot as plt\n",
        "import seaborn as sns"
      ],
      "metadata": {
        "id": "dEn-M7LpnJU0"
      },
      "execution_count": null,
      "outputs": []
    },
    {
      "cell_type": "markdown",
      "source": [
        "## 1.2: Set Your Working Directory\n",
        "\n",
        "In the next cell(s), set your working directory to your desired workspace for this lesson."
      ],
      "metadata": {
        "id": "S_OmBfqorif3"
      }
    },
    {
      "cell_type": "code",
      "source": [
        "from google.colab import drive\n",
        "drive.mount('/content/drive/')\n",
        "os.chdir('/content/drive/MyDrive/BAIM4205')\n",
        "os.getcwd()"
      ],
      "metadata": {
        "id": "FOoTnjonmf0O",
        "colab": {
          "base_uri": "https://localhost:8080/",
          "height": 55
        },
        "outputId": "015efdac-c18f-457b-d792-a67e59ffc3ab"
      },
      "execution_count": null,
      "outputs": [
        {
          "output_type": "stream",
          "name": "stdout",
          "text": [
            "Mounted at /content/drive/\n"
          ]
        },
        {
          "output_type": "execute_result",
          "data": {
            "text/plain": [
              "'/content/drive/MyDrive/BAIM4205'"
            ],
            "application/vnd.google.colaboratory.intrinsic+json": {
              "type": "string"
            }
          },
          "metadata": {},
          "execution_count": 2
        }
      ]
    },
    {
      "cell_type": "code",
      "source": [],
      "metadata": {
        "id": "u1xIrxepm7DI"
      },
      "execution_count": null,
      "outputs": []
    },
    {
      "cell_type": "markdown",
      "source": [
        "## 1.3: Load Data\n",
        "\n",
        "Sample guitar review data following file. Download/move the file to your working directory.\n",
        "\n",
        ">- [GuitarReviews2out.txt](https://drive.google.com/file/d/1HnlHA-XqqTXle0SHS7V20sqwZNfwKbRl/view?usp=sharing)\n",
        "\n",
        "### Data Description\n",
        ">- In this example we are using a sample product review file, `GuitarReviews2out.txt`.\n",
        ">- Each row of this data file represents a single guitar product review\n",
        ">- Note: The columns of this file are seperated with a bar `|` so we need to pass in the correct `sep` argument to `read_csv()` to account for this seperator\n",
        "\n",
        "#### `GuitarReviews2out.txt` Notes\n",
        ">- This dataset has 3 fields\n",
        "  1. `product` represents the product being reviewed\n",
        "  2. `title` represents a summary of the review\n",
        "  3. `review` is the main text of the review\n",
        "\n",
        "  ---\n",
        "\n"
      ],
      "metadata": {
        "id": "UXarYou9rwOe"
      }
    },
    {
      "cell_type": "markdown",
      "source": [
        "Load the file into a pandas DataFrame named, `guita_reviews`:\n"
      ],
      "metadata": {
        "id": "4EIRSydeehb7"
      }
    },
    {
      "cell_type": "code",
      "source": [
        "guita_reviews = pd.read_csv('GuitarReviews2out.txt', sep='|', index_col='#')\n",
        "guita_reviews.head()"
      ],
      "metadata": {
        "id": "LYp5ShcQelNE",
        "colab": {
          "base_uri": "https://localhost:8080/",
          "height": 237
        },
        "outputId": "7300e013-c43f-4afd-bdc2-7f5b40a637d3"
      },
      "execution_count": null,
      "outputs": [
        {
          "output_type": "execute_result",
          "data": {
            "text/plain": [
              "        product                      title  \\\n",
              "#                                            \n",
              "1  BenderCaster     My new favorite guitar   \n",
              "2  BenderCaster         Good but not Great   \n",
              "3  BenderCaster          Try before buying   \n",
              "4  BenderCaster                   Love It!   \n",
              "5  BenderCaster  Great Guitar, Great Price   \n",
              "\n",
              "                                              review  \n",
              "#                                                     \n",
              "1  I’ve been playing the Wes Hall for many years,...  \n",
              "2  The Bender Caster sounds clean, the 3-position...  \n",
              "3  I tried the Caster in my local music store and...  \n",
              "4  Everything about the Bender Caster met or exce...  \n",
              "5  I’ve been playing Bender guitars for years, th...  "
            ],
            "text/html": [
              "\n",
              "  <div id=\"df-e7378c7e-a2d3-40a4-828b-dcbac7a40a6a\" class=\"colab-df-container\">\n",
              "    <div>\n",
              "<style scoped>\n",
              "    .dataframe tbody tr th:only-of-type {\n",
              "        vertical-align: middle;\n",
              "    }\n",
              "\n",
              "    .dataframe tbody tr th {\n",
              "        vertical-align: top;\n",
              "    }\n",
              "\n",
              "    .dataframe thead th {\n",
              "        text-align: right;\n",
              "    }\n",
              "</style>\n",
              "<table border=\"1\" class=\"dataframe\">\n",
              "  <thead>\n",
              "    <tr style=\"text-align: right;\">\n",
              "      <th></th>\n",
              "      <th>product</th>\n",
              "      <th>title</th>\n",
              "      <th>review</th>\n",
              "    </tr>\n",
              "    <tr>\n",
              "      <th>#</th>\n",
              "      <th></th>\n",
              "      <th></th>\n",
              "      <th></th>\n",
              "    </tr>\n",
              "  </thead>\n",
              "  <tbody>\n",
              "    <tr>\n",
              "      <th>1</th>\n",
              "      <td>BenderCaster</td>\n",
              "      <td>My new favorite guitar</td>\n",
              "      <td>I’ve been playing the Wes Hall for many years,...</td>\n",
              "    </tr>\n",
              "    <tr>\n",
              "      <th>2</th>\n",
              "      <td>BenderCaster</td>\n",
              "      <td>Good but not Great</td>\n",
              "      <td>The Bender Caster sounds clean, the 3-position...</td>\n",
              "    </tr>\n",
              "    <tr>\n",
              "      <th>3</th>\n",
              "      <td>BenderCaster</td>\n",
              "      <td>Try before buying</td>\n",
              "      <td>I tried the Caster in my local music store and...</td>\n",
              "    </tr>\n",
              "    <tr>\n",
              "      <th>4</th>\n",
              "      <td>BenderCaster</td>\n",
              "      <td>Love It!</td>\n",
              "      <td>Everything about the Bender Caster met or exce...</td>\n",
              "    </tr>\n",
              "    <tr>\n",
              "      <th>5</th>\n",
              "      <td>BenderCaster</td>\n",
              "      <td>Great Guitar, Great Price</td>\n",
              "      <td>I’ve been playing Bender guitars for years, th...</td>\n",
              "    </tr>\n",
              "  </tbody>\n",
              "</table>\n",
              "</div>\n",
              "    <div class=\"colab-df-buttons\">\n",
              "\n",
              "  <div class=\"colab-df-container\">\n",
              "    <button class=\"colab-df-convert\" onclick=\"convertToInteractive('df-e7378c7e-a2d3-40a4-828b-dcbac7a40a6a')\"\n",
              "            title=\"Convert this dataframe to an interactive table.\"\n",
              "            style=\"display:none;\">\n",
              "\n",
              "  <svg xmlns=\"http://www.w3.org/2000/svg\" height=\"24px\" viewBox=\"0 -960 960 960\">\n",
              "    <path d=\"M120-120v-720h720v720H120Zm60-500h600v-160H180v160Zm220 220h160v-160H400v160Zm0 220h160v-160H400v160ZM180-400h160v-160H180v160Zm440 0h160v-160H620v160ZM180-180h160v-160H180v160Zm440 0h160v-160H620v160Z\"/>\n",
              "  </svg>\n",
              "    </button>\n",
              "\n",
              "  <style>\n",
              "    .colab-df-container {\n",
              "      display:flex;\n",
              "      gap: 12px;\n",
              "    }\n",
              "\n",
              "    .colab-df-convert {\n",
              "      background-color: #E8F0FE;\n",
              "      border: none;\n",
              "      border-radius: 50%;\n",
              "      cursor: pointer;\n",
              "      display: none;\n",
              "      fill: #1967D2;\n",
              "      height: 32px;\n",
              "      padding: 0 0 0 0;\n",
              "      width: 32px;\n",
              "    }\n",
              "\n",
              "    .colab-df-convert:hover {\n",
              "      background-color: #E2EBFA;\n",
              "      box-shadow: 0px 1px 2px rgba(60, 64, 67, 0.3), 0px 1px 3px 1px rgba(60, 64, 67, 0.15);\n",
              "      fill: #174EA6;\n",
              "    }\n",
              "\n",
              "    .colab-df-buttons div {\n",
              "      margin-bottom: 4px;\n",
              "    }\n",
              "\n",
              "    [theme=dark] .colab-df-convert {\n",
              "      background-color: #3B4455;\n",
              "      fill: #D2E3FC;\n",
              "    }\n",
              "\n",
              "    [theme=dark] .colab-df-convert:hover {\n",
              "      background-color: #434B5C;\n",
              "      box-shadow: 0px 1px 3px 1px rgba(0, 0, 0, 0.15);\n",
              "      filter: drop-shadow(0px 1px 2px rgba(0, 0, 0, 0.3));\n",
              "      fill: #FFFFFF;\n",
              "    }\n",
              "  </style>\n",
              "\n",
              "    <script>\n",
              "      const buttonEl =\n",
              "        document.querySelector('#df-e7378c7e-a2d3-40a4-828b-dcbac7a40a6a button.colab-df-convert');\n",
              "      buttonEl.style.display =\n",
              "        google.colab.kernel.accessAllowed ? 'block' : 'none';\n",
              "\n",
              "      async function convertToInteractive(key) {\n",
              "        const element = document.querySelector('#df-e7378c7e-a2d3-40a4-828b-dcbac7a40a6a');\n",
              "        const dataTable =\n",
              "          await google.colab.kernel.invokeFunction('convertToInteractive',\n",
              "                                                    [key], {});\n",
              "        if (!dataTable) return;\n",
              "\n",
              "        const docLinkHtml = 'Like what you see? Visit the ' +\n",
              "          '<a target=\"_blank\" href=https://colab.research.google.com/notebooks/data_table.ipynb>data table notebook</a>'\n",
              "          + ' to learn more about interactive tables.';\n",
              "        element.innerHTML = '';\n",
              "        dataTable['output_type'] = 'display_data';\n",
              "        await google.colab.output.renderOutput(dataTable, element);\n",
              "        const docLink = document.createElement('div');\n",
              "        docLink.innerHTML = docLinkHtml;\n",
              "        element.appendChild(docLink);\n",
              "      }\n",
              "    </script>\n",
              "  </div>\n",
              "\n",
              "\n",
              "<div id=\"df-059ce946-2d23-43fb-bed4-3c015e2e39f6\">\n",
              "  <button class=\"colab-df-quickchart\" onclick=\"quickchart('df-059ce946-2d23-43fb-bed4-3c015e2e39f6')\"\n",
              "            title=\"Suggest charts\"\n",
              "            style=\"display:none;\">\n",
              "\n",
              "<svg xmlns=\"http://www.w3.org/2000/svg\" height=\"24px\"viewBox=\"0 0 24 24\"\n",
              "     width=\"24px\">\n",
              "    <g>\n",
              "        <path d=\"M19 3H5c-1.1 0-2 .9-2 2v14c0 1.1.9 2 2 2h14c1.1 0 2-.9 2-2V5c0-1.1-.9-2-2-2zM9 17H7v-7h2v7zm4 0h-2V7h2v10zm4 0h-2v-4h2v4z\"/>\n",
              "    </g>\n",
              "</svg>\n",
              "  </button>\n",
              "\n",
              "<style>\n",
              "  .colab-df-quickchart {\n",
              "      --bg-color: #E8F0FE;\n",
              "      --fill-color: #1967D2;\n",
              "      --hover-bg-color: #E2EBFA;\n",
              "      --hover-fill-color: #174EA6;\n",
              "      --disabled-fill-color: #AAA;\n",
              "      --disabled-bg-color: #DDD;\n",
              "  }\n",
              "\n",
              "  [theme=dark] .colab-df-quickchart {\n",
              "      --bg-color: #3B4455;\n",
              "      --fill-color: #D2E3FC;\n",
              "      --hover-bg-color: #434B5C;\n",
              "      --hover-fill-color: #FFFFFF;\n",
              "      --disabled-bg-color: #3B4455;\n",
              "      --disabled-fill-color: #666;\n",
              "  }\n",
              "\n",
              "  .colab-df-quickchart {\n",
              "    background-color: var(--bg-color);\n",
              "    border: none;\n",
              "    border-radius: 50%;\n",
              "    cursor: pointer;\n",
              "    display: none;\n",
              "    fill: var(--fill-color);\n",
              "    height: 32px;\n",
              "    padding: 0;\n",
              "    width: 32px;\n",
              "  }\n",
              "\n",
              "  .colab-df-quickchart:hover {\n",
              "    background-color: var(--hover-bg-color);\n",
              "    box-shadow: 0 1px 2px rgba(60, 64, 67, 0.3), 0 1px 3px 1px rgba(60, 64, 67, 0.15);\n",
              "    fill: var(--button-hover-fill-color);\n",
              "  }\n",
              "\n",
              "  .colab-df-quickchart-complete:disabled,\n",
              "  .colab-df-quickchart-complete:disabled:hover {\n",
              "    background-color: var(--disabled-bg-color);\n",
              "    fill: var(--disabled-fill-color);\n",
              "    box-shadow: none;\n",
              "  }\n",
              "\n",
              "  .colab-df-spinner {\n",
              "    border: 2px solid var(--fill-color);\n",
              "    border-color: transparent;\n",
              "    border-bottom-color: var(--fill-color);\n",
              "    animation:\n",
              "      spin 1s steps(1) infinite;\n",
              "  }\n",
              "\n",
              "  @keyframes spin {\n",
              "    0% {\n",
              "      border-color: transparent;\n",
              "      border-bottom-color: var(--fill-color);\n",
              "      border-left-color: var(--fill-color);\n",
              "    }\n",
              "    20% {\n",
              "      border-color: transparent;\n",
              "      border-left-color: var(--fill-color);\n",
              "      border-top-color: var(--fill-color);\n",
              "    }\n",
              "    30% {\n",
              "      border-color: transparent;\n",
              "      border-left-color: var(--fill-color);\n",
              "      border-top-color: var(--fill-color);\n",
              "      border-right-color: var(--fill-color);\n",
              "    }\n",
              "    40% {\n",
              "      border-color: transparent;\n",
              "      border-right-color: var(--fill-color);\n",
              "      border-top-color: var(--fill-color);\n",
              "    }\n",
              "    60% {\n",
              "      border-color: transparent;\n",
              "      border-right-color: var(--fill-color);\n",
              "    }\n",
              "    80% {\n",
              "      border-color: transparent;\n",
              "      border-right-color: var(--fill-color);\n",
              "      border-bottom-color: var(--fill-color);\n",
              "    }\n",
              "    90% {\n",
              "      border-color: transparent;\n",
              "      border-bottom-color: var(--fill-color);\n",
              "    }\n",
              "  }\n",
              "</style>\n",
              "\n",
              "  <script>\n",
              "    async function quickchart(key) {\n",
              "      const quickchartButtonEl =\n",
              "        document.querySelector('#' + key + ' button');\n",
              "      quickchartButtonEl.disabled = true;  // To prevent multiple clicks.\n",
              "      quickchartButtonEl.classList.add('colab-df-spinner');\n",
              "      try {\n",
              "        const charts = await google.colab.kernel.invokeFunction(\n",
              "            'suggestCharts', [key], {});\n",
              "      } catch (error) {\n",
              "        console.error('Error during call to suggestCharts:', error);\n",
              "      }\n",
              "      quickchartButtonEl.classList.remove('colab-df-spinner');\n",
              "      quickchartButtonEl.classList.add('colab-df-quickchart-complete');\n",
              "    }\n",
              "    (() => {\n",
              "      let quickchartButtonEl =\n",
              "        document.querySelector('#df-059ce946-2d23-43fb-bed4-3c015e2e39f6 button');\n",
              "      quickchartButtonEl.style.display =\n",
              "        google.colab.kernel.accessAllowed ? 'block' : 'none';\n",
              "    })();\n",
              "  </script>\n",
              "</div>\n",
              "    </div>\n",
              "  </div>\n"
            ],
            "application/vnd.google.colaboratory.intrinsic+json": {
              "type": "dataframe",
              "variable_name": "guita_reviews",
              "summary": "{\n  \"name\": \"guita_reviews\",\n  \"rows\": 10,\n  \"fields\": [\n    {\n      \"column\": \"#\",\n      \"properties\": {\n        \"dtype\": \"number\",\n        \"std\": 3,\n        \"min\": 1,\n        \"max\": 10,\n        \"num_unique_values\": 10,\n        \"samples\": [\n          9,\n          2,\n          6\n        ],\n        \"semantic_type\": \"\",\n        \"description\": \"\"\n      }\n    },\n    {\n      \"column\": \"product\",\n      \"properties\": {\n        \"dtype\": \"category\",\n        \"num_unique_values\": 2,\n        \"samples\": [\n          \"WesHall\",\n          \"BenderCaster\"\n        ],\n        \"semantic_type\": \"\",\n        \"description\": \"\"\n      }\n    },\n    {\n      \"column\": \"title\",\n      \"properties\": {\n        \"dtype\": \"string\",\n        \"num_unique_values\": 10,\n        \"samples\": [\n          \"Good Guitar but Pricey\",\n          \"Good but not Great\"\n        ],\n        \"semantic_type\": \"\",\n        \"description\": \"\"\n      }\n    },\n    {\n      \"column\": \"review\",\n      \"properties\": {\n        \"dtype\": \"string\",\n        \"num_unique_values\": 10,\n        \"samples\": [\n          \"I was excited to order the Wes but given the price I\\u2019ve been disappointed.  I chose the road-worn option, but it just looks used.  The action on the strings is too low - I need to get it set up to avoid buzz.  The neck is ok but wide for my taste.  Overall ok but disappointing.  May reconsider and go with the Bender.\",\n          \"The Bender Caster sounds clean, the 3-position switch gives a good variety of tones.  Note bending can through the tuning out though.  If you are considering the Caster, I would pick the hard tail option.  The tuning pegs have some play, this was disappointing.  Overall a good guitar but could be improved.\"\n        ],\n        \"semantic_type\": \"\",\n        \"description\": \"\"\n      }\n    }\n  ]\n}"
            }
          },
          "metadata": {},
          "execution_count": 7
        }
      ]
    },
    {
      "cell_type": "markdown",
      "source": [
        "# Section 2: Sentiment Analysis with `nltk`\n",
        "\n",
        "In this section we learn how to use the `nltk` and the `SentimentIntensityAnalyzer`. The `SentimentIntensityAnalyzer` uses the *Valance Aware Dictionary for Sentiment Reasoner* (VADER) model to determine whether a text passage is positive or negative.\n",
        "\n",
        "We will use the `guitar_file` we read in at the beginning of this notebook for this tutorial.\n",
        "\n",
        "---"
      ],
      "metadata": {
        "id": "CbG5M0q6HNnj"
      }
    },
    {
      "cell_type": "markdown",
      "source": [
        "## 2.1: Imports\n",
        "\n",
        "For this section we can import the following:\n",
        "\n",
        "```python\n",
        "import nltk\n",
        "from nltk.sentiment import SentimentIntensityAnalyzer\n",
        "\n",
        "# download required component\n",
        "nltk.download('vader_lexicon')\n",
        "```\n"
      ],
      "metadata": {
        "id": "iKbf_QxSIiaL"
      }
    },
    {
      "cell_type": "code",
      "source": [
        "import nltk\n",
        "from nltk.sentiment import SentimentIntensityAnalyzer\n",
        "\n",
        "# download required component\n",
        "nltk.download('vader_lexicon')"
      ],
      "metadata": {
        "id": "PH23BtDhIftx",
        "colab": {
          "base_uri": "https://localhost:8080/"
        },
        "outputId": "9c4930b5-5917-4dd0-adb1-2373ae7f047a"
      },
      "execution_count": null,
      "outputs": [
        {
          "output_type": "stream",
          "name": "stderr",
          "text": [
            "[nltk_data] Downloading package vader_lexicon to /root/nltk_data...\n"
          ]
        },
        {
          "output_type": "execute_result",
          "data": {
            "text/plain": [
              "True"
            ]
          },
          "metadata": {},
          "execution_count": 8
        }
      ]
    },
    {
      "cell_type": "markdown",
      "source": [
        "## 2.2: Create Vader Analyzer\n",
        "\n",
        "```python\n",
        "analyzer = SentimentIntensityAnalyzer()\n",
        "```"
      ],
      "metadata": {
        "id": "DzH-Mvt4I25B"
      }
    },
    {
      "cell_type": "code",
      "source": [
        "analyzer = SentimentIntensityAnalyzer()"
      ],
      "metadata": {
        "id": "870jkIvxJEfI"
      },
      "execution_count": null,
      "outputs": []
    },
    {
      "cell_type": "markdown",
      "source": [
        "## 2.3: Prepare Data\n",
        "\n",
        ">- First we will explore how `analyzer` works on one review\n",
        ">>- We will call the `polarity_scores()` method and pass in our text for this.\n",
        ">>- `polarity_scores()` returns a dictionary with 4 items: `'neg'`, `'neu'`, and `'pos'` are mapped to percentages that represent the percentage of text that is negative, neutral, and positive respectively. `'compound'` returns a value between -1 and 1 which indicates how positive or negative a passage is where 1 is perfectly positive and -1 is perfectly negative.\n",
        ">- Then we will apply `analyzer` to all reviews in the `guitar_reviews` DataFrame"
      ],
      "metadata": {
        "id": "GffCbstHJRbq"
      }
    },
    {
      "cell_type": "markdown",
      "source": [
        "First, grab the first review:"
      ],
      "metadata": {
        "id": "zFN4F8GBH-8I"
      }
    },
    {
      "cell_type": "code",
      "source": [
        "review1 = guita_reviews.iloc[0]['review']\n",
        "review1"
      ],
      "metadata": {
        "id": "PsepYqoHJfOA",
        "colab": {
          "base_uri": "https://localhost:8080/",
          "height": 36
        },
        "outputId": "4d1eaf9d-de42-4071-adf6-3f0f1ff52b20"
      },
      "execution_count": null,
      "outputs": [
        {
          "output_type": "execute_result",
          "data": {
            "text/plain": [
              "'I’ve been playing the Wes Hall for many years, but finally decided to buy this Bender Caster.  My Wes has terrific sustain, but the Caster gives me a funky sound I love!  The maple neck is terrific too.  Would highly recommend this guitar!'"
            ],
            "application/vnd.google.colaboratory.intrinsic+json": {
              "type": "string"
            }
          },
          "metadata": {},
          "execution_count": 19
        }
      ]
    },
    {
      "cell_type": "markdown",
      "source": [
        "Now call `polarity_scores(review1)` on analyzer"
      ],
      "metadata": {
        "id": "Z_XkIES1IBoA"
      }
    },
    {
      "cell_type": "code",
      "source": [
        "analyzer.polarity_scores(review1)"
      ],
      "metadata": {
        "id": "1gSvGupMJ1Aj",
        "colab": {
          "base_uri": "https://localhost:8080/"
        },
        "outputId": "7464d34c-3a4f-4649-f2bb-b9c2534cca81"
      },
      "execution_count": null,
      "outputs": [
        {
          "output_type": "execute_result",
          "data": {
            "text/plain": [
              "{'neg': 0.028, 'neu': 0.621, 'pos': 0.351, 'compound': 0.9646}"
            ]
          },
          "metadata": {},
          "execution_count": 20
        }
      ]
    },
    {
      "cell_type": "markdown",
      "source": [
        "Notes on the first review's sentiment:\n",
        "\n",
        ">- Most (62%) of the first review was classified as `'neu'` while very little (2.8%) was `'neg'`.\n",
        ">- The `'pos'` score of 35.1% and the `'compound'` score of 0.9646 indicates that the first review was coded as a very positive review"
      ],
      "metadata": {
        "id": "rqFdI1MgLaKv"
      }
    },
    {
      "cell_type": "markdown",
      "source": [
        "## 2.4: Apply `VADER` to All Reviews\n",
        "\n",
        ">- Step 1: We will create a function, `sentiment_score(text)` to store all the `'compound'` values for each review\n",
        ">- Step 2: Then we will use our function to pass to `apply()` to create a new column called `sentiment_score`\n"
      ],
      "metadata": {
        "id": "EolWtXgVL_18"
      }
    },
    {
      "cell_type": "code",
      "source": [
        "def sentiment_score(text):\n",
        "    compound = analyzer.polarity_scores(text)['compound']\n",
        "    return compound"
      ],
      "metadata": {
        "id": "aCtfrjkOMFjk"
      },
      "execution_count": null,
      "outputs": []
    },
    {
      "cell_type": "code",
      "source": [
        "guita_reviews['sentiment_score'] = guita_reviews['review'].apply(sentiment_score)\n",
        "guita_reviews.head(10)"
      ],
      "metadata": {
        "id": "W1M0hXmvNDfK",
        "colab": {
          "base_uri": "https://localhost:8080/",
          "height": 394
        },
        "outputId": "dbd475b7-1e1c-4f0a-d24c-23c8f7fe9999"
      },
      "execution_count": null,
      "outputs": [
        {
          "output_type": "execute_result",
          "data": {
            "text/plain": [
              "         product                      title  \\\n",
              "#                                             \n",
              "1   BenderCaster     My new favorite guitar   \n",
              "2   BenderCaster         Good but not Great   \n",
              "3   BenderCaster          Try before buying   \n",
              "4   BenderCaster                   Love It!   \n",
              "5   BenderCaster  Great Guitar, Great Price   \n",
              "6        WesHall             Amazing Guitar   \n",
              "7        WesHall                None better   \n",
              "8        WesHall               Great Choice   \n",
              "9        WesHall     Good Guitar but Pricey   \n",
              "10       WesHall                    It’s it   \n",
              "\n",
              "                                               review  sentiment_score  \n",
              "#                                                                       \n",
              "1   I’ve been playing the Wes Hall for many years,...           0.9646  \n",
              "2   The Bender Caster sounds clean, the 3-position...           0.8074  \n",
              "3   I tried the Caster in my local music store and...           0.4854  \n",
              "4   Everything about the Bender Caster met or exce...           0.9533  \n",
              "5   I’ve been playing Bender guitars for years, th...           0.9136  \n",
              "6   I’ve been playing an entry level guitar for ye...           0.9751  \n",
              "7   The Wes Hall is THE GUITAR for rock & roll.  I...           0.9184  \n",
              "8   I’ve been playing guitar occasionally but now ...           0.9738  \n",
              "9   I was excited to order the Wes but given the p...          -0.8225  \n",
              "10  Unbelievable!  It’s the classic, the original....           0.5255  "
            ],
            "text/html": [
              "\n",
              "  <div id=\"df-11e88217-73f7-4da7-b268-578382ad2ee4\" class=\"colab-df-container\">\n",
              "    <div>\n",
              "<style scoped>\n",
              "    .dataframe tbody tr th:only-of-type {\n",
              "        vertical-align: middle;\n",
              "    }\n",
              "\n",
              "    .dataframe tbody tr th {\n",
              "        vertical-align: top;\n",
              "    }\n",
              "\n",
              "    .dataframe thead th {\n",
              "        text-align: right;\n",
              "    }\n",
              "</style>\n",
              "<table border=\"1\" class=\"dataframe\">\n",
              "  <thead>\n",
              "    <tr style=\"text-align: right;\">\n",
              "      <th></th>\n",
              "      <th>product</th>\n",
              "      <th>title</th>\n",
              "      <th>review</th>\n",
              "      <th>sentiment_score</th>\n",
              "    </tr>\n",
              "    <tr>\n",
              "      <th>#</th>\n",
              "      <th></th>\n",
              "      <th></th>\n",
              "      <th></th>\n",
              "      <th></th>\n",
              "    </tr>\n",
              "  </thead>\n",
              "  <tbody>\n",
              "    <tr>\n",
              "      <th>1</th>\n",
              "      <td>BenderCaster</td>\n",
              "      <td>My new favorite guitar</td>\n",
              "      <td>I’ve been playing the Wes Hall for many years,...</td>\n",
              "      <td>0.9646</td>\n",
              "    </tr>\n",
              "    <tr>\n",
              "      <th>2</th>\n",
              "      <td>BenderCaster</td>\n",
              "      <td>Good but not Great</td>\n",
              "      <td>The Bender Caster sounds clean, the 3-position...</td>\n",
              "      <td>0.8074</td>\n",
              "    </tr>\n",
              "    <tr>\n",
              "      <th>3</th>\n",
              "      <td>BenderCaster</td>\n",
              "      <td>Try before buying</td>\n",
              "      <td>I tried the Caster in my local music store and...</td>\n",
              "      <td>0.4854</td>\n",
              "    </tr>\n",
              "    <tr>\n",
              "      <th>4</th>\n",
              "      <td>BenderCaster</td>\n",
              "      <td>Love It!</td>\n",
              "      <td>Everything about the Bender Caster met or exce...</td>\n",
              "      <td>0.9533</td>\n",
              "    </tr>\n",
              "    <tr>\n",
              "      <th>5</th>\n",
              "      <td>BenderCaster</td>\n",
              "      <td>Great Guitar, Great Price</td>\n",
              "      <td>I’ve been playing Bender guitars for years, th...</td>\n",
              "      <td>0.9136</td>\n",
              "    </tr>\n",
              "    <tr>\n",
              "      <th>6</th>\n",
              "      <td>WesHall</td>\n",
              "      <td>Amazing Guitar</td>\n",
              "      <td>I’ve been playing an entry level guitar for ye...</td>\n",
              "      <td>0.9751</td>\n",
              "    </tr>\n",
              "    <tr>\n",
              "      <th>7</th>\n",
              "      <td>WesHall</td>\n",
              "      <td>None better</td>\n",
              "      <td>The Wes Hall is THE GUITAR for rock &amp; roll.  I...</td>\n",
              "      <td>0.9184</td>\n",
              "    </tr>\n",
              "    <tr>\n",
              "      <th>8</th>\n",
              "      <td>WesHall</td>\n",
              "      <td>Great Choice</td>\n",
              "      <td>I’ve been playing guitar occasionally but now ...</td>\n",
              "      <td>0.9738</td>\n",
              "    </tr>\n",
              "    <tr>\n",
              "      <th>9</th>\n",
              "      <td>WesHall</td>\n",
              "      <td>Good Guitar but Pricey</td>\n",
              "      <td>I was excited to order the Wes but given the p...</td>\n",
              "      <td>-0.8225</td>\n",
              "    </tr>\n",
              "    <tr>\n",
              "      <th>10</th>\n",
              "      <td>WesHall</td>\n",
              "      <td>It’s it</td>\n",
              "      <td>Unbelievable!  It’s the classic, the original....</td>\n",
              "      <td>0.5255</td>\n",
              "    </tr>\n",
              "  </tbody>\n",
              "</table>\n",
              "</div>\n",
              "    <div class=\"colab-df-buttons\">\n",
              "\n",
              "  <div class=\"colab-df-container\">\n",
              "    <button class=\"colab-df-convert\" onclick=\"convertToInteractive('df-11e88217-73f7-4da7-b268-578382ad2ee4')\"\n",
              "            title=\"Convert this dataframe to an interactive table.\"\n",
              "            style=\"display:none;\">\n",
              "\n",
              "  <svg xmlns=\"http://www.w3.org/2000/svg\" height=\"24px\" viewBox=\"0 -960 960 960\">\n",
              "    <path d=\"M120-120v-720h720v720H120Zm60-500h600v-160H180v160Zm220 220h160v-160H400v160Zm0 220h160v-160H400v160ZM180-400h160v-160H180v160Zm440 0h160v-160H620v160ZM180-180h160v-160H180v160Zm440 0h160v-160H620v160Z\"/>\n",
              "  </svg>\n",
              "    </button>\n",
              "\n",
              "  <style>\n",
              "    .colab-df-container {\n",
              "      display:flex;\n",
              "      gap: 12px;\n",
              "    }\n",
              "\n",
              "    .colab-df-convert {\n",
              "      background-color: #E8F0FE;\n",
              "      border: none;\n",
              "      border-radius: 50%;\n",
              "      cursor: pointer;\n",
              "      display: none;\n",
              "      fill: #1967D2;\n",
              "      height: 32px;\n",
              "      padding: 0 0 0 0;\n",
              "      width: 32px;\n",
              "    }\n",
              "\n",
              "    .colab-df-convert:hover {\n",
              "      background-color: #E2EBFA;\n",
              "      box-shadow: 0px 1px 2px rgba(60, 64, 67, 0.3), 0px 1px 3px 1px rgba(60, 64, 67, 0.15);\n",
              "      fill: #174EA6;\n",
              "    }\n",
              "\n",
              "    .colab-df-buttons div {\n",
              "      margin-bottom: 4px;\n",
              "    }\n",
              "\n",
              "    [theme=dark] .colab-df-convert {\n",
              "      background-color: #3B4455;\n",
              "      fill: #D2E3FC;\n",
              "    }\n",
              "\n",
              "    [theme=dark] .colab-df-convert:hover {\n",
              "      background-color: #434B5C;\n",
              "      box-shadow: 0px 1px 3px 1px rgba(0, 0, 0, 0.15);\n",
              "      filter: drop-shadow(0px 1px 2px rgba(0, 0, 0, 0.3));\n",
              "      fill: #FFFFFF;\n",
              "    }\n",
              "  </style>\n",
              "\n",
              "    <script>\n",
              "      const buttonEl =\n",
              "        document.querySelector('#df-11e88217-73f7-4da7-b268-578382ad2ee4 button.colab-df-convert');\n",
              "      buttonEl.style.display =\n",
              "        google.colab.kernel.accessAllowed ? 'block' : 'none';\n",
              "\n",
              "      async function convertToInteractive(key) {\n",
              "        const element = document.querySelector('#df-11e88217-73f7-4da7-b268-578382ad2ee4');\n",
              "        const dataTable =\n",
              "          await google.colab.kernel.invokeFunction('convertToInteractive',\n",
              "                                                    [key], {});\n",
              "        if (!dataTable) return;\n",
              "\n",
              "        const docLinkHtml = 'Like what you see? Visit the ' +\n",
              "          '<a target=\"_blank\" href=https://colab.research.google.com/notebooks/data_table.ipynb>data table notebook</a>'\n",
              "          + ' to learn more about interactive tables.';\n",
              "        element.innerHTML = '';\n",
              "        dataTable['output_type'] = 'display_data';\n",
              "        await google.colab.output.renderOutput(dataTable, element);\n",
              "        const docLink = document.createElement('div');\n",
              "        docLink.innerHTML = docLinkHtml;\n",
              "        element.appendChild(docLink);\n",
              "      }\n",
              "    </script>\n",
              "  </div>\n",
              "\n",
              "\n",
              "<div id=\"df-7f580286-d508-48ef-b12f-bd9bd19adbba\">\n",
              "  <button class=\"colab-df-quickchart\" onclick=\"quickchart('df-7f580286-d508-48ef-b12f-bd9bd19adbba')\"\n",
              "            title=\"Suggest charts\"\n",
              "            style=\"display:none;\">\n",
              "\n",
              "<svg xmlns=\"http://www.w3.org/2000/svg\" height=\"24px\"viewBox=\"0 0 24 24\"\n",
              "     width=\"24px\">\n",
              "    <g>\n",
              "        <path d=\"M19 3H5c-1.1 0-2 .9-2 2v14c0 1.1.9 2 2 2h14c1.1 0 2-.9 2-2V5c0-1.1-.9-2-2-2zM9 17H7v-7h2v7zm4 0h-2V7h2v10zm4 0h-2v-4h2v4z\"/>\n",
              "    </g>\n",
              "</svg>\n",
              "  </button>\n",
              "\n",
              "<style>\n",
              "  .colab-df-quickchart {\n",
              "      --bg-color: #E8F0FE;\n",
              "      --fill-color: #1967D2;\n",
              "      --hover-bg-color: #E2EBFA;\n",
              "      --hover-fill-color: #174EA6;\n",
              "      --disabled-fill-color: #AAA;\n",
              "      --disabled-bg-color: #DDD;\n",
              "  }\n",
              "\n",
              "  [theme=dark] .colab-df-quickchart {\n",
              "      --bg-color: #3B4455;\n",
              "      --fill-color: #D2E3FC;\n",
              "      --hover-bg-color: #434B5C;\n",
              "      --hover-fill-color: #FFFFFF;\n",
              "      --disabled-bg-color: #3B4455;\n",
              "      --disabled-fill-color: #666;\n",
              "  }\n",
              "\n",
              "  .colab-df-quickchart {\n",
              "    background-color: var(--bg-color);\n",
              "    border: none;\n",
              "    border-radius: 50%;\n",
              "    cursor: pointer;\n",
              "    display: none;\n",
              "    fill: var(--fill-color);\n",
              "    height: 32px;\n",
              "    padding: 0;\n",
              "    width: 32px;\n",
              "  }\n",
              "\n",
              "  .colab-df-quickchart:hover {\n",
              "    background-color: var(--hover-bg-color);\n",
              "    box-shadow: 0 1px 2px rgba(60, 64, 67, 0.3), 0 1px 3px 1px rgba(60, 64, 67, 0.15);\n",
              "    fill: var(--button-hover-fill-color);\n",
              "  }\n",
              "\n",
              "  .colab-df-quickchart-complete:disabled,\n",
              "  .colab-df-quickchart-complete:disabled:hover {\n",
              "    background-color: var(--disabled-bg-color);\n",
              "    fill: var(--disabled-fill-color);\n",
              "    box-shadow: none;\n",
              "  }\n",
              "\n",
              "  .colab-df-spinner {\n",
              "    border: 2px solid var(--fill-color);\n",
              "    border-color: transparent;\n",
              "    border-bottom-color: var(--fill-color);\n",
              "    animation:\n",
              "      spin 1s steps(1) infinite;\n",
              "  }\n",
              "\n",
              "  @keyframes spin {\n",
              "    0% {\n",
              "      border-color: transparent;\n",
              "      border-bottom-color: var(--fill-color);\n",
              "      border-left-color: var(--fill-color);\n",
              "    }\n",
              "    20% {\n",
              "      border-color: transparent;\n",
              "      border-left-color: var(--fill-color);\n",
              "      border-top-color: var(--fill-color);\n",
              "    }\n",
              "    30% {\n",
              "      border-color: transparent;\n",
              "      border-left-color: var(--fill-color);\n",
              "      border-top-color: var(--fill-color);\n",
              "      border-right-color: var(--fill-color);\n",
              "    }\n",
              "    40% {\n",
              "      border-color: transparent;\n",
              "      border-right-color: var(--fill-color);\n",
              "      border-top-color: var(--fill-color);\n",
              "    }\n",
              "    60% {\n",
              "      border-color: transparent;\n",
              "      border-right-color: var(--fill-color);\n",
              "    }\n",
              "    80% {\n",
              "      border-color: transparent;\n",
              "      border-right-color: var(--fill-color);\n",
              "      border-bottom-color: var(--fill-color);\n",
              "    }\n",
              "    90% {\n",
              "      border-color: transparent;\n",
              "      border-bottom-color: var(--fill-color);\n",
              "    }\n",
              "  }\n",
              "</style>\n",
              "\n",
              "  <script>\n",
              "    async function quickchart(key) {\n",
              "      const quickchartButtonEl =\n",
              "        document.querySelector('#' + key + ' button');\n",
              "      quickchartButtonEl.disabled = true;  // To prevent multiple clicks.\n",
              "      quickchartButtonEl.classList.add('colab-df-spinner');\n",
              "      try {\n",
              "        const charts = await google.colab.kernel.invokeFunction(\n",
              "            'suggestCharts', [key], {});\n",
              "      } catch (error) {\n",
              "        console.error('Error during call to suggestCharts:', error);\n",
              "      }\n",
              "      quickchartButtonEl.classList.remove('colab-df-spinner');\n",
              "      quickchartButtonEl.classList.add('colab-df-quickchart-complete');\n",
              "    }\n",
              "    (() => {\n",
              "      let quickchartButtonEl =\n",
              "        document.querySelector('#df-7f580286-d508-48ef-b12f-bd9bd19adbba button');\n",
              "      quickchartButtonEl.style.display =\n",
              "        google.colab.kernel.accessAllowed ? 'block' : 'none';\n",
              "    })();\n",
              "  </script>\n",
              "</div>\n",
              "    </div>\n",
              "  </div>\n"
            ],
            "application/vnd.google.colaboratory.intrinsic+json": {
              "type": "dataframe",
              "variable_name": "guita_reviews",
              "summary": "{\n  \"name\": \"guita_reviews\",\n  \"rows\": 10,\n  \"fields\": [\n    {\n      \"column\": \"#\",\n      \"properties\": {\n        \"dtype\": \"number\",\n        \"std\": 3,\n        \"min\": 1,\n        \"max\": 10,\n        \"num_unique_values\": 10,\n        \"samples\": [\n          9,\n          2,\n          6\n        ],\n        \"semantic_type\": \"\",\n        \"description\": \"\"\n      }\n    },\n    {\n      \"column\": \"product\",\n      \"properties\": {\n        \"dtype\": \"category\",\n        \"num_unique_values\": 2,\n        \"samples\": [\n          \"WesHall\",\n          \"BenderCaster\"\n        ],\n        \"semantic_type\": \"\",\n        \"description\": \"\"\n      }\n    },\n    {\n      \"column\": \"title\",\n      \"properties\": {\n        \"dtype\": \"string\",\n        \"num_unique_values\": 10,\n        \"samples\": [\n          \"Good Guitar but Pricey\",\n          \"Good but not Great\"\n        ],\n        \"semantic_type\": \"\",\n        \"description\": \"\"\n      }\n    },\n    {\n      \"column\": \"review\",\n      \"properties\": {\n        \"dtype\": \"string\",\n        \"num_unique_values\": 10,\n        \"samples\": [\n          \"I was excited to order the Wes but given the price I\\u2019ve been disappointed.  I chose the road-worn option, but it just looks used.  The action on the strings is too low - I need to get it set up to avoid buzz.  The neck is ok but wide for my taste.  Overall ok but disappointing.  May reconsider and go with the Bender.\",\n          \"The Bender Caster sounds clean, the 3-position switch gives a good variety of tones.  Note bending can through the tuning out though.  If you are considering the Caster, I would pick the hard tail option.  The tuning pegs have some play, this was disappointing.  Overall a good guitar but could be improved.\"\n        ],\n        \"semantic_type\": \"\",\n        \"description\": \"\"\n      }\n    },\n    {\n      \"column\": \"sentiment_score\",\n      \"properties\": {\n        \"dtype\": \"number\",\n        \"std\": 0.5552638535967482,\n        \"min\": -0.8225,\n        \"max\": 0.9751,\n        \"num_unique_values\": 10,\n        \"samples\": [\n          -0.8225,\n          0.8074\n        ],\n        \"semantic_type\": \"\",\n        \"description\": \"\"\n      }\n    }\n  ]\n}"
            }
          },
          "metadata": {},
          "execution_count": 28
        }
      ]
    },
    {
      "cell_type": "markdown",
      "source": [
        "# Section 3 Using `textblob` for Sentiment Analysis\n",
        "\n",
        "`TextBlob` is a general-purpose NLP library that offers a wide range of text processing capabilities beyond sentiment analysis. If you need to perform other NLP tasks like part-of-speech tagging, noun phrase extraction, or translation, TextBlob might be a more versatile choice.\n",
        "\n",
        "`TextBlob` is known for its simplicity and beginner-friendliness. It requires minimal setup and provides a simple API for text analysis tasks, including sentiment analysis.\n",
        "\n",
        "While `TextBlob` provides a basic sentiment analysis feature, it's also highly customizable. You can train your own sentiment classifier if you have labeled data, allowing you to tailor the sentiment analysis to your specific domain or requirements.\n",
        "\n",
        "---\n"
      ],
      "metadata": {
        "id": "h1pOeyM7QeZI"
      }
    },
    {
      "cell_type": "markdown",
      "source": [
        "\n",
        "### Basic steps when using `TextBlob` for sentiment Analysis\n",
        "\n",
        "1. Make sure `TextBlob` is installed: `!pip install textblob`\n",
        "2. Import `TextBlob`\n",
        "3. Prepare Data\n",
        "4. Create a `TextBlob` object\n",
        "5. Return sentiment with `polarity` and `subjectivity`\n",
        "  >- `blob.sentiment.polarity` returns a number between -1 and 1 where...\n",
        "  >>- values close to 1 indicate positive sentiment\n",
        "  >>- values close to -1 indicate negative sentiment\n",
        "  >>- values close to 0 indicate neutral sentiment.\n",
        "  \n",
        "  >- `blob.sentiment.subjectivity` indicates how subjective or objective the text is.\n",
        "  >>- Values close to 1 indicate the text is very subjective or emotional.\n",
        ">>- Values close to 0 indicate the text is very objective and factual.\n",
        "\n",
        "\n",
        "---\n",
        "\n",
        "Let's practice using `TextBlob` with our `guitar_reviews` data."
      ],
      "metadata": {
        "id": "BveW2ZPfS6B3"
      }
    },
    {
      "cell_type": "markdown",
      "source": [
        "## 3.1: Install textblob\n",
        "\n",
        "```python\n",
        "!pip install textblob\n",
        "```"
      ],
      "metadata": {
        "id": "njN2vdCNJwqU"
      }
    },
    {
      "cell_type": "code",
      "source": [
        "!pip install TextBlob"
      ],
      "metadata": {
        "id": "8mDMzgd-OyM7",
        "colab": {
          "base_uri": "https://localhost:8080/"
        },
        "outputId": "19214079-4e7c-4998-d38d-cd64e307135e"
      },
      "execution_count": null,
      "outputs": [
        {
          "output_type": "stream",
          "name": "stdout",
          "text": [
            "Requirement already satisfied: TextBlob in /usr/local/lib/python3.10/dist-packages (0.17.1)\n",
            "Requirement already satisfied: nltk>=3.1 in /usr/local/lib/python3.10/dist-packages (from TextBlob) (3.8.1)\n",
            "Requirement already satisfied: click in /usr/local/lib/python3.10/dist-packages (from nltk>=3.1->TextBlob) (8.1.7)\n",
            "Requirement already satisfied: joblib in /usr/local/lib/python3.10/dist-packages (from nltk>=3.1->TextBlob) (1.4.0)\n",
            "Requirement already satisfied: regex>=2021.8.3 in /usr/local/lib/python3.10/dist-packages (from nltk>=3.1->TextBlob) (2023.12.25)\n",
            "Requirement already satisfied: tqdm in /usr/local/lib/python3.10/dist-packages (from nltk>=3.1->TextBlob) (4.66.2)\n"
          ]
        }
      ]
    },
    {
      "cell_type": "markdown",
      "source": [
        "## 3.2: Import textblob"
      ],
      "metadata": {
        "id": "zZ6Ez9LFJ6NN"
      }
    },
    {
      "cell_type": "code",
      "source": [
        "import textblob"
      ],
      "metadata": {
        "id": "7mI1SKU8O1zD"
      },
      "execution_count": null,
      "outputs": []
    },
    {
      "cell_type": "markdown",
      "source": [
        "## 3.3: Create a TextBlob() object\n",
        "\n",
        ">- Create a text blob object based on the `review1` defined earlier.\n"
      ],
      "metadata": {
        "id": "NjeT9tVSKAwh"
      }
    },
    {
      "cell_type": "code",
      "source": [
        "blob = textblob.TextBlob(review1)"
      ],
      "metadata": {
        "id": "nB6tBkxSO75m"
      },
      "execution_count": null,
      "outputs": []
    },
    {
      "cell_type": "markdown",
      "source": [
        "Now we can call `sentiment.poloarity` and `sentiment.subjectivity` on the `blob` object."
      ],
      "metadata": {
        "id": "9PtNEkoSMj09"
      }
    },
    {
      "cell_type": "code",
      "source": [
        "print(round(blob.sentiment.polarity,2))\n",
        "print(round(blob.sentiment.subjectivity,2))"
      ],
      "metadata": {
        "id": "dMW-BXgpO_wo",
        "colab": {
          "base_uri": "https://localhost:8080/"
        },
        "outputId": "8810ac25-30bb-4532-ea6d-cb9140ae71ea"
      },
      "execution_count": null,
      "outputs": [
        {
          "output_type": "stream",
          "name": "stdout",
          "text": [
            "0.25\n",
            "0.72\n"
          ]
        }
      ]
    },
    {
      "cell_type": "markdown",
      "source": [
        "## 3.4: Return sentiment and polarity\n",
        "\n",
        "In this section we create functions to return polarity and subjectivity"
      ],
      "metadata": {
        "id": "HZyU2SqXKcMw"
      }
    },
    {
      "cell_type": "code",
      "source": [
        "def polarity(text):\n",
        "    blob = textblob.TextBlob(text)\n",
        "    polarity = round(blob.sentiment.polarity,2)\n",
        "    return polarity\n",
        "def subjectivity(text):\n",
        "    blob = textblob.TextBlob(text)\n",
        "    subjectivity = round(blob.sentiment.subjectivity,2)\n",
        "    return subjectivity"
      ],
      "metadata": {
        "id": "WCZrw4y-RYlv"
      },
      "execution_count": null,
      "outputs": []
    },
    {
      "cell_type": "markdown",
      "source": [
        "Show the sentiment and subjectivty of `review1`.\n",
        ">- Round to two decimal places\n",
        ">- Enter data in `0.XX` format"
      ],
      "metadata": {
        "id": "mU7likXE1myf"
      }
    },
    {
      "cell_type": "code",
      "source": [
        "print(polarity(review1), subjectivity(review1))"
      ],
      "metadata": {
        "id": "k5fK3k4kLHlL",
        "colab": {
          "base_uri": "https://localhost:8080/"
        },
        "outputId": "b2112300-8e0e-4e82-ceed-04d9f9e11a50"
      },
      "execution_count": null,
      "outputs": [
        {
          "output_type": "stream",
          "name": "stdout",
          "text": [
            "0.25 0.72\n"
          ]
        }
      ]
    },
    {
      "cell_type": "markdown",
      "source": [
        "## 3.5: Create `blob_sentiment` and `blob_subjectivity` columns\n",
        "\n",
        "In the next cell, add columns: `blob_sentiment` and `blob_subjectivity` to the `guitar_reviews` DataFrame that stores the blob sentiment and subjectivity for each review."
      ],
      "metadata": {
        "id": "s9tmUh9tLfbY"
      }
    },
    {
      "cell_type": "code",
      "source": [
        "guita_reviews['blob_sentiment'] = guita_reviews['review'].map(polarity)\n",
        "guita_reviews['blob_subjectivity'] = guita_reviews['review'].map(subjectivity)\n",
        "guita_reviews.head(10)"
      ],
      "metadata": {
        "id": "C8lIPRp2RIKi",
        "colab": {
          "base_uri": "https://localhost:8080/",
          "height": 394
        },
        "outputId": "4224522c-6e3b-4a6b-c446-9a72f376e571"
      },
      "execution_count": null,
      "outputs": [
        {
          "output_type": "execute_result",
          "data": {
            "text/plain": [
              "         product                      title  \\\n",
              "#                                             \n",
              "1   BenderCaster     My new favorite guitar   \n",
              "2   BenderCaster         Good but not Great   \n",
              "3   BenderCaster          Try before buying   \n",
              "4   BenderCaster                   Love It!   \n",
              "5   BenderCaster  Great Guitar, Great Price   \n",
              "6        WesHall             Amazing Guitar   \n",
              "7        WesHall                None better   \n",
              "8        WesHall               Great Choice   \n",
              "9        WesHall     Good Guitar but Pricey   \n",
              "10       WesHall                    It’s it   \n",
              "\n",
              "                                               review  sentiment_score  \\\n",
              "#                                                                        \n",
              "1   I’ve been playing the Wes Hall for many years,...           0.9646   \n",
              "2   The Bender Caster sounds clean, the 3-position...           0.8074   \n",
              "3   I tried the Caster in my local music store and...           0.4854   \n",
              "4   Everything about the Bender Caster met or exce...           0.9533   \n",
              "5   I’ve been playing Bender guitars for years, th...           0.9136   \n",
              "6   I’ve been playing an entry level guitar for ye...           0.9751   \n",
              "7   The Wes Hall is THE GUITAR for rock & roll.  I...           0.9184   \n",
              "8   I’ve been playing guitar occasionally but now ...           0.9738   \n",
              "9   I was excited to order the Wes but given the p...          -0.8225   \n",
              "10  Unbelievable!  It’s the classic, the original....           0.5255   \n",
              "\n",
              "    blob_sentiment  blob_subjectivity  \n",
              "#                                      \n",
              "1             0.25               0.72  \n",
              "2             0.15               0.52  \n",
              "3             0.45               0.44  \n",
              "4             0.55               0.67  \n",
              "5             0.42               0.44  \n",
              "6             0.03               0.85  \n",
              "7             0.31               0.52  \n",
              "8             0.36               0.65  \n",
              "9             0.00               0.44  \n",
              "10            0.18               0.60  "
            ],
            "text/html": [
              "\n",
              "  <div id=\"df-5915c609-6d22-4b8a-a4a5-dee52228581c\" class=\"colab-df-container\">\n",
              "    <div>\n",
              "<style scoped>\n",
              "    .dataframe tbody tr th:only-of-type {\n",
              "        vertical-align: middle;\n",
              "    }\n",
              "\n",
              "    .dataframe tbody tr th {\n",
              "        vertical-align: top;\n",
              "    }\n",
              "\n",
              "    .dataframe thead th {\n",
              "        text-align: right;\n",
              "    }\n",
              "</style>\n",
              "<table border=\"1\" class=\"dataframe\">\n",
              "  <thead>\n",
              "    <tr style=\"text-align: right;\">\n",
              "      <th></th>\n",
              "      <th>product</th>\n",
              "      <th>title</th>\n",
              "      <th>review</th>\n",
              "      <th>sentiment_score</th>\n",
              "      <th>blob_sentiment</th>\n",
              "      <th>blob_subjectivity</th>\n",
              "    </tr>\n",
              "    <tr>\n",
              "      <th>#</th>\n",
              "      <th></th>\n",
              "      <th></th>\n",
              "      <th></th>\n",
              "      <th></th>\n",
              "      <th></th>\n",
              "      <th></th>\n",
              "    </tr>\n",
              "  </thead>\n",
              "  <tbody>\n",
              "    <tr>\n",
              "      <th>1</th>\n",
              "      <td>BenderCaster</td>\n",
              "      <td>My new favorite guitar</td>\n",
              "      <td>I’ve been playing the Wes Hall for many years,...</td>\n",
              "      <td>0.9646</td>\n",
              "      <td>0.25</td>\n",
              "      <td>0.72</td>\n",
              "    </tr>\n",
              "    <tr>\n",
              "      <th>2</th>\n",
              "      <td>BenderCaster</td>\n",
              "      <td>Good but not Great</td>\n",
              "      <td>The Bender Caster sounds clean, the 3-position...</td>\n",
              "      <td>0.8074</td>\n",
              "      <td>0.15</td>\n",
              "      <td>0.52</td>\n",
              "    </tr>\n",
              "    <tr>\n",
              "      <th>3</th>\n",
              "      <td>BenderCaster</td>\n",
              "      <td>Try before buying</td>\n",
              "      <td>I tried the Caster in my local music store and...</td>\n",
              "      <td>0.4854</td>\n",
              "      <td>0.45</td>\n",
              "      <td>0.44</td>\n",
              "    </tr>\n",
              "    <tr>\n",
              "      <th>4</th>\n",
              "      <td>BenderCaster</td>\n",
              "      <td>Love It!</td>\n",
              "      <td>Everything about the Bender Caster met or exce...</td>\n",
              "      <td>0.9533</td>\n",
              "      <td>0.55</td>\n",
              "      <td>0.67</td>\n",
              "    </tr>\n",
              "    <tr>\n",
              "      <th>5</th>\n",
              "      <td>BenderCaster</td>\n",
              "      <td>Great Guitar, Great Price</td>\n",
              "      <td>I’ve been playing Bender guitars for years, th...</td>\n",
              "      <td>0.9136</td>\n",
              "      <td>0.42</td>\n",
              "      <td>0.44</td>\n",
              "    </tr>\n",
              "    <tr>\n",
              "      <th>6</th>\n",
              "      <td>WesHall</td>\n",
              "      <td>Amazing Guitar</td>\n",
              "      <td>I’ve been playing an entry level guitar for ye...</td>\n",
              "      <td>0.9751</td>\n",
              "      <td>0.03</td>\n",
              "      <td>0.85</td>\n",
              "    </tr>\n",
              "    <tr>\n",
              "      <th>7</th>\n",
              "      <td>WesHall</td>\n",
              "      <td>None better</td>\n",
              "      <td>The Wes Hall is THE GUITAR for rock &amp; roll.  I...</td>\n",
              "      <td>0.9184</td>\n",
              "      <td>0.31</td>\n",
              "      <td>0.52</td>\n",
              "    </tr>\n",
              "    <tr>\n",
              "      <th>8</th>\n",
              "      <td>WesHall</td>\n",
              "      <td>Great Choice</td>\n",
              "      <td>I’ve been playing guitar occasionally but now ...</td>\n",
              "      <td>0.9738</td>\n",
              "      <td>0.36</td>\n",
              "      <td>0.65</td>\n",
              "    </tr>\n",
              "    <tr>\n",
              "      <th>9</th>\n",
              "      <td>WesHall</td>\n",
              "      <td>Good Guitar but Pricey</td>\n",
              "      <td>I was excited to order the Wes but given the p...</td>\n",
              "      <td>-0.8225</td>\n",
              "      <td>0.00</td>\n",
              "      <td>0.44</td>\n",
              "    </tr>\n",
              "    <tr>\n",
              "      <th>10</th>\n",
              "      <td>WesHall</td>\n",
              "      <td>It’s it</td>\n",
              "      <td>Unbelievable!  It’s the classic, the original....</td>\n",
              "      <td>0.5255</td>\n",
              "      <td>0.18</td>\n",
              "      <td>0.60</td>\n",
              "    </tr>\n",
              "  </tbody>\n",
              "</table>\n",
              "</div>\n",
              "    <div class=\"colab-df-buttons\">\n",
              "\n",
              "  <div class=\"colab-df-container\">\n",
              "    <button class=\"colab-df-convert\" onclick=\"convertToInteractive('df-5915c609-6d22-4b8a-a4a5-dee52228581c')\"\n",
              "            title=\"Convert this dataframe to an interactive table.\"\n",
              "            style=\"display:none;\">\n",
              "\n",
              "  <svg xmlns=\"http://www.w3.org/2000/svg\" height=\"24px\" viewBox=\"0 -960 960 960\">\n",
              "    <path d=\"M120-120v-720h720v720H120Zm60-500h600v-160H180v160Zm220 220h160v-160H400v160Zm0 220h160v-160H400v160ZM180-400h160v-160H180v160Zm440 0h160v-160H620v160ZM180-180h160v-160H180v160Zm440 0h160v-160H620v160Z\"/>\n",
              "  </svg>\n",
              "    </button>\n",
              "\n",
              "  <style>\n",
              "    .colab-df-container {\n",
              "      display:flex;\n",
              "      gap: 12px;\n",
              "    }\n",
              "\n",
              "    .colab-df-convert {\n",
              "      background-color: #E8F0FE;\n",
              "      border: none;\n",
              "      border-radius: 50%;\n",
              "      cursor: pointer;\n",
              "      display: none;\n",
              "      fill: #1967D2;\n",
              "      height: 32px;\n",
              "      padding: 0 0 0 0;\n",
              "      width: 32px;\n",
              "    }\n",
              "\n",
              "    .colab-df-convert:hover {\n",
              "      background-color: #E2EBFA;\n",
              "      box-shadow: 0px 1px 2px rgba(60, 64, 67, 0.3), 0px 1px 3px 1px rgba(60, 64, 67, 0.15);\n",
              "      fill: #174EA6;\n",
              "    }\n",
              "\n",
              "    .colab-df-buttons div {\n",
              "      margin-bottom: 4px;\n",
              "    }\n",
              "\n",
              "    [theme=dark] .colab-df-convert {\n",
              "      background-color: #3B4455;\n",
              "      fill: #D2E3FC;\n",
              "    }\n",
              "\n",
              "    [theme=dark] .colab-df-convert:hover {\n",
              "      background-color: #434B5C;\n",
              "      box-shadow: 0px 1px 3px 1px rgba(0, 0, 0, 0.15);\n",
              "      filter: drop-shadow(0px 1px 2px rgba(0, 0, 0, 0.3));\n",
              "      fill: #FFFFFF;\n",
              "    }\n",
              "  </style>\n",
              "\n",
              "    <script>\n",
              "      const buttonEl =\n",
              "        document.querySelector('#df-5915c609-6d22-4b8a-a4a5-dee52228581c button.colab-df-convert');\n",
              "      buttonEl.style.display =\n",
              "        google.colab.kernel.accessAllowed ? 'block' : 'none';\n",
              "\n",
              "      async function convertToInteractive(key) {\n",
              "        const element = document.querySelector('#df-5915c609-6d22-4b8a-a4a5-dee52228581c');\n",
              "        const dataTable =\n",
              "          await google.colab.kernel.invokeFunction('convertToInteractive',\n",
              "                                                    [key], {});\n",
              "        if (!dataTable) return;\n",
              "\n",
              "        const docLinkHtml = 'Like what you see? Visit the ' +\n",
              "          '<a target=\"_blank\" href=https://colab.research.google.com/notebooks/data_table.ipynb>data table notebook</a>'\n",
              "          + ' to learn more about interactive tables.';\n",
              "        element.innerHTML = '';\n",
              "        dataTable['output_type'] = 'display_data';\n",
              "        await google.colab.output.renderOutput(dataTable, element);\n",
              "        const docLink = document.createElement('div');\n",
              "        docLink.innerHTML = docLinkHtml;\n",
              "        element.appendChild(docLink);\n",
              "      }\n",
              "    </script>\n",
              "  </div>\n",
              "\n",
              "\n",
              "<div id=\"df-a7553767-a3e6-4c03-9599-88dd384600bc\">\n",
              "  <button class=\"colab-df-quickchart\" onclick=\"quickchart('df-a7553767-a3e6-4c03-9599-88dd384600bc')\"\n",
              "            title=\"Suggest charts\"\n",
              "            style=\"display:none;\">\n",
              "\n",
              "<svg xmlns=\"http://www.w3.org/2000/svg\" height=\"24px\"viewBox=\"0 0 24 24\"\n",
              "     width=\"24px\">\n",
              "    <g>\n",
              "        <path d=\"M19 3H5c-1.1 0-2 .9-2 2v14c0 1.1.9 2 2 2h14c1.1 0 2-.9 2-2V5c0-1.1-.9-2-2-2zM9 17H7v-7h2v7zm4 0h-2V7h2v10zm4 0h-2v-4h2v4z\"/>\n",
              "    </g>\n",
              "</svg>\n",
              "  </button>\n",
              "\n",
              "<style>\n",
              "  .colab-df-quickchart {\n",
              "      --bg-color: #E8F0FE;\n",
              "      --fill-color: #1967D2;\n",
              "      --hover-bg-color: #E2EBFA;\n",
              "      --hover-fill-color: #174EA6;\n",
              "      --disabled-fill-color: #AAA;\n",
              "      --disabled-bg-color: #DDD;\n",
              "  }\n",
              "\n",
              "  [theme=dark] .colab-df-quickchart {\n",
              "      --bg-color: #3B4455;\n",
              "      --fill-color: #D2E3FC;\n",
              "      --hover-bg-color: #434B5C;\n",
              "      --hover-fill-color: #FFFFFF;\n",
              "      --disabled-bg-color: #3B4455;\n",
              "      --disabled-fill-color: #666;\n",
              "  }\n",
              "\n",
              "  .colab-df-quickchart {\n",
              "    background-color: var(--bg-color);\n",
              "    border: none;\n",
              "    border-radius: 50%;\n",
              "    cursor: pointer;\n",
              "    display: none;\n",
              "    fill: var(--fill-color);\n",
              "    height: 32px;\n",
              "    padding: 0;\n",
              "    width: 32px;\n",
              "  }\n",
              "\n",
              "  .colab-df-quickchart:hover {\n",
              "    background-color: var(--hover-bg-color);\n",
              "    box-shadow: 0 1px 2px rgba(60, 64, 67, 0.3), 0 1px 3px 1px rgba(60, 64, 67, 0.15);\n",
              "    fill: var(--button-hover-fill-color);\n",
              "  }\n",
              "\n",
              "  .colab-df-quickchart-complete:disabled,\n",
              "  .colab-df-quickchart-complete:disabled:hover {\n",
              "    background-color: var(--disabled-bg-color);\n",
              "    fill: var(--disabled-fill-color);\n",
              "    box-shadow: none;\n",
              "  }\n",
              "\n",
              "  .colab-df-spinner {\n",
              "    border: 2px solid var(--fill-color);\n",
              "    border-color: transparent;\n",
              "    border-bottom-color: var(--fill-color);\n",
              "    animation:\n",
              "      spin 1s steps(1) infinite;\n",
              "  }\n",
              "\n",
              "  @keyframes spin {\n",
              "    0% {\n",
              "      border-color: transparent;\n",
              "      border-bottom-color: var(--fill-color);\n",
              "      border-left-color: var(--fill-color);\n",
              "    }\n",
              "    20% {\n",
              "      border-color: transparent;\n",
              "      border-left-color: var(--fill-color);\n",
              "      border-top-color: var(--fill-color);\n",
              "    }\n",
              "    30% {\n",
              "      border-color: transparent;\n",
              "      border-left-color: var(--fill-color);\n",
              "      border-top-color: var(--fill-color);\n",
              "      border-right-color: var(--fill-color);\n",
              "    }\n",
              "    40% {\n",
              "      border-color: transparent;\n",
              "      border-right-color: var(--fill-color);\n",
              "      border-top-color: var(--fill-color);\n",
              "    }\n",
              "    60% {\n",
              "      border-color: transparent;\n",
              "      border-right-color: var(--fill-color);\n",
              "    }\n",
              "    80% {\n",
              "      border-color: transparent;\n",
              "      border-right-color: var(--fill-color);\n",
              "      border-bottom-color: var(--fill-color);\n",
              "    }\n",
              "    90% {\n",
              "      border-color: transparent;\n",
              "      border-bottom-color: var(--fill-color);\n",
              "    }\n",
              "  }\n",
              "</style>\n",
              "\n",
              "  <script>\n",
              "    async function quickchart(key) {\n",
              "      const quickchartButtonEl =\n",
              "        document.querySelector('#' + key + ' button');\n",
              "      quickchartButtonEl.disabled = true;  // To prevent multiple clicks.\n",
              "      quickchartButtonEl.classList.add('colab-df-spinner');\n",
              "      try {\n",
              "        const charts = await google.colab.kernel.invokeFunction(\n",
              "            'suggestCharts', [key], {});\n",
              "      } catch (error) {\n",
              "        console.error('Error during call to suggestCharts:', error);\n",
              "      }\n",
              "      quickchartButtonEl.classList.remove('colab-df-spinner');\n",
              "      quickchartButtonEl.classList.add('colab-df-quickchart-complete');\n",
              "    }\n",
              "    (() => {\n",
              "      let quickchartButtonEl =\n",
              "        document.querySelector('#df-a7553767-a3e6-4c03-9599-88dd384600bc button');\n",
              "      quickchartButtonEl.style.display =\n",
              "        google.colab.kernel.accessAllowed ? 'block' : 'none';\n",
              "    })();\n",
              "  </script>\n",
              "</div>\n",
              "    </div>\n",
              "  </div>\n"
            ],
            "application/vnd.google.colaboratory.intrinsic+json": {
              "type": "dataframe",
              "variable_name": "guita_reviews",
              "summary": "{\n  \"name\": \"guita_reviews\",\n  \"rows\": 10,\n  \"fields\": [\n    {\n      \"column\": \"#\",\n      \"properties\": {\n        \"dtype\": \"number\",\n        \"std\": 3,\n        \"min\": 1,\n        \"max\": 10,\n        \"num_unique_values\": 10,\n        \"samples\": [\n          9,\n          2,\n          6\n        ],\n        \"semantic_type\": \"\",\n        \"description\": \"\"\n      }\n    },\n    {\n      \"column\": \"product\",\n      \"properties\": {\n        \"dtype\": \"category\",\n        \"num_unique_values\": 2,\n        \"samples\": [\n          \"WesHall\",\n          \"BenderCaster\"\n        ],\n        \"semantic_type\": \"\",\n        \"description\": \"\"\n      }\n    },\n    {\n      \"column\": \"title\",\n      \"properties\": {\n        \"dtype\": \"string\",\n        \"num_unique_values\": 10,\n        \"samples\": [\n          \"Good Guitar but Pricey\",\n          \"Good but not Great\"\n        ],\n        \"semantic_type\": \"\",\n        \"description\": \"\"\n      }\n    },\n    {\n      \"column\": \"review\",\n      \"properties\": {\n        \"dtype\": \"string\",\n        \"num_unique_values\": 10,\n        \"samples\": [\n          \"I was excited to order the Wes but given the price I\\u2019ve been disappointed.  I chose the road-worn option, but it just looks used.  The action on the strings is too low - I need to get it set up to avoid buzz.  The neck is ok but wide for my taste.  Overall ok but disappointing.  May reconsider and go with the Bender.\",\n          \"The Bender Caster sounds clean, the 3-position switch gives a good variety of tones.  Note bending can through the tuning out though.  If you are considering the Caster, I would pick the hard tail option.  The tuning pegs have some play, this was disappointing.  Overall a good guitar but could be improved.\"\n        ],\n        \"semantic_type\": \"\",\n        \"description\": \"\"\n      }\n    },\n    {\n      \"column\": \"sentiment_score\",\n      \"properties\": {\n        \"dtype\": \"number\",\n        \"std\": 0.5552638535967482,\n        \"min\": -0.8225,\n        \"max\": 0.9751,\n        \"num_unique_values\": 10,\n        \"samples\": [\n          -0.8225,\n          0.8074\n        ],\n        \"semantic_type\": \"\",\n        \"description\": \"\"\n      }\n    },\n    {\n      \"column\": \"blob_sentiment\",\n      \"properties\": {\n        \"dtype\": \"number\",\n        \"std\": 0.18147543451754933,\n        \"min\": 0.0,\n        \"max\": 0.55,\n        \"num_unique_values\": 10,\n        \"samples\": [\n          0.0,\n          0.15\n        ],\n        \"semantic_type\": \"\",\n        \"description\": \"\"\n      }\n    },\n    {\n      \"column\": \"blob_subjectivity\",\n      \"properties\": {\n        \"dtype\": \"number\",\n        \"std\": 0.13810221657244398,\n        \"min\": 0.44,\n        \"max\": 0.85,\n        \"num_unique_values\": 7,\n        \"samples\": [\n          0.72,\n          0.52\n        ],\n        \"semantic_type\": \"\",\n        \"description\": \"\"\n      }\n    }\n  ]\n}"
            }
          },
          "metadata": {},
          "execution_count": 56
        }
      ]
    },
    {
      "cell_type": "markdown",
      "source": [
        "---\n",
        "# Wrap-Up and Combining Results Notes\n",
        "\n",
        "##VADER (Valence Aware Dictionary and sEntiment Reasoner):\n",
        "\n",
        "Strengths:\n",
        "\n",
        ">- Specifically designed for sentiment analysis of social media text.\n",
        ">- Incorporates sentiment intensity analysis, including polarity (positive, negative, neutral) and intensity.\n",
        ">- Handles sentiment-laden emojis, slang, and emoticons common in social media.\n",
        ">- Provides a compound score summarizing overall sentiment.\n",
        "\n",
        "Limitations:\n",
        "\n",
        ">- May not perform as well on formal or domain-specific text.\n",
        ">- Limited support for languages other than English.\n",
        ">- Relies on a pre-defined lexicon, which may not cover all sentiments or contexts.\n",
        "\n",
        "##TextBlob:\n",
        "\n",
        "Strengths:\n",
        "\n",
        ">- Simple API for various NLP tasks, including sentiment analysis.\n",
        ">- Supports multiple languages and can be extended with custom models.\n",
        ">- Includes a built-in sentiment analyzer trained on a large dataset of movie reviews.\n",
        ">- Provides both polarity and subjectivity scores.\n",
        "\n",
        "Limitations:\n",
        "\n",
        ">- May not handle sentiment in social media or informal text as well as VADER.\n",
        ">- Sentiment analysis model may not be as accurate or fine-tuned for specific domains.\n",
        "\n",
        "---\n",
        "\n",
        "## Combining `VADER` and `TextBlob`:\n",
        "\n",
        "Both `VADER` and `TextBlob` can provide a more nuanced understanding of sentiment, especially in social media or informal contexts. It may be worth exploring a systematic way to combine the results of both of these libraries. Below are some ideas to consider.\n",
        "\n",
        "1. Weighted Average: Assign different weights to the sentiment scores from VADER and TextBlob based on their reliability or performance on your specific data. For example, you could use a 70-30 weighting, giving more weight to the algorithm that performs better on your dataset.\n",
        "\n",
        "2. Threshold-based Approach: Use one algorithm as a primary sentiment analyzer and then use the other algorithm to either confirm or override the primary sentiment if it crosses a certain threshold. This way, you can ensure that the sentiment is more robust and less affected by outliers.\n",
        "\n",
        "3. Conflict Resolution: If the sentiments from VADER and TextBlob are conflicting, you can use certain rules to resolve the conflict. For example, you could give more weight to the sentiment with stronger intensity or consider the context of the text to decide which sentiment is more appropriate.\n",
        "\n",
        "4. Aspect-based Sentiment Analysis: Divide the text into different aspects or topics and analyze the sentiment for each aspect separately using both algorithms. This way, you can identify the overall sentiment for each aspect and then aggregate them to get an overall sentiment score.\n",
        "\n",
        "5. Machine Learning Ensemble: Train a machine learning model using the sentiment scores from both algorithms as features. The model can learn the best way to combine these scores to predict the overall sentiment more accurately.\n",
        "\n",
        "6. Contextual Analysis: Consider the context of the text and the sentiment words/phrases identified by each algorithm. Some algorithms may perform better in certain contexts or for certain types of texts.\n",
        "\n",
        "7. Error Analysis: Analyze the cases where VADER and TextBlob disagree to understand the strengths and weaknesses of each algorithm. This can help you make informed decisions on how to combine their results effectively.\n",
        "\n",
        "By combining the results of VADER and TextBlob using these approaches, you can create a more robust sentiment analysis system that leverages the strengths of both algorithms and provides more accurate sentiment analysis for your specific use case.\n",
        "\n"
      ],
      "metadata": {
        "id": "ZpOXIiFRfCST"
      }
    }
  ]
}