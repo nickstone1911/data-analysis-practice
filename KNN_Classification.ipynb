{
  "cells": [
    {
      "cell_type": "markdown",
      "metadata": {
        "id": "view-in-github",
        "colab_type": "text"
      },
      "source": [
        "<a href=\"https://colab.research.google.com/github/nickstone1911/data-analysis-practice/blob/main/KNN_Classification.ipynb\" target=\"_parent\"><img src=\"https://colab.research.google.com/assets/colab-badge.svg\" alt=\"Open In Colab\"/></a>"
      ]
    },
    {
      "cell_type": "markdown",
      "metadata": {
        "id": "VFXjj5k_ti68"
      },
      "source": [
        "# Advanced Business Analytics\n",
        "## K Nearest Neighbors (KNN) Code-Along Notebook\n",
        "\n",
        "## Learning Objectives\n",
        "In this code-along, we will learn about:\n",
        "\n",
        "1. The fundamentals of the KNN classifier in scikit-learn\n",
        "2. Methods for finding the best value for `k`\n",
        "3. The `Pipeline` library for organizing data processing\n",
        "\n",
        "---\n"
      ]
    },
    {
      "cell_type": "markdown",
      "metadata": {
        "id": "IhB7fPeSti68"
      },
      "source": [
        "# KNN -  K Nearest Neighbors - Classification\n",
        "\n",
        "To help us understand k-nearest neighnors (KNN) for classification, we'll work with a simple dataset representing gene expression levels.\n",
        "\n",
        "## Data Description\n",
        "Gene expression levels are calculated by the ratio between the expression of the target gene (i.e., the gene of interest) and the expression of one or more reference genes (often household genes). This dataset is synthetic and specifically designed to show some of the strengths and limitations of using KNN for Classification.\n",
        "\n",
        "\n",
        "More info on gene expression: https://www.sciencedirect.com/topics/biochemistry-genetics-and-molecular-biology/gene-expression-level\n",
        "\n"
      ]
    },
    {
      "cell_type": "markdown",
      "source": [
        "# Section 1: Setting up the Environment"
      ],
      "metadata": {
        "id": "EIhdKUvY2gHD"
      }
    },
    {
      "cell_type": "markdown",
      "source": [
        "## 1.1: Imports\n",
        "\n",
        "In the next cell import the following modules:\n",
        "\n",
        ">- `os`, `numpy`, `pandas`, `matplotlib.pyplot`, `seaborn`\n",
        ">- Use the common aliases for each of these"
      ],
      "metadata": {
        "id": "JYljRSKH2mZ7"
      }
    },
    {
      "cell_type": "code",
      "execution_count": null,
      "metadata": {
        "id": "Q1pqI_H4ti68"
      },
      "outputs": [],
      "source": [
        "import os\n",
        "import numpy as np\n",
        "import pandas as pd\n",
        "import matplotlib.pyplot as plt\n",
        "import seaborn as sns"
      ]
    },
    {
      "cell_type": "markdown",
      "source": [
        "## 1.2: Set Your Working Directory\n",
        "\n",
        "In the next cell, set your working directory to your desired workspace for this lesson."
      ],
      "metadata": {
        "id": "kSNRxU972-5l"
      }
    },
    {
      "cell_type": "code",
      "source": [
        "from google.colab import drive\n",
        "drive.mount('/content/drive/')\n",
        "os.chdir('/content/drive/MyDrive/BAIM4205')\n",
        "os.getcwd()"
      ],
      "metadata": {
        "id": "UpCg_11y3mUB",
        "colab": {
          "base_uri": "https://localhost:8080/",
          "height": 53
        },
        "outputId": "3497436d-61e4-4797-94ac-5b7d771620d1"
      },
      "execution_count": null,
      "outputs": [
        {
          "output_type": "stream",
          "name": "stdout",
          "text": [
            "Mounted at /content/drive/\n"
          ]
        },
        {
          "output_type": "execute_result",
          "data": {
            "text/plain": [
              "'/content/drive/MyDrive/BAIM4205'"
            ],
            "application/vnd.google.colaboratory.intrinsic+json": {
              "type": "string"
            }
          },
          "metadata": {},
          "execution_count": 2
        }
      ]
    },
    {
      "cell_type": "markdown",
      "metadata": {
        "id": "nwQbtLFXti69"
      },
      "source": [
        "## 1.3: Load Data\n",
        "\n",
        "The gene expression data can be found in the following csv file. Download/move the file to your working directory.\n",
        "\n",
        ">- [gene_expression.csv](https://drive.google.com/file/d/1HIxldsPT-CjwIlCw2uWtbdyLQJpWUWee/view?usp=sharing)\n",
        "\n",
        "In the next cell(s) check that the file is in your working directory then load it into a dataframe named, `gene_df`"
      ]
    },
    {
      "cell_type": "code",
      "source": [
        "os.listdir()"
      ],
      "metadata": {
        "colab": {
          "base_uri": "https://localhost:8080/"
        },
        "id": "k8bU6N0J_JIC",
        "outputId": "ecc7744a-5300-4d9e-f3db-326fb41e7d63"
      },
      "execution_count": null,
      "outputs": [
        {
          "output_type": "execute_result",
          "data": {
            "text/plain": [
              "['customer.csv',\n",
              " 'winedata.csv',\n",
              " 'W1D2 Agenda and Exercises - Student.ipynb',\n",
              " 'W1D1 - Working With Google Drive and the os Module_student.ipynb',\n",
              " 'heart.csv',\n",
              " 'mouse_viral_study.csv',\n",
              " 'svm_margin_plot.py',\n",
              " '__pycache__',\n",
              " 'wine_fraud.csv',\n",
              " 'titanic_train.csv',\n",
              " '.ipynb_checkpoints',\n",
              " 'titanic_train_clean.csv',\n",
              " 'ORNG.csv',\n",
              " 'USIX.csv',\n",
              " 'W2D1 Lesson 24: Code-Along - Intro to Data Engineering with the BigQuery API.ipynb',\n",
              " 'gene_expression.csv']"
            ]
          },
          "metadata": {},
          "execution_count": 3
        }
      ]
    },
    {
      "cell_type": "code",
      "execution_count": null,
      "metadata": {
        "id": "bQA8Brw_ti69"
      },
      "outputs": [],
      "source": [
        "gene_df = pd.read_csv('gene_expression.csv')"
      ]
    },
    {
      "cell_type": "markdown",
      "source": [
        "## 1.4: Check Records\n",
        "\n",
        "In the next cell, show the first 5 records of `gene_df`."
      ],
      "metadata": {
        "id": "5VDSOwQd4apM"
      }
    },
    {
      "cell_type": "code",
      "execution_count": null,
      "metadata": {
        "id": "a98raXqHti69",
        "colab": {
          "base_uri": "https://localhost:8080/",
          "height": 206
        },
        "outputId": "95426688-ae63-4eb0-be8e-aee3fd4873cd"
      },
      "outputs": [
        {
          "output_type": "execute_result",
          "data": {
            "text/plain": [
              "   Gene One  Gene Two  Cancer Present\n",
              "0       4.3       3.9               1\n",
              "1       2.5       6.3               0\n",
              "2       5.7       3.9               1\n",
              "3       6.1       6.2               0\n",
              "4       7.4       3.4               1"
            ],
            "text/html": [
              "\n",
              "  <div id=\"df-3149d1fc-17da-4762-9c61-3955947d5643\" class=\"colab-df-container\">\n",
              "    <div>\n",
              "<style scoped>\n",
              "    .dataframe tbody tr th:only-of-type {\n",
              "        vertical-align: middle;\n",
              "    }\n",
              "\n",
              "    .dataframe tbody tr th {\n",
              "        vertical-align: top;\n",
              "    }\n",
              "\n",
              "    .dataframe thead th {\n",
              "        text-align: right;\n",
              "    }\n",
              "</style>\n",
              "<table border=\"1\" class=\"dataframe\">\n",
              "  <thead>\n",
              "    <tr style=\"text-align: right;\">\n",
              "      <th></th>\n",
              "      <th>Gene One</th>\n",
              "      <th>Gene Two</th>\n",
              "      <th>Cancer Present</th>\n",
              "    </tr>\n",
              "  </thead>\n",
              "  <tbody>\n",
              "    <tr>\n",
              "      <th>0</th>\n",
              "      <td>4.3</td>\n",
              "      <td>3.9</td>\n",
              "      <td>1</td>\n",
              "    </tr>\n",
              "    <tr>\n",
              "      <th>1</th>\n",
              "      <td>2.5</td>\n",
              "      <td>6.3</td>\n",
              "      <td>0</td>\n",
              "    </tr>\n",
              "    <tr>\n",
              "      <th>2</th>\n",
              "      <td>5.7</td>\n",
              "      <td>3.9</td>\n",
              "      <td>1</td>\n",
              "    </tr>\n",
              "    <tr>\n",
              "      <th>3</th>\n",
              "      <td>6.1</td>\n",
              "      <td>6.2</td>\n",
              "      <td>0</td>\n",
              "    </tr>\n",
              "    <tr>\n",
              "      <th>4</th>\n",
              "      <td>7.4</td>\n",
              "      <td>3.4</td>\n",
              "      <td>1</td>\n",
              "    </tr>\n",
              "  </tbody>\n",
              "</table>\n",
              "</div>\n",
              "    <div class=\"colab-df-buttons\">\n",
              "\n",
              "  <div class=\"colab-df-container\">\n",
              "    <button class=\"colab-df-convert\" onclick=\"convertToInteractive('df-3149d1fc-17da-4762-9c61-3955947d5643')\"\n",
              "            title=\"Convert this dataframe to an interactive table.\"\n",
              "            style=\"display:none;\">\n",
              "\n",
              "  <svg xmlns=\"http://www.w3.org/2000/svg\" height=\"24px\" viewBox=\"0 -960 960 960\">\n",
              "    <path d=\"M120-120v-720h720v720H120Zm60-500h600v-160H180v160Zm220 220h160v-160H400v160Zm0 220h160v-160H400v160ZM180-400h160v-160H180v160Zm440 0h160v-160H620v160ZM180-180h160v-160H180v160Zm440 0h160v-160H620v160Z\"/>\n",
              "  </svg>\n",
              "    </button>\n",
              "\n",
              "  <style>\n",
              "    .colab-df-container {\n",
              "      display:flex;\n",
              "      gap: 12px;\n",
              "    }\n",
              "\n",
              "    .colab-df-convert {\n",
              "      background-color: #E8F0FE;\n",
              "      border: none;\n",
              "      border-radius: 50%;\n",
              "      cursor: pointer;\n",
              "      display: none;\n",
              "      fill: #1967D2;\n",
              "      height: 32px;\n",
              "      padding: 0 0 0 0;\n",
              "      width: 32px;\n",
              "    }\n",
              "\n",
              "    .colab-df-convert:hover {\n",
              "      background-color: #E2EBFA;\n",
              "      box-shadow: 0px 1px 2px rgba(60, 64, 67, 0.3), 0px 1px 3px 1px rgba(60, 64, 67, 0.15);\n",
              "      fill: #174EA6;\n",
              "    }\n",
              "\n",
              "    .colab-df-buttons div {\n",
              "      margin-bottom: 4px;\n",
              "    }\n",
              "\n",
              "    [theme=dark] .colab-df-convert {\n",
              "      background-color: #3B4455;\n",
              "      fill: #D2E3FC;\n",
              "    }\n",
              "\n",
              "    [theme=dark] .colab-df-convert:hover {\n",
              "      background-color: #434B5C;\n",
              "      box-shadow: 0px 1px 3px 1px rgba(0, 0, 0, 0.15);\n",
              "      filter: drop-shadow(0px 1px 2px rgba(0, 0, 0, 0.3));\n",
              "      fill: #FFFFFF;\n",
              "    }\n",
              "  </style>\n",
              "\n",
              "    <script>\n",
              "      const buttonEl =\n",
              "        document.querySelector('#df-3149d1fc-17da-4762-9c61-3955947d5643 button.colab-df-convert');\n",
              "      buttonEl.style.display =\n",
              "        google.colab.kernel.accessAllowed ? 'block' : 'none';\n",
              "\n",
              "      async function convertToInteractive(key) {\n",
              "        const element = document.querySelector('#df-3149d1fc-17da-4762-9c61-3955947d5643');\n",
              "        const dataTable =\n",
              "          await google.colab.kernel.invokeFunction('convertToInteractive',\n",
              "                                                    [key], {});\n",
              "        if (!dataTable) return;\n",
              "\n",
              "        const docLinkHtml = 'Like what you see? Visit the ' +\n",
              "          '<a target=\"_blank\" href=https://colab.research.google.com/notebooks/data_table.ipynb>data table notebook</a>'\n",
              "          + ' to learn more about interactive tables.';\n",
              "        element.innerHTML = '';\n",
              "        dataTable['output_type'] = 'display_data';\n",
              "        await google.colab.output.renderOutput(dataTable, element);\n",
              "        const docLink = document.createElement('div');\n",
              "        docLink.innerHTML = docLinkHtml;\n",
              "        element.appendChild(docLink);\n",
              "      }\n",
              "    </script>\n",
              "  </div>\n",
              "\n",
              "\n",
              "<div id=\"df-77002eca-a2fa-4334-b9e9-8fb9c672819b\">\n",
              "  <button class=\"colab-df-quickchart\" onclick=\"quickchart('df-77002eca-a2fa-4334-b9e9-8fb9c672819b')\"\n",
              "            title=\"Suggest charts\"\n",
              "            style=\"display:none;\">\n",
              "\n",
              "<svg xmlns=\"http://www.w3.org/2000/svg\" height=\"24px\"viewBox=\"0 0 24 24\"\n",
              "     width=\"24px\">\n",
              "    <g>\n",
              "        <path d=\"M19 3H5c-1.1 0-2 .9-2 2v14c0 1.1.9 2 2 2h14c1.1 0 2-.9 2-2V5c0-1.1-.9-2-2-2zM9 17H7v-7h2v7zm4 0h-2V7h2v10zm4 0h-2v-4h2v4z\"/>\n",
              "    </g>\n",
              "</svg>\n",
              "  </button>\n",
              "\n",
              "<style>\n",
              "  .colab-df-quickchart {\n",
              "      --bg-color: #E8F0FE;\n",
              "      --fill-color: #1967D2;\n",
              "      --hover-bg-color: #E2EBFA;\n",
              "      --hover-fill-color: #174EA6;\n",
              "      --disabled-fill-color: #AAA;\n",
              "      --disabled-bg-color: #DDD;\n",
              "  }\n",
              "\n",
              "  [theme=dark] .colab-df-quickchart {\n",
              "      --bg-color: #3B4455;\n",
              "      --fill-color: #D2E3FC;\n",
              "      --hover-bg-color: #434B5C;\n",
              "      --hover-fill-color: #FFFFFF;\n",
              "      --disabled-bg-color: #3B4455;\n",
              "      --disabled-fill-color: #666;\n",
              "  }\n",
              "\n",
              "  .colab-df-quickchart {\n",
              "    background-color: var(--bg-color);\n",
              "    border: none;\n",
              "    border-radius: 50%;\n",
              "    cursor: pointer;\n",
              "    display: none;\n",
              "    fill: var(--fill-color);\n",
              "    height: 32px;\n",
              "    padding: 0;\n",
              "    width: 32px;\n",
              "  }\n",
              "\n",
              "  .colab-df-quickchart:hover {\n",
              "    background-color: var(--hover-bg-color);\n",
              "    box-shadow: 0 1px 2px rgba(60, 64, 67, 0.3), 0 1px 3px 1px rgba(60, 64, 67, 0.15);\n",
              "    fill: var(--button-hover-fill-color);\n",
              "  }\n",
              "\n",
              "  .colab-df-quickchart-complete:disabled,\n",
              "  .colab-df-quickchart-complete:disabled:hover {\n",
              "    background-color: var(--disabled-bg-color);\n",
              "    fill: var(--disabled-fill-color);\n",
              "    box-shadow: none;\n",
              "  }\n",
              "\n",
              "  .colab-df-spinner {\n",
              "    border: 2px solid var(--fill-color);\n",
              "    border-color: transparent;\n",
              "    border-bottom-color: var(--fill-color);\n",
              "    animation:\n",
              "      spin 1s steps(1) infinite;\n",
              "  }\n",
              "\n",
              "  @keyframes spin {\n",
              "    0% {\n",
              "      border-color: transparent;\n",
              "      border-bottom-color: var(--fill-color);\n",
              "      border-left-color: var(--fill-color);\n",
              "    }\n",
              "    20% {\n",
              "      border-color: transparent;\n",
              "      border-left-color: var(--fill-color);\n",
              "      border-top-color: var(--fill-color);\n",
              "    }\n",
              "    30% {\n",
              "      border-color: transparent;\n",
              "      border-left-color: var(--fill-color);\n",
              "      border-top-color: var(--fill-color);\n",
              "      border-right-color: var(--fill-color);\n",
              "    }\n",
              "    40% {\n",
              "      border-color: transparent;\n",
              "      border-right-color: var(--fill-color);\n",
              "      border-top-color: var(--fill-color);\n",
              "    }\n",
              "    60% {\n",
              "      border-color: transparent;\n",
              "      border-right-color: var(--fill-color);\n",
              "    }\n",
              "    80% {\n",
              "      border-color: transparent;\n",
              "      border-right-color: var(--fill-color);\n",
              "      border-bottom-color: var(--fill-color);\n",
              "    }\n",
              "    90% {\n",
              "      border-color: transparent;\n",
              "      border-bottom-color: var(--fill-color);\n",
              "    }\n",
              "  }\n",
              "</style>\n",
              "\n",
              "  <script>\n",
              "    async function quickchart(key) {\n",
              "      const quickchartButtonEl =\n",
              "        document.querySelector('#' + key + ' button');\n",
              "      quickchartButtonEl.disabled = true;  // To prevent multiple clicks.\n",
              "      quickchartButtonEl.classList.add('colab-df-spinner');\n",
              "      try {\n",
              "        const charts = await google.colab.kernel.invokeFunction(\n",
              "            'suggestCharts', [key], {});\n",
              "      } catch (error) {\n",
              "        console.error('Error during call to suggestCharts:', error);\n",
              "      }\n",
              "      quickchartButtonEl.classList.remove('colab-df-spinner');\n",
              "      quickchartButtonEl.classList.add('colab-df-quickchart-complete');\n",
              "    }\n",
              "    (() => {\n",
              "      let quickchartButtonEl =\n",
              "        document.querySelector('#df-77002eca-a2fa-4334-b9e9-8fb9c672819b button');\n",
              "      quickchartButtonEl.style.display =\n",
              "        google.colab.kernel.accessAllowed ? 'block' : 'none';\n",
              "    })();\n",
              "  </script>\n",
              "</div>\n",
              "    </div>\n",
              "  </div>\n"
            ],
            "application/vnd.google.colaboratory.intrinsic+json": {
              "type": "dataframe",
              "variable_name": "gene_df",
              "summary": "{\n  \"name\": \"gene_df\",\n  \"rows\": 3000,\n  \"fields\": [\n    {\n      \"column\": \"Gene One\",\n      \"properties\": {\n        \"dtype\": \"number\",\n        \"std\": 1.828387536204986,\n        \"min\": 1.0,\n        \"max\": 10.0,\n        \"num_unique_values\": 89,\n        \"samples\": [\n          4.7,\n          2.9,\n          6.2\n        ],\n        \"semantic_type\": \"\",\n        \"description\": \"\"\n      }\n    },\n    {\n      \"column\": \"Gene Two\",\n      \"properties\": {\n        \"dtype\": \"number\",\n        \"std\": 1.729080783443652,\n        \"min\": 1.0,\n        \"max\": 10.0,\n        \"num_unique_values\": 88,\n        \"samples\": [\n          1.4,\n          3.9,\n          6.1\n        ],\n        \"semantic_type\": \"\",\n        \"description\": \"\"\n      }\n    },\n    {\n      \"column\": \"Cancer Present\",\n      \"properties\": {\n        \"dtype\": \"number\",\n        \"std\": 0,\n        \"min\": 0,\n        \"max\": 1,\n        \"num_unique_values\": 2,\n        \"samples\": [\n          0,\n          1\n        ],\n        \"semantic_type\": \"\",\n        \"description\": \"\"\n      }\n    }\n  ]\n}"
            }
          },
          "metadata": {},
          "execution_count": 5
        }
      ],
      "source": [
        "gene_df.head()"
      ]
    },
    {
      "cell_type": "markdown",
      "source": [
        "# Section 2: Data Exploration\n",
        "\n",
        "In this section we examine the data more closely."
      ],
      "metadata": {
        "id": "UKkpMDeJ4vk2"
      }
    },
    {
      "cell_type": "markdown",
      "source": [
        "## 2.1: Scatterplot\n",
        "\n",
        "In the next cell replicate the chart given in the image file below.\n",
        "\n",
        ">- [Lesson11_2.1_scatter.png](https://drive.google.com/file/d/1Qj8tihznvJfMhHFic5QBvNeIp-_EoMYD/view?usp=sharing)"
      ],
      "metadata": {
        "id": "2gLPEk3L43-1"
      }
    },
    {
      "cell_type": "code",
      "source": [
        "sns.scatterplot(data = gene_df, x = 'Gene One', y = 'Gene Two', hue = 'Cancer Present').set(title='Scatter Plot of Gene One vs. Gene Two')"
      ],
      "metadata": {
        "id": "w_HhFyAD5KeC",
        "colab": {
          "base_uri": "https://localhost:8080/",
          "height": 489
        },
        "outputId": "4e4e51ca-cdbe-45e9-91b3-4a2edb934cbe"
      },
      "execution_count": null,
      "outputs": [
        {
          "output_type": "execute_result",
          "data": {
            "text/plain": [
              "[Text(0.5, 1.0, 'Scatter Plot of Gene One vs. Gene Two')]"
            ]
          },
          "metadata": {},
          "execution_count": 6
        },
        {
          "output_type": "display_data",
          "data": {
            "text/plain": [
              "<Figure size 640x480 with 1 Axes>"
            ],
            "image/png": "[encoded data removed]"
          },
          "metadata": {}
        }
      ]
    },
    {
      "cell_type": "markdown",
      "source": [
        "## 2.2: Zoomed In Scatterplot\n",
        "\n",
        "Let's zoom in to a specific area of the chart by setting the following x and y limits:\n",
        "\n",
        ">- Set the x limit to range from 2 to 6\n",
        ">- Set the y limit to range from 3 to 10\n",
        "\n",
        "Replicate the following chart:\n",
        "\n",
        ">- [Lesson11_2.2_scatter.png](https://drive.google.com/file/d/1-9mS_0Ik4ZeUGsywJXIgWm3OzdA8EARq/view?usp=sharing)"
      ],
      "metadata": {
        "id": "c2qKudRU7T0h"
      }
    },
    {
      "cell_type": "code",
      "source": [
        "fig, ax = plt.subplots()\n",
        "\n",
        "x = gene_df['Gene One']\n",
        "y = gene_df['Gene Two']\n",
        "target = gene_df['Cancer Present']\n",
        "\n",
        "sns.scatterplot(x=x, y=y, hue = target, data = gene_df, ax = ax)\n",
        "\n",
        "ax.set_title('Scatter Plot of Gene One vs. Gene Two')\n",
        "\n",
        "ax.set_xlim(2, 6)\n",
        "ax.set_ylim(3,10)\n",
        "\n",
        "plt.show()"
      ],
      "metadata": {
        "id": "OWuMzA-u7lL4",
        "colab": {
          "base_uri": "https://localhost:8080/",
          "height": 472
        },
        "outputId": "1517461d-a3f7-481d-8d26-6c7f4315c123"
      },
      "execution_count": null,
      "outputs": [
        {
          "output_type": "display_data",
          "data": {
            "text/plain": [
              "<Figure size 640x480 with 1 Axes>"
            ],
            "image/png": "[encoded data removed]"
          },
          "metadata": {}
        }
      ]
    },
    {
      "cell_type": "markdown",
      "source": [
        "## 2.3: Descriptive Stats\n",
        "\n",
        "In the next cell, show the descriptive stats for all the columns in `gene_df`:\n",
        "\n",
        ">- Round the results to two decimals"
      ],
      "metadata": {
        "id": "nvXMEcZD9yKC"
      }
    },
    {
      "cell_type": "code",
      "source": [
        "round(gene_df.describe(),2)"
      ],
      "metadata": {
        "id": "nHRDcDhU-BsM",
        "colab": {
          "base_uri": "https://localhost:8080/",
          "height": 300
        },
        "outputId": "e59df1d0-7d37-4512-84b3-73c5f48302e0"
      },
      "execution_count": null,
      "outputs": [
        {
          "output_type": "execute_result",
          "data": {
            "text/plain": [
              "       Gene One  Gene Two  Cancer Present\n",
              "count   3000.00   3000.00          3000.0\n",
              "mean       5.60      5.41             0.5\n",
              "std        1.83      1.73             0.5\n",
              "min        1.00      1.00             0.0\n",
              "25%        4.30      4.00             0.0\n",
              "50%        5.60      5.40             0.5\n",
              "75%        6.90      6.70             1.0\n",
              "max       10.00     10.00             1.0"
            ],
            "text/html": [
              "\n",
              "  <div id=\"df-4217e207-c2ec-4785-8d2e-dbbf3f15eaa9\" class=\"colab-df-container\">\n",
              "    <div>\n",
              "<style scoped>\n",
              "    .dataframe tbody tr th:only-of-type {\n",
              "        vertical-align: middle;\n",
              "    }\n",
              "\n",
              "    .dataframe tbody tr th {\n",
              "        vertical-align: top;\n",
              "    }\n",
              "\n",
              "    .dataframe thead th {\n",
              "        text-align: right;\n",
              "    }\n",
              "</style>\n",
              "<table border=\"1\" class=\"dataframe\">\n",
              "  <thead>\n",
              "    <tr style=\"text-align: right;\">\n",
              "      <th></th>\n",
              "      <th>Gene One</th>\n",
              "      <th>Gene Two</th>\n",
              "      <th>Cancer Present</th>\n",
              "    </tr>\n",
              "  </thead>\n",
              "  <tbody>\n",
              "    <tr>\n",
              "      <th>count</th>\n",
              "      <td>3000.00</td>\n",
              "      <td>3000.00</td>\n",
              "      <td>3000.0</td>\n",
              "    </tr>\n",
              "    <tr>\n",
              "      <th>mean</th>\n",
              "      <td>5.60</td>\n",
              "      <td>5.41</td>\n",
              "      <td>0.5</td>\n",
              "    </tr>\n",
              "    <tr>\n",
              "      <th>std</th>\n",
              "      <td>1.83</td>\n",
              "      <td>1.73</td>\n",
              "      <td>0.5</td>\n",
              "    </tr>\n",
              "    <tr>\n",
              "      <th>min</th>\n",
              "      <td>1.00</td>\n",
              "      <td>1.00</td>\n",
              "      <td>0.0</td>\n",
              "    </tr>\n",
              "    <tr>\n",
              "      <th>25%</th>\n",
              "      <td>4.30</td>\n",
              "      <td>4.00</td>\n",
              "      <td>0.0</td>\n",
              "    </tr>\n",
              "    <tr>\n",
              "      <th>50%</th>\n",
              "      <td>5.60</td>\n",
              "      <td>5.40</td>\n",
              "      <td>0.5</td>\n",
              "    </tr>\n",
              "    <tr>\n",
              "      <th>75%</th>\n",
              "      <td>6.90</td>\n",
              "      <td>6.70</td>\n",
              "      <td>1.0</td>\n",
              "    </tr>\n",
              "    <tr>\n",
              "      <th>max</th>\n",
              "      <td>10.00</td>\n",
              "      <td>10.00</td>\n",
              "      <td>1.0</td>\n",
              "    </tr>\n",
              "  </tbody>\n",
              "</table>\n",
              "</div>\n",
              "    <div class=\"colab-df-buttons\">\n",
              "\n",
              "  <div class=\"colab-df-container\">\n",
              "    <button class=\"colab-df-convert\" onclick=\"convertToInteractive('df-4217e207-c2ec-4785-8d2e-dbbf3f15eaa9')\"\n",
              "            title=\"Convert this dataframe to an interactive table.\"\n",
              "            style=\"display:none;\">\n",
              "\n",
              "  <svg xmlns=\"http://www.w3.org/2000/svg\" height=\"24px\" viewBox=\"0 -960 960 960\">\n",
              "    <path d=\"M120-120v-720h720v720H120Zm60-500h600v-160H180v160Zm220 220h160v-160H400v160Zm0 220h160v-160H400v160ZM180-400h160v-160H180v160Zm440 0h160v-160H620v160ZM180-180h160v-160H180v160Zm440 0h160v-160H620v160Z\"/>\n",
              "  </svg>\n",
              "    </button>\n",
              "\n",
              "  <style>\n",
              "    .colab-df-container {\n",
              "      display:flex;\n",
              "      gap: 12px;\n",
              "    }\n",
              "\n",
              "    .colab-df-convert {\n",
              "      background-color: #E8F0FE;\n",
              "      border: none;\n",
              "      border-radius: 50%;\n",
              "      cursor: pointer;\n",
              "      display: none;\n",
              "      fill: #1967D2;\n",
              "      height: 32px;\n",
              "      padding: 0 0 0 0;\n",
              "      width: 32px;\n",
              "    }\n",
              "\n",
              "    .colab-df-convert:hover {\n",
              "      background-color: #E2EBFA;\n",
              "      box-shadow: 0px 1px 2px rgba(60, 64, 67, 0.3), 0px 1px 3px 1px rgba(60, 64, 67, 0.15);\n",
              "      fill: #174EA6;\n",
              "    }\n",
              "\n",
              "    .colab-df-buttons div {\n",
              "      margin-bottom: 4px;\n",
              "    }\n",
              "\n",
              "    [theme=dark] .colab-df-convert {\n",
              "      background-color: #3B4455;\n",
              "      fill: #D2E3FC;\n",
              "    }\n",
              "\n",
              "    [theme=dark] .colab-df-convert:hover {\n",
              "      background-color: #434B5C;\n",
              "      box-shadow: 0px 1px 3px 1px rgba(0, 0, 0, 0.15);\n",
              "      filter: drop-shadow(0px 1px 2px rgba(0, 0, 0, 0.3));\n",
              "      fill: #FFFFFF;\n",
              "    }\n",
              "  </style>\n",
              "\n",
              "    <script>\n",
              "      const buttonEl =\n",
              "        document.querySelector('#df-4217e207-c2ec-4785-8d2e-dbbf3f15eaa9 button.colab-df-convert');\n",
              "      buttonEl.style.display =\n",
              "        google.colab.kernel.accessAllowed ? 'block' : 'none';\n",
              "\n",
              "      async function convertToInteractive(key) {\n",
              "        const element = document.querySelector('#df-4217e207-c2ec-4785-8d2e-dbbf3f15eaa9');\n",
              "        const dataTable =\n",
              "          await google.colab.kernel.invokeFunction('convertToInteractive',\n",
              "                                                    [key], {});\n",
              "        if (!dataTable) return;\n",
              "\n",
              "        const docLinkHtml = 'Like what you see? Visit the ' +\n",
              "          '<a target=\"_blank\" href=https://colab.research.google.com/notebooks/data_table.ipynb>data table notebook</a>'\n",
              "          + ' to learn more about interactive tables.';\n",
              "        element.innerHTML = '';\n",
              "        dataTable['output_type'] = 'display_data';\n",
              "        await google.colab.output.renderOutput(dataTable, element);\n",
              "        const docLink = document.createElement('div');\n",
              "        docLink.innerHTML = docLinkHtml;\n",
              "        element.appendChild(docLink);\n",
              "      }\n",
              "    </script>\n",
              "  </div>\n",
              "\n",
              "\n",
              "<div id=\"df-781d1ab1-0dbf-46bc-9e10-a58244df036b\">\n",
              "  <button class=\"colab-df-quickchart\" onclick=\"quickchart('df-781d1ab1-0dbf-46bc-9e10-a58244df036b')\"\n",
              "            title=\"Suggest charts\"\n",
              "            style=\"display:none;\">\n",
              "\n",
              "<svg xmlns=\"http://www.w3.org/2000/svg\" height=\"24px\"viewBox=\"0 0 24 24\"\n",
              "     width=\"24px\">\n",
              "    <g>\n",
              "        <path d=\"M19 3H5c-1.1 0-2 .9-2 2v14c0 1.1.9 2 2 2h14c1.1 0 2-.9 2-2V5c0-1.1-.9-2-2-2zM9 17H7v-7h2v7zm4 0h-2V7h2v10zm4 0h-2v-4h2v4z\"/>\n",
              "    </g>\n",
              "</svg>\n",
              "  </button>\n",
              "\n",
              "<style>\n",
              "  .colab-df-quickchart {\n",
              "      --bg-color: #E8F0FE;\n",
              "      --fill-color: #1967D2;\n",
              "      --hover-bg-color: #E2EBFA;\n",
              "      --hover-fill-color: #174EA6;\n",
              "      --disabled-fill-color: #AAA;\n",
              "      --disabled-bg-color: #DDD;\n",
              "  }\n",
              "\n",
              "  [theme=dark] .colab-df-quickchart {\n",
              "      --bg-color: #3B4455;\n",
              "      --fill-color: #D2E3FC;\n",
              "      --hover-bg-color: #434B5C;\n",
              "      --hover-fill-color: #FFFFFF;\n",
              "      --disabled-bg-color: #3B4455;\n",
              "      --disabled-fill-color: #666;\n",
              "  }\n",
              "\n",
              "  .colab-df-quickchart {\n",
              "    background-color: var(--bg-color);\n",
              "    border: none;\n",
              "    border-radius: 50%;\n",
              "    cursor: pointer;\n",
              "    display: none;\n",
              "    fill: var(--fill-color);\n",
              "    height: 32px;\n",
              "    padding: 0;\n",
              "    width: 32px;\n",
              "  }\n",
              "\n",
              "  .colab-df-quickchart:hover {\n",
              "    background-color: var(--hover-bg-color);\n",
              "    box-shadow: 0 1px 2px rgba(60, 64, 67, 0.3), 0 1px 3px 1px rgba(60, 64, 67, 0.15);\n",
              "    fill: var(--button-hover-fill-color);\n",
              "  }\n",
              "\n",
              "  .colab-df-quickchart-complete:disabled,\n",
              "  .colab-df-quickchart-complete:disabled:hover {\n",
              "    background-color: var(--disabled-bg-color);\n",
              "    fill: var(--disabled-fill-color);\n",
              "    box-shadow: none;\n",
              "  }\n",
              "\n",
              "  .colab-df-spinner {\n",
              "    border: 2px solid var(--fill-color);\n",
              "    border-color: transparent;\n",
              "    border-bottom-color: var(--fill-color);\n",
              "    animation:\n",
              "      spin 1s steps(1) infinite;\n",
              "  }\n",
              "\n",
              "  @keyframes spin {\n",
              "    0% {\n",
              "      border-color: transparent;\n",
              "      border-bottom-color: var(--fill-color);\n",
              "      border-left-color: var(--fill-color);\n",
              "    }\n",
              "    20% {\n",
              "      border-color: transparent;\n",
              "      border-left-color: var(--fill-color);\n",
              "      border-top-color: var(--fill-color);\n",
              "    }\n",
              "    30% {\n",
              "      border-color: transparent;\n",
              "      border-left-color: var(--fill-color);\n",
              "      border-top-color: var(--fill-color);\n",
              "      border-right-color: var(--fill-color);\n",
              "    }\n",
              "    40% {\n",
              "      border-color: transparent;\n",
              "      border-right-color: var(--fill-color);\n",
              "      border-top-color: var(--fill-color);\n",
              "    }\n",
              "    60% {\n",
              "      border-color: transparent;\n",
              "      border-right-color: var(--fill-color);\n",
              "    }\n",
              "    80% {\n",
              "      border-color: transparent;\n",
              "      border-right-color: var(--fill-color);\n",
              "      border-bottom-color: var(--fill-color);\n",
              "    }\n",
              "    90% {\n",
              "      border-color: transparent;\n",
              "      border-bottom-color: var(--fill-color);\n",
              "    }\n",
              "  }\n",
              "</style>\n",
              "\n",
              "  <script>\n",
              "    async function quickchart(key) {\n",
              "      const quickchartButtonEl =\n",
              "        document.querySelector('#' + key + ' button');\n",
              "      quickchartButtonEl.disabled = true;  // To prevent multiple clicks.\n",
              "      quickchartButtonEl.classList.add('colab-df-spinner');\n",
              "      try {\n",
              "        const charts = await google.colab.kernel.invokeFunction(\n",
              "            'suggestCharts', [key], {});\n",
              "      } catch (error) {\n",
              "        console.error('Error during call to suggestCharts:', error);\n",
              "      }\n",
              "      quickchartButtonEl.classList.remove('colab-df-spinner');\n",
              "      quickchartButtonEl.classList.add('colab-df-quickchart-complete');\n",
              "    }\n",
              "    (() => {\n",
              "      let quickchartButtonEl =\n",
              "        document.querySelector('#df-781d1ab1-0dbf-46bc-9e10-a58244df036b button');\n",
              "      quickchartButtonEl.style.display =\n",
              "        google.colab.kernel.accessAllowed ? 'block' : 'none';\n",
              "    })();\n",
              "  </script>\n",
              "</div>\n",
              "    </div>\n",
              "  </div>\n"
            ],
            "application/vnd.google.colaboratory.intrinsic+json": {
              "type": "dataframe",
              "summary": "{\n  \"name\": \"round(gene_df\",\n  \"rows\": 8,\n  \"fields\": [\n    {\n      \"column\": \"Gene One\",\n      \"properties\": {\n        \"dtype\": \"number\",\n        \"std\": 1058.8845562860342,\n        \"min\": 1.0,\n        \"max\": 3000.0,\n        \"num_unique_values\": 7,\n        \"samples\": [\n          3000.0,\n          5.6,\n          6.9\n        ],\n        \"semantic_type\": \"\",\n        \"description\": \"\"\n      }\n    },\n    {\n      \"column\": \"Gene Two\",\n      \"properties\": {\n        \"dtype\": \"number\",\n        \"std\": 1058.934556442735,\n        \"min\": 1.0,\n        \"max\": 3000.0,\n        \"num_unique_values\": 8,\n        \"samples\": [\n          5.41,\n          5.4,\n          3000.0\n        ],\n        \"semantic_type\": \"\",\n        \"description\": \"\"\n      }\n    },\n    {\n      \"column\": \"Cancer Present\",\n      \"properties\": {\n        \"dtype\": \"number\",\n        \"std\": 1060.4834624392513,\n        \"min\": 0.0,\n        \"max\": 3000.0,\n        \"num_unique_values\": 4,\n        \"samples\": [\n          0.5,\n          1.0,\n          3000.0\n        ],\n        \"semantic_type\": \"\",\n        \"description\": \"\"\n      }\n    }\n  ]\n}"
            }
          },
          "metadata": {},
          "execution_count": 8
        }
      ]
    },
    {
      "cell_type": "markdown",
      "source": [
        "## 2.4: Class Distributions\n",
        "\n",
        "In the next, cell show the class distributions."
      ],
      "metadata": {
        "id": "mfEZfsd7l7ja"
      }
    },
    {
      "cell_type": "code",
      "source": [
        "gene_df['Cancer Present'].value_counts()"
      ],
      "metadata": {
        "id": "-K6vCtKZmA1q",
        "colab": {
          "base_uri": "https://localhost:8080/"
        },
        "outputId": "3acfd11e-cca4-4820-f8c3-6c1286d6af4d"
      },
      "execution_count": null,
      "outputs": [
        {
          "output_type": "execute_result",
          "data": {
            "text/plain": [
              "1    1500\n",
              "0    1500\n",
              "Name: Cancer Present, dtype: int64"
            ]
          },
          "metadata": {},
          "execution_count": 9
        }
      ]
    },
    {
      "cell_type": "markdown",
      "source": [
        "## 2.5: Missing Values\n",
        "\n",
        "In the next code cell, check whether there are any missing values in `gene_df`."
      ],
      "metadata": {
        "id": "GiKJ0pxM-RJ1"
      }
    },
    {
      "cell_type": "code",
      "source": [
        "gene_df.isna().sum()"
      ],
      "metadata": {
        "id": "xPv9R7UV-ZAu",
        "colab": {
          "base_uri": "https://localhost:8080/"
        },
        "outputId": "50a52558-6dc9-44d1-9123-e6283e0c940d"
      },
      "execution_count": null,
      "outputs": [
        {
          "output_type": "execute_result",
          "data": {
            "text/plain": [
              "Gene One          0\n",
              "Gene Two          0\n",
              "Cancer Present    0\n",
              "dtype: int64"
            ]
          },
          "metadata": {},
          "execution_count": 10
        }
      ]
    },
    {
      "cell_type": "markdown",
      "source": [
        "# Section 3: Train/Test/Split\n",
        "\n",
        "In this section we perform our standard train/test/split procedure.\n",
        "\n",
        "Recall the train/test/split procedure:\n",
        "\n",
        "## In this section we will:\n",
        "1. Import Libraries\n",
        "2. Split Data in Train/Test for both X and y\n",
        "3. Fit/Train Scaler on Training X Data\n",
        "4. Scale X Test Data\n",
        "5. Create Model\n",
        "6. Fit/Train Model on X Train Data\n",
        "7. Evaluate Model on X Test Data (by creating predictions and comparing to Y_test)\n",
        "8. Adjust Parameters as Necessary and repeat steps 5 and 6\n",
        "\n"
      ],
      "metadata": {
        "id": "ngt36nwB-n3K"
      }
    },
    {
      "cell_type": "markdown",
      "source": [
        "## 3.1: Imports\n",
        "\n",
        "In the next cell, import the libraries for performing a train-test-split on the data and for standardizing the data."
      ],
      "metadata": {
        "id": "9QztPaRt_E5Q"
      }
    },
    {
      "cell_type": "code",
      "source": [
        "from sklearn.model_selection import train_test_split\n",
        "from sklearn.preprocessing import StandardScaler"
      ],
      "metadata": {
        "id": "JMDSUm5e_glP"
      },
      "execution_count": null,
      "outputs": []
    },
    {
      "cell_type": "markdown",
      "source": [
        "## 3.2: Split Data into Training and Testing Sets\n",
        "\n"
      ],
      "metadata": {
        "id": "heAROgYK_mNY"
      }
    },
    {
      "cell_type": "markdown",
      "source": [
        "### 3.2.1: Define `X` and `y`\n",
        "\n",
        "In the next cell, define your `X` and `y` data."
      ],
      "metadata": {
        "id": "1VCzxdGW_8BY"
      }
    },
    {
      "cell_type": "code",
      "source": [
        "X = gene_df.drop('Cancer Present', axis=1)\n",
        "y = gene_df['Cancer Present']\n",
        "X.head()"
      ],
      "metadata": {
        "id": "DvYEK4va_xn1",
        "colab": {
          "base_uri": "https://localhost:8080/",
          "height": 206
        },
        "outputId": "b3d09078-280a-4dde-850e-d5e780bca2a2"
      },
      "execution_count": null,
      "outputs": [
        {
          "output_type": "execute_result",
          "data": {
            "text/plain": [
              "   Gene One  Gene Two\n",
              "0       4.3       3.9\n",
              "1       2.5       6.3\n",
              "2       5.7       3.9\n",
              "3       6.1       6.2\n",
              "4       7.4       3.4"
            ],
            "text/html": [
              "\n",
              "  <div id=\"df-240238f9-5fa8-4118-9aa5-068184688ee4\" class=\"colab-df-container\">\n",
              "    <div>\n",
              "<style scoped>\n",
              "    .dataframe tbody tr th:only-of-type {\n",
              "        vertical-align: middle;\n",
              "    }\n",
              "\n",
              "    .dataframe tbody tr th {\n",
              "        vertical-align: top;\n",
              "    }\n",
              "\n",
              "    .dataframe thead th {\n",
              "        text-align: right;\n",
              "    }\n",
              "</style>\n",
              "<table border=\"1\" class=\"dataframe\">\n",
              "  <thead>\n",
              "    <tr style=\"text-align: right;\">\n",
              "      <th></th>\n",
              "      <th>Gene One</th>\n",
              "      <th>Gene Two</th>\n",
              "    </tr>\n",
              "  </thead>\n",
              "  <tbody>\n",
              "    <tr>\n",
              "      <th>0</th>\n",
              "      <td>4.3</td>\n",
              "      <td>3.9</td>\n",
              "    </tr>\n",
              "    <tr>\n",
              "      <th>1</th>\n",
              "      <td>2.5</td>\n",
              "      <td>6.3</td>\n",
              "    </tr>\n",
              "    <tr>\n",
              "      <th>2</th>\n",
              "      <td>5.7</td>\n",
              "      <td>3.9</td>\n",
              "    </tr>\n",
              "    <tr>\n",
              "      <th>3</th>\n",
              "      <td>6.1</td>\n",
              "      <td>6.2</td>\n",
              "    </tr>\n",
              "    <tr>\n",
              "      <th>4</th>\n",
              "      <td>7.4</td>\n",
              "      <td>3.4</td>\n",
              "    </tr>\n",
              "  </tbody>\n",
              "</table>\n",
              "</div>\n",
              "    <div class=\"colab-df-buttons\">\n",
              "\n",
              "  <div class=\"colab-df-container\">\n",
              "    <button class=\"colab-df-convert\" onclick=\"convertToInteractive('df-240238f9-5fa8-4118-9aa5-068184688ee4')\"\n",
              "            title=\"Convert this dataframe to an interactive table.\"\n",
              "            style=\"display:none;\">\n",
              "\n",
              "  <svg xmlns=\"http://www.w3.org/2000/svg\" height=\"24px\" viewBox=\"0 -960 960 960\">\n",
              "    <path d=\"M120-120v-720h720v720H120Zm60-500h600v-160H180v160Zm220 220h160v-160H400v160Zm0 220h160v-160H400v160ZM180-400h160v-160H180v160Zm440 0h160v-160H620v160ZM180-180h160v-160H180v160Zm440 0h160v-160H620v160Z\"/>\n",
              "  </svg>\n",
              "    </button>\n",
              "\n",
              "  <style>\n",
              "    .colab-df-container {\n",
              "      display:flex;\n",
              "      gap: 12px;\n",
              "    }\n",
              "\n",
              "    .colab-df-convert {\n",
              "      background-color: #E8F0FE;\n",
              "      border: none;\n",
              "      border-radius: 50%;\n",
              "      cursor: pointer;\n",
              "      display: none;\n",
              "      fill: #1967D2;\n",
              "      height: 32px;\n",
              "      padding: 0 0 0 0;\n",
              "      width: 32px;\n",
              "    }\n",
              "\n",
              "    .colab-df-convert:hover {\n",
              "      background-color: #E2EBFA;\n",
              "      box-shadow: 0px 1px 2px rgba(60, 64, 67, 0.3), 0px 1px 3px 1px rgba(60, 64, 67, 0.15);\n",
              "      fill: #174EA6;\n",
              "    }\n",
              "\n",
              "    .colab-df-buttons div {\n",
              "      margin-bottom: 4px;\n",
              "    }\n",
              "\n",
              "    [theme=dark] .colab-df-convert {\n",
              "      background-color: #3B4455;\n",
              "      fill: #D2E3FC;\n",
              "    }\n",
              "\n",
              "    [theme=dark] .colab-df-convert:hover {\n",
              "      background-color: #434B5C;\n",
              "      box-shadow: 0px 1px 3px 1px rgba(0, 0, 0, 0.15);\n",
              "      filter: drop-shadow(0px 1px 2px rgba(0, 0, 0, 0.3));\n",
              "      fill: #FFFFFF;\n",
              "    }\n",
              "  </style>\n",
              "\n",
              "    <script>\n",
              "      const buttonEl =\n",
              "        document.querySelector('#df-240238f9-5fa8-4118-9aa5-068184688ee4 button.colab-df-convert');\n",
              "      buttonEl.style.display =\n",
              "        google.colab.kernel.accessAllowed ? 'block' : 'none';\n",
              "\n",
              "      async function convertToInteractive(key) {\n",
              "        const element = document.querySelector('#df-240238f9-5fa8-4118-9aa5-068184688ee4');\n",
              "        const dataTable =\n",
              "          await google.colab.kernel.invokeFunction('convertToInteractive',\n",
              "                                                    [key], {});\n",
              "        if (!dataTable) return;\n",
              "\n",
              "        const docLinkHtml = 'Like what you see? Visit the ' +\n",
              "          '<a target=\"_blank\" href=https://colab.research.google.com/notebooks/data_table.ipynb>data table notebook</a>'\n",
              "          + ' to learn more about interactive tables.';\n",
              "        element.innerHTML = '';\n",
              "        dataTable['output_type'] = 'display_data';\n",
              "        await google.colab.output.renderOutput(dataTable, element);\n",
              "        const docLink = document.createElement('div');\n",
              "        docLink.innerHTML = docLinkHtml;\n",
              "        element.appendChild(docLink);\n",
              "      }\n",
              "    </script>\n",
              "  </div>\n",
              "\n",
              "\n",
              "<div id=\"df-95e22cf7-2acf-478e-9ee3-e791bf9f0fe9\">\n",
              "  <button class=\"colab-df-quickchart\" onclick=\"quickchart('df-95e22cf7-2acf-478e-9ee3-e791bf9f0fe9')\"\n",
              "            title=\"Suggest charts\"\n",
              "            style=\"display:none;\">\n",
              "\n",
              "<svg xmlns=\"http://www.w3.org/2000/svg\" height=\"24px\"viewBox=\"0 0 24 24\"\n",
              "     width=\"24px\">\n",
              "    <g>\n",
              "        <path d=\"M19 3H5c-1.1 0-2 .9-2 2v14c0 1.1.9 2 2 2h14c1.1 0 2-.9 2-2V5c0-1.1-.9-2-2-2zM9 17H7v-7h2v7zm4 0h-2V7h2v10zm4 0h-2v-4h2v4z\"/>\n",
              "    </g>\n",
              "</svg>\n",
              "  </button>\n",
              "\n",
              "<style>\n",
              "  .colab-df-quickchart {\n",
              "      --bg-color: #E8F0FE;\n",
              "      --fill-color: #1967D2;\n",
              "      --hover-bg-color: #E2EBFA;\n",
              "      --hover-fill-color: #174EA6;\n",
              "      --disabled-fill-color: #AAA;\n",
              "      --disabled-bg-color: #DDD;\n",
              "  }\n",
              "\n",
              "  [theme=dark] .colab-df-quickchart {\n",
              "      --bg-color: #3B4455;\n",
              "      --fill-color: #D2E3FC;\n",
              "      --hover-bg-color: #434B5C;\n",
              "      --hover-fill-color: #FFFFFF;\n",
              "      --disabled-bg-color: #3B4455;\n",
              "      --disabled-fill-color: #666;\n",
              "  }\n",
              "\n",
              "  .colab-df-quickchart {\n",
              "    background-color: var(--bg-color);\n",
              "    border: none;\n",
              "    border-radius: 50%;\n",
              "    cursor: pointer;\n",
              "    display: none;\n",
              "    fill: var(--fill-color);\n",
              "    height: 32px;\n",
              "    padding: 0;\n",
              "    width: 32px;\n",
              "  }\n",
              "\n",
              "  .colab-df-quickchart:hover {\n",
              "    background-color: var(--hover-bg-color);\n",
              "    box-shadow: 0 1px 2px rgba(60, 64, 67, 0.3), 0 1px 3px 1px rgba(60, 64, 67, 0.15);\n",
              "    fill: var(--button-hover-fill-color);\n",
              "  }\n",
              "\n",
              "  .colab-df-quickchart-complete:disabled,\n",
              "  .colab-df-quickchart-complete:disabled:hover {\n",
              "    background-color: var(--disabled-bg-color);\n",
              "    fill: var(--disabled-fill-color);\n",
              "    box-shadow: none;\n",
              "  }\n",
              "\n",
              "  .colab-df-spinner {\n",
              "    border: 2px solid var(--fill-color);\n",
              "    border-color: transparent;\n",
              "    border-bottom-color: var(--fill-color);\n",
              "    animation:\n",
              "      spin 1s steps(1) infinite;\n",
              "  }\n",
              "\n",
              "  @keyframes spin {\n",
              "    0% {\n",
              "      border-color: transparent;\n",
              "      border-bottom-color: var(--fill-color);\n",
              "      border-left-color: var(--fill-color);\n",
              "    }\n",
              "    20% {\n",
              "      border-color: transparent;\n",
              "      border-left-color: var(--fill-color);\n",
              "      border-top-color: var(--fill-color);\n",
              "    }\n",
              "    30% {\n",
              "      border-color: transparent;\n",
              "      border-left-color: var(--fill-color);\n",
              "      border-top-color: var(--fill-color);\n",
              "      border-right-color: var(--fill-color);\n",
              "    }\n",
              "    40% {\n",
              "      border-color: transparent;\n",
              "      border-right-color: var(--fill-color);\n",
              "      border-top-color: var(--fill-color);\n",
              "    }\n",
              "    60% {\n",
              "      border-color: transparent;\n",
              "      border-right-color: var(--fill-color);\n",
              "    }\n",
              "    80% {\n",
              "      border-color: transparent;\n",
              "      border-right-color: var(--fill-color);\n",
              "      border-bottom-color: var(--fill-color);\n",
              "    }\n",
              "    90% {\n",
              "      border-color: transparent;\n",
              "      border-bottom-color: var(--fill-color);\n",
              "    }\n",
              "  }\n",
              "</style>\n",
              "\n",
              "  <script>\n",
              "    async function quickchart(key) {\n",
              "      const quickchartButtonEl =\n",
              "        document.querySelector('#' + key + ' button');\n",
              "      quickchartButtonEl.disabled = true;  // To prevent multiple clicks.\n",
              "      quickchartButtonEl.classList.add('colab-df-spinner');\n",
              "      try {\n",
              "        const charts = await google.colab.kernel.invokeFunction(\n",
              "            'suggestCharts', [key], {});\n",
              "      } catch (error) {\n",
              "        console.error('Error during call to suggestCharts:', error);\n",
              "      }\n",
              "      quickchartButtonEl.classList.remove('colab-df-spinner');\n",
              "      quickchartButtonEl.classList.add('colab-df-quickchart-complete');\n",
              "    }\n",
              "    (() => {\n",
              "      let quickchartButtonEl =\n",
              "        document.querySelector('#df-95e22cf7-2acf-478e-9ee3-e791bf9f0fe9 button');\n",
              "      quickchartButtonEl.style.display =\n",
              "        google.colab.kernel.accessAllowed ? 'block' : 'none';\n",
              "    })();\n",
              "  </script>\n",
              "</div>\n",
              "    </div>\n",
              "  </div>\n"
            ],
            "application/vnd.google.colaboratory.intrinsic+json": {
              "type": "dataframe",
              "variable_name": "X",
              "summary": "{\n  \"name\": \"X\",\n  \"rows\": 3000,\n  \"fields\": [\n    {\n      \"column\": \"Gene One\",\n      \"properties\": {\n        \"dtype\": \"number\",\n        \"std\": 1.828387536204986,\n        \"min\": 1.0,\n        \"max\": 10.0,\n        \"num_unique_values\": 89,\n        \"samples\": [\n          4.7,\n          2.9,\n          6.2\n        ],\n        \"semantic_type\": \"\",\n        \"description\": \"\"\n      }\n    },\n    {\n      \"column\": \"Gene Two\",\n      \"properties\": {\n        \"dtype\": \"number\",\n        \"std\": 1.729080783443652,\n        \"min\": 1.0,\n        \"max\": 10.0,\n        \"num_unique_values\": 88,\n        \"samples\": [\n          1.4,\n          3.9,\n          6.1\n        ],\n        \"semantic_type\": \"\",\n        \"description\": \"\"\n      }\n    }\n  ]\n}"
            }
          },
          "metadata": {},
          "execution_count": 12
        }
      ]
    },
    {
      "cell_type": "code",
      "source": [
        "y.head()"
      ],
      "metadata": {
        "colab": {
          "base_uri": "https://localhost:8080/"
        },
        "id": "sVMD2YNrFhhG",
        "outputId": "71bd40fd-294f-47d7-8635-ab9da89bfd49"
      },
      "execution_count": null,
      "outputs": [
        {
          "output_type": "execute_result",
          "data": {
            "text/plain": [
              "0    1\n",
              "1    0\n",
              "2    1\n",
              "3    0\n",
              "4    1\n",
              "Name: Cancer Present, dtype: int64"
            ]
          },
          "metadata": {},
          "execution_count": 13
        }
      ]
    },
    {
      "cell_type": "markdown",
      "source": [
        "### 3.2.2: Split Data\n",
        "\n",
        "In the next cell, split the data into training and testing sets based on:\n",
        "\n",
        "1. Test size of .3\n",
        "2. Random state of 42"
      ],
      "metadata": {
        "id": "9RLupE4LADvz"
      }
    },
    {
      "cell_type": "code",
      "source": [
        "X_train, X_test, y_train, y_test = train_test_split(X, y, test_size = .3, random_state = 42)"
      ],
      "metadata": {
        "id": "mNxeKQlaAKR7"
      },
      "execution_count": null,
      "outputs": []
    },
    {
      "cell_type": "markdown",
      "source": [
        "### 3.3: Scale the Data\n",
        "\n",
        "In the next cell(s), scale the training and test `X` datasets using `StandardScaler()`."
      ],
      "metadata": {
        "id": "SEy29sZjAWHL"
      }
    },
    {
      "cell_type": "code",
      "source": [
        "scaler = StandardScaler()\n",
        "X_train_scaled = scaler.fit_transform(X_train)\n",
        "X_test_scaled = scaler.transform(X_test)"
      ],
      "metadata": {
        "id": "O4fEbtk9Ahkq"
      },
      "execution_count": null,
      "outputs": []
    },
    {
      "cell_type": "markdown",
      "source": [
        "## 3.4: Fit the Model\n",
        "\n",
        "In this section we learn to fit a knn model with the `KNeighborsClassifier`.\n",
        "\n",
        "### KNN Algorithm Basics\n",
        "1. Choose K value.\n",
        "2. Sort feature vectors (N dimensional space) by distance metric.\n",
        "3. Choose class based on K nearest feature vectors.\n",
        "\n",
        "---\n"
      ],
      "metadata": {
        "id": "rqgXn8M0BAU9"
      }
    },
    {
      "cell_type": "markdown",
      "source": [
        "### 3.4.1: Import `KNeighborsClassifier`\n",
        "\n",
        "In the next cell, import `KNeighborsClassifier`:\n",
        "\n",
        ">- See [KNeighborsClassifier doc](https://scikit-learn.org/stable/modules/generated/sklearn.neighbors.KNeighborsClassifier.html) for more information"
      ],
      "metadata": {
        "id": "6aArRDK0B3SR"
      }
    },
    {
      "cell_type": "code",
      "execution_count": null,
      "metadata": {
        "id": "YNXlVmG0ti6-"
      },
      "outputs": [],
      "source": [
        "from sklearn.neighbors import KNeighborsClassifier"
      ]
    },
    {
      "cell_type": "markdown",
      "source": [
        "### 3.4.2: Instantiate the `knn_model`\n",
        "\n",
        "In the next cell create an instance of the `KNeighborsClassifier` and name it `knn_model`:\n",
        "\n",
        ">- Set the `n_neighbors` parameter to 1 for this first model."
      ],
      "metadata": {
        "id": "hEi5XQ9HCBa4"
      }
    },
    {
      "cell_type": "code",
      "execution_count": null,
      "metadata": {
        "id": "vlXsPgL7ti6-"
      },
      "outputs": [],
      "source": [
        "knn_model = KNeighborsClassifier(n_neighbors = 1)"
      ]
    },
    {
      "cell_type": "markdown",
      "source": [
        "### 3.4.3: Fit the `knn_model` using the scaled X data\n",
        "\n",
        "In the next cell, fit the `knn_model` to the scaled training data."
      ],
      "metadata": {
        "id": "ojYclfmJCvkt"
      }
    },
    {
      "cell_type": "code",
      "execution_count": null,
      "metadata": {
        "id": "IY3a0Hdcti6-",
        "colab": {
          "base_uri": "https://localhost:8080/",
          "height": 75
        },
        "outputId": "76accbe1-cd9d-4537-a14f-a9b0fb2a2a8e"
      },
      "outputs": [
        {
          "output_type": "execute_result",
          "data": {
            "text/plain": [
              "KNeighborsClassifier(n_neighbors=1)"
            ],
            "text/html": [
              "<style>#sk-container-id-1 {color: black;background-color: white;}#sk-container-id-1 pre{padding: 0;}#sk-container-id-1 div.sk-toggleable {background-color: white;}#sk-container-id-1 label.sk-toggleable__label {cursor: pointer;display: block;width: 100%;margin-bottom: 0;padding: 0.3em;box-sizing: border-box;text-align: center;}#sk-container-id-1 label.sk-toggleable__label-arrow:before {content: \"▸\";float: left;margin-right: 0.25em;color: #696969;}#sk-container-id-1 label.sk-toggleable__label-arrow:hover:before {color: black;}#sk-container-id-1 div.sk-estimator:hover label.sk-toggleable__label-arrow:before {color: black;}#sk-container-id-1 div.sk-toggleable__content {max-height: 0;max-width: 0;overflow: hidden;text-align: left;background-color: #f0f8ff;}#sk-container-id-1 div.sk-toggleable__content pre {margin: 0.2em;color: black;border-radius: 0.25em;background-color: #f0f8ff;}#sk-container-id-1 input.sk-toggleable__control:checked~div.sk-toggleable__content {max-height: 200px;max-width: 100%;overflow: auto;}#sk-container-id-1 input.sk-toggleable__control:checked~label.sk-toggleable__label-arrow:before {content: \"▾\";}#sk-container-id-1 div.sk-estimator input.sk-toggleable__control:checked~label.sk-toggleable__label {background-color: #d4ebff;}#sk-container-id-1 div.sk-label input.sk-toggleable__control:checked~label.sk-toggleable__label {background-color: #d4ebff;}#sk-container-id-1 input.sk-hidden--visually {border: 0;clip: rect(1px 1px 1px 1px);clip: rect(1px, 1px, 1px, 1px);height: 1px;margin: -1px;overflow: hidden;padding: 0;position: absolute;width: 1px;}#sk-container-id-1 div.sk-estimator {font-family: monospace;background-color: #f0f8ff;border: 1px dotted black;border-radius: 0.25em;box-sizing: border-box;margin-bottom: 0.5em;}#sk-container-id-1 div.sk-estimator:hover {background-color: #d4ebff;}#sk-container-id-1 div.sk-parallel-item::after {content: \"\";width: 100%;border-bottom: 1px solid gray;flex-grow: 1;}#sk-container-id-1 div.sk-label:hover label.sk-toggleable__label {background-color: #d4ebff;}#sk-container-id-1 div.sk-serial::before {content: \"\";position: absolute;border-left: 1px solid gray;box-sizing: border-box;top: 0;bottom: 0;left: 50%;z-index: 0;}#sk-container-id-1 div.sk-serial {display: flex;flex-direction: column;align-items: center;background-color: white;padding-right: 0.2em;padding-left: 0.2em;position: relative;}#sk-container-id-1 div.sk-item {position: relative;z-index: 1;}#sk-container-id-1 div.sk-parallel {display: flex;align-items: stretch;justify-content: center;background-color: white;position: relative;}#sk-container-id-1 div.sk-item::before, #sk-container-id-1 div.sk-parallel-item::before {content: \"\";position: absolute;border-left: 1px solid gray;box-sizing: border-box;top: 0;bottom: 0;left: 50%;z-index: -1;}#sk-container-id-1 div.sk-parallel-item {display: flex;flex-direction: column;z-index: 1;position: relative;background-color: white;}#sk-container-id-1 div.sk-parallel-item:first-child::after {align-self: flex-end;width: 50%;}#sk-container-id-1 div.sk-parallel-item:last-child::after {align-self: flex-start;width: 50%;}#sk-container-id-1 div.sk-parallel-item:only-child::after {width: 0;}#sk-container-id-1 div.sk-dashed-wrapped {border: 1px dashed gray;margin: 0 0.4em 0.5em 0.4em;box-sizing: border-box;padding-bottom: 0.4em;background-color: white;}#sk-container-id-1 div.sk-label label {font-family: monospace;font-weight: bold;display: inline-block;line-height: 1.2em;}#sk-container-id-1 div.sk-label-container {text-align: center;}#sk-container-id-1 div.sk-container {/* jupyter's `normalize.less` sets `[hidden] { display: none; }` but bootstrap.min.css set `[hidden] { display: none !important; }` so we also need the `!important` here to be able to override the default hidden behavior on the sphinx rendered scikit-learn.org. See: https://github.com/scikit-learn/scikit-learn/issues/21755 */display: inline-block !important;position: relative;}#sk-container-id-1 div.sk-text-repr-fallback {display: none;}</style><div id=\"sk-container-id-1\" class=\"sk-top-container\"><div class=\"sk-text-repr-fallback\"><pre>KNeighborsClassifier(n_neighbors=1)</pre><b>In a Jupyter environment, please rerun this cell to show the HTML representation or trust the notebook. <br />On GitHub, the HTML representation is unable to render, please try loading this page with nbviewer.org.</b></div><div class=\"sk-container\" hidden><div class=\"sk-item\"><div class=\"sk-estimator sk-toggleable\"><input class=\"sk-toggleable__control sk-hidden--visually\" id=\"sk-estimator-id-1\" type=\"checkbox\" checked><label for=\"sk-estimator-id-1\" class=\"sk-toggleable__label sk-toggleable__label-arrow\">KNeighborsClassifier</label><div class=\"sk-toggleable__content\"><pre>KNeighborsClassifier(n_neighbors=1)</pre></div></div></div></div></div>"
            ]
          },
          "metadata": {},
          "execution_count": 18
        }
      ],
      "source": [
        "knn_model.fit(X_train_scaled, y_train)"
      ]
    },
    {
      "cell_type": "markdown",
      "source": [
        "## 3.5: Model Evaluation\n",
        "\n",
        "In this section, we evaluate our first knn model."
      ],
      "metadata": {
        "id": "l6MUCA17DOh9"
      }
    },
    {
      "cell_type": "markdown",
      "source": [
        "### 3.5.1: Make Predictions\n",
        "\n",
        "In the next cell, use `knn_model` to make predictions and store in a variable, `y_pred`. Make sure you use `scaled_X_test`."
      ],
      "metadata": {
        "id": "W043BcyYDXjZ"
      }
    },
    {
      "cell_type": "code",
      "source": [
        "y_pred = knn_model.predict(X_test_scaled)"
      ],
      "metadata": {
        "id": "D6HQNfUcDhi-"
      },
      "execution_count": null,
      "outputs": []
    },
    {
      "cell_type": "markdown",
      "source": [
        "### 3.5.2: Metric Imports\n",
        "\n",
        "In the next cell, import the modules for:\n",
        ">- `classification_report`\n",
        ">- `confusion_matrix`\n",
        ">- `accuracy_score`"
      ],
      "metadata": {
        "id": "gsTb1GmqDsSA"
      }
    },
    {
      "cell_type": "code",
      "source": [
        "from sklearn.metrics import classification_report, confusion_matrix, accuracy_score"
      ],
      "metadata": {
        "id": "5uI-wJstD5KF"
      },
      "execution_count": null,
      "outputs": []
    },
    {
      "cell_type": "markdown",
      "source": [
        "### 3.5.3: Accuracy\n",
        "\n",
        "In the next cell, show the accuracy of the `knn_model`:\n",
        "\n",
        ">- Round to two decimals\n",
        ">- When entering data enter in the format: `0.XX`"
      ],
      "metadata": {
        "id": "1p6kzU93EA72"
      }
    },
    {
      "cell_type": "code",
      "source": [
        "round(accuracy_score(y_test, y_pred),2)"
      ],
      "metadata": {
        "id": "AP-FtxuWD-PZ",
        "colab": {
          "base_uri": "https://localhost:8080/"
        },
        "outputId": "e55fe2e2-250c-417f-c411-7ab141caed8f"
      },
      "execution_count": null,
      "outputs": [
        {
          "output_type": "execute_result",
          "data": {
            "text/plain": [
              "0.89"
            ]
          },
          "metadata": {},
          "execution_count": 21
        }
      ]
    },
    {
      "cell_type": "markdown",
      "source": [
        "### 3.5.4: Confusion Matrix\n",
        "\n",
        "In the next cell, show the confusion matrix for `knn_model`.\n",
        "\n",
        ">- Pass in the appropriate parameters and argument so this confusion matrix will show the rates: TP, TN, FP, FN rates in the matrix.\n",
        ">>- See [confusion_matrix doc](https://scikit-learn.org/stable/modules/generated/sklearn.metrics.confusion_matrix.html#sklearn-metrics-confusion-matrix) for help on what parameter and argument to pass to get these rates.\n",
        "\n",
        ">- Convert the confusion matrix to a dataframe\n",
        ">- Round the rates to three decimals\n",
        ">- When entering data enter in the format: `0.XXX`"
      ],
      "metadata": {
        "id": "fPkU4oumEbsN"
      }
    },
    {
      "cell_type": "code",
      "source": [
        "cm = confusion_matrix(y_test, y_pred, normalize='true')\n",
        "cm"
      ],
      "metadata": {
        "id": "EpnWKjJYEhkl",
        "colab": {
          "base_uri": "https://localhost:8080/"
        },
        "outputId": "ec62011b-447e-4033-a06c-4701b3226cb3"
      },
      "execution_count": null,
      "outputs": [
        {
          "output_type": "execute_result",
          "data": {
            "text/plain": [
              "array([[0.89787234, 0.10212766],\n",
              "       [0.11627907, 0.88372093]])"
            ]
          },
          "metadata": {},
          "execution_count": 22
        }
      ]
    },
    {
      "cell_type": "code",
      "source": [
        "tn, fp, fn, tp = cm.ravel()\n",
        "cm_df = pd.DataFrame(cm.round(3), index = ['no_cancer(0)', 'cancer(1)'], columns = ['pred_no_cancer(0)', 'pred_cancer(1)'])\n",
        "\n",
        "cm_df"
      ],
      "metadata": {
        "colab": {
          "base_uri": "https://localhost:8080/",
          "height": 112
        },
        "id": "6DGFAoZ4ImPM",
        "outputId": "37342b55-c8e9-458e-b994-f283d02623b8"
      },
      "execution_count": null,
      "outputs": [
        {
          "output_type": "execute_result",
          "data": {
            "text/plain": [
              "              pred_no_cancer(0)  pred_cancer(1)\n",
              "no_cancer(0)              0.898           0.102\n",
              "cancer(1)                 0.116           0.884"
            ],
            "text/html": [
              "\n",
              "  <div id=\"df-66da6a30-f699-424f-ac62-8478a3c8a266\" class=\"colab-df-container\">\n",
              "    <div>\n",
              "<style scoped>\n",
              "    .dataframe tbody tr th:only-of-type {\n",
              "        vertical-align: middle;\n",
              "    }\n",
              "\n",
              "    .dataframe tbody tr th {\n",
              "        vertical-align: top;\n",
              "    }\n",
              "\n",
              "    .dataframe thead th {\n",
              "        text-align: right;\n",
              "    }\n",
              "</style>\n",
              "<table border=\"1\" class=\"dataframe\">\n",
              "  <thead>\n",
              "    <tr style=\"text-align: right;\">\n",
              "      <th></th>\n",
              "      <th>pred_no_cancer(0)</th>\n",
              "      <th>pred_cancer(1)</th>\n",
              "    </tr>\n",
              "  </thead>\n",
              "  <tbody>\n",
              "    <tr>\n",
              "      <th>no_cancer(0)</th>\n",
              "      <td>0.898</td>\n",
              "      <td>0.102</td>\n",
              "    </tr>\n",
              "    <tr>\n",
              "      <th>cancer(1)</th>\n",
              "      <td>0.116</td>\n",
              "      <td>0.884</td>\n",
              "    </tr>\n",
              "  </tbody>\n",
              "</table>\n",
              "</div>\n",
              "    <div class=\"colab-df-buttons\">\n",
              "\n",
              "  <div class=\"colab-df-container\">\n",
              "    <button class=\"colab-df-convert\" onclick=\"convertToInteractive('df-66da6a30-f699-424f-ac62-8478a3c8a266')\"\n",
              "            title=\"Convert this dataframe to an interactive table.\"\n",
              "            style=\"display:none;\">\n",
              "\n",
              "  <svg xmlns=\"http://www.w3.org/2000/svg\" height=\"24px\" viewBox=\"0 -960 960 960\">\n",
              "    <path d=\"M120-120v-720h720v720H120Zm60-500h600v-160H180v160Zm220 220h160v-160H400v160Zm0 220h160v-160H400v160ZM180-400h160v-160H180v160Zm440 0h160v-160H620v160ZM180-180h160v-160H180v160Zm440 0h160v-160H620v160Z\"/>\n",
              "  </svg>\n",
              "    </button>\n",
              "\n",
              "  <style>\n",
              "    .colab-df-container {\n",
              "      display:flex;\n",
              "      gap: 12px;\n",
              "    }\n",
              "\n",
              "    .colab-df-convert {\n",
              "      background-color: #E8F0FE;\n",
              "      border: none;\n",
              "      border-radius: 50%;\n",
              "      cursor: pointer;\n",
              "      display: none;\n",
              "      fill: #1967D2;\n",
              "      height: 32px;\n",
              "      padding: 0 0 0 0;\n",
              "      width: 32px;\n",
              "    }\n",
              "\n",
              "    .colab-df-convert:hover {\n",
              "      background-color: #E2EBFA;\n",
              "      box-shadow: 0px 1px 2px rgba(60, 64, 67, 0.3), 0px 1px 3px 1px rgba(60, 64, 67, 0.15);\n",
              "      fill: #174EA6;\n",
              "    }\n",
              "\n",
              "    .colab-df-buttons div {\n",
              "      margin-bottom: 4px;\n",
              "    }\n",
              "\n",
              "    [theme=dark] .colab-df-convert {\n",
              "      background-color: #3B4455;\n",
              "      fill: #D2E3FC;\n",
              "    }\n",
              "\n",
              "    [theme=dark] .colab-df-convert:hover {\n",
              "      background-color: #434B5C;\n",
              "      box-shadow: 0px 1px 3px 1px rgba(0, 0, 0, 0.15);\n",
              "      filter: drop-shadow(0px 1px 2px rgba(0, 0, 0, 0.3));\n",
              "      fill: #FFFFFF;\n",
              "    }\n",
              "  </style>\n",
              "\n",
              "    <script>\n",
              "      const buttonEl =\n",
              "        document.querySelector('#df-66da6a30-f699-424f-ac62-8478a3c8a266 button.colab-df-convert');\n",
              "      buttonEl.style.display =\n",
              "        google.colab.kernel.accessAllowed ? 'block' : 'none';\n",
              "\n",
              "      async function convertToInteractive(key) {\n",
              "        const element = document.querySelector('#df-66da6a30-f699-424f-ac62-8478a3c8a266');\n",
              "        const dataTable =\n",
              "          await google.colab.kernel.invokeFunction('convertToInteractive',\n",
              "                                                    [key], {});\n",
              "        if (!dataTable) return;\n",
              "\n",
              "        const docLinkHtml = 'Like what you see? Visit the ' +\n",
              "          '<a target=\"_blank\" href=https://colab.research.google.com/notebooks/data_table.ipynb>data table notebook</a>'\n",
              "          + ' to learn more about interactive tables.';\n",
              "        element.innerHTML = '';\n",
              "        dataTable['output_type'] = 'display_data';\n",
              "        await google.colab.output.renderOutput(dataTable, element);\n",
              "        const docLink = document.createElement('div');\n",
              "        docLink.innerHTML = docLinkHtml;\n",
              "        element.appendChild(docLink);\n",
              "      }\n",
              "    </script>\n",
              "  </div>\n",
              "\n",
              "\n",
              "<div id=\"df-6afbb90a-7ee8-4170-ae74-4c153c9d8875\">\n",
              "  <button class=\"colab-df-quickchart\" onclick=\"quickchart('df-6afbb90a-7ee8-4170-ae74-4c153c9d8875')\"\n",
              "            title=\"Suggest charts\"\n",
              "            style=\"display:none;\">\n",
              "\n",
              "<svg xmlns=\"http://www.w3.org/2000/svg\" height=\"24px\"viewBox=\"0 0 24 24\"\n",
              "     width=\"24px\">\n",
              "    <g>\n",
              "        <path d=\"M19 3H5c-1.1 0-2 .9-2 2v14c0 1.1.9 2 2 2h14c1.1 0 2-.9 2-2V5c0-1.1-.9-2-2-2zM9 17H7v-7h2v7zm4 0h-2V7h2v10zm4 0h-2v-4h2v4z\"/>\n",
              "    </g>\n",
              "</svg>\n",
              "  </button>\n",
              "\n",
              "<style>\n",
              "  .colab-df-quickchart {\n",
              "      --bg-color: #E8F0FE;\n",
              "      --fill-color: #1967D2;\n",
              "      --hover-bg-color: #E2EBFA;\n",
              "      --hover-fill-color: #174EA6;\n",
              "      --disabled-fill-color: #AAA;\n",
              "      --disabled-bg-color: #DDD;\n",
              "  }\n",
              "\n",
              "  [theme=dark] .colab-df-quickchart {\n",
              "      --bg-color: #3B4455;\n",
              "      --fill-color: #D2E3FC;\n",
              "      --hover-bg-color: #434B5C;\n",
              "      --hover-fill-color: #FFFFFF;\n",
              "      --disabled-bg-color: #3B4455;\n",
              "      --disabled-fill-color: #666;\n",
              "  }\n",
              "\n",
              "  .colab-df-quickchart {\n",
              "    background-color: var(--bg-color);\n",
              "    border: none;\n",
              "    border-radius: 50%;\n",
              "    cursor: pointer;\n",
              "    display: none;\n",
              "    fill: var(--fill-color);\n",
              "    height: 32px;\n",
              "    padding: 0;\n",
              "    width: 32px;\n",
              "  }\n",
              "\n",
              "  .colab-df-quickchart:hover {\n",
              "    background-color: var(--hover-bg-color);\n",
              "    box-shadow: 0 1px 2px rgba(60, 64, 67, 0.3), 0 1px 3px 1px rgba(60, 64, 67, 0.15);\n",
              "    fill: var(--button-hover-fill-color);\n",
              "  }\n",
              "\n",
              "  .colab-df-quickchart-complete:disabled,\n",
              "  .colab-df-quickchart-complete:disabled:hover {\n",
              "    background-color: var(--disabled-bg-color);\n",
              "    fill: var(--disabled-fill-color);\n",
              "    box-shadow: none;\n",
              "  }\n",
              "\n",
              "  .colab-df-spinner {\n",
              "    border: 2px solid var(--fill-color);\n",
              "    border-color: transparent;\n",
              "    border-bottom-color: var(--fill-color);\n",
              "    animation:\n",
              "      spin 1s steps(1) infinite;\n",
              "  }\n",
              "\n",
              "  @keyframes spin {\n",
              "    0% {\n",
              "      border-color: transparent;\n",
              "      border-bottom-color: var(--fill-color);\n",
              "      border-left-color: var(--fill-color);\n",
              "    }\n",
              "    20% {\n",
              "      border-color: transparent;\n",
              "      border-left-color: var(--fill-color);\n",
              "      border-top-color: var(--fill-color);\n",
              "    }\n",
              "    30% {\n",
              "      border-color: transparent;\n",
              "      border-left-color: var(--fill-color);\n",
              "      border-top-color: var(--fill-color);\n",
              "      border-right-color: var(--fill-color);\n",
              "    }\n",
              "    40% {\n",
              "      border-color: transparent;\n",
              "      border-right-color: var(--fill-color);\n",
              "      border-top-color: var(--fill-color);\n",
              "    }\n",
              "    60% {\n",
              "      border-color: transparent;\n",
              "      border-right-color: var(--fill-color);\n",
              "    }\n",
              "    80% {\n",
              "      border-color: transparent;\n",
              "      border-right-color: var(--fill-color);\n",
              "      border-bottom-color: var(--fill-color);\n",
              "    }\n",
              "    90% {\n",
              "      border-color: transparent;\n",
              "      border-bottom-color: var(--fill-color);\n",
              "    }\n",
              "  }\n",
              "</style>\n",
              "\n",
              "  <script>\n",
              "    async function quickchart(key) {\n",
              "      const quickchartButtonEl =\n",
              "        document.querySelector('#' + key + ' button');\n",
              "      quickchartButtonEl.disabled = true;  // To prevent multiple clicks.\n",
              "      quickchartButtonEl.classList.add('colab-df-spinner');\n",
              "      try {\n",
              "        const charts = await google.colab.kernel.invokeFunction(\n",
              "            'suggestCharts', [key], {});\n",
              "      } catch (error) {\n",
              "        console.error('Error during call to suggestCharts:', error);\n",
              "      }\n",
              "      quickchartButtonEl.classList.remove('colab-df-spinner');\n",
              "      quickchartButtonEl.classList.add('colab-df-quickchart-complete');\n",
              "    }\n",
              "    (() => {\n",
              "      let quickchartButtonEl =\n",
              "        document.querySelector('#df-6afbb90a-7ee8-4170-ae74-4c153c9d8875 button');\n",
              "      quickchartButtonEl.style.display =\n",
              "        google.colab.kernel.accessAllowed ? 'block' : 'none';\n",
              "    })();\n",
              "  </script>\n",
              "</div>\n",
              "    </div>\n",
              "  </div>\n"
            ],
            "application/vnd.google.colaboratory.intrinsic+json": {
              "type": "dataframe",
              "variable_name": "cm_df",
              "summary": "{\n  \"name\": \"cm_df\",\n  \"rows\": 2,\n  \"fields\": [\n    {\n      \"column\": \"pred_no_cancer(0)\",\n      \"properties\": {\n        \"dtype\": \"number\",\n        \"std\": 0.5529575028878801,\n        \"min\": 0.116,\n        \"max\": 0.898,\n        \"num_unique_values\": 2,\n        \"samples\": [\n          0.116,\n          0.898\n        ],\n        \"semantic_type\": \"\",\n        \"description\": \"\"\n      }\n    },\n    {\n      \"column\": \"pred_cancer(1)\",\n      \"properties\": {\n        \"dtype\": \"number\",\n        \"std\": 0.5529575028878801,\n        \"min\": 0.102,\n        \"max\": 0.884,\n        \"num_unique_values\": 2,\n        \"samples\": [\n          0.884,\n          0.102\n        ],\n        \"semantic_type\": \"\",\n        \"description\": \"\"\n      }\n    }\n  ]\n}"
            }
          },
          "metadata": {},
          "execution_count": 23
        }
      ]
    },
    {
      "cell_type": "markdown",
      "source": [
        "### 3.5.5: Classification Report\n",
        "\n",
        "In the next cell, show the classification report for the `knn_model`:"
      ],
      "metadata": {
        "id": "ueH5LxQSGmZB"
      }
    },
    {
      "cell_type": "code",
      "source": [
        "print(classification_report(y_test, y_pred, target_names = ['no cancer present', 'cancer present']))"
      ],
      "metadata": {
        "id": "fmTVL_oLGsGL",
        "colab": {
          "base_uri": "https://localhost:8080/"
        },
        "outputId": "38538dc1-ee18-47b4-c2a0-df919592bfa4"
      },
      "execution_count": null,
      "outputs": [
        {
          "output_type": "stream",
          "name": "stdout",
          "text": [
            "                   precision    recall  f1-score   support\n",
            "\n",
            "no cancer present       0.89      0.90      0.90       470\n",
            "   cancer present       0.89      0.88      0.89       430\n",
            "\n",
            "         accuracy                           0.89       900\n",
            "        macro avg       0.89      0.89      0.89       900\n",
            "     weighted avg       0.89      0.89      0.89       900\n",
            "\n"
          ]
        }
      ]
    },
    {
      "cell_type": "markdown",
      "metadata": {
        "id": "R5_72E4oti6-"
      },
      "source": [
        "## 3.6: Adjust Parameters if Necessary\n",
        "\n",
        "### Understanding KNN and Choosing K Value\n",
        "\n",
        "We want a K value that minimizes error:\n",
        ">- Error = 1 - Accuracy\n",
        "\n",
        "#### Two methods:\n",
        "1. Elbow method.\n",
        ">- We plot various K values against various error rates\n",
        ">- Then we look for the point where the chart levels off and creates the \"elbow\"\n",
        "2. Cross validate a grid search of multiple K values and choose K that results in lowest error or highest accuracy.\n",
        ">- Cross validation only takes into account the K value with the lowest error rate across multiple folds.\n",
        ">- This could result in a more complex model (higher value of K).\n",
        ">- Consider the context of the problem to decide if larger K values are an issue.\n",
        "\n",
        "---\n",
        "\n"
      ]
    },
    {
      "cell_type": "markdown",
      "source": [
        "## 3.6.1: Elbow Method\n",
        "\n",
        "In in the next cell, create a for loop with the header `for k in range(1, 30):` that will:\n",
        "\n",
        ">- Loop through various values of k and create a new `knn_model` at each iteration\n",
        ">- Then each model should be fit with the current value of k\n",
        ">- Predictions should be made for each model\n",
        ">- Test error should be calculated for each model\n",
        ">>- round the test errors to 3 decimals\n",
        ">- Then all the test errors should be stored in a `test_error_rates` list"
      ],
      "metadata": {
        "id": "LmV7-0EGI-NU"
      }
    },
    {
      "cell_type": "code",
      "source": [
        "test_error_rates = []\n",
        "for k in range(1, 30):\n",
        "    knn_model = KNeighborsClassifier(n_neighbors = k)\n",
        "    knn_model.fit(X_train_scaled, y_train)\n",
        "    y_pred = knn_model.predict(X_test_scaled)\n",
        "    error = 1 - (accuracy_score(y_test, y_pred))\n",
        "    test_error_rates.append(round(error,3))\n",
        "test_error_rates"
      ],
      "metadata": {
        "id": "Cijn7N8FMXlQ",
        "colab": {
          "base_uri": "https://localhost:8080/"
        },
        "outputId": "73894d94-6aec-47bb-ec30-e19f1c4a484d"
      },
      "execution_count": null,
      "outputs": [
        {
          "output_type": "execute_result",
          "data": {
            "text/plain": [
              "[0.109,\n",
              " 0.1,\n",
              " 0.073,\n",
              " 0.076,\n",
              " 0.072,\n",
              " 0.067,\n",
              " 0.064,\n",
              " 0.064,\n",
              " 0.058,\n",
              " 0.063,\n",
              " 0.061,\n",
              " 0.06,\n",
              " 0.061,\n",
              " 0.062,\n",
              " 0.059,\n",
              " 0.058,\n",
              " 0.057,\n",
              " 0.056,\n",
              " 0.053,\n",
              " 0.053,\n",
              " 0.054,\n",
              " 0.051,\n",
              " 0.054,\n",
              " 0.054,\n",
              " 0.057,\n",
              " 0.057,\n",
              " 0.056,\n",
              " 0.058,\n",
              " 0.058]"
            ]
          },
          "metadata": {},
          "execution_count": 28
        }
      ]
    },
    {
      "cell_type": "markdown",
      "source": [
        "#### Plot the Test Error Rates vs. the K values\n",
        "\n",
        "In the next cell, plot the k values (x-axis) versus the test error rates (y-axis).\n",
        "\n",
        ">- Replicate this chart: [Lesson11_3.6.1_elbow.png](https://drive.google.com/file/d/1-E659ORWpE05pEQy8FQolyA5vESRe4-s/view?usp=sharing)"
      ],
      "metadata": {
        "id": "GwYfpodfNzqH"
      }
    },
    {
      "cell_type": "code",
      "source": [],
      "metadata": {
        "id": "50U6-ARpNLcc"
      },
      "execution_count": null,
      "outputs": []
    },
    {
      "cell_type": "markdown",
      "source": [
        "#### Notes on the Elbow Chart\n",
        "\n",
        "Based on the elbow chart, jot down some notes about what you observe about the values of k and the error rates.\n",
        "\n",
        ">- The minimum error occurs around k = 22 or 23\n",
        ">- The error drops below the average (red line) at around k = 9 with a value around 0.058-0.06\n",
        ">- Increasing to k = 22 or 23 doesn't change the error rate that much (< 1%) so it might not be worth the extra model complexity to increase k this high. It looks like k between 8-15 would offer good results while keeping model complexity more reasonable\n",
        "\n",
        "---"
      ],
      "metadata": {
        "id": "RaZzGLMoRCwd"
      }
    },
    {
      "cell_type": "markdown",
      "metadata": {
        "id": "EIl9iakBti6-"
      },
      "source": [
        "## 3.6.2: Full Cross Validation Grid Search for K Value"
      ]
    },
    {
      "cell_type": "markdown",
      "metadata": {
        "id": "9OzKfNeIti6-"
      },
      "source": [
        "### 3.6.2.1: Creating a Pipeline to find K value\n",
        "\n",
        "#### Notes on Piplelines\n",
        "\n",
        "`Pipelines` are a simple way to keep your data preprocessing and modeling code organized. Specifically, a pipeline bundles preprocessing and modeling steps so you can use the whole bundle as if it were a single step.\n",
        "\n",
        "Many data scientists hack together models without pipelines, but pipelines have some important benefits. Those include:\n",
        "\n",
        "1. Cleaner Code: Accounting for data at each step of preprocessing can get messy. With a pipeline, you won't need to manually keep track of your training and validation data at each step.\n",
        "2. Fewer Bugs: There are fewer opportunities to misapply a step or forget a preprocessing step.\n",
        "3. Easier to Productionize: It can be surprisingly hard to transition a model from a prototype to something deployable at scale. We won't go into the many related concerns here, but pipelines can help.\n",
        "4. More Options for Model Validation: You will see an example in the next tutorial, which covers cross-validation.\n",
        "\n",
        ">- [Source](https://www.kaggle.com/code/alexisbcook/pipelines)\n",
        "\n",
        "---\n",
        "\n",
        "We'll use a Pipeline object to set up a workflow of operations:\n",
        "\n",
        "1. Scale Data\n",
        "2. Create Model on Scaled Data\n",
        "\n",
        "Pipeplines are not always necessary but they can make your work/data flow better.\n",
        "\n",
        "----\n",
        "#### How does the Scaler work inside a Pipeline with CV?\n",
        ">- Is scikit-learn \"smart\" enough to understand .fit() on train vs .transform() on train and test?\n",
        ">- **Yes! Scikit-Learn's pipeline is well suited for this! [Full Info in Documentation](https://scikit-learn.org/stable/modules/preprocessing.html#standardization-or-mean-removal-and-variance-scaling) **\n",
        "\n",
        "When you use the `StandardScaler` as a step inside a Pipeline then scikit-learn will internally do the job for you.\n",
        "\n",
        "#### How it works\n",
        "Here are the steps working behind the scenes:\n",
        "\n",
        "* Step 0: The data are split into TRAINING data and TEST data according to the cv parameter that you specified in the GridSearchCV.\n",
        "* Step 1: the scaler is fitted on the TRAINING data\n",
        "* Step 2: the scaler transforms TRAINING data\n",
        "* Step 3: the models are fitted/trained using the transformed TRAINING data\n",
        "* Step 4: the scaler is used to transform the TEST data\n",
        "* Step 5: the trained models predict using the transformed TEST data\n",
        "\n",
        "----\n",
        "\n",
        "Note: As we setup our Pipeline, we need to be careful to use specific string codes AND variable names so that everything matches up correctly. This is not a case where you can easily swap out variable names for whatever you want."
      ]
    },
    {
      "cell_type": "markdown",
      "source": [
        "First, define the scaler object."
      ],
      "metadata": {
        "id": "4O8D_0FfUKaD"
      }
    },
    {
      "cell_type": "code",
      "execution_count": null,
      "metadata": {
        "id": "yv8tJAiyti6_"
      },
      "outputs": [],
      "source": [
        "scaler = StandardScaler()"
      ]
    },
    {
      "cell_type": "markdown",
      "source": [
        "Next, define the model object."
      ],
      "metadata": {
        "id": "d_vSmwwxUNPn"
      }
    },
    {
      "cell_type": "code",
      "execution_count": null,
      "metadata": {
        "id": "PCI81jUVti6_"
      },
      "outputs": [],
      "source": [
        "knn_model = KNeighborsClassifier()"
      ]
    },
    {
      "cell_type": "markdown",
      "source": [
        "Now, take a look at the parameters in `knn`. This allows us to see the specific string codes that we need for the classifier."
      ],
      "metadata": {
        "id": "upNYlXNfUUnb"
      }
    },
    {
      "cell_type": "code",
      "execution_count": null,
      "metadata": {
        "id": "udlIoQ5dti6_"
      },
      "outputs": [],
      "source": []
    },
    {
      "cell_type": "markdown",
      "source": [
        "Set up the Pipline operations.\n",
        ">- This will be a list of tuple codes\n",
        ">- The first value in the tuple will be a string code referring to the operation (e.g., 'scaler', or 'knn')\n",
        ">- The second value in the tuple refers to the object/variable the performs the operation\n",
        "\n",
        "We place the operations in order that we want them performed:\n",
        "\n",
        "For example:\n",
        "1. Scale the Data\n",
        "2. Encode categorical data\n",
        "3. Fit the model"
      ],
      "metadata": {
        "id": "OshI_1a1Uqb8"
      }
    },
    {
      "cell_type": "code",
      "execution_count": null,
      "metadata": {
        "id": "fwv5GSmoti6_"
      },
      "outputs": [],
      "source": [
        "operations = [('scaler',scaler),('knn',knn_model)]"
      ]
    },
    {
      "cell_type": "markdown",
      "source": [
        "Now, import `Pipeline`\n",
        "\n",
        "```\n",
        "from sklearn.pipeline import Pipeline\n",
        "```"
      ],
      "metadata": {
        "id": "YVQjsMibXhJf"
      }
    },
    {
      "cell_type": "code",
      "execution_count": null,
      "metadata": {
        "id": "5mWfYMeBti6_"
      },
      "outputs": [],
      "source": [
        "from sklearn.pipeline import Pipeline"
      ]
    },
    {
      "cell_type": "markdown",
      "source": [
        "Create your Pipeline object:"
      ],
      "metadata": {
        "id": "6zQDF47YXqlX"
      }
    },
    {
      "cell_type": "code",
      "execution_count": null,
      "metadata": {
        "id": "Plu-_J6sti6_"
      },
      "outputs": [],
      "source": [
        "pipe = Pipeline(operations)"
      ]
    },
    {
      "cell_type": "markdown",
      "source": [],
      "metadata": {
        "id": "MMAaRVxuXZQ2"
      }
    },
    {
      "cell_type": "markdown",
      "source": [
        "### 3.6.2.2: Performing the Grid Search Using the Pipeline"
      ],
      "metadata": {
        "id": "80m8_oyYX2uL"
      }
    },
    {
      "cell_type": "code",
      "execution_count": null,
      "metadata": {
        "id": "kd1wpVJNti6_"
      },
      "outputs": [],
      "source": []
    },
    {
      "cell_type": "markdown",
      "metadata": {
        "id": "jSaLAHzXti6_"
      },
      "source": [
        "---\n",
        "*Note: If your parameter grid is going inside a PipeLine, your parameter name needs to be specified in the following manner:**\n",
        "\n",
        "* `chosen_string_name` + **two** underscores + parameter key name\n",
        "* model_name + __ + parameter name\n",
        "\n",
        "For example:\n",
        "* knn_model + __ + n_neighbors\n",
        "* knn_model__n_neighbors\n",
        "\n",
        "[StackOverflow on this](https://stackoverflow.com/questions/41899132/invalid-parameter-for-sklearn-estimator-pipeline)\n",
        "\n",
        "The reason we have to do this is because it let's scikit-learn know what operation in the pipeline these parameters are related to (otherwise it might think n_neighbors was a parameter in the scaler).\n",
        "\n",
        "---"
      ]
    },
    {
      "cell_type": "markdown",
      "source": [
        "Define the parameters to search.\n",
        ">- For this exercise search for k-values between 1-19"
      ],
      "metadata": {
        "id": "5ENu-4YAY_tH"
      }
    },
    {
      "cell_type": "code",
      "execution_count": null,
      "metadata": {
        "id": "wzpcOKYMti6_"
      },
      "outputs": [],
      "source": []
    },
    {
      "cell_type": "code",
      "execution_count": null,
      "metadata": {
        "id": "InVew4qHti6_"
      },
      "outputs": [],
      "source": []
    },
    {
      "cell_type": "markdown",
      "source": [
        "Define the parameter grid, note the double, `__` used:"
      ],
      "metadata": {
        "id": "EzrGBsBPZGOC"
      }
    },
    {
      "cell_type": "code",
      "execution_count": null,
      "metadata": {
        "id": "87boqpimti6_"
      },
      "outputs": [],
      "source": []
    },
    {
      "cell_type": "markdown",
      "source": [
        "Define the `full_cv_classifier`:\n",
        "\n",
        "In the next cell, define a `GridSearchCV()` object and pass in the following:\n",
        ">- `pipe` - the pipeline object we created\n",
        ">- `param_grid` - the parameter object we defined in the prior cell\n",
        ">- `cv` set this to 5 cross folds\n",
        ">- `scoring` set this to accuracy\n",
        "\n",
        "Review [GridSearchCV doc](https://scikit-learn.org/stable/modules/generated/sklearn.model_selection.GridSearchCV.html) for more information.\n",
        "\n",
        "Name the GridSearchCV object: `full_cv_classifier`:\n"
      ],
      "metadata": {
        "id": "-_VqOpWnaNj6"
      }
    },
    {
      "cell_type": "code",
      "execution_count": null,
      "metadata": {
        "id": "swPeGL1Dti6_"
      },
      "outputs": [],
      "source": []
    },
    {
      "cell_type": "markdown",
      "source": [
        "Now, fit `full_cv_classifier` the training data."
      ],
      "metadata": {
        "id": "lxmYQ6_7budV"
      }
    },
    {
      "cell_type": "code",
      "execution_count": null,
      "metadata": {
        "id": "4Od3kMLzti6_"
      },
      "outputs": [],
      "source": []
    },
    {
      "cell_type": "markdown",
      "source": [
        "### 3.6.2.3: Show the Best Parameters\n",
        "\n",
        "In the next cell, show the best parameters returned from the grid search. Jot down the optimal value of k provided.\n",
        "\n",
        "```\n",
        "full_cv_classifier.best_estimator_.get_params()\n",
        "```"
      ],
      "metadata": {
        "id": "FRirEqwEcKGZ"
      }
    },
    {
      "cell_type": "code",
      "execution_count": null,
      "metadata": {
        "id": "FRtf_qVwti6_"
      },
      "outputs": [],
      "source": []
    },
    {
      "cell_type": "markdown",
      "source": [
        "### 3.6.2.4: Show the Cross Validation Results of Grid Search\n",
        "\n",
        "In the next cell:\n",
        "\n",
        ">- Show the cross validation resuls (`cv_results_`) as a DataFrame\n",
        ">- Sort the results by `rank_test_score` in ascending order so you can see the highers ranked models first"
      ],
      "metadata": {
        "id": "w4eyEr2Ndk75"
      }
    },
    {
      "cell_type": "code",
      "execution_count": null,
      "metadata": {
        "id": "6pWW5_AKti6_"
      },
      "outputs": [],
      "source": []
    },
    {
      "cell_type": "markdown",
      "metadata": {
        "id": "ZVDkjkTJti6_"
      },
      "source": [
        "# Section 4: Final Model\n",
        "In this section we build and evaluate our final model.\n",
        "\n",
        "We just saw that our  GridSearch recommends a K=16 (in line with our alternative Elbow Method).\n",
        "\n",
        "Let's now use the PipeLine again, but this time, no need to do a grid search, instead we will evaluate on our hold-out Test Set."
      ]
    },
    {
      "cell_type": "markdown",
      "source": [
        "## 4.1: Define Final Pipeline Operations\n",
        "\n",
        "In the next cell, define the operations for a new pipeline based on:\n",
        "\n",
        "1. scaler set to `StandardScaler()`\n",
        "2. `knn16` which is a `KNeighborsClassifier` with k = 16\n",
        "3. `operations` which is the list of tuples to define the steps in the pipeline"
      ],
      "metadata": {
        "id": "S8KA_yicekNY"
      }
    },
    {
      "cell_type": "code",
      "execution_count": null,
      "metadata": {
        "id": "RQhasiCBti7A"
      },
      "outputs": [],
      "source": [
        "scaler = StandardScaler()\n",
        "knn16 = KNeighborsClassifier(n_neighbors=16)\n",
        "operations = [('scaler',scaler),('knn16',knn16)]"
      ]
    },
    {
      "cell_type": "markdown",
      "source": [
        "## 4.2: Define Pipeline Object\n",
        "\n",
        "In the next cell, define `pipe` which is the new pipeline based on the operations defined in 4.1."
      ],
      "metadata": {
        "id": "Mnx9IT15fH0-"
      }
    },
    {
      "cell_type": "code",
      "execution_count": null,
      "metadata": {
        "id": "DqnuLkNvti7A"
      },
      "outputs": [],
      "source": [
        "pipe = Pipeline(operations)"
      ]
    },
    {
      "cell_type": "markdown",
      "source": [
        "## 4.3: Fit `pipe` to the Training Data\n",
        "\n",
        "In the next cell, fit the new pipeline to the training data."
      ],
      "metadata": {
        "id": "OGQQftzTfRqa"
      }
    },
    {
      "cell_type": "code",
      "execution_count": null,
      "metadata": {
        "id": "qHTnTH9qti7A",
        "colab": {
          "base_uri": "https://localhost:8080/",
          "height": 126
        },
        "outputId": "beaecf2d-1a78-4310-f4a2-6cd8aa6704e4"
      },
      "outputs": [
        {
          "output_type": "execute_result",
          "data": {
            "text/plain": [
              "Pipeline(steps=[('scaler', StandardScaler()),\n",
              "                ('knn16', KNeighborsClassifier(n_neighbors=16))])"
            ],
            "text/html": [
              "<style>#sk-container-id-2 {color: black;background-color: white;}#sk-container-id-2 pre{padding: 0;}#sk-container-id-2 div.sk-toggleable {background-color: white;}#sk-container-id-2 label.sk-toggleable__label {cursor: pointer;display: block;width: 100%;margin-bottom: 0;padding: 0.3em;box-sizing: border-box;text-align: center;}#sk-container-id-2 label.sk-toggleable__label-arrow:before {content: \"▸\";float: left;margin-right: 0.25em;color: #696969;}#sk-container-id-2 label.sk-toggleable__label-arrow:hover:before {color: black;}#sk-container-id-2 div.sk-estimator:hover label.sk-toggleable__label-arrow:before {color: black;}#sk-container-id-2 div.sk-toggleable__content {max-height: 0;max-width: 0;overflow: hidden;text-align: left;background-color: #f0f8ff;}#sk-container-id-2 div.sk-toggleable__content pre {margin: 0.2em;color: black;border-radius: 0.25em;background-color: #f0f8ff;}#sk-container-id-2 input.sk-toggleable__control:checked~div.sk-toggleable__content {max-height: 200px;max-width: 100%;overflow: auto;}#sk-container-id-2 input.sk-toggleable__control:checked~label.sk-toggleable__label-arrow:before {content: \"▾\";}#sk-container-id-2 div.sk-estimator input.sk-toggleable__control:checked~label.sk-toggleable__label {background-color: #d4ebff;}#sk-container-id-2 div.sk-label input.sk-toggleable__control:checked~label.sk-toggleable__label {background-color: #d4ebff;}#sk-container-id-2 input.sk-hidden--visually {border: 0;clip: rect(1px 1px 1px 1px);clip: rect(1px, 1px, 1px, 1px);height: 1px;margin: -1px;overflow: hidden;padding: 0;position: absolute;width: 1px;}#sk-container-id-2 div.sk-estimator {font-family: monospace;background-color: #f0f8ff;border: 1px dotted black;border-radius: 0.25em;box-sizing: border-box;margin-bottom: 0.5em;}#sk-container-id-2 div.sk-estimator:hover {background-color: #d4ebff;}#sk-container-id-2 div.sk-parallel-item::after {content: \"\";width: 100%;border-bottom: 1px solid gray;flex-grow: 1;}#sk-container-id-2 div.sk-label:hover label.sk-toggleable__label {background-color: #d4ebff;}#sk-container-id-2 div.sk-serial::before {content: \"\";position: absolute;border-left: 1px solid gray;box-sizing: border-box;top: 0;bottom: 0;left: 50%;z-index: 0;}#sk-container-id-2 div.sk-serial {display: flex;flex-direction: column;align-items: center;background-color: white;padding-right: 0.2em;padding-left: 0.2em;position: relative;}#sk-container-id-2 div.sk-item {position: relative;z-index: 1;}#sk-container-id-2 div.sk-parallel {display: flex;align-items: stretch;justify-content: center;background-color: white;position: relative;}#sk-container-id-2 div.sk-item::before, #sk-container-id-2 div.sk-parallel-item::before {content: \"\";position: absolute;border-left: 1px solid gray;box-sizing: border-box;top: 0;bottom: 0;left: 50%;z-index: -1;}#sk-container-id-2 div.sk-parallel-item {display: flex;flex-direction: column;z-index: 1;position: relative;background-color: white;}#sk-container-id-2 div.sk-parallel-item:first-child::after {align-self: flex-end;width: 50%;}#sk-container-id-2 div.sk-parallel-item:last-child::after {align-self: flex-start;width: 50%;}#sk-container-id-2 div.sk-parallel-item:only-child::after {width: 0;}#sk-container-id-2 div.sk-dashed-wrapped {border: 1px dashed gray;margin: 0 0.4em 0.5em 0.4em;box-sizing: border-box;padding-bottom: 0.4em;background-color: white;}#sk-container-id-2 div.sk-label label {font-family: monospace;font-weight: bold;display: inline-block;line-height: 1.2em;}#sk-container-id-2 div.sk-label-container {text-align: center;}#sk-container-id-2 div.sk-container {/* jupyter's `normalize.less` sets `[hidden] { display: none; }` but bootstrap.min.css set `[hidden] { display: none !important; }` so we also need the `!important` here to be able to override the default hidden behavior on the sphinx rendered scikit-learn.org. See: https://github.com/scikit-learn/scikit-learn/issues/21755 */display: inline-block !important;position: relative;}#sk-container-id-2 div.sk-text-repr-fallback {display: none;}</style><div id=\"sk-container-id-2\" class=\"sk-top-container\"><div class=\"sk-text-repr-fallback\"><pre>Pipeline(steps=[(&#x27;scaler&#x27;, StandardScaler()),\n",
              "                (&#x27;knn16&#x27;, KNeighborsClassifier(n_neighbors=16))])</pre><b>In a Jupyter environment, please rerun this cell to show the HTML representation or trust the notebook. <br />On GitHub, the HTML representation is unable to render, please try loading this page with nbviewer.org.</b></div><div class=\"sk-container\" hidden><div class=\"sk-item sk-dashed-wrapped\"><div class=\"sk-label-container\"><div class=\"sk-label sk-toggleable\"><input class=\"sk-toggleable__control sk-hidden--visually\" id=\"sk-estimator-id-2\" type=\"checkbox\" ><label for=\"sk-estimator-id-2\" class=\"sk-toggleable__label sk-toggleable__label-arrow\">Pipeline</label><div class=\"sk-toggleable__content\"><pre>Pipeline(steps=[(&#x27;scaler&#x27;, StandardScaler()),\n",
              "                (&#x27;knn16&#x27;, KNeighborsClassifier(n_neighbors=16))])</pre></div></div></div><div class=\"sk-serial\"><div class=\"sk-item\"><div class=\"sk-estimator sk-toggleable\"><input class=\"sk-toggleable__control sk-hidden--visually\" id=\"sk-estimator-id-3\" type=\"checkbox\" ><label for=\"sk-estimator-id-3\" class=\"sk-toggleable__label sk-toggleable__label-arrow\">StandardScaler</label><div class=\"sk-toggleable__content\"><pre>StandardScaler()</pre></div></div></div><div class=\"sk-item\"><div class=\"sk-estimator sk-toggleable\"><input class=\"sk-toggleable__control sk-hidden--visually\" id=\"sk-estimator-id-4\" type=\"checkbox\" ><label for=\"sk-estimator-id-4\" class=\"sk-toggleable__label sk-toggleable__label-arrow\">KNeighborsClassifier</label><div class=\"sk-toggleable__content\"><pre>KNeighborsClassifier(n_neighbors=16)</pre></div></div></div></div></div></div></div>"
            ]
          },
          "metadata": {},
          "execution_count": 35
        }
      ],
      "source": [
        "pipe.fit(X_train, y_train)"
      ]
    },
    {
      "cell_type": "markdown",
      "source": [
        "## 4.4: Predict with `pipe`\n",
        "\n",
        "In the next cell, use `pipe` to predict values. Name the predictions `pipe_pred`."
      ],
      "metadata": {
        "id": "3LBo46SIfeL-"
      }
    },
    {
      "cell_type": "code",
      "execution_count": null,
      "metadata": {
        "id": "ZpleBJzEti7A"
      },
      "outputs": [],
      "source": [
        "pipe_pred = pipe.predict(X_test)"
      ]
    },
    {
      "cell_type": "markdown",
      "source": [
        "## 4.5: Evaluate `pipe`\n",
        "\n",
        "In the next cell, show the classification report for the `pipe` model.\n",
        "\n",
        ">- Compare these results to the prior classification report in section `3.5.5`"
      ],
      "metadata": {
        "id": "Cpm4jpPffsoc"
      }
    },
    {
      "cell_type": "code",
      "execution_count": null,
      "metadata": {
        "id": "EPzixd-Nti7A",
        "colab": {
          "base_uri": "https://localhost:8080/"
        },
        "outputId": "fec19426-86dc-4784-c51f-3c31df345055"
      },
      "outputs": [
        {
          "output_type": "stream",
          "name": "stdout",
          "text": [
            "                   precision    recall  f1-score   support\n",
            "\n",
            "no cancer present       0.94      0.95      0.95       470\n",
            "   cancer present       0.95      0.93      0.94       430\n",
            "\n",
            "         accuracy                           0.94       900\n",
            "        macro avg       0.94      0.94      0.94       900\n",
            "     weighted avg       0.94      0.94      0.94       900\n",
            "\n"
          ]
        }
      ],
      "source": [
        "print(classification_report(y_test, y_pred, target_names = ['no cancer present', 'cancer present']))"
      ]
    },
    {
      "cell_type": "markdown",
      "source": [
        "## 4.6: Deploy Model\n",
        "\n",
        "To practice deploying the model, use the model to predict a new case.\n",
        "\n",
        "Suppose a person performs a gene test and receives the following scores:\n",
        "\n",
        ">- Case 1: \"Gene One\" = 3.8, \"Gene Two\" = 6.3\n"
      ],
      "metadata": {
        "id": "NdSqbASXgr8f"
      }
    },
    {
      "cell_type": "markdown",
      "source": [
        "### 4.6.1: What class does the model predict for the new patient?"
      ],
      "metadata": {
        "id": "fLoOwrG3hclr"
      }
    },
    {
      "cell_type": "code",
      "source": [
        "new_case = [[3.8, 6.3]]"
      ],
      "metadata": {
        "id": "3TMQf0agiHtu"
      },
      "execution_count": null,
      "outputs": []
    },
    {
      "cell_type": "code",
      "source": [
        "print(pipe.predict(new_case))"
      ],
      "metadata": {
        "id": "LNKECDqHApBu",
        "colab": {
          "base_uri": "https://localhost:8080/"
        },
        "outputId": "11d4cc1e-7733-4ab5-866e-dd9f603b9729"
      },
      "execution_count": null,
      "outputs": [
        {
          "output_type": "stream",
          "name": "stdout",
          "text": [
            "[0]\n"
          ]
        },
        {
          "output_type": "stream",
          "name": "stderr",
          "text": [
            "/usr/local/lib/python3.10/dist-packages/sklearn/base.py:439: UserWarning: X does not have valid feature names, but StandardScaler was fitted with feature names\n",
            "  warnings.warn(\n"
          ]
        }
      ]
    },
    {
      "cell_type": "markdown",
      "source": [
        "### 4.6.2: What is the probability the new patient belongs to the predicted class?"
      ],
      "metadata": {
        "id": "0vRTq_yvhxUD"
      }
    },
    {
      "cell_type": "code",
      "execution_count": null,
      "metadata": {
        "id": "2d-COo_Nti7A"
      },
      "outputs": [],
      "source": []
    },
    {
      "cell_type": "markdown",
      "metadata": {
        "id": "Dpqpm4_Gti7A"
      },
      "source": [
        "----"
      ]
    }
  ],
  "metadata": {
    "anaconda-cloud": {},
    "kernelspec": {
      "display_name": "Python 3",
      "language": "python",
      "name": "python3"
    },
    "language_info": {
      "codemirror_mode": {
        "name": "ipython",
        "version": 3
      },
      "file_extension": ".py",
      "mimetype": "text/x-python",
      "name": "python",
      "nbconvert_exporter": "python",
      "pygments_lexer": "ipython3",
      "version": "3.7.6"
    },
    "colab": {
      "provenance": [],
      "include_colab_link": true
    }
  },
  "nbformat": 4,
  "nbformat_minor": 0
}