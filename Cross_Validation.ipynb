{
  "nbformat": 4,
  "nbformat_minor": 0,
  "metadata": {
    "colab": {
      "provenance": [],
      "include_colab_link": true
    },
    "kernelspec": {
      "name": "python3",
      "display_name": "Python 3"
    },
    "language_info": {
      "name": "python"
    }
  },
  "cells": [
    {
      "cell_type": "markdown",
      "metadata": {
        "id": "view-in-github",
        "colab_type": "text"
      },
      "source": [
        "<a href=\"https://colab.research.google.com/github/nickstone1911/data-analysis-practice/blob/main/Cross_Validation.ipynb\" target=\"_parent\"><img src=\"https://colab.research.google.com/assets/colab-badge.svg\" alt=\"Open In Colab\"/></a>"
      ]
    },
    {
      "cell_type": "markdown",
      "source": [
        "# Advanced Business Analytics: Cross Validation in `scikit-learn`\n",
        "\n",
        "In this code-along notebook, we will:\n",
        "\n",
        "1. Demonstrate how to use `scikit-learn` and the `train_test_split` module to split our datasets into training and testing datasets\n",
        "2. Train a machine learning model on training data and evaluate it's performance on testing data\n",
        "3. Expand on the idea of training and testing data by using a more rigorous cross validation procedure\n",
        "4. Practice splitting data into various testing, training, holdout, and cross validation datasets\n",
        "5. Begin to discuss the idea of model/data leakage which is a problem in building models we will discuss in various lessons\n",
        "6. Introduce model evauation\n",
        ">- We will have a deeper discussion of model evaluation in other lessons\n",
        "\n",
        "---\n",
        "\n",
        "## Resources\n",
        ">- Chapter 5 in Provost and Fawcett\n",
        "\n",
        ">- [Overfitting and Its Avoidance Slides](https://docs.google.com/presentation/d/1b14pJWpSYue7QYTf-sLEH48cuoTEwkxvZINHpwo-lBI/edit?usp=sharing)\n",
        ">- [Holdout and Cross Validation Slides](https://docs.google.com/presentation/d/1pLlqpehomzpM0SIdNn85Zlo_l_rR_Fl6eLRjPfTwsQg/edit?usp=sharing)\n",
        ">- [Cross-validation: evaluating estimator performance scikit-learn doc ](https://scikit-learn.org/stable/modules/cross_validation.html)\n",
        "\n",
        "---\n"
      ],
      "metadata": {
        "id": "nsN2oV3zQQSP"
      }
    },
    {
      "cell_type": "markdown",
      "source": [
        "# Importing Initial Libraries\n",
        "\n",
        "\n"
      ],
      "metadata": {
        "id": "zgpuYbcYl6yW"
      }
    },
    {
      "cell_type": "code",
      "execution_count": null,
      "metadata": {
        "id": "mWao5r-ydEqQ"
      },
      "outputs": [],
      "source": [
        "import pandas as pd\n",
        "import numpy as np"
      ]
    },
    {
      "cell_type": "markdown",
      "source": [
        "# Load the `iris` Dataset\n",
        ">- For this tutorial we will load the famous and commonly used `iris` dataset directly from `sklearn` datasets\n",
        "\n",
        "---"
      ],
      "metadata": {
        "id": "_5xj3bV2saDL"
      }
    },
    {
      "cell_type": "markdown",
      "source": [
        "# Load Data"
      ],
      "metadata": {
        "id": "uwA9rBLmgTYZ"
      }
    },
    {
      "cell_type": "code",
      "source": [
        "from sklearn import datasets"
      ],
      "metadata": {
        "id": "T7_Vx8RYsSDA"
      },
      "execution_count": null,
      "outputs": []
    },
    {
      "cell_type": "code",
      "source": [
        "iris = datasets.load_iris(as_frame=True)\n",
        "\n",
        "iris_df = iris.frame\n",
        "\n",
        "iris_df.head()"
      ],
      "metadata": {
        "id": "emRTmIxihnKZ",
        "colab": {
          "base_uri": "https://localhost:8080/",
          "height": 206
        },
        "outputId": "3b6ab373-5499-4723-fa45-c4f9de257601"
      },
      "execution_count": null,
      "outputs": [
        {
          "output_type": "execute_result",
          "data": {
            "text/plain": [
              "   sepal length (cm)  sepal width (cm)  petal length (cm)  petal width (cm)  \\\n",
              "0                5.1               3.5                1.4               0.2   \n",
              "1                4.9               3.0                1.4               0.2   \n",
              "2                4.7               3.2                1.3               0.2   \n",
              "3                4.6               3.1                1.5               0.2   \n",
              "4                5.0               3.6                1.4               0.2   \n",
              "\n",
              "   target  \n",
              "0       0  \n",
              "1       0  \n",
              "2       0  \n",
              "3       0  \n",
              "4       0  "
            ],
            "text/html": [
              "\n",
              "  <div id=\"df-dd59ef6b-96cf-4f83-9e6e-741bec4aafc5\" class=\"colab-df-container\">\n",
              "    <div>\n",
              "<style scoped>\n",
              "    .dataframe tbody tr th:only-of-type {\n",
              "        vertical-align: middle;\n",
              "    }\n",
              "\n",
              "    .dataframe tbody tr th {\n",
              "        vertical-align: top;\n",
              "    }\n",
              "\n",
              "    .dataframe thead th {\n",
              "        text-align: right;\n",
              "    }\n",
              "</style>\n",
              "<table border=\"1\" class=\"dataframe\">\n",
              "  <thead>\n",
              "    <tr style=\"text-align: right;\">\n",
              "      <th></th>\n",
              "      <th>sepal length (cm)</th>\n",
              "      <th>sepal width (cm)</th>\n",
              "      <th>petal length (cm)</th>\n",
              "      <th>petal width (cm)</th>\n",
              "      <th>target</th>\n",
              "    </tr>\n",
              "  </thead>\n",
              "  <tbody>\n",
              "    <tr>\n",
              "      <th>0</th>\n",
              "      <td>5.1</td>\n",
              "      <td>3.5</td>\n",
              "      <td>1.4</td>\n",
              "      <td>0.2</td>\n",
              "      <td>0</td>\n",
              "    </tr>\n",
              "    <tr>\n",
              "      <th>1</th>\n",
              "      <td>4.9</td>\n",
              "      <td>3.0</td>\n",
              "      <td>1.4</td>\n",
              "      <td>0.2</td>\n",
              "      <td>0</td>\n",
              "    </tr>\n",
              "    <tr>\n",
              "      <th>2</th>\n",
              "      <td>4.7</td>\n",
              "      <td>3.2</td>\n",
              "      <td>1.3</td>\n",
              "      <td>0.2</td>\n",
              "      <td>0</td>\n",
              "    </tr>\n",
              "    <tr>\n",
              "      <th>3</th>\n",
              "      <td>4.6</td>\n",
              "      <td>3.1</td>\n",
              "      <td>1.5</td>\n",
              "      <td>0.2</td>\n",
              "      <td>0</td>\n",
              "    </tr>\n",
              "    <tr>\n",
              "      <th>4</th>\n",
              "      <td>5.0</td>\n",
              "      <td>3.6</td>\n",
              "      <td>1.4</td>\n",
              "      <td>0.2</td>\n",
              "      <td>0</td>\n",
              "    </tr>\n",
              "  </tbody>\n",
              "</table>\n",
              "</div>\n",
              "    <div class=\"colab-df-buttons\">\n",
              "\n",
              "  <div class=\"colab-df-container\">\n",
              "    <button class=\"colab-df-convert\" onclick=\"convertToInteractive('df-dd59ef6b-96cf-4f83-9e6e-741bec4aafc5')\"\n",
              "            title=\"Convert this dataframe to an interactive table.\"\n",
              "            style=\"display:none;\">\n",
              "\n",
              "  <svg xmlns=\"http://www.w3.org/2000/svg\" height=\"24px\" viewBox=\"0 -960 960 960\">\n",
              "    <path d=\"M120-120v-720h720v720H120Zm60-500h600v-160H180v160Zm220 220h160v-160H400v160Zm0 220h160v-160H400v160ZM180-400h160v-160H180v160Zm440 0h160v-160H620v160ZM180-180h160v-160H180v160Zm440 0h160v-160H620v160Z\"/>\n",
              "  </svg>\n",
              "    </button>\n",
              "\n",
              "  <style>\n",
              "    .colab-df-container {\n",
              "      display:flex;\n",
              "      gap: 12px;\n",
              "    }\n",
              "\n",
              "    .colab-df-convert {\n",
              "      background-color: #E8F0FE;\n",
              "      border: none;\n",
              "      border-radius: 50%;\n",
              "      cursor: pointer;\n",
              "      display: none;\n",
              "      fill: #1967D2;\n",
              "      height: 32px;\n",
              "      padding: 0 0 0 0;\n",
              "      width: 32px;\n",
              "    }\n",
              "\n",
              "    .colab-df-convert:hover {\n",
              "      background-color: #E2EBFA;\n",
              "      box-shadow: 0px 1px 2px rgba(60, 64, 67, 0.3), 0px 1px 3px 1px rgba(60, 64, 67, 0.15);\n",
              "      fill: #174EA6;\n",
              "    }\n",
              "\n",
              "    .colab-df-buttons div {\n",
              "      margin-bottom: 4px;\n",
              "    }\n",
              "\n",
              "    [theme=dark] .colab-df-convert {\n",
              "      background-color: #3B4455;\n",
              "      fill: #D2E3FC;\n",
              "    }\n",
              "\n",
              "    [theme=dark] .colab-df-convert:hover {\n",
              "      background-color: #434B5C;\n",
              "      box-shadow: 0px 1px 3px 1px rgba(0, 0, 0, 0.15);\n",
              "      filter: drop-shadow(0px 1px 2px rgba(0, 0, 0, 0.3));\n",
              "      fill: #FFFFFF;\n",
              "    }\n",
              "  </style>\n",
              "\n",
              "    <script>\n",
              "      const buttonEl =\n",
              "        document.querySelector('#df-dd59ef6b-96cf-4f83-9e6e-741bec4aafc5 button.colab-df-convert');\n",
              "      buttonEl.style.display =\n",
              "        google.colab.kernel.accessAllowed ? 'block' : 'none';\n",
              "\n",
              "      async function convertToInteractive(key) {\n",
              "        const element = document.querySelector('#df-dd59ef6b-96cf-4f83-9e6e-741bec4aafc5');\n",
              "        const dataTable =\n",
              "          await google.colab.kernel.invokeFunction('convertToInteractive',\n",
              "                                                    [key], {});\n",
              "        if (!dataTable) return;\n",
              "\n",
              "        const docLinkHtml = 'Like what you see? Visit the ' +\n",
              "          '<a target=\"_blank\" href=https://colab.research.google.com/notebooks/data_table.ipynb>data table notebook</a>'\n",
              "          + ' to learn more about interactive tables.';\n",
              "        element.innerHTML = '';\n",
              "        dataTable['output_type'] = 'display_data';\n",
              "        await google.colab.output.renderOutput(dataTable, element);\n",
              "        const docLink = document.createElement('div');\n",
              "        docLink.innerHTML = docLinkHtml;\n",
              "        element.appendChild(docLink);\n",
              "      }\n",
              "    </script>\n",
              "  </div>\n",
              "\n",
              "\n",
              "<div id=\"df-531b20de-5d4a-4316-83e1-c0c07f6ff0dd\">\n",
              "  <button class=\"colab-df-quickchart\" onclick=\"quickchart('df-531b20de-5d4a-4316-83e1-c0c07f6ff0dd')\"\n",
              "            title=\"Suggest charts\"\n",
              "            style=\"display:none;\">\n",
              "\n",
              "<svg xmlns=\"http://www.w3.org/2000/svg\" height=\"24px\"viewBox=\"0 0 24 24\"\n",
              "     width=\"24px\">\n",
              "    <g>\n",
              "        <path d=\"M19 3H5c-1.1 0-2 .9-2 2v14c0 1.1.9 2 2 2h14c1.1 0 2-.9 2-2V5c0-1.1-.9-2-2-2zM9 17H7v-7h2v7zm4 0h-2V7h2v10zm4 0h-2v-4h2v4z\"/>\n",
              "    </g>\n",
              "</svg>\n",
              "  </button>\n",
              "\n",
              "<style>\n",
              "  .colab-df-quickchart {\n",
              "      --bg-color: #E8F0FE;\n",
              "      --fill-color: #1967D2;\n",
              "      --hover-bg-color: #E2EBFA;\n",
              "      --hover-fill-color: #174EA6;\n",
              "      --disabled-fill-color: #AAA;\n",
              "      --disabled-bg-color: #DDD;\n",
              "  }\n",
              "\n",
              "  [theme=dark] .colab-df-quickchart {\n",
              "      --bg-color: #3B4455;\n",
              "      --fill-color: #D2E3FC;\n",
              "      --hover-bg-color: #434B5C;\n",
              "      --hover-fill-color: #FFFFFF;\n",
              "      --disabled-bg-color: #3B4455;\n",
              "      --disabled-fill-color: #666;\n",
              "  }\n",
              "\n",
              "  .colab-df-quickchart {\n",
              "    background-color: var(--bg-color);\n",
              "    border: none;\n",
              "    border-radius: 50%;\n",
              "    cursor: pointer;\n",
              "    display: none;\n",
              "    fill: var(--fill-color);\n",
              "    height: 32px;\n",
              "    padding: 0;\n",
              "    width: 32px;\n",
              "  }\n",
              "\n",
              "  .colab-df-quickchart:hover {\n",
              "    background-color: var(--hover-bg-color);\n",
              "    box-shadow: 0 1px 2px rgba(60, 64, 67, 0.3), 0 1px 3px 1px rgba(60, 64, 67, 0.15);\n",
              "    fill: var(--button-hover-fill-color);\n",
              "  }\n",
              "\n",
              "  .colab-df-quickchart-complete:disabled,\n",
              "  .colab-df-quickchart-complete:disabled:hover {\n",
              "    background-color: var(--disabled-bg-color);\n",
              "    fill: var(--disabled-fill-color);\n",
              "    box-shadow: none;\n",
              "  }\n",
              "\n",
              "  .colab-df-spinner {\n",
              "    border: 2px solid var(--fill-color);\n",
              "    border-color: transparent;\n",
              "    border-bottom-color: var(--fill-color);\n",
              "    animation:\n",
              "      spin 1s steps(1) infinite;\n",
              "  }\n",
              "\n",
              "  @keyframes spin {\n",
              "    0% {\n",
              "      border-color: transparent;\n",
              "      border-bottom-color: var(--fill-color);\n",
              "      border-left-color: var(--fill-color);\n",
              "    }\n",
              "    20% {\n",
              "      border-color: transparent;\n",
              "      border-left-color: var(--fill-color);\n",
              "      border-top-color: var(--fill-color);\n",
              "    }\n",
              "    30% {\n",
              "      border-color: transparent;\n",
              "      border-left-color: var(--fill-color);\n",
              "      border-top-color: var(--fill-color);\n",
              "      border-right-color: var(--fill-color);\n",
              "    }\n",
              "    40% {\n",
              "      border-color: transparent;\n",
              "      border-right-color: var(--fill-color);\n",
              "      border-top-color: var(--fill-color);\n",
              "    }\n",
              "    60% {\n",
              "      border-color: transparent;\n",
              "      border-right-color: var(--fill-color);\n",
              "    }\n",
              "    80% {\n",
              "      border-color: transparent;\n",
              "      border-right-color: var(--fill-color);\n",
              "      border-bottom-color: var(--fill-color);\n",
              "    }\n",
              "    90% {\n",
              "      border-color: transparent;\n",
              "      border-bottom-color: var(--fill-color);\n",
              "    }\n",
              "  }\n",
              "</style>\n",
              "\n",
              "  <script>\n",
              "    async function quickchart(key) {\n",
              "      const quickchartButtonEl =\n",
              "        document.querySelector('#' + key + ' button');\n",
              "      quickchartButtonEl.disabled = true;  // To prevent multiple clicks.\n",
              "      quickchartButtonEl.classList.add('colab-df-spinner');\n",
              "      try {\n",
              "        const charts = await google.colab.kernel.invokeFunction(\n",
              "            'suggestCharts', [key], {});\n",
              "      } catch (error) {\n",
              "        console.error('Error during call to suggestCharts:', error);\n",
              "      }\n",
              "      quickchartButtonEl.classList.remove('colab-df-spinner');\n",
              "      quickchartButtonEl.classList.add('colab-df-quickchart-complete');\n",
              "    }\n",
              "    (() => {\n",
              "      let quickchartButtonEl =\n",
              "        document.querySelector('#df-531b20de-5d4a-4316-83e1-c0c07f6ff0dd button');\n",
              "      quickchartButtonEl.style.display =\n",
              "        google.colab.kernel.accessAllowed ? 'block' : 'none';\n",
              "    })();\n",
              "  </script>\n",
              "</div>\n",
              "    </div>\n",
              "  </div>\n"
            ],
            "application/vnd.google.colaboratory.intrinsic+json": {
              "type": "dataframe",
              "variable_name": "iris_df",
              "summary": "{\n  \"name\": \"iris_df\",\n  \"rows\": 150,\n  \"fields\": [\n    {\n      \"column\": \"sepal length (cm)\",\n      \"properties\": {\n        \"dtype\": \"number\",\n        \"std\": 0.828066127977863,\n        \"min\": 4.3,\n        \"max\": 7.9,\n        \"num_unique_values\": 35,\n        \"samples\": [\n          6.2,\n          4.5,\n          5.6\n        ],\n        \"semantic_type\": \"\",\n        \"description\": \"\"\n      }\n    },\n    {\n      \"column\": \"sepal width (cm)\",\n      \"properties\": {\n        \"dtype\": \"number\",\n        \"std\": 0.4358662849366982,\n        \"min\": 2.0,\n        \"max\": 4.4,\n        \"num_unique_values\": 23,\n        \"samples\": [\n          2.3,\n          4.0,\n          3.5\n        ],\n        \"semantic_type\": \"\",\n        \"description\": \"\"\n      }\n    },\n    {\n      \"column\": \"petal length (cm)\",\n      \"properties\": {\n        \"dtype\": \"number\",\n        \"std\": 1.7652982332594662,\n        \"min\": 1.0,\n        \"max\": 6.9,\n        \"num_unique_values\": 43,\n        \"samples\": [\n          6.7,\n          3.8,\n          3.7\n        ],\n        \"semantic_type\": \"\",\n        \"description\": \"\"\n      }\n    },\n    {\n      \"column\": \"petal width (cm)\",\n      \"properties\": {\n        \"dtype\": \"number\",\n        \"std\": 0.7622376689603465,\n        \"min\": 0.1,\n        \"max\": 2.5,\n        \"num_unique_values\": 22,\n        \"samples\": [\n          0.2,\n          1.2,\n          1.3\n        ],\n        \"semantic_type\": \"\",\n        \"description\": \"\"\n      }\n    },\n    {\n      \"column\": \"target\",\n      \"properties\": {\n        \"dtype\": \"number\",\n        \"std\": 0,\n        \"min\": 0,\n        \"max\": 2,\n        \"num_unique_values\": 3,\n        \"samples\": [\n          0,\n          1,\n          2\n        ],\n        \"semantic_type\": \"\",\n        \"description\": \"\"\n      }\n    }\n  ]\n}"
            }
          },
          "metadata": {},
          "execution_count": 3
        }
      ]
    },
    {
      "cell_type": "markdown",
      "source": [
        "## Define the Feature and Target Data"
      ],
      "metadata": {
        "id": "TgZZtFRcjg9f"
      }
    },
    {
      "cell_type": "code",
      "source": [
        "X = iris_df.drop('target', axis=1)\n",
        "\n",
        "X.head()"
      ],
      "metadata": {
        "id": "eJqJ9jLijlGl",
        "colab": {
          "base_uri": "https://localhost:8080/",
          "height": 206
        },
        "outputId": "cdc36439-7edb-4ad8-e0a4-bc72231c2c4c"
      },
      "execution_count": null,
      "outputs": [
        {
          "output_type": "execute_result",
          "data": {
            "text/plain": [
              "   sepal length (cm)  sepal width (cm)  petal length (cm)  petal width (cm)\n",
              "0                5.1               3.5                1.4               0.2\n",
              "1                4.9               3.0                1.4               0.2\n",
              "2                4.7               3.2                1.3               0.2\n",
              "3                4.6               3.1                1.5               0.2\n",
              "4                5.0               3.6                1.4               0.2"
            ],
            "text/html": [
              "\n",
              "  <div id=\"df-a5ed9d82-a2c5-49f5-8dfe-a2299eca4fc4\" class=\"colab-df-container\">\n",
              "    <div>\n",
              "<style scoped>\n",
              "    .dataframe tbody tr th:only-of-type {\n",
              "        vertical-align: middle;\n",
              "    }\n",
              "\n",
              "    .dataframe tbody tr th {\n",
              "        vertical-align: top;\n",
              "    }\n",
              "\n",
              "    .dataframe thead th {\n",
              "        text-align: right;\n",
              "    }\n",
              "</style>\n",
              "<table border=\"1\" class=\"dataframe\">\n",
              "  <thead>\n",
              "    <tr style=\"text-align: right;\">\n",
              "      <th></th>\n",
              "      <th>sepal length (cm)</th>\n",
              "      <th>sepal width (cm)</th>\n",
              "      <th>petal length (cm)</th>\n",
              "      <th>petal width (cm)</th>\n",
              "    </tr>\n",
              "  </thead>\n",
              "  <tbody>\n",
              "    <tr>\n",
              "      <th>0</th>\n",
              "      <td>5.1</td>\n",
              "      <td>3.5</td>\n",
              "      <td>1.4</td>\n",
              "      <td>0.2</td>\n",
              "    </tr>\n",
              "    <tr>\n",
              "      <th>1</th>\n",
              "      <td>4.9</td>\n",
              "      <td>3.0</td>\n",
              "      <td>1.4</td>\n",
              "      <td>0.2</td>\n",
              "    </tr>\n",
              "    <tr>\n",
              "      <th>2</th>\n",
              "      <td>4.7</td>\n",
              "      <td>3.2</td>\n",
              "      <td>1.3</td>\n",
              "      <td>0.2</td>\n",
              "    </tr>\n",
              "    <tr>\n",
              "      <th>3</th>\n",
              "      <td>4.6</td>\n",
              "      <td>3.1</td>\n",
              "      <td>1.5</td>\n",
              "      <td>0.2</td>\n",
              "    </tr>\n",
              "    <tr>\n",
              "      <th>4</th>\n",
              "      <td>5.0</td>\n",
              "      <td>3.6</td>\n",
              "      <td>1.4</td>\n",
              "      <td>0.2</td>\n",
              "    </tr>\n",
              "  </tbody>\n",
              "</table>\n",
              "</div>\n",
              "    <div class=\"colab-df-buttons\">\n",
              "\n",
              "  <div class=\"colab-df-container\">\n",
              "    <button class=\"colab-df-convert\" onclick=\"convertToInteractive('df-a5ed9d82-a2c5-49f5-8dfe-a2299eca4fc4')\"\n",
              "            title=\"Convert this dataframe to an interactive table.\"\n",
              "            style=\"display:none;\">\n",
              "\n",
              "  <svg xmlns=\"http://www.w3.org/2000/svg\" height=\"24px\" viewBox=\"0 -960 960 960\">\n",
              "    <path d=\"M120-120v-720h720v720H120Zm60-500h600v-160H180v160Zm220 220h160v-160H400v160Zm0 220h160v-160H400v160ZM180-400h160v-160H180v160Zm440 0h160v-160H620v160ZM180-180h160v-160H180v160Zm440 0h160v-160H620v160Z\"/>\n",
              "  </svg>\n",
              "    </button>\n",
              "\n",
              "  <style>\n",
              "    .colab-df-container {\n",
              "      display:flex;\n",
              "      gap: 12px;\n",
              "    }\n",
              "\n",
              "    .colab-df-convert {\n",
              "      background-color: #E8F0FE;\n",
              "      border: none;\n",
              "      border-radius: 50%;\n",
              "      cursor: pointer;\n",
              "      display: none;\n",
              "      fill: #1967D2;\n",
              "      height: 32px;\n",
              "      padding: 0 0 0 0;\n",
              "      width: 32px;\n",
              "    }\n",
              "\n",
              "    .colab-df-convert:hover {\n",
              "      background-color: #E2EBFA;\n",
              "      box-shadow: 0px 1px 2px rgba(60, 64, 67, 0.3), 0px 1px 3px 1px rgba(60, 64, 67, 0.15);\n",
              "      fill: #174EA6;\n",
              "    }\n",
              "\n",
              "    .colab-df-buttons div {\n",
              "      margin-bottom: 4px;\n",
              "    }\n",
              "\n",
              "    [theme=dark] .colab-df-convert {\n",
              "      background-color: #3B4455;\n",
              "      fill: #D2E3FC;\n",
              "    }\n",
              "\n",
              "    [theme=dark] .colab-df-convert:hover {\n",
              "      background-color: #434B5C;\n",
              "      box-shadow: 0px 1px 3px 1px rgba(0, 0, 0, 0.15);\n",
              "      filter: drop-shadow(0px 1px 2px rgba(0, 0, 0, 0.3));\n",
              "      fill: #FFFFFF;\n",
              "    }\n",
              "  </style>\n",
              "\n",
              "    <script>\n",
              "      const buttonEl =\n",
              "        document.querySelector('#df-a5ed9d82-a2c5-49f5-8dfe-a2299eca4fc4 button.colab-df-convert');\n",
              "      buttonEl.style.display =\n",
              "        google.colab.kernel.accessAllowed ? 'block' : 'none';\n",
              "\n",
              "      async function convertToInteractive(key) {\n",
              "        const element = document.querySelector('#df-a5ed9d82-a2c5-49f5-8dfe-a2299eca4fc4');\n",
              "        const dataTable =\n",
              "          await google.colab.kernel.invokeFunction('convertToInteractive',\n",
              "                                                    [key], {});\n",
              "        if (!dataTable) return;\n",
              "\n",
              "        const docLinkHtml = 'Like what you see? Visit the ' +\n",
              "          '<a target=\"_blank\" href=https://colab.research.google.com/notebooks/data_table.ipynb>data table notebook</a>'\n",
              "          + ' to learn more about interactive tables.';\n",
              "        element.innerHTML = '';\n",
              "        dataTable['output_type'] = 'display_data';\n",
              "        await google.colab.output.renderOutput(dataTable, element);\n",
              "        const docLink = document.createElement('div');\n",
              "        docLink.innerHTML = docLinkHtml;\n",
              "        element.appendChild(docLink);\n",
              "      }\n",
              "    </script>\n",
              "  </div>\n",
              "\n",
              "\n",
              "<div id=\"df-ad74797b-7c29-484e-92d6-8f7d4bbf21f3\">\n",
              "  <button class=\"colab-df-quickchart\" onclick=\"quickchart('df-ad74797b-7c29-484e-92d6-8f7d4bbf21f3')\"\n",
              "            title=\"Suggest charts\"\n",
              "            style=\"display:none;\">\n",
              "\n",
              "<svg xmlns=\"http://www.w3.org/2000/svg\" height=\"24px\"viewBox=\"0 0 24 24\"\n",
              "     width=\"24px\">\n",
              "    <g>\n",
              "        <path d=\"M19 3H5c-1.1 0-2 .9-2 2v14c0 1.1.9 2 2 2h14c1.1 0 2-.9 2-2V5c0-1.1-.9-2-2-2zM9 17H7v-7h2v7zm4 0h-2V7h2v10zm4 0h-2v-4h2v4z\"/>\n",
              "    </g>\n",
              "</svg>\n",
              "  </button>\n",
              "\n",
              "<style>\n",
              "  .colab-df-quickchart {\n",
              "      --bg-color: #E8F0FE;\n",
              "      --fill-color: #1967D2;\n",
              "      --hover-bg-color: #E2EBFA;\n",
              "      --hover-fill-color: #174EA6;\n",
              "      --disabled-fill-color: #AAA;\n",
              "      --disabled-bg-color: #DDD;\n",
              "  }\n",
              "\n",
              "  [theme=dark] .colab-df-quickchart {\n",
              "      --bg-color: #3B4455;\n",
              "      --fill-color: #D2E3FC;\n",
              "      --hover-bg-color: #434B5C;\n",
              "      --hover-fill-color: #FFFFFF;\n",
              "      --disabled-bg-color: #3B4455;\n",
              "      --disabled-fill-color: #666;\n",
              "  }\n",
              "\n",
              "  .colab-df-quickchart {\n",
              "    background-color: var(--bg-color);\n",
              "    border: none;\n",
              "    border-radius: 50%;\n",
              "    cursor: pointer;\n",
              "    display: none;\n",
              "    fill: var(--fill-color);\n",
              "    height: 32px;\n",
              "    padding: 0;\n",
              "    width: 32px;\n",
              "  }\n",
              "\n",
              "  .colab-df-quickchart:hover {\n",
              "    background-color: var(--hover-bg-color);\n",
              "    box-shadow: 0 1px 2px rgba(60, 64, 67, 0.3), 0 1px 3px 1px rgba(60, 64, 67, 0.15);\n",
              "    fill: var(--button-hover-fill-color);\n",
              "  }\n",
              "\n",
              "  .colab-df-quickchart-complete:disabled,\n",
              "  .colab-df-quickchart-complete:disabled:hover {\n",
              "    background-color: var(--disabled-bg-color);\n",
              "    fill: var(--disabled-fill-color);\n",
              "    box-shadow: none;\n",
              "  }\n",
              "\n",
              "  .colab-df-spinner {\n",
              "    border: 2px solid var(--fill-color);\n",
              "    border-color: transparent;\n",
              "    border-bottom-color: var(--fill-color);\n",
              "    animation:\n",
              "      spin 1s steps(1) infinite;\n",
              "  }\n",
              "\n",
              "  @keyframes spin {\n",
              "    0% {\n",
              "      border-color: transparent;\n",
              "      border-bottom-color: var(--fill-color);\n",
              "      border-left-color: var(--fill-color);\n",
              "    }\n",
              "    20% {\n",
              "      border-color: transparent;\n",
              "      border-left-color: var(--fill-color);\n",
              "      border-top-color: var(--fill-color);\n",
              "    }\n",
              "    30% {\n",
              "      border-color: transparent;\n",
              "      border-left-color: var(--fill-color);\n",
              "      border-top-color: var(--fill-color);\n",
              "      border-right-color: var(--fill-color);\n",
              "    }\n",
              "    40% {\n",
              "      border-color: transparent;\n",
              "      border-right-color: var(--fill-color);\n",
              "      border-top-color: var(--fill-color);\n",
              "    }\n",
              "    60% {\n",
              "      border-color: transparent;\n",
              "      border-right-color: var(--fill-color);\n",
              "    }\n",
              "    80% {\n",
              "      border-color: transparent;\n",
              "      border-right-color: var(--fill-color);\n",
              "      border-bottom-color: var(--fill-color);\n",
              "    }\n",
              "    90% {\n",
              "      border-color: transparent;\n",
              "      border-bottom-color: var(--fill-color);\n",
              "    }\n",
              "  }\n",
              "</style>\n",
              "\n",
              "  <script>\n",
              "    async function quickchart(key) {\n",
              "      const quickchartButtonEl =\n",
              "        document.querySelector('#' + key + ' button');\n",
              "      quickchartButtonEl.disabled = true;  // To prevent multiple clicks.\n",
              "      quickchartButtonEl.classList.add('colab-df-spinner');\n",
              "      try {\n",
              "        const charts = await google.colab.kernel.invokeFunction(\n",
              "            'suggestCharts', [key], {});\n",
              "      } catch (error) {\n",
              "        console.error('Error during call to suggestCharts:', error);\n",
              "      }\n",
              "      quickchartButtonEl.classList.remove('colab-df-spinner');\n",
              "      quickchartButtonEl.classList.add('colab-df-quickchart-complete');\n",
              "    }\n",
              "    (() => {\n",
              "      let quickchartButtonEl =\n",
              "        document.querySelector('#df-ad74797b-7c29-484e-92d6-8f7d4bbf21f3 button');\n",
              "      quickchartButtonEl.style.display =\n",
              "        google.colab.kernel.accessAllowed ? 'block' : 'none';\n",
              "    })();\n",
              "  </script>\n",
              "</div>\n",
              "    </div>\n",
              "  </div>\n"
            ],
            "application/vnd.google.colaboratory.intrinsic+json": {
              "type": "dataframe",
              "variable_name": "X",
              "summary": "{\n  \"name\": \"X\",\n  \"rows\": 150,\n  \"fields\": [\n    {\n      \"column\": \"sepal length (cm)\",\n      \"properties\": {\n        \"dtype\": \"number\",\n        \"std\": 0.828066127977863,\n        \"min\": 4.3,\n        \"max\": 7.9,\n        \"num_unique_values\": 35,\n        \"samples\": [\n          6.2,\n          4.5,\n          5.6\n        ],\n        \"semantic_type\": \"\",\n        \"description\": \"\"\n      }\n    },\n    {\n      \"column\": \"sepal width (cm)\",\n      \"properties\": {\n        \"dtype\": \"number\",\n        \"std\": 0.4358662849366982,\n        \"min\": 2.0,\n        \"max\": 4.4,\n        \"num_unique_values\": 23,\n        \"samples\": [\n          2.3,\n          4.0,\n          3.5\n        ],\n        \"semantic_type\": \"\",\n        \"description\": \"\"\n      }\n    },\n    {\n      \"column\": \"petal length (cm)\",\n      \"properties\": {\n        \"dtype\": \"number\",\n        \"std\": 1.7652982332594662,\n        \"min\": 1.0,\n        \"max\": 6.9,\n        \"num_unique_values\": 43,\n        \"samples\": [\n          6.7,\n          3.8,\n          3.7\n        ],\n        \"semantic_type\": \"\",\n        \"description\": \"\"\n      }\n    },\n    {\n      \"column\": \"petal width (cm)\",\n      \"properties\": {\n        \"dtype\": \"number\",\n        \"std\": 0.7622376689603465,\n        \"min\": 0.1,\n        \"max\": 2.5,\n        \"num_unique_values\": 22,\n        \"samples\": [\n          0.2,\n          1.2,\n          1.3\n        ],\n        \"semantic_type\": \"\",\n        \"description\": \"\"\n      }\n    }\n  ]\n}"
            }
          },
          "metadata": {},
          "execution_count": 4
        }
      ]
    },
    {
      "cell_type": "code",
      "source": [
        "y = iris_df['target']\n",
        "\n",
        "y.head()"
      ],
      "metadata": {
        "id": "qy6caWcHj6aj",
        "colab": {
          "base_uri": "https://localhost:8080/"
        },
        "outputId": "127d8ce2-6be6-4dde-f88b-56415493c275"
      },
      "execution_count": null,
      "outputs": [
        {
          "output_type": "execute_result",
          "data": {
            "text/plain": [
              "0    0\n",
              "1    0\n",
              "2    0\n",
              "3    0\n",
              "4    0\n",
              "Name: target, dtype: int64"
            ]
          },
          "metadata": {},
          "execution_count": 5
        }
      ]
    },
    {
      "cell_type": "markdown",
      "source": [
        "---\n",
        "# End of Video 1\n",
        "\n",
        "---"
      ],
      "metadata": {
        "id": "IwEthK8CkT3N"
      }
    },
    {
      "cell_type": "markdown",
      "source": [
        "# Train/Test Split Procedure\n",
        "\n",
        "The following outlines the steps involved in splitting a dataset into training and testing data. Some steps, such as step 0., are there to remind us of the data prep that must be done prior to fitting models. We will skip this step in some tutorials because data prep will be covered in depth in other lessons.\n",
        "\n",
        "0. Clean and adjust data as necessary for X and y\n",
        "1. Import Libraries\n",
        "2. Split Data in Train/Test for both X and y\n",
        "3. Fit/Train Scaler on Training X Data\n",
        "4. Scale X Test Data\n",
        "5. Create Model\n",
        "6. Fit/Train Model on X Train Data\n",
        "7. Evaluate Model on X Test Data (by creating predictions and comparing to Y_test)\n",
        "8. Adjust Parameters as Necessary and repeat steps 5 and 6\n",
        "\n",
        "---"
      ],
      "metadata": {
        "id": "ysV-BA68kdMi"
      }
    },
    {
      "cell_type": "markdown",
      "source": [
        "## Step 1: Import Libraries\n",
        "Note: in many data mining projects this will be a standard import at the beginning of a notebook but for this introductory lesson we have it here for demonstration purposes."
      ],
      "metadata": {
        "id": "ndXuiFALloPU"
      }
    },
    {
      "cell_type": "code",
      "source": [
        "from sklearn.model_selection import train_test_split"
      ],
      "metadata": {
        "id": "J7mkRKrmlSQy"
      },
      "execution_count": null,
      "outputs": []
    },
    {
      "cell_type": "markdown",
      "source": [
        "## Step 2: Split Data in Train/Test for both X and y"
      ],
      "metadata": {
        "id": "gwegkUVQl6vJ"
      }
    },
    {
      "cell_type": "code",
      "source": [
        "X_train, X_test, y_train, y_test = train_test_split(X, y, test_size= .4, random_state = 0)"
      ],
      "metadata": {
        "id": "qZRbcKfDl_Qv"
      },
      "execution_count": null,
      "outputs": []
    },
    {
      "cell_type": "markdown",
      "source": [
        "Let's examine our split up data:\n",
        "\n",
        ">- With the parameter `test_size = .4` we are stating that we want 40% of the data to be in the testing set.\n",
        ">>- So, .4 * 150 (the total records) = 60 records we should expect in the testing data sets.\n",
        "\n",
        ">- We are setting the `random_state=0` parameter so we all can get reproducible results."
      ],
      "metadata": {
        "id": "3jTOYSyBmPMD"
      }
    },
    {
      "cell_type": "code",
      "source": [
        "X_train.shape, X_test.shape"
      ],
      "metadata": {
        "id": "pMuHpc8VmI_-",
        "colab": {
          "base_uri": "https://localhost:8080/"
        },
        "outputId": "9e94b5d6-1cd0-4d84-e096-1e2fdd4ed9e6"
      },
      "execution_count": null,
      "outputs": [
        {
          "output_type": "execute_result",
          "data": {
            "text/plain": [
              "((90, 4), (60, 4))"
            ]
          },
          "metadata": {},
          "execution_count": 8
        }
      ]
    },
    {
      "cell_type": "code",
      "source": [
        "y_train.shape, y_test.shape"
      ],
      "metadata": {
        "id": "D_q7BrdEmUr_",
        "colab": {
          "base_uri": "https://localhost:8080/"
        },
        "outputId": "2297e008-1249-4c8f-b521-b320c0df659b"
      },
      "execution_count": null,
      "outputs": [
        {
          "output_type": "execute_result",
          "data": {
            "text/plain": [
              "((90,), (60,))"
            ]
          },
          "metadata": {},
          "execution_count": 9
        }
      ]
    },
    {
      "cell_type": "markdown",
      "source": [
        "## Step 3: Fit/Train Scaler on Training Data\n",
        "\n",
        ">- Note: its often best practice to scale our data so we will practice that in this first example. Later we may skip this step so we can move through some examples quicker but just keep in mind that scaling is something we usually do.\n"
      ],
      "metadata": {
        "id": "viD54Y4InLxQ"
      }
    },
    {
      "cell_type": "code",
      "source": [
        "from sklearn.preprocessing import StandardScaler\n",
        "\n",
        "scaler = StandardScaler()\n",
        "\n",
        "scaler.fit(X_train)\n",
        "\n",
        "X_train = scaler.transform(X_train)\n",
        "\n",
        "X_train[:5]"
      ],
      "metadata": {
        "id": "AZSjrxGWnslJ",
        "colab": {
          "base_uri": "https://localhost:8080/"
        },
        "outputId": "ee650a8e-09f6-4d8b-a9cd-4eae247fbaf0"
      },
      "execution_count": null,
      "outputs": [
        {
          "output_type": "execute_result",
          "data": {
            "text/plain": [
              "array([[ 0.18206758,  0.71103882,  0.45664061,  0.55799544],\n",
              "       [-1.17402201,  0.00522823, -1.10334891, -1.19530695],\n",
              "       [-0.04394735, -0.93585257,  0.77939706,  0.9337031 ],\n",
              "       [-0.26996228, -0.93585257,  0.29526238,  0.18228779],\n",
              "       [-0.26996228, -0.46531217, -0.02749407,  0.18228779]])"
            ]
          },
          "metadata": {},
          "execution_count": 10
        }
      ]
    },
    {
      "cell_type": "markdown",
      "source": [
        "## Step 4: Scale Test Data"
      ],
      "metadata": {
        "id": "P-ybWFhfoP4Y"
      }
    },
    {
      "cell_type": "code",
      "source": [
        "X_test = scaler.transform(X_test)"
      ],
      "metadata": {
        "id": "mlO8VIHVodeF"
      },
      "execution_count": null,
      "outputs": []
    },
    {
      "cell_type": "markdown",
      "source": [
        "## Step 5: Create the Model\n",
        "\n",
        "In this example, we are going to fit a support vector machine to the data. You could also fit any other classification model to this data as well."
      ],
      "metadata": {
        "id": "jP-RaOtEopd1"
      }
    },
    {
      "cell_type": "code",
      "source": [
        "from sklearn.svm import SVC\n",
        "\n",
        "svc_model = SVC(kernel='linear', C = .1)"
      ],
      "metadata": {
        "id": "hPc99Y0No0ni"
      },
      "execution_count": null,
      "outputs": []
    },
    {
      "cell_type": "markdown",
      "source": [
        "## Step 6: Fit/Train Model on Training Data"
      ],
      "metadata": {
        "id": "Q1BNrpe0pbMj"
      }
    },
    {
      "cell_type": "code",
      "source": [
        "svc_model.fit(X_train, y_train)"
      ],
      "metadata": {
        "colab": {
          "base_uri": "https://localhost:8080/",
          "height": 75
        },
        "id": "QL8AD-GVsWvd",
        "outputId": "51b74493-1776-49e2-b130-087413edb7cb"
      },
      "execution_count": null,
      "outputs": [
        {
          "output_type": "execute_result",
          "data": {
            "text/plain": [
              "SVC(C=0.1, kernel='linear')"
            ],
            "text/html": [
              "<style>#sk-container-id-1 {color: black;background-color: white;}#sk-container-id-1 pre{padding: 0;}#sk-container-id-1 div.sk-toggleable {background-color: white;}#sk-container-id-1 label.sk-toggleable__label {cursor: pointer;display: block;width: 100%;margin-bottom: 0;padding: 0.3em;box-sizing: border-box;text-align: center;}#sk-container-id-1 label.sk-toggleable__label-arrow:before {content: \"▸\";float: left;margin-right: 0.25em;color: #696969;}#sk-container-id-1 label.sk-toggleable__label-arrow:hover:before {color: black;}#sk-container-id-1 div.sk-estimator:hover label.sk-toggleable__label-arrow:before {color: black;}#sk-container-id-1 div.sk-toggleable__content {max-height: 0;max-width: 0;overflow: hidden;text-align: left;background-color: #f0f8ff;}#sk-container-id-1 div.sk-toggleable__content pre {margin: 0.2em;color: black;border-radius: 0.25em;background-color: #f0f8ff;}#sk-container-id-1 input.sk-toggleable__control:checked~div.sk-toggleable__content {max-height: 200px;max-width: 100%;overflow: auto;}#sk-container-id-1 input.sk-toggleable__control:checked~label.sk-toggleable__label-arrow:before {content: \"▾\";}#sk-container-id-1 div.sk-estimator input.sk-toggleable__control:checked~label.sk-toggleable__label {background-color: #d4ebff;}#sk-container-id-1 div.sk-label input.sk-toggleable__control:checked~label.sk-toggleable__label {background-color: #d4ebff;}#sk-container-id-1 input.sk-hidden--visually {border: 0;clip: rect(1px 1px 1px 1px);clip: rect(1px, 1px, 1px, 1px);height: 1px;margin: -1px;overflow: hidden;padding: 0;position: absolute;width: 1px;}#sk-container-id-1 div.sk-estimator {font-family: monospace;background-color: #f0f8ff;border: 1px dotted black;border-radius: 0.25em;box-sizing: border-box;margin-bottom: 0.5em;}#sk-container-id-1 div.sk-estimator:hover {background-color: #d4ebff;}#sk-container-id-1 div.sk-parallel-item::after {content: \"\";width: 100%;border-bottom: 1px solid gray;flex-grow: 1;}#sk-container-id-1 div.sk-label:hover label.sk-toggleable__label {background-color: #d4ebff;}#sk-container-id-1 div.sk-serial::before {content: \"\";position: absolute;border-left: 1px solid gray;box-sizing: border-box;top: 0;bottom: 0;left: 50%;z-index: 0;}#sk-container-id-1 div.sk-serial {display: flex;flex-direction: column;align-items: center;background-color: white;padding-right: 0.2em;padding-left: 0.2em;position: relative;}#sk-container-id-1 div.sk-item {position: relative;z-index: 1;}#sk-container-id-1 div.sk-parallel {display: flex;align-items: stretch;justify-content: center;background-color: white;position: relative;}#sk-container-id-1 div.sk-item::before, #sk-container-id-1 div.sk-parallel-item::before {content: \"\";position: absolute;border-left: 1px solid gray;box-sizing: border-box;top: 0;bottom: 0;left: 50%;z-index: -1;}#sk-container-id-1 div.sk-parallel-item {display: flex;flex-direction: column;z-index: 1;position: relative;background-color: white;}#sk-container-id-1 div.sk-parallel-item:first-child::after {align-self: flex-end;width: 50%;}#sk-container-id-1 div.sk-parallel-item:last-child::after {align-self: flex-start;width: 50%;}#sk-container-id-1 div.sk-parallel-item:only-child::after {width: 0;}#sk-container-id-1 div.sk-dashed-wrapped {border: 1px dashed gray;margin: 0 0.4em 0.5em 0.4em;box-sizing: border-box;padding-bottom: 0.4em;background-color: white;}#sk-container-id-1 div.sk-label label {font-family: monospace;font-weight: bold;display: inline-block;line-height: 1.2em;}#sk-container-id-1 div.sk-label-container {text-align: center;}#sk-container-id-1 div.sk-container {/* jupyter's `normalize.less` sets `[hidden] { display: none; }` but bootstrap.min.css set `[hidden] { display: none !important; }` so we also need the `!important` here to be able to override the default hidden behavior on the sphinx rendered scikit-learn.org. See: https://github.com/scikit-learn/scikit-learn/issues/21755 */display: inline-block !important;position: relative;}#sk-container-id-1 div.sk-text-repr-fallback {display: none;}</style><div id=\"sk-container-id-1\" class=\"sk-top-container\"><div class=\"sk-text-repr-fallback\"><pre>SVC(C=0.1, kernel=&#x27;linear&#x27;)</pre><b>In a Jupyter environment, please rerun this cell to show the HTML representation or trust the notebook. <br />On GitHub, the HTML representation is unable to render, please try loading this page with nbviewer.org.</b></div><div class=\"sk-container\" hidden><div class=\"sk-item\"><div class=\"sk-estimator sk-toggleable\"><input class=\"sk-toggleable__control sk-hidden--visually\" id=\"sk-estimator-id-1\" type=\"checkbox\" checked><label for=\"sk-estimator-id-1\" class=\"sk-toggleable__label sk-toggleable__label-arrow\">SVC</label><div class=\"sk-toggleable__content\"><pre>SVC(C=0.1, kernel=&#x27;linear&#x27;)</pre></div></div></div></div></div>"
            ]
          },
          "metadata": {},
          "execution_count": 13
        }
      ]
    },
    {
      "cell_type": "code",
      "source": [],
      "metadata": {
        "id": "VL7nphBrpg3W"
      },
      "execution_count": null,
      "outputs": []
    },
    {
      "cell_type": "markdown",
      "source": [
        "## Step 7: Evaluate Model on X_test data\n",
        "\n",
        "For this example, we are just going to look at overall model accuracy (the default) using the `score()` method.\n",
        "\n",
        ">- In future lessons, we will cover other evaluation metrics for both regression and classification problems."
      ],
      "metadata": {
        "id": "gC7r-tDQpnDa"
      }
    },
    {
      "cell_type": "code",
      "source": [
        "svc_model.score(X_test, y_test)"
      ],
      "metadata": {
        "id": "4alrwxgsprrO",
        "colab": {
          "base_uri": "https://localhost:8080/"
        },
        "outputId": "441bd86a-0880-4d19-f0b7-b58d06139208"
      },
      "execution_count": null,
      "outputs": [
        {
          "output_type": "execute_result",
          "data": {
            "text/plain": [
              "0.9166666666666666"
            ]
          },
          "metadata": {},
          "execution_count": 14
        }
      ]
    },
    {
      "cell_type": "markdown",
      "source": [
        "## Step 8: Adjust parameters as necessary and repeat steps 5-7\n",
        "\n",
        ">- We picked a small C value initially, let's see if picking a larger one improves the model accuracy."
      ],
      "metadata": {
        "id": "NnCoe1ckqp3I"
      }
    },
    {
      "cell_type": "code",
      "source": [
        "from sklearn.svm import SVC\n",
        "\n",
        "svc_model = SVC(kernel='linear', C = 1000)\n",
        "\n",
        "svc_model.fit(X_train, y_train)\n",
        "\n",
        "svc_model.score(X_test, y_test)"
      ],
      "metadata": {
        "id": "7--K0WxDsJ61",
        "colab": {
          "base_uri": "https://localhost:8080/"
        },
        "outputId": "12b613cb-bbc1-4ee9-819d-942b6d30ea1c"
      },
      "execution_count": null,
      "outputs": [
        {
          "output_type": "execute_result",
          "data": {
            "text/plain": [
              "0.95"
            ]
          },
          "metadata": {},
          "execution_count": 15
        }
      ]
    },
    {
      "cell_type": "markdown",
      "source": [
        "Ok, we improved our model with a higher C value! However, this methodology of adjusting parameters using the training and testing sets is flawed so we will pick up in the next lesson on how we can improve on this."
      ],
      "metadata": {
        "id": "VAEabHk43rDH"
      }
    },
    {
      "cell_type": "markdown",
      "source": [
        "---\n",
        "# End of Video 2\n",
        "\n",
        "---"
      ],
      "metadata": {
        "id": "-hawTn0fq2Lp"
      }
    },
    {
      "cell_type": "markdown",
      "source": [
        "# Holdout Testing and Cross Validation\n",
        "\n",
        ">- We left off the prior video with an example of trying to mannually adjust the `C` parameter until we were satisfied with the accuracy reported\n",
        ">- However, training a model this way can lead to what is known as model \"leakage\" which means our model evaluation metrics no longer are reporting on generalization performance\n",
        ">- What we want to be able to do, is confidently give evaluation metrics that will generalize to future data\n",
        "\n",
        "In the next few examples we will show a procedure to create another split on the data to create what is known as a `holdout` dataset. This data will never be seen by the model in training and therefore will serve as a better evaluation of our model performance.\n",
        "\n",
        "---"
      ],
      "metadata": {
        "id": "3Yj-gopcq5Uq"
      }
    },
    {
      "cell_type": "markdown",
      "source": [
        "# Holdout Testing\n",
        "\n",
        "Because adjusting models and evaluating performance should never be done on the same testing and training data, let's create a new split of the data that the model will never see in training.\n",
        "\n",
        ">- For sake of clarity and a reminder of what we are working wiht, we are going to redefine our data for this process"
      ],
      "metadata": {
        "id": "ctCZKFgBu-HP"
      }
    },
    {
      "cell_type": "code",
      "source": [
        "X = iris_df.drop('target', axis=1)\n",
        "\n",
        "y = iris_df['target']"
      ],
      "metadata": {
        "id": "RXO2oNtKvAT5"
      },
      "execution_count": null,
      "outputs": []
    },
    {
      "cell_type": "markdown",
      "source": [
        "### First, create the training and test sets as usual\n"
      ],
      "metadata": {
        "id": "rM04Rv88vu-M"
      }
    },
    {
      "cell_type": "code",
      "source": [
        "from sklearn.model_selection import train_test_split\n",
        "\n",
        "X_train, X_test, y_train, y_test = train_test_split(X, y, test_size= .4, random_state = 0)\n",
        "\n",
        "X_test.shape, y_test.shape"
      ],
      "metadata": {
        "id": "S-L16x6vwN2K",
        "colab": {
          "base_uri": "https://localhost:8080/"
        },
        "outputId": "9e282efc-8b45-41e7-a6dc-1a6640e9bce1"
      },
      "execution_count": null,
      "outputs": [
        {
          "output_type": "execute_result",
          "data": {
            "text/plain": [
              "((60, 4), (60,))"
            ]
          },
          "metadata": {},
          "execution_count": 17
        }
      ]
    },
    {
      "cell_type": "markdown",
      "source": [
        "### Now, create a holdout set based on the test data\n",
        "\n",
        ">- Here, we will be using `train_test_split` again but only on the the test data defined in the prior cell. This will create our final holdout test set for model evaluation.\n",
        ">- We will use the `_eval` data to test parameters and make other model adjustments until satisfied\n",
        ">- Then we will use the `_holdout` data to perform our final model evaluations which should be more generalizable\n",
        "\n",
        "---\n",
        "\n",
        "Here, we will set `test_size` = .5 which will take 50% of the test data we defined in the previous cell.\n",
        ">- So we will get 60 * .5 = 30 rows for our holdout data"
      ],
      "metadata": {
        "id": "DQzzMtP7weE8"
      }
    },
    {
      "cell_type": "code",
      "source": [
        "X_eval, X_holdout, y_eval, y_holdout = train_test_split(X_test, y_test, test_size= .5, random_state = 0)"
      ],
      "metadata": {
        "id": "j0j-yK8Swdo0"
      },
      "execution_count": null,
      "outputs": []
    },
    {
      "cell_type": "code",
      "source": [
        "X_eval.shape, y_eval.shape"
      ],
      "metadata": {
        "id": "td8h2NXvw9AK",
        "colab": {
          "base_uri": "https://localhost:8080/"
        },
        "outputId": "4919841e-6d61-4380-ce43-ef6e1c74f604"
      },
      "execution_count": null,
      "outputs": [
        {
          "output_type": "execute_result",
          "data": {
            "text/plain": [
              "((30, 4), (30,))"
            ]
          },
          "metadata": {},
          "execution_count": 19
        }
      ]
    },
    {
      "cell_type": "markdown",
      "source": [
        "### Back to Steps 5-8\n",
        ">- Note: We will skip the scaling in this example but you could go back and try it later to see if it makes a difference\n",
        ">- In this example we go back through building the model and testing some hyperparameters\n",
        ">- What is different here is that now once we are satisfied with our parameters, we will do a final evaluation on the holdout data.\n",
        "\n",
        "We will test the following values for C:\n",
        ">- .1, 1, 10, 100, 1000\n",
        ">- We will run these all in the same cell and the jot down the notes in the markdown cell below this code cell"
      ],
      "metadata": {
        "id": "OLdkIiPayGIV"
      }
    },
    {
      "cell_type": "code",
      "source": [
        "from sklearn.svm import SVC\n",
        "\n",
        "svc_model = SVC(kernel='linear', C = 1000)\n",
        "\n",
        "svc_model.fit(X_train, y_train)\n",
        "\n",
        "svc_model.score(X_eval, y_eval)"
      ],
      "metadata": {
        "id": "3a3eS9u-yVoL",
        "colab": {
          "base_uri": "https://localhost:8080/"
        },
        "outputId": "a4ab11f6-9fe8-4a4f-8c62-d18b7f0df253"
      },
      "execution_count": null,
      "outputs": [
        {
          "output_type": "execute_result",
          "data": {
            "text/plain": [
              "0.9333333333333333"
            ]
          },
          "metadata": {},
          "execution_count": 20
        }
      ]
    },
    {
      "cell_type": "markdown",
      "source": [
        "## Evaluation Summary\n",
        "\n",
        "Here was the accuracy of our model based on the various values of C:\n",
        "\n",
        "| C value \t| Accuracy \t|\n",
        "|---------\t|----------\t|\n",
        "| .1      \t| 90%      \t|\n",
        "| 1       \t| 93%      \t|\n",
        "| 10      \t| 87%      \t|\n",
        "| 100     \t| 93%      \t|\n",
        "| 1000    \t| 93%      \t|\n",
        "\n",
        "\n",
        "Even though we had some ties for \"best\" parameter, let's use C=1.\n",
        "\n",
        ">- Note: Once we pick the parameters based on the `_eval` data, we cannot go back and adjust them after seeing results on the holdout set.\n",
        ">- If you do this, you will be creating the same problem we had prior to using the holdout data and creating model/data leakage\n"
      ],
      "metadata": {
        "id": "hDt1SWRGzoxM"
      }
    },
    {
      "cell_type": "markdown",
      "source": [
        "Final evaluation on holdout data."
      ],
      "metadata": {
        "id": "IQnEk-4n10hJ"
      }
    },
    {
      "cell_type": "code",
      "source": [
        "svc_model.score(X_holdout, y_holdout)"
      ],
      "metadata": {
        "id": "6xPxRnUO0VUY",
        "colab": {
          "base_uri": "https://localhost:8080/"
        },
        "outputId": "3698e34b-94a2-4df7-a3db-c68f2867e84b"
      },
      "execution_count": null,
      "outputs": [
        {
          "output_type": "execute_result",
          "data": {
            "text/plain": [
              "1.0"
            ]
          },
          "metadata": {},
          "execution_count": 21
        }
      ]
    },
    {
      "cell_type": "markdown",
      "source": [
        "## Should we trust these numbers?\n",
        "\n",
        "Wow, we got 100% accuracy on the holdout testing data with a C=1. However, anytime a model produces 100% accuracy we should be very suspicious. Here's some reasons why we might want to pump the breaks on this evaluation:\n",
        "\n",
        ">- We are dealing with a small dataset. The iris dataset only has 150 total records\n",
        ">- When we split this data up twice it left us with some really small training, evaluation, and holdout datasets\n",
        ">- It is likely that our randomly selected holdout data just happened to be data our model could predict perfectly\n",
        "\n",
        "\n",
        "Because we have this potential issue that the one, randomly selected, holdout dataset could lead to misleading assumptions of our model's accuracy, `Cross Validation` is often used to calculate many different training and testing/holdout datasets.\n",
        "\n",
        "We will go over `Cross Validation` in the next section.\n",
        "\n",
        "---"
      ],
      "metadata": {
        "id": "UUa4dMkU7hTT"
      }
    },
    {
      "cell_type": "markdown",
      "source": [
        "---\n",
        "# End of Video 3\n",
        "\n",
        "---"
      ],
      "metadata": {
        "id": "9x_Q-kVLDcr_"
      }
    },
    {
      "cell_type": "markdown",
      "source": [
        "# Cross-Validation in `scikit-learn`\n",
        "\n",
        "## Resources\n",
        ">- [Cross-validation scikit-learn doc](https://scikit-learn.org/stable/modules/cross_validation.html)\n",
        ">- [Metrics and Scoring scikit-learn doc](https://scikit-learn.org/stable/modules/model_evaluation.html)\n",
        "\n",
        "---\n",
        "## Cross Validation Flow Chart\n",
        "[Cross_Validation Flow Chart](https://drive.google.com/file/d/11uVrnIIebuCNsQaq1aQFtUETHMwpQ63q/view?usp=sharing)\n",
        "\n",
        "![grid_search_workflow.png](https://drive.google.com/uc?id=11uVrnIIebuCNsQaq1aQFtUETHMwpQ63q)\n",
        "\n",
        "\n"
      ],
      "metadata": {
        "id": "Enn1fwoFjFqG"
      }
    },
    {
      "cell_type": "markdown",
      "source": [
        "Let's bring our data definitions down to this section as we start our discussion on cross-validation."
      ],
      "metadata": {
        "id": "pOWRAS7dppMj"
      }
    },
    {
      "cell_type": "code",
      "source": [
        "X = iris_df.drop('target', axis=1)\n",
        "\n",
        "y = iris_df['target']"
      ],
      "metadata": {
        "id": "Raibcllvpvf0"
      },
      "execution_count": null,
      "outputs": []
    },
    {
      "cell_type": "markdown",
      "source": [
        "Now, we train, test, split as usual."
      ],
      "metadata": {
        "id": "nxdlEG0Yp2mc"
      }
    },
    {
      "cell_type": "code",
      "source": [
        "from sklearn.model_selection import train_test_split\n",
        "\n",
        "X_train, X_test, y_train, y_test = train_test_split(X, y, test_size= .4, random_state = 0)\n",
        "\n",
        "X_test.shape, y_test.shape"
      ],
      "metadata": {
        "id": "zOBxSQaWFHjO",
        "colab": {
          "base_uri": "https://localhost:8080/"
        },
        "outputId": "7effe2f1-fa84-4af9-aaff-b4ce1d2ceff1"
      },
      "execution_count": null,
      "outputs": [
        {
          "output_type": "execute_result",
          "data": {
            "text/plain": [
              "((60, 4), (60,))"
            ]
          },
          "metadata": {},
          "execution_count": 23
        }
      ]
    },
    {
      "cell_type": "markdown",
      "source": [
        "---\n",
        "\n",
        "## `cross_val_score`\n",
        "\n",
        "`cross_val_score` is a common method used to perform a cross-validation in `scikit-learn`. Here are some notes on `cross_val_score`:\n",
        "\n",
        "\n",
        "### Import statement\n",
        "```\n",
        "from sklearn.model_selection import cross_val_score\n",
        "```\n",
        "\n",
        "### Common parameters\n",
        ">- `estimator`: the name of your model\n",
        ">- `X`: the data to fit. This will usually be our X_train\n",
        ">- `y`: the target to predict. This will usually by our y_train\n",
        ">- `scoring`: this is how you want to evaluate your model\n",
        ">>- Common options for classification: accuracy, f1, precision, recall\n",
        ">>- Common options for regression: explained_variance, neg_mean_absolute_error, neg_mean_squared_error, r2\n",
        ">>- See documentation for more options\n",
        ">- `cv`: this is usually an integer indicating how many folds we want\n",
        ">>- default is 5-folds but we will change this occasionally\n",
        "\n",
        "---"
      ],
      "metadata": {
        "id": "PWbCkLxlqHtt"
      }
    },
    {
      "cell_type": "markdown",
      "source": [
        "Now, lets practice using `cross_val_score`.\n",
        "\n",
        ">- In this example we are going to start off with a `C` value and then make adjustments similar to our holdout testing example.\n",
        ">- However, with cross validation, we don't have to worry about splitting the test set up multiple times because the cross validation takes care of this for us.\n",
        ">- Our `X_test` and `y_test` datasets are the final holdout datasets when using `cross_val_score`"
      ],
      "metadata": {
        "id": "e_L90wJLtbCf"
      }
    },
    {
      "cell_type": "markdown",
      "source": [
        "Imports"
      ],
      "metadata": {
        "id": "cPlm-9SruJoR"
      }
    },
    {
      "cell_type": "code",
      "source": [
        "from sklearn.model_selection import cross_val_score\n",
        "\n",
        "from sklearn.svm import SVC"
      ],
      "metadata": {
        "id": "7uMxWyNIEcaQ"
      },
      "execution_count": null,
      "outputs": []
    },
    {
      "cell_type": "markdown",
      "source": [
        "Create the model (aka estimator) object with one particular C value. We are going to call this the `v1` model."
      ],
      "metadata": {
        "id": "1RJNsE3GuOia"
      }
    },
    {
      "cell_type": "code",
      "source": [
        "svc_model_v1 = SVC(kernel='linear', C = .1)"
      ],
      "metadata": {
        "id": "cBSSjHSauL_I"
      },
      "execution_count": null,
      "outputs": []
    },
    {
      "cell_type": "markdown",
      "source": [
        "Evaluate using `cross_val_score` and model accuracy (the default for classification models)\n",
        ">- Note: `cross_val_score` fits the model to the data so we don't need a separate call to the `fit()` method here\n",
        "\n"
      ],
      "metadata": {
        "id": "kl6oJID1uS6V"
      }
    },
    {
      "cell_type": "code",
      "source": [
        "scores_v1= cross_val_score(svc_model_v1, X_train, y_train, cv=10)\n",
        "\n",
        "scores_v1"
      ],
      "metadata": {
        "id": "RJuW2UsxF2UQ",
        "colab": {
          "base_uri": "https://localhost:8080/"
        },
        "outputId": "c534d95d-9ef6-416a-ed57-5d084cd1a887"
      },
      "execution_count": null,
      "outputs": [
        {
          "output_type": "execute_result",
          "data": {
            "text/plain": [
              "array([1.        , 1.        , 0.88888889, 1.        , 1.        ,\n",
              "       1.        , 0.77777778, 1.        , 1.        , 1.        ])"
            ]
          },
          "metadata": {},
          "execution_count": 26
        }
      ]
    },
    {
      "cell_type": "markdown",
      "source": [
        "Notice `cross_val_score` returns an array of the accuracies (or other evaluation metrics) of all the folds. So we can calcuate the average and standard deviation accuracy for the model."
      ],
      "metadata": {
        "id": "UopszkZ6vBcx"
      }
    },
    {
      "cell_type": "code",
      "source": [
        "scores_v1.mean(), scores_v1.std()"
      ],
      "metadata": {
        "id": "648RdcFEu8yw",
        "colab": {
          "base_uri": "https://localhost:8080/"
        },
        "outputId": "09298819-0b68-4847-a86f-0bdc7ee97a53"
      },
      "execution_count": null,
      "outputs": [
        {
          "output_type": "execute_result",
          "data": {
            "text/plain": [
              "(0.9666666666666666, 0.07114582486036498)"
            ]
          },
          "metadata": {},
          "execution_count": 27
        }
      ]
    },
    {
      "cell_type": "markdown",
      "source": [
        "Ok, now let's try one more value for `C`"
      ],
      "metadata": {
        "id": "-n_kUtS5v9dU"
      }
    },
    {
      "cell_type": "code",
      "source": [
        "svc_model_v2 = SVC(kernel='linear', C = 1)"
      ],
      "metadata": {
        "id": "F_NJ2g7XwBv8"
      },
      "execution_count": null,
      "outputs": []
    },
    {
      "cell_type": "code",
      "source": [
        "scores_v2= cross_val_score(svc_model_v2, X_train, y_train, cv=10)"
      ],
      "metadata": {
        "id": "c6c42uu-FtlR"
      },
      "execution_count": null,
      "outputs": []
    },
    {
      "cell_type": "code",
      "source": [
        "scores_v2.mean(), scores_v2.std()"
      ],
      "metadata": {
        "id": "-5Mg8gWxxXqT",
        "colab": {
          "base_uri": "https://localhost:8080/"
        },
        "outputId": "6f680b99-279c-427b-fbf4-99f980e65083"
      },
      "execution_count": null,
      "outputs": [
        {
          "output_type": "execute_result",
          "data": {
            "text/plain": [
              "(0.9888888888888889, 0.03333333333333335)"
            ]
          },
          "metadata": {},
          "execution_count": 30
        }
      ]
    },
    {
      "cell_type": "markdown",
      "source": [
        "Finally, since C=1 is still producting the best results, we evaluate on the test data.\n",
        "\n",
        ">- Now, we need to fit our model prior to the final evaluation"
      ],
      "metadata": {
        "id": "8xUaKk-u0hGA"
      }
    },
    {
      "cell_type": "code",
      "source": [
        "svc_model_v2.fit(X_train, y_train)"
      ],
      "metadata": {
        "id": "88-swR270l9a",
        "colab": {
          "base_uri": "https://localhost:8080/",
          "height": 75
        },
        "outputId": "9f79548e-77aa-4b67-d6a8-d35d52c998c5"
      },
      "execution_count": null,
      "outputs": [
        {
          "output_type": "execute_result",
          "data": {
            "text/plain": [
              "SVC(C=1, kernel='linear')"
            ],
            "text/html": [
              "<style>#sk-container-id-2 {color: black;background-color: white;}#sk-container-id-2 pre{padding: 0;}#sk-container-id-2 div.sk-toggleable {background-color: white;}#sk-container-id-2 label.sk-toggleable__label {cursor: pointer;display: block;width: 100%;margin-bottom: 0;padding: 0.3em;box-sizing: border-box;text-align: center;}#sk-container-id-2 label.sk-toggleable__label-arrow:before {content: \"▸\";float: left;margin-right: 0.25em;color: #696969;}#sk-container-id-2 label.sk-toggleable__label-arrow:hover:before {color: black;}#sk-container-id-2 div.sk-estimator:hover label.sk-toggleable__label-arrow:before {color: black;}#sk-container-id-2 div.sk-toggleable__content {max-height: 0;max-width: 0;overflow: hidden;text-align: left;background-color: #f0f8ff;}#sk-container-id-2 div.sk-toggleable__content pre {margin: 0.2em;color: black;border-radius: 0.25em;background-color: #f0f8ff;}#sk-container-id-2 input.sk-toggleable__control:checked~div.sk-toggleable__content {max-height: 200px;max-width: 100%;overflow: auto;}#sk-container-id-2 input.sk-toggleable__control:checked~label.sk-toggleable__label-arrow:before {content: \"▾\";}#sk-container-id-2 div.sk-estimator input.sk-toggleable__control:checked~label.sk-toggleable__label {background-color: #d4ebff;}#sk-container-id-2 div.sk-label input.sk-toggleable__control:checked~label.sk-toggleable__label {background-color: #d4ebff;}#sk-container-id-2 input.sk-hidden--visually {border: 0;clip: rect(1px 1px 1px 1px);clip: rect(1px, 1px, 1px, 1px);height: 1px;margin: -1px;overflow: hidden;padding: 0;position: absolute;width: 1px;}#sk-container-id-2 div.sk-estimator {font-family: monospace;background-color: #f0f8ff;border: 1px dotted black;border-radius: 0.25em;box-sizing: border-box;margin-bottom: 0.5em;}#sk-container-id-2 div.sk-estimator:hover {background-color: #d4ebff;}#sk-container-id-2 div.sk-parallel-item::after {content: \"\";width: 100%;border-bottom: 1px solid gray;flex-grow: 1;}#sk-container-id-2 div.sk-label:hover label.sk-toggleable__label {background-color: #d4ebff;}#sk-container-id-2 div.sk-serial::before {content: \"\";position: absolute;border-left: 1px solid gray;box-sizing: border-box;top: 0;bottom: 0;left: 50%;z-index: 0;}#sk-container-id-2 div.sk-serial {display: flex;flex-direction: column;align-items: center;background-color: white;padding-right: 0.2em;padding-left: 0.2em;position: relative;}#sk-container-id-2 div.sk-item {position: relative;z-index: 1;}#sk-container-id-2 div.sk-parallel {display: flex;align-items: stretch;justify-content: center;background-color: white;position: relative;}#sk-container-id-2 div.sk-item::before, #sk-container-id-2 div.sk-parallel-item::before {content: \"\";position: absolute;border-left: 1px solid gray;box-sizing: border-box;top: 0;bottom: 0;left: 50%;z-index: -1;}#sk-container-id-2 div.sk-parallel-item {display: flex;flex-direction: column;z-index: 1;position: relative;background-color: white;}#sk-container-id-2 div.sk-parallel-item:first-child::after {align-self: flex-end;width: 50%;}#sk-container-id-2 div.sk-parallel-item:last-child::after {align-self: flex-start;width: 50%;}#sk-container-id-2 div.sk-parallel-item:only-child::after {width: 0;}#sk-container-id-2 div.sk-dashed-wrapped {border: 1px dashed gray;margin: 0 0.4em 0.5em 0.4em;box-sizing: border-box;padding-bottom: 0.4em;background-color: white;}#sk-container-id-2 div.sk-label label {font-family: monospace;font-weight: bold;display: inline-block;line-height: 1.2em;}#sk-container-id-2 div.sk-label-container {text-align: center;}#sk-container-id-2 div.sk-container {/* jupyter's `normalize.less` sets `[hidden] { display: none; }` but bootstrap.min.css set `[hidden] { display: none !important; }` so we also need the `!important` here to be able to override the default hidden behavior on the sphinx rendered scikit-learn.org. See: https://github.com/scikit-learn/scikit-learn/issues/21755 */display: inline-block !important;position: relative;}#sk-container-id-2 div.sk-text-repr-fallback {display: none;}</style><div id=\"sk-container-id-2\" class=\"sk-top-container\"><div class=\"sk-text-repr-fallback\"><pre>SVC(C=1, kernel=&#x27;linear&#x27;)</pre><b>In a Jupyter environment, please rerun this cell to show the HTML representation or trust the notebook. <br />On GitHub, the HTML representation is unable to render, please try loading this page with nbviewer.org.</b></div><div class=\"sk-container\" hidden><div class=\"sk-item\"><div class=\"sk-estimator sk-toggleable\"><input class=\"sk-toggleable__control sk-hidden--visually\" id=\"sk-estimator-id-2\" type=\"checkbox\" checked><label for=\"sk-estimator-id-2\" class=\"sk-toggleable__label sk-toggleable__label-arrow\">SVC</label><div class=\"sk-toggleable__content\"><pre>SVC(C=1, kernel=&#x27;linear&#x27;)</pre></div></div></div></div></div>"
            ]
          },
          "metadata": {},
          "execution_count": 31
        }
      ]
    },
    {
      "cell_type": "code",
      "source": [
        "svc_model_v2.score(X_test, y_test)"
      ],
      "metadata": {
        "id": "ZMF7fIX6088M",
        "colab": {
          "base_uri": "https://localhost:8080/"
        },
        "outputId": "adaacf4b-c4b4-4f86-8dc6-9860f967e1b2"
      },
      "execution_count": null,
      "outputs": [
        {
          "output_type": "execute_result",
          "data": {
            "text/plain": [
              "0.9666666666666667"
            ]
          },
          "metadata": {},
          "execution_count": 32
        }
      ]
    },
    {
      "cell_type": "markdown",
      "source": [
        "## Section Notes\n",
        "\n",
        ">- Notice now how our cross validation accuracy (98.0%) was slightly higher than our final testing accuracy (97.7%) but when we only used one holdout set we had an initial accuracy of 93% and a final holdout accuracy of 100% which caused us to pause and be suspicious of the results\n",
        ">- This is generally what you will see in real world model building. >>- Actually, the final accuracy isn't usually this close to the cross validation but again this is likely due to our small iris dataset\n",
        "\n",
        ">- Another function in `scikit-learn` is `cross_validate` which we will likely cover in another lesson"
      ],
      "metadata": {
        "id": "D7gkfcD59Jf9"
      }
    },
    {
      "cell_type": "markdown",
      "source": [
        "---\n",
        "\n",
        "# End of Video 4\n",
        "\n",
        "---"
      ],
      "metadata": {
        "id": "6e3hr7Zi-w6J"
      }
    }
  ]
}