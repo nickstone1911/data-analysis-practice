{
  "nbformat": 4,
  "nbformat_minor": 0,
  "metadata": {
    "colab": {
      "provenance": [],
      "include_colab_link": true
    },
    "kernelspec": {
      "name": "python3",
      "display_name": "Python 3"
    },
    "language_info": {
      "name": "python"
    },
    "widgets": {
      "application/vnd.jupyter.widget-state+json": {
        "ca537961bd8b43b2a6641e5613d72054": {
          "model_module": "@jupyter-widgets/controls",
          "model_name": "HBoxModel",
          "model_module_version": "1.5.0",
          "state": {
            "_dom_classes": [],
            "_model_module": "@jupyter-widgets/controls",
            "_model_module_version": "1.5.0",
            "_model_name": "HBoxModel",
            "_view_count": null,
            "_view_module": "@jupyter-widgets/controls",
            "_view_module_version": "1.5.0",
            "_view_name": "HBoxView",
            "box_style": "",
            "children": [
              "IPY_MODEL_ab932e775b7f4d8b8671dc19fbe23a89",
              "IPY_MODEL_3878b0eda63c4796a5c782555bd7187b",
              "IPY_MODEL_3657881bc9c249fa9554df654ebb8104"
            ],
            "layout": "IPY_MODEL_ba67f22054714b5094296f5a460a59e4"
          }
        },
        "ab932e775b7f4d8b8671dc19fbe23a89": {
          "model_module": "@jupyter-widgets/controls",
          "model_name": "HTMLModel",
          "model_module_version": "1.5.0",
          "state": {
            "_dom_classes": [],
            "_model_module": "@jupyter-widgets/controls",
            "_model_module_version": "1.5.0",
            "_model_name": "HTMLModel",
            "_view_count": null,
            "_view_module": "@jupyter-widgets/controls",
            "_view_module_version": "1.5.0",
            "_view_name": "HTMLView",
            "description": "",
            "description_tooltip": null,
            "layout": "IPY_MODEL_fa0d108e268a46e793808917da3fe782",
            "placeholder": "​",
            "style": "IPY_MODEL_0fd346c2954943eabb8e9450f0803d44",
            "value": "Job ID 009cbb19-dad3-4124-8d38-f48f2d5e3a89 successfully executed: 100%"
          }
        },
        "3878b0eda63c4796a5c782555bd7187b": {
          "model_module": "@jupyter-widgets/controls",
          "model_name": "FloatProgressModel",
          "model_module_version": "1.5.0",
          "state": {
            "_dom_classes": [],
            "_model_module": "@jupyter-widgets/controls",
            "_model_module_version": "1.5.0",
            "_model_name": "FloatProgressModel",
            "_view_count": null,
            "_view_module": "@jupyter-widgets/controls",
            "_view_module_version": "1.5.0",
            "_view_name": "ProgressView",
            "bar_style": "success",
            "description": "",
            "description_tooltip": null,
            "layout": "IPY_MODEL_dea6285d2678489b9205299a626bb0da",
            "max": 1,
            "min": 0,
            "orientation": "horizontal",
            "style": "IPY_MODEL_0f4dd3e9b00e48eab3eaa51a6f389b44",
            "value": 1
          }
        },
        "3657881bc9c249fa9554df654ebb8104": {
          "model_module": "@jupyter-widgets/controls",
          "model_name": "HTMLModel",
          "model_module_version": "1.5.0",
          "state": {
            "_dom_classes": [],
            "_model_module": "@jupyter-widgets/controls",
            "_model_module_version": "1.5.0",
            "_model_name": "HTMLModel",
            "_view_count": null,
            "_view_module": "@jupyter-widgets/controls",
            "_view_module_version": "1.5.0",
            "_view_name": "HTMLView",
            "description": "",
            "description_tooltip": null,
            "layout": "IPY_MODEL_6cd3da8b89ed40289d32fce046909748",
            "placeholder": "​",
            "style": "IPY_MODEL_08d72fe601b74423becaec41c9833fe5",
            "value": ""
          }
        },
        "ba67f22054714b5094296f5a460a59e4": {
          "model_module": "@jupyter-widgets/base",
          "model_name": "LayoutModel",
          "model_module_version": "1.2.0",
          "state": {
            "_model_module": "@jupyter-widgets/base",
            "_model_module_version": "1.2.0",
            "_model_name": "LayoutModel",
            "_view_count": null,
            "_view_module": "@jupyter-widgets/base",
            "_view_module_version": "1.2.0",
            "_view_name": "LayoutView",
            "align_content": null,
            "align_items": null,
            "align_self": null,
            "border": null,
            "bottom": null,
            "display": null,
            "flex": null,
            "flex_flow": null,
            "grid_area": null,
            "grid_auto_columns": null,
            "grid_auto_flow": null,
            "grid_auto_rows": null,
            "grid_column": null,
            "grid_gap": null,
            "grid_row": null,
            "grid_template_areas": null,
            "grid_template_columns": null,
            "grid_template_rows": null,
            "height": null,
            "justify_content": null,
            "justify_items": null,
            "left": null,
            "margin": null,
            "max_height": null,
            "max_width": null,
            "min_height": null,
            "min_width": null,
            "object_fit": null,
            "object_position": null,
            "order": null,
            "overflow": null,
            "overflow_x": null,
            "overflow_y": null,
            "padding": null,
            "right": null,
            "top": null,
            "visibility": null,
            "width": null
          }
        },
        "fa0d108e268a46e793808917da3fe782": {
          "model_module": "@jupyter-widgets/base",
          "model_name": "LayoutModel",
          "model_module_version": "1.2.0",
          "state": {
            "_model_module": "@jupyter-widgets/base",
            "_model_module_version": "1.2.0",
            "_model_name": "LayoutModel",
            "_view_count": null,
            "_view_module": "@jupyter-widgets/base",
            "_view_module_version": "1.2.0",
            "_view_name": "LayoutView",
            "align_content": null,
            "align_items": null,
            "align_self": null,
            "border": null,
            "bottom": null,
            "display": null,
            "flex": null,
            "flex_flow": null,
            "grid_area": null,
            "grid_auto_columns": null,
            "grid_auto_flow": null,
            "grid_auto_rows": null,
            "grid_column": null,
            "grid_gap": null,
            "grid_row": null,
            "grid_template_areas": null,
            "grid_template_columns": null,
            "grid_template_rows": null,
            "height": null,
            "justify_content": null,
            "justify_items": null,
            "left": null,
            "margin": null,
            "max_height": null,
            "max_width": null,
            "min_height": null,
            "min_width": null,
            "object_fit": null,
            "object_position": null,
            "order": null,
            "overflow": null,
            "overflow_x": null,
            "overflow_y": null,
            "padding": null,
            "right": null,
            "top": null,
            "visibility": null,
            "width": null
          }
        },
        "0fd346c2954943eabb8e9450f0803d44": {
          "model_module": "@jupyter-widgets/controls",
          "model_name": "DescriptionStyleModel",
          "model_module_version": "1.5.0",
          "state": {
            "_model_module": "@jupyter-widgets/controls",
            "_model_module_version": "1.5.0",
            "_model_name": "DescriptionStyleModel",
            "_view_count": null,
            "_view_module": "@jupyter-widgets/base",
            "_view_module_version": "1.2.0",
            "_view_name": "StyleView",
            "description_width": ""
          }
        },
        "dea6285d2678489b9205299a626bb0da": {
          "model_module": "@jupyter-widgets/base",
          "model_name": "LayoutModel",
          "model_module_version": "1.2.0",
          "state": {
            "_model_module": "@jupyter-widgets/base",
            "_model_module_version": "1.2.0",
            "_model_name": "LayoutModel",
            "_view_count": null,
            "_view_module": "@jupyter-widgets/base",
            "_view_module_version": "1.2.0",
            "_view_name": "LayoutView",
            "align_content": null,
            "align_items": null,
            "align_self": null,
            "border": null,
            "bottom": null,
            "display": null,
            "flex": null,
            "flex_flow": null,
            "grid_area": null,
            "grid_auto_columns": null,
            "grid_auto_flow": null,
            "grid_auto_rows": null,
            "grid_column": null,
            "grid_gap": null,
            "grid_row": null,
            "grid_template_areas": null,
            "grid_template_columns": null,
            "grid_template_rows": null,
            "height": null,
            "justify_content": null,
            "justify_items": null,
            "left": null,
            "margin": null,
            "max_height": null,
            "max_width": null,
            "min_height": null,
            "min_width": null,
            "object_fit": null,
            "object_position": null,
            "order": null,
            "overflow": null,
            "overflow_x": null,
            "overflow_y": null,
            "padding": null,
            "right": null,
            "top": null,
            "visibility": null,
            "width": null
          }
        },
        "0f4dd3e9b00e48eab3eaa51a6f389b44": {
          "model_module": "@jupyter-widgets/controls",
          "model_name": "ProgressStyleModel",
          "model_module_version": "1.5.0",
          "state": {
            "_model_module": "@jupyter-widgets/controls",
            "_model_module_version": "1.5.0",
            "_model_name": "ProgressStyleModel",
            "_view_count": null,
            "_view_module": "@jupyter-widgets/base",
            "_view_module_version": "1.2.0",
            "_view_name": "StyleView",
            "bar_color": null,
            "description_width": ""
          }
        },
        "6cd3da8b89ed40289d32fce046909748": {
          "model_module": "@jupyter-widgets/base",
          "model_name": "LayoutModel",
          "model_module_version": "1.2.0",
          "state": {
            "_model_module": "@jupyter-widgets/base",
            "_model_module_version": "1.2.0",
            "_model_name": "LayoutModel",
            "_view_count": null,
            "_view_module": "@jupyter-widgets/base",
            "_view_module_version": "1.2.0",
            "_view_name": "LayoutView",
            "align_content": null,
            "align_items": null,
            "align_self": null,
            "border": null,
            "bottom": null,
            "display": null,
            "flex": null,
            "flex_flow": null,
            "grid_area": null,
            "grid_auto_columns": null,
            "grid_auto_flow": null,
            "grid_auto_rows": null,
            "grid_column": null,
            "grid_gap": null,
            "grid_row": null,
            "grid_template_areas": null,
            "grid_template_columns": null,
            "grid_template_rows": null,
            "height": null,
            "justify_content": null,
            "justify_items": null,
            "left": null,
            "margin": null,
            "max_height": null,
            "max_width": null,
            "min_height": null,
            "min_width": null,
            "object_fit": null,
            "object_position": null,
            "order": null,
            "overflow": null,
            "overflow_x": null,
            "overflow_y": null,
            "padding": null,
            "right": null,
            "top": null,
            "visibility": null,
            "width": null
          }
        },
        "08d72fe601b74423becaec41c9833fe5": {
          "model_module": "@jupyter-widgets/controls",
          "model_name": "DescriptionStyleModel",
          "model_module_version": "1.5.0",
          "state": {
            "_model_module": "@jupyter-widgets/controls",
            "_model_module_version": "1.5.0",
            "_model_name": "DescriptionStyleModel",
            "_view_count": null,
            "_view_module": "@jupyter-widgets/base",
            "_view_module_version": "1.2.0",
            "_view_name": "StyleView",
            "description_width": ""
          }
        },
        "ba305060e0a9447395e8842e7c8c45e4": {
          "model_module": "@jupyter-widgets/controls",
          "model_name": "HBoxModel",
          "model_module_version": "1.5.0",
          "state": {
            "_dom_classes": [],
            "_model_module": "@jupyter-widgets/controls",
            "_model_module_version": "1.5.0",
            "_model_name": "HBoxModel",
            "_view_count": null,
            "_view_module": "@jupyter-widgets/controls",
            "_view_module_version": "1.5.0",
            "_view_name": "HBoxView",
            "box_style": "",
            "children": [
              "IPY_MODEL_37e606ad88b345ebb951e8b6066d3c2f",
              "IPY_MODEL_310699bf1da044418565ecae508f8b38",
              "IPY_MODEL_a04dc7ebe34940809a7fef1c9ecddd1d"
            ],
            "layout": "IPY_MODEL_3e813f7f6de248b581256825a6d41c79"
          }
        },
        "37e606ad88b345ebb951e8b6066d3c2f": {
          "model_module": "@jupyter-widgets/controls",
          "model_name": "HTMLModel",
          "model_module_version": "1.5.0",
          "state": {
            "_dom_classes": [],
            "_model_module": "@jupyter-widgets/controls",
            "_model_module_version": "1.5.0",
            "_model_name": "HTMLModel",
            "_view_count": null,
            "_view_module": "@jupyter-widgets/controls",
            "_view_module_version": "1.5.0",
            "_view_name": "HTMLView",
            "description": "",
            "description_tooltip": null,
            "layout": "IPY_MODEL_c6afa294ba3b4b7f888d7cfe0fb719e3",
            "placeholder": "​",
            "style": "IPY_MODEL_0777c7a18c004b55b9a268f28b6005e1",
            "value": "Downloading: 100%"
          }
        },
        "310699bf1da044418565ecae508f8b38": {
          "model_module": "@jupyter-widgets/controls",
          "model_name": "FloatProgressModel",
          "model_module_version": "1.5.0",
          "state": {
            "_dom_classes": [],
            "_model_module": "@jupyter-widgets/controls",
            "_model_module_version": "1.5.0",
            "_model_name": "FloatProgressModel",
            "_view_count": null,
            "_view_module": "@jupyter-widgets/controls",
            "_view_module_version": "1.5.0",
            "_view_name": "ProgressView",
            "bar_style": "success",
            "description": "",
            "description_tooltip": null,
            "layout": "IPY_MODEL_5be9138fe5bf4ab0be002bcb880fb570",
            "max": 344,
            "min": 0,
            "orientation": "horizontal",
            "style": "IPY_MODEL_a24768564a5d44ac84ee5c6cd221a365",
            "value": 344
          }
        },
        "a04dc7ebe34940809a7fef1c9ecddd1d": {
          "model_module": "@jupyter-widgets/controls",
          "model_name": "HTMLModel",
          "model_module_version": "1.5.0",
          "state": {
            "_dom_classes": [],
            "_model_module": "@jupyter-widgets/controls",
            "_model_module_version": "1.5.0",
            "_model_name": "HTMLModel",
            "_view_count": null,
            "_view_module": "@jupyter-widgets/controls",
            "_view_module_version": "1.5.0",
            "_view_name": "HTMLView",
            "description": "",
            "description_tooltip": null,
            "layout": "IPY_MODEL_b145faf1542643e29f2df52fd541ceae",
            "placeholder": "​",
            "style": "IPY_MODEL_a418aa7d2ffb4362b7fd1cc34219cf1f",
            "value": ""
          }
        },
        "3e813f7f6de248b581256825a6d41c79": {
          "model_module": "@jupyter-widgets/base",
          "model_name": "LayoutModel",
          "model_module_version": "1.2.0",
          "state": {
            "_model_module": "@jupyter-widgets/base",
            "_model_module_version": "1.2.0",
            "_model_name": "LayoutModel",
            "_view_count": null,
            "_view_module": "@jupyter-widgets/base",
            "_view_module_version": "1.2.0",
            "_view_name": "LayoutView",
            "align_content": null,
            "align_items": null,
            "align_self": null,
            "border": null,
            "bottom": null,
            "display": null,
            "flex": null,
            "flex_flow": null,
            "grid_area": null,
            "grid_auto_columns": null,
            "grid_auto_flow": null,
            "grid_auto_rows": null,
            "grid_column": null,
            "grid_gap": null,
            "grid_row": null,
            "grid_template_areas": null,
            "grid_template_columns": null,
            "grid_template_rows": null,
            "height": null,
            "justify_content": null,
            "justify_items": null,
            "left": null,
            "margin": null,
            "max_height": null,
            "max_width": null,
            "min_height": null,
            "min_width": null,
            "object_fit": null,
            "object_position": null,
            "order": null,
            "overflow": null,
            "overflow_x": null,
            "overflow_y": null,
            "padding": null,
            "right": null,
            "top": null,
            "visibility": null,
            "width": null
          }
        },
        "c6afa294ba3b4b7f888d7cfe0fb719e3": {
          "model_module": "@jupyter-widgets/base",
          "model_name": "LayoutModel",
          "model_module_version": "1.2.0",
          "state": {
            "_model_module": "@jupyter-widgets/base",
            "_model_module_version": "1.2.0",
            "_model_name": "LayoutModel",
            "_view_count": null,
            "_view_module": "@jupyter-widgets/base",
            "_view_module_version": "1.2.0",
            "_view_name": "LayoutView",
            "align_content": null,
            "align_items": null,
            "align_self": null,
            "border": null,
            "bottom": null,
            "display": null,
            "flex": null,
            "flex_flow": null,
            "grid_area": null,
            "grid_auto_columns": null,
            "grid_auto_flow": null,
            "grid_auto_rows": null,
            "grid_column": null,
            "grid_gap": null,
            "grid_row": null,
            "grid_template_areas": null,
            "grid_template_columns": null,
            "grid_template_rows": null,
            "height": null,
            "justify_content": null,
            "justify_items": null,
            "left": null,
            "margin": null,
            "max_height": null,
            "max_width": null,
            "min_height": null,
            "min_width": null,
            "object_fit": null,
            "object_position": null,
            "order": null,
            "overflow": null,
            "overflow_x": null,
            "overflow_y": null,
            "padding": null,
            "right": null,
            "top": null,
            "visibility": null,
            "width": null
          }
        },
        "0777c7a18c004b55b9a268f28b6005e1": {
          "model_module": "@jupyter-widgets/controls",
          "model_name": "DescriptionStyleModel",
          "model_module_version": "1.5.0",
          "state": {
            "_model_module": "@jupyter-widgets/controls",
            "_model_module_version": "1.5.0",
            "_model_name": "DescriptionStyleModel",
            "_view_count": null,
            "_view_module": "@jupyter-widgets/base",
            "_view_module_version": "1.2.0",
            "_view_name": "StyleView",
            "description_width": ""
          }
        },
        "5be9138fe5bf4ab0be002bcb880fb570": {
          "model_module": "@jupyter-widgets/base",
          "model_name": "LayoutModel",
          "model_module_version": "1.2.0",
          "state": {
            "_model_module": "@jupyter-widgets/base",
            "_model_module_version": "1.2.0",
            "_model_name": "LayoutModel",
            "_view_count": null,
            "_view_module": "@jupyter-widgets/base",
            "_view_module_version": "1.2.0",
            "_view_name": "LayoutView",
            "align_content": null,
            "align_items": null,
            "align_self": null,
            "border": null,
            "bottom": null,
            "display": null,
            "flex": null,
            "flex_flow": null,
            "grid_area": null,
            "grid_auto_columns": null,
            "grid_auto_flow": null,
            "grid_auto_rows": null,
            "grid_column": null,
            "grid_gap": null,
            "grid_row": null,
            "grid_template_areas": null,
            "grid_template_columns": null,
            "grid_template_rows": null,
            "height": null,
            "justify_content": null,
            "justify_items": null,
            "left": null,
            "margin": null,
            "max_height": null,
            "max_width": null,
            "min_height": null,
            "min_width": null,
            "object_fit": null,
            "object_position": null,
            "order": null,
            "overflow": null,
            "overflow_x": null,
            "overflow_y": null,
            "padding": null,
            "right": null,
            "top": null,
            "visibility": null,
            "width": null
          }
        },
        "a24768564a5d44ac84ee5c6cd221a365": {
          "model_module": "@jupyter-widgets/controls",
          "model_name": "ProgressStyleModel",
          "model_module_version": "1.5.0",
          "state": {
            "_model_module": "@jupyter-widgets/controls",
            "_model_module_version": "1.5.0",
            "_model_name": "ProgressStyleModel",
            "_view_count": null,
            "_view_module": "@jupyter-widgets/base",
            "_view_module_version": "1.2.0",
            "_view_name": "StyleView",
            "bar_color": null,
            "description_width": ""
          }
        },
        "b145faf1542643e29f2df52fd541ceae": {
          "model_module": "@jupyter-widgets/base",
          "model_name": "LayoutModel",
          "model_module_version": "1.2.0",
          "state": {
            "_model_module": "@jupyter-widgets/base",
            "_model_module_version": "1.2.0",
            "_model_name": "LayoutModel",
            "_view_count": null,
            "_view_module": "@jupyter-widgets/base",
            "_view_module_version": "1.2.0",
            "_view_name": "LayoutView",
            "align_content": null,
            "align_items": null,
            "align_self": null,
            "border": null,
            "bottom": null,
            "display": null,
            "flex": null,
            "flex_flow": null,
            "grid_area": null,
            "grid_auto_columns": null,
            "grid_auto_flow": null,
            "grid_auto_rows": null,
            "grid_column": null,
            "grid_gap": null,
            "grid_row": null,
            "grid_template_areas": null,
            "grid_template_columns": null,
            "grid_template_rows": null,
            "height": null,
            "justify_content": null,
            "justify_items": null,
            "left": null,
            "margin": null,
            "max_height": null,
            "max_width": null,
            "min_height": null,
            "min_width": null,
            "object_fit": null,
            "object_position": null,
            "order": null,
            "overflow": null,
            "overflow_x": null,
            "overflow_y": null,
            "padding": null,
            "right": null,
            "top": null,
            "visibility": null,
            "width": null
          }
        },
        "a418aa7d2ffb4362b7fd1cc34219cf1f": {
          "model_module": "@jupyter-widgets/controls",
          "model_name": "DescriptionStyleModel",
          "model_module_version": "1.5.0",
          "state": {
            "_model_module": "@jupyter-widgets/controls",
            "_model_module_version": "1.5.0",
            "_model_name": "DescriptionStyleModel",
            "_view_count": null,
            "_view_module": "@jupyter-widgets/base",
            "_view_module_version": "1.2.0",
            "_view_name": "StyleView",
            "description_width": ""
          }
        }
      }
    }
  },
  "cells": [
    {
      "cell_type": "markdown",
      "metadata": {
        "id": "view-in-github",
        "colab_type": "text"
      },
      "source": [
        "<a href=\"https://colab.research.google.com/github/nickstone1911/data-analysis-practice/blob/main/Decision_Trees.ipynb\" target=\"_parent\"><img src=\"https://colab.research.google.com/assets/colab-badge.svg\" alt=\"Open In Colab\"/></a>"
      ]
    },
    {
      "cell_type": "markdown",
      "source": [
        "# ABA: Lesson 04 Practice Exercise Part 2"
      ],
      "metadata": {
        "id": "5AgtGiMQxQwd"
      }
    },
    {
      "cell_type": "markdown",
      "source": [
        "\n",
        "\n",
        "# Advanced Business Analytics: Finding Informative Attributes\n",
        "\n",
        "In this exercise notebook, we will:\n",
        "\n",
        "1. Apply our entropy and information gain functions from the Part 1 notebook to a new public dataset, `penguins`\n",
        "2. Create a function to find the most informative attribute based on information gain\n",
        "3. Create a function to find the attribute that provides the best split in the data\n",
        "4. Finally, we will use `scikit-learn` to create a decision tree model to segment the `penguin` dataset\n",
        ">- We will compare the results from `scikit-learn` to the functions we create in steps 2 and 3\n",
        "---"
      ],
      "metadata": {
        "id": "nsN2oV3zQQSP"
      }
    },
    {
      "cell_type": "markdown",
      "source": [
        "# Section 0: Notebook Setup\n",
        ">- First, we need to authenticate in Colab in order to use Google Cloud services in our notebook\n",
        ">- Then we import standard data science libraries"
      ],
      "metadata": {
        "id": "l4IRwfALYMEv"
      }
    },
    {
      "cell_type": "code",
      "source": [
        "from google.colab import auth\n",
        "auth.authenticate_user()\n",
        "\n",
        "from sklearn import datasets\n",
        "from sklearn.tree import DecisionTreeClassifier, plot_tree\n",
        "\n",
        "import matplotlib.pyplot as plt\n",
        "import pandas as pd\n",
        "import numpy as np"
      ],
      "metadata": {
        "id": "7xyPN4bAVuPN"
      },
      "execution_count": null,
      "outputs": []
    },
    {
      "cell_type": "code",
      "source": [],
      "metadata": {
        "id": "5PRjTm3_pJOO"
      },
      "execution_count": null,
      "outputs": []
    },
    {
      "cell_type": "markdown",
      "source": [
        "## Import the `bigquery` API\n",
        ">- Set your project id in BigQuery\n",
        ">- Create a client object based on your project_id\n",
        "\n"
      ],
      "metadata": {
        "id": "yAG_hTUEYq4m"
      }
    },
    {
      "cell_type": "code",
      "source": [
        "from google.cloud import bigquery\n",
        "\n",
        "project_id = 'baim-412018'\n",
        "pengclient = bigquery.Client(project = project_id)"
      ],
      "metadata": {
        "id": "phXNCqDVV3Of"
      },
      "execution_count": null,
      "outputs": []
    },
    {
      "cell_type": "markdown",
      "source": [
        "## Show Tables in the `bigquery-public-data.ml_datasets` Dataset\n",
        "\n",
        "In the next code cells, we will be defining specific datasets and listing the tables within the datasets. One dataset will be our personal dataset, the other dataset will be a BigQuery public dataset.\n",
        "\n",
        "As a reminder, here are the steps to access a BigQuery public dataset and show the tables:\n",
        "\n",
        "1. **Setting the Dataset ID (`ml_data_id`)**:\n",
        "   - `ml_data_id` is a string variable holding the identifier for a BigQuery dataset named `bigquery-public-data.ml_datasets`.\n",
        "\n",
        "2. **Getting the Dataset Object (`ml_data`)**:\n",
        "   - `client.get_dataset(ml_data_id)` retrieves the BigQuery dataset object using the provided dataset ID.\n",
        "\n",
        "3. **Listing Tables in the Dataset (`ml_tables`)**:\n",
        "   - `client.list_tables(ml_data)` generates a list of table objects within the dataset `ml_data`. This list is stored in the `ml_tables` variable.\n",
        "   - `list()` function is used to convert the table iterator to a Python list.\n",
        "\n",
        "4. **Iterating Through Tables and Printing Table IDs**:\n",
        "   - A `for` loop iterates through each table object in `ml_tables`.\n",
        "   - `table.table_id` retrieves the identifier (table ID) for each table within the dataset.\n",
        "   - The table IDs are printed using the `print()` function within the loop.\n",
        "\n"
      ],
      "metadata": {
        "id": "PsOQUNxlbUKk"
      }
    },
    {
      "cell_type": "markdown",
      "source": [
        "Print the tables in the `bigquery-public-data.ml_datasets` Public Dataset"
      ],
      "metadata": {
        "id": "WaCGcNJEoI_3"
      }
    },
    {
      "cell_type": "code",
      "source": [
        "ml_data_id = 'bigquery-public-data.ml_datasets'\n",
        "\n",
        "ml_data = pengclient.get_dataset(ml_data_id)\n",
        "\n",
        "ml_tables = list(pengclient.list_tables(ml_data))\n",
        "\n",
        "for table in ml_tables:\n",
        "    print(table.table_id)"
      ],
      "metadata": {
        "id": "DgU_SDeTWQRS",
        "colab": {
          "base_uri": "https://localhost:8080/"
        },
        "outputId": "5c6a9a41-f6e8-4525-8b5b-c77dea1835ba"
      },
      "execution_count": null,
      "outputs": [
        {
          "output_type": "stream",
          "name": "stdout",
          "text": [
            "census_adult_income\n",
            "credit_card_default\n",
            "holidays_and_events_for_forecasting\n",
            "iris\n",
            "penguins\n",
            "ulb_fraud_detection\n"
          ]
        }
      ]
    },
    {
      "cell_type": "markdown",
      "source": [
        "## Load the `penquins` table as a pandas DataFrame\n",
        "\n",
        "## Penguins Dataset Summary\n",
        "\n",
        "###Description\n",
        "The Penguins dataset is a popular dataset in machine learning, particularly for classification and data exploration. It contains information about various penguin species, including their physical measurements.\n",
        "\n",
        "### Attributes\n",
        "\n",
        "The dataset consists of features (attributes) that describe various characteristics of penguins:\n",
        "\n",
        ">- island\n",
        ">- culmen_length_mm\n",
        ">- culmen_depth_mm\n",
        ">- flipper_length_mm\n",
        ">- body_mass_g\n",
        ">- sex\n",
        "\n",
        "### Target Variable\n",
        "The target variable is the penguin species, and there are three possible classes:\n",
        "\n",
        ">- Adelie\n",
        ">- Chinstrap\n",
        ">- Gentoo\n",
        "\n",
        "The goal in machine learning tasks using the Penguins dataset is typically to build a model that can classify penguins into their respective species based on their physical characteristics.\n",
        "\n",
        "---\n",
        "\n",
        "In the next cell, use bigquery magics to write a SQL statement to load all the data from the `penguins` table into a pandas DataFrame."
      ],
      "metadata": {
        "id": "pCVlYVJXVGjR"
      }
    },
    {
      "cell_type": "code",
      "source": [
        "%%bigquery pen_df --project baim-412018\n",
        "\n",
        "SELECT\n",
        "*\n",
        "FROM\n",
        "bigquery-public-data.ml_datasets.penguins"
      ],
      "metadata": {
        "id": "rLuVbqKMVONw",
        "colab": {
          "base_uri": "https://localhost:8080/",
          "height": 81,
          "referenced_widgets": [
            "ca537961bd8b43b2a6641e5613d72054",
            "ab932e775b7f4d8b8671dc19fbe23a89",
            "3878b0eda63c4796a5c782555bd7187b",
            "3657881bc9c249fa9554df654ebb8104",
            "ba67f22054714b5094296f5a460a59e4",
            "fa0d108e268a46e793808917da3fe782",
            "0fd346c2954943eabb8e9450f0803d44",
            "dea6285d2678489b9205299a626bb0da",
            "0f4dd3e9b00e48eab3eaa51a6f389b44",
            "6cd3da8b89ed40289d32fce046909748",
            "08d72fe601b74423becaec41c9833fe5",
            "ba305060e0a9447395e8842e7c8c45e4",
            "37e606ad88b345ebb951e8b6066d3c2f",
            "310699bf1da044418565ecae508f8b38",
            "a04dc7ebe34940809a7fef1c9ecddd1d",
            "3e813f7f6de248b581256825a6d41c79",
            "c6afa294ba3b4b7f888d7cfe0fb719e3",
            "0777c7a18c004b55b9a268f28b6005e1",
            "5be9138fe5bf4ab0be002bcb880fb570",
            "a24768564a5d44ac84ee5c6cd221a365",
            "b145faf1542643e29f2df52fd541ceae",
            "a418aa7d2ffb4362b7fd1cc34219cf1f"
          ]
        },
        "outputId": "a35e7666-4c2d-427a-b035-b485554fc6bb"
      },
      "execution_count": null,
      "outputs": [
        {
          "output_type": "display_data",
          "data": {
            "text/plain": [
              "Query is running:   0%|          |"
            ],
            "application/vnd.jupyter.widget-view+json": {
              "version_major": 2,
              "version_minor": 0,
              "model_id": "ca537961bd8b43b2a6641e5613d72054"
            }
          },
          "metadata": {}
        },
        {
          "output_type": "display_data",
          "data": {
            "text/plain": [
              "Downloading:   0%|          |"
            ],
            "application/vnd.jupyter.widget-view+json": {
              "version_major": 2,
              "version_minor": 0,
              "model_id": "ba305060e0a9447395e8842e7c8c45e4"
            }
          },
          "metadata": {}
        }
      ]
    },
    {
      "cell_type": "markdown",
      "source": [
        "In the next cell, show the first 5 records of the `pen_df`"
      ],
      "metadata": {
        "id": "THCrmnViLZDS"
      }
    },
    {
      "cell_type": "code",
      "source": [
        "pen_df.shape"
      ],
      "metadata": {
        "colab": {
          "base_uri": "https://localhost:8080/"
        },
        "id": "9NfQisOUJY80",
        "outputId": "dc793275-c718-4cdd-a725-5508951c0f92"
      },
      "execution_count": null,
      "outputs": [
        {
          "output_type": "execute_result",
          "data": {
            "text/plain": [
              "(344, 7)"
            ]
          },
          "metadata": {},
          "execution_count": 5
        }
      ]
    },
    {
      "cell_type": "code",
      "source": [
        "pen_df.head"
      ],
      "metadata": {
        "id": "bXldEeXPfh1U",
        "colab": {
          "base_uri": "https://localhost:8080/"
        },
        "outputId": "a5efaf5b-700d-4ae5-f0ee-5a9d6585c82b"
      },
      "execution_count": null,
      "outputs": [
        {
          "output_type": "execute_result",
          "data": {
            "text/plain": [
              "<bound method NDFrame.head of                                        species     island  culmen_length_mm  \\\n",
              "0          Adelie Penguin (Pygoscelis adeliae)      Dream              36.6   \n",
              "1          Adelie Penguin (Pygoscelis adeliae)      Dream              39.8   \n",
              "2          Adelie Penguin (Pygoscelis adeliae)      Dream              40.9   \n",
              "3    Chinstrap penguin (Pygoscelis antarctica)      Dream              46.5   \n",
              "4          Adelie Penguin (Pygoscelis adeliae)      Dream              37.3   \n",
              "..                                         ...        ...               ...   \n",
              "339        Adelie Penguin (Pygoscelis adeliae)  Torgersen              38.8   \n",
              "340        Adelie Penguin (Pygoscelis adeliae)  Torgersen              40.9   \n",
              "341        Adelie Penguin (Pygoscelis adeliae)  Torgersen              39.0   \n",
              "342        Adelie Penguin (Pygoscelis adeliae)  Torgersen              40.6   \n",
              "343        Adelie Penguin (Pygoscelis adeliae)  Torgersen              37.3   \n",
              "\n",
              "     culmen_depth_mm  flipper_length_mm  body_mass_g     sex  \n",
              "0               18.4              184.0       3475.0  FEMALE  \n",
              "1               19.1              184.0       4650.0    MALE  \n",
              "2               18.9              184.0       3900.0    MALE  \n",
              "3               17.9              192.0       3500.0  FEMALE  \n",
              "4               16.8              192.0       3000.0  FEMALE  \n",
              "..               ...                ...          ...     ...  \n",
              "339             17.6              191.0       3275.0  FEMALE  \n",
              "340             16.8              191.0       3700.0  FEMALE  \n",
              "341             17.1              191.0       3050.0  FEMALE  \n",
              "342             19.0              199.0       4000.0    MALE  \n",
              "343             20.5              199.0       3775.0    MALE  \n",
              "\n",
              "[344 rows x 7 columns]>"
            ]
          },
          "metadata": {},
          "execution_count": 6
        }
      ]
    },
    {
      "cell_type": "markdown",
      "source": [
        "In the next cell, filter out null values from the `pen_df`. Make the changes in place for these exercises."
      ],
      "metadata": {
        "id": "epgrMfzynnFH"
      }
    },
    {
      "cell_type": "code",
      "source": [
        "pen_df.dropna(inplace=True)\n",
        "pen_df.head"
      ],
      "metadata": {
        "id": "LcKrpV23nnbq",
        "colab": {
          "base_uri": "https://localhost:8080/"
        },
        "outputId": "ab5e9a35-b3d8-49c8-b336-bbbbf743147d"
      },
      "execution_count": null,
      "outputs": [
        {
          "output_type": "execute_result",
          "data": {
            "text/plain": [
              "<bound method NDFrame.head of                                        species     island  culmen_length_mm  \\\n",
              "0          Adelie Penguin (Pygoscelis adeliae)      Dream              36.6   \n",
              "1          Adelie Penguin (Pygoscelis adeliae)      Dream              39.8   \n",
              "2          Adelie Penguin (Pygoscelis adeliae)      Dream              40.9   \n",
              "3    Chinstrap penguin (Pygoscelis antarctica)      Dream              46.5   \n",
              "4          Adelie Penguin (Pygoscelis adeliae)      Dream              37.3   \n",
              "..                                         ...        ...               ...   \n",
              "339        Adelie Penguin (Pygoscelis adeliae)  Torgersen              38.8   \n",
              "340        Adelie Penguin (Pygoscelis adeliae)  Torgersen              40.9   \n",
              "341        Adelie Penguin (Pygoscelis adeliae)  Torgersen              39.0   \n",
              "342        Adelie Penguin (Pygoscelis adeliae)  Torgersen              40.6   \n",
              "343        Adelie Penguin (Pygoscelis adeliae)  Torgersen              37.3   \n",
              "\n",
              "     culmen_depth_mm  flipper_length_mm  body_mass_g     sex  \n",
              "0               18.4              184.0       3475.0  FEMALE  \n",
              "1               19.1              184.0       4650.0    MALE  \n",
              "2               18.9              184.0       3900.0    MALE  \n",
              "3               17.9              192.0       3500.0  FEMALE  \n",
              "4               16.8              192.0       3000.0  FEMALE  \n",
              "..               ...                ...          ...     ...  \n",
              "339             17.6              191.0       3275.0  FEMALE  \n",
              "340             16.8              191.0       3700.0  FEMALE  \n",
              "341             17.1              191.0       3050.0  FEMALE  \n",
              "342             19.0              199.0       4000.0    MALE  \n",
              "343             20.5              199.0       3775.0    MALE  \n",
              "\n",
              "[334 rows x 7 columns]>"
            ]
          },
          "metadata": {},
          "execution_count": 7
        }
      ]
    },
    {
      "cell_type": "markdown",
      "source": [
        "Now, filter the data to only include the numerical attributes and the target variable, species. We will learn how to handle categorial attributes later in the course but for now let's just focus on analyzing the numerical attributes."
      ],
      "metadata": {
        "id": "DtviEJrGonhu"
      }
    },
    {
      "cell_type": "code",
      "source": [
        "pen_df = pen_df[['species', 'culmen_length_mm', 'culmen_depth_mm', 'flipper_length_mm', 'body_mass_g']]\n",
        "pen_df"
      ],
      "metadata": {
        "id": "oP-Yldo3o2jd",
        "colab": {
          "base_uri": "https://localhost:8080/",
          "height": 424
        },
        "outputId": "28b83578-a242-4c5a-b600-2025c2ea6272"
      },
      "execution_count": null,
      "outputs": [
        {
          "output_type": "execute_result",
          "data": {
            "text/plain": [
              "                                       species  culmen_length_mm  \\\n",
              "0          Adelie Penguin (Pygoscelis adeliae)              36.6   \n",
              "1          Adelie Penguin (Pygoscelis adeliae)              39.8   \n",
              "2          Adelie Penguin (Pygoscelis adeliae)              40.9   \n",
              "3    Chinstrap penguin (Pygoscelis antarctica)              46.5   \n",
              "4          Adelie Penguin (Pygoscelis adeliae)              37.3   \n",
              "..                                         ...               ...   \n",
              "339        Adelie Penguin (Pygoscelis adeliae)              38.8   \n",
              "340        Adelie Penguin (Pygoscelis adeliae)              40.9   \n",
              "341        Adelie Penguin (Pygoscelis adeliae)              39.0   \n",
              "342        Adelie Penguin (Pygoscelis adeliae)              40.6   \n",
              "343        Adelie Penguin (Pygoscelis adeliae)              37.3   \n",
              "\n",
              "     culmen_depth_mm  flipper_length_mm  body_mass_g  \n",
              "0               18.4              184.0       3475.0  \n",
              "1               19.1              184.0       4650.0  \n",
              "2               18.9              184.0       3900.0  \n",
              "3               17.9              192.0       3500.0  \n",
              "4               16.8              192.0       3000.0  \n",
              "..               ...                ...          ...  \n",
              "339             17.6              191.0       3275.0  \n",
              "340             16.8              191.0       3700.0  \n",
              "341             17.1              191.0       3050.0  \n",
              "342             19.0              199.0       4000.0  \n",
              "343             20.5              199.0       3775.0  \n",
              "\n",
              "[334 rows x 5 columns]"
            ],
            "text/html": [
              "\n",
              "  <div id=\"df-2d858d25-c972-4640-89f4-64bfe5672461\" class=\"colab-df-container\">\n",
              "    <div>\n",
              "<style scoped>\n",
              "    .dataframe tbody tr th:only-of-type {\n",
              "        vertical-align: middle;\n",
              "    }\n",
              "\n",
              "    .dataframe tbody tr th {\n",
              "        vertical-align: top;\n",
              "    }\n",
              "\n",
              "    .dataframe thead th {\n",
              "        text-align: right;\n",
              "    }\n",
              "</style>\n",
              "<table border=\"1\" class=\"dataframe\">\n",
              "  <thead>\n",
              "    <tr style=\"text-align: right;\">\n",
              "      <th></th>\n",
              "      <th>species</th>\n",
              "      <th>culmen_length_mm</th>\n",
              "      <th>culmen_depth_mm</th>\n",
              "      <th>flipper_length_mm</th>\n",
              "      <th>body_mass_g</th>\n",
              "    </tr>\n",
              "  </thead>\n",
              "  <tbody>\n",
              "    <tr>\n",
              "      <th>0</th>\n",
              "      <td>Adelie Penguin (Pygoscelis adeliae)</td>\n",
              "      <td>36.6</td>\n",
              "      <td>18.4</td>\n",
              "      <td>184.0</td>\n",
              "      <td>3475.0</td>\n",
              "    </tr>\n",
              "    <tr>\n",
              "      <th>1</th>\n",
              "      <td>Adelie Penguin (Pygoscelis adeliae)</td>\n",
              "      <td>39.8</td>\n",
              "      <td>19.1</td>\n",
              "      <td>184.0</td>\n",
              "      <td>4650.0</td>\n",
              "    </tr>\n",
              "    <tr>\n",
              "      <th>2</th>\n",
              "      <td>Adelie Penguin (Pygoscelis adeliae)</td>\n",
              "      <td>40.9</td>\n",
              "      <td>18.9</td>\n",
              "      <td>184.0</td>\n",
              "      <td>3900.0</td>\n",
              "    </tr>\n",
              "    <tr>\n",
              "      <th>3</th>\n",
              "      <td>Chinstrap penguin (Pygoscelis antarctica)</td>\n",
              "      <td>46.5</td>\n",
              "      <td>17.9</td>\n",
              "      <td>192.0</td>\n",
              "      <td>3500.0</td>\n",
              "    </tr>\n",
              "    <tr>\n",
              "      <th>4</th>\n",
              "      <td>Adelie Penguin (Pygoscelis adeliae)</td>\n",
              "      <td>37.3</td>\n",
              "      <td>16.8</td>\n",
              "      <td>192.0</td>\n",
              "      <td>3000.0</td>\n",
              "    </tr>\n",
              "    <tr>\n",
              "      <th>...</th>\n",
              "      <td>...</td>\n",
              "      <td>...</td>\n",
              "      <td>...</td>\n",
              "      <td>...</td>\n",
              "      <td>...</td>\n",
              "    </tr>\n",
              "    <tr>\n",
              "      <th>339</th>\n",
              "      <td>Adelie Penguin (Pygoscelis adeliae)</td>\n",
              "      <td>38.8</td>\n",
              "      <td>17.6</td>\n",
              "      <td>191.0</td>\n",
              "      <td>3275.0</td>\n",
              "    </tr>\n",
              "    <tr>\n",
              "      <th>340</th>\n",
              "      <td>Adelie Penguin (Pygoscelis adeliae)</td>\n",
              "      <td>40.9</td>\n",
              "      <td>16.8</td>\n",
              "      <td>191.0</td>\n",
              "      <td>3700.0</td>\n",
              "    </tr>\n",
              "    <tr>\n",
              "      <th>341</th>\n",
              "      <td>Adelie Penguin (Pygoscelis adeliae)</td>\n",
              "      <td>39.0</td>\n",
              "      <td>17.1</td>\n",
              "      <td>191.0</td>\n",
              "      <td>3050.0</td>\n",
              "    </tr>\n",
              "    <tr>\n",
              "      <th>342</th>\n",
              "      <td>Adelie Penguin (Pygoscelis adeliae)</td>\n",
              "      <td>40.6</td>\n",
              "      <td>19.0</td>\n",
              "      <td>199.0</td>\n",
              "      <td>4000.0</td>\n",
              "    </tr>\n",
              "    <tr>\n",
              "      <th>343</th>\n",
              "      <td>Adelie Penguin (Pygoscelis adeliae)</td>\n",
              "      <td>37.3</td>\n",
              "      <td>20.5</td>\n",
              "      <td>199.0</td>\n",
              "      <td>3775.0</td>\n",
              "    </tr>\n",
              "  </tbody>\n",
              "</table>\n",
              "<p>334 rows × 5 columns</p>\n",
              "</div>\n",
              "    <div class=\"colab-df-buttons\">\n",
              "\n",
              "  <div class=\"colab-df-container\">\n",
              "    <button class=\"colab-df-convert\" onclick=\"convertToInteractive('df-2d858d25-c972-4640-89f4-64bfe5672461')\"\n",
              "            title=\"Convert this dataframe to an interactive table.\"\n",
              "            style=\"display:none;\">\n",
              "\n",
              "  <svg xmlns=\"http://www.w3.org/2000/svg\" height=\"24px\" viewBox=\"0 -960 960 960\">\n",
              "    <path d=\"M120-120v-720h720v720H120Zm60-500h600v-160H180v160Zm220 220h160v-160H400v160Zm0 220h160v-160H400v160ZM180-400h160v-160H180v160Zm440 0h160v-160H620v160ZM180-180h160v-160H180v160Zm440 0h160v-160H620v160Z\"/>\n",
              "  </svg>\n",
              "    </button>\n",
              "\n",
              "  <style>\n",
              "    .colab-df-container {\n",
              "      display:flex;\n",
              "      gap: 12px;\n",
              "    }\n",
              "\n",
              "    .colab-df-convert {\n",
              "      background-color: #E8F0FE;\n",
              "      border: none;\n",
              "      border-radius: 50%;\n",
              "      cursor: pointer;\n",
              "      display: none;\n",
              "      fill: #1967D2;\n",
              "      height: 32px;\n",
              "      padding: 0 0 0 0;\n",
              "      width: 32px;\n",
              "    }\n",
              "\n",
              "    .colab-df-convert:hover {\n",
              "      background-color: #E2EBFA;\n",
              "      box-shadow: 0px 1px 2px rgba(60, 64, 67, 0.3), 0px 1px 3px 1px rgba(60, 64, 67, 0.15);\n",
              "      fill: #174EA6;\n",
              "    }\n",
              "\n",
              "    .colab-df-buttons div {\n",
              "      margin-bottom: 4px;\n",
              "    }\n",
              "\n",
              "    [theme=dark] .colab-df-convert {\n",
              "      background-color: #3B4455;\n",
              "      fill: #D2E3FC;\n",
              "    }\n",
              "\n",
              "    [theme=dark] .colab-df-convert:hover {\n",
              "      background-color: #434B5C;\n",
              "      box-shadow: 0px 1px 3px 1px rgba(0, 0, 0, 0.15);\n",
              "      filter: drop-shadow(0px 1px 2px rgba(0, 0, 0, 0.3));\n",
              "      fill: #FFFFFF;\n",
              "    }\n",
              "  </style>\n",
              "\n",
              "    <script>\n",
              "      const buttonEl =\n",
              "        document.querySelector('#df-2d858d25-c972-4640-89f4-64bfe5672461 button.colab-df-convert');\n",
              "      buttonEl.style.display =\n",
              "        google.colab.kernel.accessAllowed ? 'block' : 'none';\n",
              "\n",
              "      async function convertToInteractive(key) {\n",
              "        const element = document.querySelector('#df-2d858d25-c972-4640-89f4-64bfe5672461');\n",
              "        const dataTable =\n",
              "          await google.colab.kernel.invokeFunction('convertToInteractive',\n",
              "                                                    [key], {});\n",
              "        if (!dataTable) return;\n",
              "\n",
              "        const docLinkHtml = 'Like what you see? Visit the ' +\n",
              "          '<a target=\"_blank\" href=https://colab.research.google.com/notebooks/data_table.ipynb>data table notebook</a>'\n",
              "          + ' to learn more about interactive tables.';\n",
              "        element.innerHTML = '';\n",
              "        dataTable['output_type'] = 'display_data';\n",
              "        await google.colab.output.renderOutput(dataTable, element);\n",
              "        const docLink = document.createElement('div');\n",
              "        docLink.innerHTML = docLinkHtml;\n",
              "        element.appendChild(docLink);\n",
              "      }\n",
              "    </script>\n",
              "  </div>\n",
              "\n",
              "\n",
              "<div id=\"df-dd223636-d704-4a0f-bc23-4ef7c2f64979\">\n",
              "  <button class=\"colab-df-quickchart\" onclick=\"quickchart('df-dd223636-d704-4a0f-bc23-4ef7c2f64979')\"\n",
              "            title=\"Suggest charts\"\n",
              "            style=\"display:none;\">\n",
              "\n",
              "<svg xmlns=\"http://www.w3.org/2000/svg\" height=\"24px\"viewBox=\"0 0 24 24\"\n",
              "     width=\"24px\">\n",
              "    <g>\n",
              "        <path d=\"M19 3H5c-1.1 0-2 .9-2 2v14c0 1.1.9 2 2 2h14c1.1 0 2-.9 2-2V5c0-1.1-.9-2-2-2zM9 17H7v-7h2v7zm4 0h-2V7h2v10zm4 0h-2v-4h2v4z\"/>\n",
              "    </g>\n",
              "</svg>\n",
              "  </button>\n",
              "\n",
              "<style>\n",
              "  .colab-df-quickchart {\n",
              "      --bg-color: #E8F0FE;\n",
              "      --fill-color: #1967D2;\n",
              "      --hover-bg-color: #E2EBFA;\n",
              "      --hover-fill-color: #174EA6;\n",
              "      --disabled-fill-color: #AAA;\n",
              "      --disabled-bg-color: #DDD;\n",
              "  }\n",
              "\n",
              "  [theme=dark] .colab-df-quickchart {\n",
              "      --bg-color: #3B4455;\n",
              "      --fill-color: #D2E3FC;\n",
              "      --hover-bg-color: #434B5C;\n",
              "      --hover-fill-color: #FFFFFF;\n",
              "      --disabled-bg-color: #3B4455;\n",
              "      --disabled-fill-color: #666;\n",
              "  }\n",
              "\n",
              "  .colab-df-quickchart {\n",
              "    background-color: var(--bg-color);\n",
              "    border: none;\n",
              "    border-radius: 50%;\n",
              "    cursor: pointer;\n",
              "    display: none;\n",
              "    fill: var(--fill-color);\n",
              "    height: 32px;\n",
              "    padding: 0;\n",
              "    width: 32px;\n",
              "  }\n",
              "\n",
              "  .colab-df-quickchart:hover {\n",
              "    background-color: var(--hover-bg-color);\n",
              "    box-shadow: 0 1px 2px rgba(60, 64, 67, 0.3), 0 1px 3px 1px rgba(60, 64, 67, 0.15);\n",
              "    fill: var(--button-hover-fill-color);\n",
              "  }\n",
              "\n",
              "  .colab-df-quickchart-complete:disabled,\n",
              "  .colab-df-quickchart-complete:disabled:hover {\n",
              "    background-color: var(--disabled-bg-color);\n",
              "    fill: var(--disabled-fill-color);\n",
              "    box-shadow: none;\n",
              "  }\n",
              "\n",
              "  .colab-df-spinner {\n",
              "    border: 2px solid var(--fill-color);\n",
              "    border-color: transparent;\n",
              "    border-bottom-color: var(--fill-color);\n",
              "    animation:\n",
              "      spin 1s steps(1) infinite;\n",
              "  }\n",
              "\n",
              "  @keyframes spin {\n",
              "    0% {\n",
              "      border-color: transparent;\n",
              "      border-bottom-color: var(--fill-color);\n",
              "      border-left-color: var(--fill-color);\n",
              "    }\n",
              "    20% {\n",
              "      border-color: transparent;\n",
              "      border-left-color: var(--fill-color);\n",
              "      border-top-color: var(--fill-color);\n",
              "    }\n",
              "    30% {\n",
              "      border-color: transparent;\n",
              "      border-left-color: var(--fill-color);\n",
              "      border-top-color: var(--fill-color);\n",
              "      border-right-color: var(--fill-color);\n",
              "    }\n",
              "    40% {\n",
              "      border-color: transparent;\n",
              "      border-right-color: var(--fill-color);\n",
              "      border-top-color: var(--fill-color);\n",
              "    }\n",
              "    60% {\n",
              "      border-color: transparent;\n",
              "      border-right-color: var(--fill-color);\n",
              "    }\n",
              "    80% {\n",
              "      border-color: transparent;\n",
              "      border-right-color: var(--fill-color);\n",
              "      border-bottom-color: var(--fill-color);\n",
              "    }\n",
              "    90% {\n",
              "      border-color: transparent;\n",
              "      border-bottom-color: var(--fill-color);\n",
              "    }\n",
              "  }\n",
              "</style>\n",
              "\n",
              "  <script>\n",
              "    async function quickchart(key) {\n",
              "      const quickchartButtonEl =\n",
              "        document.querySelector('#' + key + ' button');\n",
              "      quickchartButtonEl.disabled = true;  // To prevent multiple clicks.\n",
              "      quickchartButtonEl.classList.add('colab-df-spinner');\n",
              "      try {\n",
              "        const charts = await google.colab.kernel.invokeFunction(\n",
              "            'suggestCharts', [key], {});\n",
              "      } catch (error) {\n",
              "        console.error('Error during call to suggestCharts:', error);\n",
              "      }\n",
              "      quickchartButtonEl.classList.remove('colab-df-spinner');\n",
              "      quickchartButtonEl.classList.add('colab-df-quickchart-complete');\n",
              "    }\n",
              "    (() => {\n",
              "      let quickchartButtonEl =\n",
              "        document.querySelector('#df-dd223636-d704-4a0f-bc23-4ef7c2f64979 button');\n",
              "      quickchartButtonEl.style.display =\n",
              "        google.colab.kernel.accessAllowed ? 'block' : 'none';\n",
              "    })();\n",
              "  </script>\n",
              "</div>\n",
              "    </div>\n",
              "  </div>\n"
            ]
          },
          "metadata": {},
          "execution_count": 8
        }
      ]
    },
    {
      "cell_type": "code",
      "source": [
        "pen_df.shape"
      ],
      "metadata": {
        "colab": {
          "base_uri": "https://localhost:8080/"
        },
        "id": "-qlIS34UK0Fe",
        "outputId": "7d4dea4e-bb5f-4604-8c36-97a4986e1837"
      },
      "execution_count": null,
      "outputs": [
        {
          "output_type": "execute_result",
          "data": {
            "text/plain": [
              "(334, 5)"
            ]
          },
          "metadata": {},
          "execution_count": 9
        }
      ]
    },
    {
      "cell_type": "markdown",
      "source": [
        "---\n",
        "# Problem Set 1\n",
        "## `penguins` Dataset Entropy and IG\n",
        "\n",
        "\n",
        "\n",
        "\n",
        "\n",
        "\n",
        "\n",
        "\n"
      ],
      "metadata": {
        "id": "Kce7RSzIG1XN"
      }
    },
    {
      "cell_type": "markdown",
      "source": [
        "In the next few cells, copy your code we wrote in [Tech Lesson 04 Practice Part 1: Entropy and IG Notebook](https://colab.research.google.com/drive/1y_LQ_Ku0s2-4u-qRvRNunmqIkyZnMwKU#scrollTo=nsN2oV3zQQSP) that defined Entropy and IG functions in the next two cells. We will use the functions in this problem set to calculate entropy and information gain."
      ],
      "metadata": {
        "id": "tpxxVojyNk2f"
      }
    },
    {
      "cell_type": "markdown",
      "source": [
        "### Entropy Function from Part 1 Notebook\n",
        "\n",
        "Copy your function for entropy in the next cell."
      ],
      "metadata": {
        "id": "D7HesS6CHDYv"
      }
    },
    {
      "cell_type": "code",
      "source": [
        "def entropy(df, target_column):\n",
        "    total = df.shape[0]\n",
        "    target_counts = df[target_column].value_counts().astype(float).values\n",
        "    probs = target_counts/total\n",
        "    entropy_components = probs * np.log2(probs)\n",
        "    H = -1 * sum(entropy_components)\n",
        "    return round(H, 4)"
      ],
      "metadata": {
        "id": "5KuqGGoDHHrh"
      },
      "execution_count": null,
      "outputs": []
    },
    {
      "cell_type": "markdown",
      "source": [
        "### IG Function from Part 1 Notebook\n",
        "\n",
        "Copy your function for information gain in the next cell."
      ],
      "metadata": {
        "id": "SpYlyYXlHMep"
      }
    },
    {
      "cell_type": "code",
      "source": [
        "def info_gain(df, info_column, target_column, threshold):\n",
        "\n",
        "    # split the data based on the threshold\n",
        "    # this allows us to test various thresholds of the attribute to see how much info is gained\n",
        "\n",
        "    data_above_thresh = df[df[info_column] <= threshold]\n",
        "    data_below_thresh = df[df[info_column] > threshold]\n",
        "\n",
        "    # get/calculate entropy from entropy function\n",
        "\n",
        "    H = entropy(df, target_column) # Parent entropy\n",
        "\n",
        "    entropy_above = entropy(data_above_thresh, target_column)\n",
        "    entropy_below = entropy(data_below_thresh, target_column)\n",
        "\n",
        "    # Get the weighted average\n",
        "    # first we count the number of values above and below a threshold, and the total\n",
        "\n",
        "    values_above = data_above_thresh.shape[0]\n",
        "    values_below = data_below_thresh.shape[0]\n",
        "\n",
        "    values_total = float(df.shape[0])\n",
        "\n",
        "    # return info gain\n",
        "    info_gain = H - (((values_above / values_total) * entropy_above) + ((values_below / values_total) * entropy_below))\n",
        "\n",
        "    return round(info_gain, 4)\n",
        "\n"
      ],
      "metadata": {
        "id": "Tc9RwiuoHPbI"
      },
      "execution_count": null,
      "outputs": []
    },
    {
      "cell_type": "markdown",
      "source": [
        "## Problem 1.1: Parent Entropy (species)\n",
        "\n",
        "Calculate the parent entropy for the penguins dataset\n",
        "\n",
        ">- Calculate parent_entropy for \"species\"\n",
        ">- Show the parent entropy from the dataframe in the next code cell rounded to three decimals\n",
        ">- Store the results in a variable called, `parent_entropy`\n",
        ">- Round the results to 3 decimals"
      ],
      "metadata": {
        "id": "cZeo04SLSBcV"
      }
    },
    {
      "cell_type": "code",
      "source": [
        "entropy(pen_df, 'species')"
      ],
      "metadata": {
        "id": "55Pz3dleSI-K",
        "colab": {
          "base_uri": "https://localhost:8080/"
        },
        "outputId": "13a39bcf-280f-48be-e874-9233ee2ad41d"
      },
      "execution_count": null,
      "outputs": [
        {
          "output_type": "execute_result",
          "data": {
            "text/plain": [
              "1.52"
            ]
          },
          "metadata": {},
          "execution_count": 12
        }
      ]
    },
    {
      "cell_type": "markdown",
      "source": [
        "## Problem 1.2: Information Gain\n",
        "In the next code cell,\n",
        ">- Show IG by using the \"culmen_length_mm\" field with a threshold equal to the mean of the values\n",
        ">- Round the results to 3 decimal places\n"
      ],
      "metadata": {
        "id": "LVwj42w7SVXh"
      }
    },
    {
      "cell_type": "code",
      "source": [
        "info_gain(pen_df, 'culmen_length_mm', 'species', sum(pen_df['culmen_length_mm'])/len(pen_df))"
      ],
      "metadata": {
        "id": "GcZ96TNHf3NC",
        "colab": {
          "base_uri": "https://localhost:8080/"
        },
        "outputId": "3b8941aa-368f-485b-b8ea-1c58f82a9505"
      },
      "execution_count": null,
      "outputs": [
        {
          "output_type": "execute_result",
          "data": {
            "text/plain": [
              "0.6223"
            ]
          },
          "metadata": {},
          "execution_count": 13
        }
      ]
    },
    {
      "cell_type": "markdown",
      "source": [
        "# Programming Problem 1: Finding the Best Splits on an Attribute\n",
        "\n",
        ">- We took a guess that the mean would be a decent split on culmen_length_mm, now let's write a function to loop through all possible values and find the split that maximizes IG.\n",
        "\n",
        "In the next cell create a function to return maximum information gain from one attribute as well as the threshold at which to split the data to achieve the max info gain.\n",
        "\n",
        "Use the function signature: `def best_threshold(df, info_column, target_column, criteria = info_gain):` where:\n",
        ">-  `df` is the dataset of interest\n",
        ">- `info_column` is the attribute we want to test to see how much information is gained\n",
        ">- `target_column` is the labeled column we want to predict\n",
        ">- `criteria` the value we are using to determine the best split, in this case the default will be inforomation gain that is returned by our `info_gain` function"
      ],
      "metadata": {
        "id": "oVoDWVy-T5Z6"
      }
    },
    {
      "cell_type": "code",
      "source": [
        "def best_threshold(df, info_column, target_column, criteria = info_gain):\n",
        "    ig_max = 0\n",
        "    threshold_max = 0\n",
        "\n",
        "    for thresh in df[info_column]:\n",
        "        ig = criteria(df, info_column, target_column, threshold = thresh)\n",
        "\n",
        "        if ig > ig_max:\n",
        "            ig_max = ig\n",
        "            threshold_max = thresh\n",
        "    return(ig_max, threshold_max)"
      ],
      "metadata": {
        "id": "BDnU9ICRPyM0"
      },
      "execution_count": null,
      "outputs": []
    },
    {
      "cell_type": "markdown",
      "source": [
        "### Problem 1.3\n",
        "\n",
        "In the next cell show the information gain max and best threshold based on:\n",
        "\n",
        ">- df = penguin_df\n",
        ">- info_column = \"culmen_length_mm\"\n",
        ">- target_column = \"species\"\n",
        ">- critera = info_gain"
      ],
      "metadata": {
        "id": "M4YB6rvSRv90"
      }
    },
    {
      "cell_type": "code",
      "source": [
        "best_threshold(pen_df, \"culmen_length_mm\", \"species\", criteria = info_gain)"
      ],
      "metadata": {
        "id": "p9MKtr-cWalm",
        "colab": {
          "base_uri": "https://localhost:8080/"
        },
        "outputId": "b8af7164-5eaf-4db2-9da4-078b75409ea2"
      },
      "execution_count": null,
      "outputs": [
        {
          "output_type": "execute_result",
          "data": {
            "text/plain": [
              "(0.7159, 42.3)"
            ]
          },
          "metadata": {},
          "execution_count": 16
        }
      ]
    },
    {
      "cell_type": "markdown",
      "source": [
        "How does the best threshold from our function compare to using the mean as the threshold?"
      ],
      "metadata": {
        "id": "JdnT3uc_oXCn"
      }
    },
    {
      "cell_type": "code",
      "source": [],
      "metadata": {
        "id": "iRu_WFXyocnm"
      },
      "execution_count": null,
      "outputs": []
    },
    {
      "cell_type": "markdown",
      "source": [
        "# Programming Problem 2: Finding the most informative attribute\n",
        "\n",
        "In the next code cell, define a function that returns the column/attribute name, the threshold, and maximum information gain of the feature that provides the best split of the data.\n",
        "\n",
        "Use the function signature: `def best_split(df, info_columns, target_columns, criteria = info_gain)` where,\n",
        "\n",
        ">- df is the DataFrame containing the desired data\n",
        ">- `info_columns` is a list that stores all the feature names in the DataFrame\n",
        ">- `target_column` is the target in the DataFrame\n",
        ">- `criteria` is how we will assess the best split where we will set the default to information gain that is returned from our `info_gain` function\n",
        "\n",
        "Hints:\n",
        ">- For this problem you can use a loop to iterate through each `info_column` and calculate the information gain and best threshold for each of the columns.\n",
        ">- Use the `best_threshold()` function we defined in Programming Problem 1 to find the best thresholds and information gain for each attribute\n",
        ">- Within the loop, set up logic to update a maximum info gain variable, maximum threshold variable, and the name of the column where the maximums are achieved.  \n",
        "\n"
      ],
      "metadata": {
        "id": "M2ugcrCheBHB"
      }
    },
    {
      "cell_type": "code",
      "source": [
        "def best_split(df, info_columns, target_column, criteria = info_gain):\n",
        "    featuremax = ''\n",
        "    th = 0\n",
        "    igain = 0\n",
        "    for icolumn in info_columns:\n",
        "        t = best_threshold(df, icolumn, target_column, criteria = info_gain)\n",
        "        infog = criteria(df, icolumn, target_column, threshold = t)\n",
        "        if infog > igain:\n",
        "            igain = infog\n",
        "            th = t\n",
        "            featuremax = icolumn\n",
        "\n",
        "\n",
        "    return (featuremax, th, igain)"
      ],
      "metadata": {
        "id": "WazS9Ot-eLDg"
      },
      "execution_count": null,
      "outputs": []
    },
    {
      "cell_type": "markdown",
      "source": [
        "## Problem 1.4: Find most informative attribute in the penguins dataset\n",
        "\n",
        "In the next code cell, find the most informative attribute in the penguins dataset by calling your `best_split()` function and passing in the appropriate parameters."
      ],
      "metadata": {
        "id": "-t8RkTx8Xkt3"
      }
    },
    {
      "cell_type": "code",
      "source": [
        "best_split(pen_df,['culmen_length_mm', 'culmen_depth_mm',\t'flipper_length_mm', 'body_mass_g'], 'species', criteria = info_gain)"
      ],
      "metadata": {
        "id": "YZo5YZ7RqFPj",
        "colab": {
          "base_uri": "https://localhost:8080/",
          "height": 321
        },
        "outputId": "12f5af3c-0cb3-4b08-cbd5-a2b6a692394a"
      },
      "execution_count": null,
      "outputs": [
        {
          "output_type": "error",
          "ename": "ValueError",
          "evalue": "operands could not be broadcast together with shapes (334,) (2,) ",
          "traceback": [
            "\u001b[0;31m---------------------------------------------------------------------------\u001b[0m",
            "\u001b[0;31mValueError\u001b[0m                                Traceback (most recent call last)",
            "\u001b[0;32m<ipython-input-19-a84ec18f0693>\u001b[0m in \u001b[0;36m<cell line: 1>\u001b[0;34m()\u001b[0m\n\u001b[0;32m----> 1\u001b[0;31m \u001b[0mbest_split\u001b[0m\u001b[0;34m(\u001b[0m\u001b[0mpen_df\u001b[0m\u001b[0;34m,\u001b[0m\u001b[0;34m[\u001b[0m\u001b[0;34m'culmen_length_mm'\u001b[0m\u001b[0;34m,\u001b[0m \u001b[0;34m'culmen_depth_mm'\u001b[0m\u001b[0;34m,\u001b[0m       \u001b[0;34m'flipper_length_mm'\u001b[0m\u001b[0;34m,\u001b[0m \u001b[0;34m'body_mass_g'\u001b[0m\u001b[0;34m]\u001b[0m\u001b[0;34m,\u001b[0m \u001b[0;34m'species'\u001b[0m\u001b[0;34m,\u001b[0m \u001b[0mcriteria\u001b[0m \u001b[0;34m=\u001b[0m \u001b[0minfo_gain\u001b[0m\u001b[0;34m)\u001b[0m\u001b[0;34m\u001b[0m\u001b[0;34m\u001b[0m\u001b[0m\n\u001b[0m",
            "\u001b[0;32m<ipython-input-17-b91df3afb267>\u001b[0m in \u001b[0;36mbest_split\u001b[0;34m(df, info_columns, target_column, criteria)\u001b[0m\n\u001b[1;32m      5\u001b[0m     \u001b[0;32mfor\u001b[0m \u001b[0micolumn\u001b[0m \u001b[0;32min\u001b[0m \u001b[0minfo_columns\u001b[0m\u001b[0;34m:\u001b[0m\u001b[0;34m\u001b[0m\u001b[0;34m\u001b[0m\u001b[0m\n\u001b[1;32m      6\u001b[0m         \u001b[0mt\u001b[0m \u001b[0;34m=\u001b[0m \u001b[0mbest_threshold\u001b[0m\u001b[0;34m(\u001b[0m\u001b[0mdf\u001b[0m\u001b[0;34m,\u001b[0m \u001b[0micolumn\u001b[0m\u001b[0;34m,\u001b[0m \u001b[0mtarget_column\u001b[0m\u001b[0;34m,\u001b[0m \u001b[0mcriteria\u001b[0m \u001b[0;34m=\u001b[0m \u001b[0minfo_gain\u001b[0m\u001b[0;34m)\u001b[0m\u001b[0;34m\u001b[0m\u001b[0;34m\u001b[0m\u001b[0m\n\u001b[0;32m----> 7\u001b[0;31m         \u001b[0minfog\u001b[0m \u001b[0;34m=\u001b[0m \u001b[0mcriteria\u001b[0m\u001b[0;34m(\u001b[0m\u001b[0mdf\u001b[0m\u001b[0;34m,\u001b[0m \u001b[0micolumn\u001b[0m\u001b[0;34m,\u001b[0m \u001b[0mtarget_column\u001b[0m\u001b[0;34m,\u001b[0m \u001b[0mthreshold\u001b[0m \u001b[0;34m=\u001b[0m \u001b[0mt\u001b[0m\u001b[0;34m)\u001b[0m\u001b[0;34m\u001b[0m\u001b[0;34m\u001b[0m\u001b[0m\n\u001b[0m\u001b[1;32m      8\u001b[0m         \u001b[0;32mif\u001b[0m \u001b[0minfog\u001b[0m \u001b[0;34m>\u001b[0m \u001b[0migain\u001b[0m\u001b[0;34m:\u001b[0m\u001b[0;34m\u001b[0m\u001b[0;34m\u001b[0m\u001b[0m\n\u001b[1;32m      9\u001b[0m             \u001b[0migain\u001b[0m \u001b[0;34m=\u001b[0m \u001b[0minfog\u001b[0m\u001b[0;34m\u001b[0m\u001b[0;34m\u001b[0m\u001b[0m\n",
            "\u001b[0;32m<ipython-input-11-4a73524462d0>\u001b[0m in \u001b[0;36minfo_gain\u001b[0;34m(df, info_column, target_column, threshold)\u001b[0m\n\u001b[1;32m      4\u001b[0m     \u001b[0;31m# this allows us to test various thresholds of the attribute to see how much info is gained\u001b[0m\u001b[0;34m\u001b[0m\u001b[0;34m\u001b[0m\u001b[0m\n\u001b[1;32m      5\u001b[0m \u001b[0;34m\u001b[0m\u001b[0m\n\u001b[0;32m----> 6\u001b[0;31m     \u001b[0mdata_above_thresh\u001b[0m \u001b[0;34m=\u001b[0m \u001b[0mdf\u001b[0m\u001b[0;34m[\u001b[0m\u001b[0mdf\u001b[0m\u001b[0;34m[\u001b[0m\u001b[0minfo_column\u001b[0m\u001b[0;34m]\u001b[0m \u001b[0;34m<=\u001b[0m \u001b[0mthreshold\u001b[0m\u001b[0;34m]\u001b[0m\u001b[0;34m\u001b[0m\u001b[0;34m\u001b[0m\u001b[0m\n\u001b[0m\u001b[1;32m      7\u001b[0m     \u001b[0mdata_below_thresh\u001b[0m \u001b[0;34m=\u001b[0m \u001b[0mdf\u001b[0m\u001b[0;34m[\u001b[0m\u001b[0mdf\u001b[0m\u001b[0;34m[\u001b[0m\u001b[0minfo_column\u001b[0m\u001b[0;34m]\u001b[0m \u001b[0;34m>\u001b[0m \u001b[0mthreshold\u001b[0m\u001b[0;34m]\u001b[0m\u001b[0;34m\u001b[0m\u001b[0;34m\u001b[0m\u001b[0m\n\u001b[1;32m      8\u001b[0m \u001b[0;34m\u001b[0m\u001b[0m\n",
            "\u001b[0;32m/usr/local/lib/python3.10/dist-packages/pandas/core/ops/common.py\u001b[0m in \u001b[0;36mnew_method\u001b[0;34m(self, other)\u001b[0m\n\u001b[1;32m     70\u001b[0m         \u001b[0mother\u001b[0m \u001b[0;34m=\u001b[0m \u001b[0mitem_from_zerodim\u001b[0m\u001b[0;34m(\u001b[0m\u001b[0mother\u001b[0m\u001b[0;34m)\u001b[0m\u001b[0;34m\u001b[0m\u001b[0;34m\u001b[0m\u001b[0m\n\u001b[1;32m     71\u001b[0m \u001b[0;34m\u001b[0m\u001b[0m\n\u001b[0;32m---> 72\u001b[0;31m         \u001b[0;32mreturn\u001b[0m \u001b[0mmethod\u001b[0m\u001b[0;34m(\u001b[0m\u001b[0mself\u001b[0m\u001b[0;34m,\u001b[0m \u001b[0mother\u001b[0m\u001b[0;34m)\u001b[0m\u001b[0;34m\u001b[0m\u001b[0;34m\u001b[0m\u001b[0m\n\u001b[0m\u001b[1;32m     73\u001b[0m \u001b[0;34m\u001b[0m\u001b[0m\n\u001b[1;32m     74\u001b[0m     \u001b[0;32mreturn\u001b[0m \u001b[0mnew_method\u001b[0m\u001b[0;34m\u001b[0m\u001b[0;34m\u001b[0m\u001b[0m\n",
            "\u001b[0;32m/usr/local/lib/python3.10/dist-packages/pandas/core/arraylike.py\u001b[0m in \u001b[0;36m__le__\u001b[0;34m(self, other)\u001b[0m\n\u001b[1;32m     52\u001b[0m     \u001b[0;34m@\u001b[0m\u001b[0munpack_zerodim_and_defer\u001b[0m\u001b[0;34m(\u001b[0m\u001b[0;34m\"__le__\"\u001b[0m\u001b[0;34m)\u001b[0m\u001b[0;34m\u001b[0m\u001b[0;34m\u001b[0m\u001b[0m\n\u001b[1;32m     53\u001b[0m     \u001b[0;32mdef\u001b[0m \u001b[0m__le__\u001b[0m\u001b[0;34m(\u001b[0m\u001b[0mself\u001b[0m\u001b[0;34m,\u001b[0m \u001b[0mother\u001b[0m\u001b[0;34m)\u001b[0m\u001b[0;34m:\u001b[0m\u001b[0;34m\u001b[0m\u001b[0;34m\u001b[0m\u001b[0m\n\u001b[0;32m---> 54\u001b[0;31m         \u001b[0;32mreturn\u001b[0m \u001b[0mself\u001b[0m\u001b[0;34m.\u001b[0m\u001b[0m_cmp_method\u001b[0m\u001b[0;34m(\u001b[0m\u001b[0mother\u001b[0m\u001b[0;34m,\u001b[0m \u001b[0moperator\u001b[0m\u001b[0;34m.\u001b[0m\u001b[0mle\u001b[0m\u001b[0;34m)\u001b[0m\u001b[0;34m\u001b[0m\u001b[0;34m\u001b[0m\u001b[0m\n\u001b[0m\u001b[1;32m     55\u001b[0m \u001b[0;34m\u001b[0m\u001b[0m\n\u001b[1;32m     56\u001b[0m     \u001b[0;34m@\u001b[0m\u001b[0munpack_zerodim_and_defer\u001b[0m\u001b[0;34m(\u001b[0m\u001b[0;34m\"__gt__\"\u001b[0m\u001b[0;34m)\u001b[0m\u001b[0;34m\u001b[0m\u001b[0;34m\u001b[0m\u001b[0m\n",
            "\u001b[0;32m/usr/local/lib/python3.10/dist-packages/pandas/core/series.py\u001b[0m in \u001b[0;36m_cmp_method\u001b[0;34m(self, other, op)\u001b[0m\n\u001b[1;32m   6241\u001b[0m \u001b[0;34m\u001b[0m\u001b[0m\n\u001b[1;32m   6242\u001b[0m         \u001b[0;32mwith\u001b[0m \u001b[0mnp\u001b[0m\u001b[0;34m.\u001b[0m\u001b[0merrstate\u001b[0m\u001b[0;34m(\u001b[0m\u001b[0mall\u001b[0m\u001b[0;34m=\u001b[0m\u001b[0;34m\"ignore\"\u001b[0m\u001b[0;34m)\u001b[0m\u001b[0;34m:\u001b[0m\u001b[0;34m\u001b[0m\u001b[0;34m\u001b[0m\u001b[0m\n\u001b[0;32m-> 6243\u001b[0;31m             \u001b[0mres_values\u001b[0m \u001b[0;34m=\u001b[0m \u001b[0mops\u001b[0m\u001b[0;34m.\u001b[0m\u001b[0mcomparison_op\u001b[0m\u001b[0;34m(\u001b[0m\u001b[0mlvalues\u001b[0m\u001b[0;34m,\u001b[0m \u001b[0mrvalues\u001b[0m\u001b[0;34m,\u001b[0m \u001b[0mop\u001b[0m\u001b[0;34m)\u001b[0m\u001b[0;34m\u001b[0m\u001b[0;34m\u001b[0m\u001b[0m\n\u001b[0m\u001b[1;32m   6244\u001b[0m \u001b[0;34m\u001b[0m\u001b[0m\n\u001b[1;32m   6245\u001b[0m         \u001b[0;32mreturn\u001b[0m \u001b[0mself\u001b[0m\u001b[0;34m.\u001b[0m\u001b[0m_construct_result\u001b[0m\u001b[0;34m(\u001b[0m\u001b[0mres_values\u001b[0m\u001b[0;34m,\u001b[0m \u001b[0mname\u001b[0m\u001b[0;34m=\u001b[0m\u001b[0mres_name\u001b[0m\u001b[0;34m)\u001b[0m\u001b[0;34m\u001b[0m\u001b[0;34m\u001b[0m\u001b[0m\n",
            "\u001b[0;32m/usr/local/lib/python3.10/dist-packages/pandas/core/ops/array_ops.py\u001b[0m in \u001b[0;36mcomparison_op\u001b[0;34m(left, right, op)\u001b[0m\n\u001b[1;32m    288\u001b[0m \u001b[0;34m\u001b[0m\u001b[0m\n\u001b[1;32m    289\u001b[0m     \u001b[0;32melse\u001b[0m\u001b[0;34m:\u001b[0m\u001b[0;34m\u001b[0m\u001b[0;34m\u001b[0m\u001b[0m\n\u001b[0;32m--> 290\u001b[0;31m         \u001b[0mres_values\u001b[0m \u001b[0;34m=\u001b[0m \u001b[0m_na_arithmetic_op\u001b[0m\u001b[0;34m(\u001b[0m\u001b[0mlvalues\u001b[0m\u001b[0;34m,\u001b[0m \u001b[0mrvalues\u001b[0m\u001b[0;34m,\u001b[0m \u001b[0mop\u001b[0m\u001b[0;34m,\u001b[0m \u001b[0mis_cmp\u001b[0m\u001b[0;34m=\u001b[0m\u001b[0;32mTrue\u001b[0m\u001b[0;34m)\u001b[0m\u001b[0;34m\u001b[0m\u001b[0;34m\u001b[0m\u001b[0m\n\u001b[0m\u001b[1;32m    291\u001b[0m \u001b[0;34m\u001b[0m\u001b[0m\n\u001b[1;32m    292\u001b[0m     \u001b[0;32mreturn\u001b[0m \u001b[0mres_values\u001b[0m\u001b[0;34m\u001b[0m\u001b[0;34m\u001b[0m\u001b[0m\n",
            "\u001b[0;32m/usr/local/lib/python3.10/dist-packages/pandas/core/ops/array_ops.py\u001b[0m in \u001b[0;36m_na_arithmetic_op\u001b[0;34m(left, right, op, is_cmp)\u001b[0m\n\u001b[1;32m    163\u001b[0m \u001b[0;34m\u001b[0m\u001b[0m\n\u001b[1;32m    164\u001b[0m     \u001b[0;32mtry\u001b[0m\u001b[0;34m:\u001b[0m\u001b[0;34m\u001b[0m\u001b[0;34m\u001b[0m\u001b[0m\n\u001b[0;32m--> 165\u001b[0;31m         \u001b[0mresult\u001b[0m \u001b[0;34m=\u001b[0m \u001b[0mfunc\u001b[0m\u001b[0;34m(\u001b[0m\u001b[0mleft\u001b[0m\u001b[0;34m,\u001b[0m \u001b[0mright\u001b[0m\u001b[0;34m)\u001b[0m\u001b[0;34m\u001b[0m\u001b[0;34m\u001b[0m\u001b[0m\n\u001b[0m\u001b[1;32m    166\u001b[0m     \u001b[0;32mexcept\u001b[0m \u001b[0mTypeError\u001b[0m\u001b[0;34m:\u001b[0m\u001b[0;34m\u001b[0m\u001b[0;34m\u001b[0m\u001b[0m\n\u001b[1;32m    167\u001b[0m         \u001b[0;32mif\u001b[0m \u001b[0;32mnot\u001b[0m \u001b[0mis_cmp\u001b[0m \u001b[0;32mand\u001b[0m \u001b[0;34m(\u001b[0m\u001b[0mis_object_dtype\u001b[0m\u001b[0;34m(\u001b[0m\u001b[0mleft\u001b[0m\u001b[0;34m.\u001b[0m\u001b[0mdtype\u001b[0m\u001b[0;34m)\u001b[0m \u001b[0;32mor\u001b[0m \u001b[0mis_object_dtype\u001b[0m\u001b[0;34m(\u001b[0m\u001b[0mright\u001b[0m\u001b[0;34m)\u001b[0m\u001b[0;34m)\u001b[0m\u001b[0;34m:\u001b[0m\u001b[0;34m\u001b[0m\u001b[0;34m\u001b[0m\u001b[0m\n",
            "\u001b[0;32m/usr/local/lib/python3.10/dist-packages/pandas/core/computation/expressions.py\u001b[0m in \u001b[0;36mevaluate\u001b[0;34m(op, a, b, use_numexpr)\u001b[0m\n\u001b[1;32m    239\u001b[0m         \u001b[0;32mif\u001b[0m \u001b[0muse_numexpr\u001b[0m\u001b[0;34m:\u001b[0m\u001b[0;34m\u001b[0m\u001b[0;34m\u001b[0m\u001b[0m\n\u001b[1;32m    240\u001b[0m             \u001b[0;31m# error: \"None\" not callable\u001b[0m\u001b[0;34m\u001b[0m\u001b[0;34m\u001b[0m\u001b[0m\n\u001b[0;32m--> 241\u001b[0;31m             \u001b[0;32mreturn\u001b[0m \u001b[0m_evaluate\u001b[0m\u001b[0;34m(\u001b[0m\u001b[0mop\u001b[0m\u001b[0;34m,\u001b[0m \u001b[0mop_str\u001b[0m\u001b[0;34m,\u001b[0m \u001b[0ma\u001b[0m\u001b[0;34m,\u001b[0m \u001b[0mb\u001b[0m\u001b[0;34m)\u001b[0m  \u001b[0;31m# type: ignore[misc]\u001b[0m\u001b[0;34m\u001b[0m\u001b[0;34m\u001b[0m\u001b[0m\n\u001b[0m\u001b[1;32m    242\u001b[0m     \u001b[0;32mreturn\u001b[0m \u001b[0m_evaluate_standard\u001b[0m\u001b[0;34m(\u001b[0m\u001b[0mop\u001b[0m\u001b[0;34m,\u001b[0m \u001b[0mop_str\u001b[0m\u001b[0;34m,\u001b[0m \u001b[0ma\u001b[0m\u001b[0;34m,\u001b[0m \u001b[0mb\u001b[0m\u001b[0;34m)\u001b[0m\u001b[0;34m\u001b[0m\u001b[0;34m\u001b[0m\u001b[0m\n\u001b[1;32m    243\u001b[0m \u001b[0;34m\u001b[0m\u001b[0m\n",
            "\u001b[0;32m/usr/local/lib/python3.10/dist-packages/pandas/core/computation/expressions.py\u001b[0m in \u001b[0;36m_evaluate_numexpr\u001b[0;34m(op, op_str, a, b)\u001b[0m\n\u001b[1;32m    127\u001b[0m \u001b[0;34m\u001b[0m\u001b[0m\n\u001b[1;32m    128\u001b[0m     \u001b[0;32mif\u001b[0m \u001b[0mresult\u001b[0m \u001b[0;32mis\u001b[0m \u001b[0;32mNone\u001b[0m\u001b[0;34m:\u001b[0m\u001b[0;34m\u001b[0m\u001b[0;34m\u001b[0m\u001b[0m\n\u001b[0;32m--> 129\u001b[0;31m         \u001b[0mresult\u001b[0m \u001b[0;34m=\u001b[0m \u001b[0m_evaluate_standard\u001b[0m\u001b[0;34m(\u001b[0m\u001b[0mop\u001b[0m\u001b[0;34m,\u001b[0m \u001b[0mop_str\u001b[0m\u001b[0;34m,\u001b[0m \u001b[0ma\u001b[0m\u001b[0;34m,\u001b[0m \u001b[0mb\u001b[0m\u001b[0;34m)\u001b[0m\u001b[0;34m\u001b[0m\u001b[0;34m\u001b[0m\u001b[0m\n\u001b[0m\u001b[1;32m    130\u001b[0m \u001b[0;34m\u001b[0m\u001b[0m\n\u001b[1;32m    131\u001b[0m     \u001b[0;32mreturn\u001b[0m \u001b[0mresult\u001b[0m\u001b[0;34m\u001b[0m\u001b[0;34m\u001b[0m\u001b[0m\n",
            "\u001b[0;32m/usr/local/lib/python3.10/dist-packages/pandas/core/computation/expressions.py\u001b[0m in \u001b[0;36m_evaluate_standard\u001b[0;34m(op, op_str, a, b)\u001b[0m\n\u001b[1;32m     68\u001b[0m     \u001b[0;32mif\u001b[0m \u001b[0m_TEST_MODE\u001b[0m\u001b[0;34m:\u001b[0m\u001b[0;34m\u001b[0m\u001b[0;34m\u001b[0m\u001b[0m\n\u001b[1;32m     69\u001b[0m         \u001b[0m_store_test_result\u001b[0m\u001b[0;34m(\u001b[0m\u001b[0;32mFalse\u001b[0m\u001b[0;34m)\u001b[0m\u001b[0;34m\u001b[0m\u001b[0;34m\u001b[0m\u001b[0m\n\u001b[0;32m---> 70\u001b[0;31m     \u001b[0;32mreturn\u001b[0m \u001b[0mop\u001b[0m\u001b[0;34m(\u001b[0m\u001b[0ma\u001b[0m\u001b[0;34m,\u001b[0m \u001b[0mb\u001b[0m\u001b[0;34m)\u001b[0m\u001b[0;34m\u001b[0m\u001b[0;34m\u001b[0m\u001b[0m\n\u001b[0m\u001b[1;32m     71\u001b[0m \u001b[0;34m\u001b[0m\u001b[0m\n\u001b[1;32m     72\u001b[0m \u001b[0;34m\u001b[0m\u001b[0m\n",
            "\u001b[0;31mValueError\u001b[0m: operands could not be broadcast together with shapes (334,) (2,) "
          ]
        }
      ]
    },
    {
      "cell_type": "code",
      "source": [],
      "metadata": {
        "id": "PnA6OvkYh2xQ"
      },
      "execution_count": null,
      "outputs": []
    },
    {
      "cell_type": "markdown",
      "source": [
        "---\n",
        "# Problem Set 2\n",
        "\n",
        "Now we should have a solid understanding of how entropy and information gain work to help us better understand our data. In this section, we will practice using scikit-learn to find informative attributes and create a decistion tree based on the `penguins` dataset."
      ],
      "metadata": {
        "id": "UL39bODPhXWz"
      }
    },
    {
      "cell_type": "markdown",
      "source": [
        "## Problem 2.1: Imports\n",
        "\n",
        "In the next code cell, import the necessary libraries to create a decision tree model and plot it in `scikit-learn`."
      ],
      "metadata": {
        "id": "heu-eiezYjnx"
      }
    },
    {
      "cell_type": "code",
      "source": [
        "from sklearn import datasets\n",
        "from sklearn.tree import DecisionTreeClassifier, plot_tree"
      ],
      "metadata": {
        "id": "z0qNCqxiZUMj"
      },
      "execution_count": null,
      "outputs": []
    },
    {
      "cell_type": "markdown",
      "source": [
        "## Problem 2.2: Define Attributes and Target\n",
        "\n",
        "In the next code cell, define the attributes and the target based on the penguins dataframe defined above. Store each of these in appropriate *X* and *y* variables."
      ],
      "metadata": {
        "id": "wnuYKXx-ZnBC"
      }
    },
    {
      "cell_type": "code",
      "source": [
        "X = pen_df[['culmen_length_mm',\t'culmen_depth_mm',\t'flipper_length_mm',\t'body_mass_g']]\n",
        "y = pen_df.species"
      ],
      "metadata": {
        "id": "NU9T7L-fZ8bR"
      },
      "execution_count": null,
      "outputs": []
    },
    {
      "cell_type": "markdown",
      "source": [
        "## Problem 2.3: Fit a Decision Tree Model\n",
        "\n",
        "In the next code cell, fit a decision tree model to the data.\n",
        "\n",
        ">- Use \"entropy\" as the criterion and a random state of 42 when initializing your classifier"
      ],
      "metadata": {
        "id": "OGk3dS77aLB3"
      }
    },
    {
      "cell_type": "code",
      "source": [
        "clf = DecisionTreeClassifier(criterion = 'entropy', random_state = 42)\n",
        "\n",
        "clf.fit(X,y)"
      ],
      "metadata": {
        "id": "Lo0Y-GCVaewH",
        "colab": {
          "base_uri": "https://localhost:8080/",
          "height": 75
        },
        "outputId": "208cca7f-977f-4158-8c06-114b17d6fb73"
      },
      "execution_count": null,
      "outputs": [
        {
          "output_type": "execute_result",
          "data": {
            "text/plain": [
              "DecisionTreeClassifier(criterion='entropy', random_state=42)"
            ],
            "text/html": [
              "<style>#sk-container-id-1 {color: black;background-color: white;}#sk-container-id-1 pre{padding: 0;}#sk-container-id-1 div.sk-toggleable {background-color: white;}#sk-container-id-1 label.sk-toggleable__label {cursor: pointer;display: block;width: 100%;margin-bottom: 0;padding: 0.3em;box-sizing: border-box;text-align: center;}#sk-container-id-1 label.sk-toggleable__label-arrow:before {content: \"▸\";float: left;margin-right: 0.25em;color: #696969;}#sk-container-id-1 label.sk-toggleable__label-arrow:hover:before {color: black;}#sk-container-id-1 div.sk-estimator:hover label.sk-toggleable__label-arrow:before {color: black;}#sk-container-id-1 div.sk-toggleable__content {max-height: 0;max-width: 0;overflow: hidden;text-align: left;background-color: #f0f8ff;}#sk-container-id-1 div.sk-toggleable__content pre {margin: 0.2em;color: black;border-radius: 0.25em;background-color: #f0f8ff;}#sk-container-id-1 input.sk-toggleable__control:checked~div.sk-toggleable__content {max-height: 200px;max-width: 100%;overflow: auto;}#sk-container-id-1 input.sk-toggleable__control:checked~label.sk-toggleable__label-arrow:before {content: \"▾\";}#sk-container-id-1 div.sk-estimator input.sk-toggleable__control:checked~label.sk-toggleable__label {background-color: #d4ebff;}#sk-container-id-1 div.sk-label input.sk-toggleable__control:checked~label.sk-toggleable__label {background-color: #d4ebff;}#sk-container-id-1 input.sk-hidden--visually {border: 0;clip: rect(1px 1px 1px 1px);clip: rect(1px, 1px, 1px, 1px);height: 1px;margin: -1px;overflow: hidden;padding: 0;position: absolute;width: 1px;}#sk-container-id-1 div.sk-estimator {font-family: monospace;background-color: #f0f8ff;border: 1px dotted black;border-radius: 0.25em;box-sizing: border-box;margin-bottom: 0.5em;}#sk-container-id-1 div.sk-estimator:hover {background-color: #d4ebff;}#sk-container-id-1 div.sk-parallel-item::after {content: \"\";width: 100%;border-bottom: 1px solid gray;flex-grow: 1;}#sk-container-id-1 div.sk-label:hover label.sk-toggleable__label {background-color: #d4ebff;}#sk-container-id-1 div.sk-serial::before {content: \"\";position: absolute;border-left: 1px solid gray;box-sizing: border-box;top: 0;bottom: 0;left: 50%;z-index: 0;}#sk-container-id-1 div.sk-serial {display: flex;flex-direction: column;align-items: center;background-color: white;padding-right: 0.2em;padding-left: 0.2em;position: relative;}#sk-container-id-1 div.sk-item {position: relative;z-index: 1;}#sk-container-id-1 div.sk-parallel {display: flex;align-items: stretch;justify-content: center;background-color: white;position: relative;}#sk-container-id-1 div.sk-item::before, #sk-container-id-1 div.sk-parallel-item::before {content: \"\";position: absolute;border-left: 1px solid gray;box-sizing: border-box;top: 0;bottom: 0;left: 50%;z-index: -1;}#sk-container-id-1 div.sk-parallel-item {display: flex;flex-direction: column;z-index: 1;position: relative;background-color: white;}#sk-container-id-1 div.sk-parallel-item:first-child::after {align-self: flex-end;width: 50%;}#sk-container-id-1 div.sk-parallel-item:last-child::after {align-self: flex-start;width: 50%;}#sk-container-id-1 div.sk-parallel-item:only-child::after {width: 0;}#sk-container-id-1 div.sk-dashed-wrapped {border: 1px dashed gray;margin: 0 0.4em 0.5em 0.4em;box-sizing: border-box;padding-bottom: 0.4em;background-color: white;}#sk-container-id-1 div.sk-label label {font-family: monospace;font-weight: bold;display: inline-block;line-height: 1.2em;}#sk-container-id-1 div.sk-label-container {text-align: center;}#sk-container-id-1 div.sk-container {/* jupyter's `normalize.less` sets `[hidden] { display: none; }` but bootstrap.min.css set `[hidden] { display: none !important; }` so we also need the `!important` here to be able to override the default hidden behavior on the sphinx rendered scikit-learn.org. See: https://github.com/scikit-learn/scikit-learn/issues/21755 */display: inline-block !important;position: relative;}#sk-container-id-1 div.sk-text-repr-fallback {display: none;}</style><div id=\"sk-container-id-1\" class=\"sk-top-container\"><div class=\"sk-text-repr-fallback\"><pre>DecisionTreeClassifier(criterion=&#x27;entropy&#x27;, random_state=42)</pre><b>In a Jupyter environment, please rerun this cell to show the HTML representation or trust the notebook. <br />On GitHub, the HTML representation is unable to render, please try loading this page with nbviewer.org.</b></div><div class=\"sk-container\" hidden><div class=\"sk-item\"><div class=\"sk-estimator sk-toggleable\"><input class=\"sk-toggleable__control sk-hidden--visually\" id=\"sk-estimator-id-1\" type=\"checkbox\" checked><label for=\"sk-estimator-id-1\" class=\"sk-toggleable__label sk-toggleable__label-arrow\">DecisionTreeClassifier</label><div class=\"sk-toggleable__content\"><pre>DecisionTreeClassifier(criterion=&#x27;entropy&#x27;, random_state=42)</pre></div></div></div></div></div>"
            ]
          },
          "metadata": {},
          "execution_count": 26
        }
      ]
    },
    {
      "cell_type": "markdown",
      "source": [
        "## Problem 2.4: Find Informative Attributes\n",
        "\n",
        "In the next cell, show the array of feature importances for the attributes in the dataframe based on the decision tree model."
      ],
      "metadata": {
        "id": "pmyw8rj7aufd"
      }
    },
    {
      "cell_type": "code",
      "source": [
        "feature_importance = clf.feature_importances_\n",
        "\n",
        "feature_importance"
      ],
      "metadata": {
        "id": "way75566a6Ln",
        "colab": {
          "base_uri": "https://localhost:8080/"
        },
        "outputId": "6fb2c774-9faf-4e27-e019-64bb4cf086f1"
      },
      "execution_count": null,
      "outputs": [
        {
          "output_type": "execute_result",
          "data": {
            "text/plain": [
              "array([0.31367838, 0.10757684, 0.5522754 , 0.02646938])"
            ]
          },
          "metadata": {},
          "execution_count": 27
        }
      ]
    },
    {
      "cell_type": "markdown",
      "source": [
        "In the next cell, show the informative attributes by name in a DataFrame displaying their importance metrics.\n",
        "\n",
        "Does what `scikit-learn`'s DecisionTreeClassifier show as the most informative attribute align with what we found using the `best_split()` function we created?"
      ],
      "metadata": {
        "id": "GkfwHZ6eeu4Z"
      }
    },
    {
      "cell_type": "code",
      "source": [
        "feature_names = ['culmen_length_mm',\t'culmen_depth_mm',\t'flipper_length_mm',\t'body_mass_g']\n",
        "\n",
        "feature_importance_dict = dict(zip(feature_names, feature_importance))\n",
        "\n",
        "importance_df = pd.DataFrame.from_dict(feature_importance_dict,\n",
        "                                       orient = 'index',\n",
        "                                       columns = ['importance'])\n",
        "\n",
        "importance_df.sort_values(by = 'importance', ascending = False, inplace = True)\n",
        "\n",
        "print(importance_df)\n",
        "\n",
        "importance_df.plot(kind = 'bar')"
      ],
      "metadata": {
        "id": "FGU1npmcfP0Z",
        "colab": {
          "base_uri": "https://localhost:8080/",
          "height": 656
        },
        "outputId": "ccf91525-9418-4369-820a-b9a5eaaf40d8"
      },
      "execution_count": null,
      "outputs": [
        {
          "output_type": "stream",
          "name": "stdout",
          "text": [
            "                   importance\n",
            "flipper_length_mm    0.552275\n",
            "culmen_length_mm     0.313678\n",
            "culmen_depth_mm      0.107577\n",
            "body_mass_g          0.026469\n"
          ]
        },
        {
          "output_type": "execute_result",
          "data": {
            "text/plain": [
              "<Axes: >"
            ]
          },
          "metadata": {},
          "execution_count": 29
        },
        {
          "output_type": "display_data",
          "data": {
            "text/plain": [
              "<Figure size 640x480 with 1 Axes>"
            ],
            "image/png": "[encoded data removed]"
          },
          "metadata": {}
        }
      ]
    },
    {
      "cell_type": "markdown",
      "source": [
        "## Problem 2.5: Visualize a Decistion Tree Model\n",
        "\n",
        "In the next code cell, create a visualization of the decision tree classifier produced from the penguins dataset.\n",
        "\n",
        ">- For clarity, you might want to include all the code to import the appropriate modules, create the model and set the feature and target names variable in this one code cell.\n",
        ">- Hint: You may want to experiment with the `max_depth` parameter if your decision tree diagram is too large to read"
      ],
      "metadata": {
        "id": "yeaYn6Awqdkr"
      }
    },
    {
      "cell_type": "code",
      "source": [
        "from sklearn.datasets import load_iris\n",
        "from sklearn.tree import DecisionTreeClassifier, plot_tree\n",
        "\n",
        "import matplotlib.pyplot as plt\n",
        "import pandas as pd\n",
        "\n",
        "\n",
        "plt.figure(figsize=(15,8))\n",
        "\n",
        "plot_tree(clf,\n",
        "          feature_names = ['culmen_length_mm',\t'culmen_depth_mm',\t'flipper_length_mm',\t'body_mass_g'],\n",
        "          class_names = 'species',\n",
        "          filled=True,\n",
        "          proportion=True,\n",
        "          node_ids = True)\n",
        "\n",
        "plt.title(\"Penguins Decision Tree\")\n",
        "plt.show()"
      ],
      "metadata": {
        "id": "BWvb5W8Uqqv-",
        "colab": {
          "base_uri": "https://localhost:8080/",
          "height": 675
        },
        "outputId": "e281de10-f587-401a-82fa-46f4fe6b3304"
      },
      "execution_count": null,
      "outputs": [
        {
          "output_type": "display_data",
          "data": {
            "text/plain": [
              "<Figure size 1500x800 with 1 Axes>"
            ],
            "image/png": "[encoded data removed]"
          },
          "metadata": {}
        }
      ]
    }
  ]
}