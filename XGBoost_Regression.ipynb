{
  "cells": [
    {
      "cell_type": "markdown",
      "metadata": {
        "id": "view-in-github",
        "colab_type": "text"
      },
      "source": [
        "<a href=\"https://colab.research.google.com/github/nickstone1911/data-analysis-practice/blob/main/XGBoost_Regression.ipynb\" target=\"_parent\"><img src=\"https://colab.research.google.com/assets/colab-badge.svg\" alt=\"Open In Colab\"/></a>"
      ]
    },
    {
      "cell_type": "markdown",
      "source": [
        "# Tech Lesson 16: XGBoost Regression in Python\n",
        ">- Overview: Gradient Boosting is an ensemble technique that builds a strong predictive model by combining the predictions of many weak models, typically decision trees.\n",
        "\n",
        ">- The key idea behind Gradient Boosting is to sequentially add models to correct the errors of the previous models.\n",
        ">- In each iteration, a new model is trained to predict the residuals (the differences between the actual and predicted values) of the ensemble.\n",
        ">- The predictions of all the models are combined to make the final prediction, where each model's contribution is weighted based on its performance.\n",
        ">- Gradient Boosting is known for its flexibility and ability to handle different types of data, but it can be computationally expensive and sensitive to overfitting.\n",
        "\n",
        "\n",
        "In this lesson we will discuss the major components of conducting a regression task using the `XGBRegreesor` from the `xgboost` library including the learning objectives listed below.\n",
        "\n",
        "## Learning Objectives\n",
        "1. Importing the required modules\n",
        "2. Instantiating and fitting `XGBRegressor()`\n",
        "3. Evaluating the results of a `XGBRegressor`\n",
        ">- Including a review of regression metrics\n",
        "4. Developing an understanding of key hyperparameters\n",
        "5. Performing a grid search to find optimal hyperparameters\n",
        "6. Applying graphical analysis to further refine hyperparameters\n",
        "7. Deploying a XGBoost model to predict new cases\n",
        "\n",
        "---\n",
        "\n",
        "\n",
        "\n"
      ],
      "metadata": {
        "id": "nKwtmGMudcS9"
      }
    },
    {
      "cell_type": "markdown",
      "metadata": {
        "id": "ifoQK8ko0Eoq"
      },
      "source": [
        "# Data Understanding\n",
        "\n",
        "We will be using a popular regression task dataset which is a real-world real estate dataset.\n",
        "## Data Description\n",
        "The data was scraped from publicly available results posted every week from Domain.com.au. This dataset is a good start to begin practicing to compete in a Kaggle competition `Housing Prices Competition for Kaggle Learn Users`. The dataset includes 21 columns which are explained in more detail here: [Melbourne Housing Snapshot](https://www.kaggle.com/datasets/dansbecker/melbourne-housing-snapshot)\n",
        "\n",
        "## Data Summary\n",
        "\n",
        "For this exercise we will use: [melb_train.csv](https://drive.google.com/file/d/1-7f58J_leU2q6mzjVD55zz1JAspJtyyg/view?usp=sharing)\n",
        "\n",
        "### The the dataset contains the following features:\n",
        "\n",
        ">- Rooms: Number of rooms\n",
        ">- Price: Price in dollars\n",
        ">- Method: S - property sold; SP - property sold prior; PI - property passed in; PN - sold prior not disclosed; SN - sold not disclosed; NB - no bid; VB - vendor bid; W - withdrawn prior to auction; SA - sold after auction; SS - sold after auction price not disclosed. N/A - price or highest bid not available.\n",
        ">- Type: br - bedroom(s); h - house,cottage,villa, semi,terrace; u - unit, duplex; t - townhouse; dev site - development site; o res - other residential.\n",
        ">- SellerG: Real Estate Agent\n",
        ">-Date: Date sold\n",
        ">- Distance: Distance from CBD\n",
        ">- Regionname: General Region (West, North West, North, North east …etc)\n",
        ">- Propertycount: Number of properties that exist in the suburb.\n",
        ">- Bedroom2 : Scraped # of Bedrooms (from different source)\n",
        ">- Bathroom: Number of Bathrooms\n",
        ">- Car: Number of carspots\n",
        ">- Landsize: Land Size\n",
        ">- BuildingArea: Building Size\n",
        ">- CouncilArea: Governing council for the area\n",
        "\n",
        "## Problem\n",
        "The goal in this exercise is to create a model that can help predict the price of a home.\n",
        "\n",
        ">- We won't go through any data processing steps such as dealing with missing values for this exercise as the goal of the lesson is to focus on learning the syntax to build an `XGBoost` model\n",
        "\n",
        "---"
      ]
    },
    {
      "cell_type": "markdown",
      "source": [
        "# Section 1: Setting Up the Environment"
      ],
      "metadata": {
        "id": "00jRs2SI31Ol"
      }
    },
    {
      "cell_type": "markdown",
      "metadata": {
        "id": "oB5LXi-u0Eoq"
      },
      "source": [
        "## 1.1: Imports\n",
        "\n",
        "In the next cell import the following modules:\n",
        "\n",
        ">- `os`, `numpy`, `pandas`, `matplotlib.pyplot`, `seaborn`\n",
        ">- Use the common aliases for each of these\n"
      ]
    },
    {
      "cell_type": "code",
      "execution_count": null,
      "metadata": {
        "id": "iuTFCy5T0Eoq"
      },
      "outputs": [],
      "source": [
        "import os\n",
        "import numpy as np\n",
        "import pandas as pd\n",
        "import matplotlib.pyplot as plt\n",
        "import seaborn as sns"
      ]
    },
    {
      "cell_type": "code",
      "source": [
        "# Set the display format to show 2 decimal places\n",
        "pd.options.display.float_format = '{:.2f}'.format"
      ],
      "metadata": {
        "id": "XDggJZM2xNJK"
      },
      "execution_count": null,
      "outputs": []
    },
    {
      "cell_type": "markdown",
      "source": [
        "## 1.2: Set Your Working Directory\n",
        "\n",
        "In the next cell(s), set your working directory to your desired workspace for this lesson."
      ],
      "metadata": {
        "id": "S_OmBfqorif3"
      }
    },
    {
      "cell_type": "code",
      "source": [
        "from google.colab import drive\n",
        "drive.mount('/content/drive')"
      ],
      "metadata": {
        "colab": {
          "base_uri": "https://localhost:8080/"
        },
        "id": "FOoTnjonmf0O",
        "outputId": "4ed584b6-6eb2-49b2-b7bc-c53fa0a16821"
      },
      "execution_count": null,
      "outputs": [
        {
          "output_type": "stream",
          "name": "stdout",
          "text": [
            "Mounted at /content/drive\n"
          ]
        }
      ]
    },
    {
      "cell_type": "code",
      "source": [
        "os.chdir('/content/drive/MyDrive/BAIM4205')\n",
        "os.getcwd()"
      ],
      "metadata": {
        "id": "u1xIrxepm7DI",
        "colab": {
          "base_uri": "https://localhost:8080/",
          "height": 36
        },
        "outputId": "64585821-a9d0-425c-dc2d-2f49d291d134"
      },
      "execution_count": null,
      "outputs": [
        {
          "output_type": "execute_result",
          "data": {
            "text/plain": [
              "'/content/drive/MyDrive/BAIM4205'"
            ],
            "application/vnd.google.colaboratory.intrinsic+json": {
              "type": "string"
            }
          },
          "metadata": {},
          "execution_count": 4
        }
      ]
    },
    {
      "cell_type": "code",
      "source": [
        "os.listdir()"
      ],
      "metadata": {
        "colab": {
          "base_uri": "https://localhost:8080/"
        },
        "id": "fGJ-IQGnUcF9",
        "outputId": "685c466e-5faf-4910-8daf-c0c51bb01faf"
      },
      "execution_count": null,
      "outputs": [
        {
          "output_type": "execute_result",
          "data": {
            "text/plain": [
              "['spreadspoke_scores.csv',\n",
              " 'customer.csv',\n",
              " 'winedata.csv',\n",
              " 'W1D2 Agenda and Exercises - Student.ipynb',\n",
              " 'W1D1 - Working With Google Drive and the os Module_student.ipynb',\n",
              " 'heart.csv',\n",
              " 'mouse_viral_study.csv',\n",
              " 'svm_margin_plot.py',\n",
              " '__pycache__',\n",
              " 'wine_fraud.csv',\n",
              " 'titanic_train.csv',\n",
              " '.ipynb_checkpoints',\n",
              " 'titanic_train_clean.csv',\n",
              " 'ORNG.csv',\n",
              " 'USIX.csv',\n",
              " 'W2D1 Lesson 24: Code-Along - Intro to Data Engineering with the BigQuery API.ipynb',\n",
              " 'gene_expression.csv',\n",
              " 'sonar.all-data.csv',\n",
              " 'bank+marketing.zip',\n",
              " 'bank-full.csv',\n",
              " 'GuitarReviews2out.txt',\n",
              " 'emails2.txt',\n",
              " 'penguins_size.csv',\n",
              " 'lesson15_5.1_trees.png',\n",
              " 'lesson15_5.5_trees.png',\n",
              " 'churn_train.csv']"
            ]
          },
          "metadata": {},
          "execution_count": 6
        }
      ]
    },
    {
      "cell_type": "markdown",
      "source": [
        "## 1.3: Load Data\n",
        "\n",
        "Download/move the file to your working directory.\n",
        "\n",
        ">- [melb_train.csv](https://drive.google.com/file/d/1-7f58J_leU2q6mzjVD55zz1JAspJtyyg/view?usp=sharing)\n",
        "\n",
        "  ---\n"
      ],
      "metadata": {
        "id": "UXarYou9rwOe"
      }
    },
    {
      "cell_type": "markdown",
      "source": [
        "Load the file into a pandas DataFrame named, `melb_df`:\n"
      ],
      "metadata": {
        "id": "4EIRSydeehb7"
      }
    },
    {
      "cell_type": "code",
      "source": [
        "melb_df = pd.read_csv('melb_train.csv')"
      ],
      "metadata": {
        "id": "LYp5ShcQelNE"
      },
      "execution_count": null,
      "outputs": []
    },
    {
      "cell_type": "markdown",
      "source": [
        "## 1.4: Sample Data\n",
        "\n",
        "In the next cell, show the first 5 records in `melb_df` in the next cell."
      ],
      "metadata": {
        "id": "GZCXpjrK5M_q"
      }
    },
    {
      "cell_type": "code",
      "source": [
        "melb_df.head()"
      ],
      "metadata": {
        "colab": {
          "base_uri": "https://localhost:8080/",
          "height": 235
        },
        "id": "WyeKSftP5Mjv",
        "outputId": "08f77470-b3b1-46ab-bcda-fcfe706edd31"
      },
      "execution_count": null,
      "outputs": [
        {
          "output_type": "execute_result",
          "data": {
            "text/plain": [
              "       Suburb           Address  Rooms Type      Price Method SellerG  \\\n",
              "0  Abbotsford      85 Turner St      2    h 1480000.00      S  Biggin   \n",
              "1  Abbotsford   25 Bloomburg St      2    h 1035000.00      S  Biggin   \n",
              "2  Abbotsford      5 Charles St      3    h 1465000.00     SP  Biggin   \n",
              "3  Abbotsford  40 Federation La      3    h  850000.00     PI  Biggin   \n",
              "4  Abbotsford       55a Park St      4    h 1600000.00     VB  Nelson   \n",
              "\n",
              "        Date  Distance  Postcode  ...  Bathroom  Car  Landsize  BuildingArea  \\\n",
              "0  3/12/2016      2.50   3067.00  ...      1.00 1.00    202.00           NaN   \n",
              "1  4/02/2016      2.50   3067.00  ...      1.00 0.00    156.00         79.00   \n",
              "2  4/03/2017      2.50   3067.00  ...      2.00 0.00    134.00        150.00   \n",
              "3  4/03/2017      2.50   3067.00  ...      2.00 1.00     94.00           NaN   \n",
              "4  4/06/2016      2.50   3067.00  ...      1.00 2.00    120.00        142.00   \n",
              "\n",
              "   YearBuilt  CouncilArea Lattitude  Longtitude             Regionname  \\\n",
              "0        NaN        Yarra    -37.80      145.00  Northern Metropolitan   \n",
              "1    1900.00        Yarra    -37.81      144.99  Northern Metropolitan   \n",
              "2    1900.00        Yarra    -37.81      144.99  Northern Metropolitan   \n",
              "3        NaN        Yarra    -37.80      145.00  Northern Metropolitan   \n",
              "4    2014.00        Yarra    -37.81      144.99  Northern Metropolitan   \n",
              "\n",
              "  Propertycount  \n",
              "0       4019.00  \n",
              "1       4019.00  \n",
              "2       4019.00  \n",
              "3       4019.00  \n",
              "4       4019.00  \n",
              "\n",
              "[5 rows x 21 columns]"
            ],
            "text/html": [
              "\n",
              "  <div id=\"df-d17c0662-e103-4eff-8422-7ea668dd6d3f\" class=\"colab-df-container\">\n",
              "    <div>\n",
              "<style scoped>\n",
              "    .dataframe tbody tr th:only-of-type {\n",
              "        vertical-align: middle;\n",
              "    }\n",
              "\n",
              "    .dataframe tbody tr th {\n",
              "        vertical-align: top;\n",
              "    }\n",
              "\n",
              "    .dataframe thead th {\n",
              "        text-align: right;\n",
              "    }\n",
              "</style>\n",
              "<table border=\"1\" class=\"dataframe\">\n",
              "  <thead>\n",
              "    <tr style=\"text-align: right;\">\n",
              "      <th></th>\n",
              "      <th>Suburb</th>\n",
              "      <th>Address</th>\n",
              "      <th>Rooms</th>\n",
              "      <th>Type</th>\n",
              "      <th>Price</th>\n",
              "      <th>Method</th>\n",
              "      <th>SellerG</th>\n",
              "      <th>Date</th>\n",
              "      <th>Distance</th>\n",
              "      <th>Postcode</th>\n",
              "      <th>...</th>\n",
              "      <th>Bathroom</th>\n",
              "      <th>Car</th>\n",
              "      <th>Landsize</th>\n",
              "      <th>BuildingArea</th>\n",
              "      <th>YearBuilt</th>\n",
              "      <th>CouncilArea</th>\n",
              "      <th>Lattitude</th>\n",
              "      <th>Longtitude</th>\n",
              "      <th>Regionname</th>\n",
              "      <th>Propertycount</th>\n",
              "    </tr>\n",
              "  </thead>\n",
              "  <tbody>\n",
              "    <tr>\n",
              "      <th>0</th>\n",
              "      <td>Abbotsford</td>\n",
              "      <td>85 Turner St</td>\n",
              "      <td>2</td>\n",
              "      <td>h</td>\n",
              "      <td>1480000.00</td>\n",
              "      <td>S</td>\n",
              "      <td>Biggin</td>\n",
              "      <td>3/12/2016</td>\n",
              "      <td>2.50</td>\n",
              "      <td>3067.00</td>\n",
              "      <td>...</td>\n",
              "      <td>1.00</td>\n",
              "      <td>1.00</td>\n",
              "      <td>202.00</td>\n",
              "      <td>NaN</td>\n",
              "      <td>NaN</td>\n",
              "      <td>Yarra</td>\n",
              "      <td>-37.80</td>\n",
              "      <td>145.00</td>\n",
              "      <td>Northern Metropolitan</td>\n",
              "      <td>4019.00</td>\n",
              "    </tr>\n",
              "    <tr>\n",
              "      <th>1</th>\n",
              "      <td>Abbotsford</td>\n",
              "      <td>25 Bloomburg St</td>\n",
              "      <td>2</td>\n",
              "      <td>h</td>\n",
              "      <td>1035000.00</td>\n",
              "      <td>S</td>\n",
              "      <td>Biggin</td>\n",
              "      <td>4/02/2016</td>\n",
              "      <td>2.50</td>\n",
              "      <td>3067.00</td>\n",
              "      <td>...</td>\n",
              "      <td>1.00</td>\n",
              "      <td>0.00</td>\n",
              "      <td>156.00</td>\n",
              "      <td>79.00</td>\n",
              "      <td>1900.00</td>\n",
              "      <td>Yarra</td>\n",
              "      <td>-37.81</td>\n",
              "      <td>144.99</td>\n",
              "      <td>Northern Metropolitan</td>\n",
              "      <td>4019.00</td>\n",
              "    </tr>\n",
              "    <tr>\n",
              "      <th>2</th>\n",
              "      <td>Abbotsford</td>\n",
              "      <td>5 Charles St</td>\n",
              "      <td>3</td>\n",
              "      <td>h</td>\n",
              "      <td>1465000.00</td>\n",
              "      <td>SP</td>\n",
              "      <td>Biggin</td>\n",
              "      <td>4/03/2017</td>\n",
              "      <td>2.50</td>\n",
              "      <td>3067.00</td>\n",
              "      <td>...</td>\n",
              "      <td>2.00</td>\n",
              "      <td>0.00</td>\n",
              "      <td>134.00</td>\n",
              "      <td>150.00</td>\n",
              "      <td>1900.00</td>\n",
              "      <td>Yarra</td>\n",
              "      <td>-37.81</td>\n",
              "      <td>144.99</td>\n",
              "      <td>Northern Metropolitan</td>\n",
              "      <td>4019.00</td>\n",
              "    </tr>\n",
              "    <tr>\n",
              "      <th>3</th>\n",
              "      <td>Abbotsford</td>\n",
              "      <td>40 Federation La</td>\n",
              "      <td>3</td>\n",
              "      <td>h</td>\n",
              "      <td>850000.00</td>\n",
              "      <td>PI</td>\n",
              "      <td>Biggin</td>\n",
              "      <td>4/03/2017</td>\n",
              "      <td>2.50</td>\n",
              "      <td>3067.00</td>\n",
              "      <td>...</td>\n",
              "      <td>2.00</td>\n",
              "      <td>1.00</td>\n",
              "      <td>94.00</td>\n",
              "      <td>NaN</td>\n",
              "      <td>NaN</td>\n",
              "      <td>Yarra</td>\n",
              "      <td>-37.80</td>\n",
              "      <td>145.00</td>\n",
              "      <td>Northern Metropolitan</td>\n",
              "      <td>4019.00</td>\n",
              "    </tr>\n",
              "    <tr>\n",
              "      <th>4</th>\n",
              "      <td>Abbotsford</td>\n",
              "      <td>55a Park St</td>\n",
              "      <td>4</td>\n",
              "      <td>h</td>\n",
              "      <td>1600000.00</td>\n",
              "      <td>VB</td>\n",
              "      <td>Nelson</td>\n",
              "      <td>4/06/2016</td>\n",
              "      <td>2.50</td>\n",
              "      <td>3067.00</td>\n",
              "      <td>...</td>\n",
              "      <td>1.00</td>\n",
              "      <td>2.00</td>\n",
              "      <td>120.00</td>\n",
              "      <td>142.00</td>\n",
              "      <td>2014.00</td>\n",
              "      <td>Yarra</td>\n",
              "      <td>-37.81</td>\n",
              "      <td>144.99</td>\n",
              "      <td>Northern Metropolitan</td>\n",
              "      <td>4019.00</td>\n",
              "    </tr>\n",
              "  </tbody>\n",
              "</table>\n",
              "<p>5 rows × 21 columns</p>\n",
              "</div>\n",
              "    <div class=\"colab-df-buttons\">\n",
              "\n",
              "  <div class=\"colab-df-container\">\n",
              "    <button class=\"colab-df-convert\" onclick=\"convertToInteractive('df-d17c0662-e103-4eff-8422-7ea668dd6d3f')\"\n",
              "            title=\"Convert this dataframe to an interactive table.\"\n",
              "            style=\"display:none;\">\n",
              "\n",
              "  <svg xmlns=\"http://www.w3.org/2000/svg\" height=\"24px\" viewBox=\"0 -960 960 960\">\n",
              "    <path d=\"M120-120v-720h720v720H120Zm60-500h600v-160H180v160Zm220 220h160v-160H400v160Zm0 220h160v-160H400v160ZM180-400h160v-160H180v160Zm440 0h160v-160H620v160ZM180-180h160v-160H180v160Zm440 0h160v-160H620v160Z\"/>\n",
              "  </svg>\n",
              "    </button>\n",
              "\n",
              "  <style>\n",
              "    .colab-df-container {\n",
              "      display:flex;\n",
              "      gap: 12px;\n",
              "    }\n",
              "\n",
              "    .colab-df-convert {\n",
              "      background-color: #E8F0FE;\n",
              "      border: none;\n",
              "      border-radius: 50%;\n",
              "      cursor: pointer;\n",
              "      display: none;\n",
              "      fill: #1967D2;\n",
              "      height: 32px;\n",
              "      padding: 0 0 0 0;\n",
              "      width: 32px;\n",
              "    }\n",
              "\n",
              "    .colab-df-convert:hover {\n",
              "      background-color: #E2EBFA;\n",
              "      box-shadow: 0px 1px 2px rgba(60, 64, 67, 0.3), 0px 1px 3px 1px rgba(60, 64, 67, 0.15);\n",
              "      fill: #174EA6;\n",
              "    }\n",
              "\n",
              "    .colab-df-buttons div {\n",
              "      margin-bottom: 4px;\n",
              "    }\n",
              "\n",
              "    [theme=dark] .colab-df-convert {\n",
              "      background-color: #3B4455;\n",
              "      fill: #D2E3FC;\n",
              "    }\n",
              "\n",
              "    [theme=dark] .colab-df-convert:hover {\n",
              "      background-color: #434B5C;\n",
              "      box-shadow: 0px 1px 3px 1px rgba(0, 0, 0, 0.15);\n",
              "      filter: drop-shadow(0px 1px 2px rgba(0, 0, 0, 0.3));\n",
              "      fill: #FFFFFF;\n",
              "    }\n",
              "  </style>\n",
              "\n",
              "    <script>\n",
              "      const buttonEl =\n",
              "        document.querySelector('#df-d17c0662-e103-4eff-8422-7ea668dd6d3f button.colab-df-convert');\n",
              "      buttonEl.style.display =\n",
              "        google.colab.kernel.accessAllowed ? 'block' : 'none';\n",
              "\n",
              "      async function convertToInteractive(key) {\n",
              "        const element = document.querySelector('#df-d17c0662-e103-4eff-8422-7ea668dd6d3f');\n",
              "        const dataTable =\n",
              "          await google.colab.kernel.invokeFunction('convertToInteractive',\n",
              "                                                    [key], {});\n",
              "        if (!dataTable) return;\n",
              "\n",
              "        const docLinkHtml = 'Like what you see? Visit the ' +\n",
              "          '<a target=\"_blank\" href=https://colab.research.google.com/notebooks/data_table.ipynb>data table notebook</a>'\n",
              "          + ' to learn more about interactive tables.';\n",
              "        element.innerHTML = '';\n",
              "        dataTable['output_type'] = 'display_data';\n",
              "        await google.colab.output.renderOutput(dataTable, element);\n",
              "        const docLink = document.createElement('div');\n",
              "        docLink.innerHTML = docLinkHtml;\n",
              "        element.appendChild(docLink);\n",
              "      }\n",
              "    </script>\n",
              "  </div>\n",
              "\n",
              "\n",
              "<div id=\"df-9101bddd-d154-4d82-b232-b5fec01b5ae1\">\n",
              "  <button class=\"colab-df-quickchart\" onclick=\"quickchart('df-9101bddd-d154-4d82-b232-b5fec01b5ae1')\"\n",
              "            title=\"Suggest charts\"\n",
              "            style=\"display:none;\">\n",
              "\n",
              "<svg xmlns=\"http://www.w3.org/2000/svg\" height=\"24px\"viewBox=\"0 0 24 24\"\n",
              "     width=\"24px\">\n",
              "    <g>\n",
              "        <path d=\"M19 3H5c-1.1 0-2 .9-2 2v14c0 1.1.9 2 2 2h14c1.1 0 2-.9 2-2V5c0-1.1-.9-2-2-2zM9 17H7v-7h2v7zm4 0h-2V7h2v10zm4 0h-2v-4h2v4z\"/>\n",
              "    </g>\n",
              "</svg>\n",
              "  </button>\n",
              "\n",
              "<style>\n",
              "  .colab-df-quickchart {\n",
              "      --bg-color: #E8F0FE;\n",
              "      --fill-color: #1967D2;\n",
              "      --hover-bg-color: #E2EBFA;\n",
              "      --hover-fill-color: #174EA6;\n",
              "      --disabled-fill-color: #AAA;\n",
              "      --disabled-bg-color: #DDD;\n",
              "  }\n",
              "\n",
              "  [theme=dark] .colab-df-quickchart {\n",
              "      --bg-color: #3B4455;\n",
              "      --fill-color: #D2E3FC;\n",
              "      --hover-bg-color: #434B5C;\n",
              "      --hover-fill-color: #FFFFFF;\n",
              "      --disabled-bg-color: #3B4455;\n",
              "      --disabled-fill-color: #666;\n",
              "  }\n",
              "\n",
              "  .colab-df-quickchart {\n",
              "    background-color: var(--bg-color);\n",
              "    border: none;\n",
              "    border-radius: 50%;\n",
              "    cursor: pointer;\n",
              "    display: none;\n",
              "    fill: var(--fill-color);\n",
              "    height: 32px;\n",
              "    padding: 0;\n",
              "    width: 32px;\n",
              "  }\n",
              "\n",
              "  .colab-df-quickchart:hover {\n",
              "    background-color: var(--hover-bg-color);\n",
              "    box-shadow: 0 1px 2px rgba(60, 64, 67, 0.3), 0 1px 3px 1px rgba(60, 64, 67, 0.15);\n",
              "    fill: var(--button-hover-fill-color);\n",
              "  }\n",
              "\n",
              "  .colab-df-quickchart-complete:disabled,\n",
              "  .colab-df-quickchart-complete:disabled:hover {\n",
              "    background-color: var(--disabled-bg-color);\n",
              "    fill: var(--disabled-fill-color);\n",
              "    box-shadow: none;\n",
              "  }\n",
              "\n",
              "  .colab-df-spinner {\n",
              "    border: 2px solid var(--fill-color);\n",
              "    border-color: transparent;\n",
              "    border-bottom-color: var(--fill-color);\n",
              "    animation:\n",
              "      spin 1s steps(1) infinite;\n",
              "  }\n",
              "\n",
              "  @keyframes spin {\n",
              "    0% {\n",
              "      border-color: transparent;\n",
              "      border-bottom-color: var(--fill-color);\n",
              "      border-left-color: var(--fill-color);\n",
              "    }\n",
              "    20% {\n",
              "      border-color: transparent;\n",
              "      border-left-color: var(--fill-color);\n",
              "      border-top-color: var(--fill-color);\n",
              "    }\n",
              "    30% {\n",
              "      border-color: transparent;\n",
              "      border-left-color: var(--fill-color);\n",
              "      border-top-color: var(--fill-color);\n",
              "      border-right-color: var(--fill-color);\n",
              "    }\n",
              "    40% {\n",
              "      border-color: transparent;\n",
              "      border-right-color: var(--fill-color);\n",
              "      border-top-color: var(--fill-color);\n",
              "    }\n",
              "    60% {\n",
              "      border-color: transparent;\n",
              "      border-right-color: var(--fill-color);\n",
              "    }\n",
              "    80% {\n",
              "      border-color: transparent;\n",
              "      border-right-color: var(--fill-color);\n",
              "      border-bottom-color: var(--fill-color);\n",
              "    }\n",
              "    90% {\n",
              "      border-color: transparent;\n",
              "      border-bottom-color: var(--fill-color);\n",
              "    }\n",
              "  }\n",
              "</style>\n",
              "\n",
              "  <script>\n",
              "    async function quickchart(key) {\n",
              "      const quickchartButtonEl =\n",
              "        document.querySelector('#' + key + ' button');\n",
              "      quickchartButtonEl.disabled = true;  // To prevent multiple clicks.\n",
              "      quickchartButtonEl.classList.add('colab-df-spinner');\n",
              "      try {\n",
              "        const charts = await google.colab.kernel.invokeFunction(\n",
              "            'suggestCharts', [key], {});\n",
              "      } catch (error) {\n",
              "        console.error('Error during call to suggestCharts:', error);\n",
              "      }\n",
              "      quickchartButtonEl.classList.remove('colab-df-spinner');\n",
              "      quickchartButtonEl.classList.add('colab-df-quickchart-complete');\n",
              "    }\n",
              "    (() => {\n",
              "      let quickchartButtonEl =\n",
              "        document.querySelector('#df-9101bddd-d154-4d82-b232-b5fec01b5ae1 button');\n",
              "      quickchartButtonEl.style.display =\n",
              "        google.colab.kernel.accessAllowed ? 'block' : 'none';\n",
              "    })();\n",
              "  </script>\n",
              "</div>\n",
              "    </div>\n",
              "  </div>\n"
            ],
            "application/vnd.google.colaboratory.intrinsic+json": {
              "type": "dataframe",
              "variable_name": "melb_df"
            }
          },
          "metadata": {},
          "execution_count": 8
        }
      ]
    },
    {
      "cell_type": "markdown",
      "source": [
        "## 1.5: Data Shape\n",
        "\n",
        "In the next cell, show the number columns and rows in the `pen_df`"
      ],
      "metadata": {
        "id": "O0SCyx0e6Qtg"
      }
    },
    {
      "cell_type": "code",
      "source": [
        "melb_df.shape"
      ],
      "metadata": {
        "colab": {
          "base_uri": "https://localhost:8080/"
        },
        "id": "pQzyTNOM6XG1",
        "outputId": "9ebd6530-ca58-4e7f-afa5-22599bcc6a0e"
      },
      "execution_count": null,
      "outputs": [
        {
          "output_type": "execute_result",
          "data": {
            "text/plain": [
              "(13480, 21)"
            ]
          },
          "metadata": {},
          "execution_count": 9
        }
      ]
    },
    {
      "cell_type": "markdown",
      "source": [
        "---\n",
        "\n",
        "# Data Exploration Notes\n",
        ">- We will not go through a full data exploration in this exercise\n",
        ">- We will focus on learning `XGBRegressor` but don't forget a full project would include a section on data exploration and exploratory data analysis, data preparation, etc.\n",
        "\n",
        "---"
      ],
      "metadata": {
        "id": "8qvZrX2D5dCg"
      }
    },
    {
      "cell_type": "markdown",
      "metadata": {
        "id": "un94Eq7J0Eor"
      },
      "source": [
        "# Section 2: Data Preparation\n",
        "\n",
        "Tree based models are more robust to outliers than linear models and they do not need variables to be normalized to work. As such, we usually don't need to process our data as much when working with `XGBoost` because this uses an ensemble of trees to generate the model.\n",
        "\n",
        "For this exercise, we will keep data processing to a minimum by only selecting a few attributes for our features."
      ]
    },
    {
      "cell_type": "markdown",
      "source": [
        "## 2.1: Define Features\n",
        "\n",
        "In the next cell, define the features `X`, with the following columns:\n",
        "\n",
        ">- Rooms\n",
        ">- Distance\n",
        ">- Landsize\n",
        ">- BuildingArea\n",
        ">- Yearbuilt\n",
        "\n",
        "This will give us enough to practice using `XGBoost` while not having to prepare the data. On your own you may wish to explore the other features in the dataset and convert categorical data to dummy variables to try and improve the predictive performance of the model."
      ],
      "metadata": {
        "id": "avhfycEbgFWS"
      }
    },
    {
      "cell_type": "code",
      "execution_count": null,
      "metadata": {
        "id": "xxlwANLM0Eor"
      },
      "outputs": [],
      "source": [
        "features = ['Rooms', 'Distance', 'Landsize', 'BuildingArea', 'YearBuilt']\n",
        "\n",
        "X = melb_df[features]"
      ]
    },
    {
      "cell_type": "markdown",
      "source": [
        "## 2.2: Create Target Feature Variable\n",
        "\n",
        "In the next cell, define the target for this exercise as `y` which is the `Sales` column.\n",
        "\n",
        ">- Show the average and standard deviation of sales price in your output in each of the target classes in your results\n",
        ">- Round both the average and standard deviation to 2 decimals\n"
      ],
      "metadata": {
        "id": "YaCHY2WU_lv-"
      }
    },
    {
      "cell_type": "code",
      "source": [
        "y = melb_df['Price']\n",
        "\n",
        "avg_price = round(y.mean(),2 )\n",
        "std_price = round(y.std(), 2)\n",
        "\n",
        "print(f'Average Price: {avg_price}\\nStandard Deviation Price: {std_price}')"
      ],
      "metadata": {
        "colab": {
          "base_uri": "https://localhost:8080/"
        },
        "id": "AgQn2VNd_xqX",
        "outputId": "9e7fc596-8498-4c9f-dfef-c9c104d7c489"
      },
      "execution_count": null,
      "outputs": [
        {
          "output_type": "stream",
          "name": "stdout",
          "text": [
            "Average Price: 1075596.21\n",
            "Standard Deviation Price: 639317.75\n"
          ]
        }
      ]
    },
    {
      "cell_type": "markdown",
      "source": [
        "## 2.3: Train|Test Split\n",
        "\n",
        "In the next cell(s), create training and testing datasets from the `X` and `y` datasets.\n",
        "\n",
        ">- Set a test size of 30%\n",
        ">- Set a random state of 101"
      ],
      "metadata": {
        "id": "2Bsk8z60A2BM"
      }
    },
    {
      "cell_type": "code",
      "execution_count": null,
      "metadata": {
        "id": "dCN_O4_X0Eor"
      },
      "outputs": [],
      "source": [
        "from sklearn.model_selection import train_test_split"
      ]
    },
    {
      "cell_type": "code",
      "execution_count": null,
      "metadata": {
        "id": "wt4qU1AE0Eor"
      },
      "outputs": [],
      "source": [
        "X_train, X_test, y_train, y_test = train_test_split(X, y, test_size = .3, random_state = 101)"
      ]
    },
    {
      "cell_type": "markdown",
      "metadata": {
        "id": "BCG21qd_0Eos"
      },
      "source": [
        "# Section 3: XGBoost Regressor\n",
        "\n",
        "In this section, we learn how to import and fit a `XGBRegressor`.\n",
        "\n",
        "You can learn more about the XGBoost library including how to install and train both regression and classification models at the documentation website: [XGBoost doc](https://xgboost.readthedocs.io/en/latest/get_started.html#)"
      ]
    },
    {
      "cell_type": "markdown",
      "source": [
        "## 3.1: Import  `XGBRegressor`\n",
        "\n",
        "We can import the XGBoost Regressor with the following code:\n",
        "\n",
        "```\n",
        "from xgboost import XGBRegressor\n",
        "```\n",
        "\n",
        "If you need to install the library you can do that with:\n",
        "```\n",
        "!pip install xgboost\n",
        "```"
      ],
      "metadata": {
        "id": "ZmbxU8mqCd_s"
      }
    },
    {
      "cell_type": "code",
      "source": [
        "from xgboost import XGBRegressor"
      ],
      "metadata": {
        "id": "N8jA_ifqILJh"
      },
      "execution_count": null,
      "outputs": []
    },
    {
      "cell_type": "markdown",
      "source": [
        "## 3.2. Instantiate the Default Model\n",
        "\n",
        "In the next cell, instantiate an instance of a `XGBRegressor` named, `xgb_model`. In this first training of the model we will train with all the default parameters so we won't specify any hyperparameter values.\n",
        ">- Set a random_state of 42 when instantiating the model"
      ],
      "metadata": {
        "id": "jVUreCe_Cvd4"
      }
    },
    {
      "cell_type": "code",
      "execution_count": null,
      "metadata": {
        "id": "wCitFqyv0Eos"
      },
      "outputs": [],
      "source": [
        "xgb_model = XGBRegressor(random_state = 42)"
      ]
    },
    {
      "cell_type": "markdown",
      "source": [
        "## 3.3: Fit `xgb_model` to the Training Datasets\n",
        "\n",
        "In the next cell, fit the `xgb_model` to the training datasets."
      ],
      "metadata": {
        "id": "vG64DVrHDHea"
      }
    },
    {
      "cell_type": "code",
      "execution_count": null,
      "metadata": {
        "colab": {
          "base_uri": "https://localhost:8080/",
          "height": 248
        },
        "id": "RR1Bj34Y0Eos",
        "outputId": "42ceb0ef-06d8-4ca6-99bb-f13df0e12336"
      },
      "outputs": [
        {
          "output_type": "execute_result",
          "data": {
            "text/plain": [
              "XGBRegressor(base_score=None, booster=None, callbacks=None,\n",
              "             colsample_bylevel=None, colsample_bynode=None,\n",
              "             colsample_bytree=None, device=None, early_stopping_rounds=None,\n",
              "             enable_categorical=False, eval_metric=None, feature_types=None,\n",
              "             gamma=None, grow_policy=None, importance_type=None,\n",
              "             interaction_constraints=None, learning_rate=None, max_bin=None,\n",
              "             max_cat_threshold=None, max_cat_to_onehot=None,\n",
              "             max_delta_step=None, max_depth=None, max_leaves=None,\n",
              "             min_child_weight=None, missing=nan, monotone_constraints=None,\n",
              "             multi_strategy=None, n_estimators=None, n_jobs=None,\n",
              "             num_parallel_tree=None, random_state=42, ...)"
            ],
            "text/html": [
              "<style>#sk-container-id-1 {color: black;background-color: white;}#sk-container-id-1 pre{padding: 0;}#sk-container-id-1 div.sk-toggleable {background-color: white;}#sk-container-id-1 label.sk-toggleable__label {cursor: pointer;display: block;width: 100%;margin-bottom: 0;padding: 0.3em;box-sizing: border-box;text-align: center;}#sk-container-id-1 label.sk-toggleable__label-arrow:before {content: \"▸\";float: left;margin-right: 0.25em;color: #696969;}#sk-container-id-1 label.sk-toggleable__label-arrow:hover:before {color: black;}#sk-container-id-1 div.sk-estimator:hover label.sk-toggleable__label-arrow:before {color: black;}#sk-container-id-1 div.sk-toggleable__content {max-height: 0;max-width: 0;overflow: hidden;text-align: left;background-color: #f0f8ff;}#sk-container-id-1 div.sk-toggleable__content pre {margin: 0.2em;color: black;border-radius: 0.25em;background-color: #f0f8ff;}#sk-container-id-1 input.sk-toggleable__control:checked~div.sk-toggleable__content {max-height: 200px;max-width: 100%;overflow: auto;}#sk-container-id-1 input.sk-toggleable__control:checked~label.sk-toggleable__label-arrow:before {content: \"▾\";}#sk-container-id-1 div.sk-estimator input.sk-toggleable__control:checked~label.sk-toggleable__label {background-color: #d4ebff;}#sk-container-id-1 div.sk-label input.sk-toggleable__control:checked~label.sk-toggleable__label {background-color: #d4ebff;}#sk-container-id-1 input.sk-hidden--visually {border: 0;clip: rect(1px 1px 1px 1px);clip: rect(1px, 1px, 1px, 1px);height: 1px;margin: -1px;overflow: hidden;padding: 0;position: absolute;width: 1px;}#sk-container-id-1 div.sk-estimator {font-family: monospace;background-color: #f0f8ff;border: 1px dotted black;border-radius: 0.25em;box-sizing: border-box;margin-bottom: 0.5em;}#sk-container-id-1 div.sk-estimator:hover {background-color: #d4ebff;}#sk-container-id-1 div.sk-parallel-item::after {content: \"\";width: 100%;border-bottom: 1px solid gray;flex-grow: 1;}#sk-container-id-1 div.sk-label:hover label.sk-toggleable__label {background-color: #d4ebff;}#sk-container-id-1 div.sk-serial::before {content: \"\";position: absolute;border-left: 1px solid gray;box-sizing: border-box;top: 0;bottom: 0;left: 50%;z-index: 0;}#sk-container-id-1 div.sk-serial {display: flex;flex-direction: column;align-items: center;background-color: white;padding-right: 0.2em;padding-left: 0.2em;position: relative;}#sk-container-id-1 div.sk-item {position: relative;z-index: 1;}#sk-container-id-1 div.sk-parallel {display: flex;align-items: stretch;justify-content: center;background-color: white;position: relative;}#sk-container-id-1 div.sk-item::before, #sk-container-id-1 div.sk-parallel-item::before {content: \"\";position: absolute;border-left: 1px solid gray;box-sizing: border-box;top: 0;bottom: 0;left: 50%;z-index: -1;}#sk-container-id-1 div.sk-parallel-item {display: flex;flex-direction: column;z-index: 1;position: relative;background-color: white;}#sk-container-id-1 div.sk-parallel-item:first-child::after {align-self: flex-end;width: 50%;}#sk-container-id-1 div.sk-parallel-item:last-child::after {align-self: flex-start;width: 50%;}#sk-container-id-1 div.sk-parallel-item:only-child::after {width: 0;}#sk-container-id-1 div.sk-dashed-wrapped {border: 1px dashed gray;margin: 0 0.4em 0.5em 0.4em;box-sizing: border-box;padding-bottom: 0.4em;background-color: white;}#sk-container-id-1 div.sk-label label {font-family: monospace;font-weight: bold;display: inline-block;line-height: 1.2em;}#sk-container-id-1 div.sk-label-container {text-align: center;}#sk-container-id-1 div.sk-container {/* jupyter's `normalize.less` sets `[hidden] { display: none; }` but bootstrap.min.css set `[hidden] { display: none !important; }` so we also need the `!important` here to be able to override the default hidden behavior on the sphinx rendered scikit-learn.org. See: https://github.com/scikit-learn/scikit-learn/issues/21755 */display: inline-block !important;position: relative;}#sk-container-id-1 div.sk-text-repr-fallback {display: none;}</style><div id=\"sk-container-id-1\" class=\"sk-top-container\"><div class=\"sk-text-repr-fallback\"><pre>XGBRegressor(base_score=None, booster=None, callbacks=None,\n",
              "             colsample_bylevel=None, colsample_bynode=None,\n",
              "             colsample_bytree=None, device=None, early_stopping_rounds=None,\n",
              "             enable_categorical=False, eval_metric=None, feature_types=None,\n",
              "             gamma=None, grow_policy=None, importance_type=None,\n",
              "             interaction_constraints=None, learning_rate=None, max_bin=None,\n",
              "             max_cat_threshold=None, max_cat_to_onehot=None,\n",
              "             max_delta_step=None, max_depth=None, max_leaves=None,\n",
              "             min_child_weight=None, missing=nan, monotone_constraints=None,\n",
              "             multi_strategy=None, n_estimators=None, n_jobs=None,\n",
              "             num_parallel_tree=None, random_state=42, ...)</pre><b>In a Jupyter environment, please rerun this cell to show the HTML representation or trust the notebook. <br />On GitHub, the HTML representation is unable to render, please try loading this page with nbviewer.org.</b></div><div class=\"sk-container\" hidden><div class=\"sk-item\"><div class=\"sk-estimator sk-toggleable\"><input class=\"sk-toggleable__control sk-hidden--visually\" id=\"sk-estimator-id-1\" type=\"checkbox\" checked><label for=\"sk-estimator-id-1\" class=\"sk-toggleable__label sk-toggleable__label-arrow\">XGBRegressor</label><div class=\"sk-toggleable__content\"><pre>XGBRegressor(base_score=None, booster=None, callbacks=None,\n",
              "             colsample_bylevel=None, colsample_bynode=None,\n",
              "             colsample_bytree=None, device=None, early_stopping_rounds=None,\n",
              "             enable_categorical=False, eval_metric=None, feature_types=None,\n",
              "             gamma=None, grow_policy=None, importance_type=None,\n",
              "             interaction_constraints=None, learning_rate=None, max_bin=None,\n",
              "             max_cat_threshold=None, max_cat_to_onehot=None,\n",
              "             max_delta_step=None, max_depth=None, max_leaves=None,\n",
              "             min_child_weight=None, missing=nan, monotone_constraints=None,\n",
              "             multi_strategy=None, n_estimators=None, n_jobs=None,\n",
              "             num_parallel_tree=None, random_state=42, ...)</pre></div></div></div></div></div>"
            ]
          },
          "metadata": {},
          "execution_count": 16
        }
      ],
      "source": [
        "xgb_model.fit(X_train,y_train)"
      ]
    },
    {
      "cell_type": "markdown",
      "source": [
        "## 3.4: Predict\n",
        "\n",
        "In the next cell, use `xgb_model` to create predictions from `X_test`. Save the predictions in a variable, `xgb_preds`."
      ],
      "metadata": {
        "id": "7OglKXWUD1dK"
      }
    },
    {
      "cell_type": "code",
      "execution_count": null,
      "metadata": {
        "id": "5PIiTSXt0Eos"
      },
      "outputs": [],
      "source": [
        "xgb_preds = xgb_model.predict(X_test)"
      ]
    },
    {
      "cell_type": "markdown",
      "metadata": {
        "id": "b-l25CdH0Eos"
      },
      "source": [
        "# Section 4: Evaluation\n",
        "\n",
        "In this section we evaluate our defualt `xgb_model`."
      ]
    },
    {
      "cell_type": "markdown",
      "source": [
        "## 4.1: Calculate Regression Error Metrics\n",
        "\n",
        "In the next cell, use scikit-learn to import the following regression evaluation metrics:\n",
        "\n",
        ">- `mean_absolute_error`: Mean Absolute Error (MAE) measures the average magnitude of the errors in a set of predictions, without considering their direction.\n",
        ">>- Store in a variable named: `mae`\n",
        ">- `mean_squared_error`: Mean Squared Error (MSE) measures the average of the squares of the residuals\n",
        ">>- Store in a variable named: `mse`\n",
        ">- Root mean squared error: this is the square root of MSE which converts the error to the original units\n",
        ">>- We have to calculate this value but it is important to do so because it is commonly used in regression evaluation\n",
        ">>- Store this in a variable named: `rmse`\n",
        ">- `mean_absolute_percentage_error`: Mean Absolute Percentage Error (MAPE) measures the accuracy of predictions as a percentage.\n",
        ">>- Store in a variable named: `mape`\n"
      ],
      "metadata": {
        "id": "qyDcAGpQPc3U"
      }
    },
    {
      "cell_type": "code",
      "execution_count": null,
      "metadata": {
        "id": "mVdDxtsI0Eos"
      },
      "outputs": [],
      "source": [
        "from sklearn.metrics import mean_absolute_error, mean_squared_error, mean_absolute_percentage_error"
      ]
    },
    {
      "cell_type": "markdown",
      "source": [
        "## 4.2: Regression Metric Print Function\n",
        "\n",
        "In the next cell, define a function that will calculate and then print the evaluation metrics from section 4.1.\n",
        "\n",
        ">- The function signature should be: `def reg_metrics(y_test, model_preds):`\n",
        ">- Inside the function calculate mae, mse, rmse, and mape\n",
        ">>- Round all the values to 2 decimals\n",
        ">- Then print out the evaluation metrics\n",
        "\n",
        "The output should look like the following:\n",
        "\n",
        "```\n",
        "Model regression metrics:\n",
        "MAE: 232315.75\n",
        "MSE: 127124707504.51\n",
        "RMSE: 356545.52\n",
        "MAPE: 0.23\n",
        "```"
      ],
      "metadata": {
        "id": "YaYJGslVNnVI"
      }
    },
    {
      "cell_type": "code",
      "execution_count": null,
      "metadata": {
        "id": "V2B_lTAY0Eos"
      },
      "outputs": [],
      "source": [
        "def reg_metrics(y_test, model_preds):\n",
        "\n",
        "  mae = round(mean_absolute_error(y_test, model_preds),2)\n",
        "  mse = round(mean_squared_error(y_test, model_preds),2)\n",
        "  rmse = round(mean_squared_error(y_test, model_preds, squared = False),2)\n",
        "  mape = round(mean_absolute_percentage_error(y_test, model_preds),2)\n",
        "\n",
        "  # print results\n",
        "  print(f\"Model regression metrics:\")\n",
        "  print(f\"MAE: {mae}\")\n",
        "  print(f\"MSE: {mse}\")\n",
        "  print(f\"RMSE: {rmse}\")\n",
        "  print(f\"MAPE: {mape}\")"
      ]
    },
    {
      "cell_type": "markdown",
      "source": [
        "## 4.3: Print Regression Evaluation Metrics\n",
        "\n",
        "In the next cell, print the evaluation metrics for the default `xgb_model`.\n",
        "\n",
        ">- When entering data, make sure you have rounded to two decimals and enter data in `XXXX.XX` format with at least one value to the left of the decimal even its a `0`.\n",
        ">>- Note: There may be more or less than the 4 \"X's\" shown in the format"
      ],
      "metadata": {
        "id": "aLa1sXzmPKDI"
      }
    },
    {
      "cell_type": "code",
      "source": [
        "reg_metrics(y_test, xgb_preds)"
      ],
      "metadata": {
        "colab": {
          "base_uri": "https://localhost:8080/"
        },
        "id": "C7qPSUZdNA-S",
        "outputId": "1a49e13e-0973-464e-9b33-8328cf0f00c8"
      },
      "execution_count": null,
      "outputs": [
        {
          "output_type": "stream",
          "name": "stdout",
          "text": [
            "Model regression metrics:\n",
            "MAE: 239283.34\n",
            "MSE: 139003972600.01\n",
            "RMSE: 372832.37\n",
            "MAPE: 0.23\n"
          ]
        }
      ]
    },
    {
      "cell_type": "markdown",
      "metadata": {
        "id": "iSnxzum00Eos"
      },
      "source": [
        "## 4.4: Feature Importance\n",
        "\n",
        "Model coefficients exist for `XGBoost` regressors, but they are not as straightforward to interpret as in linear regression.\n",
        "\n",
        "`XGBoost`, like other tree-based models, works by constructing an ensemble of decision trees. Each tree makes a sequence of binary splits based on features to predict the target variable. As such, the \"coefficients\" in XGBoost represent the importance of each feature in making these splits.\n",
        ">- Its important to note that these feature importances are not directly interpretable as coefficients in linear regression.\n",
        ">- They indicate the importance of features in the model's decision-making process rather than the impact of each feature on the target variable in the linear sense.\n",
        "\n",
        "In the next cell, show the feature importances in descending order.\n",
        "\n",
        ">- Recall the `feature_importances_` attribute of the decision tree, random forest, and we can also call this on XGBoost models.\n",
        ">- Round the importance metric to 2 decimals\n",
        ">- Enter data in `0.XX` format"
      ]
    },
    {
      "cell_type": "code",
      "source": [
        "# DataFrame of importances\n",
        "\n",
        "round(pd.DataFrame(xgb_model.feature_importances_, columns = ['Importance'],\n",
        "             index = X.columns).sort_values(by = 'Importance',ascending = False), 2)"
      ],
      "metadata": {
        "colab": {
          "base_uri": "https://localhost:8080/",
          "height": 206
        },
        "id": "QineqGO3Mcpb",
        "outputId": "2907d7b1-ca03-4fa4-b39c-c7f0a8356990"
      },
      "execution_count": null,
      "outputs": [
        {
          "output_type": "execute_result",
          "data": {
            "text/plain": [
              "              Importance\n",
              "Rooms               0.48\n",
              "Distance            0.18\n",
              "BuildingArea        0.13\n",
              "Landsize            0.11\n",
              "YearBuilt           0.11"
            ],
            "text/html": [
              "\n",
              "  <div id=\"df-de87cb59-ecda-457f-8aa7-9cf51b454658\" class=\"colab-df-container\">\n",
              "    <div>\n",
              "<style scoped>\n",
              "    .dataframe tbody tr th:only-of-type {\n",
              "        vertical-align: middle;\n",
              "    }\n",
              "\n",
              "    .dataframe tbody tr th {\n",
              "        vertical-align: top;\n",
              "    }\n",
              "\n",
              "    .dataframe thead th {\n",
              "        text-align: right;\n",
              "    }\n",
              "</style>\n",
              "<table border=\"1\" class=\"dataframe\">\n",
              "  <thead>\n",
              "    <tr style=\"text-align: right;\">\n",
              "      <th></th>\n",
              "      <th>Importance</th>\n",
              "    </tr>\n",
              "  </thead>\n",
              "  <tbody>\n",
              "    <tr>\n",
              "      <th>Rooms</th>\n",
              "      <td>0.48</td>\n",
              "    </tr>\n",
              "    <tr>\n",
              "      <th>Distance</th>\n",
              "      <td>0.18</td>\n",
              "    </tr>\n",
              "    <tr>\n",
              "      <th>BuildingArea</th>\n",
              "      <td>0.13</td>\n",
              "    </tr>\n",
              "    <tr>\n",
              "      <th>Landsize</th>\n",
              "      <td>0.11</td>\n",
              "    </tr>\n",
              "    <tr>\n",
              "      <th>YearBuilt</th>\n",
              "      <td>0.11</td>\n",
              "    </tr>\n",
              "  </tbody>\n",
              "</table>\n",
              "</div>\n",
              "    <div class=\"colab-df-buttons\">\n",
              "\n",
              "  <div class=\"colab-df-container\">\n",
              "    <button class=\"colab-df-convert\" onclick=\"convertToInteractive('df-de87cb59-ecda-457f-8aa7-9cf51b454658')\"\n",
              "            title=\"Convert this dataframe to an interactive table.\"\n",
              "            style=\"display:none;\">\n",
              "\n",
              "  <svg xmlns=\"http://www.w3.org/2000/svg\" height=\"24px\" viewBox=\"0 -960 960 960\">\n",
              "    <path d=\"M120-120v-720h720v720H120Zm60-500h600v-160H180v160Zm220 220h160v-160H400v160Zm0 220h160v-160H400v160ZM180-400h160v-160H180v160Zm440 0h160v-160H620v160ZM180-180h160v-160H180v160Zm440 0h160v-160H620v160Z\"/>\n",
              "  </svg>\n",
              "    </button>\n",
              "\n",
              "  <style>\n",
              "    .colab-df-container {\n",
              "      display:flex;\n",
              "      gap: 12px;\n",
              "    }\n",
              "\n",
              "    .colab-df-convert {\n",
              "      background-color: #E8F0FE;\n",
              "      border: none;\n",
              "      border-radius: 50%;\n",
              "      cursor: pointer;\n",
              "      display: none;\n",
              "      fill: #1967D2;\n",
              "      height: 32px;\n",
              "      padding: 0 0 0 0;\n",
              "      width: 32px;\n",
              "    }\n",
              "\n",
              "    .colab-df-convert:hover {\n",
              "      background-color: #E2EBFA;\n",
              "      box-shadow: 0px 1px 2px rgba(60, 64, 67, 0.3), 0px 1px 3px 1px rgba(60, 64, 67, 0.15);\n",
              "      fill: #174EA6;\n",
              "    }\n",
              "\n",
              "    .colab-df-buttons div {\n",
              "      margin-bottom: 4px;\n",
              "    }\n",
              "\n",
              "    [theme=dark] .colab-df-convert {\n",
              "      background-color: #3B4455;\n",
              "      fill: #D2E3FC;\n",
              "    }\n",
              "\n",
              "    [theme=dark] .colab-df-convert:hover {\n",
              "      background-color: #434B5C;\n",
              "      box-shadow: 0px 1px 3px 1px rgba(0, 0, 0, 0.15);\n",
              "      filter: drop-shadow(0px 1px 2px rgba(0, 0, 0, 0.3));\n",
              "      fill: #FFFFFF;\n",
              "    }\n",
              "  </style>\n",
              "\n",
              "    <script>\n",
              "      const buttonEl =\n",
              "        document.querySelector('#df-de87cb59-ecda-457f-8aa7-9cf51b454658 button.colab-df-convert');\n",
              "      buttonEl.style.display =\n",
              "        google.colab.kernel.accessAllowed ? 'block' : 'none';\n",
              "\n",
              "      async function convertToInteractive(key) {\n",
              "        const element = document.querySelector('#df-de87cb59-ecda-457f-8aa7-9cf51b454658');\n",
              "        const dataTable =\n",
              "          await google.colab.kernel.invokeFunction('convertToInteractive',\n",
              "                                                    [key], {});\n",
              "        if (!dataTable) return;\n",
              "\n",
              "        const docLinkHtml = 'Like what you see? Visit the ' +\n",
              "          '<a target=\"_blank\" href=https://colab.research.google.com/notebooks/data_table.ipynb>data table notebook</a>'\n",
              "          + ' to learn more about interactive tables.';\n",
              "        element.innerHTML = '';\n",
              "        dataTable['output_type'] = 'display_data';\n",
              "        await google.colab.output.renderOutput(dataTable, element);\n",
              "        const docLink = document.createElement('div');\n",
              "        docLink.innerHTML = docLinkHtml;\n",
              "        element.appendChild(docLink);\n",
              "      }\n",
              "    </script>\n",
              "  </div>\n",
              "\n",
              "\n",
              "<div id=\"df-a47ea1fb-a663-49ac-95a6-301e022d1fbc\">\n",
              "  <button class=\"colab-df-quickchart\" onclick=\"quickchart('df-a47ea1fb-a663-49ac-95a6-301e022d1fbc')\"\n",
              "            title=\"Suggest charts\"\n",
              "            style=\"display:none;\">\n",
              "\n",
              "<svg xmlns=\"http://www.w3.org/2000/svg\" height=\"24px\"viewBox=\"0 0 24 24\"\n",
              "     width=\"24px\">\n",
              "    <g>\n",
              "        <path d=\"M19 3H5c-1.1 0-2 .9-2 2v14c0 1.1.9 2 2 2h14c1.1 0 2-.9 2-2V5c0-1.1-.9-2-2-2zM9 17H7v-7h2v7zm4 0h-2V7h2v10zm4 0h-2v-4h2v4z\"/>\n",
              "    </g>\n",
              "</svg>\n",
              "  </button>\n",
              "\n",
              "<style>\n",
              "  .colab-df-quickchart {\n",
              "      --bg-color: #E8F0FE;\n",
              "      --fill-color: #1967D2;\n",
              "      --hover-bg-color: #E2EBFA;\n",
              "      --hover-fill-color: #174EA6;\n",
              "      --disabled-fill-color: #AAA;\n",
              "      --disabled-bg-color: #DDD;\n",
              "  }\n",
              "\n",
              "  [theme=dark] .colab-df-quickchart {\n",
              "      --bg-color: #3B4455;\n",
              "      --fill-color: #D2E3FC;\n",
              "      --hover-bg-color: #434B5C;\n",
              "      --hover-fill-color: #FFFFFF;\n",
              "      --disabled-bg-color: #3B4455;\n",
              "      --disabled-fill-color: #666;\n",
              "  }\n",
              "\n",
              "  .colab-df-quickchart {\n",
              "    background-color: var(--bg-color);\n",
              "    border: none;\n",
              "    border-radius: 50%;\n",
              "    cursor: pointer;\n",
              "    display: none;\n",
              "    fill: var(--fill-color);\n",
              "    height: 32px;\n",
              "    padding: 0;\n",
              "    width: 32px;\n",
              "  }\n",
              "\n",
              "  .colab-df-quickchart:hover {\n",
              "    background-color: var(--hover-bg-color);\n",
              "    box-shadow: 0 1px 2px rgba(60, 64, 67, 0.3), 0 1px 3px 1px rgba(60, 64, 67, 0.15);\n",
              "    fill: var(--button-hover-fill-color);\n",
              "  }\n",
              "\n",
              "  .colab-df-quickchart-complete:disabled,\n",
              "  .colab-df-quickchart-complete:disabled:hover {\n",
              "    background-color: var(--disabled-bg-color);\n",
              "    fill: var(--disabled-fill-color);\n",
              "    box-shadow: none;\n",
              "  }\n",
              "\n",
              "  .colab-df-spinner {\n",
              "    border: 2px solid var(--fill-color);\n",
              "    border-color: transparent;\n",
              "    border-bottom-color: var(--fill-color);\n",
              "    animation:\n",
              "      spin 1s steps(1) infinite;\n",
              "  }\n",
              "\n",
              "  @keyframes spin {\n",
              "    0% {\n",
              "      border-color: transparent;\n",
              "      border-bottom-color: var(--fill-color);\n",
              "      border-left-color: var(--fill-color);\n",
              "    }\n",
              "    20% {\n",
              "      border-color: transparent;\n",
              "      border-left-color: var(--fill-color);\n",
              "      border-top-color: var(--fill-color);\n",
              "    }\n",
              "    30% {\n",
              "      border-color: transparent;\n",
              "      border-left-color: var(--fill-color);\n",
              "      border-top-color: var(--fill-color);\n",
              "      border-right-color: var(--fill-color);\n",
              "    }\n",
              "    40% {\n",
              "      border-color: transparent;\n",
              "      border-right-color: var(--fill-color);\n",
              "      border-top-color: var(--fill-color);\n",
              "    }\n",
              "    60% {\n",
              "      border-color: transparent;\n",
              "      border-right-color: var(--fill-color);\n",
              "    }\n",
              "    80% {\n",
              "      border-color: transparent;\n",
              "      border-right-color: var(--fill-color);\n",
              "      border-bottom-color: var(--fill-color);\n",
              "    }\n",
              "    90% {\n",
              "      border-color: transparent;\n",
              "      border-bottom-color: var(--fill-color);\n",
              "    }\n",
              "  }\n",
              "</style>\n",
              "\n",
              "  <script>\n",
              "    async function quickchart(key) {\n",
              "      const quickchartButtonEl =\n",
              "        document.querySelector('#' + key + ' button');\n",
              "      quickchartButtonEl.disabled = true;  // To prevent multiple clicks.\n",
              "      quickchartButtonEl.classList.add('colab-df-spinner');\n",
              "      try {\n",
              "        const charts = await google.colab.kernel.invokeFunction(\n",
              "            'suggestCharts', [key], {});\n",
              "      } catch (error) {\n",
              "        console.error('Error during call to suggestCharts:', error);\n",
              "      }\n",
              "      quickchartButtonEl.classList.remove('colab-df-spinner');\n",
              "      quickchartButtonEl.classList.add('colab-df-quickchart-complete');\n",
              "    }\n",
              "    (() => {\n",
              "      let quickchartButtonEl =\n",
              "        document.querySelector('#df-a47ea1fb-a663-49ac-95a6-301e022d1fbc button');\n",
              "      quickchartButtonEl.style.display =\n",
              "        google.colab.kernel.accessAllowed ? 'block' : 'none';\n",
              "    })();\n",
              "  </script>\n",
              "</div>\n",
              "    </div>\n",
              "  </div>\n"
            ],
            "application/vnd.google.colaboratory.intrinsic+json": {
              "type": "dataframe",
              "summary": "{\n  \"name\": \"             index = X\",\n  \"rows\": 5,\n  \"fields\": [\n    {\n      \"column\": \"Importance\",\n      \"properties\": {\n        \"dtype\": \"float32\",\n        \"num_unique_values\": 4,\n        \"samples\": [\n          0.18000000715255737,\n          0.10999999940395355,\n          0.47999998927116394\n        ],\n        \"semantic_type\": \"\",\n        \"description\": \"\"\n      }\n    }\n  ]\n}"
            }
          },
          "metadata": {},
          "execution_count": 21
        }
      ]
    },
    {
      "cell_type": "markdown",
      "metadata": {
        "id": "d6koBOiE0Eot"
      },
      "source": [
        "# Section 5: XGBoost - HyperParameter Exploration\n",
        "\n",
        "In this section, we learn how to find the optimal parameter values for some of the most important hyperparameters of `XGBoost`:\n",
        "\n",
        "1. `n_estimators`\n",
        "2. `learning_rate`\n",
        "3. `early_stopping_rounds`\n",
        "\n",
        "\n",
        "See the lesson slide notes, [Tech Lesson 16 Slides - Gradient Boosting Hyperparameters](https://docs.google.com/presentation/d/1ThqntrqVP2FQrdb0qHQFPh5r2dvQZBcrWnAN_MZgNVk/edit?usp=sharing), for more details about each of these hyperparameters.\n",
        "\n",
        "---"
      ]
    },
    {
      "cell_type": "markdown",
      "metadata": {
        "id": "Y4rw-hdk0Eot"
      },
      "source": [
        "## 5.1: Choosing correct number of trees (`n_estimators`)\n",
        "\n",
        "In this section we will explore how changing the number of trees used in the gradient boosting model changes accuracy.\n",
        "\n",
        "In the next cell(s):\n",
        "\n",
        "1. Initialize an empty list `test_error` to store the test error for each number of trees.\n",
        "2. For each number of trees n from 1 to 99:\n",
        ">- Create a XGBoost Regressor with n trees (`n_estimators=n`).\n",
        ">>- Set a random state of 42 so we have reproducible results\n",
        ">- Fit the model on the training data (X_train, y_train).\n",
        ">- Make predictions on the test data (X_test).\n",
        ">- Calculate the test error as root mean squared error and append it to `test_error`.\n",
        "3. Analyze the `test_error` list to understand how the number of trees affects the model's performance."
      ]
    },
    {
      "cell_type": "markdown",
      "metadata": {
        "id": "Ti-laOnA0Eot"
      },
      "source": [
        "Create the code to store `test_error` in the next cell."
      ]
    },
    {
      "cell_type": "code",
      "source": [
        "rmse_list = [] # this would be test_error in the example\n",
        "mape_list = []\n",
        "\n",
        "for n in range(1, 100):\n",
        "\n",
        "  #instantiate\n",
        "  xgb = XGBRegressor(n_estimators = n, random_state = 42)\n",
        "  #fit\n",
        "  xgb.fit(X_train, y_train)\n",
        "  #predict\n",
        "  preds = xgb.predict(X_test)\n",
        "  # calculate error and append to test_error list\n",
        "  rmse = round(mean_squared_error(y_test, preds, squared = False),2)\n",
        "  mape = round(mean_absolute_percentage_error(y_test, preds),2)\n",
        "\n",
        "  rmse_list.append(rmse)\n",
        "  mape_list.append(mape)"
      ],
      "metadata": {
        "id": "ugKXXiQDThp2"
      },
      "execution_count": null,
      "outputs": []
    },
    {
      "cell_type": "markdown",
      "source": [
        "Analyze the test errors in the next cell.\n",
        "\n",
        ">- How many trees should we consider based on this?\n",
        ">- To help answer this question replicate the following chart:\n",
        ">>- [lesson16_5.1_trees_png](https://drive.google.com/file/d/1-3iBqQchexnoBbQ3W736_gT28MccpCS1/view?usp=sharing)"
      ],
      "metadata": {
        "id": "rjad3DW5U3q5"
      }
    },
    {
      "cell_type": "code",
      "source": [
        "fig, ax = plt.subplots()\n",
        "\n",
        "# define data\n",
        "x_plot = [n for n in range(1, 100)]\n",
        "y_plot = rmse_list\n",
        "\n",
        "#plot\n",
        "ax.plot(x_plot, y_plot)\n",
        "\n",
        "#customize\n",
        "ax.set_title(\"RMSE Versus Number of Trees\")\n",
        "ax.set_xlabel(\"Number of Trees\")\n",
        "ax.set_ylabel(\"Error Rate\")\n",
        "\n",
        "plt.savefig('lesson16_5.1_trees.png')\n",
        "plt.show()"
      ],
      "metadata": {
        "colab": {
          "base_uri": "https://localhost:8080/",
          "height": 472
        },
        "id": "clj6sb7iTjKR",
        "outputId": "9a26c84f-b9f3-4e44-d526-c76058f474da"
      },
      "execution_count": null,
      "outputs": [
        {
          "output_type": "display_data",
          "data": {
            "text/plain": [
              "<Figure size 640x480 with 1 Axes>"
            ],
            "image/png": "[encoded data removed]"
          },
          "metadata": {}
        }
      ]
    },
    {
      "cell_type": "markdown",
      "source": [
        "Optional Add-On: Plotting MAPE"
      ],
      "metadata": {
        "id": "gEj2k5YOjgTi"
      }
    },
    {
      "cell_type": "code",
      "source": [
        "fig, ax = plt.subplots()\n",
        "\n",
        "# define data\n",
        "x_plot = [n for n in range(1, 100)]\n",
        "y_plot = mape_list\n",
        "\n",
        "#plot\n",
        "ax.plot(x_plot, y_plot)\n",
        "\n",
        "#customize\n",
        "ax.set_title(\"MAPE Versus Number of Trees\")\n",
        "ax.set_xlabel(\"Number of Trees\")\n",
        "ax.set_ylabel(\"Error Rate\")\n",
        "\n",
        "# plt.savefig('lesson16_5.1_trees.png')\n",
        "plt.show()"
      ],
      "metadata": {
        "colab": {
          "base_uri": "https://localhost:8080/",
          "height": 472
        },
        "id": "UCVmBzm8jYO5",
        "outputId": "df94ab6e-efc0-4961-b6ca-7bd7b592e82f"
      },
      "execution_count": null,
      "outputs": [
        {
          "output_type": "display_data",
          "data": {
            "text/plain": [
              "<Figure size 640x480 with 1 Axes>"
            ],
            "image/png": "[encoded data removed]"
          },
          "metadata": {}
        }
      ]
    },
    {
      "cell_type": "markdown",
      "source": [
        "## 5.2: How many trees?\n",
        "\n",
        "Based on the chart produced in section 5.1, how many trees should we use to create a XGBoost model for this dataset?\n",
        "\n",
        "Use the markdown cell (and possibly Canvas) to provide your response.\n",
        "\n",
        "\n",
        "`### Solution Notes`\n",
        "```\n",
        ">- Based on plotting the error rates versus trees it looks like using around 40 trees will produce good results.\n",
        ">- The root mean squared error appears to bottom out around 40 trees and doesn't seem to improve much beyond this.\n",
        ">- MAPE completely flattens out at around 40 trees\n",
        "```\n",
        "---"
      ],
      "metadata": {
        "id": "V0_gfBXLWJV2"
      }
    },
    {
      "cell_type": "markdown",
      "source": [
        "## 5.3: Grid Search\n",
        "\n",
        "Having explored how to get the number of trees by storing and analyzing error rates for various number of trees, let's now explore using `GridSearchCV` to find optimal values for the key parameters discussed at the beginning of this section.\n",
        "\n",
        "In the next cell, perform a grid search using the following values for each parameter:\n",
        "\n",
        ">- `n_estimators = [20, 40, 50, 100, 200]`\n",
        ">- `learning_rate = [.01, .1, .2, .3]`\n",
        "\n"
      ],
      "metadata": {
        "id": "siqaPeXUW9gp"
      }
    },
    {
      "cell_type": "markdown",
      "source": [
        "### 5.3.1: Parameter Values\n",
        "\n",
        "Define the parameter values in the next cell."
      ],
      "metadata": {
        "id": "CqJUUlAsaeLk"
      }
    },
    {
      "cell_type": "code",
      "source": [
        "n_estimators = [20, 40, 50, 100, 200]\n",
        "learning_rate = [.01, .1, .2, .3]"
      ],
      "metadata": {
        "id": "n6siD_j_TjIF"
      },
      "execution_count": null,
      "outputs": []
    },
    {
      "cell_type": "markdown",
      "source": [
        "### 5.3.2: Define the Parameter Grid\n",
        "\n",
        "In the next cell define `param_grid`.\n",
        ">- Recall: a parameter grid is a dictionary that maps the parameter names to the values we want to test (e.g, 'n_estimators':n_estimators)"
      ],
      "metadata": {
        "id": "cslUD7OAam-U"
      }
    },
    {
      "cell_type": "code",
      "source": [
        "param_grid = {'n_estimators':n_estimators,\n",
        "             'learning_rate': learning_rate,\n",
        "              }"
      ],
      "metadata": {
        "id": "8EdmnYMOTjFR"
      },
      "execution_count": null,
      "outputs": []
    },
    {
      "cell_type": "markdown",
      "source": [
        "### 5.3.3: Import `GridSearchCV`\n",
        "\n",
        "In the next cell, import the `GridSearchCV` package."
      ],
      "metadata": {
        "id": "0ySjrugEbFLA"
      }
    },
    {
      "cell_type": "code",
      "source": [
        "from sklearn.model_selection import GridSearchCV"
      ],
      "metadata": {
        "id": "7Gi_gHeFTjCi"
      },
      "execution_count": null,
      "outputs": []
    },
    {
      "cell_type": "markdown",
      "source": [
        "### 5.3.4: Grid Search\n",
        "\n",
        "In the next cell, perform a grid search.\n",
        "\n",
        ">- When instantiating the model, set a random state of 42\n",
        ">- Recall: [GridSearchCV doc](https://scikit-learn.org/stable/modules/generated/sklearn.model_selection.GridSearchCV.html) if you need a refresher on grid search in scikit-learn.\n",
        ">- By default, grid search uses `sklearn.metrics.r2_score` for regression\n",
        ">>- You can change this setting by changing the `scoring` parameter"
      ],
      "metadata": {
        "id": "Lvx12JyEbUIu"
      }
    },
    {
      "cell_type": "code",
      "source": [
        "xgb = XGBRegressor(random_state = 42)\n",
        "\n",
        "grid = GridSearchCV(xgb, param_grid)"
      ],
      "metadata": {
        "id": "oHJaKwvWbTDd"
      },
      "execution_count": null,
      "outputs": []
    },
    {
      "cell_type": "markdown",
      "source": [
        "### 5.3.5: Fit Grid Model\n",
        "\n",
        "In the next cell, fit the grid model to the training data.\n",
        ">- Set the `eval_metric` parameter to 'rmse'\n",
        ">- Set `early_stopping_rounds` to 5"
      ],
      "metadata": {
        "id": "mKGJsfc2btfr"
      }
    },
    {
      "cell_type": "markdown",
      "source": [
        "Note: This may take a while to complete depending on your grid search parameters so give it time and let the grid search do its thing.\n",
        "\n"
      ],
      "metadata": {
        "id": "qRqw_k64clwC"
      }
    },
    {
      "cell_type": "code",
      "source": [
        "import warnings\n",
        "warnings.filterwarnings('ignore')"
      ],
      "metadata": {
        "id": "ERu0zPKscnqN"
      },
      "execution_count": null,
      "outputs": []
    },
    {
      "cell_type": "code",
      "source": [
        "grid.fit(X_train, y_train,\n",
        "         early_stopping_rounds = 5,\n",
        "         eval_set = [(X_test, y_test)],\n",
        "         eval_metric = 'rmse',\n",
        "         verbose = False # suppress the output, there will be a lot\n",
        "         )"
      ],
      "metadata": {
        "colab": {
          "base_uri": "https://localhost:8080/",
          "height": 118
        },
        "id": "YpN9Y8NNb7n7",
        "outputId": "357f9443-eafb-4b22-8eda-0cda367a3130"
      },
      "execution_count": null,
      "outputs": [
        {
          "output_type": "execute_result",
          "data": {
            "text/plain": [
              "GridSearchCV(estimator=XGBRegressor(base_score=None, booster=None,\n",
              "                                    callbacks=None, colsample_bylevel=None,\n",
              "                                    colsample_bynode=None,\n",
              "                                    colsample_bytree=None, device=None,\n",
              "                                    early_stopping_rounds=None,\n",
              "                                    enable_categorical=False, eval_metric=None,\n",
              "                                    feature_types=None, gamma=None,\n",
              "                                    grow_policy=None, importance_type=None,\n",
              "                                    interaction_constraints=None,\n",
              "                                    learning_rate=None, max_bin=None,\n",
              "                                    max_cat_threshold=None,\n",
              "                                    max_cat_to_onehot=None, max_delta_step=None,\n",
              "                                    max_depth=None, max_leaves=None,\n",
              "                                    min_child_weight=None, missing=nan,\n",
              "                                    monotone_constraints=None,\n",
              "                                    multi_strategy=None, n_estimators=None,\n",
              "                                    n_jobs=None, num_parallel_tree=None,\n",
              "                                    random_state=42, ...),\n",
              "             param_grid={'learning_rate': [0.01, 0.1, 0.2, 0.3],\n",
              "                         'n_estimators': [20, 40, 50, 100, 200]})"
            ],
            "text/html": [
              "<style>#sk-container-id-2 {color: black;background-color: white;}#sk-container-id-2 pre{padding: 0;}#sk-container-id-2 div.sk-toggleable {background-color: white;}#sk-container-id-2 label.sk-toggleable__label {cursor: pointer;display: block;width: 100%;margin-bottom: 0;padding: 0.3em;box-sizing: border-box;text-align: center;}#sk-container-id-2 label.sk-toggleable__label-arrow:before {content: \"▸\";float: left;margin-right: 0.25em;color: #696969;}#sk-container-id-2 label.sk-toggleable__label-arrow:hover:before {color: black;}#sk-container-id-2 div.sk-estimator:hover label.sk-toggleable__label-arrow:before {color: black;}#sk-container-id-2 div.sk-toggleable__content {max-height: 0;max-width: 0;overflow: hidden;text-align: left;background-color: #f0f8ff;}#sk-container-id-2 div.sk-toggleable__content pre {margin: 0.2em;color: black;border-radius: 0.25em;background-color: #f0f8ff;}#sk-container-id-2 input.sk-toggleable__control:checked~div.sk-toggleable__content {max-height: 200px;max-width: 100%;overflow: auto;}#sk-container-id-2 input.sk-toggleable__control:checked~label.sk-toggleable__label-arrow:before {content: \"▾\";}#sk-container-id-2 div.sk-estimator input.sk-toggleable__control:checked~label.sk-toggleable__label {background-color: #d4ebff;}#sk-container-id-2 div.sk-label input.sk-toggleable__control:checked~label.sk-toggleable__label {background-color: #d4ebff;}#sk-container-id-2 input.sk-hidden--visually {border: 0;clip: rect(1px 1px 1px 1px);clip: rect(1px, 1px, 1px, 1px);height: 1px;margin: -1px;overflow: hidden;padding: 0;position: absolute;width: 1px;}#sk-container-id-2 div.sk-estimator {font-family: monospace;background-color: #f0f8ff;border: 1px dotted black;border-radius: 0.25em;box-sizing: border-box;margin-bottom: 0.5em;}#sk-container-id-2 div.sk-estimator:hover {background-color: #d4ebff;}#sk-container-id-2 div.sk-parallel-item::after {content: \"\";width: 100%;border-bottom: 1px solid gray;flex-grow: 1;}#sk-container-id-2 div.sk-label:hover label.sk-toggleable__label {background-color: #d4ebff;}#sk-container-id-2 div.sk-serial::before {content: \"\";position: absolute;border-left: 1px solid gray;box-sizing: border-box;top: 0;bottom: 0;left: 50%;z-index: 0;}#sk-container-id-2 div.sk-serial {display: flex;flex-direction: column;align-items: center;background-color: white;padding-right: 0.2em;padding-left: 0.2em;position: relative;}#sk-container-id-2 div.sk-item {position: relative;z-index: 1;}#sk-container-id-2 div.sk-parallel {display: flex;align-items: stretch;justify-content: center;background-color: white;position: relative;}#sk-container-id-2 div.sk-item::before, #sk-container-id-2 div.sk-parallel-item::before {content: \"\";position: absolute;border-left: 1px solid gray;box-sizing: border-box;top: 0;bottom: 0;left: 50%;z-index: -1;}#sk-container-id-2 div.sk-parallel-item {display: flex;flex-direction: column;z-index: 1;position: relative;background-color: white;}#sk-container-id-2 div.sk-parallel-item:first-child::after {align-self: flex-end;width: 50%;}#sk-container-id-2 div.sk-parallel-item:last-child::after {align-self: flex-start;width: 50%;}#sk-container-id-2 div.sk-parallel-item:only-child::after {width: 0;}#sk-container-id-2 div.sk-dashed-wrapped {border: 1px dashed gray;margin: 0 0.4em 0.5em 0.4em;box-sizing: border-box;padding-bottom: 0.4em;background-color: white;}#sk-container-id-2 div.sk-label label {font-family: monospace;font-weight: bold;display: inline-block;line-height: 1.2em;}#sk-container-id-2 div.sk-label-container {text-align: center;}#sk-container-id-2 div.sk-container {/* jupyter's `normalize.less` sets `[hidden] { display: none; }` but bootstrap.min.css set `[hidden] { display: none !important; }` so we also need the `!important` here to be able to override the default hidden behavior on the sphinx rendered scikit-learn.org. See: https://github.com/scikit-learn/scikit-learn/issues/21755 */display: inline-block !important;position: relative;}#sk-container-id-2 div.sk-text-repr-fallback {display: none;}</style><div id=\"sk-container-id-2\" class=\"sk-top-container\"><div class=\"sk-text-repr-fallback\"><pre>GridSearchCV(estimator=XGBRegressor(base_score=None, booster=None,\n",
              "                                    callbacks=None, colsample_bylevel=None,\n",
              "                                    colsample_bynode=None,\n",
              "                                    colsample_bytree=None, device=None,\n",
              "                                    early_stopping_rounds=None,\n",
              "                                    enable_categorical=False, eval_metric=None,\n",
              "                                    feature_types=None, gamma=None,\n",
              "                                    grow_policy=None, importance_type=None,\n",
              "                                    interaction_constraints=None,\n",
              "                                    learning_rate=None, max_bin=None,\n",
              "                                    max_cat_threshold=None,\n",
              "                                    max_cat_to_onehot=None, max_delta_step=None,\n",
              "                                    max_depth=None, max_leaves=None,\n",
              "                                    min_child_weight=None, missing=nan,\n",
              "                                    monotone_constraints=None,\n",
              "                                    multi_strategy=None, n_estimators=None,\n",
              "                                    n_jobs=None, num_parallel_tree=None,\n",
              "                                    random_state=42, ...),\n",
              "             param_grid={&#x27;learning_rate&#x27;: [0.01, 0.1, 0.2, 0.3],\n",
              "                         &#x27;n_estimators&#x27;: [20, 40, 50, 100, 200]})</pre><b>In a Jupyter environment, please rerun this cell to show the HTML representation or trust the notebook. <br />On GitHub, the HTML representation is unable to render, please try loading this page with nbviewer.org.</b></div><div class=\"sk-container\" hidden><div class=\"sk-item sk-dashed-wrapped\"><div class=\"sk-label-container\"><div class=\"sk-label sk-toggleable\"><input class=\"sk-toggleable__control sk-hidden--visually\" id=\"sk-estimator-id-2\" type=\"checkbox\" ><label for=\"sk-estimator-id-2\" class=\"sk-toggleable__label sk-toggleable__label-arrow\">GridSearchCV</label><div class=\"sk-toggleable__content\"><pre>GridSearchCV(estimator=XGBRegressor(base_score=None, booster=None,\n",
              "                                    callbacks=None, colsample_bylevel=None,\n",
              "                                    colsample_bynode=None,\n",
              "                                    colsample_bytree=None, device=None,\n",
              "                                    early_stopping_rounds=None,\n",
              "                                    enable_categorical=False, eval_metric=None,\n",
              "                                    feature_types=None, gamma=None,\n",
              "                                    grow_policy=None, importance_type=None,\n",
              "                                    interaction_constraints=None,\n",
              "                                    learning_rate=None, max_bin=None,\n",
              "                                    max_cat_threshold=None,\n",
              "                                    max_cat_to_onehot=None, max_delta_step=None,\n",
              "                                    max_depth=None, max_leaves=None,\n",
              "                                    min_child_weight=None, missing=nan,\n",
              "                                    monotone_constraints=None,\n",
              "                                    multi_strategy=None, n_estimators=None,\n",
              "                                    n_jobs=None, num_parallel_tree=None,\n",
              "                                    random_state=42, ...),\n",
              "             param_grid={&#x27;learning_rate&#x27;: [0.01, 0.1, 0.2, 0.3],\n",
              "                         &#x27;n_estimators&#x27;: [20, 40, 50, 100, 200]})</pre></div></div></div><div class=\"sk-parallel\"><div class=\"sk-parallel-item\"><div class=\"sk-item\"><div class=\"sk-label-container\"><div class=\"sk-label sk-toggleable\"><input class=\"sk-toggleable__control sk-hidden--visually\" id=\"sk-estimator-id-3\" type=\"checkbox\" ><label for=\"sk-estimator-id-3\" class=\"sk-toggleable__label sk-toggleable__label-arrow\">estimator: XGBRegressor</label><div class=\"sk-toggleable__content\"><pre>XGBRegressor(base_score=None, booster=None, callbacks=None,\n",
              "             colsample_bylevel=None, colsample_bynode=None,\n",
              "             colsample_bytree=None, device=None, early_stopping_rounds=None,\n",
              "             enable_categorical=False, eval_metric=None, feature_types=None,\n",
              "             gamma=None, grow_policy=None, importance_type=None,\n",
              "             interaction_constraints=None, learning_rate=None, max_bin=None,\n",
              "             max_cat_threshold=None, max_cat_to_onehot=None,\n",
              "             max_delta_step=None, max_depth=None, max_leaves=None,\n",
              "             min_child_weight=None, missing=nan, monotone_constraints=None,\n",
              "             multi_strategy=None, n_estimators=None, n_jobs=None,\n",
              "             num_parallel_tree=None, random_state=42, ...)</pre></div></div></div><div class=\"sk-serial\"><div class=\"sk-item\"><div class=\"sk-estimator sk-toggleable\"><input class=\"sk-toggleable__control sk-hidden--visually\" id=\"sk-estimator-id-4\" type=\"checkbox\" ><label for=\"sk-estimator-id-4\" class=\"sk-toggleable__label sk-toggleable__label-arrow\">XGBRegressor</label><div class=\"sk-toggleable__content\"><pre>XGBRegressor(base_score=None, booster=None, callbacks=None,\n",
              "             colsample_bylevel=None, colsample_bynode=None,\n",
              "             colsample_bytree=None, device=None, early_stopping_rounds=None,\n",
              "             enable_categorical=False, eval_metric=None, feature_types=None,\n",
              "             gamma=None, grow_policy=None, importance_type=None,\n",
              "             interaction_constraints=None, learning_rate=None, max_bin=None,\n",
              "             max_cat_threshold=None, max_cat_to_onehot=None,\n",
              "             max_delta_step=None, max_depth=None, max_leaves=None,\n",
              "             min_child_weight=None, missing=nan, monotone_constraints=None,\n",
              "             multi_strategy=None, n_estimators=None, n_jobs=None,\n",
              "             num_parallel_tree=None, random_state=42, ...)</pre></div></div></div></div></div></div></div></div></div></div>"
            ]
          },
          "metadata": {},
          "execution_count": 30
        }
      ]
    },
    {
      "cell_type": "markdown",
      "source": [
        "### 5.3.6: Cross Validation Results\n",
        "\n",
        "In the next cell, show the cross validation results from the grid search.\n",
        "\n",
        ">- Show the results as a DataFrame sorted by the highest ranking model"
      ],
      "metadata": {
        "id": "PGR0ZDmWemNe"
      }
    },
    {
      "cell_type": "code",
      "source": [
        "pd.DataFrame(grid.cv_results_).sort_values(by='rank_test_score').head(10)"
      ],
      "metadata": {
        "colab": {
          "base_uri": "https://localhost:8080/",
          "height": 903
        },
        "id": "_fDVmmQleDfO",
        "outputId": "f1ff77d1-65c5-4b46-83ff-813d740719d3"
      },
      "execution_count": null,
      "outputs": [
        {
          "output_type": "execute_result",
          "data": {
            "text/plain": [
              "    mean_fit_time  std_fit_time  mean_score_time  std_score_time  \\\n",
              "9            0.40          0.05             0.01            0.00   \n",
              "14           0.21          0.03             0.01            0.00   \n",
              "13           0.21          0.04             0.01            0.00   \n",
              "12           0.16          0.02             0.01            0.00   \n",
              "8            0.30          0.01             0.01            0.00   \n",
              "17           0.70          0.82             0.01            0.01   \n",
              "16           0.13          0.01             0.01            0.00   \n",
              "18           0.15          0.04             0.01            0.00   \n",
              "19           0.16          0.05             0.01            0.00   \n",
              "11           0.14          0.01             0.01            0.00   \n",
              "\n",
              "   param_learning_rate param_n_estimators  \\\n",
              "9                 0.10                200   \n",
              "14                0.20                200   \n",
              "13                0.20                100   \n",
              "12                0.20                 50   \n",
              "8                 0.10                100   \n",
              "17                0.30                 50   \n",
              "16                0.30                 40   \n",
              "18                0.30                100   \n",
              "19                0.30                200   \n",
              "11                0.20                 40   \n",
              "\n",
              "                                         params  split0_test_score  \\\n",
              "9   {'learning_rate': 0.1, 'n_estimators': 200}               0.65   \n",
              "14  {'learning_rate': 0.2, 'n_estimators': 200}               0.65   \n",
              "13  {'learning_rate': 0.2, 'n_estimators': 100}               0.65   \n",
              "12   {'learning_rate': 0.2, 'n_estimators': 50}               0.65   \n",
              "8   {'learning_rate': 0.1, 'n_estimators': 100}               0.64   \n",
              "17   {'learning_rate': 0.3, 'n_estimators': 50}               0.65   \n",
              "16   {'learning_rate': 0.3, 'n_estimators': 40}               0.65   \n",
              "18  {'learning_rate': 0.3, 'n_estimators': 100}               0.65   \n",
              "19  {'learning_rate': 0.3, 'n_estimators': 200}               0.65   \n",
              "11   {'learning_rate': 0.2, 'n_estimators': 40}               0.64   \n",
              "\n",
              "    split1_test_score  split2_test_score  split3_test_score  \\\n",
              "9                0.60               0.63               0.64   \n",
              "14               0.60               0.63               0.63   \n",
              "13               0.60               0.63               0.63   \n",
              "12               0.59               0.64               0.62   \n",
              "8                0.60               0.63               0.64   \n",
              "17               0.59               0.62               0.62   \n",
              "16               0.59               0.62               0.62   \n",
              "18               0.59               0.62               0.62   \n",
              "19               0.59               0.62               0.62   \n",
              "11               0.59               0.63               0.62   \n",
              "\n",
              "    split4_test_score  mean_test_score  std_test_score  rank_test_score  \n",
              "9                0.65             0.63            0.02                1  \n",
              "14               0.66             0.63            0.02                2  \n",
              "13               0.66             0.63            0.02                2  \n",
              "12               0.65             0.63            0.02                4  \n",
              "8                0.65             0.63            0.02                5  \n",
              "17               0.65             0.63            0.02                6  \n",
              "16               0.65             0.63            0.02                7  \n",
              "18               0.65             0.63            0.02                8  \n",
              "19               0.65             0.63            0.02                8  \n",
              "11               0.64             0.63            0.02               10  "
            ],
            "text/html": [
              "\n",
              "  <div id=\"df-e87d526c-dafe-4fc1-98a5-c7ac6c0f5fdb\" class=\"colab-df-container\">\n",
              "    <div>\n",
              "<style scoped>\n",
              "    .dataframe tbody tr th:only-of-type {\n",
              "        vertical-align: middle;\n",
              "    }\n",
              "\n",
              "    .dataframe tbody tr th {\n",
              "        vertical-align: top;\n",
              "    }\n",
              "\n",
              "    .dataframe thead th {\n",
              "        text-align: right;\n",
              "    }\n",
              "</style>\n",
              "<table border=\"1\" class=\"dataframe\">\n",
              "  <thead>\n",
              "    <tr style=\"text-align: right;\">\n",
              "      <th></th>\n",
              "      <th>mean_fit_time</th>\n",
              "      <th>std_fit_time</th>\n",
              "      <th>mean_score_time</th>\n",
              "      <th>std_score_time</th>\n",
              "      <th>param_learning_rate</th>\n",
              "      <th>param_n_estimators</th>\n",
              "      <th>params</th>\n",
              "      <th>split0_test_score</th>\n",
              "      <th>split1_test_score</th>\n",
              "      <th>split2_test_score</th>\n",
              "      <th>split3_test_score</th>\n",
              "      <th>split4_test_score</th>\n",
              "      <th>mean_test_score</th>\n",
              "      <th>std_test_score</th>\n",
              "      <th>rank_test_score</th>\n",
              "    </tr>\n",
              "  </thead>\n",
              "  <tbody>\n",
              "    <tr>\n",
              "      <th>9</th>\n",
              "      <td>0.40</td>\n",
              "      <td>0.05</td>\n",
              "      <td>0.01</td>\n",
              "      <td>0.00</td>\n",
              "      <td>0.10</td>\n",
              "      <td>200</td>\n",
              "      <td>{'learning_rate': 0.1, 'n_estimators': 200}</td>\n",
              "      <td>0.65</td>\n",
              "      <td>0.60</td>\n",
              "      <td>0.63</td>\n",
              "      <td>0.64</td>\n",
              "      <td>0.65</td>\n",
              "      <td>0.63</td>\n",
              "      <td>0.02</td>\n",
              "      <td>1</td>\n",
              "    </tr>\n",
              "    <tr>\n",
              "      <th>14</th>\n",
              "      <td>0.21</td>\n",
              "      <td>0.03</td>\n",
              "      <td>0.01</td>\n",
              "      <td>0.00</td>\n",
              "      <td>0.20</td>\n",
              "      <td>200</td>\n",
              "      <td>{'learning_rate': 0.2, 'n_estimators': 200}</td>\n",
              "      <td>0.65</td>\n",
              "      <td>0.60</td>\n",
              "      <td>0.63</td>\n",
              "      <td>0.63</td>\n",
              "      <td>0.66</td>\n",
              "      <td>0.63</td>\n",
              "      <td>0.02</td>\n",
              "      <td>2</td>\n",
              "    </tr>\n",
              "    <tr>\n",
              "      <th>13</th>\n",
              "      <td>0.21</td>\n",
              "      <td>0.04</td>\n",
              "      <td>0.01</td>\n",
              "      <td>0.00</td>\n",
              "      <td>0.20</td>\n",
              "      <td>100</td>\n",
              "      <td>{'learning_rate': 0.2, 'n_estimators': 100}</td>\n",
              "      <td>0.65</td>\n",
              "      <td>0.60</td>\n",
              "      <td>0.63</td>\n",
              "      <td>0.63</td>\n",
              "      <td>0.66</td>\n",
              "      <td>0.63</td>\n",
              "      <td>0.02</td>\n",
              "      <td>2</td>\n",
              "    </tr>\n",
              "    <tr>\n",
              "      <th>12</th>\n",
              "      <td>0.16</td>\n",
              "      <td>0.02</td>\n",
              "      <td>0.01</td>\n",
              "      <td>0.00</td>\n",
              "      <td>0.20</td>\n",
              "      <td>50</td>\n",
              "      <td>{'learning_rate': 0.2, 'n_estimators': 50}</td>\n",
              "      <td>0.65</td>\n",
              "      <td>0.59</td>\n",
              "      <td>0.64</td>\n",
              "      <td>0.62</td>\n",
              "      <td>0.65</td>\n",
              "      <td>0.63</td>\n",
              "      <td>0.02</td>\n",
              "      <td>4</td>\n",
              "    </tr>\n",
              "    <tr>\n",
              "      <th>8</th>\n",
              "      <td>0.30</td>\n",
              "      <td>0.01</td>\n",
              "      <td>0.01</td>\n",
              "      <td>0.00</td>\n",
              "      <td>0.10</td>\n",
              "      <td>100</td>\n",
              "      <td>{'learning_rate': 0.1, 'n_estimators': 100}</td>\n",
              "      <td>0.64</td>\n",
              "      <td>0.60</td>\n",
              "      <td>0.63</td>\n",
              "      <td>0.64</td>\n",
              "      <td>0.65</td>\n",
              "      <td>0.63</td>\n",
              "      <td>0.02</td>\n",
              "      <td>5</td>\n",
              "    </tr>\n",
              "    <tr>\n",
              "      <th>17</th>\n",
              "      <td>0.70</td>\n",
              "      <td>0.82</td>\n",
              "      <td>0.01</td>\n",
              "      <td>0.01</td>\n",
              "      <td>0.30</td>\n",
              "      <td>50</td>\n",
              "      <td>{'learning_rate': 0.3, 'n_estimators': 50}</td>\n",
              "      <td>0.65</td>\n",
              "      <td>0.59</td>\n",
              "      <td>0.62</td>\n",
              "      <td>0.62</td>\n",
              "      <td>0.65</td>\n",
              "      <td>0.63</td>\n",
              "      <td>0.02</td>\n",
              "      <td>6</td>\n",
              "    </tr>\n",
              "    <tr>\n",
              "      <th>16</th>\n",
              "      <td>0.13</td>\n",
              "      <td>0.01</td>\n",
              "      <td>0.01</td>\n",
              "      <td>0.00</td>\n",
              "      <td>0.30</td>\n",
              "      <td>40</td>\n",
              "      <td>{'learning_rate': 0.3, 'n_estimators': 40}</td>\n",
              "      <td>0.65</td>\n",
              "      <td>0.59</td>\n",
              "      <td>0.62</td>\n",
              "      <td>0.62</td>\n",
              "      <td>0.65</td>\n",
              "      <td>0.63</td>\n",
              "      <td>0.02</td>\n",
              "      <td>7</td>\n",
              "    </tr>\n",
              "    <tr>\n",
              "      <th>18</th>\n",
              "      <td>0.15</td>\n",
              "      <td>0.04</td>\n",
              "      <td>0.01</td>\n",
              "      <td>0.00</td>\n",
              "      <td>0.30</td>\n",
              "      <td>100</td>\n",
              "      <td>{'learning_rate': 0.3, 'n_estimators': 100}</td>\n",
              "      <td>0.65</td>\n",
              "      <td>0.59</td>\n",
              "      <td>0.62</td>\n",
              "      <td>0.62</td>\n",
              "      <td>0.65</td>\n",
              "      <td>0.63</td>\n",
              "      <td>0.02</td>\n",
              "      <td>8</td>\n",
              "    </tr>\n",
              "    <tr>\n",
              "      <th>19</th>\n",
              "      <td>0.16</td>\n",
              "      <td>0.05</td>\n",
              "      <td>0.01</td>\n",
              "      <td>0.00</td>\n",
              "      <td>0.30</td>\n",
              "      <td>200</td>\n",
              "      <td>{'learning_rate': 0.3, 'n_estimators': 200}</td>\n",
              "      <td>0.65</td>\n",
              "      <td>0.59</td>\n",
              "      <td>0.62</td>\n",
              "      <td>0.62</td>\n",
              "      <td>0.65</td>\n",
              "      <td>0.63</td>\n",
              "      <td>0.02</td>\n",
              "      <td>8</td>\n",
              "    </tr>\n",
              "    <tr>\n",
              "      <th>11</th>\n",
              "      <td>0.14</td>\n",
              "      <td>0.01</td>\n",
              "      <td>0.01</td>\n",
              "      <td>0.00</td>\n",
              "      <td>0.20</td>\n",
              "      <td>40</td>\n",
              "      <td>{'learning_rate': 0.2, 'n_estimators': 40}</td>\n",
              "      <td>0.64</td>\n",
              "      <td>0.59</td>\n",
              "      <td>0.63</td>\n",
              "      <td>0.62</td>\n",
              "      <td>0.64</td>\n",
              "      <td>0.63</td>\n",
              "      <td>0.02</td>\n",
              "      <td>10</td>\n",
              "    </tr>\n",
              "  </tbody>\n",
              "</table>\n",
              "</div>\n",
              "    <div class=\"colab-df-buttons\">\n",
              "\n",
              "  <div class=\"colab-df-container\">\n",
              "    <button class=\"colab-df-convert\" onclick=\"convertToInteractive('df-e87d526c-dafe-4fc1-98a5-c7ac6c0f5fdb')\"\n",
              "            title=\"Convert this dataframe to an interactive table.\"\n",
              "            style=\"display:none;\">\n",
              "\n",
              "  <svg xmlns=\"http://www.w3.org/2000/svg\" height=\"24px\" viewBox=\"0 -960 960 960\">\n",
              "    <path d=\"M120-120v-720h720v720H120Zm60-500h600v-160H180v160Zm220 220h160v-160H400v160Zm0 220h160v-160H400v160ZM180-400h160v-160H180v160Zm440 0h160v-160H620v160ZM180-180h160v-160H180v160Zm440 0h160v-160H620v160Z\"/>\n",
              "  </svg>\n",
              "    </button>\n",
              "\n",
              "  <style>\n",
              "    .colab-df-container {\n",
              "      display:flex;\n",
              "      gap: 12px;\n",
              "    }\n",
              "\n",
              "    .colab-df-convert {\n",
              "      background-color: #E8F0FE;\n",
              "      border: none;\n",
              "      border-radius: 50%;\n",
              "      cursor: pointer;\n",
              "      display: none;\n",
              "      fill: #1967D2;\n",
              "      height: 32px;\n",
              "      padding: 0 0 0 0;\n",
              "      width: 32px;\n",
              "    }\n",
              "\n",
              "    .colab-df-convert:hover {\n",
              "      background-color: #E2EBFA;\n",
              "      box-shadow: 0px 1px 2px rgba(60, 64, 67, 0.3), 0px 1px 3px 1px rgba(60, 64, 67, 0.15);\n",
              "      fill: #174EA6;\n",
              "    }\n",
              "\n",
              "    .colab-df-buttons div {\n",
              "      margin-bottom: 4px;\n",
              "    }\n",
              "\n",
              "    [theme=dark] .colab-df-convert {\n",
              "      background-color: #3B4455;\n",
              "      fill: #D2E3FC;\n",
              "    }\n",
              "\n",
              "    [theme=dark] .colab-df-convert:hover {\n",
              "      background-color: #434B5C;\n",
              "      box-shadow: 0px 1px 3px 1px rgba(0, 0, 0, 0.15);\n",
              "      filter: drop-shadow(0px 1px 2px rgba(0, 0, 0, 0.3));\n",
              "      fill: #FFFFFF;\n",
              "    }\n",
              "  </style>\n",
              "\n",
              "    <script>\n",
              "      const buttonEl =\n",
              "        document.querySelector('#df-e87d526c-dafe-4fc1-98a5-c7ac6c0f5fdb button.colab-df-convert');\n",
              "      buttonEl.style.display =\n",
              "        google.colab.kernel.accessAllowed ? 'block' : 'none';\n",
              "\n",
              "      async function convertToInteractive(key) {\n",
              "        const element = document.querySelector('#df-e87d526c-dafe-4fc1-98a5-c7ac6c0f5fdb');\n",
              "        const dataTable =\n",
              "          await google.colab.kernel.invokeFunction('convertToInteractive',\n",
              "                                                    [key], {});\n",
              "        if (!dataTable) return;\n",
              "\n",
              "        const docLinkHtml = 'Like what you see? Visit the ' +\n",
              "          '<a target=\"_blank\" href=https://colab.research.google.com/notebooks/data_table.ipynb>data table notebook</a>'\n",
              "          + ' to learn more about interactive tables.';\n",
              "        element.innerHTML = '';\n",
              "        dataTable['output_type'] = 'display_data';\n",
              "        await google.colab.output.renderOutput(dataTable, element);\n",
              "        const docLink = document.createElement('div');\n",
              "        docLink.innerHTML = docLinkHtml;\n",
              "        element.appendChild(docLink);\n",
              "      }\n",
              "    </script>\n",
              "  </div>\n",
              "\n",
              "\n",
              "<div id=\"df-ef545120-9670-4b24-b1d1-8c5fc860e3ea\">\n",
              "  <button class=\"colab-df-quickchart\" onclick=\"quickchart('df-ef545120-9670-4b24-b1d1-8c5fc860e3ea')\"\n",
              "            title=\"Suggest charts\"\n",
              "            style=\"display:none;\">\n",
              "\n",
              "<svg xmlns=\"http://www.w3.org/2000/svg\" height=\"24px\"viewBox=\"0 0 24 24\"\n",
              "     width=\"24px\">\n",
              "    <g>\n",
              "        <path d=\"M19 3H5c-1.1 0-2 .9-2 2v14c0 1.1.9 2 2 2h14c1.1 0 2-.9 2-2V5c0-1.1-.9-2-2-2zM9 17H7v-7h2v7zm4 0h-2V7h2v10zm4 0h-2v-4h2v4z\"/>\n",
              "    </g>\n",
              "</svg>\n",
              "  </button>\n",
              "\n",
              "<style>\n",
              "  .colab-df-quickchart {\n",
              "      --bg-color: #E8F0FE;\n",
              "      --fill-color: #1967D2;\n",
              "      --hover-bg-color: #E2EBFA;\n",
              "      --hover-fill-color: #174EA6;\n",
              "      --disabled-fill-color: #AAA;\n",
              "      --disabled-bg-color: #DDD;\n",
              "  }\n",
              "\n",
              "  [theme=dark] .colab-df-quickchart {\n",
              "      --bg-color: #3B4455;\n",
              "      --fill-color: #D2E3FC;\n",
              "      --hover-bg-color: #434B5C;\n",
              "      --hover-fill-color: #FFFFFF;\n",
              "      --disabled-bg-color: #3B4455;\n",
              "      --disabled-fill-color: #666;\n",
              "  }\n",
              "\n",
              "  .colab-df-quickchart {\n",
              "    background-color: var(--bg-color);\n",
              "    border: none;\n",
              "    border-radius: 50%;\n",
              "    cursor: pointer;\n",
              "    display: none;\n",
              "    fill: var(--fill-color);\n",
              "    height: 32px;\n",
              "    padding: 0;\n",
              "    width: 32px;\n",
              "  }\n",
              "\n",
              "  .colab-df-quickchart:hover {\n",
              "    background-color: var(--hover-bg-color);\n",
              "    box-shadow: 0 1px 2px rgba(60, 64, 67, 0.3), 0 1px 3px 1px rgba(60, 64, 67, 0.15);\n",
              "    fill: var(--button-hover-fill-color);\n",
              "  }\n",
              "\n",
              "  .colab-df-quickchart-complete:disabled,\n",
              "  .colab-df-quickchart-complete:disabled:hover {\n",
              "    background-color: var(--disabled-bg-color);\n",
              "    fill: var(--disabled-fill-color);\n",
              "    box-shadow: none;\n",
              "  }\n",
              "\n",
              "  .colab-df-spinner {\n",
              "    border: 2px solid var(--fill-color);\n",
              "    border-color: transparent;\n",
              "    border-bottom-color: var(--fill-color);\n",
              "    animation:\n",
              "      spin 1s steps(1) infinite;\n",
              "  }\n",
              "\n",
              "  @keyframes spin {\n",
              "    0% {\n",
              "      border-color: transparent;\n",
              "      border-bottom-color: var(--fill-color);\n",
              "      border-left-color: var(--fill-color);\n",
              "    }\n",
              "    20% {\n",
              "      border-color: transparent;\n",
              "      border-left-color: var(--fill-color);\n",
              "      border-top-color: var(--fill-color);\n",
              "    }\n",
              "    30% {\n",
              "      border-color: transparent;\n",
              "      border-left-color: var(--fill-color);\n",
              "      border-top-color: var(--fill-color);\n",
              "      border-right-color: var(--fill-color);\n",
              "    }\n",
              "    40% {\n",
              "      border-color: transparent;\n",
              "      border-right-color: var(--fill-color);\n",
              "      border-top-color: var(--fill-color);\n",
              "    }\n",
              "    60% {\n",
              "      border-color: transparent;\n",
              "      border-right-color: var(--fill-color);\n",
              "    }\n",
              "    80% {\n",
              "      border-color: transparent;\n",
              "      border-right-color: var(--fill-color);\n",
              "      border-bottom-color: var(--fill-color);\n",
              "    }\n",
              "    90% {\n",
              "      border-color: transparent;\n",
              "      border-bottom-color: var(--fill-color);\n",
              "    }\n",
              "  }\n",
              "</style>\n",
              "\n",
              "  <script>\n",
              "    async function quickchart(key) {\n",
              "      const quickchartButtonEl =\n",
              "        document.querySelector('#' + key + ' button');\n",
              "      quickchartButtonEl.disabled = true;  // To prevent multiple clicks.\n",
              "      quickchartButtonEl.classList.add('colab-df-spinner');\n",
              "      try {\n",
              "        const charts = await google.colab.kernel.invokeFunction(\n",
              "            'suggestCharts', [key], {});\n",
              "      } catch (error) {\n",
              "        console.error('Error during call to suggestCharts:', error);\n",
              "      }\n",
              "      quickchartButtonEl.classList.remove('colab-df-spinner');\n",
              "      quickchartButtonEl.classList.add('colab-df-quickchart-complete');\n",
              "    }\n",
              "    (() => {\n",
              "      let quickchartButtonEl =\n",
              "        document.querySelector('#df-ef545120-9670-4b24-b1d1-8c5fc860e3ea button');\n",
              "      quickchartButtonEl.style.display =\n",
              "        google.colab.kernel.accessAllowed ? 'block' : 'none';\n",
              "    })();\n",
              "  </script>\n",
              "</div>\n",
              "    </div>\n",
              "  </div>\n"
            ],
            "application/vnd.google.colaboratory.intrinsic+json": {
              "type": "dataframe",
              "repr_error": "0"
            }
          },
          "metadata": {},
          "execution_count": 31
        }
      ]
    },
    {
      "cell_type": "markdown",
      "source": [
        "### 5.6.7: Best Values for Hyperparameters\n",
        "\n",
        "In the next cell, show the best parameters based on the grid search."
      ],
      "metadata": {
        "id": "ljiPnPFBdj00"
      }
    },
    {
      "cell_type": "code",
      "source": [
        "grid.best_params_"
      ],
      "metadata": {
        "colab": {
          "base_uri": "https://localhost:8080/"
        },
        "id": "9ZuZu3NNcRKo",
        "outputId": "a87aba4f-bb79-4600-d73d-4ed0c3ef1c96"
      },
      "execution_count": null,
      "outputs": [
        {
          "output_type": "execute_result",
          "data": {
            "text/plain": [
              "{'learning_rate': 0.1, 'n_estimators': 200}"
            ]
          },
          "metadata": {},
          "execution_count": 32
        }
      ]
    },
    {
      "cell_type": "markdown",
      "source": [
        "### 5.6.8: Best Model\n",
        "\n",
        "In the next cell:\n",
        ">- Define the best grid model as `best_model`\n",
        ">- Show the score of the `best_model` rounded to two decimals\n"
      ],
      "metadata": {
        "id": "PIB8qgsXfBMf"
      }
    },
    {
      "cell_type": "code",
      "source": [
        "best_model = grid.best_estimator_\n",
        "\n",
        "print(best_model)\n",
        "\n",
        "print(f\"R2 of Best Model: {round(best_model.score(X_test, y_test),2)}\")"
      ],
      "metadata": {
        "colab": {
          "base_uri": "https://localhost:8080/"
        },
        "id": "DdkgvlgyfMnb",
        "outputId": "e53081dd-452e-403a-b669-e48250a4f54b"
      },
      "execution_count": null,
      "outputs": [
        {
          "output_type": "stream",
          "name": "stdout",
          "text": [
            "XGBRegressor(base_score=None, booster=None, callbacks=None,\n",
            "             colsample_bylevel=None, colsample_bynode=None,\n",
            "             colsample_bytree=None, device=None, early_stopping_rounds=None,\n",
            "             enable_categorical=False, eval_metric=None, feature_types=None,\n",
            "             gamma=None, grow_policy=None, importance_type=None,\n",
            "             interaction_constraints=None, learning_rate=0.1, max_bin=None,\n",
            "             max_cat_threshold=None, max_cat_to_onehot=None,\n",
            "             max_delta_step=None, max_depth=None, max_leaves=None,\n",
            "             min_child_weight=None, missing=nan, monotone_constraints=None,\n",
            "             multi_strategy=None, n_estimators=200, n_jobs=None,\n",
            "             num_parallel_tree=None, random_state=42, ...)\n",
            "R2 of Best Model: 0.67\n"
          ]
        }
      ]
    },
    {
      "cell_type": "markdown",
      "source": [
        "### 5.6.9: Best Model Evaluation Metrics\n",
        "\n",
        "In the next cell, call the `reg_metrics()` function defined in section 4.2 to show the evaluation metrics for the `best_model`."
      ],
      "metadata": {
        "id": "1B3KwWWufYKf"
      }
    },
    {
      "cell_type": "code",
      "source": [
        "# first need to make predictions\n",
        "grid_preds = grid.predict(X_test)\n",
        "\n",
        "# now call the function\n",
        "\n",
        "reg_metrics(y_test, grid_preds)"
      ],
      "metadata": {
        "colab": {
          "base_uri": "https://localhost:8080/"
        },
        "id": "v45Is4xVcc_7",
        "outputId": "e6912409-fc40-488a-a207-bc2716d77b19"
      },
      "execution_count": null,
      "outputs": [
        {
          "output_type": "stream",
          "name": "stdout",
          "text": [
            "Model regression metrics:\n",
            "MAE: 240049.71\n",
            "MSE: 139745587388.09\n",
            "RMSE: 373825.61\n",
            "MAPE: 0.23\n"
          ]
        }
      ]
    },
    {
      "cell_type": "markdown",
      "source": [
        "How does this compare to our first default model?"
      ],
      "metadata": {
        "id": "GEdBiiUUst2Y"
      }
    },
    {
      "cell_type": "code",
      "source": [
        "reg_metrics(y_test, xgb_preds)"
      ],
      "metadata": {
        "colab": {
          "base_uri": "https://localhost:8080/"
        },
        "id": "6cvhaxb3sPVP",
        "outputId": "3f5aceaa-10f1-497a-a8d7-17861b8cc380"
      },
      "execution_count": null,
      "outputs": [
        {
          "output_type": "stream",
          "name": "stdout",
          "text": [
            "Model regression metrics:\n",
            "MAE: 239283.34\n",
            "MSE: 139003972600.01\n",
            "RMSE: 372832.37\n",
            "MAPE: 0.23\n"
          ]
        }
      ]
    },
    {
      "cell_type": "markdown",
      "source": [
        "How does this compare to our first default model?\n",
        ">- *Solution Notes*: It looks like our model using the grid search is worse but remember that our first model could have been \"lucky\" because we did not perform cross validation when building that model"
      ],
      "metadata": {
        "id": "LS3PKneXtHHi"
      }
    },
    {
      "cell_type": "markdown",
      "source": [
        "# Section 6: Final Model\n",
        "\n",
        "After performing a grid search and being satisfied with the model performance, we can now build our final model."
      ],
      "metadata": {
        "id": "mnTepytvjaXI"
      }
    },
    {
      "cell_type": "markdown",
      "source": [
        "## 6.1: Instantiate Final Model\n",
        "\n",
        "In the next cell, define a final random forest classifier based on the results of the best model from the grid search."
      ],
      "metadata": {
        "id": "a_BPSgc7jpF4"
      }
    },
    {
      "cell_type": "code",
      "source": [
        "xgb_final = XGBRegressor(n_estimators = 200, learning_rate = .1)"
      ],
      "metadata": {
        "id": "IBUF6YmmkEJ6"
      },
      "execution_count": null,
      "outputs": []
    },
    {
      "cell_type": "markdown",
      "source": [
        "## 6.2: Fit final model\n",
        "\n",
        "In the next cell, fit the final model using all our available data."
      ],
      "metadata": {
        "id": "0IqaZNu4oUZX"
      }
    },
    {
      "cell_type": "code",
      "source": [
        "xgb_final.fit(X, y)"
      ],
      "metadata": {
        "colab": {
          "base_uri": "https://localhost:8080/",
          "height": 248
        },
        "id": "jN0tt9_NkYSF",
        "outputId": "24ffef37-8065-433a-ca89-220ca8eac62a"
      },
      "execution_count": null,
      "outputs": [
        {
          "output_type": "execute_result",
          "data": {
            "text/plain": [
              "XGBRegressor(base_score=None, booster=None, callbacks=None,\n",
              "             colsample_bylevel=None, colsample_bynode=None,\n",
              "             colsample_bytree=None, device=None, early_stopping_rounds=None,\n",
              "             enable_categorical=False, eval_metric=None, feature_types=None,\n",
              "             gamma=None, grow_policy=None, importance_type=None,\n",
              "             interaction_constraints=None, learning_rate=0.1, max_bin=None,\n",
              "             max_cat_threshold=None, max_cat_to_onehot=None,\n",
              "             max_delta_step=None, max_depth=None, max_leaves=None,\n",
              "             min_child_weight=None, missing=nan, monotone_constraints=None,\n",
              "             multi_strategy=None, n_estimators=200, n_jobs=None,\n",
              "             num_parallel_tree=None, random_state=None, ...)"
            ],
            "text/html": [
              "<style>#sk-container-id-3 {color: black;background-color: white;}#sk-container-id-3 pre{padding: 0;}#sk-container-id-3 div.sk-toggleable {background-color: white;}#sk-container-id-3 label.sk-toggleable__label {cursor: pointer;display: block;width: 100%;margin-bottom: 0;padding: 0.3em;box-sizing: border-box;text-align: center;}#sk-container-id-3 label.sk-toggleable__label-arrow:before {content: \"▸\";float: left;margin-right: 0.25em;color: #696969;}#sk-container-id-3 label.sk-toggleable__label-arrow:hover:before {color: black;}#sk-container-id-3 div.sk-estimator:hover label.sk-toggleable__label-arrow:before {color: black;}#sk-container-id-3 div.sk-toggleable__content {max-height: 0;max-width: 0;overflow: hidden;text-align: left;background-color: #f0f8ff;}#sk-container-id-3 div.sk-toggleable__content pre {margin: 0.2em;color: black;border-radius: 0.25em;background-color: #f0f8ff;}#sk-container-id-3 input.sk-toggleable__control:checked~div.sk-toggleable__content {max-height: 200px;max-width: 100%;overflow: auto;}#sk-container-id-3 input.sk-toggleable__control:checked~label.sk-toggleable__label-arrow:before {content: \"▾\";}#sk-container-id-3 div.sk-estimator input.sk-toggleable__control:checked~label.sk-toggleable__label {background-color: #d4ebff;}#sk-container-id-3 div.sk-label input.sk-toggleable__control:checked~label.sk-toggleable__label {background-color: #d4ebff;}#sk-container-id-3 input.sk-hidden--visually {border: 0;clip: rect(1px 1px 1px 1px);clip: rect(1px, 1px, 1px, 1px);height: 1px;margin: -1px;overflow: hidden;padding: 0;position: absolute;width: 1px;}#sk-container-id-3 div.sk-estimator {font-family: monospace;background-color: #f0f8ff;border: 1px dotted black;border-radius: 0.25em;box-sizing: border-box;margin-bottom: 0.5em;}#sk-container-id-3 div.sk-estimator:hover {background-color: #d4ebff;}#sk-container-id-3 div.sk-parallel-item::after {content: \"\";width: 100%;border-bottom: 1px solid gray;flex-grow: 1;}#sk-container-id-3 div.sk-label:hover label.sk-toggleable__label {background-color: #d4ebff;}#sk-container-id-3 div.sk-serial::before {content: \"\";position: absolute;border-left: 1px solid gray;box-sizing: border-box;top: 0;bottom: 0;left: 50%;z-index: 0;}#sk-container-id-3 div.sk-serial {display: flex;flex-direction: column;align-items: center;background-color: white;padding-right: 0.2em;padding-left: 0.2em;position: relative;}#sk-container-id-3 div.sk-item {position: relative;z-index: 1;}#sk-container-id-3 div.sk-parallel {display: flex;align-items: stretch;justify-content: center;background-color: white;position: relative;}#sk-container-id-3 div.sk-item::before, #sk-container-id-3 div.sk-parallel-item::before {content: \"\";position: absolute;border-left: 1px solid gray;box-sizing: border-box;top: 0;bottom: 0;left: 50%;z-index: -1;}#sk-container-id-3 div.sk-parallel-item {display: flex;flex-direction: column;z-index: 1;position: relative;background-color: white;}#sk-container-id-3 div.sk-parallel-item:first-child::after {align-self: flex-end;width: 50%;}#sk-container-id-3 div.sk-parallel-item:last-child::after {align-self: flex-start;width: 50%;}#sk-container-id-3 div.sk-parallel-item:only-child::after {width: 0;}#sk-container-id-3 div.sk-dashed-wrapped {border: 1px dashed gray;margin: 0 0.4em 0.5em 0.4em;box-sizing: border-box;padding-bottom: 0.4em;background-color: white;}#sk-container-id-3 div.sk-label label {font-family: monospace;font-weight: bold;display: inline-block;line-height: 1.2em;}#sk-container-id-3 div.sk-label-container {text-align: center;}#sk-container-id-3 div.sk-container {/* jupyter's `normalize.less` sets `[hidden] { display: none; }` but bootstrap.min.css set `[hidden] { display: none !important; }` so we also need the `!important` here to be able to override the default hidden behavior on the sphinx rendered scikit-learn.org. See: https://github.com/scikit-learn/scikit-learn/issues/21755 */display: inline-block !important;position: relative;}#sk-container-id-3 div.sk-text-repr-fallback {display: none;}</style><div id=\"sk-container-id-3\" class=\"sk-top-container\"><div class=\"sk-text-repr-fallback\"><pre>XGBRegressor(base_score=None, booster=None, callbacks=None,\n",
              "             colsample_bylevel=None, colsample_bynode=None,\n",
              "             colsample_bytree=None, device=None, early_stopping_rounds=None,\n",
              "             enable_categorical=False, eval_metric=None, feature_types=None,\n",
              "             gamma=None, grow_policy=None, importance_type=None,\n",
              "             interaction_constraints=None, learning_rate=0.1, max_bin=None,\n",
              "             max_cat_threshold=None, max_cat_to_onehot=None,\n",
              "             max_delta_step=None, max_depth=None, max_leaves=None,\n",
              "             min_child_weight=None, missing=nan, monotone_constraints=None,\n",
              "             multi_strategy=None, n_estimators=200, n_jobs=None,\n",
              "             num_parallel_tree=None, random_state=None, ...)</pre><b>In a Jupyter environment, please rerun this cell to show the HTML representation or trust the notebook. <br />On GitHub, the HTML representation is unable to render, please try loading this page with nbviewer.org.</b></div><div class=\"sk-container\" hidden><div class=\"sk-item\"><div class=\"sk-estimator sk-toggleable\"><input class=\"sk-toggleable__control sk-hidden--visually\" id=\"sk-estimator-id-5\" type=\"checkbox\" checked><label for=\"sk-estimator-id-5\" class=\"sk-toggleable__label sk-toggleable__label-arrow\">XGBRegressor</label><div class=\"sk-toggleable__content\"><pre>XGBRegressor(base_score=None, booster=None, callbacks=None,\n",
              "             colsample_bylevel=None, colsample_bynode=None,\n",
              "             colsample_bytree=None, device=None, early_stopping_rounds=None,\n",
              "             enable_categorical=False, eval_metric=None, feature_types=None,\n",
              "             gamma=None, grow_policy=None, importance_type=None,\n",
              "             interaction_constraints=None, learning_rate=0.1, max_bin=None,\n",
              "             max_cat_threshold=None, max_cat_to_onehot=None,\n",
              "             max_delta_step=None, max_depth=None, max_leaves=None,\n",
              "             min_child_weight=None, missing=nan, monotone_constraints=None,\n",
              "             multi_strategy=None, n_estimators=200, n_jobs=None,\n",
              "             num_parallel_tree=None, random_state=None, ...)</pre></div></div></div></div></div>"
            ]
          },
          "metadata": {},
          "execution_count": 38
        }
      ]
    },
    {
      "cell_type": "markdown",
      "source": [
        "## 6.3: Deploy Model\n",
        "\n",
        "You scored a fancy new job at a prominent real estate company. They need some help with their new app and a feature that shows their clients predicted home prices based on the features you tested and built your model on.\n",
        "\n",
        "In the next cell, deploy your model on the first 100 homes your new boss wants you to evaluate.\n",
        "\n",
        ">- Here are the new homes to predict sales values for: [melb_deploy.csv](https://drive.google.com/file/d/1-G7OYokw7-EVSz4vTPsBNx1UkZoT6JlB/view?usp=sharing)\n",
        ">- Use your final `XGBoost` model to predict the sales prices\n",
        ">- When reading in the deployment data, make sure to set the index column to the first column (`index_col = 0`)"
      ],
      "metadata": {
        "id": "we54TnRBpcXS"
      }
    },
    {
      "cell_type": "code",
      "source": [
        "melb_deploy = pd.read_csv('melb_deploy.csv', index_col = 0)"
      ],
      "metadata": {
        "id": "uWlxnCDZqc2i"
      },
      "execution_count": null,
      "outputs": []
    },
    {
      "cell_type": "code",
      "source": [
        "# Now predict the new case species\n",
        "\n",
        "home_preds = xgb_final.predict(melb_deploy)\n",
        "\n",
        "# add to deployment dataframe and view\n",
        "\n",
        "melb_deploy['Price_Prediction'] = home_preds\n",
        "\n",
        "melb_deploy"
      ],
      "metadata": {
        "colab": {
          "base_uri": "https://localhost:8080/",
          "height": 423
        },
        "id": "P40MeIA8r8Oh",
        "outputId": "61c50bad-4a54-4832-a329-694a745dd7a2"
      },
      "execution_count": null,
      "outputs": [
        {
          "output_type": "execute_result",
          "data": {
            "text/plain": [
              "       Rooms  Distance  Landsize  BuildingArea  YearBuilt  Price_Prediction\n",
              "1061       3     11.20    588.00           NaN        NaN        1035718.38\n",
              "6482       2      1.90      0.00         83.00    2002.00         661156.75\n",
              "8395       3      6.10      0.00        115.00    1930.00        1027938.69\n",
              "4659       3      9.90    146.00        106.00    2006.00         590551.00\n",
              "7386       2      9.10    462.00           NaN    1970.00         773124.25\n",
              "...      ...       ...       ...           ...        ...               ...\n",
              "592        4      9.20    642.00        215.00    1955.00        1722856.38\n",
              "2444       2      8.00      0.00           NaN        NaN         562227.50\n",
              "6958       5      7.50    431.00        203.00    1920.00        1642080.75\n",
              "10963      5     11.70    627.00           NaN    2000.00        1750462.00\n",
              "1368       3      5.20    343.00       1041.00    1925.00        1783729.88\n",
              "\n",
              "[100 rows x 6 columns]"
            ],
            "text/html": [
              "\n",
              "  <div id=\"df-c329cb07-7200-4ce7-8540-edce7c35abac\" class=\"colab-df-container\">\n",
              "    <div>\n",
              "<style scoped>\n",
              "    .dataframe tbody tr th:only-of-type {\n",
              "        vertical-align: middle;\n",
              "    }\n",
              "\n",
              "    .dataframe tbody tr th {\n",
              "        vertical-align: top;\n",
              "    }\n",
              "\n",
              "    .dataframe thead th {\n",
              "        text-align: right;\n",
              "    }\n",
              "</style>\n",
              "<table border=\"1\" class=\"dataframe\">\n",
              "  <thead>\n",
              "    <tr style=\"text-align: right;\">\n",
              "      <th></th>\n",
              "      <th>Rooms</th>\n",
              "      <th>Distance</th>\n",
              "      <th>Landsize</th>\n",
              "      <th>BuildingArea</th>\n",
              "      <th>YearBuilt</th>\n",
              "      <th>Price_Prediction</th>\n",
              "    </tr>\n",
              "  </thead>\n",
              "  <tbody>\n",
              "    <tr>\n",
              "      <th>1061</th>\n",
              "      <td>3</td>\n",
              "      <td>11.20</td>\n",
              "      <td>588.00</td>\n",
              "      <td>NaN</td>\n",
              "      <td>NaN</td>\n",
              "      <td>1035718.38</td>\n",
              "    </tr>\n",
              "    <tr>\n",
              "      <th>6482</th>\n",
              "      <td>2</td>\n",
              "      <td>1.90</td>\n",
              "      <td>0.00</td>\n",
              "      <td>83.00</td>\n",
              "      <td>2002.00</td>\n",
              "      <td>661156.75</td>\n",
              "    </tr>\n",
              "    <tr>\n",
              "      <th>8395</th>\n",
              "      <td>3</td>\n",
              "      <td>6.10</td>\n",
              "      <td>0.00</td>\n",
              "      <td>115.00</td>\n",
              "      <td>1930.00</td>\n",
              "      <td>1027938.69</td>\n",
              "    </tr>\n",
              "    <tr>\n",
              "      <th>4659</th>\n",
              "      <td>3</td>\n",
              "      <td>9.90</td>\n",
              "      <td>146.00</td>\n",
              "      <td>106.00</td>\n",
              "      <td>2006.00</td>\n",
              "      <td>590551.00</td>\n",
              "    </tr>\n",
              "    <tr>\n",
              "      <th>7386</th>\n",
              "      <td>2</td>\n",
              "      <td>9.10</td>\n",
              "      <td>462.00</td>\n",
              "      <td>NaN</td>\n",
              "      <td>1970.00</td>\n",
              "      <td>773124.25</td>\n",
              "    </tr>\n",
              "    <tr>\n",
              "      <th>...</th>\n",
              "      <td>...</td>\n",
              "      <td>...</td>\n",
              "      <td>...</td>\n",
              "      <td>...</td>\n",
              "      <td>...</td>\n",
              "      <td>...</td>\n",
              "    </tr>\n",
              "    <tr>\n",
              "      <th>592</th>\n",
              "      <td>4</td>\n",
              "      <td>9.20</td>\n",
              "      <td>642.00</td>\n",
              "      <td>215.00</td>\n",
              "      <td>1955.00</td>\n",
              "      <td>1722856.38</td>\n",
              "    </tr>\n",
              "    <tr>\n",
              "      <th>2444</th>\n",
              "      <td>2</td>\n",
              "      <td>8.00</td>\n",
              "      <td>0.00</td>\n",
              "      <td>NaN</td>\n",
              "      <td>NaN</td>\n",
              "      <td>562227.50</td>\n",
              "    </tr>\n",
              "    <tr>\n",
              "      <th>6958</th>\n",
              "      <td>5</td>\n",
              "      <td>7.50</td>\n",
              "      <td>431.00</td>\n",
              "      <td>203.00</td>\n",
              "      <td>1920.00</td>\n",
              "      <td>1642080.75</td>\n",
              "    </tr>\n",
              "    <tr>\n",
              "      <th>10963</th>\n",
              "      <td>5</td>\n",
              "      <td>11.70</td>\n",
              "      <td>627.00</td>\n",
              "      <td>NaN</td>\n",
              "      <td>2000.00</td>\n",
              "      <td>1750462.00</td>\n",
              "    </tr>\n",
              "    <tr>\n",
              "      <th>1368</th>\n",
              "      <td>3</td>\n",
              "      <td>5.20</td>\n",
              "      <td>343.00</td>\n",
              "      <td>1041.00</td>\n",
              "      <td>1925.00</td>\n",
              "      <td>1783729.88</td>\n",
              "    </tr>\n",
              "  </tbody>\n",
              "</table>\n",
              "<p>100 rows × 6 columns</p>\n",
              "</div>\n",
              "    <div class=\"colab-df-buttons\">\n",
              "\n",
              "  <div class=\"colab-df-container\">\n",
              "    <button class=\"colab-df-convert\" onclick=\"convertToInteractive('df-c329cb07-7200-4ce7-8540-edce7c35abac')\"\n",
              "            title=\"Convert this dataframe to an interactive table.\"\n",
              "            style=\"display:none;\">\n",
              "\n",
              "  <svg xmlns=\"http://www.w3.org/2000/svg\" height=\"24px\" viewBox=\"0 -960 960 960\">\n",
              "    <path d=\"M120-120v-720h720v720H120Zm60-500h600v-160H180v160Zm220 220h160v-160H400v160Zm0 220h160v-160H400v160ZM180-400h160v-160H180v160Zm440 0h160v-160H620v160ZM180-180h160v-160H180v160Zm440 0h160v-160H620v160Z\"/>\n",
              "  </svg>\n",
              "    </button>\n",
              "\n",
              "  <style>\n",
              "    .colab-df-container {\n",
              "      display:flex;\n",
              "      gap: 12px;\n",
              "    }\n",
              "\n",
              "    .colab-df-convert {\n",
              "      background-color: #E8F0FE;\n",
              "      border: none;\n",
              "      border-radius: 50%;\n",
              "      cursor: pointer;\n",
              "      display: none;\n",
              "      fill: #1967D2;\n",
              "      height: 32px;\n",
              "      padding: 0 0 0 0;\n",
              "      width: 32px;\n",
              "    }\n",
              "\n",
              "    .colab-df-convert:hover {\n",
              "      background-color: #E2EBFA;\n",
              "      box-shadow: 0px 1px 2px rgba(60, 64, 67, 0.3), 0px 1px 3px 1px rgba(60, 64, 67, 0.15);\n",
              "      fill: #174EA6;\n",
              "    }\n",
              "\n",
              "    .colab-df-buttons div {\n",
              "      margin-bottom: 4px;\n",
              "    }\n",
              "\n",
              "    [theme=dark] .colab-df-convert {\n",
              "      background-color: #3B4455;\n",
              "      fill: #D2E3FC;\n",
              "    }\n",
              "\n",
              "    [theme=dark] .colab-df-convert:hover {\n",
              "      background-color: #434B5C;\n",
              "      box-shadow: 0px 1px 3px 1px rgba(0, 0, 0, 0.15);\n",
              "      filter: drop-shadow(0px 1px 2px rgba(0, 0, 0, 0.3));\n",
              "      fill: #FFFFFF;\n",
              "    }\n",
              "  </style>\n",
              "\n",
              "    <script>\n",
              "      const buttonEl =\n",
              "        document.querySelector('#df-c329cb07-7200-4ce7-8540-edce7c35abac button.colab-df-convert');\n",
              "      buttonEl.style.display =\n",
              "        google.colab.kernel.accessAllowed ? 'block' : 'none';\n",
              "\n",
              "      async function convertToInteractive(key) {\n",
              "        const element = document.querySelector('#df-c329cb07-7200-4ce7-8540-edce7c35abac');\n",
              "        const dataTable =\n",
              "          await google.colab.kernel.invokeFunction('convertToInteractive',\n",
              "                                                    [key], {});\n",
              "        if (!dataTable) return;\n",
              "\n",
              "        const docLinkHtml = 'Like what you see? Visit the ' +\n",
              "          '<a target=\"_blank\" href=https://colab.research.google.com/notebooks/data_table.ipynb>data table notebook</a>'\n",
              "          + ' to learn more about interactive tables.';\n",
              "        element.innerHTML = '';\n",
              "        dataTable['output_type'] = 'display_data';\n",
              "        await google.colab.output.renderOutput(dataTable, element);\n",
              "        const docLink = document.createElement('div');\n",
              "        docLink.innerHTML = docLinkHtml;\n",
              "        element.appendChild(docLink);\n",
              "      }\n",
              "    </script>\n",
              "  </div>\n",
              "\n",
              "\n",
              "<div id=\"df-f3b38d25-c704-4e44-ba40-94abaed6e904\">\n",
              "  <button class=\"colab-df-quickchart\" onclick=\"quickchart('df-f3b38d25-c704-4e44-ba40-94abaed6e904')\"\n",
              "            title=\"Suggest charts\"\n",
              "            style=\"display:none;\">\n",
              "\n",
              "<svg xmlns=\"http://www.w3.org/2000/svg\" height=\"24px\"viewBox=\"0 0 24 24\"\n",
              "     width=\"24px\">\n",
              "    <g>\n",
              "        <path d=\"M19 3H5c-1.1 0-2 .9-2 2v14c0 1.1.9 2 2 2h14c1.1 0 2-.9 2-2V5c0-1.1-.9-2-2-2zM9 17H7v-7h2v7zm4 0h-2V7h2v10zm4 0h-2v-4h2v4z\"/>\n",
              "    </g>\n",
              "</svg>\n",
              "  </button>\n",
              "\n",
              "<style>\n",
              "  .colab-df-quickchart {\n",
              "      --bg-color: #E8F0FE;\n",
              "      --fill-color: #1967D2;\n",
              "      --hover-bg-color: #E2EBFA;\n",
              "      --hover-fill-color: #174EA6;\n",
              "      --disabled-fill-color: #AAA;\n",
              "      --disabled-bg-color: #DDD;\n",
              "  }\n",
              "\n",
              "  [theme=dark] .colab-df-quickchart {\n",
              "      --bg-color: #3B4455;\n",
              "      --fill-color: #D2E3FC;\n",
              "      --hover-bg-color: #434B5C;\n",
              "      --hover-fill-color: #FFFFFF;\n",
              "      --disabled-bg-color: #3B4455;\n",
              "      --disabled-fill-color: #666;\n",
              "  }\n",
              "\n",
              "  .colab-df-quickchart {\n",
              "    background-color: var(--bg-color);\n",
              "    border: none;\n",
              "    border-radius: 50%;\n",
              "    cursor: pointer;\n",
              "    display: none;\n",
              "    fill: var(--fill-color);\n",
              "    height: 32px;\n",
              "    padding: 0;\n",
              "    width: 32px;\n",
              "  }\n",
              "\n",
              "  .colab-df-quickchart:hover {\n",
              "    background-color: var(--hover-bg-color);\n",
              "    box-shadow: 0 1px 2px rgba(60, 64, 67, 0.3), 0 1px 3px 1px rgba(60, 64, 67, 0.15);\n",
              "    fill: var(--button-hover-fill-color);\n",
              "  }\n",
              "\n",
              "  .colab-df-quickchart-complete:disabled,\n",
              "  .colab-df-quickchart-complete:disabled:hover {\n",
              "    background-color: var(--disabled-bg-color);\n",
              "    fill: var(--disabled-fill-color);\n",
              "    box-shadow: none;\n",
              "  }\n",
              "\n",
              "  .colab-df-spinner {\n",
              "    border: 2px solid var(--fill-color);\n",
              "    border-color: transparent;\n",
              "    border-bottom-color: var(--fill-color);\n",
              "    animation:\n",
              "      spin 1s steps(1) infinite;\n",
              "  }\n",
              "\n",
              "  @keyframes spin {\n",
              "    0% {\n",
              "      border-color: transparent;\n",
              "      border-bottom-color: var(--fill-color);\n",
              "      border-left-color: var(--fill-color);\n",
              "    }\n",
              "    20% {\n",
              "      border-color: transparent;\n",
              "      border-left-color: var(--fill-color);\n",
              "      border-top-color: var(--fill-color);\n",
              "    }\n",
              "    30% {\n",
              "      border-color: transparent;\n",
              "      border-left-color: var(--fill-color);\n",
              "      border-top-color: var(--fill-color);\n",
              "      border-right-color: var(--fill-color);\n",
              "    }\n",
              "    40% {\n",
              "      border-color: transparent;\n",
              "      border-right-color: var(--fill-color);\n",
              "      border-top-color: var(--fill-color);\n",
              "    }\n",
              "    60% {\n",
              "      border-color: transparent;\n",
              "      border-right-color: var(--fill-color);\n",
              "    }\n",
              "    80% {\n",
              "      border-color: transparent;\n",
              "      border-right-color: var(--fill-color);\n",
              "      border-bottom-color: var(--fill-color);\n",
              "    }\n",
              "    90% {\n",
              "      border-color: transparent;\n",
              "      border-bottom-color: var(--fill-color);\n",
              "    }\n",
              "  }\n",
              "</style>\n",
              "\n",
              "  <script>\n",
              "    async function quickchart(key) {\n",
              "      const quickchartButtonEl =\n",
              "        document.querySelector('#' + key + ' button');\n",
              "      quickchartButtonEl.disabled = true;  // To prevent multiple clicks.\n",
              "      quickchartButtonEl.classList.add('colab-df-spinner');\n",
              "      try {\n",
              "        const charts = await google.colab.kernel.invokeFunction(\n",
              "            'suggestCharts', [key], {});\n",
              "      } catch (error) {\n",
              "        console.error('Error during call to suggestCharts:', error);\n",
              "      }\n",
              "      quickchartButtonEl.classList.remove('colab-df-spinner');\n",
              "      quickchartButtonEl.classList.add('colab-df-quickchart-complete');\n",
              "    }\n",
              "    (() => {\n",
              "      let quickchartButtonEl =\n",
              "        document.querySelector('#df-f3b38d25-c704-4e44-ba40-94abaed6e904 button');\n",
              "      quickchartButtonEl.style.display =\n",
              "        google.colab.kernel.accessAllowed ? 'block' : 'none';\n",
              "    })();\n",
              "  </script>\n",
              "</div>\n",
              "    </div>\n",
              "  </div>\n"
            ],
            "application/vnd.google.colaboratory.intrinsic+json": {
              "type": "dataframe",
              "variable_name": "melb_deploy",
              "summary": "{\n  \"name\": \"melb_deploy\",\n  \"rows\": 100,\n  \"fields\": [\n    {\n      \"column\": \"Rooms\",\n      \"properties\": {\n        \"dtype\": \"number\",\n        \"std\": 0,\n        \"min\": 1,\n        \"max\": 5,\n        \"num_unique_values\": 5,\n        \"samples\": [\n          2,\n          5,\n          4\n        ],\n        \"semantic_type\": \"\",\n        \"description\": \"\"\n      }\n    },\n    {\n      \"column\": \"Distance\",\n      \"properties\": {\n        \"dtype\": \"number\",\n        \"std\": 6.419630248328366,\n        \"min\": 1.9,\n        \"max\": 41.0,\n        \"num_unique_values\": 64,\n        \"samples\": [\n          13.1,\n          9.7,\n          11.2\n        ],\n        \"semantic_type\": \"\",\n        \"description\": \"\"\n      }\n    },\n    {\n      \"column\": \"Landsize\",\n      \"properties\": {\n        \"dtype\": \"number\",\n        \"std\": 313.8190876890374,\n        \"min\": 0.0,\n        \"max\": 1606.0,\n        \"num_unique_values\": 83,\n        \"samples\": [\n          539.0,\n          588.0,\n          143.0\n        ],\n        \"semantic_type\": \"\",\n        \"description\": \"\"\n      }\n    },\n    {\n      \"column\": \"BuildingArea\",\n      \"properties\": {\n        \"dtype\": \"number\",\n        \"std\": 140.20030966290315,\n        \"min\": 3.0,\n        \"max\": 1041.0,\n        \"num_unique_values\": 47,\n        \"samples\": [\n          266.0,\n          270.0,\n          278.0\n        ],\n        \"semantic_type\": \"\",\n        \"description\": \"\"\n      }\n    },\n    {\n      \"column\": \"YearBuilt\",\n      \"properties\": {\n        \"dtype\": \"number\",\n        \"std\": 38.7936410911156,\n        \"min\": 1890.0,\n        \"max\": 2016.0,\n        \"num_unique_values\": 29,\n        \"samples\": [\n          2004.0,\n          1950.0,\n          1976.0\n        ],\n        \"semantic_type\": \"\",\n        \"description\": \"\"\n      }\n    },\n    {\n      \"column\": \"Price_Prediction\",\n      \"properties\": {\n        \"dtype\": \"float32\",\n        \"num_unique_values\": 100,\n        \"samples\": [\n          1659315.75,\n          769436.3125,\n          1085318.5\n        ],\n        \"semantic_type\": \"\",\n        \"description\": \"\"\n      }\n    }\n  ]\n}"
            }
          },
          "metadata": {},
          "execution_count": 42
        }
      ]
    }
  ],
  "metadata": {
    "anaconda-cloud": {},
    "kernelspec": {
      "display_name": "Python 3",
      "language": "python",
      "name": "python3"
    },
    "language_info": {
      "codemirror_mode": {
        "name": "ipython",
        "version": 3
      },
      "file_extension": ".py",
      "mimetype": "text/x-python",
      "name": "python",
      "nbconvert_exporter": "python",
      "pygments_lexer": "ipython3",
      "version": "3.8.5"
    },
    "colab": {
      "provenance": [],
      "include_colab_link": true
    }
  },
  "nbformat": 4,
  "nbformat_minor": 0
}