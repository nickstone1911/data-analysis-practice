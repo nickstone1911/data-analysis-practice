{
  "nbformat": 4,
  "nbformat_minor": 0,
  "metadata": {
    "colab": {
      "provenance": [],
      "include_colab_link": true
    },
    "kernelspec": {
      "name": "python3",
      "display_name": "Python 3"
    },
    "language_info": {
      "name": "python"
    }
  },
  "cells": [
    {
      "cell_type": "markdown",
      "metadata": {
        "id": "view-in-github",
        "colab_type": "text"
      },
      "source": [
        "<a href=\"https://colab.research.google.com/github/nickstone1911/data-analysis-practice/blob/main/Support_Vector_Machines(SVM).ipynb\" target=\"_parent\"><img src=\"https://colab.research.google.com/assets/colab-badge.svg\" alt=\"Open In Colab\"/></a>"
      ]
    },
    {
      "cell_type": "markdown",
      "source": [
        "# Advanced Business Analytics: Introduction to `Support Vector Machines (SVM)` in `scikit-learn`\n",
        "\n",
        "In this code-along notebook, we will:\n",
        "\n",
        "1. Introduce the basics of the `SVC` (Support Vector Classifier) classifier in `scikit-learn`, a popular machine learning classifier\n",
        "2. Examine features and capabilities of `SVC`\n",
        "3. Learn how to install and import the `SVC` classifier\n",
        "4. Fit a SVC model to data\n",
        "5. Visualize SVM boundries for 2D space\n",
        "6. Explore SVC hyper parameters\n",
        "---\n",
        "\n",
        "## Resources\n",
        ">- [SVM Intro Slides](https://docs.google.com/presentation/d/1Kt5oCx5aXmAclnykO8a9ch3IGXiZ44kyHmIlJh2hQpg/edit?usp=sharing)\n",
        ">- [SVM: Maximum Margine Separator doc ](https://scikit-learn.org/stable/auto_examples/svm/plot_separating_hyperplane.html)\n",
        ">>- We will use this code from the `scikit-learn` documentation to plot the decision function and support vectors in 2D\n",
        ">>>- [svm_margin_plot.py](https://drive.google.com/file/d/14wRATm6LnCRBn4OiQq555-1wN-sWS0t8/view?usp=sharing)\n",
        "---\n",
        "## Data File for Code-Along\n",
        ">- Download/move the following file into your working directory\n",
        ">- [mouse_viral_study.csv](https://drive.google.com/file/d/1k6msc2JndcTdsQCFhQ3bYRSwlbZ90mrc/view?usp=sharing)\n",
        "\n",
        "---"
      ],
      "metadata": {
        "id": "nsN2oV3zQQSP"
      }
    },
    {
      "cell_type": "markdown",
      "source": [
        "# Importing Initial Libraries\n",
        "\n",
        "\n"
      ],
      "metadata": {
        "id": "zgpuYbcYl6yW"
      }
    },
    {
      "cell_type": "code",
      "execution_count": null,
      "metadata": {
        "id": "mWao5r-ydEqQ"
      },
      "outputs": [],
      "source": [
        "import pandas as pd\n",
        "import numpy as np\n",
        "import seaborn as sns\n",
        "import matplotlib.pyplot as plt\n"
      ]
    },
    {
      "cell_type": "markdown",
      "source": [
        "# Load the `mouse_viral_study.csv` Dataset\n",
        ">- For this tutorial we will load the `mouse_viral_study.csv` dataset shared in this notebook\n",
        "\n",
        "---\n",
        "## Data Notes\n",
        "\n",
        "The data in the `mouse_viral_study.csv` simulates a medical study in which mice infected with a virus were given various doses of two medicines and then checked 2 weeks later to see if they were still infected.\n",
        "\n",
        "Given this data, our goal is to create a classification model then predict (given two dosage measurements) if they mouse will still be infected with the virus.\n",
        "\n",
        "You will notice the groups are very separable, this is on purpose, to explore how the various parameters of an SVM model behave.\n",
        "\n",
        "---"
      ],
      "metadata": {
        "id": "_5xj3bV2saDL"
      }
    },
    {
      "cell_type": "markdown",
      "source": [
        "# Mount Drive and Load Data"
      ],
      "metadata": {
        "id": "uwA9rBLmgTYZ"
      }
    },
    {
      "cell_type": "code",
      "source": [
        "from google.colab import drive\n",
        "drive.mount('/content/drive/')"
      ],
      "metadata": {
        "id": "T7_Vx8RYsSDA",
        "colab": {
          "base_uri": "https://localhost:8080/"
        },
        "outputId": "077262ad-614b-4dd2-ba91-04879d625503"
      },
      "execution_count": null,
      "outputs": [
        {
          "output_type": "stream",
          "name": "stdout",
          "text": [
            "Mounted at /content/drive/\n"
          ]
        }
      ]
    },
    {
      "cell_type": "code",
      "source": [
        "import os\n",
        "\n",
        "path = '/content/drive/MyDrive/BAIM4205'\n",
        "os.chdir(path)\n",
        "os.listdir()"
      ],
      "metadata": {
        "id": "giVIz0DNgfAG",
        "colab": {
          "base_uri": "https://localhost:8080/"
        },
        "outputId": "08ee9bf1-e022-4543-f001-41c2d735282b"
      },
      "execution_count": null,
      "outputs": [
        {
          "output_type": "execute_result",
          "data": {
            "text/plain": [
              "['customer.csv',\n",
              " 'winedata.csv',\n",
              " 'W1D2 Agenda and Exercises - Student.ipynb',\n",
              " 'W2D1 Lesson 24: Code-Along - Intro to Data Engineering with the BigQuery API.ipynb',\n",
              " 'W1D1 - Working With Google Drive and the os Module_student.ipynb',\n",
              " 'heart.csv',\n",
              " 'mouse_viral_study.csv',\n",
              " 'svm_margin_plot.py']"
            ]
          },
          "metadata": {},
          "execution_count": 7
        }
      ]
    },
    {
      "cell_type": "markdown",
      "source": [
        "Load Data"
      ],
      "metadata": {
        "id": "ZbQg6apZnF2X"
      }
    },
    {
      "cell_type": "code",
      "source": [
        "mdf = pd.read_csv('mouse_viral_study.csv')"
      ],
      "metadata": {
        "id": "9wQ7ae_bm1VW"
      },
      "execution_count": null,
      "outputs": []
    },
    {
      "cell_type": "code",
      "source": [
        "mdf.head()"
      ],
      "metadata": {
        "id": "pG-dwkrEm8_J",
        "colab": {
          "base_uri": "https://localhost:8080/",
          "height": 206
        },
        "outputId": "d7f15175-7d0a-47d6-be28-333f06112453"
      },
      "execution_count": null,
      "outputs": [
        {
          "output_type": "execute_result",
          "data": {
            "text/plain": [
              "   Med_1_mL  Med_2_mL  Virus Present\n",
              "0  6.508231  8.582531              0\n",
              "1  4.126116  3.073459              1\n",
              "2  6.427870  6.369758              0\n",
              "3  3.672953  4.905215              1\n",
              "4  1.580321  2.440562              1"
            ],
            "text/html": [
              "\n",
              "  <div id=\"df-c8133f3d-4101-4e90-8e87-b0d1eb295ef4\" class=\"colab-df-container\">\n",
              "    <div>\n",
              "<style scoped>\n",
              "    .dataframe tbody tr th:only-of-type {\n",
              "        vertical-align: middle;\n",
              "    }\n",
              "\n",
              "    .dataframe tbody tr th {\n",
              "        vertical-align: top;\n",
              "    }\n",
              "\n",
              "    .dataframe thead th {\n",
              "        text-align: right;\n",
              "    }\n",
              "</style>\n",
              "<table border=\"1\" class=\"dataframe\">\n",
              "  <thead>\n",
              "    <tr style=\"text-align: right;\">\n",
              "      <th></th>\n",
              "      <th>Med_1_mL</th>\n",
              "      <th>Med_2_mL</th>\n",
              "      <th>Virus Present</th>\n",
              "    </tr>\n",
              "  </thead>\n",
              "  <tbody>\n",
              "    <tr>\n",
              "      <th>0</th>\n",
              "      <td>6.508231</td>\n",
              "      <td>8.582531</td>\n",
              "      <td>0</td>\n",
              "    </tr>\n",
              "    <tr>\n",
              "      <th>1</th>\n",
              "      <td>4.126116</td>\n",
              "      <td>3.073459</td>\n",
              "      <td>1</td>\n",
              "    </tr>\n",
              "    <tr>\n",
              "      <th>2</th>\n",
              "      <td>6.427870</td>\n",
              "      <td>6.369758</td>\n",
              "      <td>0</td>\n",
              "    </tr>\n",
              "    <tr>\n",
              "      <th>3</th>\n",
              "      <td>3.672953</td>\n",
              "      <td>4.905215</td>\n",
              "      <td>1</td>\n",
              "    </tr>\n",
              "    <tr>\n",
              "      <th>4</th>\n",
              "      <td>1.580321</td>\n",
              "      <td>2.440562</td>\n",
              "      <td>1</td>\n",
              "    </tr>\n",
              "  </tbody>\n",
              "</table>\n",
              "</div>\n",
              "    <div class=\"colab-df-buttons\">\n",
              "\n",
              "  <div class=\"colab-df-container\">\n",
              "    <button class=\"colab-df-convert\" onclick=\"convertToInteractive('df-c8133f3d-4101-4e90-8e87-b0d1eb295ef4')\"\n",
              "            title=\"Convert this dataframe to an interactive table.\"\n",
              "            style=\"display:none;\">\n",
              "\n",
              "  <svg xmlns=\"http://www.w3.org/2000/svg\" height=\"24px\" viewBox=\"0 -960 960 960\">\n",
              "    <path d=\"M120-120v-720h720v720H120Zm60-500h600v-160H180v160Zm220 220h160v-160H400v160Zm0 220h160v-160H400v160ZM180-400h160v-160H180v160Zm440 0h160v-160H620v160ZM180-180h160v-160H180v160Zm440 0h160v-160H620v160Z\"/>\n",
              "  </svg>\n",
              "    </button>\n",
              "\n",
              "  <style>\n",
              "    .colab-df-container {\n",
              "      display:flex;\n",
              "      gap: 12px;\n",
              "    }\n",
              "\n",
              "    .colab-df-convert {\n",
              "      background-color: #E8F0FE;\n",
              "      border: none;\n",
              "      border-radius: 50%;\n",
              "      cursor: pointer;\n",
              "      display: none;\n",
              "      fill: #1967D2;\n",
              "      height: 32px;\n",
              "      padding: 0 0 0 0;\n",
              "      width: 32px;\n",
              "    }\n",
              "\n",
              "    .colab-df-convert:hover {\n",
              "      background-color: #E2EBFA;\n",
              "      box-shadow: 0px 1px 2px rgba(60, 64, 67, 0.3), 0px 1px 3px 1px rgba(60, 64, 67, 0.15);\n",
              "      fill: #174EA6;\n",
              "    }\n",
              "\n",
              "    .colab-df-buttons div {\n",
              "      margin-bottom: 4px;\n",
              "    }\n",
              "\n",
              "    [theme=dark] .colab-df-convert {\n",
              "      background-color: #3B4455;\n",
              "      fill: #D2E3FC;\n",
              "    }\n",
              "\n",
              "    [theme=dark] .colab-df-convert:hover {\n",
              "      background-color: #434B5C;\n",
              "      box-shadow: 0px 1px 3px 1px rgba(0, 0, 0, 0.15);\n",
              "      filter: drop-shadow(0px 1px 2px rgba(0, 0, 0, 0.3));\n",
              "      fill: #FFFFFF;\n",
              "    }\n",
              "  </style>\n",
              "\n",
              "    <script>\n",
              "      const buttonEl =\n",
              "        document.querySelector('#df-c8133f3d-4101-4e90-8e87-b0d1eb295ef4 button.colab-df-convert');\n",
              "      buttonEl.style.display =\n",
              "        google.colab.kernel.accessAllowed ? 'block' : 'none';\n",
              "\n",
              "      async function convertToInteractive(key) {\n",
              "        const element = document.querySelector('#df-c8133f3d-4101-4e90-8e87-b0d1eb295ef4');\n",
              "        const dataTable =\n",
              "          await google.colab.kernel.invokeFunction('convertToInteractive',\n",
              "                                                    [key], {});\n",
              "        if (!dataTable) return;\n",
              "\n",
              "        const docLinkHtml = 'Like what you see? Visit the ' +\n",
              "          '<a target=\"_blank\" href=https://colab.research.google.com/notebooks/data_table.ipynb>data table notebook</a>'\n",
              "          + ' to learn more about interactive tables.';\n",
              "        element.innerHTML = '';\n",
              "        dataTable['output_type'] = 'display_data';\n",
              "        await google.colab.output.renderOutput(dataTable, element);\n",
              "        const docLink = document.createElement('div');\n",
              "        docLink.innerHTML = docLinkHtml;\n",
              "        element.appendChild(docLink);\n",
              "      }\n",
              "    </script>\n",
              "  </div>\n",
              "\n",
              "\n",
              "<div id=\"df-03958242-9c78-40c7-b1ac-f07252813477\">\n",
              "  <button class=\"colab-df-quickchart\" onclick=\"quickchart('df-03958242-9c78-40c7-b1ac-f07252813477')\"\n",
              "            title=\"Suggest charts\"\n",
              "            style=\"display:none;\">\n",
              "\n",
              "<svg xmlns=\"http://www.w3.org/2000/svg\" height=\"24px\"viewBox=\"0 0 24 24\"\n",
              "     width=\"24px\">\n",
              "    <g>\n",
              "        <path d=\"M19 3H5c-1.1 0-2 .9-2 2v14c0 1.1.9 2 2 2h14c1.1 0 2-.9 2-2V5c0-1.1-.9-2-2-2zM9 17H7v-7h2v7zm4 0h-2V7h2v10zm4 0h-2v-4h2v4z\"/>\n",
              "    </g>\n",
              "</svg>\n",
              "  </button>\n",
              "\n",
              "<style>\n",
              "  .colab-df-quickchart {\n",
              "      --bg-color: #E8F0FE;\n",
              "      --fill-color: #1967D2;\n",
              "      --hover-bg-color: #E2EBFA;\n",
              "      --hover-fill-color: #174EA6;\n",
              "      --disabled-fill-color: #AAA;\n",
              "      --disabled-bg-color: #DDD;\n",
              "  }\n",
              "\n",
              "  [theme=dark] .colab-df-quickchart {\n",
              "      --bg-color: #3B4455;\n",
              "      --fill-color: #D2E3FC;\n",
              "      --hover-bg-color: #434B5C;\n",
              "      --hover-fill-color: #FFFFFF;\n",
              "      --disabled-bg-color: #3B4455;\n",
              "      --disabled-fill-color: #666;\n",
              "  }\n",
              "\n",
              "  .colab-df-quickchart {\n",
              "    background-color: var(--bg-color);\n",
              "    border: none;\n",
              "    border-radius: 50%;\n",
              "    cursor: pointer;\n",
              "    display: none;\n",
              "    fill: var(--fill-color);\n",
              "    height: 32px;\n",
              "    padding: 0;\n",
              "    width: 32px;\n",
              "  }\n",
              "\n",
              "  .colab-df-quickchart:hover {\n",
              "    background-color: var(--hover-bg-color);\n",
              "    box-shadow: 0 1px 2px rgba(60, 64, 67, 0.3), 0 1px 3px 1px rgba(60, 64, 67, 0.15);\n",
              "    fill: var(--button-hover-fill-color);\n",
              "  }\n",
              "\n",
              "  .colab-df-quickchart-complete:disabled,\n",
              "  .colab-df-quickchart-complete:disabled:hover {\n",
              "    background-color: var(--disabled-bg-color);\n",
              "    fill: var(--disabled-fill-color);\n",
              "    box-shadow: none;\n",
              "  }\n",
              "\n",
              "  .colab-df-spinner {\n",
              "    border: 2px solid var(--fill-color);\n",
              "    border-color: transparent;\n",
              "    border-bottom-color: var(--fill-color);\n",
              "    animation:\n",
              "      spin 1s steps(1) infinite;\n",
              "  }\n",
              "\n",
              "  @keyframes spin {\n",
              "    0% {\n",
              "      border-color: transparent;\n",
              "      border-bottom-color: var(--fill-color);\n",
              "      border-left-color: var(--fill-color);\n",
              "    }\n",
              "    20% {\n",
              "      border-color: transparent;\n",
              "      border-left-color: var(--fill-color);\n",
              "      border-top-color: var(--fill-color);\n",
              "    }\n",
              "    30% {\n",
              "      border-color: transparent;\n",
              "      border-left-color: var(--fill-color);\n",
              "      border-top-color: var(--fill-color);\n",
              "      border-right-color: var(--fill-color);\n",
              "    }\n",
              "    40% {\n",
              "      border-color: transparent;\n",
              "      border-right-color: var(--fill-color);\n",
              "      border-top-color: var(--fill-color);\n",
              "    }\n",
              "    60% {\n",
              "      border-color: transparent;\n",
              "      border-right-color: var(--fill-color);\n",
              "    }\n",
              "    80% {\n",
              "      border-color: transparent;\n",
              "      border-right-color: var(--fill-color);\n",
              "      border-bottom-color: var(--fill-color);\n",
              "    }\n",
              "    90% {\n",
              "      border-color: transparent;\n",
              "      border-bottom-color: var(--fill-color);\n",
              "    }\n",
              "  }\n",
              "</style>\n",
              "\n",
              "  <script>\n",
              "    async function quickchart(key) {\n",
              "      const quickchartButtonEl =\n",
              "        document.querySelector('#' + key + ' button');\n",
              "      quickchartButtonEl.disabled = true;  // To prevent multiple clicks.\n",
              "      quickchartButtonEl.classList.add('colab-df-spinner');\n",
              "      try {\n",
              "        const charts = await google.colab.kernel.invokeFunction(\n",
              "            'suggestCharts', [key], {});\n",
              "      } catch (error) {\n",
              "        console.error('Error during call to suggestCharts:', error);\n",
              "      }\n",
              "      quickchartButtonEl.classList.remove('colab-df-spinner');\n",
              "      quickchartButtonEl.classList.add('colab-df-quickchart-complete');\n",
              "    }\n",
              "    (() => {\n",
              "      let quickchartButtonEl =\n",
              "        document.querySelector('#df-03958242-9c78-40c7-b1ac-f07252813477 button');\n",
              "      quickchartButtonEl.style.display =\n",
              "        google.colab.kernel.accessAllowed ? 'block' : 'none';\n",
              "    })();\n",
              "  </script>\n",
              "</div>\n",
              "    </div>\n",
              "  </div>\n"
            ]
          },
          "metadata": {},
          "execution_count": 9
        }
      ]
    },
    {
      "cell_type": "markdown",
      "source": [
        "# Importing a Python Library from Drive\n",
        "\n",
        "If you want to create your own functions or load other libraries in drive, this is the process:\n",
        "\n",
        "1. Mount your Drive\n",
        "2. Change the working directory to where you want to work (usually where you save your notebook(s))\n",
        "3. Create, save, or move `.py` files to this working directory and import as usual\n",
        ">- For this tutorial, download/move this `.py` file: [svm_margin_plot.py](https://drive.google.com/file/d/14wRATm6LnCRBn4OiQq555-1wN-sWS0t8/view?usp=sharing) and move it to your working directory"
      ],
      "metadata": {
        "id": "AcXXd2BMhorV"
      }
    },
    {
      "cell_type": "markdown",
      "source": [
        "## Saving a Python Module in Colab\n",
        ">- In this code-along notebook we are going to import a support vector machine plotting function so it might be helpful to get a quick review of how we save a python file to Drive and then import it to use in our project\n",
        ">- After following steps 1-2 above, we can write a Python file by using the `%%writefile myfile.py` magics"
      ],
      "metadata": {
        "id": "kczXVZfVjyqg"
      }
    },
    {
      "cell_type": "code",
      "source": [
        "%%writefile mypythonfile.py\n",
        "\n",
        "def my_function():\n",
        "  print('Hello')"
      ],
      "metadata": {
        "id": "ij_VU62Cjvtj",
        "colab": {
          "base_uri": "https://localhost:8080/"
        },
        "outputId": "d1f0fbbf-a8d1-46f0-bd08-652055135f9e"
      },
      "execution_count": null,
      "outputs": [
        {
          "output_type": "stream",
          "name": "stdout",
          "text": [
            "Writing mypythonfile.py\n"
          ]
        }
      ]
    },
    {
      "cell_type": "markdown",
      "source": [
        "Now check your directory for your file and import it."
      ],
      "metadata": {
        "id": "qQ9aohS9kWTz"
      }
    },
    {
      "cell_type": "code",
      "source": [
        "os.listdir()"
      ],
      "metadata": {
        "id": "8wZaF69zkVxC",
        "colab": {
          "base_uri": "https://localhost:8080/"
        },
        "outputId": "9c1a1896-a424-48bf-bfb1-114edbecba66"
      },
      "execution_count": null,
      "outputs": [
        {
          "output_type": "execute_result",
          "data": {
            "text/plain": [
              "['customer.csv',\n",
              " 'winedata.csv',\n",
              " 'W1D2 Agenda and Exercises - Student.ipynb',\n",
              " 'W2D1 Lesson 24: Code-Along - Intro to Data Engineering with the BigQuery API.ipynb',\n",
              " 'W1D1 - Working With Google Drive and the os Module_student.ipynb',\n",
              " 'heart.csv',\n",
              " 'mouse_viral_study.csv',\n",
              " 'svm_margin_plot.py',\n",
              " 'mypythonfile.py']"
            ]
          },
          "metadata": {},
          "execution_count": 11
        }
      ]
    },
    {
      "cell_type": "code",
      "source": [
        "import mypythonfile as mpf\n",
        "\n",
        "mpf.my_function()"
      ],
      "metadata": {
        "id": "XLh-G64Qkane",
        "colab": {
          "base_uri": "https://localhost:8080/"
        },
        "outputId": "32346b2a-56fa-4177-c019-d933bbef6b16"
      },
      "execution_count": null,
      "outputs": [
        {
          "output_type": "stream",
          "name": "stdout",
          "text": [
            "Hello\n"
          ]
        }
      ]
    },
    {
      "cell_type": "markdown",
      "source": [
        "Clean up and remove that tutorial file..."
      ],
      "metadata": {
        "id": "3Atm3cOAldcq"
      }
    },
    {
      "cell_type": "code",
      "source": [
        "os.remove(('mypythonfile.py'))\n",
        "\n",
        "os.listdir()"
      ],
      "metadata": {
        "id": "WAVoVCRVlhdj",
        "colab": {
          "base_uri": "https://localhost:8080/"
        },
        "outputId": "f96e52b0-4ce9-4f25-8780-c2827b636427"
      },
      "execution_count": null,
      "outputs": [
        {
          "output_type": "execute_result",
          "data": {
            "text/plain": [
              "['customer.csv',\n",
              " 'winedata.csv',\n",
              " 'W1D2 Agenda and Exercises - Student.ipynb',\n",
              " 'W2D1 Lesson 24: Code-Along - Intro to Data Engineering with the BigQuery API.ipynb',\n",
              " 'W1D1 - Working With Google Drive and the os Module_student.ipynb',\n",
              " 'heart.csv',\n",
              " 'mouse_viral_study.csv',\n",
              " 'svm_margin_plot.py',\n",
              " '__pycache__']"
            ]
          },
          "metadata": {},
          "execution_count": 14
        }
      ]
    },
    {
      "cell_type": "markdown",
      "source": [
        "## Now Let's Load the `svm_margin_plot` Library\n",
        ">- This just contains one function from the `scikit-learn` documentation that makes it convenient to plot SVM charts\n",
        ">- Make sure you downloaded/moved the `svm_margin_plot.py` file given at the beginning of the notebook and moved to your working directory"
      ],
      "metadata": {
        "id": "1rJq08XfmNtI"
      }
    },
    {
      "cell_type": "code",
      "source": [
        "from svm_margin_plot import plot_svm_boundary"
      ],
      "metadata": {
        "id": "2yLoJ_3zgyeB"
      },
      "execution_count": null,
      "outputs": []
    },
    {
      "cell_type": "markdown",
      "source": [
        "---\n",
        "# End of Video 1\n",
        "\n",
        "---"
      ],
      "metadata": {
        "id": "6qnAIRoCoRJi"
      }
    },
    {
      "cell_type": "markdown",
      "source": [
        "# Data Exploration\n",
        "\n",
        ">- Let's examine our dataset a bit before diving into how to use the `SVM` classifier"
      ],
      "metadata": {
        "id": "Fsaqq5qCod0Z"
      }
    },
    {
      "cell_type": "code",
      "source": [
        "mdf.describe()"
      ],
      "metadata": {
        "id": "ZcC5U0EpAmfi",
        "colab": {
          "base_uri": "https://localhost:8080/",
          "height": 300
        },
        "outputId": "045f019d-caf3-4709-8fd8-a76fede24be2"
      },
      "execution_count": null,
      "outputs": [
        {
          "output_type": "execute_result",
          "data": {
            "text/plain": [
              "         Med_1_mL    Med_2_mL  Virus Present\n",
              "count  400.000000  400.000000     400.000000\n",
              "mean     5.447984    5.616750       0.500000\n",
              "std      2.319059    2.336637       0.500626\n",
              "min      1.000000    1.000000       0.000000\n",
              "25%      3.249062    3.431311       0.000000\n",
              "50%      5.393776    5.638471       0.500000\n",
              "75%      7.630389    7.782614       1.000000\n",
              "max     10.000000   10.000000       1.000000"
            ],
            "text/html": [
              "\n",
              "  <div id=\"df-d36241a6-d222-4ee8-b76f-f2c5f2f8ae42\" class=\"colab-df-container\">\n",
              "    <div>\n",
              "<style scoped>\n",
              "    .dataframe tbody tr th:only-of-type {\n",
              "        vertical-align: middle;\n",
              "    }\n",
              "\n",
              "    .dataframe tbody tr th {\n",
              "        vertical-align: top;\n",
              "    }\n",
              "\n",
              "    .dataframe thead th {\n",
              "        text-align: right;\n",
              "    }\n",
              "</style>\n",
              "<table border=\"1\" class=\"dataframe\">\n",
              "  <thead>\n",
              "    <tr style=\"text-align: right;\">\n",
              "      <th></th>\n",
              "      <th>Med_1_mL</th>\n",
              "      <th>Med_2_mL</th>\n",
              "      <th>Virus Present</th>\n",
              "    </tr>\n",
              "  </thead>\n",
              "  <tbody>\n",
              "    <tr>\n",
              "      <th>count</th>\n",
              "      <td>400.000000</td>\n",
              "      <td>400.000000</td>\n",
              "      <td>400.000000</td>\n",
              "    </tr>\n",
              "    <tr>\n",
              "      <th>mean</th>\n",
              "      <td>5.447984</td>\n",
              "      <td>5.616750</td>\n",
              "      <td>0.500000</td>\n",
              "    </tr>\n",
              "    <tr>\n",
              "      <th>std</th>\n",
              "      <td>2.319059</td>\n",
              "      <td>2.336637</td>\n",
              "      <td>0.500626</td>\n",
              "    </tr>\n",
              "    <tr>\n",
              "      <th>min</th>\n",
              "      <td>1.000000</td>\n",
              "      <td>1.000000</td>\n",
              "      <td>0.000000</td>\n",
              "    </tr>\n",
              "    <tr>\n",
              "      <th>25%</th>\n",
              "      <td>3.249062</td>\n",
              "      <td>3.431311</td>\n",
              "      <td>0.000000</td>\n",
              "    </tr>\n",
              "    <tr>\n",
              "      <th>50%</th>\n",
              "      <td>5.393776</td>\n",
              "      <td>5.638471</td>\n",
              "      <td>0.500000</td>\n",
              "    </tr>\n",
              "    <tr>\n",
              "      <th>75%</th>\n",
              "      <td>7.630389</td>\n",
              "      <td>7.782614</td>\n",
              "      <td>1.000000</td>\n",
              "    </tr>\n",
              "    <tr>\n",
              "      <th>max</th>\n",
              "      <td>10.000000</td>\n",
              "      <td>10.000000</td>\n",
              "      <td>1.000000</td>\n",
              "    </tr>\n",
              "  </tbody>\n",
              "</table>\n",
              "</div>\n",
              "    <div class=\"colab-df-buttons\">\n",
              "\n",
              "  <div class=\"colab-df-container\">\n",
              "    <button class=\"colab-df-convert\" onclick=\"convertToInteractive('df-d36241a6-d222-4ee8-b76f-f2c5f2f8ae42')\"\n",
              "            title=\"Convert this dataframe to an interactive table.\"\n",
              "            style=\"display:none;\">\n",
              "\n",
              "  <svg xmlns=\"http://www.w3.org/2000/svg\" height=\"24px\" viewBox=\"0 -960 960 960\">\n",
              "    <path d=\"M120-120v-720h720v720H120Zm60-500h600v-160H180v160Zm220 220h160v-160H400v160Zm0 220h160v-160H400v160ZM180-400h160v-160H180v160Zm440 0h160v-160H620v160ZM180-180h160v-160H180v160Zm440 0h160v-160H620v160Z\"/>\n",
              "  </svg>\n",
              "    </button>\n",
              "\n",
              "  <style>\n",
              "    .colab-df-container {\n",
              "      display:flex;\n",
              "      gap: 12px;\n",
              "    }\n",
              "\n",
              "    .colab-df-convert {\n",
              "      background-color: #E8F0FE;\n",
              "      border: none;\n",
              "      border-radius: 50%;\n",
              "      cursor: pointer;\n",
              "      display: none;\n",
              "      fill: #1967D2;\n",
              "      height: 32px;\n",
              "      padding: 0 0 0 0;\n",
              "      width: 32px;\n",
              "    }\n",
              "\n",
              "    .colab-df-convert:hover {\n",
              "      background-color: #E2EBFA;\n",
              "      box-shadow: 0px 1px 2px rgba(60, 64, 67, 0.3), 0px 1px 3px 1px rgba(60, 64, 67, 0.15);\n",
              "      fill: #174EA6;\n",
              "    }\n",
              "\n",
              "    .colab-df-buttons div {\n",
              "      margin-bottom: 4px;\n",
              "    }\n",
              "\n",
              "    [theme=dark] .colab-df-convert {\n",
              "      background-color: #3B4455;\n",
              "      fill: #D2E3FC;\n",
              "    }\n",
              "\n",
              "    [theme=dark] .colab-df-convert:hover {\n",
              "      background-color: #434B5C;\n",
              "      box-shadow: 0px 1px 3px 1px rgba(0, 0, 0, 0.15);\n",
              "      filter: drop-shadow(0px 1px 2px rgba(0, 0, 0, 0.3));\n",
              "      fill: #FFFFFF;\n",
              "    }\n",
              "  </style>\n",
              "\n",
              "    <script>\n",
              "      const buttonEl =\n",
              "        document.querySelector('#df-d36241a6-d222-4ee8-b76f-f2c5f2f8ae42 button.colab-df-convert');\n",
              "      buttonEl.style.display =\n",
              "        google.colab.kernel.accessAllowed ? 'block' : 'none';\n",
              "\n",
              "      async function convertToInteractive(key) {\n",
              "        const element = document.querySelector('#df-d36241a6-d222-4ee8-b76f-f2c5f2f8ae42');\n",
              "        const dataTable =\n",
              "          await google.colab.kernel.invokeFunction('convertToInteractive',\n",
              "                                                    [key], {});\n",
              "        if (!dataTable) return;\n",
              "\n",
              "        const docLinkHtml = 'Like what you see? Visit the ' +\n",
              "          '<a target=\"_blank\" href=https://colab.research.google.com/notebooks/data_table.ipynb>data table notebook</a>'\n",
              "          + ' to learn more about interactive tables.';\n",
              "        element.innerHTML = '';\n",
              "        dataTable['output_type'] = 'display_data';\n",
              "        await google.colab.output.renderOutput(dataTable, element);\n",
              "        const docLink = document.createElement('div');\n",
              "        docLink.innerHTML = docLinkHtml;\n",
              "        element.appendChild(docLink);\n",
              "      }\n",
              "    </script>\n",
              "  </div>\n",
              "\n",
              "\n",
              "<div id=\"df-f8d947fd-3e08-48c5-ab4a-a49036d9d38b\">\n",
              "  <button class=\"colab-df-quickchart\" onclick=\"quickchart('df-f8d947fd-3e08-48c5-ab4a-a49036d9d38b')\"\n",
              "            title=\"Suggest charts\"\n",
              "            style=\"display:none;\">\n",
              "\n",
              "<svg xmlns=\"http://www.w3.org/2000/svg\" height=\"24px\"viewBox=\"0 0 24 24\"\n",
              "     width=\"24px\">\n",
              "    <g>\n",
              "        <path d=\"M19 3H5c-1.1 0-2 .9-2 2v14c0 1.1.9 2 2 2h14c1.1 0 2-.9 2-2V5c0-1.1-.9-2-2-2zM9 17H7v-7h2v7zm4 0h-2V7h2v10zm4 0h-2v-4h2v4z\"/>\n",
              "    </g>\n",
              "</svg>\n",
              "  </button>\n",
              "\n",
              "<style>\n",
              "  .colab-df-quickchart {\n",
              "      --bg-color: #E8F0FE;\n",
              "      --fill-color: #1967D2;\n",
              "      --hover-bg-color: #E2EBFA;\n",
              "      --hover-fill-color: #174EA6;\n",
              "      --disabled-fill-color: #AAA;\n",
              "      --disabled-bg-color: #DDD;\n",
              "  }\n",
              "\n",
              "  [theme=dark] .colab-df-quickchart {\n",
              "      --bg-color: #3B4455;\n",
              "      --fill-color: #D2E3FC;\n",
              "      --hover-bg-color: #434B5C;\n",
              "      --hover-fill-color: #FFFFFF;\n",
              "      --disabled-bg-color: #3B4455;\n",
              "      --disabled-fill-color: #666;\n",
              "  }\n",
              "\n",
              "  .colab-df-quickchart {\n",
              "    background-color: var(--bg-color);\n",
              "    border: none;\n",
              "    border-radius: 50%;\n",
              "    cursor: pointer;\n",
              "    display: none;\n",
              "    fill: var(--fill-color);\n",
              "    height: 32px;\n",
              "    padding: 0;\n",
              "    width: 32px;\n",
              "  }\n",
              "\n",
              "  .colab-df-quickchart:hover {\n",
              "    background-color: var(--hover-bg-color);\n",
              "    box-shadow: 0 1px 2px rgba(60, 64, 67, 0.3), 0 1px 3px 1px rgba(60, 64, 67, 0.15);\n",
              "    fill: var(--button-hover-fill-color);\n",
              "  }\n",
              "\n",
              "  .colab-df-quickchart-complete:disabled,\n",
              "  .colab-df-quickchart-complete:disabled:hover {\n",
              "    background-color: var(--disabled-bg-color);\n",
              "    fill: var(--disabled-fill-color);\n",
              "    box-shadow: none;\n",
              "  }\n",
              "\n",
              "  .colab-df-spinner {\n",
              "    border: 2px solid var(--fill-color);\n",
              "    border-color: transparent;\n",
              "    border-bottom-color: var(--fill-color);\n",
              "    animation:\n",
              "      spin 1s steps(1) infinite;\n",
              "  }\n",
              "\n",
              "  @keyframes spin {\n",
              "    0% {\n",
              "      border-color: transparent;\n",
              "      border-bottom-color: var(--fill-color);\n",
              "      border-left-color: var(--fill-color);\n",
              "    }\n",
              "    20% {\n",
              "      border-color: transparent;\n",
              "      border-left-color: var(--fill-color);\n",
              "      border-top-color: var(--fill-color);\n",
              "    }\n",
              "    30% {\n",
              "      border-color: transparent;\n",
              "      border-left-color: var(--fill-color);\n",
              "      border-top-color: var(--fill-color);\n",
              "      border-right-color: var(--fill-color);\n",
              "    }\n",
              "    40% {\n",
              "      border-color: transparent;\n",
              "      border-right-color: var(--fill-color);\n",
              "      border-top-color: var(--fill-color);\n",
              "    }\n",
              "    60% {\n",
              "      border-color: transparent;\n",
              "      border-right-color: var(--fill-color);\n",
              "    }\n",
              "    80% {\n",
              "      border-color: transparent;\n",
              "      border-right-color: var(--fill-color);\n",
              "      border-bottom-color: var(--fill-color);\n",
              "    }\n",
              "    90% {\n",
              "      border-color: transparent;\n",
              "      border-bottom-color: var(--fill-color);\n",
              "    }\n",
              "  }\n",
              "</style>\n",
              "\n",
              "  <script>\n",
              "    async function quickchart(key) {\n",
              "      const quickchartButtonEl =\n",
              "        document.querySelector('#' + key + ' button');\n",
              "      quickchartButtonEl.disabled = true;  // To prevent multiple clicks.\n",
              "      quickchartButtonEl.classList.add('colab-df-spinner');\n",
              "      try {\n",
              "        const charts = await google.colab.kernel.invokeFunction(\n",
              "            'suggestCharts', [key], {});\n",
              "      } catch (error) {\n",
              "        console.error('Error during call to suggestCharts:', error);\n",
              "      }\n",
              "      quickchartButtonEl.classList.remove('colab-df-spinner');\n",
              "      quickchartButtonEl.classList.add('colab-df-quickchart-complete');\n",
              "    }\n",
              "    (() => {\n",
              "      let quickchartButtonEl =\n",
              "        document.querySelector('#df-f8d947fd-3e08-48c5-ab4a-a49036d9d38b button');\n",
              "      quickchartButtonEl.style.display =\n",
              "        google.colab.kernel.accessAllowed ? 'block' : 'none';\n",
              "    })();\n",
              "  </script>\n",
              "</div>\n",
              "    </div>\n",
              "  </div>\n"
            ]
          },
          "metadata": {},
          "execution_count": 16
        }
      ]
    },
    {
      "cell_type": "code",
      "source": [
        "mdf['Virus Present'].value_counts()"
      ],
      "metadata": {
        "id": "taez8MhZox4r",
        "colab": {
          "base_uri": "https://localhost:8080/"
        },
        "outputId": "61506004-8387-4903-8d3f-08e118ab7571"
      },
      "execution_count": null,
      "outputs": [
        {
          "output_type": "execute_result",
          "data": {
            "text/plain": [
              "0    200\n",
              "1    200\n",
              "Name: Virus Present, dtype: int64"
            ]
          },
          "metadata": {},
          "execution_count": 17
        }
      ]
    },
    {
      "cell_type": "code",
      "source": [
        "mdf.groupby('Virus Present').describe().transpose()"
      ],
      "metadata": {
        "id": "-L5NX_R4rm4b",
        "colab": {
          "base_uri": "https://localhost:8080/",
          "height": 551
        },
        "outputId": "9d6256ad-3064-4ca9-a38f-1a3b7f858d13"
      },
      "execution_count": null,
      "outputs": [
        {
          "output_type": "execute_result",
          "data": {
            "text/plain": [
              "Virus Present            0           1\n",
              "Med_1_mL count  200.000000  200.000000\n",
              "         mean     7.584185    3.311782\n",
              "         std      0.880815    0.913611\n",
              "         min      5.270149    1.000000\n",
              "         25%      6.898961    2.696821\n",
              "         50%      7.634687    3.247405\n",
              "         75%      8.181846    4.046966\n",
              "         max     10.000000    5.689168\n",
              "Med_2_mL count  200.000000  200.000000\n",
              "         mean     7.725771    3.507730\n",
              "         std      1.003774    0.999490\n",
              "         min      5.194277    1.000000\n",
              "         25%      6.999537    2.880567\n",
              "         50%      7.785516    3.426269\n",
              "         75%      8.439358    4.203161\n",
              "         max     10.000000    6.526954"
            ],
            "text/html": [
              "\n",
              "  <div id=\"df-b0d1aa42-f26a-4fc9-b986-1ce345a06819\" class=\"colab-df-container\">\n",
              "    <div>\n",
              "<style scoped>\n",
              "    .dataframe tbody tr th:only-of-type {\n",
              "        vertical-align: middle;\n",
              "    }\n",
              "\n",
              "    .dataframe tbody tr th {\n",
              "        vertical-align: top;\n",
              "    }\n",
              "\n",
              "    .dataframe thead th {\n",
              "        text-align: right;\n",
              "    }\n",
              "</style>\n",
              "<table border=\"1\" class=\"dataframe\">\n",
              "  <thead>\n",
              "    <tr style=\"text-align: right;\">\n",
              "      <th></th>\n",
              "      <th>Virus Present</th>\n",
              "      <th>0</th>\n",
              "      <th>1</th>\n",
              "    </tr>\n",
              "  </thead>\n",
              "  <tbody>\n",
              "    <tr>\n",
              "      <th rowspan=\"8\" valign=\"top\">Med_1_mL</th>\n",
              "      <th>count</th>\n",
              "      <td>200.000000</td>\n",
              "      <td>200.000000</td>\n",
              "    </tr>\n",
              "    <tr>\n",
              "      <th>mean</th>\n",
              "      <td>7.584185</td>\n",
              "      <td>3.311782</td>\n",
              "    </tr>\n",
              "    <tr>\n",
              "      <th>std</th>\n",
              "      <td>0.880815</td>\n",
              "      <td>0.913611</td>\n",
              "    </tr>\n",
              "    <tr>\n",
              "      <th>min</th>\n",
              "      <td>5.270149</td>\n",
              "      <td>1.000000</td>\n",
              "    </tr>\n",
              "    <tr>\n",
              "      <th>25%</th>\n",
              "      <td>6.898961</td>\n",
              "      <td>2.696821</td>\n",
              "    </tr>\n",
              "    <tr>\n",
              "      <th>50%</th>\n",
              "      <td>7.634687</td>\n",
              "      <td>3.247405</td>\n",
              "    </tr>\n",
              "    <tr>\n",
              "      <th>75%</th>\n",
              "      <td>8.181846</td>\n",
              "      <td>4.046966</td>\n",
              "    </tr>\n",
              "    <tr>\n",
              "      <th>max</th>\n",
              "      <td>10.000000</td>\n",
              "      <td>5.689168</td>\n",
              "    </tr>\n",
              "    <tr>\n",
              "      <th rowspan=\"8\" valign=\"top\">Med_2_mL</th>\n",
              "      <th>count</th>\n",
              "      <td>200.000000</td>\n",
              "      <td>200.000000</td>\n",
              "    </tr>\n",
              "    <tr>\n",
              "      <th>mean</th>\n",
              "      <td>7.725771</td>\n",
              "      <td>3.507730</td>\n",
              "    </tr>\n",
              "    <tr>\n",
              "      <th>std</th>\n",
              "      <td>1.003774</td>\n",
              "      <td>0.999490</td>\n",
              "    </tr>\n",
              "    <tr>\n",
              "      <th>min</th>\n",
              "      <td>5.194277</td>\n",
              "      <td>1.000000</td>\n",
              "    </tr>\n",
              "    <tr>\n",
              "      <th>25%</th>\n",
              "      <td>6.999537</td>\n",
              "      <td>2.880567</td>\n",
              "    </tr>\n",
              "    <tr>\n",
              "      <th>50%</th>\n",
              "      <td>7.785516</td>\n",
              "      <td>3.426269</td>\n",
              "    </tr>\n",
              "    <tr>\n",
              "      <th>75%</th>\n",
              "      <td>8.439358</td>\n",
              "      <td>4.203161</td>\n",
              "    </tr>\n",
              "    <tr>\n",
              "      <th>max</th>\n",
              "      <td>10.000000</td>\n",
              "      <td>6.526954</td>\n",
              "    </tr>\n",
              "  </tbody>\n",
              "</table>\n",
              "</div>\n",
              "    <div class=\"colab-df-buttons\">\n",
              "\n",
              "  <div class=\"colab-df-container\">\n",
              "    <button class=\"colab-df-convert\" onclick=\"convertToInteractive('df-b0d1aa42-f26a-4fc9-b986-1ce345a06819')\"\n",
              "            title=\"Convert this dataframe to an interactive table.\"\n",
              "            style=\"display:none;\">\n",
              "\n",
              "  <svg xmlns=\"http://www.w3.org/2000/svg\" height=\"24px\" viewBox=\"0 -960 960 960\">\n",
              "    <path d=\"M120-120v-720h720v720H120Zm60-500h600v-160H180v160Zm220 220h160v-160H400v160Zm0 220h160v-160H400v160ZM180-400h160v-160H180v160Zm440 0h160v-160H620v160ZM180-180h160v-160H180v160Zm440 0h160v-160H620v160Z\"/>\n",
              "  </svg>\n",
              "    </button>\n",
              "\n",
              "  <style>\n",
              "    .colab-df-container {\n",
              "      display:flex;\n",
              "      gap: 12px;\n",
              "    }\n",
              "\n",
              "    .colab-df-convert {\n",
              "      background-color: #E8F0FE;\n",
              "      border: none;\n",
              "      border-radius: 50%;\n",
              "      cursor: pointer;\n",
              "      display: none;\n",
              "      fill: #1967D2;\n",
              "      height: 32px;\n",
              "      padding: 0 0 0 0;\n",
              "      width: 32px;\n",
              "    }\n",
              "\n",
              "    .colab-df-convert:hover {\n",
              "      background-color: #E2EBFA;\n",
              "      box-shadow: 0px 1px 2px rgba(60, 64, 67, 0.3), 0px 1px 3px 1px rgba(60, 64, 67, 0.15);\n",
              "      fill: #174EA6;\n",
              "    }\n",
              "\n",
              "    .colab-df-buttons div {\n",
              "      margin-bottom: 4px;\n",
              "    }\n",
              "\n",
              "    [theme=dark] .colab-df-convert {\n",
              "      background-color: #3B4455;\n",
              "      fill: #D2E3FC;\n",
              "    }\n",
              "\n",
              "    [theme=dark] .colab-df-convert:hover {\n",
              "      background-color: #434B5C;\n",
              "      box-shadow: 0px 1px 3px 1px rgba(0, 0, 0, 0.15);\n",
              "      filter: drop-shadow(0px 1px 2px rgba(0, 0, 0, 0.3));\n",
              "      fill: #FFFFFF;\n",
              "    }\n",
              "  </style>\n",
              "\n",
              "    <script>\n",
              "      const buttonEl =\n",
              "        document.querySelector('#df-b0d1aa42-f26a-4fc9-b986-1ce345a06819 button.colab-df-convert');\n",
              "      buttonEl.style.display =\n",
              "        google.colab.kernel.accessAllowed ? 'block' : 'none';\n",
              "\n",
              "      async function convertToInteractive(key) {\n",
              "        const element = document.querySelector('#df-b0d1aa42-f26a-4fc9-b986-1ce345a06819');\n",
              "        const dataTable =\n",
              "          await google.colab.kernel.invokeFunction('convertToInteractive',\n",
              "                                                    [key], {});\n",
              "        if (!dataTable) return;\n",
              "\n",
              "        const docLinkHtml = 'Like what you see? Visit the ' +\n",
              "          '<a target=\"_blank\" href=https://colab.research.google.com/notebooks/data_table.ipynb>data table notebook</a>'\n",
              "          + ' to learn more about interactive tables.';\n",
              "        element.innerHTML = '';\n",
              "        dataTable['output_type'] = 'display_data';\n",
              "        await google.colab.output.renderOutput(dataTable, element);\n",
              "        const docLink = document.createElement('div');\n",
              "        docLink.innerHTML = docLinkHtml;\n",
              "        element.appendChild(docLink);\n",
              "      }\n",
              "    </script>\n",
              "  </div>\n",
              "\n",
              "\n",
              "<div id=\"df-3e02f40d-419d-4d3d-a59e-ce1ae585e948\">\n",
              "  <button class=\"colab-df-quickchart\" onclick=\"quickchart('df-3e02f40d-419d-4d3d-a59e-ce1ae585e948')\"\n",
              "            title=\"Suggest charts\"\n",
              "            style=\"display:none;\">\n",
              "\n",
              "<svg xmlns=\"http://www.w3.org/2000/svg\" height=\"24px\"viewBox=\"0 0 24 24\"\n",
              "     width=\"24px\">\n",
              "    <g>\n",
              "        <path d=\"M19 3H5c-1.1 0-2 .9-2 2v14c0 1.1.9 2 2 2h14c1.1 0 2-.9 2-2V5c0-1.1-.9-2-2-2zM9 17H7v-7h2v7zm4 0h-2V7h2v10zm4 0h-2v-4h2v4z\"/>\n",
              "    </g>\n",
              "</svg>\n",
              "  </button>\n",
              "\n",
              "<style>\n",
              "  .colab-df-quickchart {\n",
              "      --bg-color: #E8F0FE;\n",
              "      --fill-color: #1967D2;\n",
              "      --hover-bg-color: #E2EBFA;\n",
              "      --hover-fill-color: #174EA6;\n",
              "      --disabled-fill-color: #AAA;\n",
              "      --disabled-bg-color: #DDD;\n",
              "  }\n",
              "\n",
              "  [theme=dark] .colab-df-quickchart {\n",
              "      --bg-color: #3B4455;\n",
              "      --fill-color: #D2E3FC;\n",
              "      --hover-bg-color: #434B5C;\n",
              "      --hover-fill-color: #FFFFFF;\n",
              "      --disabled-bg-color: #3B4455;\n",
              "      --disabled-fill-color: #666;\n",
              "  }\n",
              "\n",
              "  .colab-df-quickchart {\n",
              "    background-color: var(--bg-color);\n",
              "    border: none;\n",
              "    border-radius: 50%;\n",
              "    cursor: pointer;\n",
              "    display: none;\n",
              "    fill: var(--fill-color);\n",
              "    height: 32px;\n",
              "    padding: 0;\n",
              "    width: 32px;\n",
              "  }\n",
              "\n",
              "  .colab-df-quickchart:hover {\n",
              "    background-color: var(--hover-bg-color);\n",
              "    box-shadow: 0 1px 2px rgba(60, 64, 67, 0.3), 0 1px 3px 1px rgba(60, 64, 67, 0.15);\n",
              "    fill: var(--button-hover-fill-color);\n",
              "  }\n",
              "\n",
              "  .colab-df-quickchart-complete:disabled,\n",
              "  .colab-df-quickchart-complete:disabled:hover {\n",
              "    background-color: var(--disabled-bg-color);\n",
              "    fill: var(--disabled-fill-color);\n",
              "    box-shadow: none;\n",
              "  }\n",
              "\n",
              "  .colab-df-spinner {\n",
              "    border: 2px solid var(--fill-color);\n",
              "    border-color: transparent;\n",
              "    border-bottom-color: var(--fill-color);\n",
              "    animation:\n",
              "      spin 1s steps(1) infinite;\n",
              "  }\n",
              "\n",
              "  @keyframes spin {\n",
              "    0% {\n",
              "      border-color: transparent;\n",
              "      border-bottom-color: var(--fill-color);\n",
              "      border-left-color: var(--fill-color);\n",
              "    }\n",
              "    20% {\n",
              "      border-color: transparent;\n",
              "      border-left-color: var(--fill-color);\n",
              "      border-top-color: var(--fill-color);\n",
              "    }\n",
              "    30% {\n",
              "      border-color: transparent;\n",
              "      border-left-color: var(--fill-color);\n",
              "      border-top-color: var(--fill-color);\n",
              "      border-right-color: var(--fill-color);\n",
              "    }\n",
              "    40% {\n",
              "      border-color: transparent;\n",
              "      border-right-color: var(--fill-color);\n",
              "      border-top-color: var(--fill-color);\n",
              "    }\n",
              "    60% {\n",
              "      border-color: transparent;\n",
              "      border-right-color: var(--fill-color);\n",
              "    }\n",
              "    80% {\n",
              "      border-color: transparent;\n",
              "      border-right-color: var(--fill-color);\n",
              "      border-bottom-color: var(--fill-color);\n",
              "    }\n",
              "    90% {\n",
              "      border-color: transparent;\n",
              "      border-bottom-color: var(--fill-color);\n",
              "    }\n",
              "  }\n",
              "</style>\n",
              "\n",
              "  <script>\n",
              "    async function quickchart(key) {\n",
              "      const quickchartButtonEl =\n",
              "        document.querySelector('#' + key + ' button');\n",
              "      quickchartButtonEl.disabled = true;  // To prevent multiple clicks.\n",
              "      quickchartButtonEl.classList.add('colab-df-spinner');\n",
              "      try {\n",
              "        const charts = await google.colab.kernel.invokeFunction(\n",
              "            'suggestCharts', [key], {});\n",
              "      } catch (error) {\n",
              "        console.error('Error during call to suggestCharts:', error);\n",
              "      }\n",
              "      quickchartButtonEl.classList.remove('colab-df-spinner');\n",
              "      quickchartButtonEl.classList.add('colab-df-quickchart-complete');\n",
              "    }\n",
              "    (() => {\n",
              "      let quickchartButtonEl =\n",
              "        document.querySelector('#df-3e02f40d-419d-4d3d-a59e-ce1ae585e948 button');\n",
              "      quickchartButtonEl.style.display =\n",
              "        google.colab.kernel.accessAllowed ? 'block' : 'none';\n",
              "    })();\n",
              "  </script>\n",
              "</div>\n",
              "    </div>\n",
              "  </div>\n"
            ]
          },
          "metadata": {},
          "execution_count": 19
        }
      ]
    },
    {
      "cell_type": "markdown",
      "source": [
        "Let's look at a `pairplot`"
      ],
      "metadata": {
        "id": "-XznlX51pYBw"
      }
    },
    {
      "cell_type": "code",
      "source": [
        "sns.pairplot(data=mdf, hue = 'Virus Present')"
      ],
      "metadata": {
        "id": "DuMZyYsKo-M7",
        "colab": {
          "base_uri": "https://localhost:8080/",
          "height": 530
        },
        "outputId": "629ba1a1-acf2-4ba1-e83e-4fe0157cef50"
      },
      "execution_count": null,
      "outputs": [
        {
          "output_type": "execute_result",
          "data": {
            "text/plain": [
              "<seaborn.axisgrid.PairGrid at 0x7f0219effb20>"
            ]
          },
          "metadata": {},
          "execution_count": 20
        },
        {
          "output_type": "display_data",
          "data": {
            "text/plain": [
              "<Figure size 602.236x500 with 6 Axes>"
            ],
            "image/png": "[encoded data removed]"
          },
          "metadata": {}
        }
      ]
    },
    {
      "cell_type": "markdown",
      "source": [
        "Create a Scatter Plot and Estimate a Line to Separate the Classes\n",
        "\n",
        ">- We made our data so that a line with a slope of -1 and a y-intercept of 11 will separate our classess pretty well. This won't be true in practice but will help illustrate how SVM work"
      ],
      "metadata": {
        "id": "fDI4IQYhqIV9"
      }
    },
    {
      "cell_type": "code",
      "source": [
        "sns.scatterplot(x='Med_1_mL', y)"
      ],
      "metadata": {
        "id": "75XWq56zqH_q"
      },
      "execution_count": null,
      "outputs": []
    },
    {
      "cell_type": "markdown",
      "source": [
        "---\n",
        "# End of Video 2\n",
        "\n",
        "---"
      ],
      "metadata": {
        "id": "nIJzVg3JrfDG"
      }
    },
    {
      "cell_type": "markdown",
      "source": [
        "# Fitting a Support Vector Machine\n",
        "\n",
        ">- In this lesson, we are going to fit a support vector classifier, explore model coefficients and support vectors, and explore SVC Hyper Parameters\n",
        ">- We are intentionally leaving out important concepts such as scaling variables or doing cross validation because the focus is on learning about the modeling technique and it's parameters\n",
        ">- Other lessons will cover scaling, data prep, cross validation, and more detail on hyper parameters\n",
        "\n",
        "Resources\n",
        ">- See [sklearn.svm.SVC doc](https://scikit-learn.org/stable/modules/generated/sklearn.svm.SVC.html)"
      ],
      "metadata": {
        "id": "N0BrkN5BoxCk"
      }
    },
    {
      "cell_type": "code",
      "source": [
        "from sklearn.svm import SVC"
      ],
      "metadata": {
        "id": "d2Gp89AptF_O"
      },
      "execution_count": null,
      "outputs": []
    },
    {
      "cell_type": "code",
      "source": [
        "# Check help for a list of parameters. We will explore some of these later"
      ],
      "metadata": {
        "id": "RvuJgz7mtLwf"
      },
      "execution_count": null,
      "outputs": []
    },
    {
      "cell_type": "markdown",
      "source": [
        "Define Your Data"
      ],
      "metadata": {
        "id": "AP25qn3Yt7UN"
      }
    },
    {
      "cell_type": "code",
      "source": [
        "y =mdf['Virus Present']\n",
        "X =mdf.drop('Virus Present', axis=1)"
      ],
      "metadata": {
        "id": "_QfzRXkdt8tJ"
      },
      "execution_count": null,
      "outputs": []
    },
    {
      "cell_type": "markdown",
      "source": [
        "Fit the Model"
      ],
      "metadata": {
        "id": "qzH9URylDDc-"
      }
    },
    {
      "cell_type": "code",
      "source": [
        "svc_model = SVC(kernel='linear', C=1000)\n",
        "svc_model.fit(X,y)"
      ],
      "metadata": {
        "id": "6SDdQA67Csdk",
        "colab": {
          "base_uri": "https://localhost:8080/",
          "height": 75
        },
        "outputId": "b0c2187a-ea04-4918-847c-1f8a5dbc5aa0"
      },
      "execution_count": null,
      "outputs": [
        {
          "output_type": "execute_result",
          "data": {
            "text/plain": [
              "SVC(C=1000, kernel='linear')"
            ],
            "text/html": [
              "<style>#sk-container-id-1 {color: black;background-color: white;}#sk-container-id-1 pre{padding: 0;}#sk-container-id-1 div.sk-toggleable {background-color: white;}#sk-container-id-1 label.sk-toggleable__label {cursor: pointer;display: block;width: 100%;margin-bottom: 0;padding: 0.3em;box-sizing: border-box;text-align: center;}#sk-container-id-1 label.sk-toggleable__label-arrow:before {content: \"▸\";float: left;margin-right: 0.25em;color: #696969;}#sk-container-id-1 label.sk-toggleable__label-arrow:hover:before {color: black;}#sk-container-id-1 div.sk-estimator:hover label.sk-toggleable__label-arrow:before {color: black;}#sk-container-id-1 div.sk-toggleable__content {max-height: 0;max-width: 0;overflow: hidden;text-align: left;background-color: #f0f8ff;}#sk-container-id-1 div.sk-toggleable__content pre {margin: 0.2em;color: black;border-radius: 0.25em;background-color: #f0f8ff;}#sk-container-id-1 input.sk-toggleable__control:checked~div.sk-toggleable__content {max-height: 200px;max-width: 100%;overflow: auto;}#sk-container-id-1 input.sk-toggleable__control:checked~label.sk-toggleable__label-arrow:before {content: \"▾\";}#sk-container-id-1 div.sk-estimator input.sk-toggleable__control:checked~label.sk-toggleable__label {background-color: #d4ebff;}#sk-container-id-1 div.sk-label input.sk-toggleable__control:checked~label.sk-toggleable__label {background-color: #d4ebff;}#sk-container-id-1 input.sk-hidden--visually {border: 0;clip: rect(1px 1px 1px 1px);clip: rect(1px, 1px, 1px, 1px);height: 1px;margin: -1px;overflow: hidden;padding: 0;position: absolute;width: 1px;}#sk-container-id-1 div.sk-estimator {font-family: monospace;background-color: #f0f8ff;border: 1px dotted black;border-radius: 0.25em;box-sizing: border-box;margin-bottom: 0.5em;}#sk-container-id-1 div.sk-estimator:hover {background-color: #d4ebff;}#sk-container-id-1 div.sk-parallel-item::after {content: \"\";width: 100%;border-bottom: 1px solid gray;flex-grow: 1;}#sk-container-id-1 div.sk-label:hover label.sk-toggleable__label {background-color: #d4ebff;}#sk-container-id-1 div.sk-serial::before {content: \"\";position: absolute;border-left: 1px solid gray;box-sizing: border-box;top: 0;bottom: 0;left: 50%;z-index: 0;}#sk-container-id-1 div.sk-serial {display: flex;flex-direction: column;align-items: center;background-color: white;padding-right: 0.2em;padding-left: 0.2em;position: relative;}#sk-container-id-1 div.sk-item {position: relative;z-index: 1;}#sk-container-id-1 div.sk-parallel {display: flex;align-items: stretch;justify-content: center;background-color: white;position: relative;}#sk-container-id-1 div.sk-item::before, #sk-container-id-1 div.sk-parallel-item::before {content: \"\";position: absolute;border-left: 1px solid gray;box-sizing: border-box;top: 0;bottom: 0;left: 50%;z-index: -1;}#sk-container-id-1 div.sk-parallel-item {display: flex;flex-direction: column;z-index: 1;position: relative;background-color: white;}#sk-container-id-1 div.sk-parallel-item:first-child::after {align-self: flex-end;width: 50%;}#sk-container-id-1 div.sk-parallel-item:last-child::after {align-self: flex-start;width: 50%;}#sk-container-id-1 div.sk-parallel-item:only-child::after {width: 0;}#sk-container-id-1 div.sk-dashed-wrapped {border: 1px dashed gray;margin: 0 0.4em 0.5em 0.4em;box-sizing: border-box;padding-bottom: 0.4em;background-color: white;}#sk-container-id-1 div.sk-label label {font-family: monospace;font-weight: bold;display: inline-block;line-height: 1.2em;}#sk-container-id-1 div.sk-label-container {text-align: center;}#sk-container-id-1 div.sk-container {/* jupyter's `normalize.less` sets `[hidden] { display: none; }` but bootstrap.min.css set `[hidden] { display: none !important; }` so we also need the `!important` here to be able to override the default hidden behavior on the sphinx rendered scikit-learn.org. See: https://github.com/scikit-learn/scikit-learn/issues/21755 */display: inline-block !important;position: relative;}#sk-container-id-1 div.sk-text-repr-fallback {display: none;}</style><div id=\"sk-container-id-1\" class=\"sk-top-container\"><div class=\"sk-text-repr-fallback\"><pre>SVC(C=1000, kernel=&#x27;linear&#x27;)</pre><b>In a Jupyter environment, please rerun this cell to show the HTML representation or trust the notebook. <br />On GitHub, the HTML representation is unable to render, please try loading this page with nbviewer.org.</b></div><div class=\"sk-container\" hidden><div class=\"sk-item\"><div class=\"sk-estimator sk-toggleable\"><input class=\"sk-toggleable__control sk-hidden--visually\" id=\"sk-estimator-id-1\" type=\"checkbox\" checked><label for=\"sk-estimator-id-1\" class=\"sk-toggleable__label sk-toggleable__label-arrow\">SVC</label><div class=\"sk-toggleable__content\"><pre>SVC(C=1000, kernel=&#x27;linear&#x27;)</pre></div></div></div></div></div>"
            ]
          },
          "metadata": {},
          "execution_count": 25
        }
      ]
    },
    {
      "cell_type": "markdown",
      "source": [
        "Visualize the Support Vectors\n",
        ">- Here we will use the function provided in the `scikit-learn` doc"
      ],
      "metadata": {
        "id": "68mAP4tRuVC3"
      }
    },
    {
      "cell_type": "code",
      "source": [
        "from svm_margin_plot import plot_svm_boundary"
      ],
      "metadata": {
        "id": "8E6b0m0fubxW"
      },
      "execution_count": null,
      "outputs": []
    },
    {
      "cell_type": "code",
      "source": [
        "plot_svm_boundary(svc_model, X,y)"
      ],
      "metadata": {
        "id": "4oQ5OGHJuggk",
        "colab": {
          "base_uri": "https://localhost:8080/",
          "height": 485
        },
        "outputId": "0b883e34-1625-404a-ae35-5a6111844720"
      },
      "execution_count": null,
      "outputs": [
        {
          "output_type": "stream",
          "name": "stderr",
          "text": [
            "/usr/local/lib/python3.10/dist-packages/sklearn/base.py:439: UserWarning: X does not have valid feature names, but SVC was fitted with feature names\n",
            "  warnings.warn(\n"
          ]
        },
        {
          "output_type": "display_data",
          "data": {
            "text/plain": [
              "<Figure size 640x480 with 1 Axes>"
            ],
            "image/png": "[encoded data removed]"
          },
          "metadata": {}
        }
      ]
    },
    {
      "cell_type": "markdown",
      "source": [
        "---\n",
        "# End of Video 3\n",
        "---"
      ],
      "metadata": {
        "id": "MSeaVj761nGr"
      }
    },
    {
      "cell_type": "markdown",
      "source": [
        "# Interpreting Support Vectors and Model Coefficients\n",
        "\n",
        "Support vectors and model coefficients work together to define the decision boundry in SVM. In this section we examine the support vectors and coefficients of our `svc_model`\n",
        "\n",
        "\n",
        "\n",
        "---"
      ],
      "metadata": {
        "id": "Bqd0rqdAvSRC"
      }
    },
    {
      "cell_type": "markdown",
      "source": [
        "## Support Vectors\n",
        "\n",
        ">- Support vectors show us the data points that are closest to the decision boundry\n",
        "\n",
        ">- Several attributes of the SVC model help us extract the support vectors\n",
        ">>- `support_` shows us the index position of the support vecgtors\n",
        ">>- `support_vectors_` shows us the values of the support vectors\n",
        ">- We can combine these into a dataframe to easily see the support vectors and the value of the target class for each\n",
        "\n"
      ],
      "metadata": {
        "id": "ot-m_AmV09xT"
      }
    },
    {
      "cell_type": "code",
      "source": [
        "svc_model.support_"
      ],
      "metadata": {
        "id": "FTIbDC9A2VvD",
        "colab": {
          "base_uri": "https://localhost:8080/"
        },
        "outputId": "8241236f-ef4a-4d84-f4e5-3a3a88803334"
      },
      "execution_count": null,
      "outputs": [
        {
          "output_type": "execute_result",
          "data": {
            "text/plain": [
              "array([118, 145, 193], dtype=int32)"
            ]
          },
          "metadata": {},
          "execution_count": 28
        }
      ]
    },
    {
      "cell_type": "code",
      "source": [
        "y[svc_model.support_]"
      ],
      "metadata": {
        "id": "jEcwK6Or30jM",
        "colab": {
          "base_uri": "https://localhost:8080/"
        },
        "outputId": "1be1ee36-fdad-4101-db8a-c1dfbfef22f3"
      },
      "execution_count": null,
      "outputs": [
        {
          "output_type": "execute_result",
          "data": {
            "text/plain": [
              "118    0\n",
              "145    0\n",
              "193    1\n",
              "Name: Virus Present, dtype: int64"
            ]
          },
          "metadata": {},
          "execution_count": 30
        }
      ]
    },
    {
      "cell_type": "markdown",
      "source": [
        "Now, let's create a dataframe of the support vectors and their their target values."
      ],
      "metadata": {
        "id": "P0pJRiNm5pND"
      }
    },
    {
      "cell_type": "code",
      "source": [
        "support_vectors = svc_model.support_vectors_\n",
        "\n",
        "svdf = pd.DataFrame(support_vectors, columns=X.columns)\n",
        "\n",
        "sv_target_values = y[svc_model.support_]\n",
        "\n",
        "svdf.index = sv_target_values\n",
        "\n",
        "svdf"
      ],
      "metadata": {
        "id": "mmEQeVL0wKsP",
        "colab": {
          "base_uri": "https://localhost:8080/",
          "height": 175
        },
        "outputId": "09621308-c72d-4d7e-ed50-e33ae1685f9e"
      },
      "execution_count": null,
      "outputs": [
        {
          "output_type": "execute_result",
          "data": {
            "text/plain": [
              "               Med_1_mL  Med_2_mL\n",
              "Virus Present                    \n",
              "0              6.683072  5.194277\n",
              "0              5.270603  6.696839\n",
              "1              4.859998  5.292483"
            ],
            "text/html": [
              "\n",
              "  <div id=\"df-e43eac7c-b645-4e66-9c89-0e3b261f4645\" class=\"colab-df-container\">\n",
              "    <div>\n",
              "<style scoped>\n",
              "    .dataframe tbody tr th:only-of-type {\n",
              "        vertical-align: middle;\n",
              "    }\n",
              "\n",
              "    .dataframe tbody tr th {\n",
              "        vertical-align: top;\n",
              "    }\n",
              "\n",
              "    .dataframe thead th {\n",
              "        text-align: right;\n",
              "    }\n",
              "</style>\n",
              "<table border=\"1\" class=\"dataframe\">\n",
              "  <thead>\n",
              "    <tr style=\"text-align: right;\">\n",
              "      <th></th>\n",
              "      <th>Med_1_mL</th>\n",
              "      <th>Med_2_mL</th>\n",
              "    </tr>\n",
              "    <tr>\n",
              "      <th>Virus Present</th>\n",
              "      <th></th>\n",
              "      <th></th>\n",
              "    </tr>\n",
              "  </thead>\n",
              "  <tbody>\n",
              "    <tr>\n",
              "      <th>0</th>\n",
              "      <td>6.683072</td>\n",
              "      <td>5.194277</td>\n",
              "    </tr>\n",
              "    <tr>\n",
              "      <th>0</th>\n",
              "      <td>5.270603</td>\n",
              "      <td>6.696839</td>\n",
              "    </tr>\n",
              "    <tr>\n",
              "      <th>1</th>\n",
              "      <td>4.859998</td>\n",
              "      <td>5.292483</td>\n",
              "    </tr>\n",
              "  </tbody>\n",
              "</table>\n",
              "</div>\n",
              "    <div class=\"colab-df-buttons\">\n",
              "\n",
              "  <div class=\"colab-df-container\">\n",
              "    <button class=\"colab-df-convert\" onclick=\"convertToInteractive('df-e43eac7c-b645-4e66-9c89-0e3b261f4645')\"\n",
              "            title=\"Convert this dataframe to an interactive table.\"\n",
              "            style=\"display:none;\">\n",
              "\n",
              "  <svg xmlns=\"http://www.w3.org/2000/svg\" height=\"24px\" viewBox=\"0 -960 960 960\">\n",
              "    <path d=\"M120-120v-720h720v720H120Zm60-500h600v-160H180v160Zm220 220h160v-160H400v160Zm0 220h160v-160H400v160ZM180-400h160v-160H180v160Zm440 0h160v-160H620v160ZM180-180h160v-160H180v160Zm440 0h160v-160H620v160Z\"/>\n",
              "  </svg>\n",
              "    </button>\n",
              "\n",
              "  <style>\n",
              "    .colab-df-container {\n",
              "      display:flex;\n",
              "      gap: 12px;\n",
              "    }\n",
              "\n",
              "    .colab-df-convert {\n",
              "      background-color: #E8F0FE;\n",
              "      border: none;\n",
              "      border-radius: 50%;\n",
              "      cursor: pointer;\n",
              "      display: none;\n",
              "      fill: #1967D2;\n",
              "      height: 32px;\n",
              "      padding: 0 0 0 0;\n",
              "      width: 32px;\n",
              "    }\n",
              "\n",
              "    .colab-df-convert:hover {\n",
              "      background-color: #E2EBFA;\n",
              "      box-shadow: 0px 1px 2px rgba(60, 64, 67, 0.3), 0px 1px 3px 1px rgba(60, 64, 67, 0.15);\n",
              "      fill: #174EA6;\n",
              "    }\n",
              "\n",
              "    .colab-df-buttons div {\n",
              "      margin-bottom: 4px;\n",
              "    }\n",
              "\n",
              "    [theme=dark] .colab-df-convert {\n",
              "      background-color: #3B4455;\n",
              "      fill: #D2E3FC;\n",
              "    }\n",
              "\n",
              "    [theme=dark] .colab-df-convert:hover {\n",
              "      background-color: #434B5C;\n",
              "      box-shadow: 0px 1px 3px 1px rgba(0, 0, 0, 0.15);\n",
              "      filter: drop-shadow(0px 1px 2px rgba(0, 0, 0, 0.3));\n",
              "      fill: #FFFFFF;\n",
              "    }\n",
              "  </style>\n",
              "\n",
              "    <script>\n",
              "      const buttonEl =\n",
              "        document.querySelector('#df-e43eac7c-b645-4e66-9c89-0e3b261f4645 button.colab-df-convert');\n",
              "      buttonEl.style.display =\n",
              "        google.colab.kernel.accessAllowed ? 'block' : 'none';\n",
              "\n",
              "      async function convertToInteractive(key) {\n",
              "        const element = document.querySelector('#df-e43eac7c-b645-4e66-9c89-0e3b261f4645');\n",
              "        const dataTable =\n",
              "          await google.colab.kernel.invokeFunction('convertToInteractive',\n",
              "                                                    [key], {});\n",
              "        if (!dataTable) return;\n",
              "\n",
              "        const docLinkHtml = 'Like what you see? Visit the ' +\n",
              "          '<a target=\"_blank\" href=https://colab.research.google.com/notebooks/data_table.ipynb>data table notebook</a>'\n",
              "          + ' to learn more about interactive tables.';\n",
              "        element.innerHTML = '';\n",
              "        dataTable['output_type'] = 'display_data';\n",
              "        await google.colab.output.renderOutput(dataTable, element);\n",
              "        const docLink = document.createElement('div');\n",
              "        docLink.innerHTML = docLinkHtml;\n",
              "        element.appendChild(docLink);\n",
              "      }\n",
              "    </script>\n",
              "  </div>\n",
              "\n",
              "\n",
              "<div id=\"df-4df86c5c-3496-4e2a-9e8b-2f2294a08dab\">\n",
              "  <button class=\"colab-df-quickchart\" onclick=\"quickchart('df-4df86c5c-3496-4e2a-9e8b-2f2294a08dab')\"\n",
              "            title=\"Suggest charts\"\n",
              "            style=\"display:none;\">\n",
              "\n",
              "<svg xmlns=\"http://www.w3.org/2000/svg\" height=\"24px\"viewBox=\"0 0 24 24\"\n",
              "     width=\"24px\">\n",
              "    <g>\n",
              "        <path d=\"M19 3H5c-1.1 0-2 .9-2 2v14c0 1.1.9 2 2 2h14c1.1 0 2-.9 2-2V5c0-1.1-.9-2-2-2zM9 17H7v-7h2v7zm4 0h-2V7h2v10zm4 0h-2v-4h2v4z\"/>\n",
              "    </g>\n",
              "</svg>\n",
              "  </button>\n",
              "\n",
              "<style>\n",
              "  .colab-df-quickchart {\n",
              "      --bg-color: #E8F0FE;\n",
              "      --fill-color: #1967D2;\n",
              "      --hover-bg-color: #E2EBFA;\n",
              "      --hover-fill-color: #174EA6;\n",
              "      --disabled-fill-color: #AAA;\n",
              "      --disabled-bg-color: #DDD;\n",
              "  }\n",
              "\n",
              "  [theme=dark] .colab-df-quickchart {\n",
              "      --bg-color: #3B4455;\n",
              "      --fill-color: #D2E3FC;\n",
              "      --hover-bg-color: #434B5C;\n",
              "      --hover-fill-color: #FFFFFF;\n",
              "      --disabled-bg-color: #3B4455;\n",
              "      --disabled-fill-color: #666;\n",
              "  }\n",
              "\n",
              "  .colab-df-quickchart {\n",
              "    background-color: var(--bg-color);\n",
              "    border: none;\n",
              "    border-radius: 50%;\n",
              "    cursor: pointer;\n",
              "    display: none;\n",
              "    fill: var(--fill-color);\n",
              "    height: 32px;\n",
              "    padding: 0;\n",
              "    width: 32px;\n",
              "  }\n",
              "\n",
              "  .colab-df-quickchart:hover {\n",
              "    background-color: var(--hover-bg-color);\n",
              "    box-shadow: 0 1px 2px rgba(60, 64, 67, 0.3), 0 1px 3px 1px rgba(60, 64, 67, 0.15);\n",
              "    fill: var(--button-hover-fill-color);\n",
              "  }\n",
              "\n",
              "  .colab-df-quickchart-complete:disabled,\n",
              "  .colab-df-quickchart-complete:disabled:hover {\n",
              "    background-color: var(--disabled-bg-color);\n",
              "    fill: var(--disabled-fill-color);\n",
              "    box-shadow: none;\n",
              "  }\n",
              "\n",
              "  .colab-df-spinner {\n",
              "    border: 2px solid var(--fill-color);\n",
              "    border-color: transparent;\n",
              "    border-bottom-color: var(--fill-color);\n",
              "    animation:\n",
              "      spin 1s steps(1) infinite;\n",
              "  }\n",
              "\n",
              "  @keyframes spin {\n",
              "    0% {\n",
              "      border-color: transparent;\n",
              "      border-bottom-color: var(--fill-color);\n",
              "      border-left-color: var(--fill-color);\n",
              "    }\n",
              "    20% {\n",
              "      border-color: transparent;\n",
              "      border-left-color: var(--fill-color);\n",
              "      border-top-color: var(--fill-color);\n",
              "    }\n",
              "    30% {\n",
              "      border-color: transparent;\n",
              "      border-left-color: var(--fill-color);\n",
              "      border-top-color: var(--fill-color);\n",
              "      border-right-color: var(--fill-color);\n",
              "    }\n",
              "    40% {\n",
              "      border-color: transparent;\n",
              "      border-right-color: var(--fill-color);\n",
              "      border-top-color: var(--fill-color);\n",
              "    }\n",
              "    60% {\n",
              "      border-color: transparent;\n",
              "      border-right-color: var(--fill-color);\n",
              "    }\n",
              "    80% {\n",
              "      border-color: transparent;\n",
              "      border-right-color: var(--fill-color);\n",
              "      border-bottom-color: var(--fill-color);\n",
              "    }\n",
              "    90% {\n",
              "      border-color: transparent;\n",
              "      border-bottom-color: var(--fill-color);\n",
              "    }\n",
              "  }\n",
              "</style>\n",
              "\n",
              "  <script>\n",
              "    async function quickchart(key) {\n",
              "      const quickchartButtonEl =\n",
              "        document.querySelector('#' + key + ' button');\n",
              "      quickchartButtonEl.disabled = true;  // To prevent multiple clicks.\n",
              "      quickchartButtonEl.classList.add('colab-df-spinner');\n",
              "      try {\n",
              "        const charts = await google.colab.kernel.invokeFunction(\n",
              "            'suggestCharts', [key], {});\n",
              "      } catch (error) {\n",
              "        console.error('Error during call to suggestCharts:', error);\n",
              "      }\n",
              "      quickchartButtonEl.classList.remove('colab-df-spinner');\n",
              "      quickchartButtonEl.classList.add('colab-df-quickchart-complete');\n",
              "    }\n",
              "    (() => {\n",
              "      let quickchartButtonEl =\n",
              "        document.querySelector('#df-4df86c5c-3496-4e2a-9e8b-2f2294a08dab button');\n",
              "      quickchartButtonEl.style.display =\n",
              "        google.colab.kernel.accessAllowed ? 'block' : 'none';\n",
              "    })();\n",
              "  </script>\n",
              "</div>\n",
              "    </div>\n",
              "  </div>\n"
            ]
          },
          "metadata": {},
          "execution_count": 31
        }
      ]
    },
    {
      "cell_type": "markdown",
      "source": [
        "## Model Coefficients\n",
        "\n",
        "Support vectors and model coefficients work together to define the decision boundry in SVM. Since we used the `linear` kernel the coefficients can be interpreted with the following guidelines:\n",
        ">- When using non-linear kernals the interpretation of coefficients becomes more complex and difficult\n",
        "\n",
        "## Sign of Coefficients:\n",
        "\n",
        ">- The sign of each coefficient (positive or negative) indicates the direction of the impact of the corresponding feature on the classification decision.\n",
        ">- A positive coefficient for a feature means that an increase in the feature's value will contribute to the prediction of one class, while a negative coefficient implies that an increase in the feature's value will contribute to the prediction of the other class.\n",
        ">- In general, the larger the absolute value of the coefficent, the more influential a feature is\n",
        "\n",
        "## Magnitude of the Coefficients\n",
        ">- The magnitude of the coefficients represents the strength of the influence of each feature on the decision boundary.\n",
        ">- Larger magnitude coefficients suggest a more substantial impact on the classification decision.\n",
        ">- Features with larger coefficients contribute more to the determination of the decision boundary.\n",
        "\n",
        "## Importance of Features\n",
        ">- Features with larger, non-zero coefficients are considered more important in the classification decision.\n",
        ">- Features with coefficients close to zero have a minimal impact on the decision boundary and may be less relevant for the classification task.\n",
        "\n",
        "## Interpretability\n",
        "\n",
        ">- When coefficients are associated with specific features, it allows for interpretability. You can interpret the positive or negative contribution of each feature based on the sign of its coefficient.\n",
        ">- For example, in a binary classification problem, if the coefficient for a feature is positive, an increase in that feature's value will likely move the prediction toward the positive class.\n",
        "\n",
        "---"
      ],
      "metadata": {
        "id": "_Cu-uw3P4EEl"
      }
    },
    {
      "cell_type": "code",
      "source": [],
      "metadata": {
        "id": "38WQ72tbu2J8"
      },
      "execution_count": null,
      "outputs": []
    },
    {
      "cell_type": "markdown",
      "source": [
        "### Interpreting the Coefficients\n",
        "\n",
        ">- Both features show a negative coefficient indicating that as dosages of both treatments go up, the mice classified as infected (the \"1\" class) go down\n",
        ">- `Med_1_mL` has a slightly higher coefficient which would indicate it has a little bit more influence on predicting which mice will still be infected after treatment"
      ],
      "metadata": {
        "id": "oEI9Cc9o6K36"
      }
    },
    {
      "cell_type": "markdown",
      "source": [
        "---\n",
        "# End of Video 4\n",
        "\n",
        "---"
      ],
      "metadata": {
        "id": "rnrNt5ZX6EMC"
      }
    },
    {
      "cell_type": "markdown",
      "source": [
        "# SVC Hyper Parameters\n",
        "\n",
        "Hyper Parameters allow us to fine tune machine learning models. In this section we are going to explore some of the commonly adjusted hyper parmeters for SVC."
      ],
      "metadata": {
        "id": "nvMwDVYOPNfJ"
      }
    },
    {
      "cell_type": "markdown",
      "source": [
        "## C\n",
        "\n",
        "The `C` parameter in the Support Vector Classifier is a regularization parameter that determines the strength of the regularization. It balances the desire to achieve a low training error (fit the training data well) against the goal of having a low testing error (generalize well to new, unseen data).\n",
        "\n",
        ">- Basically what the means is for lower values of `C` we are allowing more cases to fall within the margin wider. If we increase `C` we are allowing less cases to fall within the margin\n",
        "\n",
        "\n"
      ],
      "metadata": {
        "id": "XXvKjhPDPfae"
      }
    },
    {
      "cell_type": "markdown",
      "source": [
        "Now we will call `plot_svm_boundary()` with this new model to show the difference from our original model."
      ],
      "metadata": {
        "id": "K0q9_DDtRSN3"
      }
    },
    {
      "cell_type": "code",
      "source": [
        "model1 = SVC(kernel)"
      ],
      "metadata": {
        "id": "lAwhJm2cQ6zP"
      },
      "execution_count": null,
      "outputs": []
    },
    {
      "cell_type": "markdown",
      "source": [
        "## Kernel\n",
        "\n",
        "The kernel parameter specifies the type of kernel function to be used in the SVM model. The kernel function determines the shape of the decision boundary in the feature space.\n",
        "\n",
        "SVMs work by finding a hyperplane in the feature space that separates the classes. Kernel functions allow the SVM to implicitly map the input data into a higher-dimensional space, making it possible to find non-linear decision boundaries.\n",
        "\n",
        "The most common kernels for SVC are the `linear`, `rbf`, and polynomial kernels.\n",
        "\n",
        "Let's look at some examples in the next few cells."
      ],
      "metadata": {
        "id": "OtFPsj8daOxk"
      }
    },
    {
      "cell_type": "markdown",
      "source": [
        "### `rbf` Kernel"
      ],
      "metadata": {
        "id": "zxLjXd0geM8R"
      }
    },
    {
      "cell_type": "code",
      "source": [],
      "metadata": {
        "id": "UdosUtwDb4qj"
      },
      "execution_count": null,
      "outputs": []
    },
    {
      "cell_type": "markdown",
      "source": [
        "### `polynomial` Kernels"
      ],
      "metadata": {
        "id": "0fZFhpg1eSjO"
      }
    },
    {
      "cell_type": "code",
      "source": [],
      "metadata": {
        "id": "Mg2tIwsqeZGI"
      },
      "execution_count": null,
      "outputs": []
    },
    {
      "cell_type": "markdown",
      "source": [
        "One more, cubic polynomial..."
      ],
      "metadata": {
        "id": "9HA4W5wselJP"
      }
    },
    {
      "cell_type": "code",
      "source": [],
      "metadata": {
        "id": "LOSZzQGYejy5"
      },
      "execution_count": null,
      "outputs": []
    },
    {
      "cell_type": "markdown",
      "source": [
        "## gamma\n",
        "\n",
        "The gamma parameter is a regularization parameter that influences the shape of the decision boundary by controlling the width of the Gaussian (RBF) kernel. It determines the reach of individual data points, affecting the locality of the decision boundary.\n",
        "\n",
        ">- A small gamma value results in a wider Gaussian kernel, leading to a smoother decision boundary that is influenced by a larger neighborhood of points\n",
        ">- A large gamma value narrows the Gaussian kernel, making the decision boundary more influenced by a smaller, more localized set of points"
      ],
      "metadata": {
        "id": "NZKbxYyBb6a0"
      }
    },
    {
      "cell_type": "code",
      "source": [],
      "metadata": {
        "id": "sb4TLGBcc6g8"
      },
      "execution_count": null,
      "outputs": []
    },
    {
      "cell_type": "markdown",
      "source": [
        "## How to choose parameters?\n",
        "\n",
        "It can be difficult to know what values to set for hyper parameters. Thankfully, `scikit-learn` provides the `GridSearchCV` library to find the \"best\" hyper parameters for us.\n",
        "\n",
        "We will cover how to use `GridSearchCV` in another lesson so we could come back here after learning how to perform a grid search to test what the best parameters are for an SVC model.  "
      ],
      "metadata": {
        "id": "BH_aYAYPinLU"
      }
    },
    {
      "cell_type": "markdown",
      "source": [
        "---\n",
        "# End of Video 5 and Lesson Videos\n",
        "---"
      ],
      "metadata": {
        "id": "jBo-WcU-jB-7"
      }
    },
    {
      "cell_type": "markdown",
      "source": [
        "# Not a Video Lecture...Using `GridSearchCV` to Find Optimal Hyper Parameters\n",
        "\n",
        ">- Come back to this after the `GridSearchCV` Lesson\n",
        "\n"
      ],
      "metadata": {
        "id": "Enn1fwoFjFqG"
      }
    },
    {
      "cell_type": "code",
      "source": [],
      "metadata": {
        "id": "QGQIkAeqk1J0"
      },
      "execution_count": null,
      "outputs": []
    },
    {
      "cell_type": "code",
      "source": [],
      "metadata": {
        "id": "yax_C053k4Ry"
      },
      "execution_count": null,
      "outputs": []
    },
    {
      "cell_type": "code",
      "source": [],
      "metadata": {
        "id": "ohSZ9M19k7md"
      },
      "execution_count": null,
      "outputs": []
    },
    {
      "cell_type": "code",
      "source": [],
      "metadata": {
        "id": "1RK7grjQl0Ul"
      },
      "execution_count": null,
      "outputs": []
    },
    {
      "cell_type": "code",
      "source": [],
      "metadata": {
        "id": "gZBCzlC7k-u4"
      },
      "execution_count": null,
      "outputs": []
    },
    {
      "cell_type": "code",
      "source": [],
      "metadata": {
        "id": "WZ_FqsxmlHs_"
      },
      "execution_count": null,
      "outputs": []
    }
  ]
}